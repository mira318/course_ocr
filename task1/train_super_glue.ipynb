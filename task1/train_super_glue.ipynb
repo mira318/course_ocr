{
 "cells": [
  {
   "cell_type": "code",
   "execution_count": 1,
   "id": "e63f8c69",
   "metadata": {},
   "outputs": [
    {
     "name": "stderr",
     "output_type": "stream",
     "text": [
      "/home/ichuviliaeva/miniconda3/envs/ocr_course/lib/python3.8/site-packages/tqdm/auto.py:22: TqdmWarning: IProgress not found. Please update jupyter and ipywidgets. See https://ipywidgets.readthedocs.io/en/stable/user_install.html\n",
      "  from .autonotebook import tqdm as notebook_tqdm\n"
     ]
    }
   ],
   "source": [
    "import matplotlib\n",
    "import numpy as np\n",
    "import os\n",
    "import torch\n",
    "import cv2\n",
    "import gc"
   ]
  },
  {
   "cell_type": "code",
   "execution_count": 2,
   "id": "3dc79b94",
   "metadata": {},
   "outputs": [],
   "source": [
    "from pathlib import Path\n",
    "from course_ocr_t1.data import MidvPackage\n",
    "from tqdm import tqdm\n",
    "from matplotlib import pyplot as plt\n",
    "from PIL import Image\n",
    "from torch.autograd import Variable"
   ]
  },
  {
   "cell_type": "markdown",
   "id": "99b0cf81",
   "metadata": {},
   "source": [
    "Репозиторий с SuperGlue склонирован в соседнюю папку"
   ]
  },
  {
   "cell_type": "code",
   "execution_count": 3,
   "id": "acc92bc1",
   "metadata": {},
   "outputs": [
    {
     "name": "stdout",
     "output_type": "stream",
     "text": [
      "/home/ichuviliaeva/ocr_course/course_ocr/task1/SuperGluePretrainedNetwork\n"
     ]
    }
   ],
   "source": [
    "%cd SuperGluePretrainedNetwork/"
   ]
  },
  {
   "cell_type": "code",
   "execution_count": 4,
   "id": "3b55e086",
   "metadata": {},
   "outputs": [],
   "source": [
    "# from models.superpoint import SuperPoint\n",
    "from models.utils import read_image\n",
    "from models.superglue import SuperGlue"
   ]
  },
  {
   "cell_type": "code",
   "execution_count": 5,
   "id": "3534b58b",
   "metadata": {},
   "outputs": [],
   "source": [
    "os.environ['CUDA_VISIBLE_DEVICES'] = \"2\"\n",
    "gpu = torch.device('cuda:0')"
   ]
  },
  {
   "cell_type": "code",
   "execution_count": 6,
   "id": "594b45e7",
   "metadata": {},
   "outputs": [
    {
     "name": "stdout",
     "output_type": "stream",
     "text": [
      "gt_root =  /DATA/ichuviliaeva/midv500_compressed/12_deu_drvlic_new/ground_truth\n",
      "img_root =  /DATA/ichuviliaeva/midv500_compressed/12_deu_drvlic_new/images\n",
      "gt_root =  /DATA/ichuviliaeva/midv500_compressed/33_mac_id/ground_truth\n",
      "img_root =  /DATA/ichuviliaeva/midv500_compressed/33_mac_id/images\n",
      "gt_root =  /DATA/ichuviliaeva/midv500_compressed/50_xpo_id/ground_truth\n",
      "img_root =  /DATA/ichuviliaeva/midv500_compressed/50_xpo_id/images\n",
      "gt_root =  /DATA/ichuviliaeva/midv500_compressed/38_rou_drvlic/ground_truth\n",
      "img_root =  /DATA/ichuviliaeva/midv500_compressed/38_rou_drvlic/images\n",
      "gt_root =  /DATA/ichuviliaeva/midv500_compressed/27_hrv_passport/ground_truth\n",
      "img_root =  /DATA/ichuviliaeva/midv500_compressed/27_hrv_passport/images\n",
      "gt_root =  /DATA/ichuviliaeva/midv500_compressed/44_ukr_id/ground_truth\n",
      "img_root =  /DATA/ichuviliaeva/midv500_compressed/44_ukr_id/images\n",
      "gt_root =  /DATA/ichuviliaeva/midv500_compressed/23_fin_drvlic/ground_truth\n",
      "img_root =  /DATA/ichuviliaeva/midv500_compressed/23_fin_drvlic/images\n",
      "gt_root =  /DATA/ichuviliaeva/midv500_compressed/25_grc_passport/ground_truth\n",
      "img_root =  /DATA/ichuviliaeva/midv500_compressed/25_grc_passport/images\n",
      "gt_root =  /DATA/ichuviliaeva/midv500_compressed/14_deu_id_new/ground_truth\n",
      "img_root =  /DATA/ichuviliaeva/midv500_compressed/14_deu_id_new/images\n",
      "gt_root =  /DATA/ichuviliaeva/midv500_compressed/21_esp_id_old/ground_truth\n",
      "img_root =  /DATA/ichuviliaeva/midv500_compressed/21_esp_id_old/images\n",
      "gt_root =  /DATA/ichuviliaeva/midv500_compressed/13_deu_drvlic_old/ground_truth\n",
      "img_root =  /DATA/ichuviliaeva/midv500_compressed/13_deu_drvlic_old/images\n",
      "gt_root =  /DATA/ichuviliaeva/midv500_compressed/31_jpn_drvlic/ground_truth\n",
      "img_root =  /DATA/ichuviliaeva/midv500_compressed/31_jpn_drvlic/images\n",
      "gt_root =  /DATA/ichuviliaeva/midv500_compressed/43_tur_id/ground_truth\n",
      "img_root =  /DATA/ichuviliaeva/midv500_compressed/43_tur_id/images\n",
      "gt_root =  /DATA/ichuviliaeva/midv500_compressed/05_aze_passport/ground_truth\n",
      "img_root =  /DATA/ichuviliaeva/midv500_compressed/05_aze_passport/images\n",
      "gt_root =  /DATA/ichuviliaeva/midv500_compressed/36_pol_drvlic/ground_truth\n",
      "img_root =  /DATA/ichuviliaeva/midv500_compressed/36_pol_drvlic/images\n",
      "gt_root =  /DATA/ichuviliaeva/midv500_compressed/35_nor_drvlic/ground_truth\n",
      "img_root =  /DATA/ichuviliaeva/midv500_compressed/35_nor_drvlic/images\n",
      "gt_root =  /DATA/ichuviliaeva/midv500_compressed/28_hun_passport/ground_truth\n",
      "img_root =  /DATA/ichuviliaeva/midv500_compressed/28_hun_passport/images\n",
      "gt_root =  /DATA/ichuviliaeva/midv500_compressed/32_lva_passport/ground_truth\n",
      "img_root =  /DATA/ichuviliaeva/midv500_compressed/32_lva_passport/images\n",
      "gt_root =  /DATA/ichuviliaeva/midv500_compressed/18_dza_passport/ground_truth\n",
      "img_root =  /DATA/ichuviliaeva/midv500_compressed/18_dza_passport/images\n",
      "gt_root =  /DATA/ichuviliaeva/midv500_compressed/03_aut_id_old/ground_truth\n",
      "img_root =  /DATA/ichuviliaeva/midv500_compressed/03_aut_id_old/images\n",
      "gt_root =  /DATA/ichuviliaeva/midv500_compressed/16_deu_passport_new/ground_truth\n",
      "img_root =  /DATA/ichuviliaeva/midv500_compressed/16_deu_passport_new/images\n",
      "gt_root =  /DATA/ichuviliaeva/midv500_compressed/17_deu_passport_old/ground_truth\n",
      "img_root =  /DATA/ichuviliaeva/midv500_compressed/17_deu_passport_old/images\n",
      "gt_root =  /DATA/ichuviliaeva/midv500_compressed/45_ukr_passport/ground_truth\n",
      "img_root =  /DATA/ichuviliaeva/midv500_compressed/45_ukr_passport/images\n",
      "gt_root =  /DATA/ichuviliaeva/midv500_compressed/26_hrv_drvlic/ground_truth\n",
      "img_root =  /DATA/ichuviliaeva/midv500_compressed/26_hrv_drvlic/images\n",
      "gt_root =  /DATA/ichuviliaeva/midv500_compressed/22_est_id/ground_truth\n",
      "img_root =  /DATA/ichuviliaeva/midv500_compressed/22_est_id/images\n",
      "gt_root =  /DATA/ichuviliaeva/midv500_compressed/39_rus_internalpassport/ground_truth\n",
      "img_root =  /DATA/ichuviliaeva/midv500_compressed/39_rus_internalpassport/images\n",
      "gt_root =  /DATA/ichuviliaeva/midv500_compressed/34_mda_passport/ground_truth\n",
      "img_root =  /DATA/ichuviliaeva/midv500_compressed/34_mda_passport/images\n",
      "gt_root =  /DATA/ichuviliaeva/midv500_compressed/40_srb_id/ground_truth\n",
      "img_root =  /DATA/ichuviliaeva/midv500_compressed/40_srb_id/images\n",
      "gt_root =  /DATA/ichuviliaeva/midv500_compressed/04_aut_id/ground_truth\n",
      "img_root =  /DATA/ichuviliaeva/midv500_compressed/04_aut_id/images\n",
      "gt_root =  /DATA/ichuviliaeva/midv500_compressed/29_irn_drvlic/ground_truth\n",
      "img_root =  /DATA/ichuviliaeva/midv500_compressed/29_irn_drvlic/images\n",
      "gt_root =  /DATA/ichuviliaeva/midv500_compressed/01_alb_id/ground_truth\n",
      "img_root =  /DATA/ichuviliaeva/midv500_compressed/01_alb_id/images\n",
      "gt_root =  /DATA/ichuviliaeva/midv500_compressed/46_ury_passport/ground_truth\n",
      "img_root =  /DATA/ichuviliaeva/midv500_compressed/46_ury_passport/images\n",
      "gt_root =  /DATA/ichuviliaeva/midv500_compressed/15_deu_id_old/ground_truth\n",
      "img_root =  /DATA/ichuviliaeva/midv500_compressed/15_deu_id_old/images\n",
      "gt_root =  /DATA/ichuviliaeva/midv500_compressed/37_prt_id/ground_truth\n",
      "img_root =  /DATA/ichuviliaeva/midv500_compressed/37_prt_id/images\n",
      "gt_root =  /DATA/ichuviliaeva/midv500_compressed/09_chn_id/ground_truth\n",
      "img_root =  /DATA/ichuviliaeva/midv500_compressed/09_chn_id/images\n",
      "gt_root =  /DATA/ichuviliaeva/midv500_compressed/02_aut_drvlic_new/ground_truth\n",
      "img_root =  /DATA/ichuviliaeva/midv500_compressed/02_aut_drvlic_new/images\n",
      "gt_root =  /DATA/ichuviliaeva/midv500_compressed/42_svk_id/ground_truth\n",
      "img_root =  /DATA/ichuviliaeva/midv500_compressed/42_svk_id/images\n",
      "gt_root =  /DATA/ichuviliaeva/midv500_compressed/20_esp_id_new/ground_truth\n",
      "img_root =  /DATA/ichuviliaeva/midv500_compressed/20_esp_id_new/images\n",
      "gt_root =  /DATA/ichuviliaeva/midv500_compressed/24_fin_id/ground_truth\n",
      "img_root =  /DATA/ichuviliaeva/midv500_compressed/24_fin_id/images\n",
      "gt_root =  /DATA/ichuviliaeva/midv500_compressed/30_ita_drvlic/ground_truth\n",
      "img_root =  /DATA/ichuviliaeva/midv500_compressed/30_ita_drvlic/images\n",
      "gt_root =  /DATA/ichuviliaeva/midv500_compressed/07_chl_id/ground_truth\n",
      "img_root =  /DATA/ichuviliaeva/midv500_compressed/07_chl_id/images\n",
      "gt_root =  /DATA/ichuviliaeva/midv500_compressed/08_chn_homereturn/ground_truth\n",
      "img_root =  /DATA/ichuviliaeva/midv500_compressed/08_chn_homereturn/images\n",
      "gt_root =  /DATA/ichuviliaeva/midv500_compressed/49_usa_ssn82/ground_truth\n",
      "img_root =  /DATA/ichuviliaeva/midv500_compressed/49_usa_ssn82/images\n",
      "gt_root =  /DATA/ichuviliaeva/midv500_compressed/19_esp_drvlic/ground_truth\n",
      "img_root =  /DATA/ichuviliaeva/midv500_compressed/19_esp_drvlic/images\n",
      "gt_root =  /DATA/ichuviliaeva/midv500_compressed/06_bra_passport/ground_truth\n",
      "img_root =  /DATA/ichuviliaeva/midv500_compressed/06_bra_passport/images\n",
      "gt_root =  /DATA/ichuviliaeva/midv500_compressed/48_usa_passportcard/ground_truth\n",
      "img_root =  /DATA/ichuviliaeva/midv500_compressed/48_usa_passportcard/images\n",
      "gt_root =  /DATA/ichuviliaeva/midv500_compressed/11_cze_passport/ground_truth\n",
      "img_root =  /DATA/ichuviliaeva/midv500_compressed/11_cze_passport/images\n",
      "gt_root =  /DATA/ichuviliaeva/midv500_compressed/10_cze_id/ground_truth\n",
      "img_root =  /DATA/ichuviliaeva/midv500_compressed/10_cze_id/images\n",
      "gt_root =  /DATA/ichuviliaeva/midv500_compressed/41_srb_passport/ground_truth\n",
      "img_root =  /DATA/ichuviliaeva/midv500_compressed/41_srb_passport/images\n",
      "gt_root =  /DATA/ichuviliaeva/midv500_compressed/47_usa_bordercrossing/ground_truth\n",
      "img_root =  /DATA/ichuviliaeva/midv500_compressed/47_usa_bordercrossing/images\n"
     ]
    },
    {
     "data": {
      "text/plain": [
       "(50, course_ocr_t1.data.MidvPackage)"
      ]
     },
     "execution_count": 6,
     "metadata": {},
     "output_type": "execute_result"
    }
   ],
   "source": [
    "DATASET_PATH = Path('/DATA/ichuviliaeva/midv500_compressed/')\n",
    "assert DATASET_PATH.exists(), DATASET_PATH.absolute()\n",
    "data_packs = MidvPackage.read_midv500_dataset(DATASET_PATH)\n",
    "len(data_packs), type(data_packs[0])"
   ]
  },
  {
   "cell_type": "code",
   "execution_count": null,
   "id": "9ab04eb2",
   "metadata": {},
   "outputs": [],
   "source": []
  },
  {
   "cell_type": "code",
   "execution_count": null,
   "id": "5006c7df",
   "metadata": {},
   "outputs": [],
   "source": []
  },
  {
   "cell_type": "code",
   "execution_count": null,
   "id": "fcc1dbf3",
   "metadata": {},
   "outputs": [],
   "source": []
  },
  {
   "cell_type": "code",
   "execution_count": null,
   "id": "dce5b974",
   "metadata": {},
   "outputs": [],
   "source": []
  },
  {
   "cell_type": "code",
   "execution_count": 24,
   "id": "25841bfa",
   "metadata": {},
   "outputs": [
    {
     "name": "stdout",
     "output_type": "stream",
     "text": [
      "Loaded SuperPoint model\n"
     ]
    }
   ],
   "source": [
    "spoint = SuperPoint({'keypoint_threshold': 0.05}).to(gpu)"
   ]
  },
  {
   "cell_type": "code",
   "execution_count": null,
   "id": "61319b42",
   "metadata": {},
   "outputs": [],
   "source": []
  },
  {
   "cell_type": "code",
   "execution_count": null,
   "id": "75b2baf2",
   "metadata": {},
   "outputs": [],
   "source": []
  },
  {
   "cell_type": "code",
   "execution_count": null,
   "id": "9c877fba",
   "metadata": {},
   "outputs": [],
   "source": []
  },
  {
   "cell_type": "code",
   "execution_count": 25,
   "id": "98e8724b",
   "metadata": {},
   "outputs": [],
   "source": [
    "kp_templates = []\n",
    "# image_t_templates = []\n",
    "kp_items = []\n",
    "# image_t_items = []\n",
    "Hs = []"
   ]
  },
  {
   "cell_type": "code",
   "execution_count": 26,
   "id": "6921ab33",
   "metadata": {
    "scrolled": false
   },
   "outputs": [
    {
     "name": "stderr",
     "output_type": "stream",
     "text": [
      "\r",
      "  0%|                                                                        | 0/50 [00:00<?, ?it/s]"
     ]
    },
    {
     "name": "stdout",
     "output_type": "stream",
     "text": [
      "Warning: input resolution is very large, results may vary\n"
     ]
    },
    {
     "name": "stderr",
     "output_type": "stream",
     "text": [
      "\r",
      "  2%|█▎                                                              | 1/50 [00:07<05:52,  7.19s/it]"
     ]
    },
    {
     "name": "stdout",
     "output_type": "stream",
     "text": [
      "Warning: input resolution is very large, results may vary\n"
     ]
    },
    {
     "name": "stderr",
     "output_type": "stream",
     "text": [
      " 22%|█████████████▊                                                 | 11/50 [01:16<04:26,  6.84s/it]"
     ]
    },
    {
     "name": "stdout",
     "output_type": "stream",
     "text": [
      "Warning: input resolution is very large, results may vary\n"
     ]
    },
    {
     "name": "stderr",
     "output_type": "stream",
     "text": [
      "100%|███████████████████████████████████████████████████████████████| 50/50 [05:38<00:00,  6.76s/it]\n"
     ]
    }
   ],
   "source": [
    "for dp in tqdm(data_packs):\n",
    "    template_img, template_img_t, _ = read_image(\n",
    "        dp.template_item.img_path,\n",
    "        device=gpu,\n",
    "        resize=(int(dp.template_item.image_size[0]), int(dp.template_item.image_size[1])), \n",
    "        rotation=0, \n",
    "        resize_float=True\n",
    "    )\n",
    "        \n",
    "    kps = spoint({'image': template_img_t})\n",
    "    for k in kps:\n",
    "        if type(kps[k]) == torch.Tensor:\n",
    "            kps[k] = kps[k].detach().cpu()\n",
    "        else:\n",
    "            kps[k] = torch.stack(kps[k]).detach().cpu() # запомнить, что сделали stack здесь\n",
    "                 \n",
    "    kp_templates.append(kps)\n",
    "    # image_t_templates.append(template_img_t.detach().cpu())\n",
    "    \n",
    "    w, h = dp.template_item.image_size\n",
    "    h = float(h)\n",
    "    w = float(w)\n",
    "    corners = [[0, 0], [w, 0], [w, h], [0, h]]\n",
    "    \n",
    "    kp_small = []\n",
    "    H_small = []\n",
    "    image_t_small = []\n",
    "    \n",
    "    for i in range(len(dp)):\n",
    "        item_img, item_img_t, _ = read_image(\n",
    "            dp[i].img_path,\n",
    "            device=gpu,\n",
    "            resize=(int(dp[i].image_size[0]), int(dp[i].image_size[1])), \n",
    "            rotation=0, \n",
    "            resize_float=True\n",
    "        )\n",
    "        kps = spoint({'image': item_img_t})\n",
    "        for k in kps:\n",
    "            if type(kps[k]) == torch.Tensor:\n",
    "                kps[k] = kps[k].detach().cpu()\n",
    "            else:\n",
    "                kps[k] = torch.stack(kps[k]).detach().cpu() # запомнить, что сделали stack здесь\n",
    "                 \n",
    "        kp_small.append(kps)\n",
    "        # image_t_small.append(item_img_t.detach().cpu())\n",
    "        \n",
    "        (H_ideal, mask) = cv2.findHomography(np.array(corners),\n",
    "                                             np.array(dp[i].gt_data['quad']),\n",
    "                                             method=cv2.RANSAC)\n",
    "        H_small.append(H_ideal)    \n",
    "    \n",
    "    Hs.append(H_small)         \n",
    "    kp_items.append(kp_small)\n",
    "    # image_t_items.append(image_t_small)\n",
    "    "
   ]
  },
  {
   "cell_type": "code",
   "execution_count": 27,
   "id": "fae40820",
   "metadata": {},
   "outputs": [
    {
     "name": "stdout",
     "output_type": "stream",
     "text": [
      "{'keypoints': tensor([[[419., 123.],\n",
      "         [387., 129.],\n",
      "         [391., 234.],\n",
      "         [402., 239.],\n",
      "         [103., 249.],\n",
      "         [402., 249.],\n",
      "         [393., 255.],\n",
      "         [237., 380.],\n",
      "         [ 73., 546.]]]), 'scores': tensor([[0.0927, 0.1467, 0.0596, 0.0526, 0.0560, 0.0742, 0.0919, 0.0603, 0.0637]]), 'descriptors': tensor([[[-0.1197,  0.0728,  0.0048,  ..., -0.0451,  0.0020, -0.0326],\n",
      "         [-0.1083,  0.0274, -0.0006,  ...,  0.0458, -0.0924, -0.0311],\n",
      "         [-0.0532,  0.0674, -0.0186,  ..., -0.0333,  0.0026,  0.1095],\n",
      "         ...,\n",
      "         [-0.0530, -0.0383,  0.0602,  ...,  0.0193, -0.0128, -0.0219],\n",
      "         [ 0.0145, -0.0336,  0.0291,  ..., -0.0275, -0.0469, -0.0378],\n",
      "         [ 0.1336, -0.0237,  0.0934,  ...,  0.0531, -0.0367,  0.0277]]])}\n"
     ]
    }
   ],
   "source": [
    "print(kp_items[18][287])"
   ]
  },
  {
   "cell_type": "code",
   "execution_count": 28,
   "id": "6e5f7c08",
   "metadata": {},
   "outputs": [],
   "source": [
    "torch.save(kp_templates, 'kp_templates.pt')\n",
    "# torch.save(image_t_templates, 'image_t_templates.pt')\n",
    "torch.save(kp_items, 'kp_items.pt')\n",
    "# torch.save(image_t_items, 'image_t_items.pt')\n",
    "torch.save(Hs, 'Hs.pt')"
   ]
  },
  {
   "cell_type": "code",
   "execution_count": null,
   "id": "473f9162",
   "metadata": {},
   "outputs": [],
   "source": []
  },
  {
   "cell_type": "code",
   "execution_count": null,
   "id": "8a0f0c1d",
   "metadata": {},
   "outputs": [],
   "source": []
  },
  {
   "cell_type": "code",
   "execution_count": null,
   "id": "f884b2c0",
   "metadata": {},
   "outputs": [],
   "source": []
  },
  {
   "cell_type": "code",
   "execution_count": null,
   "id": "164ce2d8",
   "metadata": {},
   "outputs": [],
   "source": []
  },
  {
   "cell_type": "code",
   "execution_count": 7,
   "id": "e781450f",
   "metadata": {},
   "outputs": [],
   "source": [
    "cpu = torch.device('cpu')"
   ]
  },
  {
   "cell_type": "code",
   "execution_count": 7,
   "id": "db3be28b",
   "metadata": {},
   "outputs": [],
   "source": [
    "kp_templates = torch.load('kp_templates.pt')\n",
    "kp_items = torch.load('kp_items.pt')\n",
    "Hs = torch.load('Hs.pt')"
   ]
  },
  {
   "cell_type": "code",
   "execution_count": 8,
   "id": "1ca04a1e",
   "metadata": {},
   "outputs": [
    {
     "name": "stdout",
     "output_type": "stream",
     "text": [
      "Loaded SuperGlue model (\"indoor\" weights)\n"
     ]
    }
   ],
   "source": [
    "sglue = SuperGlue(config={'match_threshold': 0.5}).to(gpu)"
   ]
  },
  {
   "cell_type": "code",
   "execution_count": 9,
   "id": "01be202f",
   "metadata": {},
   "outputs": [],
   "source": [
    "def train(optimizer, epochs, heating, lr):\n",
    "    \n",
    "    for t in range(epochs):\n",
    "        sglue.train()\n",
    "        if t < heating:\n",
    "            optimizer.lr = lr / 1000\n",
    "        else:\n",
    "            optimizer.lr = lr\n",
    "            \n",
    "        optimizer.zero_grad()\n",
    "        \n",
    "        loss = Variable(torch.tensor(0).float().to(gpu), requires_grad = True)\n",
    "        \n",
    "        for i, dp in tqdm(enumerate(data_packs)):\n",
    "            if i != 0 and i != 1:\n",
    "            # первые 2 картинки вышли очень большие, при этом менять размер означает и groundtruth пересчитывать\n",
    "                template_kps = kp_templates[i]\n",
    "                template_img, template_img_t, _ = read_image(\n",
    "                    dp.template_item.img_path,\n",
    "                    device=gpu,\n",
    "                    resize=(int(dp.template_item.image_size[0]), int(dp.template_item.image_size[1])), \n",
    "                    rotation=0, \n",
    "                    resize_float=True\n",
    "                )\n",
    "                \n",
    "                # del template_img\n",
    "                # del _\n",
    "                \n",
    "                # gc.collect()\n",
    "                # torch.cuda.empty_cache()\n",
    "                \n",
    "                for k in template_kps:\n",
    "                    template_kps[k] = Variable(template_kps[k].to(gpu))\n",
    "                    \n",
    "                for j in range(len(dp)):\n",
    "                    if dp[j].is_test_split() == False:\n",
    "                        item_kps = kp_items[i][j]\n",
    "                        item_img, item_img_t, _ = read_image(\n",
    "                            dp[j].img_path,\n",
    "                            device=gpu,\n",
    "                            resize=(int(dp[j].image_size[0]), int(dp[j].image_size[1])), \n",
    "                            rotation=0, \n",
    "                            resize_float=True\n",
    "                        )\n",
    "                    \n",
    "                        # del item_img\n",
    "                        # del _\n",
    "                \n",
    "                        # gc.collect()\n",
    "                        # torch.cuda.empty_cache()\n",
    "                    \n",
    "                        for k in item_kps:\n",
    "                            item_kps[k] = Variable(item_kps[k].to(gpu))\n",
    "                        \n",
    "                        sg_input = dict()\n",
    "                        for (k, v) in template_kps.items():\n",
    "                            sg_input[k + '0'] = v\n",
    "                            sg_input['image0'] = template_img_t\n",
    "                        \n",
    "                        for (k, v) in item_kps.items():\n",
    "                            sg_input[k + '1'] = v\n",
    "                            sg_input['image1'] = item_img_t\n",
    "                        \n",
    "                        sg_output = sglue(sg_input)\n",
    "                        \n",
    "                        idx0 = sg_output['matches0'] > -1\n",
    "                        template_kps_cleared = sg_input['keypoints0'][0][idx0[0]]\n",
    "                        idx1 = sg_output['matches0'][idx0]\n",
    "                        item_kps_cleared = sg_input['keypoints1'][0][idx1]\n",
    "                    \n",
    "                        loss_part = Variable(torch.tensor(0).float().to(gpu), requires_grad = True)\n",
    "                        H_ideal = Variable(torch.tensor(Hs[i][j]).float().to(gpu))\n",
    "                    \n",
    "                        t_w, t_h = dp[j].image_size\n",
    "                        for f, p in enumerate(template_kps_cleared):\n",
    "                            vec = H_ideal @ torch.stack([p[0], p[1], torch.tensor(1.0).to(gpu)])\n",
    "                            loss_part = loss_part + torch.sqrt(\n",
    "                                (vec[0] / vec[-1] - item_kps_cleared[f][0])**2 / t_w**2 + \\\n",
    "                                (vec[1] / vec[-1] - item_kps_cleared[f][1])**2 / t_h**2\n",
    "                            )\n",
    "                        \n",
    "                        loss_part = loss_part / max(0.5, template_kps_cleared.shape[0])\n",
    "                        loss = loss + loss_part\n",
    "        loss.backward()\n",
    "        optimizer.step()\n",
    "        print('epoch ', t, ': loss = ', loss)"
   ]
  },
  {
   "cell_type": "code",
   "execution_count": 10,
   "id": "ae441727",
   "metadata": {},
   "outputs": [],
   "source": [
    "optimizer = torch.optim.Adam(sglue.parameters(), lr = 0.001)"
   ]
  },
  {
   "cell_type": "code",
   "execution_count": 11,
   "id": "e89d74c4",
   "metadata": {},
   "outputs": [
    {
     "name": "stderr",
     "output_type": "stream",
     "text": [
      "11it [03:40, 26.57s/it]"
     ]
    },
    {
     "name": "stdout",
     "output_type": "stream",
     "text": [
      "Warning: input resolution is very large, results may vary\n"
     ]
    },
    {
     "name": "stderr",
     "output_type": "stream",
     "text": [
      "50it [19:12, 23.05s/it]\n"
     ]
    },
    {
     "name": "stdout",
     "output_type": "stream",
     "text": [
      "epoch  0 : loss =  tensor(2151.3352, device='cuda:0', grad_fn=<AddBackward0>)\n"
     ]
    },
    {
     "name": "stderr",
     "output_type": "stream",
     "text": [
      "11it [03:08, 22.89s/it]"
     ]
    },
    {
     "name": "stdout",
     "output_type": "stream",
     "text": [
      "Warning: input resolution is very large, results may vary\n"
     ]
    },
    {
     "name": "stderr",
     "output_type": "stream",
     "text": [
      "50it [17:48, 21.37s/it]\n"
     ]
    },
    {
     "name": "stdout",
     "output_type": "stream",
     "text": [
      "epoch  1 : loss =  tensor(2151.3352, device='cuda:0', grad_fn=<AddBackward0>)\n"
     ]
    },
    {
     "name": "stderr",
     "output_type": "stream",
     "text": [
      "11it [03:08, 22.97s/it]"
     ]
    },
    {
     "name": "stdout",
     "output_type": "stream",
     "text": [
      "Warning: input resolution is very large, results may vary\n"
     ]
    },
    {
     "name": "stderr",
     "output_type": "stream",
     "text": [
      "50it [17:54, 21.49s/it]\n"
     ]
    },
    {
     "name": "stdout",
     "output_type": "stream",
     "text": [
      "epoch  2 : loss =  tensor(2151.3352, device='cuda:0', grad_fn=<AddBackward0>)\n"
     ]
    },
    {
     "name": "stderr",
     "output_type": "stream",
     "text": [
      "11it [03:09, 23.07s/it]"
     ]
    },
    {
     "name": "stdout",
     "output_type": "stream",
     "text": [
      "Warning: input resolution is very large, results may vary\n"
     ]
    },
    {
     "name": "stderr",
     "output_type": "stream",
     "text": [
      "50it [18:02, 21.65s/it]\n"
     ]
    },
    {
     "name": "stdout",
     "output_type": "stream",
     "text": [
      "epoch  3 : loss =  tensor(2151.3352, device='cuda:0', grad_fn=<AddBackward0>)\n"
     ]
    },
    {
     "name": "stderr",
     "output_type": "stream",
     "text": [
      "11it [03:11, 23.34s/it]"
     ]
    },
    {
     "name": "stdout",
     "output_type": "stream",
     "text": [
      "Warning: input resolution is very large, results may vary\n"
     ]
    },
    {
     "name": "stderr",
     "output_type": "stream",
     "text": [
      "50it [18:07, 21.76s/it]\n"
     ]
    },
    {
     "name": "stdout",
     "output_type": "stream",
     "text": [
      "epoch  4 : loss =  tensor(2151.3352, device='cuda:0', grad_fn=<AddBackward0>)\n"
     ]
    },
    {
     "name": "stderr",
     "output_type": "stream",
     "text": [
      "11it [03:11, 23.32s/it]"
     ]
    },
    {
     "name": "stdout",
     "output_type": "stream",
     "text": [
      "Warning: input resolution is very large, results may vary\n"
     ]
    },
    {
     "name": "stderr",
     "output_type": "stream",
     "text": [
      "50it [19:31, 23.44s/it]\n"
     ]
    },
    {
     "name": "stdout",
     "output_type": "stream",
     "text": [
      "epoch  5 : loss =  tensor(2151.3352, device='cuda:0', grad_fn=<AddBackward0>)\n"
     ]
    },
    {
     "name": "stderr",
     "output_type": "stream",
     "text": [
      "11it [03:18, 25.25s/it]"
     ]
    },
    {
     "name": "stdout",
     "output_type": "stream",
     "text": [
      "Warning: input resolution is very large, results may vary\n"
     ]
    },
    {
     "name": "stderr",
     "output_type": "stream",
     "text": [
      "50it [21:25, 25.71s/it]\n"
     ]
    },
    {
     "name": "stdout",
     "output_type": "stream",
     "text": [
      "epoch  6 : loss =  tensor(2151.3352, device='cuda:0', grad_fn=<AddBackward0>)\n"
     ]
    },
    {
     "name": "stderr",
     "output_type": "stream",
     "text": [
      "11it [03:10, 23.15s/it]"
     ]
    },
    {
     "name": "stdout",
     "output_type": "stream",
     "text": [
      "Warning: input resolution is very large, results may vary\n"
     ]
    },
    {
     "name": "stderr",
     "output_type": "stream",
     "text": [
      "50it [18:00, 21.62s/it]\n"
     ]
    },
    {
     "name": "stdout",
     "output_type": "stream",
     "text": [
      "epoch  7 : loss =  tensor(2151.3352, device='cuda:0', grad_fn=<AddBackward0>)\n"
     ]
    },
    {
     "name": "stderr",
     "output_type": "stream",
     "text": [
      "11it [03:07, 22.96s/it]"
     ]
    },
    {
     "name": "stdout",
     "output_type": "stream",
     "text": [
      "Warning: input resolution is very large, results may vary\n"
     ]
    },
    {
     "name": "stderr",
     "output_type": "stream",
     "text": [
      "50it [18:07, 21.75s/it]\n"
     ]
    },
    {
     "name": "stdout",
     "output_type": "stream",
     "text": [
      "epoch  8 : loss =  tensor(2151.3352, device='cuda:0', grad_fn=<AddBackward0>)\n"
     ]
    },
    {
     "name": "stderr",
     "output_type": "stream",
     "text": [
      "11it [03:10, 23.15s/it]"
     ]
    },
    {
     "name": "stdout",
     "output_type": "stream",
     "text": [
      "Warning: input resolution is very large, results may vary\n"
     ]
    },
    {
     "name": "stderr",
     "output_type": "stream",
     "text": [
      "50it [18:02, 21.64s/it]\n"
     ]
    },
    {
     "name": "stdout",
     "output_type": "stream",
     "text": [
      "epoch  9 : loss =  tensor(2151.3352, device='cuda:0', grad_fn=<AddBackward0>)\n"
     ]
    }
   ],
   "source": [
    "train(optimizer, epochs = 10, heating = 2, lr = 0.001)"
   ]
  },
  {
   "cell_type": "code",
   "execution_count": null,
   "id": "ce6298ff",
   "metadata": {},
   "outputs": [],
   "source": []
  },
  {
   "cell_type": "code",
   "execution_count": null,
   "id": "ff3d91a4",
   "metadata": {},
   "outputs": [],
   "source": []
  },
  {
   "cell_type": "code",
   "execution_count": null,
   "id": "ed68cc84",
   "metadata": {},
   "outputs": [],
   "source": []
  },
  {
   "cell_type": "code",
   "execution_count": 12,
   "id": "631abac8",
   "metadata": {},
   "outputs": [],
   "source": [
    "def eval(refer_item_num, refer_item, test_item_num, test_item):\n",
    "    sglue.eval()\n",
    "    template_kps = kp_templates[refer_item_num]\n",
    "    \n",
    "    template_img, template_img_t, _ = read_image(\n",
    "        refer_item.img_path,\n",
    "        device=gpu,\n",
    "        resize=(int(refer_item.image_size[0]), int(refer_item.image_size[1])), \n",
    "        rotation=0, \n",
    "        resize_float=True\n",
    "    )\n",
    "    \n",
    "    for k in template_kps:\n",
    "        template_kps[k] = template_kps[k].to(gpu)\n",
    "        \n",
    "    item_kps = kp_items[refer_item_num][test_item_num]\n",
    "    \n",
    "    item_img, item_img_t, _ = read_image(\n",
    "        refer_item.img_path,\n",
    "        device=gpu,\n",
    "        resize=(int(test_item.image_size[0]), int(test_item.image_size[1])), \n",
    "        rotation=0, \n",
    "        resize_float=True\n",
    "    )\n",
    "                        \n",
    "    for k in item_kps:\n",
    "        item_kps[k] = item_kps[k].to(gpu)\n",
    "            \n",
    "    sg_input = dict()\n",
    "    for (k, v) in template_kps.items():\n",
    "        sg_input[k + '0'] = v\n",
    "        sg_input['image0'] = template_img_t\n",
    "                        \n",
    "    for (k, v) in item_kps.items():\n",
    "        sg_input[k + '1'] = v\n",
    "        sg_input['image1'] = item_img_t\n",
    "       \n",
    "    with torch.no_grad():\n",
    "        sg_output = sglue(sg_input)\n",
    "    idx0 = sg_output['matches0'] > -1\n",
    "    template_kps_cleared = sg_input['keypoints0'][0][idx0[0]]\n",
    "    idx1 = sg_output['matches0'][idx0]\n",
    "    item_kps_cleared = sg_input['keypoints1'][0][idx1]\n",
    "     \n",
    "    (H, mask) = cv2.findHomography(np.array(template_kps_cleared.detach().cpu()),\n",
    "                                   np.array(item_kps_cleared.detach().cpu()), \n",
    "                                   method=cv2.RANSAC)    \n",
    "    w, h = refer_item.image_size\n",
    "    h = float(h)\n",
    "    w = float(w)\n",
    "    corners = [[0, 0], [w, 0], [w, h], [0, h]]\n",
    "    corners_cropped = []\n",
    "        \n",
    "    for c in corners:\n",
    "        vec = H @ np.array([c[0], c[1], 1])\n",
    "        corners_cropped.append([vec[0] / vec[-1], vec[1] / vec[-1]])\n",
    "        \n",
    "    del sg_input\n",
    "    del sg_output\n",
    "    \n",
    "    gc.collect()\n",
    "    torch.cuda.empty_cache()\n",
    "    return np.array(corners_cropped) / np.array([w, h])"
   ]
  },
  {
   "cell_type": "code",
   "execution_count": 13,
   "id": "8cfbf431",
   "metadata": {
    "scrolled": false
   },
   "outputs": [
    {
     "name": "stderr",
     "output_type": "stream",
     "text": [
      "\r",
      "0it [00:00, ?it/s]"
     ]
    },
    {
     "name": "stdout",
     "output_type": "stream",
     "text": [
      "Warning: input resolution is very large, results may vary\n",
      "Warning: input resolution is very large, results may vary\n",
      "Warning: input resolution is very large, results may vary\n",
      "Warning: input resolution is very large, results may vary\n",
      "OpenCV(4.6.0) /croot/opencv-suite_1676452025216/work/modules/calib3d/src/fundam.cpp:385: error: (-28:Unknown error code -28) The input arrays should have at least 4 corresponding point sets to calculate Homography in function 'findHomography'\n",
      "\n",
      "Warning: input resolution is very large, results may vary\n",
      "Warning: input resolution is very large, results may vary\n",
      "Warning: input resolution is very large, results may vary\n",
      "Warning: input resolution is very large, results may vary\n",
      "Warning: input resolution is very large, results may vary\n",
      "Warning: input resolution is very large, results may vary\n",
      "OpenCV(4.6.0) /croot/opencv-suite_1676452025216/work/modules/calib3d/src/fundam.cpp:385: error: (-28:Unknown error code -28) The input arrays should have at least 4 corresponding point sets to calculate Homography in function 'findHomography'\n",
      "\n",
      "Warning: input resolution is very large, results may vary\n",
      "Warning: input resolution is very large, results may vary\n",
      "OpenCV(4.6.0) /croot/opencv-suite_1676452025216/work/modules/calib3d/src/fundam.cpp:385: error: (-28:Unknown error code -28) The input arrays should have at least 4 corresponding point sets to calculate Homography in function 'findHomography'\n",
      "\n",
      "Warning: input resolution is very large, results may vary\n",
      "Warning: input resolution is very large, results may vary\n",
      "Warning: input resolution is very large, results may vary\n",
      "Warning: input resolution is very large, results may vary\n",
      "Warning: input resolution is very large, results may vary\n",
      "OpenCV(4.6.0) /croot/opencv-suite_1676452025216/work/modules/calib3d/src/fundam.cpp:385: error: (-28:Unknown error code -28) The input arrays should have at least 4 corresponding point sets to calculate Homography in function 'findHomography'\n",
      "\n",
      "Warning: input resolution is very large, results may vary\n",
      "Warning: input resolution is very large, results may vary\n",
      "Warning: input resolution is very large, results may vary\n",
      "Warning: input resolution is very large, results may vary\n",
      "OpenCV(4.6.0) /croot/opencv-suite_1676452025216/work/modules/calib3d/src/fundam.cpp:385: error: (-28:Unknown error code -28) The input arrays should have at least 4 corresponding point sets to calculate Homography in function 'findHomography'\n",
      "\n",
      "Warning: input resolution is very large, results may vary\n",
      "OpenCV(4.6.0) /croot/opencv-suite_1676452025216/work/modules/calib3d/src/fundam.cpp:385: error: (-28:Unknown error code -28) The input arrays should have at least 4 corresponding point sets to calculate Homography in function 'findHomography'\n",
      "\n",
      "Warning: input resolution is very large, results may vary\n",
      "OpenCV(4.6.0) /croot/opencv-suite_1676452025216/work/modules/calib3d/src/fundam.cpp:385: error: (-28:Unknown error code -28) The input arrays should have at least 4 corresponding point sets to calculate Homography in function 'findHomography'\n",
      "\n",
      "Warning: input resolution is very large, results may vary\n",
      "OpenCV(4.6.0) /croot/opencv-suite_1676452025216/work/modules/calib3d/src/fundam.cpp:385: error: (-28:Unknown error code -28) The input arrays should have at least 4 corresponding point sets to calculate Homography in function 'findHomography'\n",
      "\n",
      "Warning: input resolution is very large, results may vary\n",
      "OpenCV(4.6.0) /croot/opencv-suite_1676452025216/work/modules/calib3d/src/fundam.cpp:385: error: (-28:Unknown error code -28) The input arrays should have at least 4 corresponding point sets to calculate Homography in function 'findHomography'\n",
      "\n",
      "Warning: input resolution is very large, results may vary\n",
      "OpenCV(4.6.0) /croot/opencv-suite_1676452025216/work/modules/calib3d/src/fundam.cpp:385: error: (-28:Unknown error code -28) The input arrays should have at least 4 corresponding point sets to calculate Homography in function 'findHomography'\n",
      "\n",
      "Warning: input resolution is very large, results may vary\n",
      "OpenCV(4.6.0) /croot/opencv-suite_1676452025216/work/modules/calib3d/src/fundam.cpp:385: error: (-28:Unknown error code -28) The input arrays should have at least 4 corresponding point sets to calculate Homography in function 'findHomography'\n",
      "\n",
      "Warning: input resolution is very large, results may vary\n",
      "OpenCV(4.6.0) /croot/opencv-suite_1676452025216/work/modules/calib3d/src/fundam.cpp:385: error: (-28:Unknown error code -28) The input arrays should have at least 4 corresponding point sets to calculate Homography in function 'findHomography'\n",
      "\n",
      "Warning: input resolution is very large, results may vary\n",
      "Warning: input resolution is very large, results may vary\n",
      "Warning: input resolution is very large, results may vary\n",
      "Warning: input resolution is very large, results may vary\n",
      "Warning: input resolution is very large, results may vary\n",
      "Warning: input resolution is very large, results may vary\n",
      "Warning: input resolution is very large, results may vary\n",
      "Warning: input resolution is very large, results may vary\n",
      "OpenCV(4.6.0) /croot/opencv-suite_1676452025216/work/modules/calib3d/src/fundam.cpp:385: error: (-28:Unknown error code -28) The input arrays should have at least 4 corresponding point sets to calculate Homography in function 'findHomography'\n",
      "\n",
      "Warning: input resolution is very large, results may vary\n",
      "OpenCV(4.6.0) /croot/opencv-suite_1676452025216/work/modules/calib3d/src/fundam.cpp:385: error: (-28:Unknown error code -28) The input arrays should have at least 4 corresponding point sets to calculate Homography in function 'findHomography'\n",
      "\n",
      "Warning: input resolution is very large, results may vary\n",
      "Warning: input resolution is very large, results may vary\n",
      "Warning: input resolution is very large, results may vary\n",
      "OpenCV(4.6.0) /croot/opencv-suite_1676452025216/work/modules/calib3d/src/fundam.cpp:385: error: (-28:Unknown error code -28) The input arrays should have at least 4 corresponding point sets to calculate Homography in function 'findHomography'\n",
      "\n",
      "Warning: input resolution is very large, results may vary\n",
      "OpenCV(4.6.0) /croot/opencv-suite_1676452025216/work/modules/calib3d/src/fundam.cpp:385: error: (-28:Unknown error code -28) The input arrays should have at least 4 corresponding point sets to calculate Homography in function 'findHomography'\n",
      "\n",
      "Warning: input resolution is very large, results may vary\n",
      "OpenCV(4.6.0) /croot/opencv-suite_1676452025216/work/modules/calib3d/src/fundam.cpp:385: error: (-28:Unknown error code -28) The input arrays should have at least 4 corresponding point sets to calculate Homography in function 'findHomography'\n",
      "\n",
      "Warning: input resolution is very large, results may vary\n",
      "OpenCV(4.6.0) /croot/opencv-suite_1676452025216/work/modules/calib3d/src/fundam.cpp:385: error: (-28:Unknown error code -28) The input arrays should have at least 4 corresponding point sets to calculate Homography in function 'findHomography'\n",
      "\n",
      "Warning: input resolution is very large, results may vary\n",
      "OpenCV(4.6.0) /croot/opencv-suite_1676452025216/work/modules/calib3d/src/fundam.cpp:385: error: (-28:Unknown error code -28) The input arrays should have at least 4 corresponding point sets to calculate Homography in function 'findHomography'\n",
      "\n",
      "Warning: input resolution is very large, results may vary\n",
      "Warning: input resolution is very large, results may vary\n",
      "OpenCV(4.6.0) /croot/opencv-suite_1676452025216/work/modules/calib3d/src/fundam.cpp:385: error: (-28:Unknown error code -28) The input arrays should have at least 4 corresponding point sets to calculate Homography in function 'findHomography'\n",
      "\n",
      "Warning: input resolution is very large, results may vary\n",
      "Warning: input resolution is very large, results may vary\n",
      "OpenCV(4.6.0) /croot/opencv-suite_1676452025216/work/modules/calib3d/src/fundam.cpp:385: error: (-28:Unknown error code -28) The input arrays should have at least 4 corresponding point sets to calculate Homography in function 'findHomography'\n",
      "\n",
      "Warning: input resolution is very large, results may vary\n",
      "OpenCV(4.6.0) /croot/opencv-suite_1676452025216/work/modules/calib3d/src/fundam.cpp:385: error: (-28:Unknown error code -28) The input arrays should have at least 4 corresponding point sets to calculate Homography in function 'findHomography'\n",
      "\n"
     ]
    },
    {
     "name": "stdout",
     "output_type": "stream",
     "text": [
      "Warning: input resolution is very large, results may vary\n"
     ]
    },
    {
     "name": "stderr",
     "output_type": "stream",
     "text": [
      "\r",
      "1it [00:36, 36.41s/it]"
     ]
    },
    {
     "name": "stdout",
     "output_type": "stream",
     "text": [
      "Warning: input resolution is very large, results may vary\n",
      "Warning: input resolution is very large, results may vary\n",
      "Warning: input resolution is very large, results may vary\n",
      "Warning: input resolution is very large, results may vary\n",
      "Warning: input resolution is very large, results may vary\n",
      "Warning: input resolution is very large, results may vary\n",
      "OpenCV(4.6.0) /croot/opencv-suite_1676452025216/work/modules/calib3d/src/fundam.cpp:385: error: (-28:Unknown error code -28) The input arrays should have at least 4 corresponding point sets to calculate Homography in function 'findHomography'\n",
      "\n",
      "Warning: input resolution is very large, results may vary\n",
      "OpenCV(4.6.0) /croot/opencv-suite_1676452025216/work/modules/calib3d/src/fundam.cpp:385: error: (-28:Unknown error code -28) The input arrays should have at least 4 corresponding point sets to calculate Homography in function 'findHomography'\n",
      "\n",
      "Warning: input resolution is very large, results may vary\n",
      "OpenCV(4.6.0) /croot/opencv-suite_1676452025216/work/modules/calib3d/src/fundam.cpp:385: error: (-28:Unknown error code -28) The input arrays should have at least 4 corresponding point sets to calculate Homography in function 'findHomography'\n",
      "\n",
      "Warning: input resolution is very large, results may vary\n",
      "Warning: input resolution is very large, results may vary\n",
      "OpenCV(4.6.0) /croot/opencv-suite_1676452025216/work/modules/calib3d/src/fundam.cpp:385: error: (-28:Unknown error code -28) The input arrays should have at least 4 corresponding point sets to calculate Homography in function 'findHomography'\n",
      "\n",
      "Warning: input resolution is very large, results may vary\n",
      "Warning: input resolution is very large, results may vary\n",
      "Warning: input resolution is very large, results may vary\n",
      "Warning: input resolution is very large, results may vary\n",
      "Warning: input resolution is very large, results may vary\n",
      "Warning: input resolution is very large, results may vary\n",
      "OpenCV(4.6.0) /croot/opencv-suite_1676452025216/work/modules/calib3d/src/fundam.cpp:385: error: (-28:Unknown error code -28) The input arrays should have at least 4 corresponding point sets to calculate Homography in function 'findHomography'\n",
      "\n",
      "Warning: input resolution is very large, results may vary\n",
      "OpenCV(4.6.0) /croot/opencv-suite_1676452025216/work/modules/calib3d/src/fundam.cpp:385: error: (-28:Unknown error code -28) The input arrays should have at least 4 corresponding point sets to calculate Homography in function 'findHomography'\n",
      "\n",
      "Warning: input resolution is very large, results may vary\n",
      "OpenCV(4.6.0) /croot/opencv-suite_1676452025216/work/modules/calib3d/src/fundam.cpp:385: error: (-28:Unknown error code -28) The input arrays should have at least 4 corresponding point sets to calculate Homography in function 'findHomography'\n",
      "\n",
      "Warning: input resolution is very large, results may vary\n",
      "OpenCV(4.6.0) /croot/opencv-suite_1676452025216/work/modules/calib3d/src/fundam.cpp:385: error: (-28:Unknown error code -28) The input arrays should have at least 4 corresponding point sets to calculate Homography in function 'findHomography'\n",
      "\n",
      "Warning: input resolution is very large, results may vary\n",
      "OpenCV(4.6.0) /croot/opencv-suite_1676452025216/work/modules/calib3d/src/fundam.cpp:385: error: (-28:Unknown error code -28) The input arrays should have at least 4 corresponding point sets to calculate Homography in function 'findHomography'\n",
      "\n",
      "Warning: input resolution is very large, results may vary\n",
      "OpenCV(4.6.0) /croot/opencv-suite_1676452025216/work/modules/calib3d/src/fundam.cpp:385: error: (-28:Unknown error code -28) The input arrays should have at least 4 corresponding point sets to calculate Homography in function 'findHomography'\n",
      "\n",
      "Warning: input resolution is very large, results may vary\n",
      "Warning: input resolution is very large, results may vary\n",
      "OpenCV(4.6.0) /croot/opencv-suite_1676452025216/work/modules/calib3d/src/fundam.cpp:385: error: (-28:Unknown error code -28) The input arrays should have at least 4 corresponding point sets to calculate Homography in function 'findHomography'\n",
      "\n",
      "Warning: input resolution is very large, results may vary\n",
      "OpenCV(4.6.0) /croot/opencv-suite_1676452025216/work/modules/calib3d/src/fundam.cpp:385: error: (-28:Unknown error code -28) The input arrays should have at least 4 corresponding point sets to calculate Homography in function 'findHomography'\n",
      "\n",
      "Warning: input resolution is very large, results may vary\n",
      "OpenCV(4.6.0) /croot/opencv-suite_1676452025216/work/modules/calib3d/src/fundam.cpp:385: error: (-28:Unknown error code -28) The input arrays should have at least 4 corresponding point sets to calculate Homography in function 'findHomography'\n",
      "\n",
      "Warning: input resolution is very large, results may vary\n",
      "Warning: input resolution is very large, results may vary\n",
      "OpenCV(4.6.0) /croot/opencv-suite_1676452025216/work/modules/calib3d/src/fundam.cpp:385: error: (-28:Unknown error code -28) The input arrays should have at least 4 corresponding point sets to calculate Homography in function 'findHomography'\n",
      "\n",
      "Warning: input resolution is very large, results may vary\n",
      "Warning: input resolution is very large, results may vary\n",
      "Warning: input resolution is very large, results may vary\n",
      "Warning: input resolution is very large, results may vary\n",
      "OpenCV(4.6.0) /croot/opencv-suite_1676452025216/work/modules/calib3d/src/fundam.cpp:385: error: (-28:Unknown error code -28) The input arrays should have at least 4 corresponding point sets to calculate Homography in function 'findHomography'\n",
      "\n",
      "Warning: input resolution is very large, results may vary\n",
      "Warning: input resolution is very large, results may vary\n",
      "OpenCV(4.6.0) /croot/opencv-suite_1676452025216/work/modules/calib3d/src/fundam.cpp:385: error: (-28:Unknown error code -28) The input arrays should have at least 4 corresponding point sets to calculate Homography in function 'findHomography'\n",
      "\n",
      "Warning: input resolution is very large, results may vary\n",
      "Warning: input resolution is very large, results may vary\n",
      "Warning: input resolution is very large, results may vary\n",
      "Warning: input resolution is very large, results may vary\n",
      "Warning: input resolution is very large, results may vary\n",
      "Warning: input resolution is very large, results may vary\n",
      "Warning: input resolution is very large, results may vary\n",
      "Warning: input resolution is very large, results may vary\n",
      "Warning: input resolution is very large, results may vary\n",
      "OpenCV(4.6.0) /croot/opencv-suite_1676452025216/work/modules/calib3d/src/fundam.cpp:385: error: (-28:Unknown error code -28) The input arrays should have at least 4 corresponding point sets to calculate Homography in function 'findHomography'\n",
      "\n",
      "Warning: input resolution is very large, results may vary\n",
      "OpenCV(4.6.0) /croot/opencv-suite_1676452025216/work/modules/calib3d/src/fundam.cpp:385: error: (-28:Unknown error code -28) The input arrays should have at least 4 corresponding point sets to calculate Homography in function 'findHomography'\n",
      "\n",
      "Warning: input resolution is very large, results may vary\n",
      "OpenCV(4.6.0) /croot/opencv-suite_1676452025216/work/modules/calib3d/src/fundam.cpp:385: error: (-28:Unknown error code -28) The input arrays should have at least 4 corresponding point sets to calculate Homography in function 'findHomography'\n",
      "\n",
      "Warning: input resolution is very large, results may vary\n",
      "OpenCV(4.6.0) /croot/opencv-suite_1676452025216/work/modules/calib3d/src/fundam.cpp:385: error: (-28:Unknown error code -28) The input arrays should have at least 4 corresponding point sets to calculate Homography in function 'findHomography'\n",
      "\n",
      "Warning: input resolution is very large, results may vary\n",
      "Warning: input resolution is very large, results may vary\n",
      "Warning: input resolution is very large, results may vary\n",
      "Warning: input resolution is very large, results may vary\n",
      "Warning: input resolution is very large, results may vary\n"
     ]
    },
    {
     "name": "stderr",
     "output_type": "stream",
     "text": [
      "\r",
      "2it [01:02, 30.37s/it]"
     ]
    },
    {
     "name": "stdout",
     "output_type": "stream",
     "text": [
      "OpenCV(4.6.0) /croot/opencv-suite_1676452025216/work/modules/calib3d/src/fundam.cpp:385: error: (-28:Unknown error code -28) The input arrays should have at least 4 corresponding point sets to calculate Homography in function 'findHomography'\n",
      "\n",
      "OpenCV(4.6.0) /croot/opencv-suite_1676452025216/work/modules/calib3d/src/fundam.cpp:385: error: (-28:Unknown error code -28) The input arrays should have at least 4 corresponding point sets to calculate Homography in function 'findHomography'\n",
      "\n",
      "matmul: Input operand 0 does not have enough dimensions (has 0, gufunc core with signature (n?,k),(k,m?)->(n?,m?) requires 1)\n",
      "OpenCV(4.6.0) /croot/opencv-suite_1676452025216/work/modules/calib3d/src/fundam.cpp:385: error: (-28:Unknown error code -28) The input arrays should have at least 4 corresponding point sets to calculate Homography in function 'findHomography'\n",
      "\n",
      "OpenCV(4.6.0) /croot/opencv-suite_1676452025216/work/modules/calib3d/src/fundam.cpp:385: error: (-28:Unknown error code -28) The input arrays should have at least 4 corresponding point sets to calculate Homography in function 'findHomography'\n",
      "\n",
      "OpenCV(4.6.0) /croot/opencv-suite_1676452025216/work/modules/calib3d/src/fundam.cpp:385: error: (-28:Unknown error code -28) The input arrays should have at least 4 corresponding point sets to calculate Homography in function 'findHomography'\n",
      "\n",
      "OpenCV(4.6.0) /croot/opencv-suite_1676452025216/work/modules/calib3d/src/fundam.cpp:385: error: (-28:Unknown error code -28) The input arrays should have at least 4 corresponding point sets to calculate Homography in function 'findHomography'\n",
      "\n",
      "OpenCV(4.6.0) /croot/opencv-suite_1676452025216/work/modules/calib3d/src/fundam.cpp:385: error: (-28:Unknown error code -28) The input arrays should have at least 4 corresponding point sets to calculate Homography in function 'findHomography'\n",
      "\n",
      "matmul: Input operand 0 does not have enough dimensions (has 0, gufunc core with signature (n?,k),(k,m?)->(n?,m?) requires 1)\n",
      "OpenCV(4.6.0) /croot/opencv-suite_1676452025216/work/modules/calib3d/src/fundam.cpp:385: error: (-28:Unknown error code -28) The input arrays should have at least 4 corresponding point sets to calculate Homography in function 'findHomography'\n",
      "\n",
      "matmul: Input operand 0 does not have enough dimensions (has 0, gufunc core with signature (n?,k),(k,m?)->(n?,m?) requires 1)\n",
      "OpenCV(4.6.0) /croot/opencv-suite_1676452025216/work/modules/calib3d/src/fundam.cpp:385: error: (-28:Unknown error code -28) The input arrays should have at least 4 corresponding point sets to calculate Homography in function 'findHomography'\n",
      "\n",
      "OpenCV(4.6.0) /croot/opencv-suite_1676452025216/work/modules/calib3d/src/fundam.cpp:385: error: (-28:Unknown error code -28) The input arrays should have at least 4 corresponding point sets to calculate Homography in function 'findHomography'\n",
      "\n",
      "OpenCV(4.6.0) /croot/opencv-suite_1676452025216/work/modules/calib3d/src/fundam.cpp:385: error: (-28:Unknown error code -28) The input arrays should have at least 4 corresponding point sets to calculate Homography in function 'findHomography'\n",
      "\n",
      "OpenCV(4.6.0) /croot/opencv-suite_1676452025216/work/modules/calib3d/src/fundam.cpp:385: error: (-28:Unknown error code -28) The input arrays should have at least 4 corresponding point sets to calculate Homography in function 'findHomography'\n",
      "\n",
      "OpenCV(4.6.0) /croot/opencv-suite_1676452025216/work/modules/calib3d/src/fundam.cpp:385: error: (-28:Unknown error code -28) The input arrays should have at least 4 corresponding point sets to calculate Homography in function 'findHomography'\n",
      "\n",
      "OpenCV(4.6.0) /croot/opencv-suite_1676452025216/work/modules/calib3d/src/fundam.cpp:385: error: (-28:Unknown error code -28) The input arrays should have at least 4 corresponding point sets to calculate Homography in function 'findHomography'\n",
      "\n",
      "OpenCV(4.6.0) /croot/opencv-suite_1676452025216/work/modules/calib3d/src/fundam.cpp:385: error: (-28:Unknown error code -28) The input arrays should have at least 4 corresponding point sets to calculate Homography in function 'findHomography'\n",
      "\n",
      "OpenCV(4.6.0) /croot/opencv-suite_1676452025216/work/modules/calib3d/src/fundam.cpp:385: error: (-28:Unknown error code -28) The input arrays should have at least 4 corresponding point sets to calculate Homography in function 'findHomography'\n",
      "\n",
      "matmul: Input operand 0 does not have enough dimensions (has 0, gufunc core with signature (n?,k),(k,m?)->(n?,m?) requires 1)\n",
      "OpenCV(4.6.0) /croot/opencv-suite_1676452025216/work/modules/calib3d/src/fundam.cpp:385: error: (-28:Unknown error code -28) The input arrays should have at least 4 corresponding point sets to calculate Homography in function 'findHomography'\n",
      "\n",
      "OpenCV(4.6.0) /croot/opencv-suite_1676452025216/work/modules/calib3d/src/fundam.cpp:385: error: (-28:Unknown error code -28) The input arrays should have at least 4 corresponding point sets to calculate Homography in function 'findHomography'\n",
      "\n",
      "OpenCV(4.6.0) /croot/opencv-suite_1676452025216/work/modules/calib3d/src/fundam.cpp:385: error: (-28:Unknown error code -28) The input arrays should have at least 4 corresponding point sets to calculate Homography in function 'findHomography'\n",
      "\n",
      "OpenCV(4.6.0) /croot/opencv-suite_1676452025216/work/modules/calib3d/src/fundam.cpp:385: error: (-28:Unknown error code -28) The input arrays should have at least 4 corresponding point sets to calculate Homography in function 'findHomography'\n",
      "\n",
      "matmul: Input operand 0 does not have enough dimensions (has 0, gufunc core with signature (n?,k),(k,m?)->(n?,m?) requires 1)\n",
      "OpenCV(4.6.0) /croot/opencv-suite_1676452025216/work/modules/calib3d/src/fundam.cpp:385: error: (-28:Unknown error code -28) The input arrays should have at least 4 corresponding point sets to calculate Homography in function 'findHomography'\n",
      "\n",
      "OpenCV(4.6.0) /croot/opencv-suite_1676452025216/work/modules/calib3d/src/fundam.cpp:385: error: (-28:Unknown error code -28) The input arrays should have at least 4 corresponding point sets to calculate Homography in function 'findHomography'\n",
      "\n",
      "OpenCV(4.6.0) /croot/opencv-suite_1676452025216/work/modules/calib3d/src/fundam.cpp:385: error: (-28:Unknown error code -28) The input arrays should have at least 4 corresponding point sets to calculate Homography in function 'findHomography'\n",
      "\n",
      "OpenCV(4.6.0) /croot/opencv-suite_1676452025216/work/modules/calib3d/src/fundam.cpp:385: error: (-28:Unknown error code -28) The input arrays should have at least 4 corresponding point sets to calculate Homography in function 'findHomography'\n",
      "\n",
      "OpenCV(4.6.0) /croot/opencv-suite_1676452025216/work/modules/calib3d/src/fundam.cpp:385: error: (-28:Unknown error code -28) The input arrays should have at least 4 corresponding point sets to calculate Homography in function 'findHomography'\n",
      "\n",
      "OpenCV(4.6.0) /croot/opencv-suite_1676452025216/work/modules/calib3d/src/fundam.cpp:385: error: (-28:Unknown error code -28) The input arrays should have at least 4 corresponding point sets to calculate Homography in function 'findHomography'\n",
      "\n",
      "OpenCV(4.6.0) /croot/opencv-suite_1676452025216/work/modules/calib3d/src/fundam.cpp:385: error: (-28:Unknown error code -28) The input arrays should have at least 4 corresponding point sets to calculate Homography in function 'findHomography'\n",
      "\n",
      "matmul: Input operand 0 does not have enough dimensions (has 0, gufunc core with signature (n?,k),(k,m?)->(n?,m?) requires 1)\n"
     ]
    },
    {
     "name": "stderr",
     "output_type": "stream",
     "text": [
      "4it [02:12, 30.80s/it]"
     ]
    },
    {
     "name": "stdout",
     "output_type": "stream",
     "text": [
      "matmul: Input operand 0 does not have enough dimensions (has 0, gufunc core with signature (n?,k),(k,m?)->(n?,m?) requires 1)\n",
      "OpenCV(4.6.0) /croot/opencv-suite_1676452025216/work/modules/calib3d/src/fundam.cpp:385: error: (-28:Unknown error code -28) The input arrays should have at least 4 corresponding point sets to calculate Homography in function 'findHomography'\n",
      "\n",
      "OpenCV(4.6.0) /croot/opencv-suite_1676452025216/work/modules/calib3d/src/fundam.cpp:385: error: (-28:Unknown error code -28) The input arrays should have at least 4 corresponding point sets to calculate Homography in function 'findHomography'\n",
      "\n",
      "OpenCV(4.6.0) /croot/opencv-suite_1676452025216/work/modules/calib3d/src/fundam.cpp:385: error: (-28:Unknown error code -28) The input arrays should have at least 4 corresponding point sets to calculate Homography in function 'findHomography'\n",
      "\n",
      "OpenCV(4.6.0) /croot/opencv-suite_1676452025216/work/modules/calib3d/src/fundam.cpp:385: error: (-28:Unknown error code -28) The input arrays should have at least 4 corresponding point sets to calculate Homography in function 'findHomography'\n",
      "\n",
      "OpenCV(4.6.0) /croot/opencv-suite_1676452025216/work/modules/calib3d/src/fundam.cpp:385: error: (-28:Unknown error code -28) The input arrays should have at least 4 corresponding point sets to calculate Homography in function 'findHomography'\n",
      "\n",
      "OpenCV(4.6.0) /croot/opencv-suite_1676452025216/work/modules/calib3d/src/fundam.cpp:385: error: (-28:Unknown error code -28) The input arrays should have at least 4 corresponding point sets to calculate Homography in function 'findHomography'\n",
      "\n",
      "OpenCV(4.6.0) /croot/opencv-suite_1676452025216/work/modules/calib3d/src/fundam.cpp:385: error: (-28:Unknown error code -28) The input arrays should have at least 4 corresponding point sets to calculate Homography in function 'findHomography'\n",
      "\n",
      "matmul: Input operand 0 does not have enough dimensions (has 0, gufunc core with signature (n?,k),(k,m?)->(n?,m?) requires 1)\n"
     ]
    },
    {
     "name": "stderr",
     "output_type": "stream",
     "text": [
      "\r",
      "5it [02:22, 23.28s/it]"
     ]
    },
    {
     "name": "stdout",
     "output_type": "stream",
     "text": [
      "OpenCV(4.6.0) /croot/opencv-suite_1676452025216/work/modules/calib3d/src/fundam.cpp:385: error: (-28:Unknown error code -28) The input arrays should have at least 4 corresponding point sets to calculate Homography in function 'findHomography'\n",
      "\n",
      "OpenCV(4.6.0) /croot/opencv-suite_1676452025216/work/modules/calib3d/src/fundam.cpp:385: error: (-28:Unknown error code -28) The input arrays should have at least 4 corresponding point sets to calculate Homography in function 'findHomography'\n",
      "\n",
      "OpenCV(4.6.0) /croot/opencv-suite_1676452025216/work/modules/calib3d/src/fundam.cpp:385: error: (-28:Unknown error code -28) The input arrays should have at least 4 corresponding point sets to calculate Homography in function 'findHomography'\n",
      "\n",
      "OpenCV(4.6.0) /croot/opencv-suite_1676452025216/work/modules/calib3d/src/fundam.cpp:385: error: (-28:Unknown error code -28) The input arrays should have at least 4 corresponding point sets to calculate Homography in function 'findHomography'\n",
      "\n",
      "OpenCV(4.6.0) /croot/opencv-suite_1676452025216/work/modules/calib3d/src/fundam.cpp:385: error: (-28:Unknown error code -28) The input arrays should have at least 4 corresponding point sets to calculate Homography in function 'findHomography'\n",
      "\n",
      "OpenCV(4.6.0) /croot/opencv-suite_1676452025216/work/modules/calib3d/src/fundam.cpp:385: error: (-28:Unknown error code -28) The input arrays should have at least 4 corresponding point sets to calculate Homography in function 'findHomography'\n",
      "\n",
      "OpenCV(4.6.0) /croot/opencv-suite_1676452025216/work/modules/calib3d/src/fundam.cpp:385: error: (-28:Unknown error code -28) The input arrays should have at least 4 corresponding point sets to calculate Homography in function 'findHomography'\n",
      "\n",
      "OpenCV(4.6.0) /croot/opencv-suite_1676452025216/work/modules/calib3d/src/fundam.cpp:385: error: (-28:Unknown error code -28) The input arrays should have at least 4 corresponding point sets to calculate Homography in function 'findHomography'\n",
      "\n",
      "OpenCV(4.6.0) /croot/opencv-suite_1676452025216/work/modules/calib3d/src/fundam.cpp:385: error: (-28:Unknown error code -28) The input arrays should have at least 4 corresponding point sets to calculate Homography in function 'findHomography'\n",
      "\n",
      "OpenCV(4.6.0) /croot/opencv-suite_1676452025216/work/modules/calib3d/src/fundam.cpp:385: error: (-28:Unknown error code -28) The input arrays should have at least 4 corresponding point sets to calculate Homography in function 'findHomography'\n",
      "\n",
      "OpenCV(4.6.0) /croot/opencv-suite_1676452025216/work/modules/calib3d/src/fundam.cpp:385: error: (-28:Unknown error code -28) The input arrays should have at least 4 corresponding point sets to calculate Homography in function 'findHomography'\n",
      "\n",
      "OpenCV(4.6.0) /croot/opencv-suite_1676452025216/work/modules/calib3d/src/fundam.cpp:385: error: (-28:Unknown error code -28) The input arrays should have at least 4 corresponding point sets to calculate Homography in function 'findHomography'\n",
      "\n",
      "OpenCV(4.6.0) /croot/opencv-suite_1676452025216/work/modules/calib3d/src/fundam.cpp:385: error: (-28:Unknown error code -28) The input arrays should have at least 4 corresponding point sets to calculate Homography in function 'findHomography'\n",
      "\n",
      "OpenCV(4.6.0) /croot/opencv-suite_1676452025216/work/modules/calib3d/src/fundam.cpp:385: error: (-28:Unknown error code -28) The input arrays should have at least 4 corresponding point sets to calculate Homography in function 'findHomography'\n",
      "\n",
      "OpenCV(4.6.0) /croot/opencv-suite_1676452025216/work/modules/calib3d/src/fundam.cpp:385: error: (-28:Unknown error code -28) The input arrays should have at least 4 corresponding point sets to calculate Homography in function 'findHomography'\n",
      "\n",
      "OpenCV(4.6.0) /croot/opencv-suite_1676452025216/work/modules/calib3d/src/fundam.cpp:385: error: (-28:Unknown error code -28) The input arrays should have at least 4 corresponding point sets to calculate Homography in function 'findHomography'\n",
      "\n",
      "OpenCV(4.6.0) /croot/opencv-suite_1676452025216/work/modules/calib3d/src/fundam.cpp:385: error: (-28:Unknown error code -28) The input arrays should have at least 4 corresponding point sets to calculate Homography in function 'findHomography'\n",
      "\n",
      "OpenCV(4.6.0) /croot/opencv-suite_1676452025216/work/modules/calib3d/src/fundam.cpp:385: error: (-28:Unknown error code -28) The input arrays should have at least 4 corresponding point sets to calculate Homography in function 'findHomography'\n",
      "\n",
      "OpenCV(4.6.0) /croot/opencv-suite_1676452025216/work/modules/calib3d/src/fundam.cpp:385: error: (-28:Unknown error code -28) The input arrays should have at least 4 corresponding point sets to calculate Homography in function 'findHomography'\n",
      "\n",
      "OpenCV(4.6.0) /croot/opencv-suite_1676452025216/work/modules/calib3d/src/fundam.cpp:385: error: (-28:Unknown error code -28) The input arrays should have at least 4 corresponding point sets to calculate Homography in function 'findHomography'\n",
      "\n",
      "OpenCV(4.6.0) /croot/opencv-suite_1676452025216/work/modules/calib3d/src/fundam.cpp:385: error: (-28:Unknown error code -28) The input arrays should have at least 4 corresponding point sets to calculate Homography in function 'findHomography'\n",
      "\n",
      "OpenCV(4.6.0) /croot/opencv-suite_1676452025216/work/modules/calib3d/src/fundam.cpp:385: error: (-28:Unknown error code -28) The input arrays should have at least 4 corresponding point sets to calculate Homography in function 'findHomography'\n",
      "\n"
     ]
    },
    {
     "name": "stderr",
     "output_type": "stream",
     "text": [
      "\r",
      "6it [03:34, 39.71s/it]"
     ]
    },
    {
     "name": "stdout",
     "output_type": "stream",
     "text": [
      "OpenCV(4.6.0) /croot/opencv-suite_1676452025216/work/modules/calib3d/src/fundam.cpp:385: error: (-28:Unknown error code -28) The input arrays should have at least 4 corresponding point sets to calculate Homography in function 'findHomography'\n",
      "\n",
      "OpenCV(4.6.0) /croot/opencv-suite_1676452025216/work/modules/calib3d/src/fundam.cpp:385: error: (-28:Unknown error code -28) The input arrays should have at least 4 corresponding point sets to calculate Homography in function 'findHomography'\n",
      "\n",
      "OpenCV(4.6.0) /croot/opencv-suite_1676452025216/work/modules/calib3d/src/fundam.cpp:385: error: (-28:Unknown error code -28) The input arrays should have at least 4 corresponding point sets to calculate Homography in function 'findHomography'\n",
      "\n",
      "OpenCV(4.6.0) /croot/opencv-suite_1676452025216/work/modules/calib3d/src/fundam.cpp:385: error: (-28:Unknown error code -28) The input arrays should have at least 4 corresponding point sets to calculate Homography in function 'findHomography'\n",
      "\n",
      "OpenCV(4.6.0) /croot/opencv-suite_1676452025216/work/modules/calib3d/src/fundam.cpp:385: error: (-28:Unknown error code -28) The input arrays should have at least 4 corresponding point sets to calculate Homography in function 'findHomography'\n",
      "\n",
      "OpenCV(4.6.0) /croot/opencv-suite_1676452025216/work/modules/calib3d/src/fundam.cpp:385: error: (-28:Unknown error code -28) The input arrays should have at least 4 corresponding point sets to calculate Homography in function 'findHomography'\n",
      "\n",
      "OpenCV(4.6.0) /croot/opencv-suite_1676452025216/work/modules/calib3d/src/fundam.cpp:385: error: (-28:Unknown error code -28) The input arrays should have at least 4 corresponding point sets to calculate Homography in function 'findHomography'\n",
      "\n",
      "OpenCV(4.6.0) /croot/opencv-suite_1676452025216/work/modules/calib3d/src/fundam.cpp:385: error: (-28:Unknown error code -28) The input arrays should have at least 4 corresponding point sets to calculate Homography in function 'findHomography'\n",
      "\n",
      "OpenCV(4.6.0) /croot/opencv-suite_1676452025216/work/modules/calib3d/src/fundam.cpp:385: error: (-28:Unknown error code -28) The input arrays should have at least 4 corresponding point sets to calculate Homography in function 'findHomography'\n",
      "\n",
      "OpenCV(4.6.0) /croot/opencv-suite_1676452025216/work/modules/calib3d/src/fundam.cpp:385: error: (-28:Unknown error code -28) The input arrays should have at least 4 corresponding point sets to calculate Homography in function 'findHomography'\n",
      "\n",
      "OpenCV(4.6.0) /croot/opencv-suite_1676452025216/work/modules/calib3d/src/fundam.cpp:385: error: (-28:Unknown error code -28) The input arrays should have at least 4 corresponding point sets to calculate Homography in function 'findHomography'\n",
      "\n",
      "OpenCV(4.6.0) /croot/opencv-suite_1676452025216/work/modules/calib3d/src/fundam.cpp:385: error: (-28:Unknown error code -28) The input arrays should have at least 4 corresponding point sets to calculate Homography in function 'findHomography'\n",
      "\n",
      "OpenCV(4.6.0) /croot/opencv-suite_1676452025216/work/modules/calib3d/src/fundam.cpp:385: error: (-28:Unknown error code -28) The input arrays should have at least 4 corresponding point sets to calculate Homography in function 'findHomography'\n",
      "\n",
      "OpenCV(4.6.0) /croot/opencv-suite_1676452025216/work/modules/calib3d/src/fundam.cpp:385: error: (-28:Unknown error code -28) The input arrays should have at least 4 corresponding point sets to calculate Homography in function 'findHomography'\n",
      "\n"
     ]
    },
    {
     "name": "stderr",
     "output_type": "stream",
     "text": [
      "\r",
      "7it [03:43, 29.72s/it]"
     ]
    },
    {
     "name": "stdout",
     "output_type": "stream",
     "text": [
      "OpenCV(4.6.0) /croot/opencv-suite_1676452025216/work/modules/calib3d/src/fundam.cpp:385: error: (-28:Unknown error code -28) The input arrays should have at least 4 corresponding point sets to calculate Homography in function 'findHomography'\n",
      "\n",
      "OpenCV(4.6.0) /croot/opencv-suite_1676452025216/work/modules/calib3d/src/fundam.cpp:385: error: (-28:Unknown error code -28) The input arrays should have at least 4 corresponding point sets to calculate Homography in function 'findHomography'\n",
      "\n",
      "OpenCV(4.6.0) /croot/opencv-suite_1676452025216/work/modules/calib3d/src/fundam.cpp:385: error: (-28:Unknown error code -28) The input arrays should have at least 4 corresponding point sets to calculate Homography in function 'findHomography'\n",
      "\n",
      "OpenCV(4.6.0) /croot/opencv-suite_1676452025216/work/modules/calib3d/src/fundam.cpp:385: error: (-28:Unknown error code -28) The input arrays should have at least 4 corresponding point sets to calculate Homography in function 'findHomography'\n",
      "\n",
      "OpenCV(4.6.0) /croot/opencv-suite_1676452025216/work/modules/calib3d/src/fundam.cpp:385: error: (-28:Unknown error code -28) The input arrays should have at least 4 corresponding point sets to calculate Homography in function 'findHomography'\n",
      "\n",
      "OpenCV(4.6.0) /croot/opencv-suite_1676452025216/work/modules/calib3d/src/fundam.cpp:385: error: (-28:Unknown error code -28) The input arrays should have at least 4 corresponding point sets to calculate Homography in function 'findHomography'\n",
      "\n",
      "OpenCV(4.6.0) /croot/opencv-suite_1676452025216/work/modules/calib3d/src/fundam.cpp:385: error: (-28:Unknown error code -28) The input arrays should have at least 4 corresponding point sets to calculate Homography in function 'findHomography'\n",
      "\n"
     ]
    },
    {
     "name": "stderr",
     "output_type": "stream",
     "text": [
      "\r",
      "8it [03:53, 23.33s/it]"
     ]
    },
    {
     "name": "stdout",
     "output_type": "stream",
     "text": [
      "OpenCV(4.6.0) /croot/opencv-suite_1676452025216/work/modules/calib3d/src/fundam.cpp:385: error: (-28:Unknown error code -28) The input arrays should have at least 4 corresponding point sets to calculate Homography in function 'findHomography'\n",
      "\n"
     ]
    },
    {
     "name": "stderr",
     "output_type": "stream",
     "text": [
      "10it [04:24, 19.69s/it]"
     ]
    },
    {
     "name": "stdout",
     "output_type": "stream",
     "text": [
      "OpenCV(4.6.0) /croot/opencv-suite_1676452025216/work/modules/calib3d/src/fundam.cpp:385: error: (-28:Unknown error code -28) The input arrays should have at least 4 corresponding point sets to calculate Homography in function 'findHomography'\n",
      "\n",
      "OpenCV(4.6.0) /croot/opencv-suite_1676452025216/work/modules/calib3d/src/fundam.cpp:385: error: (-28:Unknown error code -28) The input arrays should have at least 4 corresponding point sets to calculate Homography in function 'findHomography'\n",
      "\n",
      "OpenCV(4.6.0) /croot/opencv-suite_1676452025216/work/modules/calib3d/src/fundam.cpp:385: error: (-28:Unknown error code -28) The input arrays should have at least 4 corresponding point sets to calculate Homography in function 'findHomography'\n",
      "\n"
     ]
    },
    {
     "name": "stderr",
     "output_type": "stream",
     "text": [
      "\r",
      "11it [04:34, 16.75s/it]"
     ]
    },
    {
     "name": "stdout",
     "output_type": "stream",
     "text": [
      "Warning: input resolution is very large, results may vary\n",
      "Warning: input resolution is very large, results may vary\n",
      "Warning: input resolution is very large, results may vary\n",
      "Warning: input resolution is very large, results may vary\n",
      "Warning: input resolution is very large, results may vary\n",
      "Warning: input resolution is very large, results may vary\n",
      "Warning: input resolution is very large, results may vary\n",
      "Warning: input resolution is very large, results may vary\n",
      "Warning: input resolution is very large, results may vary\n",
      "Warning: input resolution is very large, results may vary\n",
      "Warning: input resolution is very large, results may vary\n",
      "Warning: input resolution is very large, results may vary\n",
      "Warning: input resolution is very large, results may vary\n",
      "Warning: input resolution is very large, results may vary\n",
      "Warning: input resolution is very large, results may vary\n",
      "Warning: input resolution is very large, results may vary\n",
      "Warning: input resolution is very large, results may vary\n",
      "Warning: input resolution is very large, results may vary\n",
      "Warning: input resolution is very large, results may vary\n",
      "Warning: input resolution is very large, results may vary\n",
      "Warning: input resolution is very large, results may vary\n",
      "Warning: input resolution is very large, results may vary\n",
      "Warning: input resolution is very large, results may vary\n",
      "Warning: input resolution is very large, results may vary\n",
      "Warning: input resolution is very large, results may vary\n",
      "Warning: input resolution is very large, results may vary\n",
      "Warning: input resolution is very large, results may vary\n",
      "Warning: input resolution is very large, results may vary\n",
      "Warning: input resolution is very large, results may vary\n",
      "Warning: input resolution is very large, results may vary\n",
      "Warning: input resolution is very large, results may vary\n",
      "Warning: input resolution is very large, results may vary\n",
      "Warning: input resolution is very large, results may vary\n",
      "Warning: input resolution is very large, results may vary\n",
      "Warning: input resolution is very large, results may vary\n",
      "Warning: input resolution is very large, results may vary\n",
      "Warning: input resolution is very large, results may vary\n",
      "Warning: input resolution is very large, results may vary\n",
      "Warning: input resolution is very large, results may vary\n",
      "Warning: input resolution is very large, results may vary\n",
      "Warning: input resolution is very large, results may vary\n",
      "Warning: input resolution is very large, results may vary\n",
      "Warning: input resolution is very large, results may vary\n",
      "Warning: input resolution is very large, results may vary\n",
      "Warning: input resolution is very large, results may vary\n",
      "Warning: input resolution is very large, results may vary\n",
      "Warning: input resolution is very large, results may vary\n",
      "Warning: input resolution is very large, results may vary\n",
      "Warning: input resolution is very large, results may vary\n",
      "Warning: input resolution is very large, results may vary\n"
     ]
    },
    {
     "name": "stderr",
     "output_type": "stream",
     "text": [
      "\r",
      "12it [05:12, 22.98s/it]"
     ]
    },
    {
     "name": "stdout",
     "output_type": "stream",
     "text": [
      "OpenCV(4.6.0) /croot/opencv-suite_1676452025216/work/modules/calib3d/src/fundam.cpp:385: error: (-28:Unknown error code -28) The input arrays should have at least 4 corresponding point sets to calculate Homography in function 'findHomography'\n",
      "\n",
      "OpenCV(4.6.0) /croot/opencv-suite_1676452025216/work/modules/calib3d/src/fundam.cpp:385: error: (-28:Unknown error code -28) The input arrays should have at least 4 corresponding point sets to calculate Homography in function 'findHomography'\n",
      "\n",
      "OpenCV(4.6.0) /croot/opencv-suite_1676452025216/work/modules/calib3d/src/fundam.cpp:385: error: (-28:Unknown error code -28) The input arrays should have at least 4 corresponding point sets to calculate Homography in function 'findHomography'\n",
      "\n",
      "OpenCV(4.6.0) /croot/opencv-suite_1676452025216/work/modules/calib3d/src/fundam.cpp:385: error: (-28:Unknown error code -28) The input arrays should have at least 4 corresponding point sets to calculate Homography in function 'findHomography'\n",
      "\n",
      "OpenCV(4.6.0) /croot/opencv-suite_1676452025216/work/modules/calib3d/src/fundam.cpp:385: error: (-28:Unknown error code -28) The input arrays should have at least 4 corresponding point sets to calculate Homography in function 'findHomography'\n",
      "\n",
      "OpenCV(4.6.0) /croot/opencv-suite_1676452025216/work/modules/calib3d/src/fundam.cpp:385: error: (-28:Unknown error code -28) The input arrays should have at least 4 corresponding point sets to calculate Homography in function 'findHomography'\n",
      "\n",
      "OpenCV(4.6.0) /croot/opencv-suite_1676452025216/work/modules/calib3d/src/fundam.cpp:385: error: (-28:Unknown error code -28) The input arrays should have at least 4 corresponding point sets to calculate Homography in function 'findHomography'\n",
      "\n",
      "OpenCV(4.6.0) /croot/opencv-suite_1676452025216/work/modules/calib3d/src/fundam.cpp:385: error: (-28:Unknown error code -28) The input arrays should have at least 4 corresponding point sets to calculate Homography in function 'findHomography'\n",
      "\n",
      "OpenCV(4.6.0) /croot/opencv-suite_1676452025216/work/modules/calib3d/src/fundam.cpp:385: error: (-28:Unknown error code -28) The input arrays should have at least 4 corresponding point sets to calculate Homography in function 'findHomography'\n",
      "\n"
     ]
    },
    {
     "name": "stderr",
     "output_type": "stream",
     "text": [
      "14it [05:33, 16.83s/it]"
     ]
    },
    {
     "name": "stdout",
     "output_type": "stream",
     "text": [
      "OpenCV(4.6.0) /croot/opencv-suite_1676452025216/work/modules/calib3d/src/fundam.cpp:385: error: (-28:Unknown error code -28) The input arrays should have at least 4 corresponding point sets to calculate Homography in function 'findHomography'\n",
      "\n",
      "OpenCV(4.6.0) /croot/opencv-suite_1676452025216/work/modules/calib3d/src/fundam.cpp:385: error: (-28:Unknown error code -28) The input arrays should have at least 4 corresponding point sets to calculate Homography in function 'findHomography'\n",
      "\n",
      "OpenCV(4.6.0) /croot/opencv-suite_1676452025216/work/modules/calib3d/src/fundam.cpp:385: error: (-28:Unknown error code -28) The input arrays should have at least 4 corresponding point sets to calculate Homography in function 'findHomography'\n",
      "\n",
      "OpenCV(4.6.0) /croot/opencv-suite_1676452025216/work/modules/calib3d/src/fundam.cpp:385: error: (-28:Unknown error code -28) The input arrays should have at least 4 corresponding point sets to calculate Homography in function 'findHomography'\n",
      "\n",
      "OpenCV(4.6.0) /croot/opencv-suite_1676452025216/work/modules/calib3d/src/fundam.cpp:385: error: (-28:Unknown error code -28) The input arrays should have at least 4 corresponding point sets to calculate Homography in function 'findHomography'\n",
      "\n"
     ]
    },
    {
     "name": "stderr",
     "output_type": "stream",
     "text": [
      "\r",
      "15it [05:44, 14.99s/it]"
     ]
    },
    {
     "name": "stdout",
     "output_type": "stream",
     "text": [
      "OpenCV(4.6.0) /croot/opencv-suite_1676452025216/work/modules/calib3d/src/fundam.cpp:385: error: (-28:Unknown error code -28) The input arrays should have at least 4 corresponding point sets to calculate Homography in function 'findHomography'\n",
      "\n",
      "OpenCV(4.6.0) /croot/opencv-suite_1676452025216/work/modules/calib3d/src/fundam.cpp:385: error: (-28:Unknown error code -28) The input arrays should have at least 4 corresponding point sets to calculate Homography in function 'findHomography'\n",
      "\n"
     ]
    },
    {
     "name": "stderr",
     "output_type": "stream",
     "text": [
      "\r",
      "16it [05:54, 13.71s/it]"
     ]
    },
    {
     "name": "stdout",
     "output_type": "stream",
     "text": [
      "OpenCV(4.6.0) /croot/opencv-suite_1676452025216/work/modules/calib3d/src/fundam.cpp:385: error: (-28:Unknown error code -28) The input arrays should have at least 4 corresponding point sets to calculate Homography in function 'findHomography'\n",
      "\n",
      "OpenCV(4.6.0) /croot/opencv-suite_1676452025216/work/modules/calib3d/src/fundam.cpp:385: error: (-28:Unknown error code -28) The input arrays should have at least 4 corresponding point sets to calculate Homography in function 'findHomography'\n",
      "\n"
     ]
    },
    {
     "name": "stderr",
     "output_type": "stream",
     "text": [
      "18it [06:17, 12.56s/it]"
     ]
    },
    {
     "name": "stdout",
     "output_type": "stream",
     "text": [
      "OpenCV(4.6.0) /croot/opencv-suite_1676452025216/work/modules/calib3d/src/fundam.cpp:385: error: (-28:Unknown error code -28) The input arrays should have at least 4 corresponding point sets to calculate Homography in function 'findHomography'\n",
      "\n",
      "OpenCV(4.6.0) /croot/opencv-suite_1676452025216/work/modules/calib3d/src/fundam.cpp:385: error: (-28:Unknown error code -28) The input arrays should have at least 4 corresponding point sets to calculate Homography in function 'findHomography'\n",
      "\n",
      "OpenCV(4.6.0) /croot/opencv-suite_1676452025216/work/modules/calib3d/src/fundam.cpp:385: error: (-28:Unknown error code -28) The input arrays should have at least 4 corresponding point sets to calculate Homography in function 'findHomography'\n",
      "\n",
      "OpenCV(4.6.0) /croot/opencv-suite_1676452025216/work/modules/calib3d/src/fundam.cpp:385: error: (-28:Unknown error code -28) The input arrays should have at least 4 corresponding point sets to calculate Homography in function 'findHomography'\n",
      "\n",
      "OpenCV(4.6.0) /croot/opencv-suite_1676452025216/work/modules/calib3d/src/fundam.cpp:385: error: (-28:Unknown error code -28) The input arrays should have at least 4 corresponding point sets to calculate Homography in function 'findHomography'\n",
      "\n",
      "OpenCV(4.6.0) /croot/opencv-suite_1676452025216/work/modules/calib3d/src/fundam.cpp:385: error: (-28:Unknown error code -28) The input arrays should have at least 4 corresponding point sets to calculate Homography in function 'findHomography'\n",
      "\n",
      "OpenCV(4.6.0) /croot/opencv-suite_1676452025216/work/modules/calib3d/src/fundam.cpp:385: error: (-28:Unknown error code -28) The input arrays should have at least 4 corresponding point sets to calculate Homography in function 'findHomography'\n",
      "\n"
     ]
    },
    {
     "name": "stderr",
     "output_type": "stream",
     "text": [
      "\r",
      "19it [06:32, 13.23s/it]"
     ]
    },
    {
     "name": "stdout",
     "output_type": "stream",
     "text": [
      "OpenCV(4.6.0) /croot/opencv-suite_1676452025216/work/modules/calib3d/src/fundam.cpp:385: error: (-28:Unknown error code -28) The input arrays should have at least 4 corresponding point sets to calculate Homography in function 'findHomography'\n",
      "\n",
      "OpenCV(4.6.0) /croot/opencv-suite_1676452025216/work/modules/calib3d/src/fundam.cpp:385: error: (-28:Unknown error code -28) The input arrays should have at least 4 corresponding point sets to calculate Homography in function 'findHomography'\n",
      "\n",
      "OpenCV(4.6.0) /croot/opencv-suite_1676452025216/work/modules/calib3d/src/fundam.cpp:385: error: (-28:Unknown error code -28) The input arrays should have at least 4 corresponding point sets to calculate Homography in function 'findHomography'\n",
      "\n",
      "OpenCV(4.6.0) /croot/opencv-suite_1676452025216/work/modules/calib3d/src/fundam.cpp:385: error: (-28:Unknown error code -28) The input arrays should have at least 4 corresponding point sets to calculate Homography in function 'findHomography'\n",
      "\n",
      "OpenCV(4.6.0) /croot/opencv-suite_1676452025216/work/modules/calib3d/src/fundam.cpp:385: error: (-28:Unknown error code -28) The input arrays should have at least 4 corresponding point sets to calculate Homography in function 'findHomography'\n",
      "\n"
     ]
    },
    {
     "name": "stderr",
     "output_type": "stream",
     "text": [
      "\r",
      "20it [06:42, 12.26s/it]"
     ]
    },
    {
     "name": "stdout",
     "output_type": "stream",
     "text": [
      "OpenCV(4.6.0) /croot/opencv-suite_1676452025216/work/modules/calib3d/src/fundam.cpp:385: error: (-28:Unknown error code -28) The input arrays should have at least 4 corresponding point sets to calculate Homography in function 'findHomography'\n",
      "\n",
      "OpenCV(4.6.0) /croot/opencv-suite_1676452025216/work/modules/calib3d/src/fundam.cpp:385: error: (-28:Unknown error code -28) The input arrays should have at least 4 corresponding point sets to calculate Homography in function 'findHomography'\n",
      "\n",
      "OpenCV(4.6.0) /croot/opencv-suite_1676452025216/work/modules/calib3d/src/fundam.cpp:385: error: (-28:Unknown error code -28) The input arrays should have at least 4 corresponding point sets to calculate Homography in function 'findHomography'\n",
      "\n"
     ]
    },
    {
     "name": "stderr",
     "output_type": "stream",
     "text": [
      "\r",
      "21it [06:52, 11.55s/it]"
     ]
    },
    {
     "name": "stdout",
     "output_type": "stream",
     "text": [
      "OpenCV(4.6.0) /croot/opencv-suite_1676452025216/work/modules/calib3d/src/fundam.cpp:385: error: (-28:Unknown error code -28) The input arrays should have at least 4 corresponding point sets to calculate Homography in function 'findHomography'\n",
      "\n",
      "OpenCV(4.6.0) /croot/opencv-suite_1676452025216/work/modules/calib3d/src/fundam.cpp:385: error: (-28:Unknown error code -28) The input arrays should have at least 4 corresponding point sets to calculate Homography in function 'findHomography'\n",
      "\n"
     ]
    },
    {
     "name": "stderr",
     "output_type": "stream",
     "text": [
      "\r",
      "22it [07:03, 11.36s/it]"
     ]
    },
    {
     "name": "stdout",
     "output_type": "stream",
     "text": [
      "OpenCV(4.6.0) /croot/opencv-suite_1676452025216/work/modules/calib3d/src/fundam.cpp:385: error: (-28:Unknown error code -28) The input arrays should have at least 4 corresponding point sets to calculate Homography in function 'findHomography'\n",
      "\n",
      "OpenCV(4.6.0) /croot/opencv-suite_1676452025216/work/modules/calib3d/src/fundam.cpp:385: error: (-28:Unknown error code -28) The input arrays should have at least 4 corresponding point sets to calculate Homography in function 'findHomography'\n",
      "\n",
      "matmul: Input operand 0 does not have enough dimensions (has 0, gufunc core with signature (n?,k),(k,m?)->(n?,m?) requires 1)\n"
     ]
    },
    {
     "name": "stderr",
     "output_type": "stream",
     "text": [
      "\r",
      "23it [08:33, 35.16s/it]"
     ]
    },
    {
     "name": "stdout",
     "output_type": "stream",
     "text": [
      "OpenCV(4.6.0) /croot/opencv-suite_1676452025216/work/modules/calib3d/src/fundam.cpp:385: error: (-28:Unknown error code -28) The input arrays should have at least 4 corresponding point sets to calculate Homography in function 'findHomography'\n",
      "\n",
      "OpenCV(4.6.0) /croot/opencv-suite_1676452025216/work/modules/calib3d/src/fundam.cpp:385: error: (-28:Unknown error code -28) The input arrays should have at least 4 corresponding point sets to calculate Homography in function 'findHomography'\n",
      "\n",
      "OpenCV(4.6.0) /croot/opencv-suite_1676452025216/work/modules/calib3d/src/fundam.cpp:385: error: (-28:Unknown error code -28) The input arrays should have at least 4 corresponding point sets to calculate Homography in function 'findHomography'\n",
      "\n",
      "OpenCV(4.6.0) /croot/opencv-suite_1676452025216/work/modules/calib3d/src/fundam.cpp:385: error: (-28:Unknown error code -28) The input arrays should have at least 4 corresponding point sets to calculate Homography in function 'findHomography'\n",
      "\n",
      "OpenCV(4.6.0) /croot/opencv-suite_1676452025216/work/modules/calib3d/src/fundam.cpp:385: error: (-28:Unknown error code -28) The input arrays should have at least 4 corresponding point sets to calculate Homography in function 'findHomography'\n",
      "\n",
      "OpenCV(4.6.0) /croot/opencv-suite_1676452025216/work/modules/calib3d/src/fundam.cpp:385: error: (-28:Unknown error code -28) The input arrays should have at least 4 corresponding point sets to calculate Homography in function 'findHomography'\n",
      "\n",
      "matmul: Input operand 0 does not have enough dimensions (has 0, gufunc core with signature (n?,k),(k,m?)->(n?,m?) requires 1)\n"
     ]
    },
    {
     "name": "stderr",
     "output_type": "stream",
     "text": [
      "\r",
      "24it [08:42, 27.25s/it]"
     ]
    },
    {
     "name": "stdout",
     "output_type": "stream",
     "text": [
      "OpenCV(4.6.0) /croot/opencv-suite_1676452025216/work/modules/calib3d/src/fundam.cpp:385: error: (-28:Unknown error code -28) The input arrays should have at least 4 corresponding point sets to calculate Homography in function 'findHomography'\n",
      "\n",
      "OpenCV(4.6.0) /croot/opencv-suite_1676452025216/work/modules/calib3d/src/fundam.cpp:385: error: (-28:Unknown error code -28) The input arrays should have at least 4 corresponding point sets to calculate Homography in function 'findHomography'\n",
      "\n",
      "OpenCV(4.6.0) /croot/opencv-suite_1676452025216/work/modules/calib3d/src/fundam.cpp:385: error: (-28:Unknown error code -28) The input arrays should have at least 4 corresponding point sets to calculate Homography in function 'findHomography'\n",
      "\n",
      "OpenCV(4.6.0) /croot/opencv-suite_1676452025216/work/modules/calib3d/src/fundam.cpp:385: error: (-28:Unknown error code -28) The input arrays should have at least 4 corresponding point sets to calculate Homography in function 'findHomography'\n",
      "\n"
     ]
    },
    {
     "name": "stderr",
     "output_type": "stream",
     "text": [
      "\r",
      "25it [08:52, 21.98s/it]"
     ]
    },
    {
     "name": "stdout",
     "output_type": "stream",
     "text": [
      "OpenCV(4.6.0) /croot/opencv-suite_1676452025216/work/modules/calib3d/src/fundam.cpp:385: error: (-28:Unknown error code -28) The input arrays should have at least 4 corresponding point sets to calculate Homography in function 'findHomography'\n",
      "\n",
      "OpenCV(4.6.0) /croot/opencv-suite_1676452025216/work/modules/calib3d/src/fundam.cpp:385: error: (-28:Unknown error code -28) The input arrays should have at least 4 corresponding point sets to calculate Homography in function 'findHomography'\n",
      "\n"
     ]
    },
    {
     "name": "stderr",
     "output_type": "stream",
     "text": [
      "\r",
      "26it [09:03, 18.69s/it]"
     ]
    },
    {
     "name": "stdout",
     "output_type": "stream",
     "text": [
      "OpenCV(4.6.0) /croot/opencv-suite_1676452025216/work/modules/calib3d/src/fundam.cpp:385: error: (-28:Unknown error code -28) The input arrays should have at least 4 corresponding point sets to calculate Homography in function 'findHomography'\n",
      "\n",
      "OpenCV(4.6.0) /croot/opencv-suite_1676452025216/work/modules/calib3d/src/fundam.cpp:385: error: (-28:Unknown error code -28) The input arrays should have at least 4 corresponding point sets to calculate Homography in function 'findHomography'\n",
      "\n",
      "OpenCV(4.6.0) /croot/opencv-suite_1676452025216/work/modules/calib3d/src/fundam.cpp:385: error: (-28:Unknown error code -28) The input arrays should have at least 4 corresponding point sets to calculate Homography in function 'findHomography'\n",
      "\n",
      "OpenCV(4.6.0) /croot/opencv-suite_1676452025216/work/modules/calib3d/src/fundam.cpp:385: error: (-28:Unknown error code -28) The input arrays should have at least 4 corresponding point sets to calculate Homography in function 'findHomography'\n",
      "\n",
      "OpenCV(4.6.0) /croot/opencv-suite_1676452025216/work/modules/calib3d/src/fundam.cpp:385: error: (-28:Unknown error code -28) The input arrays should have at least 4 corresponding point sets to calculate Homography in function 'findHomography'\n",
      "\n",
      "OpenCV(4.6.0) /croot/opencv-suite_1676452025216/work/modules/calib3d/src/fundam.cpp:385: error: (-28:Unknown error code -28) The input arrays should have at least 4 corresponding point sets to calculate Homography in function 'findHomography'\n",
      "\n",
      "OpenCV(4.6.0) /croot/opencv-suite_1676452025216/work/modules/calib3d/src/fundam.cpp:385: error: (-28:Unknown error code -28) The input arrays should have at least 4 corresponding point sets to calculate Homography in function 'findHomography'\n",
      "\n",
      "OpenCV(4.6.0) /croot/opencv-suite_1676452025216/work/modules/calib3d/src/fundam.cpp:385: error: (-28:Unknown error code -28) The input arrays should have at least 4 corresponding point sets to calculate Homography in function 'findHomography'\n",
      "\n",
      "matmul: Input operand 0 does not have enough dimensions (has 0, gufunc core with signature (n?,k),(k,m?)->(n?,m?) requires 1)\n",
      "matmul: Input operand 0 does not have enough dimensions (has 0, gufunc core with signature (n?,k),(k,m?)->(n?,m?) requires 1)\n",
      "OpenCV(4.6.0) /croot/opencv-suite_1676452025216/work/modules/calib3d/src/fundam.cpp:385: error: (-28:Unknown error code -28) The input arrays should have at least 4 corresponding point sets to calculate Homography in function 'findHomography'\n",
      "\n",
      "OpenCV(4.6.0) /croot/opencv-suite_1676452025216/work/modules/calib3d/src/fundam.cpp:385: error: (-28:Unknown error code -28) The input arrays should have at least 4 corresponding point sets to calculate Homography in function 'findHomography'\n",
      "\n",
      "OpenCV(4.6.0) /croot/opencv-suite_1676452025216/work/modules/calib3d/src/fundam.cpp:385: error: (-28:Unknown error code -28) The input arrays should have at least 4 corresponding point sets to calculate Homography in function 'findHomography'\n",
      "\n"
     ]
    },
    {
     "name": "stderr",
     "output_type": "stream",
     "text": [
      "\r",
      "27it [09:11, 15.58s/it]"
     ]
    },
    {
     "name": "stdout",
     "output_type": "stream",
     "text": [
      "OpenCV(4.6.0) /croot/opencv-suite_1676452025216/work/modules/calib3d/src/fundam.cpp:385: error: (-28:Unknown error code -28) The input arrays should have at least 4 corresponding point sets to calculate Homography in function 'findHomography'\n",
      "\n",
      "OpenCV(4.6.0) /croot/opencv-suite_1676452025216/work/modules/calib3d/src/fundam.cpp:385: error: (-28:Unknown error code -28) The input arrays should have at least 4 corresponding point sets to calculate Homography in function 'findHomography'\n",
      "\n",
      "OpenCV(4.6.0) /croot/opencv-suite_1676452025216/work/modules/calib3d/src/fundam.cpp:385: error: (-28:Unknown error code -28) The input arrays should have at least 4 corresponding point sets to calculate Homography in function 'findHomography'\n",
      "\n",
      "OpenCV(4.6.0) /croot/opencv-suite_1676452025216/work/modules/calib3d/src/fundam.cpp:385: error: (-28:Unknown error code -28) The input arrays should have at least 4 corresponding point sets to calculate Homography in function 'findHomography'\n",
      "\n",
      "OpenCV(4.6.0) /croot/opencv-suite_1676452025216/work/modules/calib3d/src/fundam.cpp:385: error: (-28:Unknown error code -28) The input arrays should have at least 4 corresponding point sets to calculate Homography in function 'findHomography'\n",
      "\n",
      "OpenCV(4.6.0) /croot/opencv-suite_1676452025216/work/modules/calib3d/src/fundam.cpp:385: error: (-28:Unknown error code -28) The input arrays should have at least 4 corresponding point sets to calculate Homography in function 'findHomography'\n",
      "\n",
      "OpenCV(4.6.0) /croot/opencv-suite_1676452025216/work/modules/calib3d/src/fundam.cpp:385: error: (-28:Unknown error code -28) The input arrays should have at least 4 corresponding point sets to calculate Homography in function 'findHomography'\n",
      "\n",
      "OpenCV(4.6.0) /croot/opencv-suite_1676452025216/work/modules/calib3d/src/fundam.cpp:385: error: (-28:Unknown error code -28) The input arrays should have at least 4 corresponding point sets to calculate Homography in function 'findHomography'\n",
      "\n"
     ]
    },
    {
     "name": "stderr",
     "output_type": "stream",
     "text": [
      "\r",
      "28it [09:20, 13.46s/it]"
     ]
    },
    {
     "name": "stdout",
     "output_type": "stream",
     "text": [
      "matmul: Input operand 0 does not have enough dimensions (has 0, gufunc core with signature (n?,k),(k,m?)->(n?,m?) requires 1)\n",
      "OpenCV(4.6.0) /croot/opencv-suite_1676452025216/work/modules/calib3d/src/fundam.cpp:385: error: (-28:Unknown error code -28) The input arrays should have at least 4 corresponding point sets to calculate Homography in function 'findHomography'\n",
      "\n",
      "OpenCV(4.6.0) /croot/opencv-suite_1676452025216/work/modules/calib3d/src/fundam.cpp:385: error: (-28:Unknown error code -28) The input arrays should have at least 4 corresponding point sets to calculate Homography in function 'findHomography'\n",
      "\n",
      "OpenCV(4.6.0) /croot/opencv-suite_1676452025216/work/modules/calib3d/src/fundam.cpp:385: error: (-28:Unknown error code -28) The input arrays should have at least 4 corresponding point sets to calculate Homography in function 'findHomography'\n",
      "\n",
      "OpenCV(4.6.0) /croot/opencv-suite_1676452025216/work/modules/calib3d/src/fundam.cpp:385: error: (-28:Unknown error code -28) The input arrays should have at least 4 corresponding point sets to calculate Homography in function 'findHomography'\n",
      "\n",
      "OpenCV(4.6.0) /croot/opencv-suite_1676452025216/work/modules/calib3d/src/fundam.cpp:385: error: (-28:Unknown error code -28) The input arrays should have at least 4 corresponding point sets to calculate Homography in function 'findHomography'\n",
      "\n"
     ]
    },
    {
     "name": "stderr",
     "output_type": "stream",
     "text": [
      "\r",
      "29it [09:29, 12.19s/it]"
     ]
    },
    {
     "name": "stdout",
     "output_type": "stream",
     "text": [
      "OpenCV(4.6.0) /croot/opencv-suite_1676452025216/work/modules/calib3d/src/fundam.cpp:385: error: (-28:Unknown error code -28) The input arrays should have at least 4 corresponding point sets to calculate Homography in function 'findHomography'\n",
      "\n",
      "OpenCV(4.6.0) /croot/opencv-suite_1676452025216/work/modules/calib3d/src/fundam.cpp:385: error: (-28:Unknown error code -28) The input arrays should have at least 4 corresponding point sets to calculate Homography in function 'findHomography'\n",
      "\n",
      "OpenCV(4.6.0) /croot/opencv-suite_1676452025216/work/modules/calib3d/src/fundam.cpp:385: error: (-28:Unknown error code -28) The input arrays should have at least 4 corresponding point sets to calculate Homography in function 'findHomography'\n",
      "\n",
      "OpenCV(4.6.0) /croot/opencv-suite_1676452025216/work/modules/calib3d/src/fundam.cpp:385: error: (-28:Unknown error code -28) The input arrays should have at least 4 corresponding point sets to calculate Homography in function 'findHomography'\n",
      "\n",
      "OpenCV(4.6.0) /croot/opencv-suite_1676452025216/work/modules/calib3d/src/fundam.cpp:385: error: (-28:Unknown error code -28) The input arrays should have at least 4 corresponding point sets to calculate Homography in function 'findHomography'\n",
      "\n",
      "matmul: Input operand 0 does not have enough dimensions (has 0, gufunc core with signature (n?,k),(k,m?)->(n?,m?) requires 1)\n"
     ]
    },
    {
     "name": "stderr",
     "output_type": "stream",
     "text": [
      "\r",
      "30it [09:40, 11.89s/it]"
     ]
    },
    {
     "name": "stdout",
     "output_type": "stream",
     "text": [
      "OpenCV(4.6.0) /croot/opencv-suite_1676452025216/work/modules/calib3d/src/fundam.cpp:385: error: (-28:Unknown error code -28) The input arrays should have at least 4 corresponding point sets to calculate Homography in function 'findHomography'\n",
      "\n",
      "OpenCV(4.6.0) /croot/opencv-suite_1676452025216/work/modules/calib3d/src/fundam.cpp:385: error: (-28:Unknown error code -28) The input arrays should have at least 4 corresponding point sets to calculate Homography in function 'findHomography'\n",
      "\n",
      "matmul: Input operand 0 does not have enough dimensions (has 0, gufunc core with signature (n?,k),(k,m?)->(n?,m?) requires 1)\n"
     ]
    },
    {
     "name": "stderr",
     "output_type": "stream",
     "text": [
      "32it [11:07, 30.99s/it]"
     ]
    },
    {
     "name": "stdout",
     "output_type": "stream",
     "text": [
      "OpenCV(4.6.0) /croot/opencv-suite_1676452025216/work/modules/calib3d/src/fundam.cpp:385: error: (-28:Unknown error code -28) The input arrays should have at least 4 corresponding point sets to calculate Homography in function 'findHomography'\n",
      "\n",
      "OpenCV(4.6.0) /croot/opencv-suite_1676452025216/work/modules/calib3d/src/fundam.cpp:385: error: (-28:Unknown error code -28) The input arrays should have at least 4 corresponding point sets to calculate Homography in function 'findHomography'\n",
      "\n",
      "OpenCV(4.6.0) /croot/opencv-suite_1676452025216/work/modules/calib3d/src/fundam.cpp:385: error: (-28:Unknown error code -28) The input arrays should have at least 4 corresponding point sets to calculate Homography in function 'findHomography'\n",
      "\n",
      "OpenCV(4.6.0) /croot/opencv-suite_1676452025216/work/modules/calib3d/src/fundam.cpp:385: error: (-28:Unknown error code -28) The input arrays should have at least 4 corresponding point sets to calculate Homography in function 'findHomography'\n",
      "\n",
      "OpenCV(4.6.0) /croot/opencv-suite_1676452025216/work/modules/calib3d/src/fundam.cpp:385: error: (-28:Unknown error code -28) The input arrays should have at least 4 corresponding point sets to calculate Homography in function 'findHomography'\n",
      "\n",
      "OpenCV(4.6.0) /croot/opencv-suite_1676452025216/work/modules/calib3d/src/fundam.cpp:385: error: (-28:Unknown error code -28) The input arrays should have at least 4 corresponding point sets to calculate Homography in function 'findHomography'\n",
      "\n",
      "OpenCV(4.6.0) /croot/opencv-suite_1676452025216/work/modules/calib3d/src/fundam.cpp:385: error: (-28:Unknown error code -28) The input arrays should have at least 4 corresponding point sets to calculate Homography in function 'findHomography'\n",
      "\n",
      "OpenCV(4.6.0) /croot/opencv-suite_1676452025216/work/modules/calib3d/src/fundam.cpp:385: error: (-28:Unknown error code -28) The input arrays should have at least 4 corresponding point sets to calculate Homography in function 'findHomography'\n",
      "\n",
      "OpenCV(4.6.0) /croot/opencv-suite_1676452025216/work/modules/calib3d/src/fundam.cpp:385: error: (-28:Unknown error code -28) The input arrays should have at least 4 corresponding point sets to calculate Homography in function 'findHomography'\n",
      "\n",
      "OpenCV(4.6.0) /croot/opencv-suite_1676452025216/work/modules/calib3d/src/fundam.cpp:385: error: (-28:Unknown error code -28) The input arrays should have at least 4 corresponding point sets to calculate Homography in function 'findHomography'\n",
      "\n",
      "OpenCV(4.6.0) /croot/opencv-suite_1676452025216/work/modules/calib3d/src/fundam.cpp:385: error: (-28:Unknown error code -28) The input arrays should have at least 4 corresponding point sets to calculate Homography in function 'findHomography'\n",
      "\n",
      "OpenCV(4.6.0) /croot/opencv-suite_1676452025216/work/modules/calib3d/src/fundam.cpp:385: error: (-28:Unknown error code -28) The input arrays should have at least 4 corresponding point sets to calculate Homography in function 'findHomography'\n",
      "\n"
     ]
    },
    {
     "name": "stderr",
     "output_type": "stream",
     "text": [
      "\r",
      "33it [11:16, 24.27s/it]"
     ]
    },
    {
     "name": "stdout",
     "output_type": "stream",
     "text": [
      "OpenCV(4.6.0) /croot/opencv-suite_1676452025216/work/modules/calib3d/src/fundam.cpp:385: error: (-28:Unknown error code -28) The input arrays should have at least 4 corresponding point sets to calculate Homography in function 'findHomography'\n",
      "\n",
      "OpenCV(4.6.0) /croot/opencv-suite_1676452025216/work/modules/calib3d/src/fundam.cpp:385: error: (-28:Unknown error code -28) The input arrays should have at least 4 corresponding point sets to calculate Homography in function 'findHomography'\n",
      "\n",
      "OpenCV(4.6.0) /croot/opencv-suite_1676452025216/work/modules/calib3d/src/fundam.cpp:385: error: (-28:Unknown error code -28) The input arrays should have at least 4 corresponding point sets to calculate Homography in function 'findHomography'\n",
      "\n",
      "OpenCV(4.6.0) /croot/opencv-suite_1676452025216/work/modules/calib3d/src/fundam.cpp:385: error: (-28:Unknown error code -28) The input arrays should have at least 4 corresponding point sets to calculate Homography in function 'findHomography'\n",
      "\n",
      "matmul: Input operand 0 does not have enough dimensions (has 0, gufunc core with signature (n?,k),(k,m?)->(n?,m?) requires 1)\n",
      "OpenCV(4.6.0) /croot/opencv-suite_1676452025216/work/modules/calib3d/src/fundam.cpp:385: error: (-28:Unknown error code -28) The input arrays should have at least 4 corresponding point sets to calculate Homography in function 'findHomography'\n",
      "\n",
      "OpenCV(4.6.0) /croot/opencv-suite_1676452025216/work/modules/calib3d/src/fundam.cpp:385: error: (-28:Unknown error code -28) The input arrays should have at least 4 corresponding point sets to calculate Homography in function 'findHomography'\n",
      "\n"
     ]
    },
    {
     "name": "stderr",
     "output_type": "stream",
     "text": [
      "\r",
      "34it [11:24, 19.58s/it]"
     ]
    },
    {
     "name": "stdout",
     "output_type": "stream",
     "text": [
      "OpenCV(4.6.0) /croot/opencv-suite_1676452025216/work/modules/calib3d/src/fundam.cpp:385: error: (-28:Unknown error code -28) The input arrays should have at least 4 corresponding point sets to calculate Homography in function 'findHomography'\n",
      "\n"
     ]
    },
    {
     "name": "stderr",
     "output_type": "stream",
     "text": [
      "\r",
      "35it [11:37, 17.51s/it]"
     ]
    },
    {
     "name": "stdout",
     "output_type": "stream",
     "text": [
      "OpenCV(4.6.0) /croot/opencv-suite_1676452025216/work/modules/calib3d/src/fundam.cpp:385: error: (-28:Unknown error code -28) The input arrays should have at least 4 corresponding point sets to calculate Homography in function 'findHomography'\n",
      "\n",
      "OpenCV(4.6.0) /croot/opencv-suite_1676452025216/work/modules/calib3d/src/fundam.cpp:385: error: (-28:Unknown error code -28) The input arrays should have at least 4 corresponding point sets to calculate Homography in function 'findHomography'\n",
      "\n",
      "OpenCV(4.6.0) /croot/opencv-suite_1676452025216/work/modules/calib3d/src/fundam.cpp:385: error: (-28:Unknown error code -28) The input arrays should have at least 4 corresponding point sets to calculate Homography in function 'findHomography'\n",
      "\n",
      "OpenCV(4.6.0) /croot/opencv-suite_1676452025216/work/modules/calib3d/src/fundam.cpp:385: error: (-28:Unknown error code -28) The input arrays should have at least 4 corresponding point sets to calculate Homography in function 'findHomography'\n",
      "\n",
      "OpenCV(4.6.0) /croot/opencv-suite_1676452025216/work/modules/calib3d/src/fundam.cpp:385: error: (-28:Unknown error code -28) The input arrays should have at least 4 corresponding point sets to calculate Homography in function 'findHomography'\n",
      "\n",
      "OpenCV(4.6.0) /croot/opencv-suite_1676452025216/work/modules/calib3d/src/fundam.cpp:385: error: (-28:Unknown error code -28) The input arrays should have at least 4 corresponding point sets to calculate Homography in function 'findHomography'\n",
      "\n",
      "OpenCV(4.6.0) /croot/opencv-suite_1676452025216/work/modules/calib3d/src/fundam.cpp:385: error: (-28:Unknown error code -28) The input arrays should have at least 4 corresponding point sets to calculate Homography in function 'findHomography'\n",
      "\n"
     ]
    },
    {
     "name": "stderr",
     "output_type": "stream",
     "text": [
      "\r",
      "36it [11:46, 14.88s/it]"
     ]
    },
    {
     "name": "stdout",
     "output_type": "stream",
     "text": [
      "OpenCV(4.6.0) /croot/opencv-suite_1676452025216/work/modules/calib3d/src/fundam.cpp:385: error: (-28:Unknown error code -28) The input arrays should have at least 4 corresponding point sets to calculate Homography in function 'findHomography'\n",
      "\n"
     ]
    },
    {
     "name": "stderr",
     "output_type": "stream",
     "text": [
      "\r",
      "37it [11:56, 13.61s/it]"
     ]
    },
    {
     "name": "stdout",
     "output_type": "stream",
     "text": [
      "OpenCV(4.6.0) /croot/opencv-suite_1676452025216/work/modules/calib3d/src/fundam.cpp:385: error: (-28:Unknown error code -28) The input arrays should have at least 4 corresponding point sets to calculate Homography in function 'findHomography'\n",
      "\n",
      "OpenCV(4.6.0) /croot/opencv-suite_1676452025216/work/modules/calib3d/src/fundam.cpp:385: error: (-28:Unknown error code -28) The input arrays should have at least 4 corresponding point sets to calculate Homography in function 'findHomography'\n",
      "\n",
      "OpenCV(4.6.0) /croot/opencv-suite_1676452025216/work/modules/calib3d/src/fundam.cpp:385: error: (-28:Unknown error code -28) The input arrays should have at least 4 corresponding point sets to calculate Homography in function 'findHomography'\n",
      "\n",
      "OpenCV(4.6.0) /croot/opencv-suite_1676452025216/work/modules/calib3d/src/fundam.cpp:385: error: (-28:Unknown error code -28) The input arrays should have at least 4 corresponding point sets to calculate Homography in function 'findHomography'\n",
      "\n",
      "OpenCV(4.6.0) /croot/opencv-suite_1676452025216/work/modules/calib3d/src/fundam.cpp:385: error: (-28:Unknown error code -28) The input arrays should have at least 4 corresponding point sets to calculate Homography in function 'findHomography'\n",
      "\n",
      "OpenCV(4.6.0) /croot/opencv-suite_1676452025216/work/modules/calib3d/src/fundam.cpp:385: error: (-28:Unknown error code -28) The input arrays should have at least 4 corresponding point sets to calculate Homography in function 'findHomography'\n",
      "\n",
      "OpenCV(4.6.0) /croot/opencv-suite_1676452025216/work/modules/calib3d/src/fundam.cpp:385: error: (-28:Unknown error code -28) The input arrays should have at least 4 corresponding point sets to calculate Homography in function 'findHomography'\n",
      "\n"
     ]
    },
    {
     "name": "stderr",
     "output_type": "stream",
     "text": [
      "\r",
      "38it [12:06, 12.32s/it]"
     ]
    },
    {
     "name": "stdout",
     "output_type": "stream",
     "text": [
      "OpenCV(4.6.0) /croot/opencv-suite_1676452025216/work/modules/calib3d/src/fundam.cpp:385: error: (-28:Unknown error code -28) The input arrays should have at least 4 corresponding point sets to calculate Homography in function 'findHomography'\n",
      "\n",
      "OpenCV(4.6.0) /croot/opencv-suite_1676452025216/work/modules/calib3d/src/fundam.cpp:385: error: (-28:Unknown error code -28) The input arrays should have at least 4 corresponding point sets to calculate Homography in function 'findHomography'\n",
      "\n",
      "OpenCV(4.6.0) /croot/opencv-suite_1676452025216/work/modules/calib3d/src/fundam.cpp:385: error: (-28:Unknown error code -28) The input arrays should have at least 4 corresponding point sets to calculate Homography in function 'findHomography'\n",
      "\n"
     ]
    },
    {
     "name": "stderr",
     "output_type": "stream",
     "text": [
      "\r",
      "39it [12:15, 11.43s/it]"
     ]
    },
    {
     "name": "stdout",
     "output_type": "stream",
     "text": [
      "OpenCV(4.6.0) /croot/opencv-suite_1676452025216/work/modules/calib3d/src/fundam.cpp:385: error: (-28:Unknown error code -28) The input arrays should have at least 4 corresponding point sets to calculate Homography in function 'findHomography'\n",
      "\n",
      "OpenCV(4.6.0) /croot/opencv-suite_1676452025216/work/modules/calib3d/src/fundam.cpp:385: error: (-28:Unknown error code -28) The input arrays should have at least 4 corresponding point sets to calculate Homography in function 'findHomography'\n",
      "\n",
      "OpenCV(4.6.0) /croot/opencv-suite_1676452025216/work/modules/calib3d/src/fundam.cpp:385: error: (-28:Unknown error code -28) The input arrays should have at least 4 corresponding point sets to calculate Homography in function 'findHomography'\n",
      "\n"
     ]
    },
    {
     "name": "stderr",
     "output_type": "stream",
     "text": [
      "\r",
      "40it [12:25, 10.94s/it]"
     ]
    },
    {
     "name": "stdout",
     "output_type": "stream",
     "text": [
      "OpenCV(4.6.0) /croot/opencv-suite_1676452025216/work/modules/calib3d/src/fundam.cpp:385: error: (-28:Unknown error code -28) The input arrays should have at least 4 corresponding point sets to calculate Homography in function 'findHomography'\n",
      "\n",
      "OpenCV(4.6.0) /croot/opencv-suite_1676452025216/work/modules/calib3d/src/fundam.cpp:385: error: (-28:Unknown error code -28) The input arrays should have at least 4 corresponding point sets to calculate Homography in function 'findHomography'\n",
      "\n"
     ]
    },
    {
     "name": "stderr",
     "output_type": "stream",
     "text": [
      "\r",
      "41it [12:35, 10.58s/it]"
     ]
    },
    {
     "name": "stdout",
     "output_type": "stream",
     "text": [
      "OpenCV(4.6.0) /croot/opencv-suite_1676452025216/work/modules/calib3d/src/fundam.cpp:385: error: (-28:Unknown error code -28) The input arrays should have at least 4 corresponding point sets to calculate Homography in function 'findHomography'\n",
      "\n"
     ]
    },
    {
     "name": "stderr",
     "output_type": "stream",
     "text": [
      "\r",
      "42it [12:48, 11.38s/it]"
     ]
    },
    {
     "name": "stdout",
     "output_type": "stream",
     "text": [
      "matmul: Input operand 0 does not have enough dimensions (has 0, gufunc core with signature (n?,k),(k,m?)->(n?,m?) requires 1)\n",
      "OpenCV(4.6.0) /croot/opencv-suite_1676452025216/work/modules/calib3d/src/fundam.cpp:385: error: (-28:Unknown error code -28) The input arrays should have at least 4 corresponding point sets to calculate Homography in function 'findHomography'\n",
      "\n",
      "OpenCV(4.6.0) /croot/opencv-suite_1676452025216/work/modules/calib3d/src/fundam.cpp:385: error: (-28:Unknown error code -28) The input arrays should have at least 4 corresponding point sets to calculate Homography in function 'findHomography'\n",
      "\n",
      "OpenCV(4.6.0) /croot/opencv-suite_1676452025216/work/modules/calib3d/src/fundam.cpp:385: error: (-28:Unknown error code -28) The input arrays should have at least 4 corresponding point sets to calculate Homography in function 'findHomography'\n",
      "\n",
      "OpenCV(4.6.0) /croot/opencv-suite_1676452025216/work/modules/calib3d/src/fundam.cpp:385: error: (-28:Unknown error code -28) The input arrays should have at least 4 corresponding point sets to calculate Homography in function 'findHomography'\n",
      "\n",
      "OpenCV(4.6.0) /croot/opencv-suite_1676452025216/work/modules/calib3d/src/fundam.cpp:385: error: (-28:Unknown error code -28) The input arrays should have at least 4 corresponding point sets to calculate Homography in function 'findHomography'\n",
      "\n",
      "OpenCV(4.6.0) /croot/opencv-suite_1676452025216/work/modules/calib3d/src/fundam.cpp:385: error: (-28:Unknown error code -28) The input arrays should have at least 4 corresponding point sets to calculate Homography in function 'findHomography'\n",
      "\n",
      "OpenCV(4.6.0) /croot/opencv-suite_1676452025216/work/modules/calib3d/src/fundam.cpp:385: error: (-28:Unknown error code -28) The input arrays should have at least 4 corresponding point sets to calculate Homography in function 'findHomography'\n",
      "\n",
      "OpenCV(4.6.0) /croot/opencv-suite_1676452025216/work/modules/calib3d/src/fundam.cpp:385: error: (-28:Unknown error code -28) The input arrays should have at least 4 corresponding point sets to calculate Homography in function 'findHomography'\n",
      "\n",
      "matmul: Input operand 0 does not have enough dimensions (has 0, gufunc core with signature (n?,k),(k,m?)->(n?,m?) requires 1)\n",
      "OpenCV(4.6.0) /croot/opencv-suite_1676452025216/work/modules/calib3d/src/fundam.cpp:385: error: (-28:Unknown error code -28) The input arrays should have at least 4 corresponding point sets to calculate Homography in function 'findHomography'\n",
      "\n",
      "OpenCV(4.6.0) /croot/opencv-suite_1676452025216/work/modules/calib3d/src/fundam.cpp:385: error: (-28:Unknown error code -28) The input arrays should have at least 4 corresponding point sets to calculate Homography in function 'findHomography'\n",
      "\n",
      "OpenCV(4.6.0) /croot/opencv-suite_1676452025216/work/modules/calib3d/src/fundam.cpp:385: error: (-28:Unknown error code -28) The input arrays should have at least 4 corresponding point sets to calculate Homography in function 'findHomography'\n",
      "\n",
      "matmul: Input operand 0 does not have enough dimensions (has 0, gufunc core with signature (n?,k),(k,m?)->(n?,m?) requires 1)\n",
      "OpenCV(4.6.0) /croot/opencv-suite_1676452025216/work/modules/calib3d/src/fundam.cpp:385: error: (-28:Unknown error code -28) The input arrays should have at least 4 corresponding point sets to calculate Homography in function 'findHomography'\n",
      "\n",
      "OpenCV(4.6.0) /croot/opencv-suite_1676452025216/work/modules/calib3d/src/fundam.cpp:385: error: (-28:Unknown error code -28) The input arrays should have at least 4 corresponding point sets to calculate Homography in function 'findHomography'\n",
      "\n",
      "OpenCV(4.6.0) /croot/opencv-suite_1676452025216/work/modules/calib3d/src/fundam.cpp:385: error: (-28:Unknown error code -28) The input arrays should have at least 4 corresponding point sets to calculate Homography in function 'findHomography'\n",
      "\n",
      "OpenCV(4.6.0) /croot/opencv-suite_1676452025216/work/modules/calib3d/src/fundam.cpp:385: error: (-28:Unknown error code -28) The input arrays should have at least 4 corresponding point sets to calculate Homography in function 'findHomography'\n",
      "\n",
      "OpenCV(4.6.0) /croot/opencv-suite_1676452025216/work/modules/calib3d/src/fundam.cpp:385: error: (-28:Unknown error code -28) The input arrays should have at least 4 corresponding point sets to calculate Homography in function 'findHomography'\n",
      "\n",
      "OpenCV(4.6.0) /croot/opencv-suite_1676452025216/work/modules/calib3d/src/fundam.cpp:385: error: (-28:Unknown error code -28) The input arrays should have at least 4 corresponding point sets to calculate Homography in function 'findHomography'\n",
      "\n",
      "OpenCV(4.6.0) /croot/opencv-suite_1676452025216/work/modules/calib3d/src/fundam.cpp:385: error: (-28:Unknown error code -28) The input arrays should have at least 4 corresponding point sets to calculate Homography in function 'findHomography'\n",
      "\n",
      "OpenCV(4.6.0) /croot/opencv-suite_1676452025216/work/modules/calib3d/src/fundam.cpp:385: error: (-28:Unknown error code -28) The input arrays should have at least 4 corresponding point sets to calculate Homography in function 'findHomography'\n",
      "\n",
      "matmul: Input operand 0 does not have enough dimensions (has 0, gufunc core with signature (n?,k),(k,m?)->(n?,m?) requires 1)\n",
      "OpenCV(4.6.0) /croot/opencv-suite_1676452025216/work/modules/calib3d/src/fundam.cpp:385: error: (-28:Unknown error code -28) The input arrays should have at least 4 corresponding point sets to calculate Homography in function 'findHomography'\n",
      "\n",
      "matmul: Input operand 0 does not have enough dimensions (has 0, gufunc core with signature (n?,k),(k,m?)->(n?,m?) requires 1)\n",
      "OpenCV(4.6.0) /croot/opencv-suite_1676452025216/work/modules/calib3d/src/fundam.cpp:385: error: (-28:Unknown error code -28) The input arrays should have at least 4 corresponding point sets to calculate Homography in function 'findHomography'\n",
      "\n",
      "OpenCV(4.6.0) /croot/opencv-suite_1676452025216/work/modules/calib3d/src/fundam.cpp:385: error: (-28:Unknown error code -28) The input arrays should have at least 4 corresponding point sets to calculate Homography in function 'findHomography'\n",
      "\n"
     ]
    },
    {
     "name": "stderr",
     "output_type": "stream",
     "text": [
      "\r",
      "43it [13:47, 25.64s/it]"
     ]
    },
    {
     "name": "stdout",
     "output_type": "stream",
     "text": [
      "OpenCV(4.6.0) /croot/opencv-suite_1676452025216/work/modules/calib3d/src/fundam.cpp:385: error: (-28:Unknown error code -28) The input arrays should have at least 4 corresponding point sets to calculate Homography in function 'findHomography'\n",
      "\n",
      "OpenCV(4.6.0) /croot/opencv-suite_1676452025216/work/modules/calib3d/src/fundam.cpp:385: error: (-28:Unknown error code -28) The input arrays should have at least 4 corresponding point sets to calculate Homography in function 'findHomography'\n",
      "\n"
     ]
    },
    {
     "name": "stderr",
     "output_type": "stream",
     "text": [
      "\r",
      "44it [13:57, 21.04s/it]"
     ]
    },
    {
     "name": "stdout",
     "output_type": "stream",
     "text": [
      "OpenCV(4.6.0) /croot/opencv-suite_1676452025216/work/modules/calib3d/src/fundam.cpp:385: error: (-28:Unknown error code -28) The input arrays should have at least 4 corresponding point sets to calculate Homography in function 'findHomography'\n",
      "\n"
     ]
    },
    {
     "name": "stderr",
     "output_type": "stream",
     "text": [
      "\r",
      "45it [14:09, 18.39s/it]"
     ]
    },
    {
     "name": "stdout",
     "output_type": "stream",
     "text": [
      "OpenCV(4.6.0) /croot/opencv-suite_1676452025216/work/modules/calib3d/src/fundam.cpp:385: error: (-28:Unknown error code -28) The input arrays should have at least 4 corresponding point sets to calculate Homography in function 'findHomography'\n",
      "\n",
      "OpenCV(4.6.0) /croot/opencv-suite_1676452025216/work/modules/calib3d/src/fundam.cpp:385: error: (-28:Unknown error code -28) The input arrays should have at least 4 corresponding point sets to calculate Homography in function 'findHomography'\n",
      "\n",
      "OpenCV(4.6.0) /croot/opencv-suite_1676452025216/work/modules/calib3d/src/fundam.cpp:385: error: (-28:Unknown error code -28) The input arrays should have at least 4 corresponding point sets to calculate Homography in function 'findHomography'\n",
      "\n",
      "OpenCV(4.6.0) /croot/opencv-suite_1676452025216/work/modules/calib3d/src/fundam.cpp:385: error: (-28:Unknown error code -28) The input arrays should have at least 4 corresponding point sets to calculate Homography in function 'findHomography'\n",
      "\n",
      "OpenCV(4.6.0) /croot/opencv-suite_1676452025216/work/modules/calib3d/src/fundam.cpp:385: error: (-28:Unknown error code -28) The input arrays should have at least 4 corresponding point sets to calculate Homography in function 'findHomography'\n",
      "\n",
      "OpenCV(4.6.0) /croot/opencv-suite_1676452025216/work/modules/calib3d/src/fundam.cpp:385: error: (-28:Unknown error code -28) The input arrays should have at least 4 corresponding point sets to calculate Homography in function 'findHomography'\n",
      "\n",
      "OpenCV(4.6.0) /croot/opencv-suite_1676452025216/work/modules/calib3d/src/fundam.cpp:385: error: (-28:Unknown error code -28) The input arrays should have at least 4 corresponding point sets to calculate Homography in function 'findHomography'\n",
      "\n",
      "OpenCV(4.6.0) /croot/opencv-suite_1676452025216/work/modules/calib3d/src/fundam.cpp:385: error: (-28:Unknown error code -28) The input arrays should have at least 4 corresponding point sets to calculate Homography in function 'findHomography'\n",
      "\n",
      "OpenCV(4.6.0) /croot/opencv-suite_1676452025216/work/modules/calib3d/src/fundam.cpp:385: error: (-28:Unknown error code -28) The input arrays should have at least 4 corresponding point sets to calculate Homography in function 'findHomography'\n",
      "\n",
      "OpenCV(4.6.0) /croot/opencv-suite_1676452025216/work/modules/calib3d/src/fundam.cpp:385: error: (-28:Unknown error code -28) The input arrays should have at least 4 corresponding point sets to calculate Homography in function 'findHomography'\n",
      "\n",
      "OpenCV(4.6.0) /croot/opencv-suite_1676452025216/work/modules/calib3d/src/fundam.cpp:385: error: (-28:Unknown error code -28) The input arrays should have at least 4 corresponding point sets to calculate Homography in function 'findHomography'\n",
      "\n",
      "OpenCV(4.6.0) /croot/opencv-suite_1676452025216/work/modules/calib3d/src/fundam.cpp:385: error: (-28:Unknown error code -28) The input arrays should have at least 4 corresponding point sets to calculate Homography in function 'findHomography'\n",
      "\n",
      "OpenCV(4.6.0) /croot/opencv-suite_1676452025216/work/modules/calib3d/src/fundam.cpp:385: error: (-28:Unknown error code -28) The input arrays should have at least 4 corresponding point sets to calculate Homography in function 'findHomography'\n",
      "\n",
      "OpenCV(4.6.0) /croot/opencv-suite_1676452025216/work/modules/calib3d/src/fundam.cpp:385: error: (-28:Unknown error code -28) The input arrays should have at least 4 corresponding point sets to calculate Homography in function 'findHomography'\n",
      "\n",
      "OpenCV(4.6.0) /croot/opencv-suite_1676452025216/work/modules/calib3d/src/fundam.cpp:385: error: (-28:Unknown error code -28) The input arrays should have at least 4 corresponding point sets to calculate Homography in function 'findHomography'\n",
      "\n",
      "OpenCV(4.6.0) /croot/opencv-suite_1676452025216/work/modules/calib3d/src/fundam.cpp:385: error: (-28:Unknown error code -28) The input arrays should have at least 4 corresponding point sets to calculate Homography in function 'findHomography'\n",
      "\n",
      "OpenCV(4.6.0) /croot/opencv-suite_1676452025216/work/modules/calib3d/src/fundam.cpp:385: error: (-28:Unknown error code -28) The input arrays should have at least 4 corresponding point sets to calculate Homography in function 'findHomography'\n",
      "\n",
      "OpenCV(4.6.0) /croot/opencv-suite_1676452025216/work/modules/calib3d/src/fundam.cpp:385: error: (-28:Unknown error code -28) The input arrays should have at least 4 corresponding point sets to calculate Homography in function 'findHomography'\n",
      "\n",
      "OpenCV(4.6.0) /croot/opencv-suite_1676452025216/work/modules/calib3d/src/fundam.cpp:385: error: (-28:Unknown error code -28) The input arrays should have at least 4 corresponding point sets to calculate Homography in function 'findHomography'\n",
      "\n",
      "OpenCV(4.6.0) /croot/opencv-suite_1676452025216/work/modules/calib3d/src/fundam.cpp:385: error: (-28:Unknown error code -28) The input arrays should have at least 4 corresponding point sets to calculate Homography in function 'findHomography'\n",
      "\n",
      "OpenCV(4.6.0) /croot/opencv-suite_1676452025216/work/modules/calib3d/src/fundam.cpp:385: error: (-28:Unknown error code -28) The input arrays should have at least 4 corresponding point sets to calculate Homography in function 'findHomography'\n",
      "\n",
      "OpenCV(4.6.0) /croot/opencv-suite_1676452025216/work/modules/calib3d/src/fundam.cpp:385: error: (-28:Unknown error code -28) The input arrays should have at least 4 corresponding point sets to calculate Homography in function 'findHomography'\n",
      "\n",
      "OpenCV(4.6.0) /croot/opencv-suite_1676452025216/work/modules/calib3d/src/fundam.cpp:385: error: (-28:Unknown error code -28) The input arrays should have at least 4 corresponding point sets to calculate Homography in function 'findHomography'\n",
      "\n",
      "OpenCV(4.6.0) /croot/opencv-suite_1676452025216/work/modules/calib3d/src/fundam.cpp:385: error: (-28:Unknown error code -28) The input arrays should have at least 4 corresponding point sets to calculate Homography in function 'findHomography'\n",
      "\n",
      "OpenCV(4.6.0) /croot/opencv-suite_1676452025216/work/modules/calib3d/src/fundam.cpp:385: error: (-28:Unknown error code -28) The input arrays should have at least 4 corresponding point sets to calculate Homography in function 'findHomography'\n",
      "\n",
      "OpenCV(4.6.0) /croot/opencv-suite_1676452025216/work/modules/calib3d/src/fundam.cpp:385: error: (-28:Unknown error code -28) The input arrays should have at least 4 corresponding point sets to calculate Homography in function 'findHomography'\n",
      "\n",
      "OpenCV(4.6.0) /croot/opencv-suite_1676452025216/work/modules/calib3d/src/fundam.cpp:385: error: (-28:Unknown error code -28) The input arrays should have at least 4 corresponding point sets to calculate Homography in function 'findHomography'\n",
      "\n",
      "OpenCV(4.6.0) /croot/opencv-suite_1676452025216/work/modules/calib3d/src/fundam.cpp:385: error: (-28:Unknown error code -28) The input arrays should have at least 4 corresponding point sets to calculate Homography in function 'findHomography'\n",
      "\n",
      "OpenCV(4.6.0) /croot/opencv-suite_1676452025216/work/modules/calib3d/src/fundam.cpp:385: error: (-28:Unknown error code -28) The input arrays should have at least 4 corresponding point sets to calculate Homography in function 'findHomography'\n",
      "\n",
      "OpenCV(4.6.0) /croot/opencv-suite_1676452025216/work/modules/calib3d/src/fundam.cpp:385: error: (-28:Unknown error code -28) The input arrays should have at least 4 corresponding point sets to calculate Homography in function 'findHomography'\n",
      "\n",
      "OpenCV(4.6.0) /croot/opencv-suite_1676452025216/work/modules/calib3d/src/fundam.cpp:385: error: (-28:Unknown error code -28) The input arrays should have at least 4 corresponding point sets to calculate Homography in function 'findHomography'\n",
      "\n",
      "matmul: Input operand 0 does not have enough dimensions (has 0, gufunc core with signature (n?,k),(k,m?)->(n?,m?) requires 1)\n",
      "OpenCV(4.6.0) /croot/opencv-suite_1676452025216/work/modules/calib3d/src/fundam.cpp:385: error: (-28:Unknown error code -28) The input arrays should have at least 4 corresponding point sets to calculate Homography in function 'findHomography'\n",
      "\n",
      "OpenCV(4.6.0) /croot/opencv-suite_1676452025216/work/modules/calib3d/src/fundam.cpp:385: error: (-28:Unknown error code -28) The input arrays should have at least 4 corresponding point sets to calculate Homography in function 'findHomography'\n",
      "\n",
      "OpenCV(4.6.0) /croot/opencv-suite_1676452025216/work/modules/calib3d/src/fundam.cpp:385: error: (-28:Unknown error code -28) The input arrays should have at least 4 corresponding point sets to calculate Homography in function 'findHomography'\n",
      "\n"
     ]
    },
    {
     "name": "stdout",
     "output_type": "stream",
     "text": [
      "OpenCV(4.6.0) /croot/opencv-suite_1676452025216/work/modules/calib3d/src/fundam.cpp:385: error: (-28:Unknown error code -28) The input arrays should have at least 4 corresponding point sets to calculate Homography in function 'findHomography'\n",
      "\n",
      "OpenCV(4.6.0) /croot/opencv-suite_1676452025216/work/modules/calib3d/src/fundam.cpp:385: error: (-28:Unknown error code -28) The input arrays should have at least 4 corresponding point sets to calculate Homography in function 'findHomography'\n",
      "\n",
      "OpenCV(4.6.0) /croot/opencv-suite_1676452025216/work/modules/calib3d/src/fundam.cpp:385: error: (-28:Unknown error code -28) The input arrays should have at least 4 corresponding point sets to calculate Homography in function 'findHomography'\n",
      "\n",
      "OpenCV(4.6.0) /croot/opencv-suite_1676452025216/work/modules/calib3d/src/fundam.cpp:385: error: (-28:Unknown error code -28) The input arrays should have at least 4 corresponding point sets to calculate Homography in function 'findHomography'\n",
      "\n",
      "OpenCV(4.6.0) /croot/opencv-suite_1676452025216/work/modules/calib3d/src/fundam.cpp:385: error: (-28:Unknown error code -28) The input arrays should have at least 4 corresponding point sets to calculate Homography in function 'findHomography'\n",
      "\n"
     ]
    },
    {
     "name": "stderr",
     "output_type": "stream",
     "text": [
      "\r",
      "46it [15:16, 33.00s/it]"
     ]
    },
    {
     "name": "stdout",
     "output_type": "stream",
     "text": [
      "OpenCV(4.6.0) /croot/opencv-suite_1676452025216/work/modules/calib3d/src/fundam.cpp:385: error: (-28:Unknown error code -28) The input arrays should have at least 4 corresponding point sets to calculate Homography in function 'findHomography'\n",
      "\n",
      "OpenCV(4.6.0) /croot/opencv-suite_1676452025216/work/modules/calib3d/src/fundam.cpp:385: error: (-28:Unknown error code -28) The input arrays should have at least 4 corresponding point sets to calculate Homography in function 'findHomography'\n",
      "\n"
     ]
    },
    {
     "name": "stderr",
     "output_type": "stream",
     "text": [
      "\r",
      "47it [15:26, 26.03s/it]"
     ]
    },
    {
     "name": "stdout",
     "output_type": "stream",
     "text": [
      "OpenCV(4.6.0) /croot/opencv-suite_1676452025216/work/modules/calib3d/src/fundam.cpp:385: error: (-28:Unknown error code -28) The input arrays should have at least 4 corresponding point sets to calculate Homography in function 'findHomography'\n",
      "\n",
      "OpenCV(4.6.0) /croot/opencv-suite_1676452025216/work/modules/calib3d/src/fundam.cpp:385: error: (-28:Unknown error code -28) The input arrays should have at least 4 corresponding point sets to calculate Homography in function 'findHomography'\n",
      "\n",
      "OpenCV(4.6.0) /croot/opencv-suite_1676452025216/work/modules/calib3d/src/fundam.cpp:385: error: (-28:Unknown error code -28) The input arrays should have at least 4 corresponding point sets to calculate Homography in function 'findHomography'\n",
      "\n",
      "OpenCV(4.6.0) /croot/opencv-suite_1676452025216/work/modules/calib3d/src/fundam.cpp:385: error: (-28:Unknown error code -28) The input arrays should have at least 4 corresponding point sets to calculate Homography in function 'findHomography'\n",
      "\n",
      "OpenCV(4.6.0) /croot/opencv-suite_1676452025216/work/modules/calib3d/src/fundam.cpp:385: error: (-28:Unknown error code -28) The input arrays should have at least 4 corresponding point sets to calculate Homography in function 'findHomography'\n",
      "\n",
      "OpenCV(4.6.0) /croot/opencv-suite_1676452025216/work/modules/calib3d/src/fundam.cpp:385: error: (-28:Unknown error code -28) The input arrays should have at least 4 corresponding point sets to calculate Homography in function 'findHomography'\n",
      "\n",
      "OpenCV(4.6.0) /croot/opencv-suite_1676452025216/work/modules/calib3d/src/fundam.cpp:385: error: (-28:Unknown error code -28) The input arrays should have at least 4 corresponding point sets to calculate Homography in function 'findHomography'\n",
      "\n"
     ]
    },
    {
     "name": "stderr",
     "output_type": "stream",
     "text": [
      "49it [15:48, 18.40s/it]"
     ]
    },
    {
     "name": "stdout",
     "output_type": "stream",
     "text": [
      "OpenCV(4.6.0) /croot/opencv-suite_1676452025216/work/modules/calib3d/src/fundam.cpp:385: error: (-28:Unknown error code -28) The input arrays should have at least 4 corresponding point sets to calculate Homography in function 'findHomography'\n",
      "\n",
      "OpenCV(4.6.0) /croot/opencv-suite_1676452025216/work/modules/calib3d/src/fundam.cpp:385: error: (-28:Unknown error code -28) The input arrays should have at least 4 corresponding point sets to calculate Homography in function 'findHomography'\n",
      "\n",
      "OpenCV(4.6.0) /croot/opencv-suite_1676452025216/work/modules/calib3d/src/fundam.cpp:385: error: (-28:Unknown error code -28) The input arrays should have at least 4 corresponding point sets to calculate Homography in function 'findHomography'\n",
      "\n",
      "OpenCV(4.6.0) /croot/opencv-suite_1676452025216/work/modules/calib3d/src/fundam.cpp:385: error: (-28:Unknown error code -28) The input arrays should have at least 4 corresponding point sets to calculate Homography in function 'findHomography'\n",
      "\n",
      "OpenCV(4.6.0) /croot/opencv-suite_1676452025216/work/modules/calib3d/src/fundam.cpp:385: error: (-28:Unknown error code -28) The input arrays should have at least 4 corresponding point sets to calculate Homography in function 'findHomography'\n",
      "\n"
     ]
    },
    {
     "name": "stderr",
     "output_type": "stream",
     "text": [
      "50it [16:57, 20.36s/it]\n"
     ]
    }
   ],
   "source": [
    "results_dict = dict()\n",
    "\n",
    "for i, dp in tqdm(enumerate(data_packs)):\n",
    "    for j in range(len(dp)):\n",
    "        if dp[j].is_test_split():\n",
    "            try:\n",
    "                results_dict[dp[j].unique_key] = eval(i, dp.template_item, j, dp[j])\n",
    "            except Exception as exc:\n",
    "                # Для пропущенных в словаре ключей в метриках автоаматически засчитается IoU=0\n",
    "                print(exc)"
   ]
  },
  {
   "cell_type": "code",
   "execution_count": 14,
   "id": "8366c578",
   "metadata": {},
   "outputs": [],
   "source": [
    "from course_ocr_t1.metrics import dump_results_dict, measure_crop_accuracy"
   ]
  },
  {
   "cell_type": "code",
   "execution_count": 16,
   "id": "cb32c7e8",
   "metadata": {},
   "outputs": [
    {
     "name": "stdout",
     "output_type": "stream",
     "text": [
      "/home/ichuviliaeva/ocr_course/course_ocr/task1\n"
     ]
    }
   ],
   "source": [
    "%cd .."
   ]
  },
  {
   "cell_type": "code",
   "execution_count": 17,
   "id": "83782ba9",
   "metadata": {},
   "outputs": [],
   "source": [
    "dump_results_dict(results_dict, Path() / 'pred.json')"
   ]
  },
  {
   "cell_type": "code",
   "execution_count": 18,
   "id": "d8c6b34b",
   "metadata": {},
   "outputs": [
    {
     "name": "stderr",
     "output_type": "stream",
     "text": [
      "/home/ichuviliaeva/miniconda3/envs/ocr_course/lib/python3.8/site-packages/shapely/set_operations.py:133: RuntimeWarning: invalid value encountered in intersection\n",
      "  return lib.intersection(a, b, **kwargs)\n",
      "/home/ichuviliaeva/miniconda3/envs/ocr_course/lib/python3.8/site-packages/shapely/set_operations.py:133: RuntimeWarning: invalid value encountered in intersection\n",
      "  return lib.intersection(a, b, **kwargs)\n",
      "/home/ichuviliaeva/miniconda3/envs/ocr_course/lib/python3.8/site-packages/shapely/set_operations.py:133: RuntimeWarning: invalid value encountered in intersection\n",
      "  return lib.intersection(a, b, **kwargs)\n",
      "/home/ichuviliaeva/miniconda3/envs/ocr_course/lib/python3.8/site-packages/shapely/set_operations.py:133: RuntimeWarning: invalid value encountered in intersection\n",
      "  return lib.intersection(a, b, **kwargs)\n",
      "/home/ichuviliaeva/miniconda3/envs/ocr_course/lib/python3.8/site-packages/shapely/set_operations.py:133: RuntimeWarning: invalid value encountered in intersection\n",
      "  return lib.intersection(a, b, **kwargs)\n",
      "/home/ichuviliaeva/miniconda3/envs/ocr_course/lib/python3.8/site-packages/shapely/set_operations.py:133: RuntimeWarning: invalid value encountered in intersection\n",
      "  return lib.intersection(a, b, **kwargs)\n",
      "/home/ichuviliaeva/miniconda3/envs/ocr_course/lib/python3.8/site-packages/shapely/set_operations.py:133: RuntimeWarning: invalid value encountered in intersection\n",
      "  return lib.intersection(a, b, **kwargs)\n",
      "/home/ichuviliaeva/miniconda3/envs/ocr_course/lib/python3.8/site-packages/shapely/set_operations.py:133: RuntimeWarning: invalid value encountered in intersection\n",
      "  return lib.intersection(a, b, **kwargs)\n",
      "/home/ichuviliaeva/miniconda3/envs/ocr_course/lib/python3.8/site-packages/shapely/set_operations.py:133: RuntimeWarning: invalid value encountered in intersection\n",
      "  return lib.intersection(a, b, **kwargs)\n",
      "/home/ichuviliaeva/miniconda3/envs/ocr_course/lib/python3.8/site-packages/shapely/set_operations.py:133: RuntimeWarning: invalid value encountered in intersection\n",
      "  return lib.intersection(a, b, **kwargs)\n",
      "/home/ichuviliaeva/miniconda3/envs/ocr_course/lib/python3.8/site-packages/shapely/set_operations.py:133: RuntimeWarning: invalid value encountered in intersection\n",
      "  return lib.intersection(a, b, **kwargs)\n",
      "/home/ichuviliaeva/miniconda3/envs/ocr_course/lib/python3.8/site-packages/shapely/set_operations.py:133: RuntimeWarning: invalid value encountered in intersection\n",
      "  return lib.intersection(a, b, **kwargs)\n",
      "/home/ichuviliaeva/miniconda3/envs/ocr_course/lib/python3.8/site-packages/shapely/set_operations.py:133: RuntimeWarning: invalid value encountered in intersection\n",
      "  return lib.intersection(a, b, **kwargs)\n",
      "/home/ichuviliaeva/miniconda3/envs/ocr_course/lib/python3.8/site-packages/shapely/set_operations.py:133: RuntimeWarning: invalid value encountered in intersection\n",
      "  return lib.intersection(a, b, **kwargs)\n",
      "/home/ichuviliaeva/miniconda3/envs/ocr_course/lib/python3.8/site-packages/shapely/set_operations.py:133: RuntimeWarning: invalid value encountered in intersection\n",
      "  return lib.intersection(a, b, **kwargs)\n",
      "/home/ichuviliaeva/miniconda3/envs/ocr_course/lib/python3.8/site-packages/shapely/set_operations.py:133: RuntimeWarning: invalid value encountered in intersection\n",
      "  return lib.intersection(a, b, **kwargs)\n",
      "/home/ichuviliaeva/miniconda3/envs/ocr_course/lib/python3.8/site-packages/shapely/set_operations.py:133: RuntimeWarning: invalid value encountered in intersection\n",
      "  return lib.intersection(a, b, **kwargs)\n",
      "/home/ichuviliaeva/miniconda3/envs/ocr_course/lib/python3.8/site-packages/shapely/set_operations.py:133: RuntimeWarning: invalid value encountered in intersection\n",
      "  return lib.intersection(a, b, **kwargs)\n",
      "/home/ichuviliaeva/miniconda3/envs/ocr_course/lib/python3.8/site-packages/shapely/set_operations.py:133: RuntimeWarning: invalid value encountered in intersection\n",
      "  return lib.intersection(a, b, **kwargs)\n",
      "/home/ichuviliaeva/miniconda3/envs/ocr_course/lib/python3.8/site-packages/shapely/set_operations.py:133: RuntimeWarning: invalid value encountered in intersection\n",
      "  return lib.intersection(a, b, **kwargs)\n",
      "/home/ichuviliaeva/miniconda3/envs/ocr_course/lib/python3.8/site-packages/shapely/set_operations.py:133: RuntimeWarning: invalid value encountered in intersection\n",
      "  return lib.intersection(a, b, **kwargs)\n",
      "/home/ichuviliaeva/miniconda3/envs/ocr_course/lib/python3.8/site-packages/shapely/set_operations.py:133: RuntimeWarning: invalid value encountered in intersection\n",
      "  return lib.intersection(a, b, **kwargs)\n",
      "/home/ichuviliaeva/miniconda3/envs/ocr_course/lib/python3.8/site-packages/shapely/set_operations.py:133: RuntimeWarning: invalid value encountered in intersection\n",
      "  return lib.intersection(a, b, **kwargs)\n",
      "/home/ichuviliaeva/miniconda3/envs/ocr_course/lib/python3.8/site-packages/shapely/set_operations.py:133: RuntimeWarning: invalid value encountered in intersection\n",
      "  return lib.intersection(a, b, **kwargs)\n",
      "/home/ichuviliaeva/miniconda3/envs/ocr_course/lib/python3.8/site-packages/shapely/set_operations.py:133: RuntimeWarning: invalid value encountered in intersection\n",
      "  return lib.intersection(a, b, **kwargs)\n",
      "/home/ichuviliaeva/miniconda3/envs/ocr_course/lib/python3.8/site-packages/shapely/set_operations.py:133: RuntimeWarning: invalid value encountered in intersection\n",
      "  return lib.intersection(a, b, **kwargs)\n",
      "/home/ichuviliaeva/miniconda3/envs/ocr_course/lib/python3.8/site-packages/shapely/set_operations.py:133: RuntimeWarning: invalid value encountered in intersection\n",
      "  return lib.intersection(a, b, **kwargs)\n",
      "/home/ichuviliaeva/miniconda3/envs/ocr_course/lib/python3.8/site-packages/shapely/set_operations.py:133: RuntimeWarning: invalid value encountered in intersection\n",
      "  return lib.intersection(a, b, **kwargs)\n",
      "/home/ichuviliaeva/miniconda3/envs/ocr_course/lib/python3.8/site-packages/shapely/set_operations.py:133: RuntimeWarning: invalid value encountered in intersection\n",
      "  return lib.intersection(a, b, **kwargs)\n",
      "/home/ichuviliaeva/miniconda3/envs/ocr_course/lib/python3.8/site-packages/shapely/set_operations.py:133: RuntimeWarning: invalid value encountered in intersection\n",
      "  return lib.intersection(a, b, **kwargs)\n",
      "/home/ichuviliaeva/miniconda3/envs/ocr_course/lib/python3.8/site-packages/shapely/set_operations.py:133: RuntimeWarning: invalid value encountered in intersection\n",
      "  return lib.intersection(a, b, **kwargs)\n",
      "/home/ichuviliaeva/miniconda3/envs/ocr_course/lib/python3.8/site-packages/shapely/set_operations.py:133: RuntimeWarning: invalid value encountered in intersection\n",
      "  return lib.intersection(a, b, **kwargs)\n",
      "/home/ichuviliaeva/miniconda3/envs/ocr_course/lib/python3.8/site-packages/shapely/set_operations.py:133: RuntimeWarning: invalid value encountered in intersection\n",
      "  return lib.intersection(a, b, **kwargs)\n",
      "/home/ichuviliaeva/miniconda3/envs/ocr_course/lib/python3.8/site-packages/shapely/set_operations.py:133: RuntimeWarning: invalid value encountered in intersection\n",
      "  return lib.intersection(a, b, **kwargs)\n",
      "/home/ichuviliaeva/miniconda3/envs/ocr_course/lib/python3.8/site-packages/shapely/set_operations.py:133: RuntimeWarning: invalid value encountered in intersection\n",
      "  return lib.intersection(a, b, **kwargs)\n",
      "/home/ichuviliaeva/miniconda3/envs/ocr_course/lib/python3.8/site-packages/shapely/set_operations.py:133: RuntimeWarning: invalid value encountered in intersection\n",
      "  return lib.intersection(a, b, **kwargs)\n",
      "/home/ichuviliaeva/miniconda3/envs/ocr_course/lib/python3.8/site-packages/shapely/set_operations.py:133: RuntimeWarning: invalid value encountered in intersection\n",
      "  return lib.intersection(a, b, **kwargs)\n",
      "/home/ichuviliaeva/miniconda3/envs/ocr_course/lib/python3.8/site-packages/shapely/set_operations.py:133: RuntimeWarning: invalid value encountered in intersection\n",
      "  return lib.intersection(a, b, **kwargs)\n",
      "/home/ichuviliaeva/miniconda3/envs/ocr_course/lib/python3.8/site-packages/shapely/set_operations.py:133: RuntimeWarning: invalid value encountered in intersection\n",
      "  return lib.intersection(a, b, **kwargs)\n",
      "/home/ichuviliaeva/miniconda3/envs/ocr_course/lib/python3.8/site-packages/shapely/set_operations.py:133: RuntimeWarning: invalid value encountered in intersection\n",
      "  return lib.intersection(a, b, **kwargs)\n",
      "/home/ichuviliaeva/miniconda3/envs/ocr_course/lib/python3.8/site-packages/shapely/set_operations.py:133: RuntimeWarning: invalid value encountered in intersection\n",
      "  return lib.intersection(a, b, **kwargs)\n",
      "/home/ichuviliaeva/miniconda3/envs/ocr_course/lib/python3.8/site-packages/shapely/set_operations.py:133: RuntimeWarning: invalid value encountered in intersection\n",
      "  return lib.intersection(a, b, **kwargs)\n",
      "/home/ichuviliaeva/miniconda3/envs/ocr_course/lib/python3.8/site-packages/shapely/set_operations.py:133: RuntimeWarning: invalid value encountered in intersection\n",
      "  return lib.intersection(a, b, **kwargs)\n",
      "/home/ichuviliaeva/miniconda3/envs/ocr_course/lib/python3.8/site-packages/shapely/set_operations.py:133: RuntimeWarning: invalid value encountered in intersection\n",
      "  return lib.intersection(a, b, **kwargs)\n"
     ]
    },
    {
     "name": "stderr",
     "output_type": "stream",
     "text": [
      "/home/ichuviliaeva/miniconda3/envs/ocr_course/lib/python3.8/site-packages/shapely/set_operations.py:133: RuntimeWarning: invalid value encountered in intersection\n",
      "  return lib.intersection(a, b, **kwargs)\n",
      "/home/ichuviliaeva/miniconda3/envs/ocr_course/lib/python3.8/site-packages/shapely/set_operations.py:133: RuntimeWarning: invalid value encountered in intersection\n",
      "  return lib.intersection(a, b, **kwargs)\n",
      "/home/ichuviliaeva/miniconda3/envs/ocr_course/lib/python3.8/site-packages/shapely/set_operations.py:133: RuntimeWarning: invalid value encountered in intersection\n",
      "  return lib.intersection(a, b, **kwargs)\n",
      "/home/ichuviliaeva/miniconda3/envs/ocr_course/lib/python3.8/site-packages/shapely/set_operations.py:133: RuntimeWarning: invalid value encountered in intersection\n",
      "  return lib.intersection(a, b, **kwargs)\n",
      "/home/ichuviliaeva/miniconda3/envs/ocr_course/lib/python3.8/site-packages/shapely/set_operations.py:133: RuntimeWarning: invalid value encountered in intersection\n",
      "  return lib.intersection(a, b, **kwargs)\n",
      "/home/ichuviliaeva/miniconda3/envs/ocr_course/lib/python3.8/site-packages/shapely/set_operations.py:133: RuntimeWarning: invalid value encountered in intersection\n",
      "  return lib.intersection(a, b, **kwargs)\n",
      "/home/ichuviliaeva/miniconda3/envs/ocr_course/lib/python3.8/site-packages/shapely/set_operations.py:133: RuntimeWarning: invalid value encountered in intersection\n",
      "  return lib.intersection(a, b, **kwargs)\n",
      "/home/ichuviliaeva/miniconda3/envs/ocr_course/lib/python3.8/site-packages/shapely/set_operations.py:133: RuntimeWarning: invalid value encountered in intersection\n",
      "  return lib.intersection(a, b, **kwargs)\n",
      "/home/ichuviliaeva/miniconda3/envs/ocr_course/lib/python3.8/site-packages/shapely/set_operations.py:133: RuntimeWarning: invalid value encountered in intersection\n",
      "  return lib.intersection(a, b, **kwargs)\n",
      "/home/ichuviliaeva/miniconda3/envs/ocr_course/lib/python3.8/site-packages/shapely/set_operations.py:133: RuntimeWarning: invalid value encountered in intersection\n",
      "  return lib.intersection(a, b, **kwargs)\n",
      "/home/ichuviliaeva/miniconda3/envs/ocr_course/lib/python3.8/site-packages/shapely/set_operations.py:133: RuntimeWarning: invalid value encountered in intersection\n",
      "  return lib.intersection(a, b, **kwargs)\n",
      "/home/ichuviliaeva/miniconda3/envs/ocr_course/lib/python3.8/site-packages/shapely/set_operations.py:133: RuntimeWarning: invalid value encountered in intersection\n",
      "  return lib.intersection(a, b, **kwargs)\n",
      "/home/ichuviliaeva/miniconda3/envs/ocr_course/lib/python3.8/site-packages/shapely/set_operations.py:133: RuntimeWarning: invalid value encountered in intersection\n",
      "  return lib.intersection(a, b, **kwargs)\n",
      "/home/ichuviliaeva/miniconda3/envs/ocr_course/lib/python3.8/site-packages/shapely/set_operations.py:133: RuntimeWarning: invalid value encountered in intersection\n",
      "  return lib.intersection(a, b, **kwargs)\n",
      "/home/ichuviliaeva/miniconda3/envs/ocr_course/lib/python3.8/site-packages/shapely/set_operations.py:133: RuntimeWarning: invalid value encountered in intersection\n",
      "  return lib.intersection(a, b, **kwargs)\n",
      "/home/ichuviliaeva/miniconda3/envs/ocr_course/lib/python3.8/site-packages/shapely/set_operations.py:133: RuntimeWarning: invalid value encountered in intersection\n",
      "  return lib.intersection(a, b, **kwargs)\n",
      "/home/ichuviliaeva/miniconda3/envs/ocr_course/lib/python3.8/site-packages/shapely/set_operations.py:133: RuntimeWarning: invalid value encountered in intersection\n",
      "  return lib.intersection(a, b, **kwargs)\n",
      "/home/ichuviliaeva/miniconda3/envs/ocr_course/lib/python3.8/site-packages/shapely/set_operations.py:133: RuntimeWarning: invalid value encountered in intersection\n",
      "  return lib.intersection(a, b, **kwargs)\n",
      "/home/ichuviliaeva/miniconda3/envs/ocr_course/lib/python3.8/site-packages/shapely/set_operations.py:133: RuntimeWarning: invalid value encountered in intersection\n",
      "  return lib.intersection(a, b, **kwargs)\n",
      "/home/ichuviliaeva/miniconda3/envs/ocr_course/lib/python3.8/site-packages/shapely/set_operations.py:133: RuntimeWarning: invalid value encountered in intersection\n",
      "  return lib.intersection(a, b, **kwargs)\n",
      "/home/ichuviliaeva/miniconda3/envs/ocr_course/lib/python3.8/site-packages/shapely/set_operations.py:133: RuntimeWarning: invalid value encountered in intersection\n",
      "  return lib.intersection(a, b, **kwargs)\n",
      "/home/ichuviliaeva/miniconda3/envs/ocr_course/lib/python3.8/site-packages/shapely/set_operations.py:133: RuntimeWarning: invalid value encountered in intersection\n",
      "  return lib.intersection(a, b, **kwargs)\n",
      "/home/ichuviliaeva/miniconda3/envs/ocr_course/lib/python3.8/site-packages/shapely/set_operations.py:133: RuntimeWarning: invalid value encountered in intersection\n",
      "  return lib.intersection(a, b, **kwargs)\n",
      "/home/ichuviliaeva/miniconda3/envs/ocr_course/lib/python3.8/site-packages/shapely/set_operations.py:133: RuntimeWarning: invalid value encountered in intersection\n",
      "  return lib.intersection(a, b, **kwargs)\n",
      "/home/ichuviliaeva/miniconda3/envs/ocr_course/lib/python3.8/site-packages/shapely/set_operations.py:133: RuntimeWarning: invalid value encountered in intersection\n",
      "  return lib.intersection(a, b, **kwargs)\n",
      "/home/ichuviliaeva/miniconda3/envs/ocr_course/lib/python3.8/site-packages/shapely/set_operations.py:133: RuntimeWarning: invalid value encountered in intersection\n",
      "  return lib.intersection(a, b, **kwargs)\n",
      "/home/ichuviliaeva/miniconda3/envs/ocr_course/lib/python3.8/site-packages/shapely/set_operations.py:133: RuntimeWarning: invalid value encountered in intersection\n",
      "  return lib.intersection(a, b, **kwargs)\n",
      "/home/ichuviliaeva/miniconda3/envs/ocr_course/lib/python3.8/site-packages/shapely/set_operations.py:133: RuntimeWarning: invalid value encountered in intersection\n",
      "  return lib.intersection(a, b, **kwargs)\n",
      "/home/ichuviliaeva/miniconda3/envs/ocr_course/lib/python3.8/site-packages/shapely/set_operations.py:133: RuntimeWarning: invalid value encountered in intersection\n",
      "  return lib.intersection(a, b, **kwargs)\n",
      "/home/ichuviliaeva/miniconda3/envs/ocr_course/lib/python3.8/site-packages/shapely/set_operations.py:133: RuntimeWarning: invalid value encountered in intersection\n",
      "  return lib.intersection(a, b, **kwargs)\n",
      "/home/ichuviliaeva/miniconda3/envs/ocr_course/lib/python3.8/site-packages/shapely/set_operations.py:133: RuntimeWarning: invalid value encountered in intersection\n",
      "  return lib.intersection(a, b, **kwargs)\n",
      "/home/ichuviliaeva/miniconda3/envs/ocr_course/lib/python3.8/site-packages/shapely/set_operations.py:133: RuntimeWarning: invalid value encountered in intersection\n",
      "  return lib.intersection(a, b, **kwargs)\n",
      "/home/ichuviliaeva/miniconda3/envs/ocr_course/lib/python3.8/site-packages/shapely/set_operations.py:133: RuntimeWarning: invalid value encountered in intersection\n",
      "  return lib.intersection(a, b, **kwargs)\n",
      "/home/ichuviliaeva/miniconda3/envs/ocr_course/lib/python3.8/site-packages/shapely/set_operations.py:133: RuntimeWarning: invalid value encountered in intersection\n",
      "  return lib.intersection(a, b, **kwargs)\n",
      "/home/ichuviliaeva/miniconda3/envs/ocr_course/lib/python3.8/site-packages/shapely/set_operations.py:133: RuntimeWarning: invalid value encountered in intersection\n",
      "  return lib.intersection(a, b, **kwargs)\n",
      "/home/ichuviliaeva/miniconda3/envs/ocr_course/lib/python3.8/site-packages/shapely/set_operations.py:133: RuntimeWarning: invalid value encountered in intersection\n",
      "  return lib.intersection(a, b, **kwargs)\n",
      "/home/ichuviliaeva/miniconda3/envs/ocr_course/lib/python3.8/site-packages/shapely/set_operations.py:133: RuntimeWarning: invalid value encountered in intersection\n",
      "  return lib.intersection(a, b, **kwargs)\n",
      "/home/ichuviliaeva/miniconda3/envs/ocr_course/lib/python3.8/site-packages/shapely/set_operations.py:133: RuntimeWarning: invalid value encountered in intersection\n",
      "  return lib.intersection(a, b, **kwargs)\n",
      "/home/ichuviliaeva/miniconda3/envs/ocr_course/lib/python3.8/site-packages/shapely/set_operations.py:133: RuntimeWarning: invalid value encountered in intersection\n",
      "  return lib.intersection(a, b, **kwargs)\n",
      "/home/ichuviliaeva/miniconda3/envs/ocr_course/lib/python3.8/site-packages/shapely/set_operations.py:133: RuntimeWarning: invalid value encountered in intersection\n",
      "  return lib.intersection(a, b, **kwargs)\n",
      "/home/ichuviliaeva/miniconda3/envs/ocr_course/lib/python3.8/site-packages/shapely/set_operations.py:133: RuntimeWarning: invalid value encountered in intersection\n",
      "  return lib.intersection(a, b, **kwargs)\n",
      "/home/ichuviliaeva/miniconda3/envs/ocr_course/lib/python3.8/site-packages/shapely/set_operations.py:133: RuntimeWarning: invalid value encountered in intersection\n",
      "  return lib.intersection(a, b, **kwargs)\n",
      "/home/ichuviliaeva/miniconda3/envs/ocr_course/lib/python3.8/site-packages/shapely/set_operations.py:133: RuntimeWarning: invalid value encountered in intersection\n",
      "  return lib.intersection(a, b, **kwargs)\n",
      "/home/ichuviliaeva/miniconda3/envs/ocr_course/lib/python3.8/site-packages/shapely/set_operations.py:133: RuntimeWarning: invalid value encountered in intersection\n",
      "  return lib.intersection(a, b, **kwargs)\n",
      "/home/ichuviliaeva/miniconda3/envs/ocr_course/lib/python3.8/site-packages/shapely/set_operations.py:133: RuntimeWarning: invalid value encountered in intersection\n",
      "  return lib.intersection(a, b, **kwargs)\n",
      "/home/ichuviliaeva/miniconda3/envs/ocr_course/lib/python3.8/site-packages/shapely/set_operations.py:133: RuntimeWarning: invalid value encountered in intersection\n",
      "  return lib.intersection(a, b, **kwargs)\n",
      "/home/ichuviliaeva/miniconda3/envs/ocr_course/lib/python3.8/site-packages/shapely/set_operations.py:133: RuntimeWarning: invalid value encountered in intersection\n",
      "  return lib.intersection(a, b, **kwargs)\n",
      "/home/ichuviliaeva/miniconda3/envs/ocr_course/lib/python3.8/site-packages/shapely/set_operations.py:133: RuntimeWarning: invalid value encountered in intersection\n",
      "  return lib.intersection(a, b, **kwargs)\n",
      "/home/ichuviliaeva/miniconda3/envs/ocr_course/lib/python3.8/site-packages/shapely/set_operations.py:133: RuntimeWarning: invalid value encountered in intersection\n",
      "  return lib.intersection(a, b, **kwargs)\n",
      "/home/ichuviliaeva/miniconda3/envs/ocr_course/lib/python3.8/site-packages/shapely/set_operations.py:133: RuntimeWarning: invalid value encountered in intersection\n",
      "  return lib.intersection(a, b, **kwargs)\n",
      "/home/ichuviliaeva/miniconda3/envs/ocr_course/lib/python3.8/site-packages/shapely/set_operations.py:133: RuntimeWarning: invalid value encountered in intersection\n",
      "  return lib.intersection(a, b, **kwargs)\n",
      "/home/ichuviliaeva/miniconda3/envs/ocr_course/lib/python3.8/site-packages/shapely/set_operations.py:133: RuntimeWarning: invalid value encountered in intersection\n",
      "  return lib.intersection(a, b, **kwargs)\n",
      "/home/ichuviliaeva/miniconda3/envs/ocr_course/lib/python3.8/site-packages/shapely/set_operations.py:133: RuntimeWarning: invalid value encountered in intersection\n",
      "  return lib.intersection(a, b, **kwargs)\n",
      "/home/ichuviliaeva/miniconda3/envs/ocr_course/lib/python3.8/site-packages/shapely/set_operations.py:133: RuntimeWarning: invalid value encountered in intersection\n",
      "  return lib.intersection(a, b, **kwargs)\n",
      "/home/ichuviliaeva/miniconda3/envs/ocr_course/lib/python3.8/site-packages/shapely/set_operations.py:133: RuntimeWarning: invalid value encountered in intersection\n",
      "  return lib.intersection(a, b, **kwargs)\n",
      "/home/ichuviliaeva/miniconda3/envs/ocr_course/lib/python3.8/site-packages/shapely/set_operations.py:133: RuntimeWarning: invalid value encountered in intersection\n",
      "  return lib.intersection(a, b, **kwargs)\n",
      "/home/ichuviliaeva/miniconda3/envs/ocr_course/lib/python3.8/site-packages/shapely/set_operations.py:133: RuntimeWarning: invalid value encountered in intersection\n",
      "  return lib.intersection(a, b, **kwargs)\n",
      "/home/ichuviliaeva/miniconda3/envs/ocr_course/lib/python3.8/site-packages/shapely/set_operations.py:133: RuntimeWarning: invalid value encountered in intersection\n",
      "  return lib.intersection(a, b, **kwargs)\n",
      "/home/ichuviliaeva/miniconda3/envs/ocr_course/lib/python3.8/site-packages/shapely/set_operations.py:133: RuntimeWarning: invalid value encountered in intersection\n",
      "  return lib.intersection(a, b, **kwargs)\n",
      "/home/ichuviliaeva/miniconda3/envs/ocr_course/lib/python3.8/site-packages/shapely/set_operations.py:133: RuntimeWarning: invalid value encountered in intersection\n",
      "  return lib.intersection(a, b, **kwargs)\n",
      "/home/ichuviliaeva/miniconda3/envs/ocr_course/lib/python3.8/site-packages/shapely/set_operations.py:133: RuntimeWarning: invalid value encountered in intersection\n",
      "  return lib.intersection(a, b, **kwargs)\n",
      "/home/ichuviliaeva/miniconda3/envs/ocr_course/lib/python3.8/site-packages/shapely/set_operations.py:133: RuntimeWarning: invalid value encountered in intersection\n",
      "  return lib.intersection(a, b, **kwargs)\n",
      "/home/ichuviliaeva/miniconda3/envs/ocr_course/lib/python3.8/site-packages/shapely/set_operations.py:133: RuntimeWarning: invalid value encountered in intersection\n",
      "  return lib.intersection(a, b, **kwargs)\n",
      "/home/ichuviliaeva/miniconda3/envs/ocr_course/lib/python3.8/site-packages/shapely/set_operations.py:133: RuntimeWarning: invalid value encountered in intersection\n",
      "  return lib.intersection(a, b, **kwargs)\n",
      "/home/ichuviliaeva/miniconda3/envs/ocr_course/lib/python3.8/site-packages/shapely/set_operations.py:133: RuntimeWarning: invalid value encountered in intersection\n",
      "  return lib.intersection(a, b, **kwargs)\n",
      "/home/ichuviliaeva/miniconda3/envs/ocr_course/lib/python3.8/site-packages/shapely/set_operations.py:133: RuntimeWarning: invalid value encountered in intersection\n",
      "  return lib.intersection(a, b, **kwargs)\n",
      "/home/ichuviliaeva/miniconda3/envs/ocr_course/lib/python3.8/site-packages/shapely/set_operations.py:133: RuntimeWarning: invalid value encountered in intersection\n",
      "  return lib.intersection(a, b, **kwargs)\n",
      "/home/ichuviliaeva/miniconda3/envs/ocr_course/lib/python3.8/site-packages/shapely/set_operations.py:133: RuntimeWarning: invalid value encountered in intersection\n",
      "  return lib.intersection(a, b, **kwargs)\n",
      "/home/ichuviliaeva/miniconda3/envs/ocr_course/lib/python3.8/site-packages/shapely/set_operations.py:133: RuntimeWarning: invalid value encountered in intersection\n",
      "  return lib.intersection(a, b, **kwargs)\n",
      "/home/ichuviliaeva/miniconda3/envs/ocr_course/lib/python3.8/site-packages/shapely/set_operations.py:133: RuntimeWarning: invalid value encountered in intersection\n",
      "  return lib.intersection(a, b, **kwargs)\n",
      "/home/ichuviliaeva/miniconda3/envs/ocr_course/lib/python3.8/site-packages/shapely/set_operations.py:133: RuntimeWarning: invalid value encountered in intersection\n",
      "  return lib.intersection(a, b, **kwargs)\n",
      "/home/ichuviliaeva/miniconda3/envs/ocr_course/lib/python3.8/site-packages/shapely/set_operations.py:133: RuntimeWarning: invalid value encountered in intersection\n",
      "  return lib.intersection(a, b, **kwargs)\n",
      "/home/ichuviliaeva/miniconda3/envs/ocr_course/lib/python3.8/site-packages/shapely/set_operations.py:133: RuntimeWarning: invalid value encountered in intersection\n",
      "  return lib.intersection(a, b, **kwargs)\n",
      "/home/ichuviliaeva/miniconda3/envs/ocr_course/lib/python3.8/site-packages/shapely/set_operations.py:133: RuntimeWarning: invalid value encountered in intersection\n",
      "  return lib.intersection(a, b, **kwargs)\n",
      "/home/ichuviliaeva/miniconda3/envs/ocr_course/lib/python3.8/site-packages/shapely/set_operations.py:133: RuntimeWarning: invalid value encountered in intersection\n",
      "  return lib.intersection(a, b, **kwargs)\n",
      "/home/ichuviliaeva/miniconda3/envs/ocr_course/lib/python3.8/site-packages/shapely/set_operations.py:133: RuntimeWarning: invalid value encountered in intersection\n",
      "  return lib.intersection(a, b, **kwargs)\n",
      "/home/ichuviliaeva/miniconda3/envs/ocr_course/lib/python3.8/site-packages/shapely/set_operations.py:133: RuntimeWarning: invalid value encountered in intersection\n",
      "  return lib.intersection(a, b, **kwargs)\n",
      "/home/ichuviliaeva/miniconda3/envs/ocr_course/lib/python3.8/site-packages/shapely/set_operations.py:133: RuntimeWarning: invalid value encountered in intersection\n",
      "  return lib.intersection(a, b, **kwargs)\n",
      "/home/ichuviliaeva/miniconda3/envs/ocr_course/lib/python3.8/site-packages/shapely/set_operations.py:133: RuntimeWarning: invalid value encountered in intersection\n",
      "  return lib.intersection(a, b, **kwargs)\n",
      "/home/ichuviliaeva/miniconda3/envs/ocr_course/lib/python3.8/site-packages/shapely/set_operations.py:133: RuntimeWarning: invalid value encountered in intersection\n",
      "  return lib.intersection(a, b, **kwargs)\n",
      "/home/ichuviliaeva/miniconda3/envs/ocr_course/lib/python3.8/site-packages/shapely/set_operations.py:133: RuntimeWarning: invalid value encountered in intersection\n",
      "  return lib.intersection(a, b, **kwargs)\n",
      "/home/ichuviliaeva/miniconda3/envs/ocr_course/lib/python3.8/site-packages/shapely/set_operations.py:133: RuntimeWarning: invalid value encountered in intersection\n",
      "  return lib.intersection(a, b, **kwargs)\n",
      "/home/ichuviliaeva/miniconda3/envs/ocr_course/lib/python3.8/site-packages/shapely/set_operations.py:133: RuntimeWarning: invalid value encountered in intersection\n",
      "  return lib.intersection(a, b, **kwargs)\n",
      "/home/ichuviliaeva/miniconda3/envs/ocr_course/lib/python3.8/site-packages/shapely/set_operations.py:133: RuntimeWarning: invalid value encountered in intersection\n",
      "  return lib.intersection(a, b, **kwargs)\n",
      "/home/ichuviliaeva/miniconda3/envs/ocr_course/lib/python3.8/site-packages/shapely/set_operations.py:133: RuntimeWarning: invalid value encountered in intersection\n",
      "  return lib.intersection(a, b, **kwargs)\n",
      "/home/ichuviliaeva/miniconda3/envs/ocr_course/lib/python3.8/site-packages/shapely/set_operations.py:133: RuntimeWarning: invalid value encountered in intersection\n",
      "  return lib.intersection(a, b, **kwargs)\n",
      "/home/ichuviliaeva/miniconda3/envs/ocr_course/lib/python3.8/site-packages/shapely/set_operations.py:133: RuntimeWarning: invalid value encountered in intersection\n",
      "  return lib.intersection(a, b, **kwargs)\n",
      "/home/ichuviliaeva/miniconda3/envs/ocr_course/lib/python3.8/site-packages/shapely/set_operations.py:133: RuntimeWarning: invalid value encountered in intersection\n",
      "  return lib.intersection(a, b, **kwargs)\n",
      "/home/ichuviliaeva/miniconda3/envs/ocr_course/lib/python3.8/site-packages/shapely/set_operations.py:133: RuntimeWarning: invalid value encountered in intersection\n",
      "  return lib.intersection(a, b, **kwargs)\n",
      "/home/ichuviliaeva/miniconda3/envs/ocr_course/lib/python3.8/site-packages/shapely/set_operations.py:133: RuntimeWarning: invalid value encountered in intersection\n",
      "  return lib.intersection(a, b, **kwargs)\n",
      "/home/ichuviliaeva/miniconda3/envs/ocr_course/lib/python3.8/site-packages/shapely/set_operations.py:133: RuntimeWarning: invalid value encountered in intersection\n",
      "  return lib.intersection(a, b, **kwargs)\n",
      "/home/ichuviliaeva/miniconda3/envs/ocr_course/lib/python3.8/site-packages/shapely/set_operations.py:133: RuntimeWarning: invalid value encountered in intersection\n",
      "  return lib.intersection(a, b, **kwargs)\n",
      "/home/ichuviliaeva/miniconda3/envs/ocr_course/lib/python3.8/site-packages/shapely/set_operations.py:133: RuntimeWarning: invalid value encountered in intersection\n",
      "  return lib.intersection(a, b, **kwargs)\n"
     ]
    },
    {
     "name": "stderr",
     "output_type": "stream",
     "text": [
      "/home/ichuviliaeva/miniconda3/envs/ocr_course/lib/python3.8/site-packages/shapely/set_operations.py:133: RuntimeWarning: invalid value encountered in intersection\n",
      "  return lib.intersection(a, b, **kwargs)\n",
      "/home/ichuviliaeva/miniconda3/envs/ocr_course/lib/python3.8/site-packages/shapely/set_operations.py:133: RuntimeWarning: invalid value encountered in intersection\n",
      "  return lib.intersection(a, b, **kwargs)\n",
      "/home/ichuviliaeva/miniconda3/envs/ocr_course/lib/python3.8/site-packages/shapely/set_operations.py:133: RuntimeWarning: invalid value encountered in intersection\n",
      "  return lib.intersection(a, b, **kwargs)\n",
      "/home/ichuviliaeva/miniconda3/envs/ocr_course/lib/python3.8/site-packages/shapely/set_operations.py:133: RuntimeWarning: invalid value encountered in intersection\n",
      "  return lib.intersection(a, b, **kwargs)\n",
      "/home/ichuviliaeva/miniconda3/envs/ocr_course/lib/python3.8/site-packages/shapely/set_operations.py:133: RuntimeWarning: invalid value encountered in intersection\n",
      "  return lib.intersection(a, b, **kwargs)\n",
      "/home/ichuviliaeva/miniconda3/envs/ocr_course/lib/python3.8/site-packages/shapely/set_operations.py:133: RuntimeWarning: invalid value encountered in intersection\n",
      "  return lib.intersection(a, b, **kwargs)\n",
      "/home/ichuviliaeva/miniconda3/envs/ocr_course/lib/python3.8/site-packages/shapely/set_operations.py:133: RuntimeWarning: invalid value encountered in intersection\n",
      "  return lib.intersection(a, b, **kwargs)\n",
      "/home/ichuviliaeva/miniconda3/envs/ocr_course/lib/python3.8/site-packages/shapely/set_operations.py:133: RuntimeWarning: invalid value encountered in intersection\n",
      "  return lib.intersection(a, b, **kwargs)\n",
      "/home/ichuviliaeva/miniconda3/envs/ocr_course/lib/python3.8/site-packages/shapely/set_operations.py:133: RuntimeWarning: invalid value encountered in intersection\n",
      "  return lib.intersection(a, b, **kwargs)\n",
      "/home/ichuviliaeva/miniconda3/envs/ocr_course/lib/python3.8/site-packages/shapely/set_operations.py:133: RuntimeWarning: invalid value encountered in intersection\n",
      "  return lib.intersection(a, b, **kwargs)\n",
      "/home/ichuviliaeva/miniconda3/envs/ocr_course/lib/python3.8/site-packages/shapely/set_operations.py:133: RuntimeWarning: invalid value encountered in intersection\n",
      "  return lib.intersection(a, b, **kwargs)\n",
      "/home/ichuviliaeva/miniconda3/envs/ocr_course/lib/python3.8/site-packages/shapely/set_operations.py:133: RuntimeWarning: invalid value encountered in intersection\n",
      "  return lib.intersection(a, b, **kwargs)\n",
      "/home/ichuviliaeva/miniconda3/envs/ocr_course/lib/python3.8/site-packages/shapely/set_operations.py:133: RuntimeWarning: invalid value encountered in intersection\n",
      "  return lib.intersection(a, b, **kwargs)\n",
      "/home/ichuviliaeva/miniconda3/envs/ocr_course/lib/python3.8/site-packages/shapely/set_operations.py:133: RuntimeWarning: invalid value encountered in intersection\n",
      "  return lib.intersection(a, b, **kwargs)\n",
      "/home/ichuviliaeva/miniconda3/envs/ocr_course/lib/python3.8/site-packages/shapely/set_operations.py:133: RuntimeWarning: invalid value encountered in intersection\n",
      "  return lib.intersection(a, b, **kwargs)\n",
      "/home/ichuviliaeva/miniconda3/envs/ocr_course/lib/python3.8/site-packages/shapely/set_operations.py:133: RuntimeWarning: invalid value encountered in intersection\n",
      "  return lib.intersection(a, b, **kwargs)\n",
      "/home/ichuviliaeva/miniconda3/envs/ocr_course/lib/python3.8/site-packages/shapely/set_operations.py:133: RuntimeWarning: invalid value encountered in intersection\n",
      "  return lib.intersection(a, b, **kwargs)\n",
      "/home/ichuviliaeva/miniconda3/envs/ocr_course/lib/python3.8/site-packages/shapely/set_operations.py:133: RuntimeWarning: invalid value encountered in intersection\n",
      "  return lib.intersection(a, b, **kwargs)\n",
      "/home/ichuviliaeva/miniconda3/envs/ocr_course/lib/python3.8/site-packages/shapely/set_operations.py:133: RuntimeWarning: invalid value encountered in intersection\n",
      "  return lib.intersection(a, b, **kwargs)\n",
      "/home/ichuviliaeva/miniconda3/envs/ocr_course/lib/python3.8/site-packages/shapely/set_operations.py:133: RuntimeWarning: invalid value encountered in intersection\n",
      "  return lib.intersection(a, b, **kwargs)\n",
      "/home/ichuviliaeva/miniconda3/envs/ocr_course/lib/python3.8/site-packages/shapely/set_operations.py:133: RuntimeWarning: invalid value encountered in intersection\n",
      "  return lib.intersection(a, b, **kwargs)\n",
      "/home/ichuviliaeva/miniconda3/envs/ocr_course/lib/python3.8/site-packages/shapely/set_operations.py:133: RuntimeWarning: invalid value encountered in intersection\n",
      "  return lib.intersection(a, b, **kwargs)\n",
      "/home/ichuviliaeva/miniconda3/envs/ocr_course/lib/python3.8/site-packages/shapely/set_operations.py:133: RuntimeWarning: invalid value encountered in intersection\n",
      "  return lib.intersection(a, b, **kwargs)\n",
      "/home/ichuviliaeva/miniconda3/envs/ocr_course/lib/python3.8/site-packages/shapely/set_operations.py:133: RuntimeWarning: invalid value encountered in intersection\n",
      "  return lib.intersection(a, b, **kwargs)\n",
      "/home/ichuviliaeva/miniconda3/envs/ocr_course/lib/python3.8/site-packages/shapely/set_operations.py:133: RuntimeWarning: invalid value encountered in intersection\n",
      "  return lib.intersection(a, b, **kwargs)\n",
      "/home/ichuviliaeva/miniconda3/envs/ocr_course/lib/python3.8/site-packages/shapely/set_operations.py:133: RuntimeWarning: invalid value encountered in intersection\n",
      "  return lib.intersection(a, b, **kwargs)\n",
      "/home/ichuviliaeva/miniconda3/envs/ocr_course/lib/python3.8/site-packages/shapely/set_operations.py:133: RuntimeWarning: invalid value encountered in intersection\n",
      "  return lib.intersection(a, b, **kwargs)\n",
      "/home/ichuviliaeva/miniconda3/envs/ocr_course/lib/python3.8/site-packages/shapely/set_operations.py:133: RuntimeWarning: invalid value encountered in intersection\n",
      "  return lib.intersection(a, b, **kwargs)\n",
      "/home/ichuviliaeva/miniconda3/envs/ocr_course/lib/python3.8/site-packages/shapely/set_operations.py:133: RuntimeWarning: invalid value encountered in intersection\n",
      "  return lib.intersection(a, b, **kwargs)\n",
      "/home/ichuviliaeva/miniconda3/envs/ocr_course/lib/python3.8/site-packages/shapely/set_operations.py:133: RuntimeWarning: invalid value encountered in intersection\n",
      "  return lib.intersection(a, b, **kwargs)\n",
      "/home/ichuviliaeva/miniconda3/envs/ocr_course/lib/python3.8/site-packages/shapely/set_operations.py:133: RuntimeWarning: invalid value encountered in intersection\n",
      "  return lib.intersection(a, b, **kwargs)\n",
      "/home/ichuviliaeva/miniconda3/envs/ocr_course/lib/python3.8/site-packages/shapely/set_operations.py:133: RuntimeWarning: invalid value encountered in intersection\n",
      "  return lib.intersection(a, b, **kwargs)\n",
      "/home/ichuviliaeva/miniconda3/envs/ocr_course/lib/python3.8/site-packages/shapely/set_operations.py:133: RuntimeWarning: invalid value encountered in intersection\n",
      "  return lib.intersection(a, b, **kwargs)\n",
      "/home/ichuviliaeva/miniconda3/envs/ocr_course/lib/python3.8/site-packages/shapely/set_operations.py:133: RuntimeWarning: invalid value encountered in intersection\n",
      "  return lib.intersection(a, b, **kwargs)\n",
      "/home/ichuviliaeva/miniconda3/envs/ocr_course/lib/python3.8/site-packages/shapely/set_operations.py:133: RuntimeWarning: invalid value encountered in intersection\n",
      "  return lib.intersection(a, b, **kwargs)\n",
      "/home/ichuviliaeva/miniconda3/envs/ocr_course/lib/python3.8/site-packages/shapely/set_operations.py:133: RuntimeWarning: invalid value encountered in intersection\n",
      "  return lib.intersection(a, b, **kwargs)\n",
      "/home/ichuviliaeva/miniconda3/envs/ocr_course/lib/python3.8/site-packages/shapely/set_operations.py:133: RuntimeWarning: invalid value encountered in intersection\n",
      "  return lib.intersection(a, b, **kwargs)\n",
      "/home/ichuviliaeva/miniconda3/envs/ocr_course/lib/python3.8/site-packages/shapely/set_operations.py:133: RuntimeWarning: invalid value encountered in intersection\n",
      "  return lib.intersection(a, b, **kwargs)\n",
      "/home/ichuviliaeva/miniconda3/envs/ocr_course/lib/python3.8/site-packages/shapely/set_operations.py:133: RuntimeWarning: invalid value encountered in intersection\n",
      "  return lib.intersection(a, b, **kwargs)\n",
      "/home/ichuviliaeva/miniconda3/envs/ocr_course/lib/python3.8/site-packages/shapely/set_operations.py:133: RuntimeWarning: invalid value encountered in intersection\n",
      "  return lib.intersection(a, b, **kwargs)\n",
      "/home/ichuviliaeva/miniconda3/envs/ocr_course/lib/python3.8/site-packages/shapely/set_operations.py:133: RuntimeWarning: invalid value encountered in intersection\n",
      "  return lib.intersection(a, b, **kwargs)\n",
      "/home/ichuviliaeva/miniconda3/envs/ocr_course/lib/python3.8/site-packages/shapely/set_operations.py:133: RuntimeWarning: invalid value encountered in intersection\n",
      "  return lib.intersection(a, b, **kwargs)\n",
      "/home/ichuviliaeva/miniconda3/envs/ocr_course/lib/python3.8/site-packages/shapely/set_operations.py:133: RuntimeWarning: invalid value encountered in intersection\n",
      "  return lib.intersection(a, b, **kwargs)\n",
      "/home/ichuviliaeva/miniconda3/envs/ocr_course/lib/python3.8/site-packages/shapely/set_operations.py:133: RuntimeWarning: invalid value encountered in intersection\n",
      "  return lib.intersection(a, b, **kwargs)\n",
      "/home/ichuviliaeva/miniconda3/envs/ocr_course/lib/python3.8/site-packages/shapely/set_operations.py:133: RuntimeWarning: invalid value encountered in intersection\n",
      "  return lib.intersection(a, b, **kwargs)\n",
      "/home/ichuviliaeva/miniconda3/envs/ocr_course/lib/python3.8/site-packages/shapely/set_operations.py:133: RuntimeWarning: invalid value encountered in intersection\n",
      "  return lib.intersection(a, b, **kwargs)\n",
      "/home/ichuviliaeva/miniconda3/envs/ocr_course/lib/python3.8/site-packages/shapely/set_operations.py:133: RuntimeWarning: invalid value encountered in intersection\n",
      "  return lib.intersection(a, b, **kwargs)\n",
      "/home/ichuviliaeva/miniconda3/envs/ocr_course/lib/python3.8/site-packages/shapely/set_operations.py:133: RuntimeWarning: invalid value encountered in intersection\n",
      "  return lib.intersection(a, b, **kwargs)\n",
      "/home/ichuviliaeva/miniconda3/envs/ocr_course/lib/python3.8/site-packages/shapely/set_operations.py:133: RuntimeWarning: invalid value encountered in intersection\n",
      "  return lib.intersection(a, b, **kwargs)\n",
      "/home/ichuviliaeva/miniconda3/envs/ocr_course/lib/python3.8/site-packages/shapely/set_operations.py:133: RuntimeWarning: invalid value encountered in intersection\n",
      "  return lib.intersection(a, b, **kwargs)\n",
      "/home/ichuviliaeva/miniconda3/envs/ocr_course/lib/python3.8/site-packages/shapely/set_operations.py:133: RuntimeWarning: invalid value encountered in intersection\n",
      "  return lib.intersection(a, b, **kwargs)\n",
      "/home/ichuviliaeva/miniconda3/envs/ocr_course/lib/python3.8/site-packages/shapely/set_operations.py:133: RuntimeWarning: invalid value encountered in intersection\n",
      "  return lib.intersection(a, b, **kwargs)\n",
      "/home/ichuviliaeva/miniconda3/envs/ocr_course/lib/python3.8/site-packages/shapely/set_operations.py:133: RuntimeWarning: invalid value encountered in intersection\n",
      "  return lib.intersection(a, b, **kwargs)\n",
      "/home/ichuviliaeva/miniconda3/envs/ocr_course/lib/python3.8/site-packages/shapely/set_operations.py:133: RuntimeWarning: invalid value encountered in intersection\n",
      "  return lib.intersection(a, b, **kwargs)\n",
      "/home/ichuviliaeva/miniconda3/envs/ocr_course/lib/python3.8/site-packages/shapely/set_operations.py:133: RuntimeWarning: invalid value encountered in intersection\n",
      "  return lib.intersection(a, b, **kwargs)\n",
      "/home/ichuviliaeva/miniconda3/envs/ocr_course/lib/python3.8/site-packages/shapely/set_operations.py:133: RuntimeWarning: invalid value encountered in intersection\n",
      "  return lib.intersection(a, b, **kwargs)\n",
      "/home/ichuviliaeva/miniconda3/envs/ocr_course/lib/python3.8/site-packages/shapely/set_operations.py:133: RuntimeWarning: invalid value encountered in intersection\n",
      "  return lib.intersection(a, b, **kwargs)\n",
      "/home/ichuviliaeva/miniconda3/envs/ocr_course/lib/python3.8/site-packages/shapely/set_operations.py:133: RuntimeWarning: invalid value encountered in intersection\n",
      "  return lib.intersection(a, b, **kwargs)\n",
      "/home/ichuviliaeva/miniconda3/envs/ocr_course/lib/python3.8/site-packages/shapely/set_operations.py:133: RuntimeWarning: invalid value encountered in intersection\n",
      "  return lib.intersection(a, b, **kwargs)\n",
      "/home/ichuviliaeva/miniconda3/envs/ocr_course/lib/python3.8/site-packages/shapely/set_operations.py:133: RuntimeWarning: invalid value encountered in intersection\n",
      "  return lib.intersection(a, b, **kwargs)\n",
      "/home/ichuviliaeva/miniconda3/envs/ocr_course/lib/python3.8/site-packages/shapely/set_operations.py:133: RuntimeWarning: invalid value encountered in intersection\n",
      "  return lib.intersection(a, b, **kwargs)\n",
      "/home/ichuviliaeva/miniconda3/envs/ocr_course/lib/python3.8/site-packages/shapely/set_operations.py:133: RuntimeWarning: invalid value encountered in intersection\n",
      "  return lib.intersection(a, b, **kwargs)\n",
      "/home/ichuviliaeva/miniconda3/envs/ocr_course/lib/python3.8/site-packages/shapely/set_operations.py:133: RuntimeWarning: invalid value encountered in intersection\n",
      "  return lib.intersection(a, b, **kwargs)\n",
      "/home/ichuviliaeva/miniconda3/envs/ocr_course/lib/python3.8/site-packages/shapely/set_operations.py:133: RuntimeWarning: invalid value encountered in intersection\n",
      "  return lib.intersection(a, b, **kwargs)\n",
      "/home/ichuviliaeva/miniconda3/envs/ocr_course/lib/python3.8/site-packages/shapely/set_operations.py:133: RuntimeWarning: invalid value encountered in intersection\n",
      "  return lib.intersection(a, b, **kwargs)\n",
      "/home/ichuviliaeva/miniconda3/envs/ocr_course/lib/python3.8/site-packages/shapely/set_operations.py:133: RuntimeWarning: invalid value encountered in intersection\n",
      "  return lib.intersection(a, b, **kwargs)\n",
      "/home/ichuviliaeva/miniconda3/envs/ocr_course/lib/python3.8/site-packages/shapely/set_operations.py:133: RuntimeWarning: invalid value encountered in intersection\n",
      "  return lib.intersection(a, b, **kwargs)\n",
      "/home/ichuviliaeva/miniconda3/envs/ocr_course/lib/python3.8/site-packages/shapely/set_operations.py:133: RuntimeWarning: invalid value encountered in intersection\n",
      "  return lib.intersection(a, b, **kwargs)\n",
      "/home/ichuviliaeva/miniconda3/envs/ocr_course/lib/python3.8/site-packages/shapely/set_operations.py:133: RuntimeWarning: invalid value encountered in intersection\n",
      "  return lib.intersection(a, b, **kwargs)\n",
      "/home/ichuviliaeva/miniconda3/envs/ocr_course/lib/python3.8/site-packages/shapely/set_operations.py:133: RuntimeWarning: invalid value encountered in intersection\n",
      "  return lib.intersection(a, b, **kwargs)\n",
      "/home/ichuviliaeva/miniconda3/envs/ocr_course/lib/python3.8/site-packages/shapely/set_operations.py:133: RuntimeWarning: invalid value encountered in intersection\n",
      "  return lib.intersection(a, b, **kwargs)\n"
     ]
    },
    {
     "name": "stderr",
     "output_type": "stream",
     "text": [
      "/home/ichuviliaeva/miniconda3/envs/ocr_course/lib/python3.8/site-packages/shapely/set_operations.py:133: RuntimeWarning: invalid value encountered in intersection\n",
      "  return lib.intersection(a, b, **kwargs)\n",
      "/home/ichuviliaeva/miniconda3/envs/ocr_course/lib/python3.8/site-packages/shapely/set_operations.py:133: RuntimeWarning: invalid value encountered in intersection\n",
      "  return lib.intersection(a, b, **kwargs)\n",
      "/home/ichuviliaeva/miniconda3/envs/ocr_course/lib/python3.8/site-packages/shapely/set_operations.py:133: RuntimeWarning: invalid value encountered in intersection\n",
      "  return lib.intersection(a, b, **kwargs)\n",
      "/home/ichuviliaeva/miniconda3/envs/ocr_course/lib/python3.8/site-packages/shapely/set_operations.py:133: RuntimeWarning: invalid value encountered in intersection\n",
      "  return lib.intersection(a, b, **kwargs)\n",
      "/home/ichuviliaeva/miniconda3/envs/ocr_course/lib/python3.8/site-packages/shapely/set_operations.py:133: RuntimeWarning: invalid value encountered in intersection\n",
      "  return lib.intersection(a, b, **kwargs)\n",
      "/home/ichuviliaeva/miniconda3/envs/ocr_course/lib/python3.8/site-packages/shapely/set_operations.py:133: RuntimeWarning: invalid value encountered in intersection\n",
      "  return lib.intersection(a, b, **kwargs)\n",
      "/home/ichuviliaeva/miniconda3/envs/ocr_course/lib/python3.8/site-packages/shapely/set_operations.py:133: RuntimeWarning: invalid value encountered in intersection\n",
      "  return lib.intersection(a, b, **kwargs)\n",
      "/home/ichuviliaeva/miniconda3/envs/ocr_course/lib/python3.8/site-packages/shapely/set_operations.py:133: RuntimeWarning: invalid value encountered in intersection\n",
      "  return lib.intersection(a, b, **kwargs)\n",
      "/home/ichuviliaeva/miniconda3/envs/ocr_course/lib/python3.8/site-packages/shapely/set_operations.py:133: RuntimeWarning: invalid value encountered in intersection\n",
      "  return lib.intersection(a, b, **kwargs)\n",
      "/home/ichuviliaeva/miniconda3/envs/ocr_course/lib/python3.8/site-packages/shapely/set_operations.py:133: RuntimeWarning: invalid value encountered in intersection\n",
      "  return lib.intersection(a, b, **kwargs)\n",
      "/home/ichuviliaeva/miniconda3/envs/ocr_course/lib/python3.8/site-packages/shapely/set_operations.py:133: RuntimeWarning: invalid value encountered in intersection\n",
      "  return lib.intersection(a, b, **kwargs)\n",
      "/home/ichuviliaeva/miniconda3/envs/ocr_course/lib/python3.8/site-packages/shapely/set_operations.py:133: RuntimeWarning: invalid value encountered in intersection\n",
      "  return lib.intersection(a, b, **kwargs)\n",
      "/home/ichuviliaeva/miniconda3/envs/ocr_course/lib/python3.8/site-packages/shapely/set_operations.py:133: RuntimeWarning: invalid value encountered in intersection\n",
      "  return lib.intersection(a, b, **kwargs)\n",
      "/home/ichuviliaeva/miniconda3/envs/ocr_course/lib/python3.8/site-packages/shapely/set_operations.py:133: RuntimeWarning: invalid value encountered in intersection\n",
      "  return lib.intersection(a, b, **kwargs)\n",
      "/home/ichuviliaeva/miniconda3/envs/ocr_course/lib/python3.8/site-packages/shapely/set_operations.py:133: RuntimeWarning: invalid value encountered in intersection\n",
      "  return lib.intersection(a, b, **kwargs)\n",
      "/home/ichuviliaeva/miniconda3/envs/ocr_course/lib/python3.8/site-packages/shapely/set_operations.py:133: RuntimeWarning: invalid value encountered in intersection\n",
      "  return lib.intersection(a, b, **kwargs)\n",
      "/home/ichuviliaeva/miniconda3/envs/ocr_course/lib/python3.8/site-packages/shapely/set_operations.py:133: RuntimeWarning: invalid value encountered in intersection\n",
      "  return lib.intersection(a, b, **kwargs)\n",
      "/home/ichuviliaeva/miniconda3/envs/ocr_course/lib/python3.8/site-packages/shapely/set_operations.py:133: RuntimeWarning: invalid value encountered in intersection\n",
      "  return lib.intersection(a, b, **kwargs)\n",
      "/home/ichuviliaeva/miniconda3/envs/ocr_course/lib/python3.8/site-packages/shapely/set_operations.py:133: RuntimeWarning: invalid value encountered in intersection\n",
      "  return lib.intersection(a, b, **kwargs)\n",
      "/home/ichuviliaeva/miniconda3/envs/ocr_course/lib/python3.8/site-packages/shapely/set_operations.py:133: RuntimeWarning: invalid value encountered in intersection\n",
      "  return lib.intersection(a, b, **kwargs)\n",
      "/home/ichuviliaeva/miniconda3/envs/ocr_course/lib/python3.8/site-packages/shapely/set_operations.py:133: RuntimeWarning: invalid value encountered in intersection\n",
      "  return lib.intersection(a, b, **kwargs)\n",
      "/home/ichuviliaeva/miniconda3/envs/ocr_course/lib/python3.8/site-packages/shapely/set_operations.py:133: RuntimeWarning: invalid value encountered in intersection\n",
      "  return lib.intersection(a, b, **kwargs)\n",
      "/home/ichuviliaeva/miniconda3/envs/ocr_course/lib/python3.8/site-packages/shapely/set_operations.py:133: RuntimeWarning: invalid value encountered in intersection\n",
      "  return lib.intersection(a, b, **kwargs)\n",
      "/home/ichuviliaeva/miniconda3/envs/ocr_course/lib/python3.8/site-packages/shapely/set_operations.py:133: RuntimeWarning: invalid value encountered in intersection\n",
      "  return lib.intersection(a, b, **kwargs)\n",
      "/home/ichuviliaeva/miniconda3/envs/ocr_course/lib/python3.8/site-packages/shapely/set_operations.py:133: RuntimeWarning: invalid value encountered in intersection\n",
      "  return lib.intersection(a, b, **kwargs)\n",
      "/home/ichuviliaeva/miniconda3/envs/ocr_course/lib/python3.8/site-packages/shapely/set_operations.py:133: RuntimeWarning: invalid value encountered in intersection\n",
      "  return lib.intersection(a, b, **kwargs)\n",
      "/home/ichuviliaeva/miniconda3/envs/ocr_course/lib/python3.8/site-packages/shapely/set_operations.py:133: RuntimeWarning: invalid value encountered in intersection\n",
      "  return lib.intersection(a, b, **kwargs)\n",
      "/home/ichuviliaeva/miniconda3/envs/ocr_course/lib/python3.8/site-packages/shapely/set_operations.py:133: RuntimeWarning: invalid value encountered in intersection\n",
      "  return lib.intersection(a, b, **kwargs)\n",
      "/home/ichuviliaeva/miniconda3/envs/ocr_course/lib/python3.8/site-packages/shapely/set_operations.py:133: RuntimeWarning: invalid value encountered in intersection\n",
      "  return lib.intersection(a, b, **kwargs)\n",
      "/home/ichuviliaeva/miniconda3/envs/ocr_course/lib/python3.8/site-packages/shapely/set_operations.py:133: RuntimeWarning: invalid value encountered in intersection\n",
      "  return lib.intersection(a, b, **kwargs)\n",
      "/home/ichuviliaeva/miniconda3/envs/ocr_course/lib/python3.8/site-packages/shapely/set_operations.py:133: RuntimeWarning: invalid value encountered in intersection\n",
      "  return lib.intersection(a, b, **kwargs)\n",
      "/home/ichuviliaeva/miniconda3/envs/ocr_course/lib/python3.8/site-packages/shapely/set_operations.py:133: RuntimeWarning: invalid value encountered in intersection\n",
      "  return lib.intersection(a, b, **kwargs)\n",
      "/home/ichuviliaeva/miniconda3/envs/ocr_course/lib/python3.8/site-packages/shapely/set_operations.py:133: RuntimeWarning: invalid value encountered in intersection\n",
      "  return lib.intersection(a, b, **kwargs)\n",
      "/home/ichuviliaeva/miniconda3/envs/ocr_course/lib/python3.8/site-packages/shapely/set_operations.py:133: RuntimeWarning: invalid value encountered in intersection\n",
      "  return lib.intersection(a, b, **kwargs)\n",
      "/home/ichuviliaeva/miniconda3/envs/ocr_course/lib/python3.8/site-packages/shapely/set_operations.py:133: RuntimeWarning: invalid value encountered in intersection\n",
      "  return lib.intersection(a, b, **kwargs)\n",
      "/home/ichuviliaeva/miniconda3/envs/ocr_course/lib/python3.8/site-packages/shapely/set_operations.py:133: RuntimeWarning: invalid value encountered in intersection\n",
      "  return lib.intersection(a, b, **kwargs)\n",
      "/home/ichuviliaeva/miniconda3/envs/ocr_course/lib/python3.8/site-packages/shapely/set_operations.py:133: RuntimeWarning: invalid value encountered in intersection\n",
      "  return lib.intersection(a, b, **kwargs)\n",
      "/home/ichuviliaeva/miniconda3/envs/ocr_course/lib/python3.8/site-packages/shapely/set_operations.py:133: RuntimeWarning: invalid value encountered in intersection\n",
      "  return lib.intersection(a, b, **kwargs)\n",
      "/home/ichuviliaeva/miniconda3/envs/ocr_course/lib/python3.8/site-packages/shapely/set_operations.py:133: RuntimeWarning: invalid value encountered in intersection\n",
      "  return lib.intersection(a, b, **kwargs)\n",
      "/home/ichuviliaeva/miniconda3/envs/ocr_course/lib/python3.8/site-packages/shapely/set_operations.py:133: RuntimeWarning: invalid value encountered in intersection\n",
      "  return lib.intersection(a, b, **kwargs)\n",
      "/home/ichuviliaeva/miniconda3/envs/ocr_course/lib/python3.8/site-packages/shapely/set_operations.py:133: RuntimeWarning: invalid value encountered in intersection\n",
      "  return lib.intersection(a, b, **kwargs)\n",
      "/home/ichuviliaeva/miniconda3/envs/ocr_course/lib/python3.8/site-packages/shapely/set_operations.py:133: RuntimeWarning: invalid value encountered in intersection\n",
      "  return lib.intersection(a, b, **kwargs)\n",
      "/home/ichuviliaeva/miniconda3/envs/ocr_course/lib/python3.8/site-packages/shapely/set_operations.py:133: RuntimeWarning: invalid value encountered in intersection\n",
      "  return lib.intersection(a, b, **kwargs)\n",
      "/home/ichuviliaeva/miniconda3/envs/ocr_course/lib/python3.8/site-packages/shapely/set_operations.py:133: RuntimeWarning: invalid value encountered in intersection\n",
      "  return lib.intersection(a, b, **kwargs)\n",
      "/home/ichuviliaeva/miniconda3/envs/ocr_course/lib/python3.8/site-packages/shapely/set_operations.py:133: RuntimeWarning: invalid value encountered in intersection\n",
      "  return lib.intersection(a, b, **kwargs)\n",
      "/home/ichuviliaeva/miniconda3/envs/ocr_course/lib/python3.8/site-packages/shapely/set_operations.py:133: RuntimeWarning: invalid value encountered in intersection\n",
      "  return lib.intersection(a, b, **kwargs)\n",
      "/home/ichuviliaeva/miniconda3/envs/ocr_course/lib/python3.8/site-packages/shapely/set_operations.py:133: RuntimeWarning: invalid value encountered in intersection\n",
      "  return lib.intersection(a, b, **kwargs)\n",
      "/home/ichuviliaeva/miniconda3/envs/ocr_course/lib/python3.8/site-packages/shapely/set_operations.py:133: RuntimeWarning: invalid value encountered in intersection\n",
      "  return lib.intersection(a, b, **kwargs)\n",
      "/home/ichuviliaeva/miniconda3/envs/ocr_course/lib/python3.8/site-packages/shapely/set_operations.py:133: RuntimeWarning: invalid value encountered in intersection\n",
      "  return lib.intersection(a, b, **kwargs)\n",
      "/home/ichuviliaeva/miniconda3/envs/ocr_course/lib/python3.8/site-packages/shapely/set_operations.py:133: RuntimeWarning: invalid value encountered in intersection\n",
      "  return lib.intersection(a, b, **kwargs)\n",
      "/home/ichuviliaeva/miniconda3/envs/ocr_course/lib/python3.8/site-packages/shapely/set_operations.py:133: RuntimeWarning: invalid value encountered in intersection\n",
      "  return lib.intersection(a, b, **kwargs)\n",
      "/home/ichuviliaeva/miniconda3/envs/ocr_course/lib/python3.8/site-packages/shapely/set_operations.py:133: RuntimeWarning: invalid value encountered in intersection\n",
      "  return lib.intersection(a, b, **kwargs)\n",
      "/home/ichuviliaeva/miniconda3/envs/ocr_course/lib/python3.8/site-packages/shapely/set_operations.py:133: RuntimeWarning: invalid value encountered in intersection\n",
      "  return lib.intersection(a, b, **kwargs)\n",
      "/home/ichuviliaeva/miniconda3/envs/ocr_course/lib/python3.8/site-packages/shapely/set_operations.py:133: RuntimeWarning: invalid value encountered in intersection\n",
      "  return lib.intersection(a, b, **kwargs)\n",
      "/home/ichuviliaeva/miniconda3/envs/ocr_course/lib/python3.8/site-packages/shapely/set_operations.py:133: RuntimeWarning: invalid value encountered in intersection\n",
      "  return lib.intersection(a, b, **kwargs)\n",
      "/home/ichuviliaeva/miniconda3/envs/ocr_course/lib/python3.8/site-packages/shapely/set_operations.py:133: RuntimeWarning: invalid value encountered in intersection\n",
      "  return lib.intersection(a, b, **kwargs)\n",
      "/home/ichuviliaeva/miniconda3/envs/ocr_course/lib/python3.8/site-packages/shapely/set_operations.py:133: RuntimeWarning: invalid value encountered in intersection\n",
      "  return lib.intersection(a, b, **kwargs)\n",
      "/home/ichuviliaeva/miniconda3/envs/ocr_course/lib/python3.8/site-packages/shapely/set_operations.py:133: RuntimeWarning: invalid value encountered in intersection\n",
      "  return lib.intersection(a, b, **kwargs)\n",
      "/home/ichuviliaeva/miniconda3/envs/ocr_course/lib/python3.8/site-packages/shapely/set_operations.py:133: RuntimeWarning: invalid value encountered in intersection\n",
      "  return lib.intersection(a, b, **kwargs)\n",
      "/home/ichuviliaeva/miniconda3/envs/ocr_course/lib/python3.8/site-packages/shapely/set_operations.py:133: RuntimeWarning: invalid value encountered in intersection\n",
      "  return lib.intersection(a, b, **kwargs)\n",
      "/home/ichuviliaeva/miniconda3/envs/ocr_course/lib/python3.8/site-packages/shapely/set_operations.py:133: RuntimeWarning: invalid value encountered in intersection\n",
      "  return lib.intersection(a, b, **kwargs)\n",
      "/home/ichuviliaeva/miniconda3/envs/ocr_course/lib/python3.8/site-packages/shapely/set_operations.py:133: RuntimeWarning: invalid value encountered in intersection\n",
      "  return lib.intersection(a, b, **kwargs)\n"
     ]
    },
    {
     "name": "stderr",
     "output_type": "stream",
     "text": [
      "/home/ichuviliaeva/miniconda3/envs/ocr_course/lib/python3.8/site-packages/shapely/set_operations.py:133: RuntimeWarning: invalid value encountered in intersection\n",
      "  return lib.intersection(a, b, **kwargs)\n",
      "/home/ichuviliaeva/miniconda3/envs/ocr_course/lib/python3.8/site-packages/shapely/set_operations.py:133: RuntimeWarning: invalid value encountered in intersection\n",
      "  return lib.intersection(a, b, **kwargs)\n",
      "/home/ichuviliaeva/miniconda3/envs/ocr_course/lib/python3.8/site-packages/shapely/set_operations.py:133: RuntimeWarning: invalid value encountered in intersection\n",
      "  return lib.intersection(a, b, **kwargs)\n",
      "/home/ichuviliaeva/miniconda3/envs/ocr_course/lib/python3.8/site-packages/shapely/set_operations.py:133: RuntimeWarning: invalid value encountered in intersection\n",
      "  return lib.intersection(a, b, **kwargs)\n",
      "/home/ichuviliaeva/miniconda3/envs/ocr_course/lib/python3.8/site-packages/shapely/set_operations.py:133: RuntimeWarning: invalid value encountered in intersection\n",
      "  return lib.intersection(a, b, **kwargs)\n",
      "/home/ichuviliaeva/miniconda3/envs/ocr_course/lib/python3.8/site-packages/shapely/set_operations.py:133: RuntimeWarning: invalid value encountered in intersection\n",
      "  return lib.intersection(a, b, **kwargs)\n",
      "/home/ichuviliaeva/miniconda3/envs/ocr_course/lib/python3.8/site-packages/shapely/set_operations.py:133: RuntimeWarning: invalid value encountered in intersection\n",
      "  return lib.intersection(a, b, **kwargs)\n",
      "/home/ichuviliaeva/miniconda3/envs/ocr_course/lib/python3.8/site-packages/shapely/set_operations.py:133: RuntimeWarning: invalid value encountered in intersection\n",
      "  return lib.intersection(a, b, **kwargs)\n",
      "/home/ichuviliaeva/miniconda3/envs/ocr_course/lib/python3.8/site-packages/shapely/set_operations.py:133: RuntimeWarning: invalid value encountered in intersection\n",
      "  return lib.intersection(a, b, **kwargs)\n",
      "/home/ichuviliaeva/miniconda3/envs/ocr_course/lib/python3.8/site-packages/shapely/set_operations.py:133: RuntimeWarning: invalid value encountered in intersection\n",
      "  return lib.intersection(a, b, **kwargs)\n",
      "/home/ichuviliaeva/miniconda3/envs/ocr_course/lib/python3.8/site-packages/shapely/set_operations.py:133: RuntimeWarning: invalid value encountered in intersection\n",
      "  return lib.intersection(a, b, **kwargs)\n",
      "/home/ichuviliaeva/miniconda3/envs/ocr_course/lib/python3.8/site-packages/shapely/set_operations.py:133: RuntimeWarning: invalid value encountered in intersection\n",
      "  return lib.intersection(a, b, **kwargs)\n",
      "/home/ichuviliaeva/miniconda3/envs/ocr_course/lib/python3.8/site-packages/shapely/set_operations.py:133: RuntimeWarning: invalid value encountered in intersection\n",
      "  return lib.intersection(a, b, **kwargs)\n",
      "/home/ichuviliaeva/miniconda3/envs/ocr_course/lib/python3.8/site-packages/shapely/set_operations.py:133: RuntimeWarning: invalid value encountered in intersection\n",
      "  return lib.intersection(a, b, **kwargs)\n",
      "/home/ichuviliaeva/miniconda3/envs/ocr_course/lib/python3.8/site-packages/shapely/set_operations.py:133: RuntimeWarning: invalid value encountered in intersection\n",
      "  return lib.intersection(a, b, **kwargs)\n",
      "/home/ichuviliaeva/miniconda3/envs/ocr_course/lib/python3.8/site-packages/shapely/set_operations.py:133: RuntimeWarning: invalid value encountered in intersection\n",
      "  return lib.intersection(a, b, **kwargs)\n",
      "/home/ichuviliaeva/miniconda3/envs/ocr_course/lib/python3.8/site-packages/shapely/set_operations.py:133: RuntimeWarning: invalid value encountered in intersection\n",
      "  return lib.intersection(a, b, **kwargs)\n",
      "/home/ichuviliaeva/miniconda3/envs/ocr_course/lib/python3.8/site-packages/shapely/set_operations.py:133: RuntimeWarning: invalid value encountered in intersection\n",
      "  return lib.intersection(a, b, **kwargs)\n",
      "/home/ichuviliaeva/miniconda3/envs/ocr_course/lib/python3.8/site-packages/shapely/set_operations.py:133: RuntimeWarning: invalid value encountered in intersection\n",
      "  return lib.intersection(a, b, **kwargs)\n",
      "/home/ichuviliaeva/miniconda3/envs/ocr_course/lib/python3.8/site-packages/shapely/set_operations.py:133: RuntimeWarning: invalid value encountered in intersection\n",
      "  return lib.intersection(a, b, **kwargs)\n",
      "/home/ichuviliaeva/miniconda3/envs/ocr_course/lib/python3.8/site-packages/shapely/set_operations.py:133: RuntimeWarning: invalid value encountered in intersection\n",
      "  return lib.intersection(a, b, **kwargs)\n",
      "/home/ichuviliaeva/miniconda3/envs/ocr_course/lib/python3.8/site-packages/shapely/set_operations.py:133: RuntimeWarning: invalid value encountered in intersection\n",
      "  return lib.intersection(a, b, **kwargs)\n",
      "/home/ichuviliaeva/miniconda3/envs/ocr_course/lib/python3.8/site-packages/shapely/set_operations.py:133: RuntimeWarning: invalid value encountered in intersection\n",
      "  return lib.intersection(a, b, **kwargs)\n",
      "/home/ichuviliaeva/miniconda3/envs/ocr_course/lib/python3.8/site-packages/shapely/set_operations.py:133: RuntimeWarning: invalid value encountered in intersection\n",
      "  return lib.intersection(a, b, **kwargs)\n",
      "/home/ichuviliaeva/miniconda3/envs/ocr_course/lib/python3.8/site-packages/shapely/set_operations.py:133: RuntimeWarning: invalid value encountered in intersection\n",
      "  return lib.intersection(a, b, **kwargs)\n",
      "/home/ichuviliaeva/miniconda3/envs/ocr_course/lib/python3.8/site-packages/shapely/set_operations.py:133: RuntimeWarning: invalid value encountered in intersection\n",
      "  return lib.intersection(a, b, **kwargs)\n",
      "/home/ichuviliaeva/miniconda3/envs/ocr_course/lib/python3.8/site-packages/shapely/set_operations.py:133: RuntimeWarning: invalid value encountered in intersection\n",
      "  return lib.intersection(a, b, **kwargs)\n",
      "/home/ichuviliaeva/miniconda3/envs/ocr_course/lib/python3.8/site-packages/shapely/set_operations.py:133: RuntimeWarning: invalid value encountered in intersection\n",
      "  return lib.intersection(a, b, **kwargs)\n",
      "/home/ichuviliaeva/miniconda3/envs/ocr_course/lib/python3.8/site-packages/shapely/set_operations.py:133: RuntimeWarning: invalid value encountered in intersection\n",
      "  return lib.intersection(a, b, **kwargs)\n",
      "/home/ichuviliaeva/miniconda3/envs/ocr_course/lib/python3.8/site-packages/shapely/set_operations.py:133: RuntimeWarning: invalid value encountered in intersection\n",
      "  return lib.intersection(a, b, **kwargs)\n",
      "/home/ichuviliaeva/miniconda3/envs/ocr_course/lib/python3.8/site-packages/shapely/set_operations.py:133: RuntimeWarning: invalid value encountered in intersection\n",
      "  return lib.intersection(a, b, **kwargs)\n",
      "/home/ichuviliaeva/miniconda3/envs/ocr_course/lib/python3.8/site-packages/shapely/set_operations.py:133: RuntimeWarning: invalid value encountered in intersection\n",
      "  return lib.intersection(a, b, **kwargs)\n",
      "/home/ichuviliaeva/miniconda3/envs/ocr_course/lib/python3.8/site-packages/shapely/set_operations.py:133: RuntimeWarning: invalid value encountered in intersection\n",
      "  return lib.intersection(a, b, **kwargs)\n",
      "/home/ichuviliaeva/miniconda3/envs/ocr_course/lib/python3.8/site-packages/shapely/set_operations.py:133: RuntimeWarning: invalid value encountered in intersection\n",
      "  return lib.intersection(a, b, **kwargs)\n",
      "/home/ichuviliaeva/miniconda3/envs/ocr_course/lib/python3.8/site-packages/shapely/set_operations.py:133: RuntimeWarning: invalid value encountered in intersection\n",
      "  return lib.intersection(a, b, **kwargs)\n",
      "/home/ichuviliaeva/miniconda3/envs/ocr_course/lib/python3.8/site-packages/shapely/set_operations.py:133: RuntimeWarning: invalid value encountered in intersection\n",
      "  return lib.intersection(a, b, **kwargs)\n",
      "/home/ichuviliaeva/miniconda3/envs/ocr_course/lib/python3.8/site-packages/shapely/set_operations.py:133: RuntimeWarning: invalid value encountered in intersection\n",
      "  return lib.intersection(a, b, **kwargs)\n",
      "/home/ichuviliaeva/miniconda3/envs/ocr_course/lib/python3.8/site-packages/shapely/set_operations.py:133: RuntimeWarning: invalid value encountered in intersection\n",
      "  return lib.intersection(a, b, **kwargs)\n",
      "/home/ichuviliaeva/miniconda3/envs/ocr_course/lib/python3.8/site-packages/shapely/set_operations.py:133: RuntimeWarning: invalid value encountered in intersection\n",
      "  return lib.intersection(a, b, **kwargs)\n",
      "/home/ichuviliaeva/miniconda3/envs/ocr_course/lib/python3.8/site-packages/shapely/set_operations.py:133: RuntimeWarning: invalid value encountered in intersection\n",
      "  return lib.intersection(a, b, **kwargs)\n",
      "/home/ichuviliaeva/miniconda3/envs/ocr_course/lib/python3.8/site-packages/shapely/set_operations.py:133: RuntimeWarning: invalid value encountered in intersection\n",
      "  return lib.intersection(a, b, **kwargs)\n",
      "/home/ichuviliaeva/miniconda3/envs/ocr_course/lib/python3.8/site-packages/shapely/set_operations.py:133: RuntimeWarning: invalid value encountered in intersection\n",
      "  return lib.intersection(a, b, **kwargs)\n"
     ]
    }
   ],
   "source": [
    "acc = measure_crop_accuracy(\n",
    "    Path() / 'pred.json',\n",
    "    Path() / 'gt.json'\n",
    ")"
   ]
  },
  {
   "cell_type": "code",
   "execution_count": 19,
   "id": "592f72ac",
   "metadata": {},
   "outputs": [
    {
     "name": "stdout",
     "output_type": "stream",
     "text": [
      "Точность кропа: 0.0000\n"
     ]
    }
   ],
   "source": [
    "print(\"Точность кропа: {:1.4f}\".format(acc))"
   ]
  },
  {
   "cell_type": "markdown",
   "id": "f7e378e8",
   "metadata": {},
   "source": [
    "Даже после дообучения сеть не начала находить новых матчей. Скорее всего это из-за отвсутствия каких-либо результатов изначально. Теперь она хотя бы не пытается просто ничего не предсказывать."
   ]
  },
  {
   "cell_type": "code",
   "execution_count": null,
   "id": "89bfeef0",
   "metadata": {},
   "outputs": [],
   "source": []
  }
 ],
 "metadata": {
  "kernelspec": {
   "display_name": "Python 3 (ipykernel)",
   "language": "python",
   "name": "python3"
  },
  "language_info": {
   "codemirror_mode": {
    "name": "ipython",
    "version": 3
   },
   "file_extension": ".py",
   "mimetype": "text/x-python",
   "name": "python",
   "nbconvert_exporter": "python",
   "pygments_lexer": "ipython3",
   "version": "3.8.16"
  }
 },
 "nbformat": 4,
 "nbformat_minor": 5
}
