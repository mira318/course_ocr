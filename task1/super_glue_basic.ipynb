{
 "cells": [
  {
   "cell_type": "code",
   "execution_count": 1,
   "id": "22feea9a",
   "metadata": {},
   "outputs": [
    {
     "name": "stderr",
     "output_type": "stream",
     "text": [
      "/home/ichuviliaeva/miniconda3/envs/ocr_course/lib/python3.8/site-packages/tqdm/auto.py:22: TqdmWarning: IProgress not found. Please update jupyter and ipywidgets. See https://ipywidgets.readthedocs.io/en/stable/user_install.html\n",
      "  from .autonotebook import tqdm as notebook_tqdm\n"
     ]
    }
   ],
   "source": [
    "import matplotlib\n",
    "import numpy as np\n",
    "import os\n",
    "import torch\n",
    "import cv2"
   ]
  },
  {
   "cell_type": "code",
   "execution_count": 2,
   "id": "66cd3ef9",
   "metadata": {},
   "outputs": [],
   "source": [
    "from pathlib import Path\n",
    "from course_ocr_t1.data import MidvPackage\n",
    "from tqdm import tqdm\n",
    "from matplotlib import pyplot as plt\n",
    "from PIL import Image"
   ]
  },
  {
   "cell_type": "code",
   "execution_count": 3,
   "id": "2b7f6a07",
   "metadata": {},
   "outputs": [
    {
     "name": "stdout",
     "output_type": "stream",
     "text": [
      "/home/ichuviliaeva/ocr_course/course_ocr/task1/SuperGluePretrainedNetwork\n"
     ]
    }
   ],
   "source": [
    "%cd SuperGluePretrainedNetwork/"
   ]
  },
  {
   "cell_type": "code",
   "execution_count": 4,
   "id": "125b23c9",
   "metadata": {},
   "outputs": [],
   "source": [
    "from models.superpoint import SuperPoint\n",
    "from models.utils import read_image"
   ]
  },
  {
   "cell_type": "code",
   "execution_count": 5,
   "id": "503476a0",
   "metadata": {},
   "outputs": [],
   "source": [
    "from models.superglue import SuperGlue"
   ]
  },
  {
   "cell_type": "code",
   "execution_count": 6,
   "id": "e5d16141",
   "metadata": {},
   "outputs": [],
   "source": [
    "os.environ['CUDA_VISIBLE_DEVICES'] = '2'\n",
    "gpu = torch.device('cuda:0')"
   ]
  },
  {
   "cell_type": "code",
   "execution_count": 7,
   "id": "88624b44",
   "metadata": {},
   "outputs": [
    {
     "name": "stdout",
     "output_type": "stream",
     "text": [
      "gt_root =  /DATA/ichuviliaeva/midv500_compressed/12_deu_drvlic_new/ground_truth\n",
      "img_root =  /DATA/ichuviliaeva/midv500_compressed/12_deu_drvlic_new/images\n",
      "gt_root =  /DATA/ichuviliaeva/midv500_compressed/33_mac_id/ground_truth\n",
      "img_root =  /DATA/ichuviliaeva/midv500_compressed/33_mac_id/images\n",
      "gt_root =  /DATA/ichuviliaeva/midv500_compressed/50_xpo_id/ground_truth\n",
      "img_root =  /DATA/ichuviliaeva/midv500_compressed/50_xpo_id/images\n",
      "gt_root =  /DATA/ichuviliaeva/midv500_compressed/38_rou_drvlic/ground_truth\n",
      "img_root =  /DATA/ichuviliaeva/midv500_compressed/38_rou_drvlic/images\n",
      "gt_root =  /DATA/ichuviliaeva/midv500_compressed/27_hrv_passport/ground_truth\n",
      "img_root =  /DATA/ichuviliaeva/midv500_compressed/27_hrv_passport/images\n",
      "gt_root =  /DATA/ichuviliaeva/midv500_compressed/44_ukr_id/ground_truth\n",
      "img_root =  /DATA/ichuviliaeva/midv500_compressed/44_ukr_id/images\n",
      "gt_root =  /DATA/ichuviliaeva/midv500_compressed/23_fin_drvlic/ground_truth\n",
      "img_root =  /DATA/ichuviliaeva/midv500_compressed/23_fin_drvlic/images\n",
      "gt_root =  /DATA/ichuviliaeva/midv500_compressed/25_grc_passport/ground_truth\n",
      "img_root =  /DATA/ichuviliaeva/midv500_compressed/25_grc_passport/images\n",
      "gt_root =  /DATA/ichuviliaeva/midv500_compressed/14_deu_id_new/ground_truth\n",
      "img_root =  /DATA/ichuviliaeva/midv500_compressed/14_deu_id_new/images\n",
      "gt_root =  /DATA/ichuviliaeva/midv500_compressed/21_esp_id_old/ground_truth\n",
      "img_root =  /DATA/ichuviliaeva/midv500_compressed/21_esp_id_old/images\n",
      "gt_root =  /DATA/ichuviliaeva/midv500_compressed/13_deu_drvlic_old/ground_truth\n",
      "img_root =  /DATA/ichuviliaeva/midv500_compressed/13_deu_drvlic_old/images\n",
      "gt_root =  /DATA/ichuviliaeva/midv500_compressed/31_jpn_drvlic/ground_truth\n",
      "img_root =  /DATA/ichuviliaeva/midv500_compressed/31_jpn_drvlic/images\n",
      "gt_root =  /DATA/ichuviliaeva/midv500_compressed/43_tur_id/ground_truth\n",
      "img_root =  /DATA/ichuviliaeva/midv500_compressed/43_tur_id/images\n",
      "gt_root =  /DATA/ichuviliaeva/midv500_compressed/05_aze_passport/ground_truth\n",
      "img_root =  /DATA/ichuviliaeva/midv500_compressed/05_aze_passport/images\n",
      "gt_root =  /DATA/ichuviliaeva/midv500_compressed/36_pol_drvlic/ground_truth\n",
      "img_root =  /DATA/ichuviliaeva/midv500_compressed/36_pol_drvlic/images\n",
      "gt_root =  /DATA/ichuviliaeva/midv500_compressed/35_nor_drvlic/ground_truth\n",
      "img_root =  /DATA/ichuviliaeva/midv500_compressed/35_nor_drvlic/images\n",
      "gt_root =  /DATA/ichuviliaeva/midv500_compressed/28_hun_passport/ground_truth\n",
      "img_root =  /DATA/ichuviliaeva/midv500_compressed/28_hun_passport/images\n",
      "gt_root =  /DATA/ichuviliaeva/midv500_compressed/32_lva_passport/ground_truth\n",
      "img_root =  /DATA/ichuviliaeva/midv500_compressed/32_lva_passport/images\n",
      "gt_root =  /DATA/ichuviliaeva/midv500_compressed/18_dza_passport/ground_truth\n",
      "img_root =  /DATA/ichuviliaeva/midv500_compressed/18_dza_passport/images\n",
      "gt_root =  /DATA/ichuviliaeva/midv500_compressed/03_aut_id_old/ground_truth\n",
      "img_root =  /DATA/ichuviliaeva/midv500_compressed/03_aut_id_old/images\n",
      "gt_root =  /DATA/ichuviliaeva/midv500_compressed/16_deu_passport_new/ground_truth\n",
      "img_root =  /DATA/ichuviliaeva/midv500_compressed/16_deu_passport_new/images\n",
      "gt_root =  /DATA/ichuviliaeva/midv500_compressed/17_deu_passport_old/ground_truth\n",
      "img_root =  /DATA/ichuviliaeva/midv500_compressed/17_deu_passport_old/images\n",
      "gt_root =  /DATA/ichuviliaeva/midv500_compressed/45_ukr_passport/ground_truth\n",
      "img_root =  /DATA/ichuviliaeva/midv500_compressed/45_ukr_passport/images\n",
      "gt_root =  /DATA/ichuviliaeva/midv500_compressed/26_hrv_drvlic/ground_truth\n",
      "img_root =  /DATA/ichuviliaeva/midv500_compressed/26_hrv_drvlic/images\n",
      "gt_root =  /DATA/ichuviliaeva/midv500_compressed/22_est_id/ground_truth\n",
      "img_root =  /DATA/ichuviliaeva/midv500_compressed/22_est_id/images\n",
      "gt_root =  /DATA/ichuviliaeva/midv500_compressed/39_rus_internalpassport/ground_truth\n",
      "img_root =  /DATA/ichuviliaeva/midv500_compressed/39_rus_internalpassport/images\n",
      "gt_root =  /DATA/ichuviliaeva/midv500_compressed/34_mda_passport/ground_truth\n",
      "img_root =  /DATA/ichuviliaeva/midv500_compressed/34_mda_passport/images\n",
      "gt_root =  /DATA/ichuviliaeva/midv500_compressed/40_srb_id/ground_truth\n",
      "img_root =  /DATA/ichuviliaeva/midv500_compressed/40_srb_id/images\n",
      "gt_root =  /DATA/ichuviliaeva/midv500_compressed/04_aut_id/ground_truth\n",
      "img_root =  /DATA/ichuviliaeva/midv500_compressed/04_aut_id/images\n",
      "gt_root =  /DATA/ichuviliaeva/midv500_compressed/29_irn_drvlic/ground_truth\n",
      "img_root =  /DATA/ichuviliaeva/midv500_compressed/29_irn_drvlic/images\n",
      "gt_root =  /DATA/ichuviliaeva/midv500_compressed/01_alb_id/ground_truth\n",
      "img_root =  /DATA/ichuviliaeva/midv500_compressed/01_alb_id/images\n",
      "gt_root =  /DATA/ichuviliaeva/midv500_compressed/46_ury_passport/ground_truth\n",
      "img_root =  /DATA/ichuviliaeva/midv500_compressed/46_ury_passport/images\n",
      "gt_root =  /DATA/ichuviliaeva/midv500_compressed/15_deu_id_old/ground_truth\n",
      "img_root =  /DATA/ichuviliaeva/midv500_compressed/15_deu_id_old/images\n",
      "gt_root =  /DATA/ichuviliaeva/midv500_compressed/37_prt_id/ground_truth\n",
      "img_root =  /DATA/ichuviliaeva/midv500_compressed/37_prt_id/images\n",
      "gt_root =  /DATA/ichuviliaeva/midv500_compressed/09_chn_id/ground_truth\n",
      "img_root =  /DATA/ichuviliaeva/midv500_compressed/09_chn_id/images\n",
      "gt_root =  /DATA/ichuviliaeva/midv500_compressed/02_aut_drvlic_new/ground_truth\n",
      "img_root =  /DATA/ichuviliaeva/midv500_compressed/02_aut_drvlic_new/images\n",
      "gt_root =  /DATA/ichuviliaeva/midv500_compressed/42_svk_id/ground_truth\n",
      "img_root =  /DATA/ichuviliaeva/midv500_compressed/42_svk_id/images\n",
      "gt_root =  /DATA/ichuviliaeva/midv500_compressed/20_esp_id_new/ground_truth\n",
      "img_root =  /DATA/ichuviliaeva/midv500_compressed/20_esp_id_new/images\n",
      "gt_root =  /DATA/ichuviliaeva/midv500_compressed/24_fin_id/ground_truth\n",
      "img_root =  /DATA/ichuviliaeva/midv500_compressed/24_fin_id/images\n",
      "gt_root =  /DATA/ichuviliaeva/midv500_compressed/30_ita_drvlic/ground_truth\n",
      "img_root =  /DATA/ichuviliaeva/midv500_compressed/30_ita_drvlic/images\n",
      "gt_root =  /DATA/ichuviliaeva/midv500_compressed/07_chl_id/ground_truth\n",
      "img_root =  /DATA/ichuviliaeva/midv500_compressed/07_chl_id/images\n",
      "gt_root =  /DATA/ichuviliaeva/midv500_compressed/08_chn_homereturn/ground_truth\n",
      "img_root =  /DATA/ichuviliaeva/midv500_compressed/08_chn_homereturn/images\n",
      "gt_root =  /DATA/ichuviliaeva/midv500_compressed/49_usa_ssn82/ground_truth\n",
      "img_root =  /DATA/ichuviliaeva/midv500_compressed/49_usa_ssn82/images\n",
      "gt_root =  /DATA/ichuviliaeva/midv500_compressed/19_esp_drvlic/ground_truth\n",
      "img_root =  /DATA/ichuviliaeva/midv500_compressed/19_esp_drvlic/images\n",
      "gt_root =  /DATA/ichuviliaeva/midv500_compressed/06_bra_passport/ground_truth\n",
      "img_root =  /DATA/ichuviliaeva/midv500_compressed/06_bra_passport/images\n",
      "gt_root =  /DATA/ichuviliaeva/midv500_compressed/48_usa_passportcard/ground_truth\n",
      "img_root =  /DATA/ichuviliaeva/midv500_compressed/48_usa_passportcard/images\n",
      "gt_root =  /DATA/ichuviliaeva/midv500_compressed/11_cze_passport/ground_truth\n",
      "img_root =  /DATA/ichuviliaeva/midv500_compressed/11_cze_passport/images\n",
      "gt_root =  /DATA/ichuviliaeva/midv500_compressed/10_cze_id/ground_truth\n",
      "img_root =  /DATA/ichuviliaeva/midv500_compressed/10_cze_id/images\n",
      "gt_root =  /DATA/ichuviliaeva/midv500_compressed/41_srb_passport/ground_truth\n",
      "img_root =  /DATA/ichuviliaeva/midv500_compressed/41_srb_passport/images\n",
      "gt_root =  /DATA/ichuviliaeva/midv500_compressed/47_usa_bordercrossing/ground_truth\n",
      "img_root =  /DATA/ichuviliaeva/midv500_compressed/47_usa_bordercrossing/images\n"
     ]
    },
    {
     "data": {
      "text/plain": [
       "(50, course_ocr_t1.data.MidvPackage)"
      ]
     },
     "execution_count": 7,
     "metadata": {},
     "output_type": "execute_result"
    }
   ],
   "source": [
    "DATASET_PATH = Path('/DATA/ichuviliaeva/midv500_compressed/')\n",
    "assert DATASET_PATH.exists(), DATASET_PATH.absolute()\n",
    "data_packs = MidvPackage.read_midv500_dataset(DATASET_PATH)\n",
    "len(data_packs), type(data_packs[0])"
   ]
  },
  {
   "cell_type": "code",
   "execution_count": 40,
   "id": "b942a641",
   "metadata": {},
   "outputs": [
    {
     "name": "stdout",
     "output_type": "stream",
     "text": [
      "Loaded SuperPoint model\n",
      "Loaded SuperGlue model (\"indoor\" weights)\n"
     ]
    }
   ],
   "source": [
    "spoint = SuperPoint({'keypoint_threshold': 0.05}).to(gpu)\n",
    "sglue = SuperGlue(config={'match_threshold': 0.5}).to(gpu)"
   ]
  },
  {
   "cell_type": "code",
   "execution_count": 51,
   "id": "d72717f5",
   "metadata": {},
   "outputs": [],
   "source": [
    "class baseline_glu:\n",
    "    def __init__(self, template_item):\n",
    "        self.template_item = template_item\n",
    "        \n",
    "        self.template_img, self.template_img_t, _ = read_image(\n",
    "            self.template_item.img_path,\n",
    "            device=gpu,\n",
    "            resize=(int(self.template_item.image_size[0]), int(self.template_item.image_size[1])), \n",
    "            rotation=0, \n",
    "            resize_float=True\n",
    "        )\n",
    "        \n",
    "        self.template_kps = spoint({'image': self.template_img_t})     \n",
    "        \n",
    "    def run_superglue(self, item_kps, item_img_t):\n",
    "        sg_input = dict()\n",
    "        \n",
    "        for (k, v) in self.template_kps.items():\n",
    "            sg_input[k + '0'] = torch.stack(v, axis=0).to(gpu)\n",
    "        sg_input['image0'] = self.template_img_t\n",
    "        \n",
    "        for (k, v) in item_kps.items():\n",
    "            sg_input[k + '1'] = torch.stack(v, axis=0).to(gpu)\n",
    "        sg_input['image1'] = item_img_t\n",
    "        \n",
    "        with torch.no_grad():\n",
    "            sg_output = sglue(sg_input)\n",
    "            \n",
    "        idx0 = sg_output['matches0'] > -1\n",
    "        template_kps_cleared = sg_input['keypoints0'][0][idx0[0]]\n",
    "        idx1 = sg_output['matches0'][idx0]\n",
    "        item_kps_cleared = sg_input['keypoints1'][0][idx1]\n",
    "        return template_kps_cleared, item_kps_cleared\n",
    "    \n",
    "    def compute_crop(self, H):\n",
    "        w, h = self.template_item.image_size\n",
    "        h = float(h)\n",
    "        w = float(w)\n",
    "        corners = [[0, 0], [w, 0], [w, h], [0, h]]\n",
    "        corners_cropped = []\n",
    "        \n",
    "        for c in corners:\n",
    "            vec = H @ np.array([c[0], c[1], 1])\n",
    "            corners_cropped.append([vec[0] / vec[-1], vec[1] / vec[-1]])\n",
    "        return np.array(corners_cropped) / np.array([w, h])\n",
    "    \n",
    "    def predict(self, item):\n",
    "        item_img, item_img_t, _ = read_image(\n",
    "            item.img_path,\n",
    "            device=gpu,\n",
    "            resize=(int(item.image_size[0]), int(item.image_size[1])), \n",
    "            rotation=0, \n",
    "            resize_float=True\n",
    "        )\n",
    "        \n",
    "        item_kps = spoint({'image': item_img_t})\n",
    "        template_kps_cleared, item_kps_cleared = self.run_superglue(item_kps, item_img_t)\n",
    "        (H, mask) = cv2.findHomography(np.array(template_kps_cleared.detach().cpu()),\n",
    "                                       np.array(item_kps_cleared.detach().cpu()), \n",
    "                                       method=cv2.RANSAC)\n",
    "        return self.compute_crop(H)"
   ]
  },
  {
   "cell_type": "code",
   "execution_count": 52,
   "id": "021f9d0c",
   "metadata": {},
   "outputs": [
    {
     "name": "stdout",
     "output_type": "stream",
     "text": [
      "Warning: input resolution is very large, results may vary\n"
     ]
    }
   ],
   "source": [
    "glu = baseline_glu(data_packs[1].template_item)"
   ]
  },
  {
   "cell_type": "code",
   "execution_count": 53,
   "id": "f938f532",
   "metadata": {},
   "outputs": [],
   "source": [
    "prediction = glu.predict(data_packs[1][0])"
   ]
  },
  {
   "cell_type": "code",
   "execution_count": 54,
   "id": "6084aef1",
   "metadata": {},
   "outputs": [],
   "source": [
    "data_packs[1][0].show(prediction)\n",
    "plt.show()\n",
    "plt.savefig(\"../try_res0.png\")\n",
    "plt.close()"
   ]
  },
  {
   "cell_type": "code",
   "execution_count": 55,
   "id": "8cf8e64a",
   "metadata": {},
   "outputs": [
    {
     "name": "stdout",
     "output_type": "stream",
     "text": [
      "[[ 0.00906106  0.31367037]\n",
      " [ 0.18580544  0.24764679]\n",
      " [ 0.25025022  0.09129412]\n",
      " [-0.06204612 -0.16309195]]\n"
     ]
    }
   ],
   "source": [
    "print(prediction)"
   ]
  },
  {
   "cell_type": "code",
   "execution_count": 56,
   "id": "facd260a",
   "metadata": {},
   "outputs": [],
   "source": [
    "for i in range(10):\n",
    "    prediction = glu.predict(data_packs[1][i + 15])\n",
    "    data_packs[1][i].show(prediction)\n",
    "    plt.show()\n",
    "    plt.savefig(\"../try_res\" + str(i) + \".png\")\n",
    "    plt.close()"
   ]
  },
  {
   "cell_type": "code",
   "execution_count": null,
   "id": "be2b4ea8",
   "metadata": {},
   "outputs": [],
   "source": []
  }
 ],
 "metadata": {
  "kernelspec": {
   "display_name": "Python 3 (ipykernel)",
   "language": "python",
   "name": "python3"
  },
  "language_info": {
   "codemirror_mode": {
    "name": "ipython",
    "version": 3
   },
   "file_extension": ".py",
   "mimetype": "text/x-python",
   "name": "python",
   "nbconvert_exporter": "python",
   "pygments_lexer": "ipython3",
   "version": "3.8.16"
  }
 },
 "nbformat": 4,
 "nbformat_minor": 5
}
