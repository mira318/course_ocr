{
 "cells": [
  {
   "cell_type": "code",
   "execution_count": 4,
   "id": "b38ebd60",
   "metadata": {},
   "outputs": [],
   "source": [
    "import numpy as np\n",
    "import pandas as pd\n",
    "import cv2\n",
    "import csv\n",
    "import matplotlib.pyplot as plt\n",
    "from tqdm.notebook import tqdm\n",
    "from PIL import Image\n",
    "%matplotlib inline"
   ]
  },
  {
   "cell_type": "code",
   "execution_count": 25,
   "id": "abb6d01c",
   "metadata": {},
   "outputs": [],
   "source": [
    "import os\n",
    "import torch\n",
    "import torch.nn as nn\n",
    "import torch.utils.data as data\n",
    "import torch.optim as optim\n",
    "from torch.utils.data import Dataset\n",
    "from torchvision import transforms"
   ]
  },
  {
   "cell_type": "code",
   "execution_count": 10,
   "id": "aa871cd4",
   "metadata": {},
   "outputs": [],
   "source": [
    "def check_point(ax, ay, bx, by, cx, cy):\n",
    "    bax = bx - ax\n",
    "    bay = by - ay\n",
    "    bcx = cx - bx\n",
    "    bcy = cy - by\n",
    "    if bax * bcy - bay * bcx <= 0:\n",
    "        return True\n",
    "    return False"
   ]
  },
  {
   "cell_type": "code",
   "execution_count": 11,
   "id": "a137debf",
   "metadata": {},
   "outputs": [],
   "source": [
    "def check_in_polygon(x1, y1, x2, y2, x3, y3, x4, y4, px, py):\n",
    "    if check_point(x1, y1, px, py, x2, y2) and check_point(x2, y2, px, py, x3, y3) and \\\n",
    "    check_point(x3, y3, px, py, x4, y4) and check_point(x4, y4, px, py, x1, y1):\n",
    "        return True\n",
    "    else:\n",
    "        return False"
   ]
  },
  {
   "cell_type": "code",
   "execution_count": 20,
   "id": "1d843e28",
   "metadata": {},
   "outputs": [],
   "source": [
    "def make_new_df(dest, image_to_shape, mask_to_shape):\n",
    "    train_df = pd.read_csv(\n",
    "        '/DATA/ichuviliaeva/ocr_data/barcodes/CourseOCRTask3/Train/markup_wo_inverted.csv', \n",
    "        encoding = 'utf-16', header=None\n",
    "    )\n",
    "    \n",
    "    orig_files = []\n",
    "    resized_files, mask_files = [], []\n",
    "    ws, hs = [], []\n",
    "    x1_s, y1_s, x2_s, y2_s, x3_s, y3_s, x4_s, y4_s = [], [], [], [], [], [], [], []\n",
    "    \n",
    "    for i in tqdm(range(len(train_df))):\n",
    "        file = train_df.iloc[i][0]\n",
    "        orig_files.append(file)\n",
    "        \n",
    "        x1, y1, x2, y2, x3, y3, x4, y4 = train_df.iloc[i][2:10]\n",
    "        image = Image.open('/DATA/ichuviliaeva/ocr_data/barcodes/CourseOCRTask3/Train/Images/' + file)\n",
    "        \n",
    "        w, h = image.size\n",
    "        ws.append(w)\n",
    "        hs.append(h)\n",
    "        \n",
    "        image = transforms.Resize((image_to_shape))(image)\n",
    "        image.save(dest + '/Images/' + file.split('.')[0] + '_resized.png')\n",
    "        resized_files.append(file.split('.')[0] + '_resized.png')\n",
    "        \n",
    "        mask = torch.zeros((1, mask_to_shape[0], mask_to_shape[1]))\n",
    "        \n",
    "        x1 = mask_to_shape[0] * x1 / w\n",
    "        y1 = mask_to_shape[1] * y1 / h\n",
    "        x2 = mask_to_shape[0] * x2 / w\n",
    "        y2 = mask_to_shape[1] * y2 / h\n",
    "        x3 = mask_to_shape[0] * x3 / w\n",
    "        y3 = mask_to_shape[1] * y3 / h\n",
    "        x4 = mask_to_shape[0] * x4 / w\n",
    "        y4 = mask_to_shape[1] * y4 / h\n",
    "        \n",
    "        x1_s.append(x1)\n",
    "        y1_s.append(y1)\n",
    "        x2_s.append(x2)\n",
    "        y2_s.append(y2)\n",
    "        x3_s.append(x3)\n",
    "        y3_s.append(y3)\n",
    "        x4_s.append(x4)\n",
    "        y4_s.append(y4)\n",
    "        \n",
    "        for i in range(mask_to_shape[0]):\n",
    "            for j in range(mask_to_shape[1]):\n",
    "                if check_in_polygon(y1, x1, y4, x4, y3, x3, y2, x2, i, j):\n",
    "                    mask[0][i][j] = 1\n",
    "                else:\n",
    "                    mask[0][i][j] = 0\n",
    "        torch.save(mask, dest + '/masks/' + file.split('.')[0] + '_mask.pt')\n",
    "        mask_files.append(file.split('.')[0] + '_mask.pt')\n",
    "        \n",
    "    res_df = pd.DataFrame()\n",
    "    res_df['original_file'] = orig_files\n",
    "    res_df['resized_file'] = resized_files\n",
    "    res_df['mask_file'] = mask_files\n",
    "    res_df['original_w'] = ws\n",
    "    res_df['original_h'] = hs\n",
    "    res_df['x1'] = x1_s\n",
    "    res_df['y1'] = y1_s\n",
    "    res_df['x2'] = x2_s\n",
    "    res_df['y2'] = y2_s\n",
    "    res_df['x3'] = x3_s\n",
    "    res_df['y3'] = y3_s\n",
    "    res_df['x4'] = x4_s\n",
    "    res_df['y4'] = y4_s\n",
    "    res_df.to_csv(dest + 'resized_table.csv')\n",
    "    return res_df"
   ]
  },
  {
   "cell_type": "code",
   "execution_count": 21,
   "id": "06073f7d",
   "metadata": {},
   "outputs": [
    {
     "data": {
      "application/vnd.jupyter.widget-view+json": {
       "model_id": "8228b6c2c65d482a8063cd1281de9b0b",
       "version_major": 2,
       "version_minor": 0
      },
      "text/plain": [
       "  0%|          | 0/8150 [00:00<?, ?it/s]"
      ]
     },
     "metadata": {},
     "output_type": "display_data"
    }
   ],
   "source": [
    "res_df = make_new_df('/DATA/ichuviliaeva/ocr_data/barcodes/resized', (512, 512), (76, 76))"
   ]
  },
  {
   "cell_type": "code",
   "execution_count": 23,
   "id": "0fa22d59",
   "metadata": {},
   "outputs": [
    {
     "data": {
      "text/html": [
       "<div>\n",
       "<style scoped>\n",
       "    .dataframe tbody tr th:only-of-type {\n",
       "        vertical-align: middle;\n",
       "    }\n",
       "\n",
       "    .dataframe tbody tr th {\n",
       "        vertical-align: top;\n",
       "    }\n",
       "\n",
       "    .dataframe thead th {\n",
       "        text-align: right;\n",
       "    }\n",
       "</style>\n",
       "<table border=\"1\" class=\"dataframe\">\n",
       "  <thead>\n",
       "    <tr style=\"text-align: right;\">\n",
       "      <th></th>\n",
       "      <th>original_file</th>\n",
       "      <th>resized_file</th>\n",
       "      <th>mask_file</th>\n",
       "      <th>original_w</th>\n",
       "      <th>original_h</th>\n",
       "      <th>x1</th>\n",
       "      <th>y1</th>\n",
       "      <th>x2</th>\n",
       "      <th>y2</th>\n",
       "      <th>x3</th>\n",
       "      <th>y3</th>\n",
       "      <th>x4</th>\n",
       "      <th>y4</th>\n",
       "    </tr>\n",
       "  </thead>\n",
       "  <tbody>\n",
       "    <tr>\n",
       "      <th>0</th>\n",
       "      <td>fc272e4092ccb147a31e66bc1d10fbfb.png</td>\n",
       "      <td>fc272e4092ccb147a31e66bc1d10fbfb_resized.png</td>\n",
       "      <td>fc272e4092ccb147a31e66bc1d10fbfb_mask.pt</td>\n",
       "      <td>2129</td>\n",
       "      <td>901</td>\n",
       "      <td>19.205261</td>\n",
       "      <td>20.918979</td>\n",
       "      <td>56.759042</td>\n",
       "      <td>18.978912</td>\n",
       "      <td>57.008924</td>\n",
       "      <td>55.924528</td>\n",
       "      <td>18.991076</td>\n",
       "      <td>57.021088</td>\n",
       "    </tr>\n",
       "    <tr>\n",
       "      <th>1</th>\n",
       "      <td>8cde8cb1b54bca37c9347baf74157d22.png</td>\n",
       "      <td>8cde8cb1b54bca37c9347baf74157d22_resized.png</td>\n",
       "      <td>8cde8cb1b54bca37c9347baf74157d22_mask.pt</td>\n",
       "      <td>496</td>\n",
       "      <td>1724</td>\n",
       "      <td>57.000000</td>\n",
       "      <td>19.088167</td>\n",
       "      <td>55.161290</td>\n",
       "      <td>56.823666</td>\n",
       "      <td>19.000000</td>\n",
       "      <td>57.000000</td>\n",
       "      <td>22.524194</td>\n",
       "      <td>19.000000</td>\n",
       "    </tr>\n",
       "    <tr>\n",
       "      <th>2</th>\n",
       "      <td>70a9be0887eae17eabd70c8e607f963f.png</td>\n",
       "      <td>70a9be0887eae17eabd70c8e607f963f_resized.png</td>\n",
       "      <td>70a9be0887eae17eabd70c8e607f963f_mask.pt</td>\n",
       "      <td>1632</td>\n",
       "      <td>917</td>\n",
       "      <td>19.000000</td>\n",
       "      <td>19.062159</td>\n",
       "      <td>57.000000</td>\n",
       "      <td>18.979280</td>\n",
       "      <td>57.000000</td>\n",
       "      <td>57.020720</td>\n",
       "      <td>19.279412</td>\n",
       "      <td>56.606325</td>\n",
       "    </tr>\n",
       "    <tr>\n",
       "      <th>3</th>\n",
       "      <td>a029e49dff95a15d2cd396d8f62220c8.png</td>\n",
       "      <td>a029e49dff95a15d2cd396d8f62220c8_resized.png</td>\n",
       "      <td>a029e49dff95a15d2cd396d8f62220c8_mask.pt</td>\n",
       "      <td>1340</td>\n",
       "      <td>596</td>\n",
       "      <td>19.000000</td>\n",
       "      <td>19.000000</td>\n",
       "      <td>57.000000</td>\n",
       "      <td>19.765101</td>\n",
       "      <td>57.000000</td>\n",
       "      <td>55.852349</td>\n",
       "      <td>19.000000</td>\n",
       "      <td>57.000000</td>\n",
       "    </tr>\n",
       "    <tr>\n",
       "      <th>4</th>\n",
       "      <td>82ff01909b6d215170dfc26c7be43074.png</td>\n",
       "      <td>82ff01909b6d215170dfc26c7be43074_resized.png</td>\n",
       "      <td>82ff01909b6d215170dfc26c7be43074_mask.pt</td>\n",
       "      <td>1856</td>\n",
       "      <td>949</td>\n",
       "      <td>19.204741</td>\n",
       "      <td>18.979979</td>\n",
       "      <td>56.836207</td>\n",
       "      <td>20.821918</td>\n",
       "      <td>57.000000</td>\n",
       "      <td>57.020021</td>\n",
       "      <td>19.000000</td>\n",
       "      <td>55.738672</td>\n",
       "    </tr>\n",
       "    <tr>\n",
       "      <th>...</th>\n",
       "      <td>...</td>\n",
       "      <td>...</td>\n",
       "      <td>...</td>\n",
       "      <td>...</td>\n",
       "      <td>...</td>\n",
       "      <td>...</td>\n",
       "      <td>...</td>\n",
       "      <td>...</td>\n",
       "      <td>...</td>\n",
       "      <td>...</td>\n",
       "      <td>...</td>\n",
       "      <td>...</td>\n",
       "      <td>...</td>\n",
       "    </tr>\n",
       "    <tr>\n",
       "      <th>8145</th>\n",
       "      <td>c532771808e76e333ba9e959853886f3.png</td>\n",
       "      <td>c532771808e76e333ba9e959853886f3_resized.png</td>\n",
       "      <td>c532771808e76e333ba9e959853886f3_mask.pt</td>\n",
       "      <td>860</td>\n",
       "      <td>276</td>\n",
       "      <td>7.600000</td>\n",
       "      <td>14.869565</td>\n",
       "      <td>54.967442</td>\n",
       "      <td>14.594203</td>\n",
       "      <td>54.967442</td>\n",
       "      <td>55.623188</td>\n",
       "      <td>7.688372</td>\n",
       "      <td>55.623188</td>\n",
       "    </tr>\n",
       "    <tr>\n",
       "      <th>8146</th>\n",
       "      <td>186338ad8f3ff17b6082c023f24563f0.png</td>\n",
       "      <td>186338ad8f3ff17b6082c023f24563f0_resized.png</td>\n",
       "      <td>186338ad8f3ff17b6082c023f24563f0_mask.pt</td>\n",
       "      <td>877</td>\n",
       "      <td>287</td>\n",
       "      <td>9.445838</td>\n",
       "      <td>11.651568</td>\n",
       "      <td>57.541619</td>\n",
       "      <td>14.564460</td>\n",
       "      <td>57.888255</td>\n",
       "      <td>54.550523</td>\n",
       "      <td>9.272520</td>\n",
       "      <td>50.843206</td>\n",
       "    </tr>\n",
       "    <tr>\n",
       "      <th>8147</th>\n",
       "      <td>5bac8f6c9bd5e99f92eb396442974c4e.png</td>\n",
       "      <td>5bac8f6c9bd5e99f92eb396442974c4e_resized.png</td>\n",
       "      <td>5bac8f6c9bd5e99f92eb396442974c4e_mask.pt</td>\n",
       "      <td>905</td>\n",
       "      <td>274</td>\n",
       "      <td>10.161326</td>\n",
       "      <td>7.489051</td>\n",
       "      <td>59.120442</td>\n",
       "      <td>3.605839</td>\n",
       "      <td>59.120442</td>\n",
       "      <td>46.598540</td>\n",
       "      <td>10.077348</td>\n",
       "      <td>51.868613</td>\n",
       "    </tr>\n",
       "    <tr>\n",
       "      <th>8148</th>\n",
       "      <td>6247db3e424148a859ebf2180f1dcb6f.png</td>\n",
       "      <td>6247db3e424148a859ebf2180f1dcb6f_resized.png</td>\n",
       "      <td>6247db3e424148a859ebf2180f1dcb6f_mask.pt</td>\n",
       "      <td>220</td>\n",
       "      <td>587</td>\n",
       "      <td>54.581818</td>\n",
       "      <td>10.487223</td>\n",
       "      <td>57.000000</td>\n",
       "      <td>67.066440</td>\n",
       "      <td>21.418182</td>\n",
       "      <td>67.454855</td>\n",
       "      <td>19.000000</td>\n",
       "      <td>10.616695</td>\n",
       "    </tr>\n",
       "    <tr>\n",
       "      <th>8149</th>\n",
       "      <td>82d22dc68401a5b173158ae7252b0ab3.png</td>\n",
       "      <td>82d22dc68401a5b173158ae7252b0ab3_resized.png</td>\n",
       "      <td>82d22dc68401a5b173158ae7252b0ab3_mask.pt</td>\n",
       "      <td>271</td>\n",
       "      <td>822</td>\n",
       "      <td>5.889299</td>\n",
       "      <td>64.257908</td>\n",
       "      <td>8.974170</td>\n",
       "      <td>7.673966</td>\n",
       "      <td>52.723247</td>\n",
       "      <td>7.673966</td>\n",
       "      <td>49.638376</td>\n",
       "      <td>64.257908</td>\n",
       "    </tr>\n",
       "  </tbody>\n",
       "</table>\n",
       "<p>8150 rows × 13 columns</p>\n",
       "</div>"
      ],
      "text/plain": [
       "                             original_file  \\\n",
       "0     fc272e4092ccb147a31e66bc1d10fbfb.png   \n",
       "1     8cde8cb1b54bca37c9347baf74157d22.png   \n",
       "2     70a9be0887eae17eabd70c8e607f963f.png   \n",
       "3     a029e49dff95a15d2cd396d8f62220c8.png   \n",
       "4     82ff01909b6d215170dfc26c7be43074.png   \n",
       "...                                    ...   \n",
       "8145  c532771808e76e333ba9e959853886f3.png   \n",
       "8146  186338ad8f3ff17b6082c023f24563f0.png   \n",
       "8147  5bac8f6c9bd5e99f92eb396442974c4e.png   \n",
       "8148  6247db3e424148a859ebf2180f1dcb6f.png   \n",
       "8149  82d22dc68401a5b173158ae7252b0ab3.png   \n",
       "\n",
       "                                      resized_file  \\\n",
       "0     fc272e4092ccb147a31e66bc1d10fbfb_resized.png   \n",
       "1     8cde8cb1b54bca37c9347baf74157d22_resized.png   \n",
       "2     70a9be0887eae17eabd70c8e607f963f_resized.png   \n",
       "3     a029e49dff95a15d2cd396d8f62220c8_resized.png   \n",
       "4     82ff01909b6d215170dfc26c7be43074_resized.png   \n",
       "...                                            ...   \n",
       "8145  c532771808e76e333ba9e959853886f3_resized.png   \n",
       "8146  186338ad8f3ff17b6082c023f24563f0_resized.png   \n",
       "8147  5bac8f6c9bd5e99f92eb396442974c4e_resized.png   \n",
       "8148  6247db3e424148a859ebf2180f1dcb6f_resized.png   \n",
       "8149  82d22dc68401a5b173158ae7252b0ab3_resized.png   \n",
       "\n",
       "                                     mask_file  original_w  original_h  \\\n",
       "0     fc272e4092ccb147a31e66bc1d10fbfb_mask.pt        2129         901   \n",
       "1     8cde8cb1b54bca37c9347baf74157d22_mask.pt         496        1724   \n",
       "2     70a9be0887eae17eabd70c8e607f963f_mask.pt        1632         917   \n",
       "3     a029e49dff95a15d2cd396d8f62220c8_mask.pt        1340         596   \n",
       "4     82ff01909b6d215170dfc26c7be43074_mask.pt        1856         949   \n",
       "...                                        ...         ...         ...   \n",
       "8145  c532771808e76e333ba9e959853886f3_mask.pt         860         276   \n",
       "8146  186338ad8f3ff17b6082c023f24563f0_mask.pt         877         287   \n",
       "8147  5bac8f6c9bd5e99f92eb396442974c4e_mask.pt         905         274   \n",
       "8148  6247db3e424148a859ebf2180f1dcb6f_mask.pt         220         587   \n",
       "8149  82d22dc68401a5b173158ae7252b0ab3_mask.pt         271         822   \n",
       "\n",
       "             x1         y1         x2         y2         x3         y3  \\\n",
       "0     19.205261  20.918979  56.759042  18.978912  57.008924  55.924528   \n",
       "1     57.000000  19.088167  55.161290  56.823666  19.000000  57.000000   \n",
       "2     19.000000  19.062159  57.000000  18.979280  57.000000  57.020720   \n",
       "3     19.000000  19.000000  57.000000  19.765101  57.000000  55.852349   \n",
       "4     19.204741  18.979979  56.836207  20.821918  57.000000  57.020021   \n",
       "...         ...        ...        ...        ...        ...        ...   \n",
       "8145   7.600000  14.869565  54.967442  14.594203  54.967442  55.623188   \n",
       "8146   9.445838  11.651568  57.541619  14.564460  57.888255  54.550523   \n",
       "8147  10.161326   7.489051  59.120442   3.605839  59.120442  46.598540   \n",
       "8148  54.581818  10.487223  57.000000  67.066440  21.418182  67.454855   \n",
       "8149   5.889299  64.257908   8.974170   7.673966  52.723247   7.673966   \n",
       "\n",
       "             x4         y4  \n",
       "0     18.991076  57.021088  \n",
       "1     22.524194  19.000000  \n",
       "2     19.279412  56.606325  \n",
       "3     19.000000  57.000000  \n",
       "4     19.000000  55.738672  \n",
       "...         ...        ...  \n",
       "8145   7.688372  55.623188  \n",
       "8146   9.272520  50.843206  \n",
       "8147  10.077348  51.868613  \n",
       "8148  19.000000  10.616695  \n",
       "8149  49.638376  64.257908  \n",
       "\n",
       "[8150 rows x 13 columns]"
      ]
     },
     "metadata": {},
     "output_type": "display_data"
    }
   ],
   "source": [
    "display(res_df)"
   ]
  },
  {
   "cell_type": "code",
   "execution_count": 37,
   "id": "74005f83",
   "metadata": {},
   "outputs": [],
   "source": [
    "class BarcodeDataset(Dataset):\n",
    "\n",
    "    def __init__(self, data_path):\n",
    "        self.data_path = data_path\n",
    "        self.df = pd.read_csv(data_path + '/resizedresized_table.csv')\n",
    "        self.image_to_shape = (512, 512)\n",
    "        self.mask_to_shape = (76, 76)\n",
    "        \n",
    "    def __getitem__(self, index):\n",
    "        file = self.df.iloc[index]['resized_file']\n",
    "        image = Image.open(self.data_path + '/Images/' + file)\n",
    "        image = transforms.ToTensor()(image)\n",
    "        \n",
    "        mask = torch.load(self.data_path + '/masks/' + self.df.iloc[index]['mask_file'])\n",
    "        return image, mask\n",
    "    \n",
    "    def __len__(self) -> int:\n",
    "        return len(self.df)"
   ]
  },
  {
   "cell_type": "code",
   "execution_count": 44,
   "id": "f1452cfa",
   "metadata": {},
   "outputs": [],
   "source": [
    "train_dataset = BarcodeDataset('/DATA/ichuviliaeva/ocr_data/barcodes/resized')\n",
    "train_loader = data.DataLoader(train_dataset, batch_size = 64, shuffle = True)"
   ]
  },
  {
   "cell_type": "code",
   "execution_count": 45,
   "id": "5183a1f4",
   "metadata": {},
   "outputs": [],
   "source": [
    "device = 'cuda' if torch.cuda.is_available else 'cpu'\n",
    "os.environ['CUDA_VISIBLE_DEVICES'] = '3'"
   ]
  },
  {
   "cell_type": "code",
   "execution_count": 46,
   "id": "6ae6db45",
   "metadata": {},
   "outputs": [],
   "source": [
    "class ZagaynovNet(nn.Module):\n",
    "    def __init__(self, in_channels, hidden_channels, out_channels):\n",
    "        super(ZagaynovNet, self).__init__()\n",
    "        self.in_channels = in_channels\n",
    "        self.hidden_channels = hidden_channels\n",
    "        self.out_channels = out_channels\n",
    "        self.net = nn.Sequential(\n",
    "            nn.Conv2d(in_channels = self.in_channels, out_channels = self.hidden_channels, kernel_size = 3, \n",
    "                      padding = 1, stride = 2),\n",
    "            nn.ReLU(),\n",
    "            nn.Conv2d(in_channels = self.hidden_channels, out_channels = self.hidden_channels, kernel_size = 3, \n",
    "                      padding = 1, stride = 1),\n",
    "            nn.ReLU(),\n",
    "            nn.Conv2d(in_channels = self.hidden_channels, out_channels = self.hidden_channels, kernel_size = 3, \n",
    "                      padding = 1, stride = 2),\n",
    "            nn.ReLU(),\n",
    "            nn.Conv2d(in_channels = self.hidden_channels, out_channels = self.hidden_channels, kernel_size = 3, \n",
    "                      padding = 1, stride = 1),\n",
    "            nn.ReLU(),\n",
    "            nn.Conv2d(in_channels = self.hidden_channels, out_channels = self.hidden_channels, kernel_size = 3, \n",
    "                      padding = 1, stride = 1, dilation = 2),\n",
    "            nn.ReLU(),\n",
    "            nn.Conv2d(in_channels = self.hidden_channels, out_channels = self.hidden_channels, kernel_size = 3, \n",
    "                      padding = 1, stride = 1, dilation = 4),\n",
    "            nn.ReLU(),\n",
    "            nn.Conv2d(in_channels = self.hidden_channels, out_channels = self.hidden_channels, kernel_size = 3, \n",
    "                      padding = 1, stride = 1, dilation = 8),\n",
    "            nn.ReLU(),\n",
    "            nn.Conv2d(in_channels = self.hidden_channels, out_channels = self.hidden_channels, kernel_size = 3, \n",
    "                      padding = 1, stride = 1, dilation = 16),\n",
    "            nn.ReLU(),\n",
    "            nn.Conv2d(in_channels = self.hidden_channels, out_channels = self.hidden_channels, kernel_size = 3, \n",
    "                      padding = 1, stride = 1, dilation = 1),\n",
    "            nn.ReLU(),\n",
    "            nn.Conv2d(in_channels = self.hidden_channels, out_channels = self.out_channels, kernel_size = 3, \n",
    "                      padding = 1, stride = 1, dilation = 1),\n",
    "            nn.Sigmoid(),\n",
    "        )\n",
    "        \n",
    "    def forward(self, x):\n",
    "        return self.net(x)"
   ]
  },
  {
   "cell_type": "code",
   "execution_count": 47,
   "id": "6db29a9a",
   "metadata": {},
   "outputs": [],
   "source": [
    "model = ZagaynovNet(3, 24, 1).to(device)\n",
    "optimizer = optim.Adam(model.parameters(), lr = 0.001)\n",
    "criterion = nn.BCELoss()"
   ]
  },
  {
   "cell_type": "code",
   "execution_count": 48,
   "id": "39a8c39a",
   "metadata": {},
   "outputs": [],
   "source": [
    "def train(model, epoch, optimizer, criterion, train_dataloader):\n",
    "    for e in range(epoch):\n",
    "        sum_loss = 0\n",
    "        for image, mask in tqdm(train_dataloader):\n",
    "            \n",
    "            image = image.to(device)\n",
    "            mask = mask.to(device)\n",
    "            logits = model(image)\n",
    "            # print('logits.shape = ', logits.shape)\n",
    "            loss = criterion(logits, mask)\n",
    "            \n",
    "            optimizer.zero_grad()\n",
    "            loss.backward()\n",
    "            optimizer.step()\n",
    "            \n",
    "            sum_loss += loss.item()\n",
    "            \n",
    "        print('epoch {} ended mean loss:{:.3f}'.format(e, sum_loss / len(train_dataloader)))\n",
    "            "
   ]
  },
  {
   "cell_type": "code",
   "execution_count": 49,
   "id": "b997eb80",
   "metadata": {},
   "outputs": [
    {
     "data": {
      "application/vnd.jupyter.widget-view+json": {
       "model_id": "d814edd8d9744fa58c476904b86bfde4",
       "version_major": 2,
       "version_minor": 0
      },
      "text/plain": [
       "  0%|          | 0/128 [00:00<?, ?it/s]"
      ]
     },
     "metadata": {},
     "output_type": "display_data"
    },
    {
     "name": "stdout",
     "output_type": "stream",
     "text": [
      "epoch 0 ended mean loss:0.442\n"
     ]
    },
    {
     "data": {
      "application/vnd.jupyter.widget-view+json": {
       "model_id": "d109b87a87914645b846f2fc8876d631",
       "version_major": 2,
       "version_minor": 0
      },
      "text/plain": [
       "  0%|          | 0/128 [00:00<?, ?it/s]"
      ]
     },
     "metadata": {},
     "output_type": "display_data"
    },
    {
     "name": "stdout",
     "output_type": "stream",
     "text": [
      "epoch 1 ended mean loss:0.207\n"
     ]
    },
    {
     "data": {
      "application/vnd.jupyter.widget-view+json": {
       "model_id": "480f23f4b5084985a42e8da1700b9602",
       "version_major": 2,
       "version_minor": 0
      },
      "text/plain": [
       "  0%|          | 0/128 [00:00<?, ?it/s]"
      ]
     },
     "metadata": {},
     "output_type": "display_data"
    },
    {
     "name": "stdout",
     "output_type": "stream",
     "text": [
      "epoch 2 ended mean loss:0.165\n"
     ]
    },
    {
     "data": {
      "application/vnd.jupyter.widget-view+json": {
       "model_id": "794ee9f2064e4e3b9aa175f235ae2038",
       "version_major": 2,
       "version_minor": 0
      },
      "text/plain": [
       "  0%|          | 0/128 [00:00<?, ?it/s]"
      ]
     },
     "metadata": {},
     "output_type": "display_data"
    },
    {
     "name": "stdout",
     "output_type": "stream",
     "text": [
      "epoch 3 ended mean loss:0.152\n"
     ]
    },
    {
     "data": {
      "application/vnd.jupyter.widget-view+json": {
       "model_id": "df559b999d794c0aab21b92f04afadec",
       "version_major": 2,
       "version_minor": 0
      },
      "text/plain": [
       "  0%|          | 0/128 [00:00<?, ?it/s]"
      ]
     },
     "metadata": {},
     "output_type": "display_data"
    },
    {
     "name": "stdout",
     "output_type": "stream",
     "text": [
      "epoch 4 ended mean loss:0.144\n"
     ]
    },
    {
     "data": {
      "application/vnd.jupyter.widget-view+json": {
       "model_id": "57ab976bed724ab19bc82921add34294",
       "version_major": 2,
       "version_minor": 0
      },
      "text/plain": [
       "  0%|          | 0/128 [00:00<?, ?it/s]"
      ]
     },
     "metadata": {},
     "output_type": "display_data"
    },
    {
     "name": "stdout",
     "output_type": "stream",
     "text": [
      "epoch 5 ended mean loss:0.135\n"
     ]
    },
    {
     "data": {
      "application/vnd.jupyter.widget-view+json": {
       "model_id": "6149a7b83e724bfeafb2b58b798160d8",
       "version_major": 2,
       "version_minor": 0
      },
      "text/plain": [
       "  0%|          | 0/128 [00:00<?, ?it/s]"
      ]
     },
     "metadata": {},
     "output_type": "display_data"
    },
    {
     "name": "stdout",
     "output_type": "stream",
     "text": [
      "epoch 6 ended mean loss:0.128\n"
     ]
    },
    {
     "data": {
      "application/vnd.jupyter.widget-view+json": {
       "model_id": "67f668221e1c4ccfbfd6f8f43c03a640",
       "version_major": 2,
       "version_minor": 0
      },
      "text/plain": [
       "  0%|          | 0/128 [00:00<?, ?it/s]"
      ]
     },
     "metadata": {},
     "output_type": "display_data"
    },
    {
     "name": "stdout",
     "output_type": "stream",
     "text": [
      "epoch 7 ended mean loss:0.126\n"
     ]
    },
    {
     "data": {
      "application/vnd.jupyter.widget-view+json": {
       "model_id": "1e4f6c2ecef0420f85c64081ab3a56aa",
       "version_major": 2,
       "version_minor": 0
      },
      "text/plain": [
       "  0%|          | 0/128 [00:00<?, ?it/s]"
      ]
     },
     "metadata": {},
     "output_type": "display_data"
    },
    {
     "name": "stdout",
     "output_type": "stream",
     "text": [
      "epoch 8 ended mean loss:0.120\n"
     ]
    },
    {
     "data": {
      "application/vnd.jupyter.widget-view+json": {
       "model_id": "8d2176c99f1842ceab6ca3bad6e180a5",
       "version_major": 2,
       "version_minor": 0
      },
      "text/plain": [
       "  0%|          | 0/128 [00:00<?, ?it/s]"
      ]
     },
     "metadata": {},
     "output_type": "display_data"
    },
    {
     "name": "stdout",
     "output_type": "stream",
     "text": [
      "epoch 9 ended mean loss:0.118\n"
     ]
    }
   ],
   "source": [
    "train(model, 10, optimizer, criterion, train_loader)"
   ]
  },
  {
   "cell_type": "code",
   "execution_count": 51,
   "id": "3675d108",
   "metadata": {},
   "outputs": [],
   "source": [
    "torch.save(model.state_dict, 'detector_512_epoch_9.pth') "
   ]
  },
  {
   "cell_type": "code",
   "execution_count": 94,
   "id": "abbde397",
   "metadata": {},
   "outputs": [],
   "source": [
    "def train(model, epoch, optimizer, criterion, train_dataloader):\n",
    "    for e in range(epoch):\n",
    "        sum_loss = 0\n",
    "        for image, mask in tqdm(train_dataloader):\n",
    "            \n",
    "            image = image.to(device)\n",
    "            mask = mask.to(device)\n",
    "            logits = model(image)\n",
    "            # print('logits.shape = ', logits.shape)\n",
    "            loss = criterion(logits, mask)\n",
    "            \n",
    "            optimizer.zero_grad()\n",
    "            loss.backward()\n",
    "            optimizer.step()\n",
    "            \n",
    "            sum_loss += loss.item()\n",
    "            \n",
    "        print('epoch {} ended mean loss:{:.3f}'.format(e, sum_loss / len(train_dataloader)))\n",
    "        if e % 10 == 0:\n",
    "            torch.save(model.state_dict, 'detector_512_epoch_' + str(e) + '.pth') \n",
    "    return model"
   ]
  },
  {
   "cell_type": "code",
   "execution_count": 96,
   "id": "dfed8df5",
   "metadata": {
    "scrolled": false
   },
   "outputs": [
    {
     "data": {
      "application/vnd.jupyter.widget-view+json": {
       "model_id": "3190c8a760eb48328c68491c6fd7f409",
       "version_major": 2,
       "version_minor": 0
      },
      "text/plain": [
       "  0%|          | 0/128 [00:00<?, ?it/s]"
      ]
     },
     "metadata": {},
     "output_type": "display_data"
    },
    {
     "name": "stdout",
     "output_type": "stream",
     "text": [
      "epoch 0 ended mean loss:0.116\n"
     ]
    },
    {
     "data": {
      "application/vnd.jupyter.widget-view+json": {
       "model_id": "7e543adf1c4348f7bf76837f11df987f",
       "version_major": 2,
       "version_minor": 0
      },
      "text/plain": [
       "  0%|          | 0/128 [00:00<?, ?it/s]"
      ]
     },
     "metadata": {},
     "output_type": "display_data"
    },
    {
     "name": "stdout",
     "output_type": "stream",
     "text": [
      "epoch 1 ended mean loss:0.112\n"
     ]
    },
    {
     "data": {
      "application/vnd.jupyter.widget-view+json": {
       "model_id": "fa1a9e8a865e48249064f6cf4ac159ed",
       "version_major": 2,
       "version_minor": 0
      },
      "text/plain": [
       "  0%|          | 0/128 [00:00<?, ?it/s]"
      ]
     },
     "metadata": {},
     "output_type": "display_data"
    },
    {
     "name": "stdout",
     "output_type": "stream",
     "text": [
      "epoch 2 ended mean loss:0.111\n"
     ]
    },
    {
     "data": {
      "application/vnd.jupyter.widget-view+json": {
       "model_id": "2c61c821bc404f719c8f3fc86a4f7599",
       "version_major": 2,
       "version_minor": 0
      },
      "text/plain": [
       "  0%|          | 0/128 [00:00<?, ?it/s]"
      ]
     },
     "metadata": {},
     "output_type": "display_data"
    },
    {
     "name": "stdout",
     "output_type": "stream",
     "text": [
      "epoch 3 ended mean loss:0.110\n"
     ]
    },
    {
     "data": {
      "application/vnd.jupyter.widget-view+json": {
       "model_id": "323c2a85e51b4f29beba209822d0dea4",
       "version_major": 2,
       "version_minor": 0
      },
      "text/plain": [
       "  0%|          | 0/128 [00:00<?, ?it/s]"
      ]
     },
     "metadata": {},
     "output_type": "display_data"
    },
    {
     "name": "stdout",
     "output_type": "stream",
     "text": [
      "epoch 4 ended mean loss:0.108\n"
     ]
    },
    {
     "data": {
      "application/vnd.jupyter.widget-view+json": {
       "model_id": "8c235b11b5ac477bb4b3830c35f0296d",
       "version_major": 2,
       "version_minor": 0
      },
      "text/plain": [
       "  0%|          | 0/128 [00:00<?, ?it/s]"
      ]
     },
     "metadata": {},
     "output_type": "display_data"
    },
    {
     "name": "stdout",
     "output_type": "stream",
     "text": [
      "epoch 5 ended mean loss:0.107\n"
     ]
    },
    {
     "data": {
      "application/vnd.jupyter.widget-view+json": {
       "model_id": "9e95cd624fbe427798d22828973d542d",
       "version_major": 2,
       "version_minor": 0
      },
      "text/plain": [
       "  0%|          | 0/128 [00:00<?, ?it/s]"
      ]
     },
     "metadata": {},
     "output_type": "display_data"
    },
    {
     "name": "stdout",
     "output_type": "stream",
     "text": [
      "epoch 6 ended mean loss:0.105\n"
     ]
    },
    {
     "data": {
      "application/vnd.jupyter.widget-view+json": {
       "model_id": "b00a60f4205c463b8c385360f275c760",
       "version_major": 2,
       "version_minor": 0
      },
      "text/plain": [
       "  0%|          | 0/128 [00:00<?, ?it/s]"
      ]
     },
     "metadata": {},
     "output_type": "display_data"
    },
    {
     "name": "stdout",
     "output_type": "stream",
     "text": [
      "epoch 7 ended mean loss:0.104\n"
     ]
    },
    {
     "data": {
      "application/vnd.jupyter.widget-view+json": {
       "model_id": "6a2d41ae388041d482774ff8c43b39b5",
       "version_major": 2,
       "version_minor": 0
      },
      "text/plain": [
       "  0%|          | 0/128 [00:00<?, ?it/s]"
      ]
     },
     "metadata": {},
     "output_type": "display_data"
    },
    {
     "name": "stdout",
     "output_type": "stream",
     "text": [
      "epoch 8 ended mean loss:0.102\n"
     ]
    },
    {
     "data": {
      "application/vnd.jupyter.widget-view+json": {
       "model_id": "e4e8965dbf134491909ca556b09042ca",
       "version_major": 2,
       "version_minor": 0
      },
      "text/plain": [
       "  0%|          | 0/128 [00:00<?, ?it/s]"
      ]
     },
     "metadata": {},
     "output_type": "display_data"
    },
    {
     "name": "stdout",
     "output_type": "stream",
     "text": [
      "epoch 9 ended mean loss:0.101\n"
     ]
    },
    {
     "data": {
      "application/vnd.jupyter.widget-view+json": {
       "model_id": "0543e0aa857c4afcb9f47f3d4110bbd3",
       "version_major": 2,
       "version_minor": 0
      },
      "text/plain": [
       "  0%|          | 0/128 [00:00<?, ?it/s]"
      ]
     },
     "metadata": {},
     "output_type": "display_data"
    },
    {
     "name": "stdout",
     "output_type": "stream",
     "text": [
      "epoch 10 ended mean loss:0.101\n"
     ]
    },
    {
     "data": {
      "application/vnd.jupyter.widget-view+json": {
       "model_id": "b43e168d0d494d628baa3a3cedcfee6f",
       "version_major": 2,
       "version_minor": 0
      },
      "text/plain": [
       "  0%|          | 0/128 [00:00<?, ?it/s]"
      ]
     },
     "metadata": {},
     "output_type": "display_data"
    },
    {
     "name": "stdout",
     "output_type": "stream",
     "text": [
      "epoch 11 ended mean loss:0.100\n"
     ]
    },
    {
     "data": {
      "application/vnd.jupyter.widget-view+json": {
       "model_id": "591420ba00a24df5b3dac26b1da4e144",
       "version_major": 2,
       "version_minor": 0
      },
      "text/plain": [
       "  0%|          | 0/128 [00:00<?, ?it/s]"
      ]
     },
     "metadata": {},
     "output_type": "display_data"
    },
    {
     "name": "stdout",
     "output_type": "stream",
     "text": [
      "epoch 12 ended mean loss:0.100\n"
     ]
    },
    {
     "data": {
      "application/vnd.jupyter.widget-view+json": {
       "model_id": "fb5fea6381f04f09aac733d21b2df88d",
       "version_major": 2,
       "version_minor": 0
      },
      "text/plain": [
       "  0%|          | 0/128 [00:00<?, ?it/s]"
      ]
     },
     "metadata": {},
     "output_type": "display_data"
    },
    {
     "name": "stdout",
     "output_type": "stream",
     "text": [
      "epoch 13 ended mean loss:0.099\n"
     ]
    },
    {
     "data": {
      "application/vnd.jupyter.widget-view+json": {
       "model_id": "38665aadf2bc4cd6a56e058ac5955442",
       "version_major": 2,
       "version_minor": 0
      },
      "text/plain": [
       "  0%|          | 0/128 [00:00<?, ?it/s]"
      ]
     },
     "metadata": {},
     "output_type": "display_data"
    },
    {
     "name": "stdout",
     "output_type": "stream",
     "text": [
      "epoch 14 ended mean loss:0.099\n"
     ]
    },
    {
     "data": {
      "application/vnd.jupyter.widget-view+json": {
       "model_id": "3b2c25f05ca44631957e368149f67f99",
       "version_major": 2,
       "version_minor": 0
      },
      "text/plain": [
       "  0%|          | 0/128 [00:00<?, ?it/s]"
      ]
     },
     "metadata": {},
     "output_type": "display_data"
    },
    {
     "name": "stdout",
     "output_type": "stream",
     "text": [
      "epoch 15 ended mean loss:0.098\n"
     ]
    },
    {
     "data": {
      "application/vnd.jupyter.widget-view+json": {
       "model_id": "2d4039e30206497a91f9a23df243cd56",
       "version_major": 2,
       "version_minor": 0
      },
      "text/plain": [
       "  0%|          | 0/128 [00:00<?, ?it/s]"
      ]
     },
     "metadata": {},
     "output_type": "display_data"
    },
    {
     "name": "stdout",
     "output_type": "stream",
     "text": [
      "epoch 16 ended mean loss:0.097\n"
     ]
    },
    {
     "data": {
      "application/vnd.jupyter.widget-view+json": {
       "model_id": "7853c7ae88e049c5bc9ead669da12d15",
       "version_major": 2,
       "version_minor": 0
      },
      "text/plain": [
       "  0%|          | 0/128 [00:00<?, ?it/s]"
      ]
     },
     "metadata": {},
     "output_type": "display_data"
    },
    {
     "name": "stdout",
     "output_type": "stream",
     "text": [
      "epoch 17 ended mean loss:0.098\n"
     ]
    },
    {
     "data": {
      "application/vnd.jupyter.widget-view+json": {
       "model_id": "6ddbab4596d34ab0a884d5a3952e6246",
       "version_major": 2,
       "version_minor": 0
      },
      "text/plain": [
       "  0%|          | 0/128 [00:00<?, ?it/s]"
      ]
     },
     "metadata": {},
     "output_type": "display_data"
    },
    {
     "name": "stdout",
     "output_type": "stream",
     "text": [
      "epoch 18 ended mean loss:0.097\n"
     ]
    },
    {
     "data": {
      "application/vnd.jupyter.widget-view+json": {
       "model_id": "54db7825714b4e17ba66ef99ed4ab5a6",
       "version_major": 2,
       "version_minor": 0
      },
      "text/plain": [
       "  0%|          | 0/128 [00:00<?, ?it/s]"
      ]
     },
     "metadata": {},
     "output_type": "display_data"
    },
    {
     "name": "stdout",
     "output_type": "stream",
     "text": [
      "epoch 19 ended mean loss:0.097\n"
     ]
    },
    {
     "data": {
      "application/vnd.jupyter.widget-view+json": {
       "model_id": "2c16387bc628403abe7714c0d28f02a0",
       "version_major": 2,
       "version_minor": 0
      },
      "text/plain": [
       "  0%|          | 0/128 [00:00<?, ?it/s]"
      ]
     },
     "metadata": {},
     "output_type": "display_data"
    },
    {
     "name": "stdout",
     "output_type": "stream",
     "text": [
      "epoch 20 ended mean loss:0.096\n"
     ]
    },
    {
     "data": {
      "application/vnd.jupyter.widget-view+json": {
       "model_id": "585d44a939064228a2798e79b57222d6",
       "version_major": 2,
       "version_minor": 0
      },
      "text/plain": [
       "  0%|          | 0/128 [00:00<?, ?it/s]"
      ]
     },
     "metadata": {},
     "output_type": "display_data"
    },
    {
     "name": "stdout",
     "output_type": "stream",
     "text": [
      "epoch 21 ended mean loss:0.096\n"
     ]
    },
    {
     "data": {
      "application/vnd.jupyter.widget-view+json": {
       "model_id": "dd2892782fed4a7486d9e9ddbcb1822d",
       "version_major": 2,
       "version_minor": 0
      },
      "text/plain": [
       "  0%|          | 0/128 [00:00<?, ?it/s]"
      ]
     },
     "metadata": {},
     "output_type": "display_data"
    },
    {
     "name": "stdout",
     "output_type": "stream",
     "text": [
      "epoch 22 ended mean loss:0.095\n"
     ]
    },
    {
     "data": {
      "application/vnd.jupyter.widget-view+json": {
       "model_id": "76db865dcd37444b99518803cd1c8bb6",
       "version_major": 2,
       "version_minor": 0
      },
      "text/plain": [
       "  0%|          | 0/128 [00:00<?, ?it/s]"
      ]
     },
     "metadata": {},
     "output_type": "display_data"
    },
    {
     "name": "stdout",
     "output_type": "stream",
     "text": [
      "epoch 23 ended mean loss:0.095\n"
     ]
    },
    {
     "data": {
      "application/vnd.jupyter.widget-view+json": {
       "model_id": "a7d78895064b4c12b12f399467a0580e",
       "version_major": 2,
       "version_minor": 0
      },
      "text/plain": [
       "  0%|          | 0/128 [00:00<?, ?it/s]"
      ]
     },
     "metadata": {},
     "output_type": "display_data"
    },
    {
     "name": "stdout",
     "output_type": "stream",
     "text": [
      "epoch 24 ended mean loss:0.094\n"
     ]
    },
    {
     "data": {
      "application/vnd.jupyter.widget-view+json": {
       "model_id": "89b58b5d40aa49f6855be5398acd0bb5",
       "version_major": 2,
       "version_minor": 0
      },
      "text/plain": [
       "  0%|          | 0/128 [00:00<?, ?it/s]"
      ]
     },
     "metadata": {},
     "output_type": "display_data"
    },
    {
     "name": "stdout",
     "output_type": "stream",
     "text": [
      "epoch 25 ended mean loss:0.094\n"
     ]
    },
    {
     "data": {
      "application/vnd.jupyter.widget-view+json": {
       "model_id": "249aa823f38340d78b93312f782efcad",
       "version_major": 2,
       "version_minor": 0
      },
      "text/plain": [
       "  0%|          | 0/128 [00:00<?, ?it/s]"
      ]
     },
     "metadata": {},
     "output_type": "display_data"
    },
    {
     "name": "stdout",
     "output_type": "stream",
     "text": [
      "epoch 26 ended mean loss:0.093\n"
     ]
    },
    {
     "data": {
      "application/vnd.jupyter.widget-view+json": {
       "model_id": "8e47b7e6457742189357868653be44dc",
       "version_major": 2,
       "version_minor": 0
      },
      "text/plain": [
       "  0%|          | 0/128 [00:00<?, ?it/s]"
      ]
     },
     "metadata": {},
     "output_type": "display_data"
    },
    {
     "name": "stdout",
     "output_type": "stream",
     "text": [
      "epoch 27 ended mean loss:0.093\n"
     ]
    },
    {
     "data": {
      "application/vnd.jupyter.widget-view+json": {
       "model_id": "329b68dc729048f0bda93d92548c102b",
       "version_major": 2,
       "version_minor": 0
      },
      "text/plain": [
       "  0%|          | 0/128 [00:00<?, ?it/s]"
      ]
     },
     "metadata": {},
     "output_type": "display_data"
    },
    {
     "name": "stdout",
     "output_type": "stream",
     "text": [
      "epoch 28 ended mean loss:0.093\n"
     ]
    },
    {
     "data": {
      "application/vnd.jupyter.widget-view+json": {
       "model_id": "e6ba601167694956840759188bc8c984",
       "version_major": 2,
       "version_minor": 0
      },
      "text/plain": [
       "  0%|          | 0/128 [00:00<?, ?it/s]"
      ]
     },
     "metadata": {},
     "output_type": "display_data"
    },
    {
     "name": "stdout",
     "output_type": "stream",
     "text": [
      "epoch 29 ended mean loss:0.093\n"
     ]
    },
    {
     "data": {
      "application/vnd.jupyter.widget-view+json": {
       "model_id": "86c69d739d2a4284bcaacede926c0ba0",
       "version_major": 2,
       "version_minor": 0
      },
      "text/plain": [
       "  0%|          | 0/128 [00:00<?, ?it/s]"
      ]
     },
     "metadata": {},
     "output_type": "display_data"
    },
    {
     "name": "stdout",
     "output_type": "stream",
     "text": [
      "epoch 30 ended mean loss:0.093\n"
     ]
    },
    {
     "data": {
      "application/vnd.jupyter.widget-view+json": {
       "model_id": "612487b543a54e75996c8b2fc380b6a4",
       "version_major": 2,
       "version_minor": 0
      },
      "text/plain": [
       "  0%|          | 0/128 [00:00<?, ?it/s]"
      ]
     },
     "metadata": {},
     "output_type": "display_data"
    },
    {
     "name": "stdout",
     "output_type": "stream",
     "text": [
      "epoch 31 ended mean loss:0.092\n"
     ]
    },
    {
     "data": {
      "application/vnd.jupyter.widget-view+json": {
       "model_id": "d7f35e8f67d544b888a84f71b2b1ee0c",
       "version_major": 2,
       "version_minor": 0
      },
      "text/plain": [
       "  0%|          | 0/128 [00:00<?, ?it/s]"
      ]
     },
     "metadata": {},
     "output_type": "display_data"
    },
    {
     "name": "stdout",
     "output_type": "stream",
     "text": [
      "epoch 32 ended mean loss:0.091\n"
     ]
    },
    {
     "data": {
      "application/vnd.jupyter.widget-view+json": {
       "model_id": "d432648db99e42adb64a49027e487b16",
       "version_major": 2,
       "version_minor": 0
      },
      "text/plain": [
       "  0%|          | 0/128 [00:00<?, ?it/s]"
      ]
     },
     "metadata": {},
     "output_type": "display_data"
    },
    {
     "name": "stdout",
     "output_type": "stream",
     "text": [
      "epoch 33 ended mean loss:0.091\n"
     ]
    },
    {
     "data": {
      "application/vnd.jupyter.widget-view+json": {
       "model_id": "1471a79a20d447ec8b7b84b66301e81a",
       "version_major": 2,
       "version_minor": 0
      },
      "text/plain": [
       "  0%|          | 0/128 [00:00<?, ?it/s]"
      ]
     },
     "metadata": {},
     "output_type": "display_data"
    },
    {
     "name": "stdout",
     "output_type": "stream",
     "text": [
      "epoch 34 ended mean loss:0.091\n"
     ]
    },
    {
     "data": {
      "application/vnd.jupyter.widget-view+json": {
       "model_id": "08d220008f48412d8ca15f756a47a40b",
       "version_major": 2,
       "version_minor": 0
      },
      "text/plain": [
       "  0%|          | 0/128 [00:00<?, ?it/s]"
      ]
     },
     "metadata": {},
     "output_type": "display_data"
    },
    {
     "name": "stdout",
     "output_type": "stream",
     "text": [
      "epoch 35 ended mean loss:0.091\n"
     ]
    },
    {
     "data": {
      "application/vnd.jupyter.widget-view+json": {
       "model_id": "428396d018c84b7a97e8011a6427f003",
       "version_major": 2,
       "version_minor": 0
      },
      "text/plain": [
       "  0%|          | 0/128 [00:00<?, ?it/s]"
      ]
     },
     "metadata": {},
     "output_type": "display_data"
    },
    {
     "name": "stdout",
     "output_type": "stream",
     "text": [
      "epoch 36 ended mean loss:0.090\n"
     ]
    },
    {
     "data": {
      "application/vnd.jupyter.widget-view+json": {
       "model_id": "754bf379e62640b5849b847b0aaf44b0",
       "version_major": 2,
       "version_minor": 0
      },
      "text/plain": [
       "  0%|          | 0/128 [00:00<?, ?it/s]"
      ]
     },
     "metadata": {},
     "output_type": "display_data"
    },
    {
     "name": "stdout",
     "output_type": "stream",
     "text": [
      "epoch 37 ended mean loss:0.090\n"
     ]
    },
    {
     "data": {
      "application/vnd.jupyter.widget-view+json": {
       "model_id": "baff8552d2a34120b2d0f9bfd70197c9",
       "version_major": 2,
       "version_minor": 0
      },
      "text/plain": [
       "  0%|          | 0/128 [00:00<?, ?it/s]"
      ]
     },
     "metadata": {},
     "output_type": "display_data"
    },
    {
     "name": "stdout",
     "output_type": "stream",
     "text": [
      "epoch 38 ended mean loss:0.091\n"
     ]
    },
    {
     "data": {
      "application/vnd.jupyter.widget-view+json": {
       "model_id": "1136d97bf7fb452381b928869bd6c116",
       "version_major": 2,
       "version_minor": 0
      },
      "text/plain": [
       "  0%|          | 0/128 [00:00<?, ?it/s]"
      ]
     },
     "metadata": {},
     "output_type": "display_data"
    },
    {
     "name": "stdout",
     "output_type": "stream",
     "text": [
      "epoch 39 ended mean loss:0.090\n"
     ]
    },
    {
     "data": {
      "application/vnd.jupyter.widget-view+json": {
       "model_id": "4c2e243165d849f59941fdebc00ff2e7",
       "version_major": 2,
       "version_minor": 0
      },
      "text/plain": [
       "  0%|          | 0/128 [00:00<?, ?it/s]"
      ]
     },
     "metadata": {},
     "output_type": "display_data"
    },
    {
     "name": "stdout",
     "output_type": "stream",
     "text": [
      "epoch 40 ended mean loss:0.089\n"
     ]
    },
    {
     "data": {
      "application/vnd.jupyter.widget-view+json": {
       "model_id": "5bd9b9b4d83f4282ae40705c4777ec64",
       "version_major": 2,
       "version_minor": 0
      },
      "text/plain": [
       "  0%|          | 0/128 [00:00<?, ?it/s]"
      ]
     },
     "metadata": {},
     "output_type": "display_data"
    },
    {
     "name": "stdout",
     "output_type": "stream",
     "text": [
      "epoch 41 ended mean loss:0.089\n"
     ]
    },
    {
     "data": {
      "application/vnd.jupyter.widget-view+json": {
       "model_id": "ea7e2e4ebe2e486aa822326d0d9bad82",
       "version_major": 2,
       "version_minor": 0
      },
      "text/plain": [
       "  0%|          | 0/128 [00:00<?, ?it/s]"
      ]
     },
     "metadata": {},
     "output_type": "display_data"
    },
    {
     "name": "stdout",
     "output_type": "stream",
     "text": [
      "epoch 42 ended mean loss:0.089\n"
     ]
    },
    {
     "data": {
      "application/vnd.jupyter.widget-view+json": {
       "model_id": "3e1aac7bd3764558be9828ac621fbaa7",
       "version_major": 2,
       "version_minor": 0
      },
      "text/plain": [
       "  0%|          | 0/128 [00:00<?, ?it/s]"
      ]
     },
     "metadata": {},
     "output_type": "display_data"
    },
    {
     "name": "stdout",
     "output_type": "stream",
     "text": [
      "epoch 43 ended mean loss:0.089\n"
     ]
    },
    {
     "data": {
      "application/vnd.jupyter.widget-view+json": {
       "model_id": "e0c84b577ebb4c789f0ae369ed4d4c7e",
       "version_major": 2,
       "version_minor": 0
      },
      "text/plain": [
       "  0%|          | 0/128 [00:00<?, ?it/s]"
      ]
     },
     "metadata": {},
     "output_type": "display_data"
    },
    {
     "name": "stdout",
     "output_type": "stream",
     "text": [
      "epoch 44 ended mean loss:0.089\n"
     ]
    },
    {
     "data": {
      "application/vnd.jupyter.widget-view+json": {
       "model_id": "7d61df2d773648b29f15efcfbc5aace9",
       "version_major": 2,
       "version_minor": 0
      },
      "text/plain": [
       "  0%|          | 0/128 [00:00<?, ?it/s]"
      ]
     },
     "metadata": {},
     "output_type": "display_data"
    },
    {
     "name": "stdout",
     "output_type": "stream",
     "text": [
      "epoch 45 ended mean loss:0.089\n"
     ]
    },
    {
     "data": {
      "application/vnd.jupyter.widget-view+json": {
       "model_id": "11c6f9397a014d85a0c6b296711dad7d",
       "version_major": 2,
       "version_minor": 0
      },
      "text/plain": [
       "  0%|          | 0/128 [00:00<?, ?it/s]"
      ]
     },
     "metadata": {},
     "output_type": "display_data"
    },
    {
     "name": "stdout",
     "output_type": "stream",
     "text": [
      "epoch 46 ended mean loss:0.088\n"
     ]
    },
    {
     "data": {
      "application/vnd.jupyter.widget-view+json": {
       "model_id": "e51b34d3ccbe45f79a9c6bb5bec01af8",
       "version_major": 2,
       "version_minor": 0
      },
      "text/plain": [
       "  0%|          | 0/128 [00:00<?, ?it/s]"
      ]
     },
     "metadata": {},
     "output_type": "display_data"
    },
    {
     "name": "stdout",
     "output_type": "stream",
     "text": [
      "epoch 47 ended mean loss:0.089\n"
     ]
    },
    {
     "data": {
      "application/vnd.jupyter.widget-view+json": {
       "model_id": "69366c4da65b4cacab07ac264ed046a1",
       "version_major": 2,
       "version_minor": 0
      },
      "text/plain": [
       "  0%|          | 0/128 [00:00<?, ?it/s]"
      ]
     },
     "metadata": {},
     "output_type": "display_data"
    },
    {
     "name": "stdout",
     "output_type": "stream",
     "text": [
      "epoch 48 ended mean loss:0.089\n"
     ]
    },
    {
     "data": {
      "application/vnd.jupyter.widget-view+json": {
       "model_id": "a690d886f6514997bf24256cbaa84890",
       "version_major": 2,
       "version_minor": 0
      },
      "text/plain": [
       "  0%|          | 0/128 [00:00<?, ?it/s]"
      ]
     },
     "metadata": {},
     "output_type": "display_data"
    },
    {
     "name": "stdout",
     "output_type": "stream",
     "text": [
      "epoch 49 ended mean loss:0.088\n"
     ]
    },
    {
     "data": {
      "application/vnd.jupyter.widget-view+json": {
       "model_id": "90ae313287ff4f9098b6c5c7e490ac6e",
       "version_major": 2,
       "version_minor": 0
      },
      "text/plain": [
       "  0%|          | 0/128 [00:00<?, ?it/s]"
      ]
     },
     "metadata": {},
     "output_type": "display_data"
    },
    {
     "name": "stdout",
     "output_type": "stream",
     "text": [
      "epoch 50 ended mean loss:0.088\n"
     ]
    },
    {
     "data": {
      "application/vnd.jupyter.widget-view+json": {
       "model_id": "e8ac152e84dd4c9188e555b6d4b658f6",
       "version_major": 2,
       "version_minor": 0
      },
      "text/plain": [
       "  0%|          | 0/128 [00:00<?, ?it/s]"
      ]
     },
     "metadata": {},
     "output_type": "display_data"
    },
    {
     "name": "stdout",
     "output_type": "stream",
     "text": [
      "epoch 51 ended mean loss:0.087\n"
     ]
    },
    {
     "data": {
      "application/vnd.jupyter.widget-view+json": {
       "model_id": "9d4970724e6f47ffa9c6c067eea4a146",
       "version_major": 2,
       "version_minor": 0
      },
      "text/plain": [
       "  0%|          | 0/128 [00:00<?, ?it/s]"
      ]
     },
     "metadata": {},
     "output_type": "display_data"
    },
    {
     "name": "stdout",
     "output_type": "stream",
     "text": [
      "epoch 52 ended mean loss:0.087\n"
     ]
    },
    {
     "data": {
      "application/vnd.jupyter.widget-view+json": {
       "model_id": "c7f850df3f084c7c8db55f89df67bf90",
       "version_major": 2,
       "version_minor": 0
      },
      "text/plain": [
       "  0%|          | 0/128 [00:00<?, ?it/s]"
      ]
     },
     "metadata": {},
     "output_type": "display_data"
    },
    {
     "name": "stdout",
     "output_type": "stream",
     "text": [
      "epoch 53 ended mean loss:0.087\n"
     ]
    },
    {
     "data": {
      "application/vnd.jupyter.widget-view+json": {
       "model_id": "3941e8bc4d4b4cc4ab44826e838d7348",
       "version_major": 2,
       "version_minor": 0
      },
      "text/plain": [
       "  0%|          | 0/128 [00:00<?, ?it/s]"
      ]
     },
     "metadata": {},
     "output_type": "display_data"
    },
    {
     "name": "stdout",
     "output_type": "stream",
     "text": [
      "epoch 54 ended mean loss:0.086\n"
     ]
    },
    {
     "data": {
      "application/vnd.jupyter.widget-view+json": {
       "model_id": "8c780538895b4caba631be2358331a38",
       "version_major": 2,
       "version_minor": 0
      },
      "text/plain": [
       "  0%|          | 0/128 [00:00<?, ?it/s]"
      ]
     },
     "metadata": {},
     "output_type": "display_data"
    },
    {
     "name": "stdout",
     "output_type": "stream",
     "text": [
      "epoch 55 ended mean loss:0.086\n"
     ]
    },
    {
     "data": {
      "application/vnd.jupyter.widget-view+json": {
       "model_id": "f3993f2ada264a108cc39243b8a179f0",
       "version_major": 2,
       "version_minor": 0
      },
      "text/plain": [
       "  0%|          | 0/128 [00:00<?, ?it/s]"
      ]
     },
     "metadata": {},
     "output_type": "display_data"
    },
    {
     "name": "stdout",
     "output_type": "stream",
     "text": [
      "epoch 56 ended mean loss:0.087\n"
     ]
    },
    {
     "data": {
      "application/vnd.jupyter.widget-view+json": {
       "model_id": "5a58866875ae4e9f8e8639ea4f081f5b",
       "version_major": 2,
       "version_minor": 0
      },
      "text/plain": [
       "  0%|          | 0/128 [00:00<?, ?it/s]"
      ]
     },
     "metadata": {},
     "output_type": "display_data"
    },
    {
     "name": "stdout",
     "output_type": "stream",
     "text": [
      "epoch 57 ended mean loss:0.087\n"
     ]
    },
    {
     "data": {
      "application/vnd.jupyter.widget-view+json": {
       "model_id": "04aeaacecacb4e9a9ad515c81f837d7b",
       "version_major": 2,
       "version_minor": 0
      },
      "text/plain": [
       "  0%|          | 0/128 [00:00<?, ?it/s]"
      ]
     },
     "metadata": {},
     "output_type": "display_data"
    },
    {
     "name": "stdout",
     "output_type": "stream",
     "text": [
      "epoch 58 ended mean loss:0.086\n"
     ]
    },
    {
     "data": {
      "application/vnd.jupyter.widget-view+json": {
       "model_id": "02743a2bdb2648fdbbaf4ddefac3345e",
       "version_major": 2,
       "version_minor": 0
      },
      "text/plain": [
       "  0%|          | 0/128 [00:00<?, ?it/s]"
      ]
     },
     "metadata": {},
     "output_type": "display_data"
    },
    {
     "name": "stdout",
     "output_type": "stream",
     "text": [
      "epoch 59 ended mean loss:0.086\n"
     ]
    },
    {
     "data": {
      "application/vnd.jupyter.widget-view+json": {
       "model_id": "42e36ded22614119b7ac22a15430f009",
       "version_major": 2,
       "version_minor": 0
      },
      "text/plain": [
       "  0%|          | 0/128 [00:00<?, ?it/s]"
      ]
     },
     "metadata": {},
     "output_type": "display_data"
    },
    {
     "name": "stdout",
     "output_type": "stream",
     "text": [
      "epoch 60 ended mean loss:0.086\n"
     ]
    },
    {
     "data": {
      "application/vnd.jupyter.widget-view+json": {
       "model_id": "6ba2fb522d544f81b66731fd6be838d0",
       "version_major": 2,
       "version_minor": 0
      },
      "text/plain": [
       "  0%|          | 0/128 [00:00<?, ?it/s]"
      ]
     },
     "metadata": {},
     "output_type": "display_data"
    },
    {
     "name": "stdout",
     "output_type": "stream",
     "text": [
      "epoch 61 ended mean loss:0.086\n"
     ]
    },
    {
     "data": {
      "application/vnd.jupyter.widget-view+json": {
       "model_id": "3fd7eb1831024d86a8e588ac043f6db2",
       "version_major": 2,
       "version_minor": 0
      },
      "text/plain": [
       "  0%|          | 0/128 [00:00<?, ?it/s]"
      ]
     },
     "metadata": {},
     "output_type": "display_data"
    },
    {
     "name": "stdout",
     "output_type": "stream",
     "text": [
      "epoch 62 ended mean loss:0.086\n"
     ]
    },
    {
     "data": {
      "application/vnd.jupyter.widget-view+json": {
       "model_id": "2e347babde7543efa7c06fe78ad91624",
       "version_major": 2,
       "version_minor": 0
      },
      "text/plain": [
       "  0%|          | 0/128 [00:00<?, ?it/s]"
      ]
     },
     "metadata": {},
     "output_type": "display_data"
    },
    {
     "name": "stdout",
     "output_type": "stream",
     "text": [
      "epoch 63 ended mean loss:0.085\n"
     ]
    },
    {
     "data": {
      "application/vnd.jupyter.widget-view+json": {
       "model_id": "a3458b54b12243bf9caeac8e7fd28f05",
       "version_major": 2,
       "version_minor": 0
      },
      "text/plain": [
       "  0%|          | 0/128 [00:00<?, ?it/s]"
      ]
     },
     "metadata": {},
     "output_type": "display_data"
    },
    {
     "name": "stdout",
     "output_type": "stream",
     "text": [
      "epoch 64 ended mean loss:0.086\n"
     ]
    },
    {
     "data": {
      "application/vnd.jupyter.widget-view+json": {
       "model_id": "f18c89f6aee04cae917aab4b3013c218",
       "version_major": 2,
       "version_minor": 0
      },
      "text/plain": [
       "  0%|          | 0/128 [00:00<?, ?it/s]"
      ]
     },
     "metadata": {},
     "output_type": "display_data"
    },
    {
     "name": "stdout",
     "output_type": "stream",
     "text": [
      "epoch 65 ended mean loss:0.085\n"
     ]
    },
    {
     "data": {
      "application/vnd.jupyter.widget-view+json": {
       "model_id": "00a0aca599fd417ba9847ec94f8a0716",
       "version_major": 2,
       "version_minor": 0
      },
      "text/plain": [
       "  0%|          | 0/128 [00:00<?, ?it/s]"
      ]
     },
     "metadata": {},
     "output_type": "display_data"
    },
    {
     "name": "stdout",
     "output_type": "stream",
     "text": [
      "epoch 66 ended mean loss:0.085\n"
     ]
    },
    {
     "data": {
      "application/vnd.jupyter.widget-view+json": {
       "model_id": "87b4d5ad624b4e82a0fc0a75e5dfd12f",
       "version_major": 2,
       "version_minor": 0
      },
      "text/plain": [
       "  0%|          | 0/128 [00:00<?, ?it/s]"
      ]
     },
     "metadata": {},
     "output_type": "display_data"
    },
    {
     "name": "stdout",
     "output_type": "stream",
     "text": [
      "epoch 67 ended mean loss:0.085\n"
     ]
    },
    {
     "data": {
      "application/vnd.jupyter.widget-view+json": {
       "model_id": "53cd298546874a78a3f90b58256d99dd",
       "version_major": 2,
       "version_minor": 0
      },
      "text/plain": [
       "  0%|          | 0/128 [00:00<?, ?it/s]"
      ]
     },
     "metadata": {},
     "output_type": "display_data"
    },
    {
     "name": "stdout",
     "output_type": "stream",
     "text": [
      "epoch 68 ended mean loss:0.084\n"
     ]
    },
    {
     "data": {
      "application/vnd.jupyter.widget-view+json": {
       "model_id": "c4920468647544629c66882dc25a065f",
       "version_major": 2,
       "version_minor": 0
      },
      "text/plain": [
       "  0%|          | 0/128 [00:00<?, ?it/s]"
      ]
     },
     "metadata": {},
     "output_type": "display_data"
    },
    {
     "name": "stdout",
     "output_type": "stream",
     "text": [
      "epoch 69 ended mean loss:0.084\n"
     ]
    }
   ],
   "source": [
    "model = train(model, 70, optimizer, criterion, train_loader)"
   ]
  },
  {
   "cell_type": "code",
   "execution_count": 105,
   "id": "4204b22c",
   "metadata": {},
   "outputs": [],
   "source": [
    "torch.save(model.state_dict, 'detector_512_epoch_69.pth') "
   ]
  },
  {
   "cell_type": "code",
   "execution_count": null,
   "id": "f9a91be5",
   "metadata": {},
   "outputs": [],
   "source": []
  },
  {
   "cell_type": "code",
   "execution_count": null,
   "id": "c944fd16",
   "metadata": {},
   "outputs": [],
   "source": []
  },
  {
   "cell_type": "code",
   "execution_count": 100,
   "id": "68b05a81",
   "metadata": {},
   "outputs": [],
   "source": [
    "optimizer2 = optim.Adam(model.parameters(), lr = 0.0001)"
   ]
  },
  {
   "cell_type": "code",
   "execution_count": null,
   "id": "db572a08",
   "metadata": {},
   "outputs": [],
   "source": []
  },
  {
   "cell_type": "code",
   "execution_count": 102,
   "id": "8b12c2fe",
   "metadata": {},
   "outputs": [],
   "source": [
    "def train2(model, epoch, optimizer, criterion, train_dataloader):\n",
    "    start_e = 70\n",
    "    for e in range(epoch):\n",
    "        sum_loss = 0\n",
    "        for image, mask in tqdm(train_dataloader):\n",
    "            \n",
    "            image = image.to(device)\n",
    "            mask = mask.to(device)\n",
    "            logits = model(image)\n",
    "            # print('logits.shape = ', logits.shape)\n",
    "            loss = criterion(logits, mask)\n",
    "            \n",
    "            optimizer.zero_grad()\n",
    "            loss.backward()\n",
    "            optimizer.step()\n",
    "            \n",
    "            sum_loss += loss.item()\n",
    "            \n",
    "        print('epoch {} ended mean loss:{:.3f}'.format(start_e + e, sum_loss / len(train_dataloader)))\n",
    "        if epoch % 10 == 0 or e == epoch - 1:\n",
    "            torch.save(model.state_dict, 'detector_512_epoch_' + str(start_e + e) + '.pth') \n",
    "    return model"
   ]
  },
  {
   "cell_type": "code",
   "execution_count": null,
   "id": "3f01874a",
   "metadata": {},
   "outputs": [],
   "source": [
    "model = train2(model, 70, optimizer2, criterion, train_loader)"
   ]
  },
  {
   "cell_type": "code",
   "execution_count": null,
   "id": "65c63033",
   "metadata": {},
   "outputs": [],
   "source": []
  },
  {
   "cell_type": "code",
   "execution_count": null,
   "id": "89e8d2ab",
   "metadata": {},
   "outputs": [],
   "source": []
  },
  {
   "cell_type": "code",
   "execution_count": 179,
   "id": "9102abd1",
   "metadata": {},
   "outputs": [],
   "source": [
    "class BarcodeTestDataset(Dataset):\n",
    "\n",
    "    def __init__(self, data_path):\n",
    "        self.data_path = data_path\n",
    "        self.files_list = os.listdir(self.data_path + '/Images')\n",
    "        self.image_to_shape = (512, 512)\n",
    "        \n",
    "    def __getitem__(self, index):\n",
    "        file = self.files_list[index]\n",
    "        image = Image.open(self.data_path + '/Images/' + file)\n",
    "        w, h = image.size\n",
    "        image = transforms.Resize((self.image_to_shape))(image)\n",
    "        image = transforms.ToTensor()(image)\n",
    "        return image, w, h, file\n",
    "    \n",
    "    def __len__(self) -> int:\n",
    "        return len(self.files_list)"
   ]
  },
  {
   "cell_type": "code",
   "execution_count": 180,
   "id": "d55253cc",
   "metadata": {},
   "outputs": [],
   "source": [
    "test_dataset = BarcodeTestDataset('/DATA/ichuviliaeva/ocr_data/barcodes/CourseOCRTask3/Test')\n",
    "test_loader = data.DataLoader(test_dataset, batch_size = 16, shuffle = False)"
   ]
  },
  {
   "cell_type": "code",
   "execution_count": 233,
   "id": "54c6f480",
   "metadata": {},
   "outputs": [],
   "source": [
    "ans_x1, ans_y1, ans_x2, ans_y2, ans_x3, ans_y3, ans_x4, ans_y4 = [], [], [], [], [], [], [], []\n",
    "ans_file = []\n",
    "def predict(model, test_loader):\n",
    "    for image, w, h, file in tqdm(test_loader):\n",
    "        logits = model(image.to(device))\n",
    "        mask_bool = 1 * (logits > 0.5)\n",
    "        mask_cpu = mask_bool.detach().cpu().numpy().astype(np.uint8)\n",
    "        \n",
    "        for t in range(mask_cpu.shape[0]):\n",
    "            ans_file.append(file[t])\n",
    "            analysis = cv2.connectedComponentsWithStats(mask_cpu[t][0], 4, cv2.CV_32S)\n",
    "            (totalLabels, label_ids, values, centroid) = analysis\n",
    "            \n",
    "            max_area = 0\n",
    "            best_comp = -1\n",
    "            for i in range(totalLabels):\n",
    "                area = values[i, cv2.CC_STAT_AREA]  \n",
    "                if area > max_area:\n",
    "                    max_area = area\n",
    "                    best_comp = i\n",
    "            \n",
    "            bestMask = (label_ids == best_comp).astype(\"uint8\") * 255\n",
    "            contours, hierarchy = cv2.findContours(bestMask, 1, 2)\n",
    "            rect = cv2.minAreaRect(contours[0])\n",
    "            box = cv2.boxPoints(rect)\n",
    "            box = np.int0(box)\n",
    "            \n",
    "            ans_x1.append(int(box[0][0] * w[t] / 76))\n",
    "            ans_y1.append(int(box[0][1] * h[t] / 76))\n",
    "            ans_x2.append(int(box[1][0] * w[t] / 76))\n",
    "            ans_y2.append(int(box[1][1] * h[t] / 76))\n",
    "            ans_x3.append(int(box[2][0] * w[t] / 76))\n",
    "            ans_y3.append(int(box[2][1] * h[t] / 76))\n",
    "            ans_x4.append(int(box[3][0] * w[t] / 76))\n",
    "            ans_y4.append(int(box[3][1] * h[t] / 76))"
   ]
  },
  {
   "cell_type": "code",
   "execution_count": 234,
   "id": "3557e98c",
   "metadata": {},
   "outputs": [
    {
     "data": {
      "application/vnd.jupyter.widget-view+json": {
       "model_id": "862f99ef1b994059810da47d1bd261df",
       "version_major": 2,
       "version_minor": 0
      },
      "text/plain": [
       "  0%|          | 0/7 [00:00<?, ?it/s]"
      ]
     },
     "metadata": {},
     "output_type": "display_data"
    }
   ],
   "source": [
    "predict(model, test_loader)"
   ]
  },
  {
   "cell_type": "code",
   "execution_count": 237,
   "id": "a136b4cb",
   "metadata": {},
   "outputs": [],
   "source": [
    "res_df = pd.DataFrame()\n",
    "res_df[0] = ans_file\n",
    "res_df[1] = [232323232] * len(ans_file)\n",
    "res_df[2] = ans_x1\n",
    "res_df[3] = ans_y1\n",
    "res_df[4] = ans_x2\n",
    "res_df[5] = ans_y2\n",
    "res_df[6] = ans_x3\n",
    "res_df[7] = ans_y3\n",
    "res_df[8] = ans_x4\n",
    "res_df[9] = ans_y4\n",
    "res_df[10] = [101010101010101010101] * len(ans_file)"
   ]
  },
  {
   "cell_type": "code",
   "execution_count": 238,
   "id": "2fa93b20",
   "metadata": {},
   "outputs": [
    {
     "data": {
      "text/html": [
       "<div>\n",
       "<style scoped>\n",
       "    .dataframe tbody tr th:only-of-type {\n",
       "        vertical-align: middle;\n",
       "    }\n",
       "\n",
       "    .dataframe tbody tr th {\n",
       "        vertical-align: top;\n",
       "    }\n",
       "\n",
       "    .dataframe thead th {\n",
       "        text-align: right;\n",
       "    }\n",
       "</style>\n",
       "<table border=\"1\" class=\"dataframe\">\n",
       "  <thead>\n",
       "    <tr style=\"text-align: right;\">\n",
       "      <th></th>\n",
       "      <th>0</th>\n",
       "      <th>1</th>\n",
       "      <th>2</th>\n",
       "      <th>3</th>\n",
       "      <th>4</th>\n",
       "      <th>5</th>\n",
       "      <th>6</th>\n",
       "      <th>7</th>\n",
       "      <th>8</th>\n",
       "      <th>9</th>\n",
       "      <th>10</th>\n",
       "    </tr>\n",
       "  </thead>\n",
       "  <tbody>\n",
       "    <tr>\n",
       "      <th>0</th>\n",
       "      <td>1105913212699e2e8a558191113acbd7.png</td>\n",
       "      <td>232323232</td>\n",
       "      <td>290</td>\n",
       "      <td>529</td>\n",
       "      <td>836</td>\n",
       "      <td>375</td>\n",
       "      <td>989</td>\n",
       "      <td>1323</td>\n",
       "      <td>426</td>\n",
       "      <td>1478</td>\n",
       "      <td>101010101010101010101</td>\n",
       "    </tr>\n",
       "    <tr>\n",
       "      <th>1</th>\n",
       "      <td>c683d3627b6766ef1acd6efd52316be8.png</td>\n",
       "      <td>232323232</td>\n",
       "      <td>615</td>\n",
       "      <td>3722</td>\n",
       "      <td>615</td>\n",
       "      <td>1258</td>\n",
       "      <td>2791</td>\n",
       "      <td>1258</td>\n",
       "      <td>2791</td>\n",
       "      <td>3722</td>\n",
       "      <td>101010101010101010101</td>\n",
       "    </tr>\n",
       "    <tr>\n",
       "      <th>2</th>\n",
       "      <td>8119dd3a93dbf4e27cc3ba7262bd311e.png</td>\n",
       "      <td>232323232</td>\n",
       "      <td>1463</td>\n",
       "      <td>664</td>\n",
       "      <td>1569</td>\n",
       "      <td>664</td>\n",
       "      <td>1569</td>\n",
       "      <td>687</td>\n",
       "      <td>1463</td>\n",
       "      <td>687</td>\n",
       "      <td>101010101010101010101</td>\n",
       "    </tr>\n",
       "    <tr>\n",
       "      <th>3</th>\n",
       "      <td>40ed826ebe0916f70999c831fc078faf.png</td>\n",
       "      <td>232323232</td>\n",
       "      <td>850</td>\n",
       "      <td>475</td>\n",
       "      <td>850</td>\n",
       "      <td>475</td>\n",
       "      <td>850</td>\n",
       "      <td>457</td>\n",
       "      <td>850</td>\n",
       "      <td>457</td>\n",
       "      <td>101010101010101010101</td>\n",
       "    </tr>\n",
       "    <tr>\n",
       "      <th>4</th>\n",
       "      <td>f534d421c7e36d6133a5e9031a7e2dd5.png</td>\n",
       "      <td>232323232</td>\n",
       "      <td>232</td>\n",
       "      <td>1997</td>\n",
       "      <td>232</td>\n",
       "      <td>386</td>\n",
       "      <td>710</td>\n",
       "      <td>386</td>\n",
       "      <td>710</td>\n",
       "      <td>1997</td>\n",
       "      <td>101010101010101010101</td>\n",
       "    </tr>\n",
       "    <tr>\n",
       "      <th>...</th>\n",
       "      <td>...</td>\n",
       "      <td>...</td>\n",
       "      <td>...</td>\n",
       "      <td>...</td>\n",
       "      <td>...</td>\n",
       "      <td>...</td>\n",
       "      <td>...</td>\n",
       "      <td>...</td>\n",
       "      <td>...</td>\n",
       "      <td>...</td>\n",
       "      <td>...</td>\n",
       "    </tr>\n",
       "    <tr>\n",
       "      <th>95</th>\n",
       "      <td>f9bf5d96a0cf5d64aac4eb5806554224.png</td>\n",
       "      <td>232323232</td>\n",
       "      <td>639</td>\n",
       "      <td>1266</td>\n",
       "      <td>639</td>\n",
       "      <td>466</td>\n",
       "      <td>1826</td>\n",
       "      <td>466</td>\n",
       "      <td>1826</td>\n",
       "      <td>1266</td>\n",
       "      <td>101010101010101010101</td>\n",
       "    </tr>\n",
       "    <tr>\n",
       "      <th>96</th>\n",
       "      <td>97b2e27686dbb54b20cfbf9696d430f1.png</td>\n",
       "      <td>232323232</td>\n",
       "      <td>418</td>\n",
       "      <td>453</td>\n",
       "      <td>1129</td>\n",
       "      <td>427</td>\n",
       "      <td>1170</td>\n",
       "      <td>1434</td>\n",
       "      <td>459</td>\n",
       "      <td>1485</td>\n",
       "      <td>101010101010101010101</td>\n",
       "    </tr>\n",
       "    <tr>\n",
       "      <th>97</th>\n",
       "      <td>e083bf4d3c80b00698abdf7b4e769a8c.png</td>\n",
       "      <td>232323232</td>\n",
       "      <td>284</td>\n",
       "      <td>231</td>\n",
       "      <td>837</td>\n",
       "      <td>191</td>\n",
       "      <td>884</td>\n",
       "      <td>503</td>\n",
       "      <td>331</td>\n",
       "      <td>533</td>\n",
       "      <td>101010101010101010101</td>\n",
       "    </tr>\n",
       "    <tr>\n",
       "      <th>98</th>\n",
       "      <td>48e4ee3749f5e786d2160d5081a4640f.png</td>\n",
       "      <td>232323232</td>\n",
       "      <td>168</td>\n",
       "      <td>252</td>\n",
       "      <td>168</td>\n",
       "      <td>79</td>\n",
       "      <td>504</td>\n",
       "      <td>79</td>\n",
       "      <td>504</td>\n",
       "      <td>252</td>\n",
       "      <td>101010101010101010101</td>\n",
       "    </tr>\n",
       "    <tr>\n",
       "      <th>99</th>\n",
       "      <td>5e6e9e51d51b1f0a0eb5815e009200af.png</td>\n",
       "      <td>232323232</td>\n",
       "      <td>152</td>\n",
       "      <td>1353</td>\n",
       "      <td>152</td>\n",
       "      <td>427</td>\n",
       "      <td>821</td>\n",
       "      <td>427</td>\n",
       "      <td>821</td>\n",
       "      <td>1353</td>\n",
       "      <td>101010101010101010101</td>\n",
       "    </tr>\n",
       "  </tbody>\n",
       "</table>\n",
       "<p>100 rows × 11 columns</p>\n",
       "</div>"
      ],
      "text/plain": [
       "                                      0          1     2     3     4     5   \\\n",
       "0   1105913212699e2e8a558191113acbd7.png  232323232   290   529   836   375   \n",
       "1   c683d3627b6766ef1acd6efd52316be8.png  232323232   615  3722   615  1258   \n",
       "2   8119dd3a93dbf4e27cc3ba7262bd311e.png  232323232  1463   664  1569   664   \n",
       "3   40ed826ebe0916f70999c831fc078faf.png  232323232   850   475   850   475   \n",
       "4   f534d421c7e36d6133a5e9031a7e2dd5.png  232323232   232  1997   232   386   \n",
       "..                                   ...        ...   ...   ...   ...   ...   \n",
       "95  f9bf5d96a0cf5d64aac4eb5806554224.png  232323232   639  1266   639   466   \n",
       "96  97b2e27686dbb54b20cfbf9696d430f1.png  232323232   418   453  1129   427   \n",
       "97  e083bf4d3c80b00698abdf7b4e769a8c.png  232323232   284   231   837   191   \n",
       "98  48e4ee3749f5e786d2160d5081a4640f.png  232323232   168   252   168    79   \n",
       "99  5e6e9e51d51b1f0a0eb5815e009200af.png  232323232   152  1353   152   427   \n",
       "\n",
       "      6     7     8     9                      10  \n",
       "0    989  1323   426  1478  101010101010101010101  \n",
       "1   2791  1258  2791  3722  101010101010101010101  \n",
       "2   1569   687  1463   687  101010101010101010101  \n",
       "3    850   457   850   457  101010101010101010101  \n",
       "4    710   386   710  1997  101010101010101010101  \n",
       "..   ...   ...   ...   ...                    ...  \n",
       "95  1826   466  1826  1266  101010101010101010101  \n",
       "96  1170  1434   459  1485  101010101010101010101  \n",
       "97   884   503   331   533  101010101010101010101  \n",
       "98   504    79   504   252  101010101010101010101  \n",
       "99   821   427   821  1353  101010101010101010101  \n",
       "\n",
       "[100 rows x 11 columns]"
      ]
     },
     "metadata": {},
     "output_type": "display_data"
    }
   ],
   "source": [
    "display(res_df)"
   ]
  },
  {
   "cell_type": "code",
   "execution_count": 256,
   "id": "3136284f",
   "metadata": {},
   "outputs": [],
   "source": [
    "with open('answer.csv', 'w', encoding='utf-16') as f:\n",
    "    writer = csv.writer(f)\n",
    "    for i in range(len(res_df)):\n",
    "        writer.writerow(res_df.iloc[i])"
   ]
  },
  {
   "cell_type": "code",
   "execution_count": 227,
   "id": "0ad24633",
   "metadata": {
    "scrolled": false
   },
   "outputs": [
    {
     "name": "stdout",
     "output_type": "stream",
     "text": [
      "/bin/bash: /home/ichuviliaeva/miniconda3/envs/ocr_course/lib/python3.8/site-packages/cv2/../../../../lib/libtinfo.so.6: no version information available (required by /bin/bash)\n",
      "Defaulting to user installation because normal site-packages is not writeable\n",
      "Obtaining file:///home/ichuviliaeva/ocr_course/course_ocr/task3\n",
      "  Installing build dependencies ... \u001b[?25ldone\n",
      "\u001b[?25h  Checking if build backend supports build_editable ... \u001b[?25ldone\n",
      "\u001b[?25h  Getting requirements to build editable ... \u001b[?25ldone\n",
      "\u001b[?25h  Preparing editable metadata (pyproject.toml) ... \u001b[?25ldone\n",
      "\u001b[?25hCollecting shapely (from course_ocr_t3==0.1.1)\n",
      "  Downloading shapely-2.0.1-cp38-cp38-manylinux_2_17_x86_64.manylinux2014_x86_64.whl (2.3 MB)\n",
      "\u001b[2K     \u001b[90m━━━━━━━━━━━━━━━━━━━━━━━━━━━━━━━━━━━━━━━━\u001b[0m \u001b[32m2.3/2.3 MB\u001b[0m \u001b[31m6.2 MB/s\u001b[0m eta \u001b[36m0:00:00\u001b[0m00:01\u001b[0m00:01\u001b[0m\n",
      "\u001b[?25hRequirement already satisfied: numpy>=1.14 in /usr/local/lib/python3.8/dist-packages (from shapely->course_ocr_t3==0.1.1) (1.24.2)\n",
      "Building wheels for collected packages: course_ocr_t3\n",
      "  Building editable for course_ocr_t3 (pyproject.toml) ... \u001b[?25ldone\n",
      "\u001b[?25h  Created wheel for course_ocr_t3: filename=course_ocr_t3-0.1.1-py3-none-any.whl size=1204 sha256=6c85cc03abd93e7db7d009b622d63af54f94a589e3ff38c32c7c2baacaebca23\n",
      "  Stored in directory: /tmp/pip-ephem-wheel-cache-d5o1rwe1/wheels/ff/0f/62/c58c809f14b9f622c65e7c7a61f5b94a2819377736eeff7828\n",
      "Successfully built course_ocr_t3\n",
      "Installing collected packages: shapely, course_ocr_t3\n",
      "Successfully installed course_ocr_t3-0.1.1 shapely-2.0.1\n",
      "\n",
      "\u001b[1m[\u001b[0m\u001b[34;49mnotice\u001b[0m\u001b[1;39;49m]\u001b[0m\u001b[39;49m A new release of pip is available: \u001b[0m\u001b[31;49m23.1\u001b[0m\u001b[39;49m -> \u001b[0m\u001b[32;49m23.1.1\u001b[0m\n",
      "\u001b[1m[\u001b[0m\u001b[34;49mnotice\u001b[0m\u001b[1;39;49m]\u001b[0m\u001b[39;49m To update, run: \u001b[0m\u001b[32;49m/usr/bin/python3 -m pip install --upgrade pip\u001b[0m\n"
     ]
    }
   ],
   "source": [
    "!pip install -e ."
   ]
  },
  {
   "cell_type": "code",
   "execution_count": 258,
   "id": "83935284",
   "metadata": {},
   "outputs": [
    {
     "name": "stdout",
     "output_type": "stream",
     "text": [
      "/bin/bash: /home/ichuviliaeva/miniconda3/envs/ocr_course/lib/python3.8/site-packages/cv2/../../../../lib/libtinfo.so.6: no version information available (required by /bin/bash)\n",
      "Checking answer (/home/ichuviliaeva/ocr_course/course_ocr/task3/answer.csv) against markup(/home/ichuviliaeva/ocr_course/course_ocr/task3/markup.csv)\n",
      "recognition_accuracy=0.0\n",
      "detection_result=0.77\n",
      "score=0.26949999999999996\n"
     ]
    }
   ],
   "source": [
    "!python3 -m course_ocr_t3.evaluate"
   ]
  },
  {
   "cell_type": "code",
   "execution_count": null,
   "id": "b698c061",
   "metadata": {},
   "outputs": [],
   "source": []
  }
 ],
 "metadata": {
  "kernelspec": {
   "display_name": "Python 3 (ipykernel)",
   "language": "python",
   "name": "python3"
  },
  "language_info": {
   "codemirror_mode": {
    "name": "ipython",
    "version": 3
   },
   "file_extension": ".py",
   "mimetype": "text/x-python",
   "name": "python",
   "nbconvert_exporter": "python",
   "pygments_lexer": "ipython3",
   "version": "3.8.16"
  }
 },
 "nbformat": 4,
 "nbformat_minor": 5
}
