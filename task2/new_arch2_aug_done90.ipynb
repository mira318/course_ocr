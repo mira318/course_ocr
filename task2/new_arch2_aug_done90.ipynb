{
 "cells": [
  {
   "cell_type": "code",
   "execution_count": 1,
   "id": "e375e403",
   "metadata": {},
   "outputs": [],
   "source": [
    "from data_reader import Vocabulary, HWDBDatasetHelper, LMDBReader\n",
    "\n",
    "# your path to data\n",
    "train_path = r'/DATA/ichuviliaeva/ocr_data/train.lmdb'\n",
    "test_path = r'/DATA/ichuviliaeva/ocr_data/test.lmdb'\n",
    "gt_path = r'/DATA/ichuviliaeva/ocr_data/gt.txt'"
   ]
  },
  {
   "cell_type": "code",
   "execution_count": 2,
   "id": "3b8a4707",
   "metadata": {},
   "outputs": [],
   "source": [
    "import cv2\n",
    "import numpy as np\n",
    "from centerloss import CenterLoss\n",
    "from torchvision import transforms"
   ]
  },
  {
   "cell_type": "code",
   "execution_count": 3,
   "id": "7a1a7069",
   "metadata": {},
   "outputs": [],
   "source": [
    "train_reader = LMDBReader(train_path)\n",
    "train_reader.open()\n",
    "train_helper = HWDBDatasetHelper(train_reader)"
   ]
  },
  {
   "cell_type": "code",
   "execution_count": 4,
   "id": "0238e35f",
   "metadata": {},
   "outputs": [],
   "source": [
    "train_helper, val_helper = train_helper.train_val_split()"
   ]
  },
  {
   "cell_type": "code",
   "execution_count": 5,
   "id": "82e0b4dd",
   "metadata": {},
   "outputs": [
    {
     "data": {
      "text/plain": [
       "(2578433, 644609)"
      ]
     },
     "execution_count": 5,
     "metadata": {},
     "output_type": "execute_result"
    }
   ],
   "source": [
    "train_helper.size(), val_helper.size()"
   ]
  },
  {
   "cell_type": "code",
   "execution_count": 6,
   "id": "735cd1e9",
   "metadata": {},
   "outputs": [],
   "source": [
    "import os\n",
    "os.environ[\"CUDA_VISIBLE_DEVICES\"]=\"2\""
   ]
  },
  {
   "cell_type": "code",
   "execution_count": 7,
   "id": "dffcbccf",
   "metadata": {},
   "outputs": [],
   "source": [
    "import torch\n",
    "\n",
    "from torch.utils.data import Dataset, DataLoader\n",
    "from torch import nn\n",
    "\n",
    "class HWDBDataset(Dataset):\n",
    "    def __init__(self, helper: HWDBDatasetHelper, transform = None):\n",
    "        self.helper = helper\n",
    "        self.transform = transform\n",
    "    \n",
    "    def __len__(self):\n",
    "        return self.helper.size()\n",
    "    \n",
    "    def __getitem__(self, idx):\n",
    "        img, label = self.helper.get_item(idx)\n",
    "        if self.transform:\n",
    "            img = self.transform(img)\n",
    "        return img, label"
   ]
  },
  {
   "cell_type": "code",
   "execution_count": 8,
   "id": "e5a17243",
   "metadata": {},
   "outputs": [],
   "source": [
    "class pad_prune(object):\n",
    "    \n",
    "    def __init__(self, output_w, output_h):\n",
    "        self.output_w = output_w\n",
    "        self.output_h = output_h\n",
    "\n",
    "    def __call__(self, image):\n",
    "        \n",
    "        w, h = image.shape\n",
    "        diff_w = w - self.output_w\n",
    "        diff_h = h - self.output_h\n",
    "        masked = np.zeros((self.output_w, self.output_h))\n",
    "        if diff_w <= 0:\n",
    "            if diff_h <= 0:\n",
    "                masked[:w, :h] = image\n",
    "            else:\n",
    "                masked[:w, :] = image[:, (diff_h // 2):(h - (diff_h - diff_h // 2))]\n",
    "            \n",
    "        if diff_w > 0:\n",
    "            if diff_h > 0:\n",
    "                masked = image[(diff_w // 2):(w - (diff_w - diff_w // 2)), \n",
    "                               (diff_h // 2):(h - (diff_h - diff_h // 2))]\n",
    "            else:\n",
    "                masked[:, :h] = image[(diff_w // 2):(w - (diff_w - diff_w // 2)), :]\n",
    "        return masked\n",
    "\n",
    "class to_zero_one(object):\n",
    "    def __init__(self):\n",
    "        pass\n",
    "    def __call__(self, image):\n",
    "        return image - 127.5 / 255.0 "
   ]
  },
  {
   "cell_type": "code",
   "execution_count": 9,
   "id": "157413ac",
   "metadata": {},
   "outputs": [],
   "source": [
    "to_one_shape = pad_prune(128, 128)"
   ]
  },
  {
   "cell_type": "code",
   "execution_count": 9,
   "id": "19b9d982",
   "metadata": {},
   "outputs": [],
   "source": [
    "train_transforms = transforms.Compose([\n",
    "    to_one_shape,\n",
    "    transforms.ToTensor(),\n",
    "    transforms.RandomPerspective(distortion_scale = 0.2, p = 0.5),  \n",
    "    transforms.ColorJitter(),\n",
    "    transforms.GaussianBlur(kernel_size = 5),\n",
    "    to_zero_one()\n",
    "])\n",
    "\n",
    "# transforms.RandomPerspective(distortion_scale = 0.2, p = 0.5),\n",
    "    "
   ]
  },
  {
   "cell_type": "code",
   "execution_count": 10,
   "id": "3b92eaef",
   "metadata": {},
   "outputs": [],
   "source": [
    "val_transforms = transforms.Compose([\n",
    "    to_one_shape,\n",
    "    transforms.ToTensor()\n",
    "])"
   ]
  },
  {
   "cell_type": "code",
   "execution_count": 11,
   "id": "aeddd9db",
   "metadata": {},
   "outputs": [],
   "source": [
    "train_dataset = HWDBDataset(train_helper, train_transforms)\n",
    "val_dataset = HWDBDataset(val_helper, val_transforms)"
   ]
  },
  {
   "cell_type": "code",
   "execution_count": 10,
   "id": "db7bee15",
   "metadata": {},
   "outputs": [],
   "source": [
    "class SimpleBlock(nn.Module):\n",
    "        \n",
    "    def __init__(self, in_channels, out_channels, kernel_size, padding, stride, is_projection = False):\n",
    "        super().__init__()\n",
    "        self.bn1 = nn.BatchNorm2d(num_features = in_channels)\n",
    "        self.relu1 = nn.ReLU()\n",
    "        self.conv1 = nn.Conv2d(in_channels = in_channels, out_channels = out_channels, \n",
    "                               kernel_size = kernel_size, padding = padding, stride = stride)\n",
    "            \n",
    "        self.bn2 = nn.BatchNorm2d(num_features = out_channels)\n",
    "        self.relu2 = nn.ReLU()\n",
    "        self.conv2 = nn.Conv2d(in_channels = out_channels, out_channels = out_channels,\n",
    "                               kernel_size = kernel_size, padding = padding, stride = 1)\n",
    "        if is_projection:\n",
    "            self.project = nn.Conv2d(in_channels = in_channels, out_channels = out_channels,\n",
    "                               kernel_size = 1, padding = 0, stride = stride)\n",
    "        else:\n",
    "            self.project = lambda x: x\n",
    "            \n",
    "    def forward(self, x):            \n",
    "        out = self.conv1(self.relu1(self.bn1(x)))\n",
    "        out = self.conv2(self.relu2(self.bn2(out)))\n",
    "        return out + self.project(x)"
   ]
  },
  {
   "cell_type": "code",
   "execution_count": 11,
   "id": "782d5886",
   "metadata": {},
   "outputs": [],
   "source": [
    "class TheNet(nn.Module):\n",
    "    def __init__(self, n_classes):\n",
    "        super(TheNet, self).__init__()\n",
    "        self.nn = nn.Sequential(\n",
    "            nn.Conv2d(in_channels = 1, out_channels = 8, kernel_size = 5, stride = 2),\n",
    "            nn.MaxPool2d(kernel_size = 3, stride = 2, padding = 1),\n",
    "            \n",
    "            SimpleBlock(in_channels = 8, out_channels = 8, kernel_size = 3, padding = 1, stride = 1),\n",
    "            SimpleBlock(in_channels = 8, out_channels = 8, kernel_size = 3, padding = 1, stride = 1),\n",
    "            SimpleBlock(in_channels = 8, out_channels = 16, kernel_size = 3, padding = 1, stride = 2, \n",
    "                             is_projection = True),\n",
    "           \n",
    "            SimpleBlock(in_channels = 16, out_channels = 16, kernel_size = 3, padding = 1, stride = 1),\n",
    "            SimpleBlock(in_channels = 16, out_channels = 32, kernel_size = 3, padding = 1, stride = 2, \n",
    "                             is_projection = True),\n",
    "            \n",
    "            SimpleBlock(in_channels = 32, out_channels = 32, kernel_size = 3, padding = 1, stride = 1),\n",
    "            SimpleBlock(in_channels = 32, out_channels = 64, kernel_size = 3, padding = 1, stride = 2, \n",
    "                             is_projection = True),\n",
    "            \n",
    "            SimpleBlock(in_channels = 64, out_channels = 64, kernel_size = 3, padding = 1, stride = 1),\n",
    "            SimpleBlock(in_channels = 64, out_channels = 128, kernel_size = 3, padding = 1, stride = 2, \n",
    "                             is_projection = True),\n",
    "            \n",
    "            nn.Flatten(),\n",
    "            nn.Linear(2 * 2 * 128, 256),\n",
    "            nn.BatchNorm1d(256), \n",
    "            nn.ReLU()\n",
    "            \n",
    "        )\n",
    "        self.last_layer = nn.Linear(256, n_classes, bias=False)\n",
    "        \n",
    "            \n",
    "    def forward(self, x):\n",
    "        x = self.nn(x)\n",
    "        y = self.last_layer(x)\n",
    "        return x, y"
   ]
  },
  {
   "cell_type": "code",
   "execution_count": null,
   "id": "6ef93cfc",
   "metadata": {},
   "outputs": [],
   "source": [
    "model = TheNet(train_helper.vocabulary.num_classes())\n",
    "model.eval()\n",
    "res = model(torch.tensor(train_dataset[0][0], dtype=torch.float32).view(1, 1, 128, 128))\n",
    "print(res[0].shape)\n",
    "print(res[1].shape)"
   ]
  },
  {
   "cell_type": "code",
   "execution_count": 13,
   "id": "c628fc30",
   "metadata": {},
   "outputs": [],
   "source": [
    "model = model.cuda()"
   ]
  },
  {
   "cell_type": "code",
   "execution_count": 28,
   "id": "1289604d",
   "metadata": {},
   "outputs": [],
   "source": [
    "train_loader = DataLoader(train_dataset, batch_size=512, shuffle=True, drop_last=True, \n",
    "                        num_workers=8, persistent_workers = True) # 8\n",
    "val_loader = DataLoader(val_dataset, batch_size=2048, shuffle=False, num_workers=8, \n",
    "                        persistent_workers = True) # 8"
   ]
  },
  {
   "cell_type": "code",
   "execution_count": 14,
   "id": "fa3d0908",
   "metadata": {},
   "outputs": [],
   "source": [
    "optim = torch.optim.Adam(model.parameters(), lr=0.001)\n",
    "loss_fn = torch.nn.CrossEntropyLoss()"
   ]
  },
  {
   "cell_type": "code",
   "execution_count": 15,
   "id": "74e207aa",
   "metadata": {},
   "outputs": [],
   "source": [
    "center_loss = CenterLoss(num_classes=train_helper.vocabulary.num_classes(), feat_dim=256, use_gpu=True)\n",
    "optimizer_centloss = torch.optim.Adam(center_loss.parameters(), lr=0.3)"
   ]
  },
  {
   "cell_type": "code",
   "execution_count": 34,
   "id": "ed075227",
   "metadata": {},
   "outputs": [],
   "source": [
    "from tqdm.notebook import tqdm\n",
    "\n",
    "def run_validation(val_loader: DataLoader, model: nn.Module, n_steps=None):\n",
    "    model.eval()\n",
    "    n_good = 0\n",
    "    n_all = 0\n",
    "    wrapper = lambda x: x\n",
    "    if n_steps is None:\n",
    "        n_steps = len(val_loader)\n",
    "        wrapper = tqdm\n",
    "    \n",
    "    with torch.no_grad():\n",
    "        for batch, (X, y) in enumerate(wrapper(val_loader)):\n",
    "            if batch == n_steps:\n",
    "                break\n",
    "            features, logits = model(X.to(torch.float32).cuda())\n",
    "            classes = torch.argmax(logits, dim=1).cpu().numpy()\n",
    "            n_good += sum(classes == y.cpu().numpy())\n",
    "            n_all += len(classes)\n",
    "    \n",
    "    return n_good / n_all\n",
    "\n",
    "\n",
    "def train_epoch(train_loader: DataLoader, val_loader: DataLoader, model: nn.Module, optim, loss_fn, alpha = 1.0):\n",
    "    for batch, (X, y) in enumerate(tqdm(train_loader)):\n",
    "        model.train()\n",
    "        features, logits = model(X.to(torch.float32).cuda())\n",
    "        labels = y.to(torch.long).cuda()\n",
    "        loss = center_loss(features, labels) * alpha + loss_fn(logits, labels)\n",
    "        \n",
    "        optim.zero_grad()\n",
    "        optimizer_centloss.zero_grad()\n",
    "        \n",
    "        loss.backward()\n",
    "        optim.step()\n",
    "        \n",
    "        for param in center_loss.parameters():\n",
    "             param.grad.data *= (1./alpha)\n",
    "\n",
    "        optimizer_centloss.step()"
   ]
  },
  {
   "cell_type": "code",
   "execution_count": 196,
   "id": "8c8921bd",
   "metadata": {
    "scrolled": true
   },
   "outputs": [
    {
     "name": "stdout",
     "output_type": "stream",
     "text": [
      "Epoch 0:\n"
     ]
    },
    {
     "data": {
      "application/vnd.jupyter.widget-view+json": {
       "model_id": "00277c79385e449e84c2f13ed19b67b7",
       "version_major": 2,
       "version_minor": 0
      },
      "text/plain": [
       "  0%|          | 0/5036 [00:01<?, ?it/s]"
      ]
     },
     "metadata": {},
     "output_type": "display_data"
    },
    {
     "name": "stderr",
     "output_type": "stream",
     "text": [
      "Exception ignored in: <function _MultiProcessingDataLoaderIter.__del__ at 0x7f8ca8a0e3a0>\n",
      "Traceback (most recent call last):\n",
      "  File \"/home/ichuviliaeva/miniconda3/envs/is_project/lib/python3.9/site-packages/torch/utils/data/dataloader.py\", line 1328, in __del__\n",
      "    self._shutdown_workers()\n",
      "  File \"/home/ichuviliaeva/miniconda3/envs/is_project/lib/python3.9/site-packages/torch/utils/data/dataloader.py\", line 1320, in _shutdown_workers\n",
      "    if w.is_alive():\n",
      "  File \"/home/ichuviliaeva/miniconda3/envs/is_project/lib/python3.9/multiprocessing/process.py\", line 160, in is_alive\n",
      "    assert self._parent_pid == os.getpid(), 'can only test a child process'\n",
      "AssertionError: can only test a child process\n",
      "Exception ignored in: <function _MultiProcessingDataLoaderIter.__del__ at 0x7f8ca8a0e3a0>\n",
      "Traceback (most recent call last):\n",
      "  File \"/home/ichuviliaeva/miniconda3/envs/is_project/lib/python3.9/site-packages/torch/utils/data/dataloader.py\", line 1328, in __del__\n",
      "    self._shutdown_workers()\n",
      "  File \"/home/ichuviliaeva/miniconda3/envs/is_project/lib/python3.9/site-packages/torch/utils/data/dataloader.py\", line 1320, in _shutdown_workers\n",
      "    if w.is_alive():\n",
      "  File \"/home/ichuviliaeva/miniconda3/envs/is_project/lib/python3.9/multiprocessing/process.py\", line 160, in is_alive\n",
      "    assert self._parent_pid == os.getpid(), 'can only test a child process'\n",
      "AssertionError: can only test a child process\n",
      "Exception ignored in: <function _MultiProcessingDataLoaderIter.__del__ at 0x7f8ca8a0e3a0>\n",
      "Traceback (most recent call last):\n",
      "  File \"/home/ichuviliaeva/miniconda3/envs/is_project/lib/python3.9/site-packages/torch/utils/data/dataloader.py\", line 1328, in __del__\n",
      "    self._shutdown_workers()\n",
      "  File \"/home/ichuviliaeva/miniconda3/envs/is_project/lib/python3.9/site-packages/torch/utils/data/dataloader.py\", line 1320, in _shutdown_workers\n",
      "    if w.is_alive():\n",
      "  File \"/home/ichuviliaeva/miniconda3/envs/is_project/lib/python3.9/multiprocessing/process.py\", line 160, in is_alive\n",
      "    assert self._parent_pid == os.getpid(), 'can only test a child process'\n",
      "AssertionError: can only test a child process\n",
      "Exception ignored in: <function _MultiProcessingDataLoaderIter.__del__ at 0x7f8ca8a0e3a0>\n",
      "Traceback (most recent call last):\n",
      "  File \"/home/ichuviliaeva/miniconda3/envs/is_project/lib/python3.9/site-packages/torch/utils/data/dataloader.py\", line 1328, in __del__\n",
      "    self._shutdown_workers()\n",
      "  File \"/home/ichuviliaeva/miniconda3/envs/is_project/lib/python3.9/site-packages/torch/utils/data/dataloader.py\", line 1320, in _shutdown_workers\n",
      "    if w.is_alive():\n",
      "  File \"/home/ichuviliaeva/miniconda3/envs/is_project/lib/python3.9/multiprocessing/process.py\", line 160, in is_alive\n",
      "    assert self._parent_pid == os.getpid(), 'can only test a child process'\n",
      "AssertionError: can only test a child process\n",
      "Exception ignored in: <function _MultiProcessingDataLoaderIter.__del__ at 0x7f8ca8a0e3a0>\n",
      "Traceback (most recent call last):\n",
      "  File \"/home/ichuviliaeva/miniconda3/envs/is_project/lib/python3.9/site-packages/torch/utils/data/dataloader.py\", line 1328, in __del__\n",
      "    self._shutdown_workers()\n",
      "  File \"/home/ichuviliaeva/miniconda3/envs/is_project/lib/python3.9/site-packages/torch/utils/data/dataloader.py\", line 1320, in _shutdown_workers\n",
      "    if w.is_alive():\n",
      "  File \"/home/ichuviliaeva/miniconda3/envs/is_project/lib/python3.9/multiprocessing/process.py\", line 160, in is_alive\n",
      "    assert self._parent_pid == os.getpid(), 'can only test a child process'\n",
      "AssertionError: can only test a child process\n",
      "Exception ignored in: <function _MultiProcessingDataLoaderIter.__del__ at 0x7f8ca8a0e3a0>\n",
      "Traceback (most recent call last):\n",
      "  File \"/home/ichuviliaeva/miniconda3/envs/is_project/lib/python3.9/site-packages/torch/utils/data/dataloader.py\", line 1328, in __del__\n",
      "    self._shutdown_workers()\n",
      "  File \"/home/ichuviliaeva/miniconda3/envs/is_project/lib/python3.9/site-packages/torch/utils/data/dataloader.py\", line 1320, in _shutdown_workers\n",
      "    if w.is_alive():\n",
      "  File \"/home/ichuviliaeva/miniconda3/envs/is_project/lib/python3.9/multiprocessing/process.py\", line 160, in is_alive\n",
      "    assert self._parent_pid == os.getpid(), 'can only test a child process'Exception ignored in: \n",
      "<function _MultiProcessingDataLoaderIter.__del__ at 0x7f8ca8a0e3a0>AssertionError\n",
      ": Traceback (most recent call last):\n",
      "  File \"/home/ichuviliaeva/miniconda3/envs/is_project/lib/python3.9/site-packages/torch/utils/data/dataloader.py\", line 1328, in __del__\n",
      "can only test a child process\n",
      "    self._shutdown_workers()\n",
      "  File \"/home/ichuviliaeva/miniconda3/envs/is_project/lib/python3.9/site-packages/torch/utils/data/dataloader.py\", line 1320, in _shutdown_workers\n",
      "    if w.is_alive():\n",
      "  File \"/home/ichuviliaeva/miniconda3/envs/is_project/lib/python3.9/multiprocessing/process.py\", line 160, in is_alive\n",
      "    assert self._parent_pid == os.getpid(), 'can only test a child process'\n",
      "AssertionError: can only test a child process\n",
      "Exception ignored in: <function _MultiProcessingDataLoaderIter.__del__ at 0x7f8ca8a0e3a0>\n",
      "Traceback (most recent call last):\n",
      "Exception ignored in: <function _MultiProcessingDataLoaderIter.__del__ at 0x7f8ca8a0e3a0>  File \"/home/ichuviliaeva/miniconda3/envs/is_project/lib/python3.9/site-packages/torch/utils/data/dataloader.py\", line 1328, in __del__\n",
      "\n",
      "    Traceback (most recent call last):\n",
      "self._shutdown_workers()  File \"/home/ichuviliaeva/miniconda3/envs/is_project/lib/python3.9/site-packages/torch/utils/data/dataloader.py\", line 1328, in __del__\n",
      "\n",
      "      File \"/home/ichuviliaeva/miniconda3/envs/is_project/lib/python3.9/site-packages/torch/utils/data/dataloader.py\", line 1320, in _shutdown_workers\n",
      "self._shutdown_workers()\n",
      "      File \"/home/ichuviliaeva/miniconda3/envs/is_project/lib/python3.9/site-packages/torch/utils/data/dataloader.py\", line 1320, in _shutdown_workers\n",
      "if w.is_alive():    \n",
      "  File \"/home/ichuviliaeva/miniconda3/envs/is_project/lib/python3.9/multiprocessing/process.py\", line 160, in is_alive\n",
      "if w.is_alive():\n",
      "      File \"/home/ichuviliaeva/miniconda3/envs/is_project/lib/python3.9/multiprocessing/process.py\", line 160, in is_alive\n",
      "assert self._parent_pid == os.getpid(), 'can only test a child process'\n",
      "    AssertionError: can only test a child processassert self._parent_pid == os.getpid(), 'can only test a child process'\n",
      "\n",
      "AssertionError: can only test a child process\n",
      "Exception ignored in: <function _MultiProcessingDataLoaderIter.__del__ at 0x7f8ca8a0e3a0>\n",
      "Traceback (most recent call last):\n",
      "  File \"/home/ichuviliaeva/miniconda3/envs/is_project/lib/python3.9/site-packages/torch/utils/data/dataloader.py\", line 1328, in __del__\n",
      "    self._shutdown_workers()\n",
      "  File \"/home/ichuviliaeva/miniconda3/envs/is_project/lib/python3.9/site-packages/torch/utils/data/dataloader.py\", line 1320, in _shutdown_workers\n",
      "    if w.is_alive():\n",
      "  File \"/home/ichuviliaeva/miniconda3/envs/is_project/lib/python3.9/multiprocessing/process.py\", line 160, in is_alive\n",
      "    assert self._parent_pid == os.getpid(), 'can only test a child process'\n",
      "AssertionError: can only test a child process\n",
      "Exception ignored in: <function _MultiProcessingDataLoaderIter.__del__ at 0x7f8ca8a0e3a0>\n",
      "Traceback (most recent call last):\n",
      "  File \"/home/ichuviliaeva/miniconda3/envs/is_project/lib/python3.9/site-packages/torch/utils/data/dataloader.py\", line 1328, in __del__\n",
      "    Exception ignored in: self._shutdown_workers()<function _MultiProcessingDataLoaderIter.__del__ at 0x7f8ca8a0e3a0>\n",
      "\n",
      "  File \"/home/ichuviliaeva/miniconda3/envs/is_project/lib/python3.9/site-packages/torch/utils/data/dataloader.py\", line 1320, in _shutdown_workers\n",
      "Traceback (most recent call last):\n",
      "      File \"/home/ichuviliaeva/miniconda3/envs/is_project/lib/python3.9/site-packages/torch/utils/data/dataloader.py\", line 1328, in __del__\n",
      "if w.is_alive():    \n",
      "self._shutdown_workers()  File \"/home/ichuviliaeva/miniconda3/envs/is_project/lib/python3.9/multiprocessing/process.py\", line 160, in is_alive\n",
      "\n",
      "      File \"/home/ichuviliaeva/miniconda3/envs/is_project/lib/python3.9/site-packages/torch/utils/data/dataloader.py\", line 1320, in _shutdown_workers\n",
      "assert self._parent_pid == os.getpid(), 'can only test a child process'    if w.is_alive():\n",
      "\n",
      "AssertionError  File \"/home/ichuviliaeva/miniconda3/envs/is_project/lib/python3.9/multiprocessing/process.py\", line 160, in is_alive\n"
     ]
    },
    {
     "name": "stderr",
     "output_type": "stream",
     "text": [
      "    assert self._parent_pid == os.getpid(), 'can only test a child process': \n",
      "AssertionErrorcan only test a child process: \n",
      "can only test a child process\n",
      "Exception ignored in: <function _MultiProcessingDataLoaderIter.__del__ at 0x7f8ca8a0e3a0>\n",
      "Traceback (most recent call last):\n",
      "  File \"/home/ichuviliaeva/miniconda3/envs/is_project/lib/python3.9/site-packages/torch/utils/data/dataloader.py\", line 1328, in __del__\n",
      "    self._shutdown_workers()\n",
      "  File \"/home/ichuviliaeva/miniconda3/envs/is_project/lib/python3.9/site-packages/torch/utils/data/dataloader.py\", line 1320, in _shutdown_workers\n",
      "    if w.is_alive():\n",
      "  File \"/home/ichuviliaeva/miniconda3/envs/is_project/lib/python3.9/multiprocessing/process.py\", line 160, in is_alive\n",
      "    assert self._parent_pid == os.getpid(), 'can only test a child process'\n",
      "AssertionError: can only test a child process\n",
      "Exception ignored in: <function _MultiProcessingDataLoaderIter.__del__ at 0x7f8ca8a0e3a0>\n",
      "Traceback (most recent call last):\n",
      "  File \"/home/ichuviliaeva/miniconda3/envs/is_project/lib/python3.9/site-packages/torch/utils/data/dataloader.py\", line 1328, in __del__\n",
      "    self._shutdown_workers()\n",
      "  File \"/home/ichuviliaeva/miniconda3/envs/is_project/lib/python3.9/site-packages/torch/utils/data/dataloader.py\", line 1320, in _shutdown_workers\n",
      "    if w.is_alive():\n",
      "  File \"/home/ichuviliaeva/miniconda3/envs/is_project/lib/python3.9/multiprocessing/process.py\", line 160, in is_alive\n",
      "    assert self._parent_pid == os.getpid(), 'can only test a child process'\n",
      "AssertionError: can only test a child process\n",
      "Exception ignored in: <function _MultiProcessingDataLoaderIter.__del__ at 0x7f8ca8a0e3a0>\n",
      "Traceback (most recent call last):\n",
      "  File \"/home/ichuviliaeva/miniconda3/envs/is_project/lib/python3.9/site-packages/torch/utils/data/dataloader.py\", line 1328, in __del__\n",
      "    self._shutdown_workers()\n",
      "  File \"/home/ichuviliaeva/miniconda3/envs/is_project/lib/python3.9/site-packages/torch/utils/data/dataloader.py\", line 1320, in _shutdown_workers\n",
      "    if w.is_alive():\n",
      "  File \"/home/ichuviliaeva/miniconda3/envs/is_project/lib/python3.9/multiprocessing/process.py\", line 160, in is_alive\n",
      "    assert self._parent_pid == os.getpid(), 'can only test a child process'\n",
      "AssertionError: can only test a child process\n",
      "Exception ignored in: <function _MultiProcessingDataLoaderIter.__del__ at 0x7f8ca8a0e3a0>\n",
      "Traceback (most recent call last):\n",
      "  File \"/home/ichuviliaeva/miniconda3/envs/is_project/lib/python3.9/site-packages/torch/utils/data/dataloader.py\", line 1328, in __del__\n",
      "    self._shutdown_workers()\n",
      "  File \"/home/ichuviliaeva/miniconda3/envs/is_project/lib/python3.9/site-packages/torch/utils/data/dataloader.py\", line 1320, in _shutdown_workers\n",
      "    if w.is_alive():\n",
      "  File \"/home/ichuviliaeva/miniconda3/envs/is_project/lib/python3.9/multiprocessing/process.py\", line 160, in is_alive\n",
      "    assert self._parent_pid == os.getpid(), 'can only test a child process'\n",
      "AssertionErrorException ignored in: <function _MultiProcessingDataLoaderIter.__del__ at 0x7f8ca8a0e3a0>: \n",
      "can only test a child processTraceback (most recent call last):\n",
      "\n",
      "  File \"/home/ichuviliaeva/miniconda3/envs/is_project/lib/python3.9/site-packages/torch/utils/data/dataloader.py\", line 1328, in __del__\n",
      "    self._shutdown_workers()\n",
      "  File \"/home/ichuviliaeva/miniconda3/envs/is_project/lib/python3.9/site-packages/torch/utils/data/dataloader.py\", line 1320, in _shutdown_workers\n",
      "    if w.is_alive():\n",
      "  File \"/home/ichuviliaeva/miniconda3/envs/is_project/lib/python3.9/multiprocessing/process.py\", line 160, in is_alive\n",
      "    assert self._parent_pid == os.getpid(), 'can only test a child process'\n",
      "AssertionError: can only test a child process\n",
      "Exception ignored in: <function _MultiProcessingDataLoaderIter.__del__ at 0x7f8ca8a0e3a0>\n",
      "Traceback (most recent call last):\n",
      "  File \"/home/ichuviliaeva/miniconda3/envs/is_project/lib/python3.9/site-packages/torch/utils/data/dataloader.py\", line 1328, in __del__\n",
      "    self._shutdown_workers()\n",
      "  File \"/home/ichuviliaeva/miniconda3/envs/is_project/lib/python3.9/site-packages/torch/utils/data/dataloader.py\", line 1320, in _shutdown_workers\n",
      "    if w.is_alive():\n",
      "  File \"/home/ichuviliaeva/miniconda3/envs/is_project/lib/python3.9/multiprocessing/process.py\", line 160, in is_alive\n",
      "    assert self._parent_pid == os.getpid(), 'can only test a child process'\n",
      "AssertionError: can only test a child process\n",
      "Exception ignored in: <function _MultiProcessingDataLoaderIter.__del__ at 0x7f8ca8a0e3a0>\n",
      "Traceback (most recent call last):\n",
      "  File \"/home/ichuviliaeva/miniconda3/envs/is_project/lib/python3.9/site-packages/torch/utils/data/dataloader.py\", line 1328, in __del__\n",
      "Exception ignored in:     <function _MultiProcessingDataLoaderIter.__del__ at 0x7f8ca8a0e3a0>\n",
      "self._shutdown_workers()Traceback (most recent call last):\n",
      "\n",
      "  File \"/home/ichuviliaeva/miniconda3/envs/is_project/lib/python3.9/site-packages/torch/utils/data/dataloader.py\", line 1320, in _shutdown_workers\n",
      "    if w.is_alive():\n",
      "  File \"/home/ichuviliaeva/miniconda3/envs/is_project/lib/python3.9/multiprocessing/process.py\", line 160, in is_alive\n",
      "    assert self._parent_pid == os.getpid(), 'can only test a child process'  File \"/home/ichuviliaeva/miniconda3/envs/is_project/lib/python3.9/site-packages/torch/utils/data/dataloader.py\", line 1328, in __del__\n",
      "\n",
      "    AssertionErrorself._shutdown_workers(): \n",
      "can only test a child process  File \"/home/ichuviliaeva/miniconda3/envs/is_project/lib/python3.9/site-packages/torch/utils/data/dataloader.py\", line 1320, in _shutdown_workers\n",
      "\n",
      "    if w.is_alive():\n",
      "  File \"/home/ichuviliaeva/miniconda3/envs/is_project/lib/python3.9/multiprocessing/process.py\", line 160, in is_alive\n",
      "    assert self._parent_pid == os.getpid(), 'can only test a child process'\n",
      "AssertionError: can only test a child process\n",
      "Exception ignored in: <function _MultiProcessingDataLoaderIter.__del__ at 0x7f8ca8a0e3a0>\n",
      "Traceback (most recent call last):\n",
      "  File \"/home/ichuviliaeva/miniconda3/envs/is_project/lib/python3.9/site-packages/torch/utils/data/dataloader.py\", line 1328, in __del__\n",
      "    self._shutdown_workers()\n",
      "  File \"/home/ichuviliaeva/miniconda3/envs/is_project/lib/python3.9/site-packages/torch/utils/data/dataloader.py\", line 1320, in _shutdown_workers\n",
      "    if w.is_alive():\n",
      "  File \"/home/ichuviliaeva/miniconda3/envs/is_project/lib/python3.9/multiprocessing/process.py\", line 160, in is_alive\n",
      "    assert self._parent_pid == os.getpid(), 'can only test a child process'\n",
      "AssertionError: can only test a child process\n",
      "Exception ignored in: <function _MultiProcessingDataLoaderIter.__del__ at 0x7f8ca8a0e3a0>\n",
      "Traceback (most recent call last):\n",
      "  File \"/home/ichuviliaeva/miniconda3/envs/is_project/lib/python3.9/site-packages/torch/utils/data/dataloader.py\", line 1328, in __del__\n",
      "    self._shutdown_workers()\n",
      "  File \"/home/ichuviliaeva/miniconda3/envs/is_project/lib/python3.9/site-packages/torch/utils/data/dataloader.py\", line 1320, in _shutdown_workers\n",
      "    if w.is_alive():\n",
      "  File \"/home/ichuviliaeva/miniconda3/envs/is_project/lib/python3.9/multiprocessing/process.py\", line 160, in is_alive\n",
      "    assert self._parent_pid == os.getpid(), 'can only test a child process'\n",
      "AssertionError: can only test a child process\n",
      "Exception ignored in: <function _MultiProcessingDataLoaderIter.__del__ at 0x7f8ca8a0e3a0>\n",
      "Traceback (most recent call last):\n",
      "  File \"/home/ichuviliaeva/miniconda3/envs/is_project/lib/python3.9/site-packages/torch/utils/data/dataloader.py\", line 1328, in __del__\n",
      "    self._shutdown_workers()\n",
      "  File \"/home/ichuviliaeva/miniconda3/envs/is_project/lib/python3.9/site-packages/torch/utils/data/dataloader.py\", line 1320, in _shutdown_workers\n",
      "    if w.is_alive():\n",
      "  File \"/home/ichuviliaeva/miniconda3/envs/is_project/lib/python3.9/multiprocessing/process.py\", line 160, in is_alive\n",
      "    assert self._parent_pid == os.getpid(), 'can only test a child process'\n",
      "AssertionError: can only test a child process\n",
      "Exception ignored in: <function _MultiProcessingDataLoaderIter.__del__ at 0x7f8ca8a0e3a0>\n",
      "Traceback (most recent call last):\n",
      "  File \"/home/ichuviliaeva/miniconda3/envs/is_project/lib/python3.9/site-packages/torch/utils/data/dataloader.py\", line 1328, in __del__\n",
      "    self._shutdown_workers()\n",
      "  File \"/home/ichuviliaeva/miniconda3/envs/is_project/lib/python3.9/site-packages/torch/utils/data/dataloader.py\", line 1320, in _shutdown_workers\n"
     ]
    },
    {
     "name": "stderr",
     "output_type": "stream",
     "text": [
      "    if w.is_alive():\n",
      "  File \"/home/ichuviliaeva/miniconda3/envs/is_project/lib/python3.9/multiprocessing/process.py\", line 160, in is_alive\n",
      "    assert self._parent_pid == os.getpid(), 'can only test a child process'\n",
      "AssertionError: can only test a child process\n"
     ]
    },
    {
     "data": {
      "application/vnd.jupyter.widget-view+json": {
       "model_id": "7436db2814a04e8eaf3cc2ac679b4422",
       "version_major": 2,
       "version_minor": 0
      },
      "text/plain": [
       "  0%|          | 0/315 [00:00<?, ?it/s]"
      ]
     },
     "metadata": {},
     "output_type": "display_data"
    },
    {
     "name": "stderr",
     "output_type": "stream",
     "text": [
      "Exception ignored in: <function _MultiProcessingDataLoaderIter.__del__ at 0x7f8ca8a0e3a0>\n",
      "Traceback (most recent call last):\n",
      "  File \"/home/ichuviliaeva/miniconda3/envs/is_project/lib/python3.9/site-packages/torch/utils/data/dataloader.py\", line 1328, in __del__\n",
      "    self._shutdown_workers()\n",
      "  File \"/home/ichuviliaeva/miniconda3/envs/is_project/lib/python3.9/site-packages/torch/utils/data/dataloader.py\", line 1320, in _shutdown_workers\n",
      "    if w.is_alive():\n",
      "  File \"/home/ichuviliaeva/miniconda3/envs/is_project/lib/python3.9/multiprocessing/process.py\", line 160, in is_alive\n",
      "    assert self._parent_pid == os.getpid(), 'can only test a child process'\n",
      "AssertionError: can only test a child process\n",
      "Exception ignored in: <function _MultiProcessingDataLoaderIter.__del__ at 0x7f8ca8a0e3a0>\n",
      "Traceback (most recent call last):\n",
      "  File \"/home/ichuviliaeva/miniconda3/envs/is_project/lib/python3.9/site-packages/torch/utils/data/dataloader.py\", line 1328, in __del__\n",
      "    self._shutdown_workers()\n",
      "  File \"/home/ichuviliaeva/miniconda3/envs/is_project/lib/python3.9/site-packages/torch/utils/data/dataloader.py\", line 1320, in _shutdown_workers\n",
      "    if w.is_alive():\n",
      "  File \"/home/ichuviliaeva/miniconda3/envs/is_project/lib/python3.9/multiprocessing/process.py\", line 160, in is_alive\n",
      "    assert self._parent_pid == os.getpid(), 'can only test a child process'\n",
      "AssertionError: can only test a child process\n",
      "Exception ignored in: <function _MultiProcessingDataLoaderIter.__del__ at 0x7f8ca8a0e3a0>\n",
      "Traceback (most recent call last):\n",
      "  File \"/home/ichuviliaeva/miniconda3/envs/is_project/lib/python3.9/site-packages/torch/utils/data/dataloader.py\", line 1328, in __del__\n",
      "    self._shutdown_workers()\n",
      "  File \"/home/ichuviliaeva/miniconda3/envs/is_project/lib/python3.9/site-packages/torch/utils/data/dataloader.py\", line 1320, in _shutdown_workers\n",
      "    if w.is_alive():\n",
      "  File \"/home/ichuviliaeva/miniconda3/envs/is_project/lib/python3.9/multiprocessing/process.py\", line 160, in is_alive\n",
      "    assert self._parent_pid == os.getpid(), 'can only test a child process'\n",
      "AssertionError: can only test a child process\n",
      "Exception ignored in: <function _MultiProcessingDataLoaderIter.__del__ at 0x7f8ca8a0e3a0>\n",
      "Traceback (most recent call last):\n",
      "  File \"/home/ichuviliaeva/miniconda3/envs/is_project/lib/python3.9/site-packages/torch/utils/data/dataloader.py\", line 1328, in __del__\n",
      "    self._shutdown_workers()\n",
      "  File \"/home/ichuviliaeva/miniconda3/envs/is_project/lib/python3.9/site-packages/torch/utils/data/dataloader.py\", line 1320, in _shutdown_workers\n",
      "    if w.is_alive():\n",
      "  File \"/home/ichuviliaeva/miniconda3/envs/is_project/lib/python3.9/multiprocessing/process.py\", line 160, in is_alive\n",
      "    assert self._parent_pid == os.getpid(), 'can only test a child process'\n",
      "AssertionError: can only test a child process\n",
      "Exception ignored in: <function _MultiProcessingDataLoaderIter.__del__ at 0x7f8ca8a0e3a0>\n",
      "\n",
      "Traceback (most recent call last):\n",
      "  File \"/home/ichuviliaeva/miniconda3/envs/is_project/lib/python3.9/site-packages/torch/utils/data/dataloader.py\", line 1328, in __del__\n",
      "    self._shutdown_workers()\n",
      "  File \"/home/ichuviliaeva/miniconda3/envs/is_project/lib/python3.9/site-packages/torch/utils/data/dataloader.py\", line 1320, in _shutdown_workers\n",
      "    if w.is_alive():\n",
      "  File \"/home/ichuviliaeva/miniconda3/envs/is_project/lib/python3.9/multiprocessing/process.py\", line 160, in is_alive\n",
      "    assert self._parent_pid == os.getpid(), 'can only test a child process'\n",
      "AssertionError: can only test a child processException ignored in: <function _MultiProcessingDataLoaderIter.__del__ at 0x7f8ca8a0e3a0>\n",
      "Traceback (most recent call last):\n",
      "  File \"/home/ichuviliaeva/miniconda3/envs/is_project/lib/python3.9/site-packages/torch/utils/data/dataloader.py\", line 1328, in __del__\n",
      "    self._shutdown_workers()\n",
      "  File \"/home/ichuviliaeva/miniconda3/envs/is_project/lib/python3.9/site-packages/torch/utils/data/dataloader.py\", line 1320, in _shutdown_workers\n",
      "    if w.is_alive():\n",
      "  File \"/home/ichuviliaeva/miniconda3/envs/is_project/lib/python3.9/multiprocessing/process.py\", line 160, in is_alive\n",
      "    assert self._parent_pid == os.getpid(), 'can only test a child process'\n",
      "AssertionError: can only test a child process\n",
      "Exception ignored in: <function _MultiProcessingDataLoaderIter.__del__ at 0x7f8ca8a0e3a0>\n",
      "Traceback (most recent call last):\n",
      "  File \"/home/ichuviliaeva/miniconda3/envs/is_project/lib/python3.9/site-packages/torch/utils/data/dataloader.py\", line 1328, in __del__\n",
      "    self._shutdown_workers()\n",
      "Exception ignored in:   File \"/home/ichuviliaeva/miniconda3/envs/is_project/lib/python3.9/site-packages/torch/utils/data/dataloader.py\", line 1320, in _shutdown_workers\n",
      "    <function _MultiProcessingDataLoaderIter.__del__ at 0x7f8ca8a0e3a0>\n",
      "if w.is_alive():Traceback (most recent call last):\n",
      "\n",
      "  File \"/home/ichuviliaeva/miniconda3/envs/is_project/lib/python3.9/site-packages/torch/utils/data/dataloader.py\", line 1328, in __del__\n",
      "  File \"/home/ichuviliaeva/miniconda3/envs/is_project/lib/python3.9/multiprocessing/process.py\", line 160, in is_alive\n",
      "        self._shutdown_workers()\n",
      "assert self._parent_pid == os.getpid(), 'can only test a child process'\n",
      "  File \"/home/ichuviliaeva/miniconda3/envs/is_project/lib/python3.9/site-packages/torch/utils/data/dataloader.py\", line 1320, in _shutdown_workers\n",
      "AssertionError:     can only test a child processif w.is_alive():\n",
      "\n",
      "  File \"/home/ichuviliaeva/miniconda3/envs/is_project/lib/python3.9/multiprocessing/process.py\", line 160, in is_alive\n",
      "    assert self._parent_pid == os.getpid(), 'can only test a child process'\n",
      "AssertionError: can only test a child process\n",
      "Exception ignored in: <function _MultiProcessingDataLoaderIter.__del__ at 0x7f8ca8a0e3a0>\n",
      "Traceback (most recent call last):\n",
      "  File \"/home/ichuviliaeva/miniconda3/envs/is_project/lib/python3.9/site-packages/torch/utils/data/dataloader.py\", line 1328, in __del__\n",
      "    self._shutdown_workers()\n",
      "Exception ignored in:   File \"/home/ichuviliaeva/miniconda3/envs/is_project/lib/python3.9/site-packages/torch/utils/data/dataloader.py\", line 1320, in _shutdown_workers\n",
      "if w.is_alive():    <function _MultiProcessingDataLoaderIter.__del__ at 0x7f8ca8a0e3a0>\n",
      "\n",
      "  File \"/home/ichuviliaeva/miniconda3/envs/is_project/lib/python3.9/multiprocessing/process.py\", line 160, in is_alive\n",
      "Traceback (most recent call last):\n",
      "      File \"/home/ichuviliaeva/miniconda3/envs/is_project/lib/python3.9/site-packages/torch/utils/data/dataloader.py\", line 1328, in __del__\n",
      "    assert self._parent_pid == os.getpid(), 'can only test a child process'\n",
      "AssertionError: can only test a child process\n",
      "self._shutdown_workers()\n",
      "  File \"/home/ichuviliaeva/miniconda3/envs/is_project/lib/python3.9/site-packages/torch/utils/data/dataloader.py\", line 1320, in _shutdown_workers\n",
      "    Exception ignored in: if w.is_alive():<function _MultiProcessingDataLoaderIter.__del__ at 0x7f8ca8a0e3a0>Exception ignored in: \n",
      "  File \"/home/ichuviliaeva/miniconda3/envs/is_project/lib/python3.9/multiprocessing/process.py\", line 160, in is_alive\n",
      "\n",
      "<function _MultiProcessingDataLoaderIter.__del__ at 0x7f8ca8a0e3a0>    Traceback (most recent call last):\n",
      "\n",
      "assert self._parent_pid == os.getpid(), 'can only test a child process'  File \"/home/ichuviliaeva/miniconda3/envs/is_project/lib/python3.9/site-packages/torch/utils/data/dataloader.py\", line 1328, in __del__\n",
      "Traceback (most recent call last):\n",
      "    self._shutdown_workers()\n",
      "  File \"/home/ichuviliaeva/miniconda3/envs/is_project/lib/python3.9/site-packages/torch/utils/data/dataloader.py\", line 1328, in __del__\n",
      "AssertionError\n",
      "    :   File \"/home/ichuviliaeva/miniconda3/envs/is_project/lib/python3.9/site-packages/torch/utils/data/dataloader.py\", line 1320, in _shutdown_workers\n",
      "self._shutdown_workers()can only test a child process\n",
      "\n",
      "      File \"/home/ichuviliaeva/miniconda3/envs/is_project/lib/python3.9/site-packages/torch/utils/data/dataloader.py\", line 1320, in _shutdown_workers\n",
      "if w.is_alive():    \n",
      "if w.is_alive():  File \"/home/ichuviliaeva/miniconda3/envs/is_project/lib/python3.9/multiprocessing/process.py\", line 160, in is_alive\n",
      "\n",
      "      File \"/home/ichuviliaeva/miniconda3/envs/is_project/lib/python3.9/multiprocessing/process.py\", line 160, in is_alive\n",
      "assert self._parent_pid == os.getpid(), 'can only test a child process'\n",
      "AssertionError    : can only test a child processassert self._parent_pid == os.getpid(), 'can only test a child process'\n",
      "\n",
      "AssertionError: can only test a child process\n",
      "Exception ignored in: <function _MultiProcessingDataLoaderIter.__del__ at 0x7f8ca8a0e3a0>\n",
      "Traceback (most recent call last):\n",
      "  File \"/home/ichuviliaeva/miniconda3/envs/is_project/lib/python3.9/site-packages/torch/utils/data/dataloader.py\", line 1328, in __del__\n",
      "Exception ignored in: <function _MultiProcessingDataLoaderIter.__del__ at 0x7f8ca8a0e3a0>    \n",
      "Exception ignored in: self._shutdown_workers()\n",
      "<function _MultiProcessingDataLoaderIter.__del__ at 0x7f8ca8a0e3a0>Traceback (most recent call last):\n",
      "\n",
      "  File \"/home/ichuviliaeva/miniconda3/envs/is_project/lib/python3.9/site-packages/torch/utils/data/dataloader.py\", line 1328, in __del__\n",
      "      File \"/home/ichuviliaeva/miniconda3/envs/is_project/lib/python3.9/site-packages/torch/utils/data/dataloader.py\", line 1320, in _shutdown_workers\n",
      "Traceback (most recent call last):\n",
      "  File \"/home/ichuviliaeva/miniconda3/envs/is_project/lib/python3.9/site-packages/torch/utils/data/dataloader.py\", line 1328, in __del__\n",
      "    self._shutdown_workers()    if w.is_alive():\n",
      "\n",
      "  File \"/home/ichuviliaeva/miniconda3/envs/is_project/lib/python3.9/multiprocessing/process.py\", line 160, in is_alive\n",
      "  File \"/home/ichuviliaeva/miniconda3/envs/is_project/lib/python3.9/site-packages/torch/utils/data/dataloader.py\", line 1320, in _shutdown_workers\n",
      "self._shutdown_workers()        \n",
      "  File \"/home/ichuviliaeva/miniconda3/envs/is_project/lib/python3.9/site-packages/torch/utils/data/dataloader.py\", line 1320, in _shutdown_workers\n",
      "    if w.is_alive():if w.is_alive():assert self._parent_pid == os.getpid(), 'can only test a child process'\n",
      "\n",
      "  File \"/home/ichuviliaeva/miniconda3/envs/is_project/lib/python3.9/multiprocessing/process.py\", line 160, in is_alive\n",
      "  File \"/home/ichuviliaeva/miniconda3/envs/is_project/lib/python3.9/multiprocessing/process.py\", line 160, in is_alive\n",
      "    \n",
      "AssertionError    assert self._parent_pid == os.getpid(), 'can only test a child process': can only test a child process\n",
      "AssertionError\n",
      ": can only test a child process\n",
      "assert self._parent_pid == os.getpid(), 'can only test a child process'\n",
      "AssertionError: can only test a child process\n",
      "Exception ignored in: \n",
      "<function _MultiProcessingDataLoaderIter.__del__ at 0x7f8ca8a0e3a0>\n",
      "Traceback (most recent call last):\n",
      "  File \"/home/ichuviliaeva/miniconda3/envs/is_project/lib/python3.9/site-packages/torch/utils/data/dataloader.py\", line 1328, in __del__\n",
      "    self._shutdown_workers()\n",
      "  File \"/home/ichuviliaeva/miniconda3/envs/is_project/lib/python3.9/site-packages/torch/utils/data/dataloader.py\", line 1320, in _shutdown_workers\n",
      "    if w.is_alive():\n",
      "  File \"/home/ichuviliaeva/miniconda3/envs/is_project/lib/python3.9/multiprocessing/process.py\", line 160, in is_alive\n",
      "    assert self._parent_pid == os.getpid(), 'can only test a child process'\n",
      "AssertionError: can only test a child processException ignored in: <function _MultiProcessingDataLoaderIter.__del__ at 0x7f8ca8a0e3a0>\n",
      "Exception ignored in: <function _MultiProcessingDataLoaderIter.__del__ at 0x7f8ca8a0e3a0>\n",
      "Traceback (most recent call last):\n",
      "  File \"/home/ichuviliaeva/miniconda3/envs/is_project/lib/python3.9/site-packages/torch/utils/data/dataloader.py\", line 1328, in __del__\n",
      "Traceback (most recent call last):\n",
      "  File \"/home/ichuviliaeva/miniconda3/envs/is_project/lib/python3.9/site-packages/torch/utils/data/dataloader.py\", line 1328, in __del__\n",
      "Exception ignored in: self._shutdown_workers()    self._shutdown_workers()    \n",
      "  File \"/home/ichuviliaeva/miniconda3/envs/is_project/lib/python3.9/site-packages/torch/utils/data/dataloader.py\", line 1320, in _shutdown_workers\n",
      "<function _MultiProcessingDataLoaderIter.__del__ at 0x7f8ca8a0e3a0>    \n",
      "\n",
      "  File \"/home/ichuviliaeva/miniconda3/envs/is_project/lib/python3.9/site-packages/torch/utils/data/dataloader.py\", line 1320, in _shutdown_workers\n",
      "    Traceback (most recent call last):\n",
      "if w.is_alive():if w.is_alive():  File \"/home/ichuviliaeva/miniconda3/envs/is_project/lib/python3.9/site-packages/torch/utils/data/dataloader.py\", line 1328, in __del__\n",
      "    \n",
      "\n",
      "  File \"/home/ichuviliaeva/miniconda3/envs/is_project/lib/python3.9/multiprocessing/process.py\", line 160, in is_alive\n",
      "    assert self._parent_pid == os.getpid(), 'can only test a child process'self._shutdown_workers()\n",
      "\n",
      "  File \"/home/ichuviliaeva/miniconda3/envs/is_project/lib/python3.9/site-packages/torch/utils/data/dataloader.py\", line 1320, in _shutdown_workers\n",
      "  File \"/home/ichuviliaeva/miniconda3/envs/is_project/lib/python3.9/multiprocessing/process.py\", line 160, in is_alive\n",
      "    AssertionErrorassert self._parent_pid == os.getpid(), 'can only test a child process'    : can only test a child processif w.is_alive():\n",
      "\n",
      "\n",
      "  File \"/home/ichuviliaeva/miniconda3/envs/is_project/lib/python3.9/multiprocessing/process.py\", line 160, in is_alive\n",
      "    AssertionErrorassert self._parent_pid == os.getpid(), 'can only test a child process'\n",
      "AssertionError: : can only test a child process\n",
      "can only test a child process\n",
      "Exception ignored in: <function _MultiProcessingDataLoaderIter.__del__ at 0x7f8ca8a0e3a0>\n",
      "Traceback (most recent call last):\n",
      "  File \"/home/ichuviliaeva/miniconda3/envs/is_project/lib/python3.9/site-packages/torch/utils/data/dataloader.py\", line 1328, in __del__\n",
      "    self._shutdown_workers()\n",
      "  File \"/home/ichuviliaeva/miniconda3/envs/is_project/lib/python3.9/site-packages/torch/utils/data/dataloader.py\", line 1320, in _shutdown_workers\n",
      "    if w.is_alive():\n",
      "  File \"/home/ichuviliaeva/miniconda3/envs/is_project/lib/python3.9/multiprocessing/process.py\", line 160, in is_alive\n",
      "Exception ignored in:     <function _MultiProcessingDataLoaderIter.__del__ at 0x7f8ca8a0e3a0>\n",
      "Traceback (most recent call last):\n",
      "assert self._parent_pid == os.getpid(), 'can only test a child process'  File \"/home/ichuviliaeva/miniconda3/envs/is_project/lib/python3.9/site-packages/torch/utils/data/dataloader.py\", line 1328, in __del__\n",
      "Exception ignored in:     <function _MultiProcessingDataLoaderIter.__del__ at 0x7f8ca8a0e3a0>\n",
      "\n",
      "self._shutdown_workers()AssertionError\n",
      ":   File \"/home/ichuviliaeva/miniconda3/envs/is_project/lib/python3.9/site-packages/torch/utils/data/dataloader.py\", line 1320, in _shutdown_workers\n",
      "    can only test a child process    if w.is_alive():\n",
      "Traceback (most recent call last):\n",
      "\n",
      "  File \"/home/ichuviliaeva/miniconda3/envs/is_project/lib/python3.9/multiprocessing/process.py\", line 160, in is_alive\n",
      "  File \"/home/ichuviliaeva/miniconda3/envs/is_project/lib/python3.9/site-packages/torch/utils/data/dataloader.py\", line 1328, in __del__\n",
      "    assert self._parent_pid == os.getpid(), 'can only test a child process'\n",
      "    self._shutdown_workers()AssertionError: can only test a child process\n",
      "  File \"/home/ichuviliaeva/miniconda3/envs/is_project/lib/python3.9/site-packages/torch/utils/data/dataloader.py\", line 1320, in _shutdown_workers\n",
      "\n",
      "    if w.is_alive():\n",
      "  File \"/home/ichuviliaeva/miniconda3/envs/is_project/lib/python3.9/multiprocessing/process.py\", line 160, in is_alive\n",
      "assert self._parent_pid == os.getpid(), 'can only test a child process'\n",
      "AssertionError: can only test a child process\n",
      "Exception ignored in: <function _MultiProcessingDataLoaderIter.__del__ at 0x7f8ca8a0e3a0>\n",
      "Traceback (most recent call last):\n",
      "  File \"/home/ichuviliaeva/miniconda3/envs/is_project/lib/python3.9/site-packages/torch/utils/data/dataloader.py\", line 1328, in __del__\n",
      "    Exception ignored in: <function _MultiProcessingDataLoaderIter.__del__ at 0x7f8ca8a0e3a0>self._shutdown_workers()\n",
      "\n",
      "  File \"/home/ichuviliaeva/miniconda3/envs/is_project/lib/python3.9/site-packages/torch/utils/data/dataloader.py\", line 1320, in _shutdown_workers\n",
      "Traceback (most recent call last):\n",
      "      File \"/home/ichuviliaeva/miniconda3/envs/is_project/lib/python3.9/site-packages/torch/utils/data/dataloader.py\", line 1328, in __del__\n",
      "if w.is_alive():\n",
      "      File \"/home/ichuviliaeva/miniconda3/envs/is_project/lib/python3.9/multiprocessing/process.py\", line 160, in is_alive\n",
      "self._shutdown_workers()\n",
      "  File \"/home/ichuviliaeva/miniconda3/envs/is_project/lib/python3.9/site-packages/torch/utils/data/dataloader.py\", line 1320, in _shutdown_workers\n"
     ]
    },
    {
     "name": "stderr",
     "output_type": "stream",
     "text": [
      "    if w.is_alive():\n",
      "      File \"/home/ichuviliaeva/miniconda3/envs/is_project/lib/python3.9/multiprocessing/process.py\", line 160, in is_alive\n",
      "assert self._parent_pid == os.getpid(), 'can only test a child process'    \n",
      "AssertionErrorassert self._parent_pid == os.getpid(), 'can only test a child process': \n",
      "can only test a child processAssertionError\n",
      ": can only test a child process\n"
     ]
    },
    {
     "name": "stdout",
     "output_type": "stream",
     "text": [
      "accuracy: 0.2501733609056032\n",
      "Epoch 1:\n"
     ]
    },
    {
     "data": {
      "application/vnd.jupyter.widget-view+json": {
       "model_id": "6bdce7e4c02c41478491b16ba042c93a",
       "version_major": 2,
       "version_minor": 0
      },
      "text/plain": [
       "  0%|          | 0/5036 [00:00<?, ?it/s]"
      ]
     },
     "metadata": {},
     "output_type": "display_data"
    },
    {
     "data": {
      "application/vnd.jupyter.widget-view+json": {
       "model_id": "29eddbc70dbd4836b3cb26d756828381",
       "version_major": 2,
       "version_minor": 0
      },
      "text/plain": [
       "  0%|          | 0/315 [00:00<?, ?it/s]"
      ]
     },
     "metadata": {},
     "output_type": "display_data"
    },
    {
     "name": "stdout",
     "output_type": "stream",
     "text": [
      "accuracy: 0.49453699839747817\n",
      "Epoch 2:\n"
     ]
    },
    {
     "data": {
      "application/vnd.jupyter.widget-view+json": {
       "model_id": "8cf71d9b695547afa22869e72a3e7c30",
       "version_major": 2,
       "version_minor": 0
      },
      "text/plain": [
       "  0%|          | 0/5036 [00:00<?, ?it/s]"
      ]
     },
     "metadata": {},
     "output_type": "display_data"
    },
    {
     "data": {
      "application/vnd.jupyter.widget-view+json": {
       "model_id": "ed631868fece46ba9cb97ef24faeff30",
       "version_major": 2,
       "version_minor": 0
      },
      "text/plain": [
       "  0%|          | 0/315 [00:00<?, ?it/s]"
      ]
     },
     "metadata": {},
     "output_type": "display_data"
    },
    {
     "name": "stdout",
     "output_type": "stream",
     "text": [
      "accuracy: 0.6235330254464334\n",
      "Epoch 3:\n"
     ]
    },
    {
     "data": {
      "application/vnd.jupyter.widget-view+json": {
       "model_id": "6bb7bc812f7d4102bdd5103d6e8d9602",
       "version_major": 2,
       "version_minor": 0
      },
      "text/plain": [
       "  0%|          | 0/5036 [00:00<?, ?it/s]"
      ]
     },
     "metadata": {},
     "output_type": "display_data"
    },
    {
     "data": {
      "application/vnd.jupyter.widget-view+json": {
       "model_id": "3476cc768a454b10b402159273851f96",
       "version_major": 2,
       "version_minor": 0
      },
      "text/plain": [
       "  0%|          | 0/315 [00:00<?, ?it/s]"
      ]
     },
     "metadata": {},
     "output_type": "display_data"
    },
    {
     "name": "stdout",
     "output_type": "stream",
     "text": [
      "accuracy: 0.7020333256284041\n",
      "Epoch 4:\n"
     ]
    },
    {
     "data": {
      "application/vnd.jupyter.widget-view+json": {
       "model_id": "67b8ca4d0efe4bf6aa49fffa18c782f4",
       "version_major": 2,
       "version_minor": 0
      },
      "text/plain": [
       "  0%|          | 0/5036 [00:00<?, ?it/s]"
      ]
     },
     "metadata": {},
     "output_type": "display_data"
    },
    {
     "data": {
      "application/vnd.jupyter.widget-view+json": {
       "model_id": "d91d224d46904733b59a944d61b72efc",
       "version_major": 2,
       "version_minor": 0
      },
      "text/plain": [
       "  0%|          | 0/315 [00:00<?, ?it/s]"
      ]
     },
     "metadata": {},
     "output_type": "display_data"
    },
    {
     "name": "stdout",
     "output_type": "stream",
     "text": [
      "accuracy: 0.7630765316649317\n",
      "Epoch 5:\n"
     ]
    },
    {
     "data": {
      "application/vnd.jupyter.widget-view+json": {
       "model_id": "d0aa26ebdb2146dc81e2359af0a0bd56",
       "version_major": 2,
       "version_minor": 0
      },
      "text/plain": [
       "  0%|          | 0/5036 [00:00<?, ?it/s]"
      ]
     },
     "metadata": {},
     "output_type": "display_data"
    },
    {
     "data": {
      "application/vnd.jupyter.widget-view+json": {
       "model_id": "189a1f2ac17a4c12a3f7a6e386dd65ba",
       "version_major": 2,
       "version_minor": 0
      },
      "text/plain": [
       "  0%|          | 0/315 [00:00<?, ?it/s]"
      ]
     },
     "metadata": {},
     "output_type": "display_data"
    },
    {
     "name": "stdout",
     "output_type": "stream",
     "text": [
      "accuracy: 0.7886703412456233\n",
      "Epoch 6:\n"
     ]
    },
    {
     "data": {
      "application/vnd.jupyter.widget-view+json": {
       "model_id": "a72a00f6d4b543f1a9cdd515cf6ec8e0",
       "version_major": 2,
       "version_minor": 0
      },
      "text/plain": [
       "  0%|          | 0/5036 [00:00<?, ?it/s]"
      ]
     },
     "metadata": {},
     "output_type": "display_data"
    },
    {
     "data": {
      "application/vnd.jupyter.widget-view+json": {
       "model_id": "f78bad37a41a4b559a6dfcba8e16ff5a",
       "version_major": 2,
       "version_minor": 0
      },
      "text/plain": [
       "  0%|          | 0/315 [00:00<?, ?it/s]"
      ]
     },
     "metadata": {},
     "output_type": "display_data"
    },
    {
     "name": "stdout",
     "output_type": "stream",
     "text": [
      "accuracy: 0.7748387006697083\n",
      "Epoch 7:\n"
     ]
    },
    {
     "data": {
      "application/vnd.jupyter.widget-view+json": {
       "model_id": "862ec9dc871040018c17ee239f1be789",
       "version_major": 2,
       "version_minor": 0
      },
      "text/plain": [
       "  0%|          | 0/5036 [00:00<?, ?it/s]"
      ]
     },
     "metadata": {},
     "output_type": "display_data"
    },
    {
     "data": {
      "application/vnd.jupyter.widget-view+json": {
       "model_id": "b39a75cb7d8b47b99f85822b55ef5636",
       "version_major": 2,
       "version_minor": 0
      },
      "text/plain": [
       "  0%|          | 0/315 [00:00<?, ?it/s]"
      ]
     },
     "metadata": {},
     "output_type": "display_data"
    },
    {
     "name": "stdout",
     "output_type": "stream",
     "text": [
      "accuracy: 0.8147450625107623\n",
      "Epoch 8:\n"
     ]
    },
    {
     "data": {
      "application/vnd.jupyter.widget-view+json": {
       "model_id": "f475ae7567994dbdb07e3876d436658f",
       "version_major": 2,
       "version_minor": 0
      },
      "text/plain": [
       "  0%|          | 0/5036 [00:00<?, ?it/s]"
      ]
     },
     "metadata": {},
     "output_type": "display_data"
    },
    {
     "data": {
      "application/vnd.jupyter.widget-view+json": {
       "model_id": "2dad6d32bb2848febc04338faf444264",
       "version_major": 2,
       "version_minor": 0
      },
      "text/plain": [
       "  0%|          | 0/315 [00:00<?, ?it/s]"
      ]
     },
     "metadata": {},
     "output_type": "display_data"
    },
    {
     "name": "stdout",
     "output_type": "stream",
     "text": [
      "accuracy: 0.8534243238924681\n",
      "Epoch 9:\n"
     ]
    },
    {
     "data": {
      "application/vnd.jupyter.widget-view+json": {
       "model_id": "4638998839e34a2395135ca04fda58fa",
       "version_major": 2,
       "version_minor": 0
      },
      "text/plain": [
       "  0%|          | 0/5036 [00:00<?, ?it/s]"
      ]
     },
     "metadata": {},
     "output_type": "display_data"
    },
    {
     "data": {
      "application/vnd.jupyter.widget-view+json": {
       "model_id": "d57fd2f2f0ce49aa89f83406d20da811",
       "version_major": 2,
       "version_minor": 0
      },
      "text/plain": [
       "  0%|          | 0/315 [00:00<?, ?it/s]"
      ]
     },
     "metadata": {},
     "output_type": "display_data"
    },
    {
     "name": "stdout",
     "output_type": "stream",
     "text": [
      "accuracy: 0.8479884705301973\n",
      "Epoch 10:\n"
     ]
    },
    {
     "data": {
      "application/vnd.jupyter.widget-view+json": {
       "model_id": "e3f57631cc4c4002b73101c71f8305fa",
       "version_major": 2,
       "version_minor": 0
      },
      "text/plain": [
       "  0%|          | 0/5036 [00:00<?, ?it/s]"
      ]
     },
     "metadata": {},
     "output_type": "display_data"
    },
    {
     "data": {
      "application/vnd.jupyter.widget-view+json": {
       "model_id": "f1e6281f17564e73b36fbb01afe7a63f",
       "version_major": 2,
       "version_minor": 0
      },
      "text/plain": [
       "  0%|          | 0/315 [00:00<?, ?it/s]"
      ]
     },
     "metadata": {},
     "output_type": "display_data"
    },
    {
     "name": "stdout",
     "output_type": "stream",
     "text": [
      "accuracy: 0.8497492278264809\n"
     ]
    }
   ],
   "source": [
    "for epoch in range(11):\n",
    "    print(f'Epoch {epoch}:')\n",
    "    train_epoch(train_loader, val_loader, model, optim, loss_fn, alpha = 0.3)\n",
    "    accuracy = run_validation(val_loader, model)\n",
    "    print(f'accuracy: {accuracy}')\n",
    "    if epoch % 5 == 0:\n",
    "        torch.save(model.state_dict(), f'arch2_aug_epoch{epoch}.pth')"
   ]
  },
  {
   "cell_type": "code",
   "execution_count": null,
   "id": "11a3cbd1",
   "metadata": {},
   "outputs": [
    {
     "name": "stdout",
     "output_type": "stream",
     "text": [
      "Epoch 11:\n"
     ]
    },
    {
     "data": {
      "application/vnd.jupyter.widget-view+json": {
       "model_id": "2d17e4e85b8d4f08a3b53884a12922fb",
       "version_major": 2,
       "version_minor": 0
      },
      "text/plain": [
       "  0%|          | 0/5036 [00:00<?, ?it/s]"
      ]
     },
     "metadata": {},
     "output_type": "display_data"
    },
    {
     "data": {
      "application/vnd.jupyter.widget-view+json": {
       "model_id": "cab29c9c080d487fa4a8bb9ffa99d26f",
       "version_major": 2,
       "version_minor": 0
      },
      "text/plain": [
       "  0%|          | 0/315 [00:00<?, ?it/s]"
      ]
     },
     "metadata": {},
     "output_type": "display_data"
    },
    {
     "name": "stdout",
     "output_type": "stream",
     "text": [
      "accuracy: 0.8654036788192532\n",
      "Epoch 12:\n"
     ]
    },
    {
     "data": {
      "application/vnd.jupyter.widget-view+json": {
       "model_id": "3009d9ecc9b64be494105baa87aae333",
       "version_major": 2,
       "version_minor": 0
      },
      "text/plain": [
       "  0%|          | 0/5036 [00:00<?, ?it/s]"
      ]
     },
     "metadata": {},
     "output_type": "display_data"
    },
    {
     "data": {
      "application/vnd.jupyter.widget-view+json": {
       "model_id": "81757db521ec40e68e3e8b16b27de704",
       "version_major": 2,
       "version_minor": 0
      },
      "text/plain": [
       "  0%|          | 0/315 [00:00<?, ?it/s]"
      ]
     },
     "metadata": {},
     "output_type": "display_data"
    },
    {
     "name": "stdout",
     "output_type": "stream",
     "text": [
      "accuracy: 0.8706270002435585\n",
      "Epoch 13:\n"
     ]
    },
    {
     "data": {
      "application/vnd.jupyter.widget-view+json": {
       "model_id": "29348ee6500b4f28b5e9c6befeab65bd",
       "version_major": 2,
       "version_minor": 0
      },
      "text/plain": [
       "  0%|          | 0/5036 [00:00<?, ?it/s]"
      ]
     },
     "metadata": {},
     "output_type": "display_data"
    },
    {
     "data": {
      "application/vnd.jupyter.widget-view+json": {
       "model_id": "e72cc29fc97245cc9a80634c73037fcf",
       "version_major": 2,
       "version_minor": 0
      },
      "text/plain": [
       "  0%|          | 0/315 [00:00<?, ?it/s]"
      ]
     },
     "metadata": {},
     "output_type": "display_data"
    },
    {
     "name": "stdout",
     "output_type": "stream",
     "text": [
      "accuracy: 0.878200583609599\n",
      "Epoch 14:\n"
     ]
    },
    {
     "data": {
      "application/vnd.jupyter.widget-view+json": {
       "model_id": "2416180486464b599c3e4bc3f323c684",
       "version_major": 2,
       "version_minor": 0
      },
      "text/plain": [
       "  0%|          | 0/5036 [00:00<?, ?it/s]"
      ]
     },
     "metadata": {},
     "output_type": "display_data"
    },
    {
     "data": {
      "application/vnd.jupyter.widget-view+json": {
       "model_id": "64e7531caa5143c29338330741de7b6d",
       "version_major": 2,
       "version_minor": 0
      },
      "text/plain": [
       "  0%|          | 0/315 [00:00<?, ?it/s]"
      ]
     },
     "metadata": {},
     "output_type": "display_data"
    },
    {
     "name": "stdout",
     "output_type": "stream",
     "text": [
      "accuracy: 0.8767020007477401\n",
      "Epoch 15:\n"
     ]
    },
    {
     "data": {
      "application/vnd.jupyter.widget-view+json": {
       "model_id": "24f54a224463414b8713396fbf94b3ab",
       "version_major": 2,
       "version_minor": 0
      },
      "text/plain": [
       "  0%|          | 0/5036 [00:00<?, ?it/s]"
      ]
     },
     "metadata": {},
     "output_type": "display_data"
    },
    {
     "data": {
      "application/vnd.jupyter.widget-view+json": {
       "model_id": "d48803e7c9eb41f584410d245e5c065c",
       "version_major": 2,
       "version_minor": 0
      },
      "text/plain": [
       "  0%|          | 0/315 [00:00<?, ?it/s]"
      ]
     },
     "metadata": {},
     "output_type": "display_data"
    },
    {
     "name": "stdout",
     "output_type": "stream",
     "text": [
      "accuracy: 0.8822511010550582\n",
      "Epoch 16:\n"
     ]
    },
    {
     "data": {
      "application/vnd.jupyter.widget-view+json": {
       "model_id": "be3a6e7f663d40d992c6d4a391b479b5",
       "version_major": 2,
       "version_minor": 0
      },
      "text/plain": [
       "  0%|          | 0/5036 [00:00<?, ?it/s]"
      ]
     },
     "metadata": {},
     "output_type": "display_data"
    },
    {
     "data": {
      "application/vnd.jupyter.widget-view+json": {
       "model_id": "4f067d8209114cfa9f901e20a43b15c3",
       "version_major": 2,
       "version_minor": 0
      },
      "text/plain": [
       "  0%|          | 0/315 [00:00<?, ?it/s]"
      ]
     },
     "metadata": {},
     "output_type": "display_data"
    },
    {
     "name": "stdout",
     "output_type": "stream",
     "text": [
      "accuracy: 0.8796805505352857\n",
      "Epoch 17:\n"
     ]
    },
    {
     "data": {
      "application/vnd.jupyter.widget-view+json": {
       "model_id": "aeb40f4cdb4745e1b9c5f232b46ce0ff",
       "version_major": 2,
       "version_minor": 0
      },
      "text/plain": [
       "  0%|          | 0/5036 [00:00<?, ?it/s]"
      ]
     },
     "metadata": {},
     "output_type": "display_data"
    }
   ],
   "source": [
    "epoch = 11\n",
    "# changing alpha\n",
    "while epoch < 21:\n",
    "    print(f'Epoch {epoch}:')\n",
    "    train_epoch(train_loader, val_loader, model, optim, loss_fn, alpha = 0.5)\n",
    "    accuracy = run_validation(val_loader, model)\n",
    "    print(f'accuracy: {accuracy}')\n",
    "    if epoch % 5 == 0:\n",
    "        torch.save(model.state_dict(), f'arch2_aug_epoch{epoch}.pth')\n",
    "    epoch += 1"
   ]
  },
  {
   "cell_type": "code",
   "execution_count": 23,
   "id": "9e5eeea9",
   "metadata": {},
   "outputs": [
    {
     "data": {
      "text/plain": [
       "<All keys matched successfully>"
      ]
     },
     "execution_count": 23,
     "metadata": {},
     "output_type": "execute_result"
    }
   ],
   "source": [
    "model.load_state_dict(torch.load(f'arch2_aug_epoch15.pth'))"
   ]
  },
  {
   "cell_type": "code",
   "execution_count": 24,
   "id": "89c36d2e",
   "metadata": {
    "scrolled": true
   },
   "outputs": [
    {
     "name": "stdout",
     "output_type": "stream",
     "text": [
      "Epoch 16:\n"
     ]
    },
    {
     "data": {
      "application/vnd.jupyter.widget-view+json": {
       "model_id": "8d7ca5995f3e4dd7b7540f6f3de893d1",
       "version_major": 2,
       "version_minor": 0
      },
      "text/plain": [
       "  0%|          | 0/5036 [00:00<?, ?it/s]"
      ]
     },
     "metadata": {},
     "output_type": "display_data"
    },
    {
     "data": {
      "application/vnd.jupyter.widget-view+json": {
       "model_id": "a28d3e88e21e45abbe235eb4ec09cad9",
       "version_major": 2,
       "version_minor": 0
      },
      "text/plain": [
       "  0%|          | 0/315 [00:00<?, ?it/s]"
      ]
     },
     "metadata": {},
     "output_type": "display_data"
    },
    {
     "name": "stderr",
     "output_type": "stream",
     "text": [
      "Exception ignored in: <function _MultiProcessingDataLoaderIter.__del__ at 0x7f3237e8d3a0>\n",
      "Traceback (most recent call last):\n",
      "  File \"/home/ichuviliaeva/miniconda3/envs/is_project/lib/python3.9/site-packages/torch/utils/data/dataloader.py\", line 1328, in __del__\n",
      "    self._shutdown_workers()\n",
      "  File \"/home/ichuviliaeva/miniconda3/envs/is_project/lib/python3.9/site-packages/torch/utils/data/dataloader.py\", line 1320, in _shutdown_workers\n",
      "    if w.is_alive():\n",
      "  File \"/home/ichuviliaeva/miniconda3/envs/is_project/lib/python3.9/multiprocessing/process.py\", line 160, in is_alive\n",
      "    assert self._parent_pid == os.getpid(), 'can only test a child process'\n",
      "AssertionError: can only test a child process\n",
      "Exception ignored in: Exception ignored in: <function _MultiProcessingDataLoaderIter.__del__ at 0x7f3237e8d3a0>  File \"/home/ichuviliaeva/miniconda3/envs/is_project/lib/python3.9/site-packages/torch/utils/data/dataloader.py\", line 1320, in _shutdown_workers\n",
      "\n",
      "<function _MultiProcessingDataLoaderIter.__del__ at 0x7f3237e8d3a0>Traceback (most recent call last):\n",
      "  File \"/home/ichuviliaeva/miniconda3/envs/is_project/lib/python3.9/site-packages/torch/utils/data/dataloader.py\", line 1328, in __del__\n",
      "\n",
      "Traceback (most recent call last):\n",
      "      File \"/home/ichuviliaeva/miniconda3/envs/is_project/lib/python3.9/site-packages/torch/utils/data/dataloader.py\", line 1328, in __del__\n",
      "self._shutdown_workers()\n",
      "    self._shutdown_workers()  File \"/home/ichuviliaeva/miniconda3/envs/is_project/lib/python3.9/site-packages/torch/utils/data/dataloader.py\", line 1320, in _shutdown_workers\n",
      "\n",
      "    if w.is_alive():\n",
      "  File \"/home/ichuviliaeva/miniconda3/envs/is_project/lib/python3.9/multiprocessing/process.py\", line 160, in is_alive\n",
      "    if w.is_alive():    assert self._parent_pid == os.getpid(), 'can only test a child process'\n",
      "  File \"/home/ichuviliaeva/miniconda3/envs/is_project/lib/python3.9/multiprocessing/process.py\", line 160, in is_alive\n",
      ": \n",
      "AssertionErrorcan only test a child process\n",
      "    assert self._parent_pid == os.getpid(), 'can only test a child process'\n",
      "AssertionError: can only test a child process\n",
      "Exception ignored in: <function _MultiProcessingDataLoaderIter.__del__ at 0x7f3237e8d3a0>\n",
      "Traceback (most recent call last):\n",
      "  File \"/home/ichuviliaeva/miniconda3/envs/is_project/lib/python3.9/site-packages/torch/utils/data/dataloader.py\", line 1328, in __del__\n",
      "    self._shutdown_workers()\n",
      "  File \"/home/ichuviliaeva/miniconda3/envs/is_project/lib/python3.9/site-packages/torch/utils/data/dataloader.py\", line 1320, in _shutdown_workers\n",
      "    if w.is_alive():\n",
      "  File \"/home/ichuviliaeva/miniconda3/envs/is_project/lib/python3.9/multiprocessing/process.py\", line 160, in is_alive\n",
      "    assert self._parent_pid == os.getpid(), 'can only test a child process'\n",
      "AssertionError: can only test a child process\n",
      "Exception ignored in: <function _MultiProcessingDataLoaderIter.__del__ at 0x7f3237e8d3a0>\n",
      "Traceback (most recent call last):\n",
      "  File \"/home/ichuviliaeva/miniconda3/envs/is_project/lib/python3.9/site-packages/torch/utils/data/dataloader.py\", line 1328, in __del__\n",
      "    self._shutdown_workers()\n",
      "  File \"/home/ichuviliaeva/miniconda3/envs/is_project/lib/python3.9/site-packages/torch/utils/data/dataloader.py\", line 1320, in _shutdown_workers\n",
      "    if w.is_alive():\n",
      "  File \"/home/ichuviliaeva/miniconda3/envs/is_project/lib/python3.9/multiprocessing/process.py\", line 160, in is_alive\n",
      "    assert self._parent_pid == os.getpid(), 'can only test a child process'\n",
      "AssertionError: can only test a child process\n",
      "Exception ignored in: <function _MultiProcessingDataLoaderIter.__del__ at 0x7f3237e8d3a0>\n",
      "Traceback (most recent call last):\n",
      "  File \"/home/ichuviliaeva/miniconda3/envs/is_project/lib/python3.9/site-packages/torch/utils/data/dataloader.py\", line 1328, in __del__\n",
      "    self._shutdown_workers()\n",
      "  File \"/home/ichuviliaeva/miniconda3/envs/is_project/lib/python3.9/site-packages/torch/utils/data/dataloader.py\", line 1320, in _shutdown_workers\n",
      "    if w.is_alive():\n",
      "  File \"/home/ichuviliaeva/miniconda3/envs/is_project/lib/python3.9/multiprocessing/process.py\", line 160, in is_alive\n",
      "    assert self._parent_pid == os.getpid(), 'can only test a child process'\n",
      "AssertionError: can only test a child process\n",
      "Exception ignored in: <function _MultiProcessingDataLoaderIter.__del__ at 0x7f3237e8d3a0>\n",
      "Traceback (most recent call last):\n",
      "  File \"/home/ichuviliaeva/miniconda3/envs/is_project/lib/python3.9/site-packages/torch/utils/data/dataloader.py\", line 1328, in __del__\n",
      "    self._shutdown_workers()\n",
      "  File \"/home/ichuviliaeva/miniconda3/envs/is_project/lib/python3.9/site-packages/torch/utils/data/dataloader.py\", line 1320, in _shutdown_workers\n",
      "    if w.is_alive():\n",
      "  File \"/home/ichuviliaeva/miniconda3/envs/is_project/lib/python3.9/multiprocessing/process.py\", line 160, in is_alive\n",
      "    assert self._parent_pid == os.getpid(), 'can only test a child process'\n",
      "AssertionError: can only test a child process\n",
      "Exception ignored in: <function _MultiProcessingDataLoaderIter.__del__ at 0x7f3237e8d3a0>\n",
      "Traceback (most recent call last):\n",
      "  File \"/home/ichuviliaeva/miniconda3/envs/is_project/lib/python3.9/site-packages/torch/utils/data/dataloader.py\", line 1328, in __del__\n",
      "    self._shutdown_workers()\n",
      "  File \"/home/ichuviliaeva/miniconda3/envs/is_project/lib/python3.9/site-packages/torch/utils/data/dataloader.py\", line 1320, in _shutdown_workers\n",
      "    if w.is_alive():\n",
      "  File \"/home/ichuviliaeva/miniconda3/envs/is_project/lib/python3.9/multiprocessing/process.py\", line 160, in is_alive\n",
      "    assert self._parent_pid == os.getpid(), 'can only test a child process'\n",
      "AssertionError: can only test a child process\n"
     ]
    },
    {
     "name": "stdout",
     "output_type": "stream",
     "text": [
      "accuracy: 0.8822200744947712\n",
      "Epoch 17:\n"
     ]
    },
    {
     "data": {
      "application/vnd.jupyter.widget-view+json": {
       "model_id": "5503d29bfb69482eaf445e3a45d9ffea",
       "version_major": 2,
       "version_minor": 0
      },
      "text/plain": [
       "  0%|          | 0/5036 [00:00<?, ?it/s]"
      ]
     },
     "metadata": {},
     "output_type": "display_data"
    },
    {
     "name": "stderr",
     "output_type": "stream",
     "text": [
      "Exception ignored in: <function _MultiProcessingDataLoaderIter.__del__ at 0x7f3237e8d3a0>\n",
      "Traceback (most recent call last):\n",
      "  File \"/home/ichuviliaeva/miniconda3/envs/is_project/lib/python3.9/site-packages/torch/utils/data/dataloader.py\", line 1328, in __del__\n",
      "    self._shutdown_workers()\n",
      "  File \"/home/ichuviliaeva/miniconda3/envs/is_project/lib/python3.9/site-packages/torch/utils/data/dataloader.py\", line 1320, in _shutdown_workers\n",
      "    if w.is_alive():\n",
      "  File \"/home/ichuviliaeva/miniconda3/envs/is_project/lib/python3.9/multiprocessing/process.py\", line 160, in is_alive\n",
      "    assert self._parent_pid == os.getpid(), 'can only test a child process'\n",
      "AssertionError: can only test a child process\n",
      "Exception ignored in: <function _MultiProcessingDataLoaderIter.__del__ at 0x7f3237e8d3a0>\n",
      "Traceback (most recent call last):\n",
      "  File \"/home/ichuviliaeva/miniconda3/envs/is_project/lib/python3.9/site-packages/torch/utils/data/dataloader.py\", line 1328, in __del__\n",
      "    self._shutdown_workers()\n",
      "  File \"/home/ichuviliaeva/miniconda3/envs/is_project/lib/python3.9/site-packages/torch/utils/data/dataloader.py\", line 1320, in _shutdown_workers\n",
      "    if w.is_alive():\n",
      "  File \"/home/ichuviliaeva/miniconda3/envs/is_project/lib/python3.9/multiprocessing/process.py\", line 160, in is_alive\n",
      "    assert self._parent_pid == os.getpid(), 'can only test a child process'\n",
      "AssertionError: can only test a child process\n",
      "Exception ignored in: <function _MultiProcessingDataLoaderIter.__del__ at 0x7f3237e8d3a0>\n",
      "Traceback (most recent call last):\n",
      "  File \"/home/ichuviliaeva/miniconda3/envs/is_project/lib/python3.9/site-packages/torch/utils/data/dataloader.py\", line 1328, in __del__\n",
      "    self._shutdown_workers()\n",
      "Exception ignored in:   File \"/home/ichuviliaeva/miniconda3/envs/is_project/lib/python3.9/site-packages/torch/utils/data/dataloader.py\", line 1320, in _shutdown_workers\n",
      "<function _MultiProcessingDataLoaderIter.__del__ at 0x7f3237e8d3a0>\n",
      "Traceback (most recent call last):\n",
      "  File \"/home/ichuviliaeva/miniconda3/envs/is_project/lib/python3.9/site-packages/torch/utils/data/dataloader.py\", line 1328, in __del__\n",
      "        self._shutdown_workers()\n",
      "  File \"/home/ichuviliaeva/miniconda3/envs/is_project/lib/python3.9/site-packages/torch/utils/data/dataloader.py\", line 1320, in _shutdown_workers\n",
      "    if w.is_alive():if w.is_alive():\n",
      "  File \"/home/ichuviliaeva/miniconda3/envs/is_project/lib/python3.9/multiprocessing/process.py\", line 160, in is_alive\n",
      "    \n",
      "assert self._parent_pid == os.getpid(), 'can only test a child process'  File \"/home/ichuviliaeva/miniconda3/envs/is_project/lib/python3.9/multiprocessing/process.py\", line 160, in is_alive\n",
      "\n",
      "AssertionError    : assert self._parent_pid == os.getpid(), 'can only test a child process'can only test a child process\n",
      "\n",
      "AssertionError: can only test a child process\n",
      "Exception ignored in: <function _MultiProcessingDataLoaderIter.__del__ at 0x7f3237e8d3a0>\n",
      "Traceback (most recent call last):\n",
      "  File \"/home/ichuviliaeva/miniconda3/envs/is_project/lib/python3.9/site-packages/torch/utils/data/dataloader.py\", line 1328, in __del__\n",
      "    self._shutdown_workers()\n",
      "  File \"/home/ichuviliaeva/miniconda3/envs/is_project/lib/python3.9/site-packages/torch/utils/data/dataloader.py\", line 1320, in _shutdown_workers\n",
      "    if w.is_alive():\n",
      "  File \"/home/ichuviliaeva/miniconda3/envs/is_project/lib/python3.9/multiprocessing/process.py\", line 160, in is_alive\n",
      "    assert self._parent_pid == os.getpid(), 'can only test a child process'\n",
      "AssertionError: can only test a child process\n",
      "Exception ignored in: <function _MultiProcessingDataLoaderIter.__del__ at 0x7f3237e8d3a0>\n",
      "Traceback (most recent call last):\n",
      "      File \"/home/ichuviliaeva/miniconda3/envs/is_project/lib/python3.9/site-packages/torch/utils/data/dataloader.py\", line 1328, in __del__\n",
      "self._shutdown_workers()\n",
      "  File \"/home/ichuviliaeva/miniconda3/envs/is_project/lib/python3.9/site-packages/torch/utils/data/dataloader.py\", line 1320, in _shutdown_workers\n",
      "    if w.is_alive():\n",
      "  File \"/home/ichuviliaeva/miniconda3/envs/is_project/lib/python3.9/multiprocessing/process.py\", line 160, in is_alive\n",
      "    assert self._parent_pid == os.getpid(), 'can only test a child process'\n",
      "AssertionError: Exception ignored in: can only test a child process<function _MultiProcessingDataLoaderIter.__del__ at 0x7f3237e8d3a0>\n",
      "\n",
      "Traceback (most recent call last):\n",
      "  File \"/home/ichuviliaeva/miniconda3/envs/is_project/lib/python3.9/site-packages/torch/utils/data/dataloader.py\", line 1328, in __del__\n",
      "    self._shutdown_workers()\n",
      "  File \"/home/ichuviliaeva/miniconda3/envs/is_project/lib/python3.9/site-packages/torch/utils/data/dataloader.py\", line 1320, in _shutdown_workers\n",
      "    if w.is_alive():\n",
      "  File \"/home/ichuviliaeva/miniconda3/envs/is_project/lib/python3.9/multiprocessing/process.py\", line 160, in is_alive\n",
      "    assert self._parent_pid == os.getpid(), 'can only test a child process'\n",
      "AssertionError: can only test a child process\n",
      "Exception ignored in: <function _MultiProcessingDataLoaderIter.__del__ at 0x7f3237e8d3a0>\n",
      "Traceback (most recent call last):\n",
      "  File \"/home/ichuviliaeva/miniconda3/envs/is_project/lib/python3.9/site-packages/torch/utils/data/dataloader.py\", line 1328, in __del__\n",
      "    self._shutdown_workers()\n",
      "  File \"/home/ichuviliaeva/miniconda3/envs/is_project/lib/python3.9/site-packages/torch/utils/data/dataloader.py\", line 1320, in _shutdown_workers\n",
      "    if w.is_alive():\n",
      "  File \"/home/ichuviliaeva/miniconda3/envs/is_project/lib/python3.9/multiprocessing/process.py\", line 160, in is_alive\n",
      "    assert self._parent_pid == os.getpid(), 'can only test a child process'\n",
      "AssertionError: can only test a child process\n",
      "Exception ignored in: <function _MultiProcessingDataLoaderIter.__del__ at 0x7f3237e8d3a0>\n",
      "Traceback (most recent call last):\n",
      "  File \"/home/ichuviliaeva/miniconda3/envs/is_project/lib/python3.9/site-packages/torch/utils/data/dataloader.py\", line 1328, in __del__\n",
      "    self._shutdown_workers()\n",
      "  File \"/home/ichuviliaeva/miniconda3/envs/is_project/lib/python3.9/site-packages/torch/utils/data/dataloader.py\", line 1320, in _shutdown_workers\n",
      "    if w.is_alive():\n",
      "  File \"/home/ichuviliaeva/miniconda3/envs/is_project/lib/python3.9/multiprocessing/process.py\", line 160, in is_alive\n",
      "    assert self._parent_pid == os.getpid(), 'can only test a child process'\n",
      "AssertionError: can only test a child process\n",
      "Exception ignored in: <function _MultiProcessingDataLoaderIter.__del__ at 0x7f3237e8d3a0>\n",
      "Traceback (most recent call last):\n",
      "  File \"/home/ichuviliaeva/miniconda3/envs/is_project/lib/python3.9/site-packages/torch/utils/data/dataloader.py\", line 1328, in __del__\n",
      "    self._shutdown_workers()\n",
      "  File \"/home/ichuviliaeva/miniconda3/envs/is_project/lib/python3.9/site-packages/torch/utils/data/dataloader.py\", line 1320, in _shutdown_workers\n",
      "    if w.is_alive():\n",
      "  File \"/home/ichuviliaeva/miniconda3/envs/is_project/lib/python3.9/multiprocessing/process.py\", line 160, in is_alive\n",
      "    assert self._parent_pid == os.getpid(), 'can only test a child process'\n",
      "AssertionError: can only test a child process\n",
      "Exception ignored in: <function _MultiProcessingDataLoaderIter.__del__ at 0x7f3237e8d3a0>\n",
      "Traceback (most recent call last):\n",
      "  File \"/home/ichuviliaeva/miniconda3/envs/is_project/lib/python3.9/site-packages/torch/utils/data/dataloader.py\", line 1328, in __del__\n",
      "    self._shutdown_workers()\n",
      "  File \"/home/ichuviliaeva/miniconda3/envs/is_project/lib/python3.9/site-packages/torch/utils/data/dataloader.py\", line 1320, in _shutdown_workers\n",
      "    if w.is_alive():\n",
      "  File \"/home/ichuviliaeva/miniconda3/envs/is_project/lib/python3.9/multiprocessing/process.py\", line 160, in is_alive\n",
      "    assert self._parent_pid == os.getpid(), 'can only test a child process'\n",
      "AssertionError: can only test a child process\n",
      "Exception ignored in: <function _MultiProcessingDataLoaderIter.__del__ at 0x7f3237e8d3a0>\n",
      "Traceback (most recent call last):\n",
      "  File \"/home/ichuviliaeva/miniconda3/envs/is_project/lib/python3.9/site-packages/torch/utils/data/dataloader.py\", line 1328, in __del__\n",
      "    self._shutdown_workers()\n",
      "  File \"/home/ichuviliaeva/miniconda3/envs/is_project/lib/python3.9/site-packages/torch/utils/data/dataloader.py\", line 1320, in _shutdown_workers\n",
      "    if w.is_alive():\n",
      "  File \"/home/ichuviliaeva/miniconda3/envs/is_project/lib/python3.9/multiprocessing/process.py\", line 160, in is_alive\n"
     ]
    },
    {
     "name": "stderr",
     "output_type": "stream",
     "text": [
      "    assert self._parent_pid == os.getpid(), 'can only test a child process'\n",
      "AssertionError: can only test a child process\n",
      "Exception ignored in: <function _MultiProcessingDataLoaderIter.__del__ at 0x7f3237e8d3a0>\n",
      "Traceback (most recent call last):\n",
      "  File \"/home/ichuviliaeva/miniconda3/envs/is_project/lib/python3.9/site-packages/torch/utils/data/dataloader.py\", line 1328, in __del__\n",
      "    self._shutdown_workers()\n",
      "  File \"/home/ichuviliaeva/miniconda3/envs/is_project/lib/python3.9/site-packages/torch/utils/data/dataloader.py\", line 1320, in _shutdown_workers\n",
      "    if w.is_alive():\n",
      "  File \"/home/ichuviliaeva/miniconda3/envs/is_project/lib/python3.9/multiprocessing/process.py\", line 160, in is_alive\n",
      "    assert self._parent_pid == os.getpid(), 'can only test a child process'\n",
      "AssertionError: can only test a child process\n",
      "Exception ignored in: <function _MultiProcessingDataLoaderIter.__del__ at 0x7f3237e8d3a0>\n",
      "Traceback (most recent call last):\n",
      "  File \"/home/ichuviliaeva/miniconda3/envs/is_project/lib/python3.9/site-packages/torch/utils/data/dataloader.py\", line 1328, in __del__\n",
      "    self._shutdown_workers()\n",
      "  File \"/home/ichuviliaeva/miniconda3/envs/is_project/lib/python3.9/site-packages/torch/utils/data/dataloader.py\", line 1320, in _shutdown_workers\n",
      "    if w.is_alive():\n",
      "  File \"/home/ichuviliaeva/miniconda3/envs/is_project/lib/python3.9/multiprocessing/process.py\", line 160, in is_alive\n",
      "    assert self._parent_pid == os.getpid(), 'can only test a child process'\n",
      "AssertionError: can only test a child process\n",
      "Exception ignored in: <function _MultiProcessingDataLoaderIter.__del__ at 0x7f3237e8d3a0>\n",
      "Traceback (most recent call last):\n",
      "  File \"/home/ichuviliaeva/miniconda3/envs/is_project/lib/python3.9/site-packages/torch/utils/data/dataloader.py\", line 1328, in __del__\n",
      "    self._shutdown_workers()\n",
      "  File \"/home/ichuviliaeva/miniconda3/envs/is_project/lib/python3.9/site-packages/torch/utils/data/dataloader.py\", line 1320, in _shutdown_workers\n",
      "    if w.is_alive():\n",
      "  File \"/home/ichuviliaeva/miniconda3/envs/is_project/lib/python3.9/multiprocessing/process.py\", line 160, in is_alive\n",
      "    assert self._parent_pid == os.getpid(), 'can only test a child process'\n",
      "AssertionError: can only test a child process\n",
      "Exception ignored in: <function _MultiProcessingDataLoaderIter.__del__ at 0x7f3237e8d3a0>\n",
      "Traceback (most recent call last):\n",
      "  File \"/home/ichuviliaeva/miniconda3/envs/is_project/lib/python3.9/site-packages/torch/utils/data/dataloader.py\", line 1328, in __del__\n",
      "    self._shutdown_workers()\n",
      "  File \"/home/ichuviliaeva/miniconda3/envs/is_project/lib/python3.9/site-packages/torch/utils/data/dataloader.py\", line 1320, in _shutdown_workers\n",
      "    if w.is_alive():\n",
      "  File \"/home/ichuviliaeva/miniconda3/envs/is_project/lib/python3.9/multiprocessing/process.py\", line 160, in is_alive\n",
      "    assert self._parent_pid == os.getpid(), 'can only test a child process'\n",
      "AssertionError: can only test a child process\n"
     ]
    },
    {
     "data": {
      "application/vnd.jupyter.widget-view+json": {
       "model_id": "4c83cf8d000048deaaf139ead1674035",
       "version_major": 2,
       "version_minor": 0
      },
      "text/plain": [
       "  0%|          | 0/315 [00:00<?, ?it/s]"
      ]
     },
     "metadata": {},
     "output_type": "display_data"
    },
    {
     "name": "stderr",
     "output_type": "stream",
     "text": [
      "Exception ignored in: <function _MultiProcessingDataLoaderIter.__del__ at 0x7f3237e8d3a0>\n",
      "Traceback (most recent call last):\n",
      "  File \"/home/ichuviliaeva/miniconda3/envs/is_project/lib/python3.9/site-packages/torch/utils/data/dataloader.py\", line 1328, in __del__\n",
      "Exception ignored in: <function _MultiProcessingDataLoaderIter.__del__ at 0x7f3237e8d3a0>    \n",
      "self._shutdown_workers()Traceback (most recent call last):\n",
      "\n",
      "  File \"/home/ichuviliaeva/miniconda3/envs/is_project/lib/python3.9/site-packages/torch/utils/data/dataloader.py\", line 1328, in __del__\n",
      "  File \"/home/ichuviliaeva/miniconda3/envs/is_project/lib/python3.9/site-packages/torch/utils/data/dataloader.py\", line 1320, in _shutdown_workers\n",
      "        if w.is_alive():self._shutdown_workers()\n",
      "  File \"/home/ichuviliaeva/miniconda3/envs/is_project/lib/python3.9/multiprocessing/process.py\", line 160, in is_alive\n",
      "    \n",
      "assert self._parent_pid == os.getpid(), 'can only test a child process'\n",
      "AssertionError: can only test a child process\n",
      "Exception ignored in: Exception ignored in: <function _MultiProcessingDataLoaderIter.__del__ at 0x7f3237e8d3a0>\n",
      "Traceback (most recent call last):\n",
      "<function _MultiProcessingDataLoaderIter.__del__ at 0x7f3237e8d3a0>  File \"/home/ichuviliaeva/miniconda3/envs/is_project/lib/python3.9/site-packages/torch/utils/data/dataloader.py\", line 1328, in __del__\n",
      "  File \"/home/ichuviliaeva/miniconda3/envs/is_project/lib/python3.9/site-packages/torch/utils/data/dataloader.py\", line 1320, in _shutdown_workers\n",
      "    \n",
      "self._shutdown_workers()\n",
      "  File \"/home/ichuviliaeva/miniconda3/envs/is_project/lib/python3.9/site-packages/torch/utils/data/dataloader.py\", line 1320, in _shutdown_workers\n",
      "    if w.is_alive():\n",
      "  File \"/home/ichuviliaeva/miniconda3/envs/is_project/lib/python3.9/multiprocessing/process.py\", line 160, in is_alive\n",
      "    assert self._parent_pid == os.getpid(), 'can only test a child process'\n",
      "AssertionError: can only test a child process\n",
      "    if w.is_alive():Traceback (most recent call last):\n",
      "\n",
      "  File \"/home/ichuviliaeva/miniconda3/envs/is_project/lib/python3.9/multiprocessing/process.py\", line 160, in is_alive\n",
      "Exception ignored in:     <function _MultiProcessingDataLoaderIter.__del__ at 0x7f3237e8d3a0>  File \"/home/ichuviliaeva/miniconda3/envs/is_project/lib/python3.9/site-packages/torch/utils/data/dataloader.py\", line 1328, in __del__\n",
      "\n",
      "assert self._parent_pid == os.getpid(), 'can only test a child process'    \n",
      "AssertionError: Traceback (most recent call last):\n",
      "can only test a child process\n",
      "Exception ignored in: <function _MultiProcessingDataLoaderIter.__del__ at 0x7f3237e8d3a0>\n",
      "self._shutdown_workers()  File \"/home/ichuviliaeva/miniconda3/envs/is_project/lib/python3.9/site-packages/torch/utils/data/dataloader.py\", line 1328, in __del__\n",
      "Traceback (most recent call last):\n",
      "  File \"/home/ichuviliaeva/miniconda3/envs/is_project/lib/python3.9/site-packages/torch/utils/data/dataloader.py\", line 1328, in __del__\n",
      "\n",
      "      File \"/home/ichuviliaeva/miniconda3/envs/is_project/lib/python3.9/site-packages/torch/utils/data/dataloader.py\", line 1320, in _shutdown_workers\n",
      "self._shutdown_workers()\n",
      "  File \"/home/ichuviliaeva/miniconda3/envs/is_project/lib/python3.9/site-packages/torch/utils/data/dataloader.py\", line 1320, in _shutdown_workers\n",
      "        self._shutdown_workers()if w.is_alive():\n",
      "  File \"/home/ichuviliaeva/miniconda3/envs/is_project/lib/python3.9/site-packages/torch/utils/data/dataloader.py\", line 1320, in _shutdown_workers\n",
      "    if w.is_alive():\n",
      "  File \"/home/ichuviliaeva/miniconda3/envs/is_project/lib/python3.9/multiprocessing/process.py\", line 160, in is_alive\n",
      "        assert self._parent_pid == os.getpid(), 'can only test a child process'\n",
      "AssertionError: can only test a child process\n",
      "if w.is_alive():\n",
      "  File \"/home/ichuviliaeva/miniconda3/envs/is_project/lib/python3.9/multiprocessing/process.py\", line 160, in is_alive\n",
      "    assert self._parent_pid == os.getpid(), 'can only test a child process'Exception ignored in: <function _MultiProcessingDataLoaderIter.__del__ at 0x7f3237e8d3a0>\n",
      "Traceback (most recent call last):\n",
      "\n",
      "  File \"/home/ichuviliaeva/miniconda3/envs/is_project/lib/python3.9/site-packages/torch/utils/data/dataloader.py\", line 1328, in __del__\n",
      "AssertionError:     can only test a child process\n",
      "\n",
      "Exception ignored in: self._shutdown_workers()<function _MultiProcessingDataLoaderIter.__del__ at 0x7f3237e8d3a0>\n",
      "\n",
      "Traceback (most recent call last):\n",
      "  File \"/home/ichuviliaeva/miniconda3/envs/is_project/lib/python3.9/site-packages/torch/utils/data/dataloader.py\", line 1320, in _shutdown_workers\n",
      "  File \"/home/ichuviliaeva/miniconda3/envs/is_project/lib/python3.9/multiprocessing/process.py\", line 160, in is_alive\n",
      "      File \"/home/ichuviliaeva/miniconda3/envs/is_project/lib/python3.9/site-packages/torch/utils/data/dataloader.py\", line 1328, in __del__\n",
      "if w.is_alive():    \n",
      "  File \"/home/ichuviliaeva/miniconda3/envs/is_project/lib/python3.9/multiprocessing/process.py\", line 160, in is_alive\n",
      "self._shutdown_workers()    \n",
      "assert self._parent_pid == os.getpid(), 'can only test a child process'  File \"/home/ichuviliaeva/miniconda3/envs/is_project/lib/python3.9/site-packages/torch/utils/data/dataloader.py\", line 1320, in _shutdown_workers\n",
      "    if w.is_alive():\n",
      "  File \"/home/ichuviliaeva/miniconda3/envs/is_project/lib/python3.9/multiprocessing/process.py\", line 160, in is_alive\n",
      "\n",
      "AssertionError: can only test a child process\n",
      "    assert self._parent_pid == os.getpid(), 'can only test a child process'    Exception ignored in: \n",
      "assert self._parent_pid == os.getpid(), 'can only test a child process'<function _MultiProcessingDataLoaderIter.__del__ at 0x7f3237e8d3a0>AssertionError\n",
      "\n",
      ": AssertionErrorcan only test a child process: Traceback (most recent call last):\n",
      "\n",
      "Exception ignored in: can only test a child process  File \"/home/ichuviliaeva/miniconda3/envs/is_project/lib/python3.9/site-packages/torch/utils/data/dataloader.py\", line 1328, in __del__\n",
      "<function _MultiProcessingDataLoaderIter.__del__ at 0x7f3237e8d3a0>\n",
      "\n",
      "Traceback (most recent call last):\n",
      "    self._shutdown_workers()  File \"/home/ichuviliaeva/miniconda3/envs/is_project/lib/python3.9/site-packages/torch/utils/data/dataloader.py\", line 1328, in __del__\n",
      "\n",
      "      File \"/home/ichuviliaeva/miniconda3/envs/is_project/lib/python3.9/site-packages/torch/utils/data/dataloader.py\", line 1320, in _shutdown_workers\n",
      "self._shutdown_workers()\n",
      "    if w.is_alive():  File \"/home/ichuviliaeva/miniconda3/envs/is_project/lib/python3.9/site-packages/torch/utils/data/dataloader.py\", line 1320, in _shutdown_workers\n",
      "\n",
      "  File \"/home/ichuviliaeva/miniconda3/envs/is_project/lib/python3.9/multiprocessing/process.py\", line 160, in is_alive\n",
      "        if w.is_alive():\n",
      "assert self._parent_pid == os.getpid(), 'can only test a child process'  File \"/home/ichuviliaeva/miniconda3/envs/is_project/lib/python3.9/multiprocessing/process.py\", line 160, in is_alive\n",
      "\n",
      "    AssertionError: assert self._parent_pid == os.getpid(), 'can only test a child process'can only test a child process\n",
      "\n",
      "AssertionError: can only test a child process\n",
      "Exception ignored in: <function _MultiProcessingDataLoaderIter.__del__ at 0x7f3237e8d3a0>\n",
      "Traceback (most recent call last):\n",
      "  File \"/home/ichuviliaeva/miniconda3/envs/is_project/lib/python3.9/site-packages/torch/utils/data/dataloader.py\", line 1328, in __del__\n",
      "Exception ignored in: <function _MultiProcessingDataLoaderIter.__del__ at 0x7f3237e8d3a0>    \n",
      "self._shutdown_workers()Traceback (most recent call last):\n",
      "  File \"/home/ichuviliaeva/miniconda3/envs/is_project/lib/python3.9/site-packages/torch/utils/data/dataloader.py\", line 1328, in __del__\n",
      "    self._shutdown_workers()\n",
      "  File \"/home/ichuviliaeva/miniconda3/envs/is_project/lib/python3.9/site-packages/torch/utils/data/dataloader.py\", line 1320, in _shutdown_workers\n",
      "\n",
      "      File \"/home/ichuviliaeva/miniconda3/envs/is_project/lib/python3.9/site-packages/torch/utils/data/dataloader.py\", line 1320, in _shutdown_workers\n",
      "    if w.is_alive():if w.is_alive():\n",
      "\n",
      "  File \"/home/ichuviliaeva/miniconda3/envs/is_project/lib/python3.9/multiprocessing/process.py\", line 160, in is_alive\n",
      "  File \"/home/ichuviliaeva/miniconda3/envs/is_project/lib/python3.9/multiprocessing/process.py\", line 160, in is_alive\n",
      "        assert self._parent_pid == os.getpid(), 'can only test a child process'assert self._parent_pid == os.getpid(), 'can only test a child process'\n",
      "\n",
      "AssertionErrorAssertionError: can only test a child process: \n",
      "can only test a child process\n",
      "Exception ignored in: <function _MultiProcessingDataLoaderIter.__del__ at 0x7f3237e8d3a0>\n",
      "Traceback (most recent call last):\n",
      "  File \"/home/ichuviliaeva/miniconda3/envs/is_project/lib/python3.9/site-packages/torch/utils/data/dataloader.py\", line 1328, in __del__\n",
      "    self._shutdown_workers()\n",
      "  File \"/home/ichuviliaeva/miniconda3/envs/is_project/lib/python3.9/site-packages/torch/utils/data/dataloader.py\", line 1320, in _shutdown_workers\n",
      "    if w.is_alive():\n",
      "  File \"/home/ichuviliaeva/miniconda3/envs/is_project/lib/python3.9/multiprocessing/process.py\", line 160, in is_alive\n",
      "    assert self._parent_pid == os.getpid(), 'can only test a child process'\n",
      "AssertionError: can only test a child process\n",
      "Exception ignored in: <function _MultiProcessingDataLoaderIter.__del__ at 0x7f3237e8d3a0>\n",
      "Traceback (most recent call last):\n",
      "  File \"/home/ichuviliaeva/miniconda3/envs/is_project/lib/python3.9/site-packages/torch/utils/data/dataloader.py\", line 1328, in __del__\n",
      "    self._shutdown_workers()\n",
      "  File \"/home/ichuviliaeva/miniconda3/envs/is_project/lib/python3.9/site-packages/torch/utils/data/dataloader.py\", line 1320, in _shutdown_workers\n",
      "    if w.is_alive():\n",
      "  File \"/home/ichuviliaeva/miniconda3/envs/is_project/lib/python3.9/multiprocessing/process.py\", line 160, in is_alive\n",
      "    assert self._parent_pid == os.getpid(), 'can only test a child process'\n",
      "AssertionError: can only test a child process\n",
      "Exception ignored in: <function _MultiProcessingDataLoaderIter.__del__ at 0x7f3237e8d3a0>\n",
      "Traceback (most recent call last):\n",
      "  File \"/home/ichuviliaeva/miniconda3/envs/is_project/lib/python3.9/site-packages/torch/utils/data/dataloader.py\", line 1328, in __del__\n",
      "    self._shutdown_workers()\n",
      "  File \"/home/ichuviliaeva/miniconda3/envs/is_project/lib/python3.9/site-packages/torch/utils/data/dataloader.py\", line 1320, in _shutdown_workers\n",
      "    if w.is_alive():\n",
      "  File \"/home/ichuviliaeva/miniconda3/envs/is_project/lib/python3.9/multiprocessing/process.py\", line 160, in is_alive\n",
      "    assert self._parent_pid == os.getpid(), 'can only test a child process'\n",
      "AssertionError: can only test a child process\n",
      "Exception ignored in: <function _MultiProcessingDataLoaderIter.__del__ at 0x7f3237e8d3a0>\n",
      "Traceback (most recent call last):\n",
      "  File \"/home/ichuviliaeva/miniconda3/envs/is_project/lib/python3.9/site-packages/torch/utils/data/dataloader.py\", line 1328, in __del__\n",
      "    self._shutdown_workers()\n",
      "  File \"/home/ichuviliaeva/miniconda3/envs/is_project/lib/python3.9/site-packages/torch/utils/data/dataloader.py\", line 1320, in _shutdown_workers\n",
      "    if w.is_alive():\n",
      "  File \"/home/ichuviliaeva/miniconda3/envs/is_project/lib/python3.9/multiprocessing/process.py\", line 160, in is_alive\n",
      "    assert self._parent_pid == os.getpid(), 'can only test a child process'\n",
      "AssertionError: can only test a child process\n",
      "Exception ignored in: <function _MultiProcessingDataLoaderIter.__del__ at 0x7f3237e8d3a0>\n",
      "Traceback (most recent call last):\n",
      "  File \"/home/ichuviliaeva/miniconda3/envs/is_project/lib/python3.9/site-packages/torch/utils/data/dataloader.py\", line 1328, in __del__\n",
      "    self._shutdown_workers()\n",
      "  File \"/home/ichuviliaeva/miniconda3/envs/is_project/lib/python3.9/site-packages/torch/utils/data/dataloader.py\", line 1320, in _shutdown_workers\n",
      "    if w.is_alive():\n",
      "  File \"/home/ichuviliaeva/miniconda3/envs/is_project/lib/python3.9/multiprocessing/process.py\", line 160, in is_alive\n",
      "    Exception ignored in: assert self._parent_pid == os.getpid(), 'can only test a child process'\n",
      "AssertionError<function _MultiProcessingDataLoaderIter.__del__ at 0x7f3237e8d3a0>: \n",
      "can only test a child processTraceback (most recent call last):\n",
      "  File \"/home/ichuviliaeva/miniconda3/envs/is_project/lib/python3.9/site-packages/torch/utils/data/dataloader.py\", line 1328, in __del__\n",
      "\n",
      "    self._shutdown_workers()\n",
      "  File \"/home/ichuviliaeva/miniconda3/envs/is_project/lib/python3.9/site-packages/torch/utils/data/dataloader.py\", line 1320, in _shutdown_workers\n",
      "    if w.is_alive():Exception ignored in: \n",
      "<function _MultiProcessingDataLoaderIter.__del__ at 0x7f3237e8d3a0>\n",
      "  File \"/home/ichuviliaeva/miniconda3/envs/is_project/lib/python3.9/multiprocessing/process.py\", line 160, in is_alive\n",
      "Traceback (most recent call last):\n",
      "    assert self._parent_pid == os.getpid(), 'can only test a child process'  File \"/home/ichuviliaeva/miniconda3/envs/is_project/lib/python3.9/site-packages/torch/utils/data/dataloader.py\", line 1328, in __del__\n",
      "\n",
      "    AssertionErrorself._shutdown_workers(): can only test a child process\n",
      "\n",
      "  File \"/home/ichuviliaeva/miniconda3/envs/is_project/lib/python3.9/site-packages/torch/utils/data/dataloader.py\", line 1320, in _shutdown_workers\n",
      "    if w.is_alive():\n",
      "Exception ignored in:   File \"/home/ichuviliaeva/miniconda3/envs/is_project/lib/python3.9/multiprocessing/process.py\", line 160, in is_alive\n",
      "<function _MultiProcessingDataLoaderIter.__del__ at 0x7f3237e8d3a0>\n",
      "    Traceback (most recent call last):\n",
      "assert self._parent_pid == os.getpid(), 'can only test a child process'Exception ignored in:   File \"/home/ichuviliaeva/miniconda3/envs/is_project/lib/python3.9/site-packages/torch/utils/data/dataloader.py\", line 1328, in __del__\n",
      "\n",
      "<function _MultiProcessingDataLoaderIter.__del__ at 0x7f3237e8d3a0>    AssertionError\n",
      "self._shutdown_workers()Traceback (most recent call last):\n",
      ": \n",
      "  File \"/home/ichuviliaeva/miniconda3/envs/is_project/lib/python3.9/site-packages/torch/utils/data/dataloader.py\", line 1328, in __del__\n",
      "can only test a child process  File \"/home/ichuviliaeva/miniconda3/envs/is_project/lib/python3.9/site-packages/torch/utils/data/dataloader.py\", line 1320, in _shutdown_workers\n",
      "\n",
      "        self._shutdown_workers()if w.is_alive():\n",
      "\n",
      "  File \"/home/ichuviliaeva/miniconda3/envs/is_project/lib/python3.9/site-packages/torch/utils/data/dataloader.py\", line 1320, in _shutdown_workers\n",
      "  File \"/home/ichuviliaeva/miniconda3/envs/is_project/lib/python3.9/multiprocessing/process.py\", line 160, in is_alive\n",
      "        if w.is_alive():assert self._parent_pid == os.getpid(), 'can only test a child process'\n",
      "\n",
      "  File \"/home/ichuviliaeva/miniconda3/envs/is_project/lib/python3.9/multiprocessing/process.py\", line 160, in is_alive\n",
      "AssertionError: can only test a child process    assert self._parent_pid == os.getpid(), 'can only test a child process'\n",
      "\n",
      "AssertionError: can only test a child process\n",
      "Exception ignored in: <function _MultiProcessingDataLoaderIter.__del__ at 0x7f3237e8d3a0>\n",
      "Traceback (most recent call last):\n",
      "  File \"/home/ichuviliaeva/miniconda3/envs/is_project/lib/python3.9/site-packages/torch/utils/data/dataloader.py\", line 1328, in __del__\n",
      "    self._shutdown_workers()\n",
      "  File \"/home/ichuviliaeva/miniconda3/envs/is_project/lib/python3.9/site-packages/torch/utils/data/dataloader.py\", line 1320, in _shutdown_workers\n",
      "    if w.is_alive():\n",
      "  File \"/home/ichuviliaeva/miniconda3/envs/is_project/lib/python3.9/multiprocessing/process.py\", line 160, in is_alive\n",
      "    assert self._parent_pid == os.getpid(), 'can only test a child process'\n",
      "AssertionError: can only test a child process\n",
      "Exception ignored in: <function _MultiProcessingDataLoaderIter.__del__ at 0x7f3237e8d3a0>\n",
      "Traceback (most recent call last):\n",
      "  File \"/home/ichuviliaeva/miniconda3/envs/is_project/lib/python3.9/site-packages/torch/utils/data/dataloader.py\", line 1328, in __del__\n",
      "    self._shutdown_workers()\n",
      "  File \"/home/ichuviliaeva/miniconda3/envs/is_project/lib/python3.9/site-packages/torch/utils/data/dataloader.py\", line 1320, in _shutdown_workers\n",
      "    if w.is_alive():\n",
      "  File \"/home/ichuviliaeva/miniconda3/envs/is_project/lib/python3.9/multiprocessing/process.py\", line 160, in is_alive\n",
      "    assert self._parent_pid == os.getpid(), 'can only test a child process'\n",
      "AssertionError: can only test a child process\n",
      "Exception ignored in: <function _MultiProcessingDataLoaderIter.__del__ at 0x7f3237e8d3a0>\n",
      "Traceback (most recent call last):\n",
      "  File \"/home/ichuviliaeva/miniconda3/envs/is_project/lib/python3.9/site-packages/torch/utils/data/dataloader.py\", line 1328, in __del__\n"
     ]
    },
    {
     "name": "stderr",
     "output_type": "stream",
     "text": [
      "    self._shutdown_workers()\n",
      "  File \"/home/ichuviliaeva/miniconda3/envs/is_project/lib/python3.9/site-packages/torch/utils/data/dataloader.py\", line 1320, in _shutdown_workers\n",
      "Exception ignored in: <function _MultiProcessingDataLoaderIter.__del__ at 0x7f3237e8d3a0>    \n",
      "if w.is_alive():Traceback (most recent call last):\n",
      "\n",
      "Exception ignored in:   File \"/home/ichuviliaeva/miniconda3/envs/is_project/lib/python3.9/multiprocessing/process.py\", line 160, in is_alive\n",
      "  File \"/home/ichuviliaeva/miniconda3/envs/is_project/lib/python3.9/site-packages/torch/utils/data/dataloader.py\", line 1328, in __del__\n",
      "<function _MultiProcessingDataLoaderIter.__del__ at 0x7f3237e8d3a0>    \n",
      "    assert self._parent_pid == os.getpid(), 'can only test a child process'Traceback (most recent call last):\n",
      "self._shutdown_workers()\n",
      "  File \"/home/ichuviliaeva/miniconda3/envs/is_project/lib/python3.9/site-packages/torch/utils/data/dataloader.py\", line 1328, in __del__\n",
      "\n",
      "AssertionError    :   File \"/home/ichuviliaeva/miniconda3/envs/is_project/lib/python3.9/site-packages/torch/utils/data/dataloader.py\", line 1320, in _shutdown_workers\n",
      "can only test a child processself._shutdown_workers()\n",
      "\n",
      "      File \"/home/ichuviliaeva/miniconda3/envs/is_project/lib/python3.9/site-packages/torch/utils/data/dataloader.py\", line 1320, in _shutdown_workers\n",
      "    if w.is_alive():if w.is_alive():\n",
      "\n",
      "  File \"/home/ichuviliaeva/miniconda3/envs/is_project/lib/python3.9/multiprocessing/process.py\", line 160, in is_alive\n",
      "  File \"/home/ichuviliaeva/miniconda3/envs/is_project/lib/python3.9/multiprocessing/process.py\", line 160, in is_alive\n",
      "        assert self._parent_pid == os.getpid(), 'can only test a child process'assert self._parent_pid == os.getpid(), 'can only test a child process'\n",
      "\n",
      "AssertionErrorAssertionError: : can only test a child processcan only test a child process\n",
      "\n",
      "Exception ignored in: Exception ignored in: <function _MultiProcessingDataLoaderIter.__del__ at 0x7f3237e8d3a0><function _MultiProcessingDataLoaderIter.__del__ at 0x7f3237e8d3a0>\n",
      "\n",
      "Traceback (most recent call last):\n",
      "Traceback (most recent call last):\n",
      "  File \"/home/ichuviliaeva/miniconda3/envs/is_project/lib/python3.9/site-packages/torch/utils/data/dataloader.py\", line 1328, in __del__\n",
      "  File \"/home/ichuviliaeva/miniconda3/envs/is_project/lib/python3.9/site-packages/torch/utils/data/dataloader.py\", line 1328, in __del__\n",
      "        self._shutdown_workers()self._shutdown_workers()\n",
      "\n",
      "  File \"/home/ichuviliaeva/miniconda3/envs/is_project/lib/python3.9/site-packages/torch/utils/data/dataloader.py\", line 1320, in _shutdown_workers\n",
      "  File \"/home/ichuviliaeva/miniconda3/envs/is_project/lib/python3.9/site-packages/torch/utils/data/dataloader.py\", line 1320, in _shutdown_workers\n",
      "    if w.is_alive():\n",
      "      File \"/home/ichuviliaeva/miniconda3/envs/is_project/lib/python3.9/multiprocessing/process.py\", line 160, in is_alive\n",
      "if w.is_alive():    \n",
      "assert self._parent_pid == os.getpid(), 'can only test a child process'  File \"/home/ichuviliaeva/miniconda3/envs/is_project/lib/python3.9/multiprocessing/process.py\", line 160, in is_alive\n",
      "\n",
      "    AssertionErrorassert self._parent_pid == os.getpid(), 'can only test a child process'\n",
      ": AssertionError: can only test a child processcan only test a child process\n",
      "\n",
      "Exception ignored in: <function _MultiProcessingDataLoaderIter.__del__ at 0x7f3237e8d3a0>\n",
      "Traceback (most recent call last):\n",
      "  File \"/home/ichuviliaeva/miniconda3/envs/is_project/lib/python3.9/site-packages/torch/utils/data/dataloader.py\", line 1328, in __del__\n",
      "    self._shutdown_workers()\n",
      "  File \"/home/ichuviliaeva/miniconda3/envs/is_project/lib/python3.9/site-packages/torch/utils/data/dataloader.py\", line 1320, in _shutdown_workers\n",
      "    if w.is_alive():\n",
      "  File \"/home/ichuviliaeva/miniconda3/envs/is_project/lib/python3.9/multiprocessing/process.py\", line 160, in is_alive\n",
      "    assert self._parent_pid == os.getpid(), 'can only test a child process'\n",
      "AssertionError: can only test a child process\n",
      "Exception ignored in: <function _MultiProcessingDataLoaderIter.__del__ at 0x7f3237e8d3a0>\n",
      "Traceback (most recent call last):\n",
      "  File \"/home/ichuviliaeva/miniconda3/envs/is_project/lib/python3.9/site-packages/torch/utils/data/dataloader.py\", line 1328, in __del__\n",
      "    self._shutdown_workers()\n",
      "  File \"/home/ichuviliaeva/miniconda3/envs/is_project/lib/python3.9/site-packages/torch/utils/data/dataloader.py\", line 1320, in _shutdown_workers\n",
      "    if w.is_alive():\n",
      "  File \"/home/ichuviliaeva/miniconda3/envs/is_project/lib/python3.9/multiprocessing/process.py\", line 160, in is_alive\n",
      "Exception ignored in:     <function _MultiProcessingDataLoaderIter.__del__ at 0x7f3237e8d3a0>assert self._parent_pid == os.getpid(), 'can only test a child process'\n",
      "Traceback (most recent call last):\n",
      "  File \"/home/ichuviliaeva/miniconda3/envs/is_project/lib/python3.9/site-packages/torch/utils/data/dataloader.py\", line 1328, in __del__\n",
      "\n",
      "AssertionError    self._shutdown_workers(): \n",
      "can only test a child process  File \"/home/ichuviliaeva/miniconda3/envs/is_project/lib/python3.9/site-packages/torch/utils/data/dataloader.py\", line 1320, in _shutdown_workers\n",
      "\n",
      "    if w.is_alive():\n",
      "  File \"/home/ichuviliaeva/miniconda3/envs/is_project/lib/python3.9/multiprocessing/process.py\", line 160, in is_alive\n",
      "    assert self._parent_pid == os.getpid(), 'can only test a child process'\n",
      "AssertionError: can only test a child process\n",
      "Exception ignored in: <function _MultiProcessingDataLoaderIter.__del__ at 0x7f3237e8d3a0>\n",
      "Traceback (most recent call last):\n",
      "  File \"/home/ichuviliaeva/miniconda3/envs/is_project/lib/python3.9/site-packages/torch/utils/data/dataloader.py\", line 1328, in __del__\n",
      "    self._shutdown_workers()\n",
      "  File \"/home/ichuviliaeva/miniconda3/envs/is_project/lib/python3.9/site-packages/torch/utils/data/dataloader.py\", line 1320, in _shutdown_workers\n",
      "    if w.is_alive():\n",
      "  File \"/home/ichuviliaeva/miniconda3/envs/is_project/lib/python3.9/multiprocessing/process.py\", line 160, in is_alive\n",
      "    assert self._parent_pid == os.getpid(), 'can only test a child process'\n",
      "AssertionError: can only test a child process\n",
      "Exception ignored in: <function _MultiProcessingDataLoaderIter.__del__ at 0x7f3237e8d3a0>\n",
      "Traceback (most recent call last):\n",
      "  File \"/home/ichuviliaeva/miniconda3/envs/is_project/lib/python3.9/site-packages/torch/utils/data/dataloader.py\", line 1328, in __del__\n",
      "    self._shutdown_workers()\n",
      "  File \"/home/ichuviliaeva/miniconda3/envs/is_project/lib/python3.9/site-packages/torch/utils/data/dataloader.py\", line 1320, in _shutdown_workers\n",
      "    if w.is_alive():\n",
      "  File \"/home/ichuviliaeva/miniconda3/envs/is_project/lib/python3.9/multiprocessing/process.py\", line 160, in is_alive\n",
      "    assert self._parent_pid == os.getpid(), 'can only test a child process'\n",
      "AssertionError: can only test a child process\n",
      "Exception ignored in: <function _MultiProcessingDataLoaderIter.__del__ at 0x7f3237e8d3a0>\n",
      "Traceback (most recent call last):\n",
      "\n",
      "  File \"/home/ichuviliaeva/miniconda3/envs/is_project/lib/python3.9/site-packages/torch/utils/data/dataloader.py\", line 1328, in __del__\n",
      "    self._shutdown_workers()\n",
      "  File \"/home/ichuviliaeva/miniconda3/envs/is_project/lib/python3.9/site-packages/torch/utils/data/dataloader.py\", line 1320, in _shutdown_workers\n",
      "    if w.is_alive():\n",
      "  File \"/home/ichuviliaeva/miniconda3/envs/is_project/lib/python3.9/multiprocessing/process.py\", line 160, in is_alive\n",
      "    assert self._parent_pid == os.getpid(), 'can only test a child process'\n",
      "AssertionError: can only test a child processException ignored in: <function _MultiProcessingDataLoaderIter.__del__ at 0x7f3237e8d3a0>\n",
      "Traceback (most recent call last):\n",
      "  File \"/home/ichuviliaeva/miniconda3/envs/is_project/lib/python3.9/site-packages/torch/utils/data/dataloader.py\", line 1328, in __del__\n",
      "    self._shutdown_workers()\n",
      "  File \"/home/ichuviliaeva/miniconda3/envs/is_project/lib/python3.9/site-packages/torch/utils/data/dataloader.py\", line 1320, in _shutdown_workers\n",
      "    if w.is_alive():\n",
      "  File \"/home/ichuviliaeva/miniconda3/envs/is_project/lib/python3.9/multiprocessing/process.py\", line 160, in is_alive\n",
      "    assert self._parent_pid == os.getpid(), 'can only test a child process'\n",
      "AssertionError: can only test a child process\n",
      "Exception ignored in: <function _MultiProcessingDataLoaderIter.__del__ at 0x7f3237e8d3a0>\n",
      "Traceback (most recent call last):\n",
      "  File \"/home/ichuviliaeva/miniconda3/envs/is_project/lib/python3.9/site-packages/torch/utils/data/dataloader.py\", line 1328, in __del__\n",
      "    self._shutdown_workers()\n",
      "  File \"/home/ichuviliaeva/miniconda3/envs/is_project/lib/python3.9/site-packages/torch/utils/data/dataloader.py\", line 1320, in _shutdown_workers\n",
      "    if w.is_alive():\n",
      "  File \"/home/ichuviliaeva/miniconda3/envs/is_project/lib/python3.9/multiprocessing/process.py\", line 160, in is_alive\n",
      "    assert self._parent_pid == os.getpid(), 'can only test a child process'\n",
      "AssertionError: can only test a child process\n",
      "Exception ignored in: <function _MultiProcessingDataLoaderIter.__del__ at 0x7f3237e8d3a0>\n",
      "Traceback (most recent call last):\n",
      "  File \"/home/ichuviliaeva/miniconda3/envs/is_project/lib/python3.9/site-packages/torch/utils/data/dataloader.py\", line 1328, in __del__\n",
      "    self._shutdown_workers()\n",
      "  File \"/home/ichuviliaeva/miniconda3/envs/is_project/lib/python3.9/site-packages/torch/utils/data/dataloader.py\", line 1320, in _shutdown_workers\n",
      "    if w.is_alive():\n",
      "  File \"/home/ichuviliaeva/miniconda3/envs/is_project/lib/python3.9/multiprocessing/process.py\", line 160, in is_alive\n",
      "    assert self._parent_pid == os.getpid(), 'can only test a child process'\n",
      "AssertionError: can only test a child process\n",
      "Exception ignored in: <function _MultiProcessingDataLoaderIter.__del__ at 0x7f3237e8d3a0>\n",
      "Traceback (most recent call last):\n",
      "  File \"/home/ichuviliaeva/miniconda3/envs/is_project/lib/python3.9/site-packages/torch/utils/data/dataloader.py\", line 1328, in __del__\n",
      "Exception ignored in:     <function _MultiProcessingDataLoaderIter.__del__ at 0x7f3237e8d3a0>self._shutdown_workers()\n",
      "\n",
      "  File \"/home/ichuviliaeva/miniconda3/envs/is_project/lib/python3.9/site-packages/torch/utils/data/dataloader.py\", line 1320, in _shutdown_workers\n",
      "    if w.is_alive():\n",
      "Traceback (most recent call last):\n",
      "  File \"/home/ichuviliaeva/miniconda3/envs/is_project/lib/python3.9/multiprocessing/process.py\", line 160, in is_alive\n",
      "  File \"/home/ichuviliaeva/miniconda3/envs/is_project/lib/python3.9/site-packages/torch/utils/data/dataloader.py\", line 1328, in __del__\n",
      "self._shutdown_workers()        assert self._parent_pid == os.getpid(), 'can only test a child process'\n",
      "\n",
      "AssertionError:   File \"/home/ichuviliaeva/miniconda3/envs/is_project/lib/python3.9/site-packages/torch/utils/data/dataloader.py\", line 1320, in _shutdown_workers\n",
      "can only test a child process\n",
      "    if w.is_alive():\n",
      "  File \"/home/ichuviliaeva/miniconda3/envs/is_project/lib/python3.9/multiprocessing/process.py\", line 160, in is_alive\n",
      "    assert self._parent_pid == os.getpid(), 'can only test a child process'\n",
      "AssertionError: can only test a child process\n",
      "Exception ignored in: <function _MultiProcessingDataLoaderIter.__del__ at 0x7f3237e8d3a0>\n",
      "Traceback (most recent call last):\n",
      "  File \"/home/ichuviliaeva/miniconda3/envs/is_project/lib/python3.9/site-packages/torch/utils/data/dataloader.py\", line 1328, in __del__\n",
      "    self._shutdown_workers()\n",
      "  File \"/home/ichuviliaeva/miniconda3/envs/is_project/lib/python3.9/site-packages/torch/utils/data/dataloader.py\", line 1320, in _shutdown_workers\n",
      "    if w.is_alive():\n",
      "  File \"/home/ichuviliaeva/miniconda3/envs/is_project/lib/python3.9/multiprocessing/process.py\", line 160, in is_alive\n",
      "    assert self._parent_pid == os.getpid(), 'can only test a child process'\n",
      "AssertionError: can only test a child process\n"
     ]
    },
    {
     "name": "stdout",
     "output_type": "stream",
     "text": [
      "accuracy: 0.8672962989967562\n",
      "Epoch 18:\n"
     ]
    },
    {
     "data": {
      "application/vnd.jupyter.widget-view+json": {
       "model_id": "1f0e444a0759450a85a1a55b4935218f",
       "version_major": 2,
       "version_minor": 0
      },
      "text/plain": [
       "  0%|          | 0/5036 [00:00<?, ?it/s]"
      ]
     },
     "metadata": {},
     "output_type": "display_data"
    },
    {
     "name": "stderr",
     "output_type": "stream",
     "text": [
      "Exception ignored in: <function _MultiProcessingDataLoaderIter.__del__ at 0x7f3237e8d3a0>\n",
      "Traceback (most recent call last):\n",
      "  File \"/home/ichuviliaeva/miniconda3/envs/is_project/lib/python3.9/site-packages/torch/utils/data/dataloader.py\", line 1328, in __del__\n",
      "    self._shutdown_workers()\n",
      "  File \"/home/ichuviliaeva/miniconda3/envs/is_project/lib/python3.9/site-packages/torch/utils/data/dataloader.py\", line 1320, in _shutdown_workers\n",
      "    if w.is_alive():\n",
      "  File \"/home/ichuviliaeva/miniconda3/envs/is_project/lib/python3.9/multiprocessing/process.py\", line 160, in is_alive\n",
      "    assert self._parent_pid == os.getpid(), 'can only test a child process'\n",
      "AssertionError: can only test a child process\n",
      "Exception ignored in: <function _MultiProcessingDataLoaderIter.__del__ at 0x7f3237e8d3a0>\n",
      "Traceback (most recent call last):\n",
      "  File \"/home/ichuviliaeva/miniconda3/envs/is_project/lib/python3.9/site-packages/torch/utils/data/dataloader.py\", line 1328, in __del__\n",
      "    self._shutdown_workers()\n",
      "  File \"/home/ichuviliaeva/miniconda3/envs/is_project/lib/python3.9/site-packages/torch/utils/data/dataloader.py\", line 1320, in _shutdown_workers\n",
      "    if w.is_alive():\n",
      "  File \"/home/ichuviliaeva/miniconda3/envs/is_project/lib/python3.9/multiprocessing/process.py\", line 160, in is_alive\n",
      "    assert self._parent_pid == os.getpid(), 'can only test a child process'\n",
      "AssertionError: can only test a child process\n",
      "Exception ignored in: <function _MultiProcessingDataLoaderIter.__del__ at 0x7f3237e8d3a0>\n",
      "Traceback (most recent call last):\n",
      "  File \"/home/ichuviliaeva/miniconda3/envs/is_project/lib/python3.9/site-packages/torch/utils/data/dataloader.py\", line 1328, in __del__\n",
      "    self._shutdown_workers()\n",
      "  File \"/home/ichuviliaeva/miniconda3/envs/is_project/lib/python3.9/site-packages/torch/utils/data/dataloader.py\", line 1320, in _shutdown_workers\n",
      "    if w.is_alive():\n",
      "  File \"/home/ichuviliaeva/miniconda3/envs/is_project/lib/python3.9/multiprocessing/process.py\", line 160, in is_alive\n",
      "    assert self._parent_pid == os.getpid(), 'can only test a child process'\n",
      "AssertionError: can only test a child process\n",
      "Exception ignored in: <function _MultiProcessingDataLoaderIter.__del__ at 0x7f3237e8d3a0>\n",
      "Traceback (most recent call last):\n",
      "  File \"/home/ichuviliaeva/miniconda3/envs/is_project/lib/python3.9/site-packages/torch/utils/data/dataloader.py\", line 1328, in __del__\n",
      "    self._shutdown_workers()\n",
      "  File \"/home/ichuviliaeva/miniconda3/envs/is_project/lib/python3.9/site-packages/torch/utils/data/dataloader.py\", line 1320, in _shutdown_workers\n",
      "    if w.is_alive():\n",
      "  File \"/home/ichuviliaeva/miniconda3/envs/is_project/lib/python3.9/multiprocessing/process.py\", line 160, in is_alive\n",
      "    assert self._parent_pid == os.getpid(), 'can only test a child process'\n",
      "AssertionError: can only test a child process\n",
      "Exception ignored in: <function _MultiProcessingDataLoaderIter.__del__ at 0x7f3237e8d3a0>\n",
      "Traceback (most recent call last):\n",
      "  File \"/home/ichuviliaeva/miniconda3/envs/is_project/lib/python3.9/site-packages/torch/utils/data/dataloader.py\", line 1328, in __del__\n",
      "    self._shutdown_workers()\n",
      "  File \"/home/ichuviliaeva/miniconda3/envs/is_project/lib/python3.9/site-packages/torch/utils/data/dataloader.py\", line 1320, in _shutdown_workers\n",
      "    if w.is_alive():\n",
      "  File \"/home/ichuviliaeva/miniconda3/envs/is_project/lib/python3.9/multiprocessing/process.py\", line 160, in is_alive\n",
      "    assert self._parent_pid == os.getpid(), 'can only test a child process'\n",
      "AssertionError: can only test a child process\n",
      "Exception ignored in: <function _MultiProcessingDataLoaderIter.__del__ at 0x7f3237e8d3a0>\n",
      "Traceback (most recent call last):\n",
      "  File \"/home/ichuviliaeva/miniconda3/envs/is_project/lib/python3.9/site-packages/torch/utils/data/dataloader.py\", line 1328, in __del__\n",
      "    self._shutdown_workers()\n",
      "  File \"/home/ichuviliaeva/miniconda3/envs/is_project/lib/python3.9/site-packages/torch/utils/data/dataloader.py\", line 1320, in _shutdown_workers\n",
      "    if w.is_alive():\n",
      "  File \"/home/ichuviliaeva/miniconda3/envs/is_project/lib/python3.9/multiprocessing/process.py\", line 160, in is_alive\n",
      "    assert self._parent_pid == os.getpid(), 'can only test a child process'\n",
      "AssertionError: can only test a child process\n",
      "Exception ignored in: <function _MultiProcessingDataLoaderIter.__del__ at 0x7f3237e8d3a0>\n",
      "Traceback (most recent call last):\n",
      "  File \"/home/ichuviliaeva/miniconda3/envs/is_project/lib/python3.9/site-packages/torch/utils/data/dataloader.py\", line 1328, in __del__\n",
      "    self._shutdown_workers()\n",
      "  File \"/home/ichuviliaeva/miniconda3/envs/is_project/lib/python3.9/site-packages/torch/utils/data/dataloader.py\", line 1320, in _shutdown_workers\n",
      "    if w.is_alive():\n",
      "  File \"/home/ichuviliaeva/miniconda3/envs/is_project/lib/python3.9/multiprocessing/process.py\", line 160, in is_alive\n",
      "    assert self._parent_pid == os.getpid(), 'can only test a child process'\n",
      "AssertionError: can only test a child process\n",
      "Exception ignored in: <function _MultiProcessingDataLoaderIter.__del__ at 0x7f3237e8d3a0>\n",
      "Traceback (most recent call last):\n",
      "  File \"/home/ichuviliaeva/miniconda3/envs/is_project/lib/python3.9/site-packages/torch/utils/data/dataloader.py\", line 1328, in __del__\n",
      "    self._shutdown_workers()\n",
      "  File \"/home/ichuviliaeva/miniconda3/envs/is_project/lib/python3.9/site-packages/torch/utils/data/dataloader.py\", line 1320, in _shutdown_workers\n",
      "    if w.is_alive():\n",
      "  File \"/home/ichuviliaeva/miniconda3/envs/is_project/lib/python3.9/multiprocessing/process.py\", line 160, in is_alive\n",
      "    assert self._parent_pid == os.getpid(), 'can only test a child process'\n",
      "AssertionError: can only test a child process\n",
      "Exception ignored in: <function _MultiProcessingDataLoaderIter.__del__ at 0x7f3237e8d3a0>\n",
      "Traceback (most recent call last):\n",
      "  File \"/home/ichuviliaeva/miniconda3/envs/is_project/lib/python3.9/site-packages/torch/utils/data/dataloader.py\", line 1328, in __del__\n",
      "    self._shutdown_workers()\n",
      "  File \"/home/ichuviliaeva/miniconda3/envs/is_project/lib/python3.9/site-packages/torch/utils/data/dataloader.py\", line 1320, in _shutdown_workers\n",
      "    if w.is_alive():\n",
      "  File \"/home/ichuviliaeva/miniconda3/envs/is_project/lib/python3.9/multiprocessing/process.py\", line 160, in is_alive\n",
      "    assert self._parent_pid == os.getpid(), 'can only test a child process'\n",
      "AssertionError: can only test a child process\n",
      "Exception ignored in: <function _MultiProcessingDataLoaderIter.__del__ at 0x7f3237e8d3a0>\n",
      "Traceback (most recent call last):\n",
      "  File \"/home/ichuviliaeva/miniconda3/envs/is_project/lib/python3.9/site-packages/torch/utils/data/dataloader.py\", line 1328, in __del__\n",
      "    self._shutdown_workers()\n",
      "  File \"/home/ichuviliaeva/miniconda3/envs/is_project/lib/python3.9/site-packages/torch/utils/data/dataloader.py\", line 1320, in _shutdown_workers\n",
      "    if w.is_alive():\n",
      "  File \"/home/ichuviliaeva/miniconda3/envs/is_project/lib/python3.9/multiprocessing/process.py\", line 160, in is_alive\n",
      "    assert self._parent_pid == os.getpid(), 'can only test a child process'\n",
      "AssertionError: can only test a child process\n",
      "Exception ignored in: Exception ignored in: <function _MultiProcessingDataLoaderIter.__del__ at 0x7f3237e8d3a0><function _MultiProcessingDataLoaderIter.__del__ at 0x7f3237e8d3a0>\n",
      "\n",
      "Traceback (most recent call last):\n",
      "Traceback (most recent call last):\n",
      "  File \"/home/ichuviliaeva/miniconda3/envs/is_project/lib/python3.9/site-packages/torch/utils/data/dataloader.py\", line 1328, in __del__\n",
      "  File \"/home/ichuviliaeva/miniconda3/envs/is_project/lib/python3.9/site-packages/torch/utils/data/dataloader.py\", line 1328, in __del__\n",
      "        self._shutdown_workers()self._shutdown_workers()\n",
      "\n",
      "  File \"/home/ichuviliaeva/miniconda3/envs/is_project/lib/python3.9/site-packages/torch/utils/data/dataloader.py\", line 1320, in _shutdown_workers\n",
      "  File \"/home/ichuviliaeva/miniconda3/envs/is_project/lib/python3.9/site-packages/torch/utils/data/dataloader.py\", line 1320, in _shutdown_workers\n",
      "        if w.is_alive():if w.is_alive():\n",
      "\n",
      "  File \"/home/ichuviliaeva/miniconda3/envs/is_project/lib/python3.9/multiprocessing/process.py\", line 160, in is_alive\n",
      "  File \"/home/ichuviliaeva/miniconda3/envs/is_project/lib/python3.9/multiprocessing/process.py\", line 160, in is_alive\n",
      "        assert self._parent_pid == os.getpid(), 'can only test a child process'assert self._parent_pid == os.getpid(), 'can only test a child process'\n",
      "\n",
      "AssertionErrorAssertionError: : can only test a child processcan only test a child process\n",
      "\n",
      "Exception ignored in: <function _MultiProcessingDataLoaderIter.__del__ at 0x7f3237e8d3a0>\n",
      "Traceback (most recent call last):\n",
      "  File \"/home/ichuviliaeva/miniconda3/envs/is_project/lib/python3.9/site-packages/torch/utils/data/dataloader.py\", line 1328, in __del__\n",
      "    self._shutdown_workers()\n",
      "  File \"/home/ichuviliaeva/miniconda3/envs/is_project/lib/python3.9/site-packages/torch/utils/data/dataloader.py\", line 1320, in _shutdown_workers\n",
      "Exception ignored in: <function _MultiProcessingDataLoaderIter.__del__ at 0x7f3237e8d3a0>    if w.is_alive():\n",
      "Traceback (most recent call last):\n",
      "\n",
      "  File \"/home/ichuviliaeva/miniconda3/envs/is_project/lib/python3.9/site-packages/torch/utils/data/dataloader.py\", line 1328, in __del__\n",
      "  File \"/home/ichuviliaeva/miniconda3/envs/is_project/lib/python3.9/multiprocessing/process.py\", line 160, in is_alive\n",
      "        assert self._parent_pid == os.getpid(), 'can only test a child process'self._shutdown_workers()\n",
      "AssertionError\n",
      ":   File \"/home/ichuviliaeva/miniconda3/envs/is_project/lib/python3.9/site-packages/torch/utils/data/dataloader.py\", line 1320, in _shutdown_workers\n",
      "can only test a child process\n",
      "    if w.is_alive():\n",
      "Exception ignored in:   File \"/home/ichuviliaeva/miniconda3/envs/is_project/lib/python3.9/multiprocessing/process.py\", line 160, in is_alive\n",
      "    <function _MultiProcessingDataLoaderIter.__del__ at 0x7f3237e8d3a0>assert self._parent_pid == os.getpid(), 'can only test a child process'\n",
      "\n",
      "Traceback (most recent call last):\n",
      "  File \"/home/ichuviliaeva/miniconda3/envs/is_project/lib/python3.9/site-packages/torch/utils/data/dataloader.py\", line 1328, in __del__\n",
      "AssertionError:     Exception ignored in: self._shutdown_workers()<function _MultiProcessingDataLoaderIter.__del__ at 0x7f3237e8d3a0>\n",
      "can only test a child process  File \"/home/ichuviliaeva/miniconda3/envs/is_project/lib/python3.9/site-packages/torch/utils/data/dataloader.py\", line 1320, in _shutdown_workers\n",
      "\n",
      "\n",
      "    Traceback (most recent call last):\n",
      "  File \"/home/ichuviliaeva/miniconda3/envs/is_project/lib/python3.9/site-packages/torch/utils/data/dataloader.py\", line 1328, in __del__\n",
      "if w.is_alive():    \n",
      "self._shutdown_workers()  File \"/home/ichuviliaeva/miniconda3/envs/is_project/lib/python3.9/multiprocessing/process.py\", line 160, in is_alive\n",
      "\n",
      "Exception ignored in:       File \"/home/ichuviliaeva/miniconda3/envs/is_project/lib/python3.9/site-packages/torch/utils/data/dataloader.py\", line 1320, in _shutdown_workers\n",
      "<function _MultiProcessingDataLoaderIter.__del__ at 0x7f3237e8d3a0>Exception ignored in: assert self._parent_pid == os.getpid(), 'can only test a child process'    \n",
      "<function _MultiProcessingDataLoaderIter.__del__ at 0x7f3237e8d3a0>if w.is_alive():\n",
      "Traceback (most recent call last):\n",
      "\n",
      "\n",
      "  File \"/home/ichuviliaeva/miniconda3/envs/is_project/lib/python3.9/multiprocessing/process.py\", line 160, in is_alive\n",
      "AssertionError  File \"/home/ichuviliaeva/miniconda3/envs/is_project/lib/python3.9/site-packages/torch/utils/data/dataloader.py\", line 1328, in __del__\n",
      "Traceback (most recent call last):\n",
      ":     can only test a child process  File \"/home/ichuviliaeva/miniconda3/envs/is_project/lib/python3.9/site-packages/torch/utils/data/dataloader.py\", line 1328, in __del__\n",
      "    assert self._parent_pid == os.getpid(), 'can only test a child process'\n",
      "    self._shutdown_workers()\n",
      "self._shutdown_workers()\n",
      "\n",
      "AssertionError:   File \"/home/ichuviliaeva/miniconda3/envs/is_project/lib/python3.9/site-packages/torch/utils/data/dataloader.py\", line 1320, in _shutdown_workers\n",
      "  File \"/home/ichuviliaeva/miniconda3/envs/is_project/lib/python3.9/site-packages/torch/utils/data/dataloader.py\", line 1320, in _shutdown_workers\n",
      "can only test a child process    \n",
      "    if w.is_alive():if w.is_alive():\n",
      "\n",
      "  File \"/home/ichuviliaeva/miniconda3/envs/is_project/lib/python3.9/multiprocessing/process.py\", line 160, in is_alive\n",
      "  File \"/home/ichuviliaeva/miniconda3/envs/is_project/lib/python3.9/multiprocessing/process.py\", line 160, in is_alive\n",
      "Exception ignored in:         assert self._parent_pid == os.getpid(), 'can only test a child process'<function _MultiProcessingDataLoaderIter.__del__ at 0x7f3237e8d3a0>\n",
      "\n",
      "assert self._parent_pid == os.getpid(), 'can only test a child process'AssertionErrorTraceback (most recent call last):\n",
      "\n",
      ":   File \"/home/ichuviliaeva/miniconda3/envs/is_project/lib/python3.9/site-packages/torch/utils/data/dataloader.py\", line 1328, in __del__\n",
      "AssertionErrorcan only test a child process    \n",
      ": self._shutdown_workers()can only test a child process\n",
      "  File \"/home/ichuviliaeva/miniconda3/envs/is_project/lib/python3.9/site-packages/torch/utils/data/dataloader.py\", line 1320, in _shutdown_workers\n",
      "\n",
      "    Exception ignored in: if w.is_alive():Exception ignored in: <function _MultiProcessingDataLoaderIter.__del__ at 0x7f3237e8d3a0>\n",
      "<function _MultiProcessingDataLoaderIter.__del__ at 0x7f3237e8d3a0>\n",
      "  File \"/home/ichuviliaeva/miniconda3/envs/is_project/lib/python3.9/multiprocessing/process.py\", line 160, in is_alive\n",
      "\n",
      "Traceback (most recent call last):\n",
      "Traceback (most recent call last):\n",
      "      File \"/home/ichuviliaeva/miniconda3/envs/is_project/lib/python3.9/site-packages/torch/utils/data/dataloader.py\", line 1328, in __del__\n",
      "  File \"/home/ichuviliaeva/miniconda3/envs/is_project/lib/python3.9/site-packages/torch/utils/data/dataloader.py\", line 1328, in __del__\n",
      "assert self._parent_pid == os.getpid(), 'can only test a child process'        \n",
      "AssertionErrorself._shutdown_workers()self._shutdown_workers()\n",
      "\n",
      ":   File \"/home/ichuviliaeva/miniconda3/envs/is_project/lib/python3.9/site-packages/torch/utils/data/dataloader.py\", line 1320, in _shutdown_workers\n",
      "  File \"/home/ichuviliaeva/miniconda3/envs/is_project/lib/python3.9/site-packages/torch/utils/data/dataloader.py\", line 1320, in _shutdown_workers\n",
      "    can only test a child process    if w.is_alive():\n",
      "if w.is_alive():\n",
      "\n",
      "  File \"/home/ichuviliaeva/miniconda3/envs/is_project/lib/python3.9/multiprocessing/process.py\", line 160, in is_alive\n",
      "  File \"/home/ichuviliaeva/miniconda3/envs/is_project/lib/python3.9/multiprocessing/process.py\", line 160, in is_alive\n",
      "        assert self._parent_pid == os.getpid(), 'can only test a child process'assert self._parent_pid == os.getpid(), 'can only test a child process'\n",
      "\n",
      "AssertionError: AssertionErrorcan only test a child process: \n",
      "can only test a child process\n",
      "Exception ignored in: <function _MultiProcessingDataLoaderIter.__del__ at 0x7f3237e8d3a0>\n",
      "Traceback (most recent call last):\n",
      "  File \"/home/ichuviliaeva/miniconda3/envs/is_project/lib/python3.9/site-packages/torch/utils/data/dataloader.py\", line 1328, in __del__\n",
      "    self._shutdown_workers()\n",
      "  File \"/home/ichuviliaeva/miniconda3/envs/is_project/lib/python3.9/site-packages/torch/utils/data/dataloader.py\", line 1320, in _shutdown_workers\n",
      "    if w.is_alive():\n",
      "  File \"/home/ichuviliaeva/miniconda3/envs/is_project/lib/python3.9/multiprocessing/process.py\", line 160, in is_alive\n",
      "    assert self._parent_pid == os.getpid(), 'can only test a child process'\n",
      "AssertionError: can only test a child process\n",
      "Exception ignored in: <function _MultiProcessingDataLoaderIter.__del__ at 0x7f3237e8d3a0>\n",
      "Traceback (most recent call last):\n",
      "  File \"/home/ichuviliaeva/miniconda3/envs/is_project/lib/python3.9/site-packages/torch/utils/data/dataloader.py\", line 1328, in __del__\n",
      "    self._shutdown_workers()\n",
      "  File \"/home/ichuviliaeva/miniconda3/envs/is_project/lib/python3.9/site-packages/torch/utils/data/dataloader.py\", line 1320, in _shutdown_workers\n",
      "    if w.is_alive():\n",
      "Exception ignored in: <function _MultiProcessingDataLoaderIter.__del__ at 0x7f3237e8d3a0>  File \"/home/ichuviliaeva/miniconda3/envs/is_project/lib/python3.9/multiprocessing/process.py\", line 160, in is_alive\n",
      "\n",
      "    Traceback (most recent call last):\n",
      "assert self._parent_pid == os.getpid(), 'can only test a child process'  File \"/home/ichuviliaeva/miniconda3/envs/is_project/lib/python3.9/site-packages/torch/utils/data/dataloader.py\", line 1328, in __del__\n",
      "\n"
     ]
    },
    {
     "name": "stderr",
     "output_type": "stream",
     "text": [
      "    AssertionErrorself._shutdown_workers(): \n",
      "can only test a child process  File \"/home/ichuviliaeva/miniconda3/envs/is_project/lib/python3.9/site-packages/torch/utils/data/dataloader.py\", line 1320, in _shutdown_workers\n",
      "\n",
      "    if w.is_alive():\n",
      "  File \"/home/ichuviliaeva/miniconda3/envs/is_project/lib/python3.9/multiprocessing/process.py\", line 160, in is_alive\n",
      "    assert self._parent_pid == os.getpid(), 'can only test a child process'\n",
      "AssertionError: can only test a child process\n",
      "Exception ignored in: <function _MultiProcessingDataLoaderIter.__del__ at 0x7f3237e8d3a0>\n",
      "Traceback (most recent call last):\n",
      "  File \"/home/ichuviliaeva/miniconda3/envs/is_project/lib/python3.9/site-packages/torch/utils/data/dataloader.py\", line 1328, in __del__\n",
      "    self._shutdown_workers()\n",
      "  File \"/home/ichuviliaeva/miniconda3/envs/is_project/lib/python3.9/site-packages/torch/utils/data/dataloader.py\", line 1320, in _shutdown_workers\n",
      "    if w.is_alive():\n",
      "  File \"/home/ichuviliaeva/miniconda3/envs/is_project/lib/python3.9/multiprocessing/process.py\", line 160, in is_alive\n",
      "    assert self._parent_pid == os.getpid(), 'can only test a child process'\n",
      "AssertionError: Exception ignored in: can only test a child process<function _MultiProcessingDataLoaderIter.__del__ at 0x7f3237e8d3a0>\n",
      "\n",
      "Traceback (most recent call last):\n",
      "  File \"/home/ichuviliaeva/miniconda3/envs/is_project/lib/python3.9/site-packages/torch/utils/data/dataloader.py\", line 1328, in __del__\n",
      "    self._shutdown_workers()\n",
      "Exception ignored in: <function _MultiProcessingDataLoaderIter.__del__ at 0x7f3237e8d3a0>Traceback (most recent call last):\n",
      "  File \"/home/ichuviliaeva/miniconda3/envs/is_project/lib/python3.9/site-packages/torch/utils/data/dataloader.py\", line 1320, in _shutdown_workers\n",
      "\n",
      "    if w.is_alive():  File \"/home/ichuviliaeva/miniconda3/envs/is_project/lib/python3.9/site-packages/torch/utils/data/dataloader.py\", line 1328, in __del__\n",
      "\n",
      "    self._shutdown_workers()  File \"/home/ichuviliaeva/miniconda3/envs/is_project/lib/python3.9/multiprocessing/process.py\", line 160, in is_alive\n",
      "Exception ignored in:     <function _MultiProcessingDataLoaderIter.__del__ at 0x7f3237e8d3a0>\n",
      "  File \"/home/ichuviliaeva/miniconda3/envs/is_project/lib/python3.9/site-packages/torch/utils/data/dataloader.py\", line 1320, in _shutdown_workers\n",
      "\n",
      "assert self._parent_pid == os.getpid(), 'can only test a child process'Traceback (most recent call last):\n",
      "\n",
      "    AssertionError  File \"/home/ichuviliaeva/miniconda3/envs/is_project/lib/python3.9/site-packages/torch/utils/data/dataloader.py\", line 1328, in __del__\n",
      ": if w.is_alive():\n",
      "  File \"/home/ichuviliaeva/miniconda3/envs/is_project/lib/python3.9/multiprocessing/process.py\", line 160, in is_alive\n",
      "can only test a child process        \n",
      "assert self._parent_pid == os.getpid(), 'can only test a child process'\n",
      "self._shutdown_workers()AssertionError\n",
      "  File \"/home/ichuviliaeva/miniconda3/envs/is_project/lib/python3.9/site-packages/torch/utils/data/dataloader.py\", line 1320, in _shutdown_workers\n",
      "    : if w.is_alive():can only test a child process\n",
      "Exception ignored in: <function _MultiProcessingDataLoaderIter.__del__ at 0x7f3237e8d3a0>\n",
      "\n",
      "Traceback (most recent call last):\n",
      "  File \"/home/ichuviliaeva/miniconda3/envs/is_project/lib/python3.9/multiprocessing/process.py\", line 160, in is_alive\n",
      "    assert self._parent_pid == os.getpid(), 'can only test a child process'  File \"/home/ichuviliaeva/miniconda3/envs/is_project/lib/python3.9/site-packages/torch/utils/data/dataloader.py\", line 1328, in __del__\n",
      "    self._shutdown_workers()\n",
      "AssertionError: \n",
      "can only test a child process  File \"/home/ichuviliaeva/miniconda3/envs/is_project/lib/python3.9/site-packages/torch/utils/data/dataloader.py\", line 1320, in _shutdown_workers\n",
      "\n",
      "    if w.is_alive():\n",
      "  File \"/home/ichuviliaeva/miniconda3/envs/is_project/lib/python3.9/multiprocessing/process.py\", line 160, in is_alive\n",
      "Exception ignored in: <function _MultiProcessingDataLoaderIter.__del__ at 0x7f3237e8d3a0>    assert self._parent_pid == os.getpid(), 'can only test a child process'\n",
      "\n",
      "Traceback (most recent call last):\n",
      "  File \"/home/ichuviliaeva/miniconda3/envs/is_project/lib/python3.9/site-packages/torch/utils/data/dataloader.py\", line 1328, in __del__\n",
      "AssertionError    : self._shutdown_workers()can only test a child process\n",
      "\n",
      "  File \"/home/ichuviliaeva/miniconda3/envs/is_project/lib/python3.9/site-packages/torch/utils/data/dataloader.py\", line 1320, in _shutdown_workers\n",
      "    if w.is_alive():\n",
      "  File \"/home/ichuviliaeva/miniconda3/envs/is_project/lib/python3.9/multiprocessing/process.py\", line 160, in is_alive\n",
      "    assert self._parent_pid == os.getpid(), 'can only test a child process'\n",
      "AssertionError: can only test a child process\n",
      "Exception ignored in: <function _MultiProcessingDataLoaderIter.__del__ at 0x7f3237e8d3a0>\n",
      "Traceback (most recent call last):\n",
      "  File \"/home/ichuviliaeva/miniconda3/envs/is_project/lib/python3.9/site-packages/torch/utils/data/dataloader.py\", line 1328, in __del__\n",
      "    self._shutdown_workers()\n",
      "  File \"/home/ichuviliaeva/miniconda3/envs/is_project/lib/python3.9/site-packages/torch/utils/data/dataloader.py\", line 1320, in _shutdown_workers\n",
      "    if w.is_alive():\n",
      "  File \"/home/ichuviliaeva/miniconda3/envs/is_project/lib/python3.9/multiprocessing/process.py\", line 160, in is_alive\n",
      "    Exception ignored in: assert self._parent_pid == os.getpid(), 'can only test a child process'\n",
      "<function _MultiProcessingDataLoaderIter.__del__ at 0x7f3237e8d3a0>\n",
      "AssertionErrorTraceback (most recent call last):\n",
      "  File \"/home/ichuviliaeva/miniconda3/envs/is_project/lib/python3.9/site-packages/torch/utils/data/dataloader.py\", line 1328, in __del__\n",
      ": can only test a child process    \n",
      "self._shutdown_workers()\n",
      "  File \"/home/ichuviliaeva/miniconda3/envs/is_project/lib/python3.9/site-packages/torch/utils/data/dataloader.py\", line 1320, in _shutdown_workers\n",
      "    if w.is_alive():Exception ignored in: \n",
      "  File \"/home/ichuviliaeva/miniconda3/envs/is_project/lib/python3.9/multiprocessing/process.py\", line 160, in is_alive\n",
      "<function _MultiProcessingDataLoaderIter.__del__ at 0x7f3237e8d3a0>    assert self._parent_pid == os.getpid(), 'can only test a child process'\n",
      "\n",
      "Traceback (most recent call last):\n",
      "AssertionError:   File \"/home/ichuviliaeva/miniconda3/envs/is_project/lib/python3.9/site-packages/torch/utils/data/dataloader.py\", line 1328, in __del__\n",
      "    can only test a child process\n",
      "self._shutdown_workers()\n",
      "  File \"/home/ichuviliaeva/miniconda3/envs/is_project/lib/python3.9/site-packages/torch/utils/data/dataloader.py\", line 1320, in _shutdown_workers\n",
      "    if w.is_alive():\n",
      "  File \"/home/ichuviliaeva/miniconda3/envs/is_project/lib/python3.9/multiprocessing/process.py\", line 160, in is_alive\n",
      "    assert self._parent_pid == os.getpid(), 'can only test a child process'\n",
      "AssertionError: can only test a child process\n",
      "Exception ignored in: <function _MultiProcessingDataLoaderIter.__del__ at 0x7f3237e8d3a0>\n",
      "Traceback (most recent call last):\n",
      "  File \"/home/ichuviliaeva/miniconda3/envs/is_project/lib/python3.9/site-packages/torch/utils/data/dataloader.py\", line 1328, in __del__\n",
      "    self._shutdown_workers()\n",
      "  File \"/home/ichuviliaeva/miniconda3/envs/is_project/lib/python3.9/site-packages/torch/utils/data/dataloader.py\", line 1320, in _shutdown_workers\n",
      "    if w.is_alive():\n",
      "  File \"/home/ichuviliaeva/miniconda3/envs/is_project/lib/python3.9/multiprocessing/process.py\", line 160, in is_alive\n",
      "    assert self._parent_pid == os.getpid(), 'can only test a child process'\n",
      "AssertionError: can only test a child process\n",
      "Exception ignored in: <function _MultiProcessingDataLoaderIter.__del__ at 0x7f3237e8d3a0>\n",
      "Traceback (most recent call last):\n",
      "  File \"/home/ichuviliaeva/miniconda3/envs/is_project/lib/python3.9/site-packages/torch/utils/data/dataloader.py\", line 1328, in __del__\n",
      "    self._shutdown_workers()\n",
      "  File \"/home/ichuviliaeva/miniconda3/envs/is_project/lib/python3.9/site-packages/torch/utils/data/dataloader.py\", line 1320, in _shutdown_workers\n",
      "    if w.is_alive():\n",
      "  File \"/home/ichuviliaeva/miniconda3/envs/is_project/lib/python3.9/multiprocessing/process.py\", line 160, in is_alive\n",
      "    assert self._parent_pid == os.getpid(), 'can only test a child process'\n",
      "AssertionError: can only test a child process\n",
      "Exception ignored in: <function _MultiProcessingDataLoaderIter.__del__ at 0x7f3237e8d3a0>\n",
      "Traceback (most recent call last):\n",
      "  File \"/home/ichuviliaeva/miniconda3/envs/is_project/lib/python3.9/site-packages/torch/utils/data/dataloader.py\", line 1328, in __del__\n",
      "    self._shutdown_workers()\n",
      "  File \"/home/ichuviliaeva/miniconda3/envs/is_project/lib/python3.9/site-packages/torch/utils/data/dataloader.py\", line 1320, in _shutdown_workers\n",
      "    if w.is_alive():\n",
      "  File \"/home/ichuviliaeva/miniconda3/envs/is_project/lib/python3.9/multiprocessing/process.py\", line 160, in is_alive\n",
      "    assert self._parent_pid == os.getpid(), 'can only test a child process'\n",
      "AssertionError: can only test a child process\n",
      "Exception ignored in: <function _MultiProcessingDataLoaderIter.__del__ at 0x7f3237e8d3a0>\n",
      "Traceback (most recent call last):\n",
      "  File \"/home/ichuviliaeva/miniconda3/envs/is_project/lib/python3.9/site-packages/torch/utils/data/dataloader.py\", line 1328, in __del__\n",
      "    self._shutdown_workers()\n",
      "  File \"/home/ichuviliaeva/miniconda3/envs/is_project/lib/python3.9/site-packages/torch/utils/data/dataloader.py\", line 1320, in _shutdown_workers\n",
      "    if w.is_alive():\n",
      "  File \"/home/ichuviliaeva/miniconda3/envs/is_project/lib/python3.9/multiprocessing/process.py\", line 160, in is_alive\n",
      "    assert self._parent_pid == os.getpid(), 'can only test a child process'\n",
      "AssertionError: can only test a child process\n",
      "Exception ignored in: <function _MultiProcessingDataLoaderIter.__del__ at 0x7f3237e8d3a0>\n",
      "Traceback (most recent call last):\n",
      "  File \"/home/ichuviliaeva/miniconda3/envs/is_project/lib/python3.9/site-packages/torch/utils/data/dataloader.py\", line 1328, in __del__\n",
      "    self._shutdown_workers()\n",
      "  File \"/home/ichuviliaeva/miniconda3/envs/is_project/lib/python3.9/site-packages/torch/utils/data/dataloader.py\", line 1320, in _shutdown_workers\n",
      "    if w.is_alive():\n",
      "  File \"/home/ichuviliaeva/miniconda3/envs/is_project/lib/python3.9/multiprocessing/process.py\", line 160, in is_alive\n",
      "    assert self._parent_pid == os.getpid(), 'can only test a child process'\n",
      "AssertionError: can only test a child process\n",
      "Exception ignored in: <function _MultiProcessingDataLoaderIter.__del__ at 0x7f3237e8d3a0>\n",
      "Traceback (most recent call last):\n",
      "  File \"/home/ichuviliaeva/miniconda3/envs/is_project/lib/python3.9/site-packages/torch/utils/data/dataloader.py\", line 1328, in __del__\n",
      "    self._shutdown_workers()\n",
      "  File \"/home/ichuviliaeva/miniconda3/envs/is_project/lib/python3.9/site-packages/torch/utils/data/dataloader.py\", line 1320, in _shutdown_workers\n",
      "    if w.is_alive():\n",
      "  File \"/home/ichuviliaeva/miniconda3/envs/is_project/lib/python3.9/multiprocessing/process.py\", line 160, in is_alive\n",
      "    assert self._parent_pid == os.getpid(), 'can only test a child process'\n",
      "AssertionError: can only test a child process\n",
      "Exception ignored in: <function _MultiProcessingDataLoaderIter.__del__ at 0x7f3237e8d3a0>\n",
      "Traceback (most recent call last):\n",
      "  File \"/home/ichuviliaeva/miniconda3/envs/is_project/lib/python3.9/site-packages/torch/utils/data/dataloader.py\", line 1328, in __del__\n",
      "    self._shutdown_workers()\n",
      "  File \"/home/ichuviliaeva/miniconda3/envs/is_project/lib/python3.9/site-packages/torch/utils/data/dataloader.py\", line 1320, in _shutdown_workers\n",
      "    if w.is_alive():\n",
      "  File \"/home/ichuviliaeva/miniconda3/envs/is_project/lib/python3.9/multiprocessing/process.py\", line 160, in is_alive\n",
      "    assert self._parent_pid == os.getpid(), 'can only test a child process'\n",
      "AssertionError: can only test a child process\n",
      "Exception ignored in: <function _MultiProcessingDataLoaderIter.__del__ at 0x7f3237e8d3a0>\n",
      "Traceback (most recent call last):\n",
      "  File \"/home/ichuviliaeva/miniconda3/envs/is_project/lib/python3.9/site-packages/torch/utils/data/dataloader.py\", line 1328, in __del__\n",
      "    self._shutdown_workers()\n",
      "  File \"/home/ichuviliaeva/miniconda3/envs/is_project/lib/python3.9/site-packages/torch/utils/data/dataloader.py\", line 1320, in _shutdown_workers\n",
      "    if w.is_alive():\n",
      "  File \"/home/ichuviliaeva/miniconda3/envs/is_project/lib/python3.9/multiprocessing/process.py\", line 160, in is_alive\n",
      "    assert self._parent_pid == os.getpid(), 'can only test a child process'\n",
      "AssertionError: can only test a child process\n",
      "Exception ignored in: <function _MultiProcessingDataLoaderIter.__del__ at 0x7f3237e8d3a0>\n",
      "Traceback (most recent call last):\n",
      "  File \"/home/ichuviliaeva/miniconda3/envs/is_project/lib/python3.9/site-packages/torch/utils/data/dataloader.py\", line 1328, in __del__\n",
      "Exception ignored in:     <function _MultiProcessingDataLoaderIter.__del__ at 0x7f3237e8d3a0>self._shutdown_workers()\n",
      "Exception ignored in: \n",
      "Traceback (most recent call last):\n",
      "  File \"/home/ichuviliaeva/miniconda3/envs/is_project/lib/python3.9/site-packages/torch/utils/data/dataloader.py\", line 1320, in _shutdown_workers\n",
      "<function _MultiProcessingDataLoaderIter.__del__ at 0x7f3237e8d3a0>  File \"/home/ichuviliaeva/miniconda3/envs/is_project/lib/python3.9/site-packages/torch/utils/data/dataloader.py\", line 1328, in __del__\n",
      "    \n",
      "    self._shutdown_workers()\n",
      "  File \"/home/ichuviliaeva/miniconda3/envs/is_project/lib/python3.9/site-packages/torch/utils/data/dataloader.py\", line 1320, in _shutdown_workers\n",
      "    Traceback (most recent call last):\n",
      "if w.is_alive():if w.is_alive():  File \"/home/ichuviliaeva/miniconda3/envs/is_project/lib/python3.9/site-packages/torch/utils/data/dataloader.py\", line 1328, in __del__\n",
      "\n",
      "\n",
      "  File \"/home/ichuviliaeva/miniconda3/envs/is_project/lib/python3.9/multiprocessing/process.py\", line 160, in is_alive\n",
      "      File \"/home/ichuviliaeva/miniconda3/envs/is_project/lib/python3.9/multiprocessing/process.py\", line 160, in is_alive\n",
      "    self._shutdown_workers()\n",
      "assert self._parent_pid == os.getpid(), 'can only test a child process'    \n",
      "assert self._parent_pid == os.getpid(), 'can only test a child process'\n",
      "AssertionErrorAssertionError:   File \"/home/ichuviliaeva/miniconda3/envs/is_project/lib/python3.9/site-packages/torch/utils/data/dataloader.py\", line 1320, in _shutdown_workers\n",
      ": can only test a child process\n",
      "can only test a child process    Exception ignored in: \n",
      "if w.is_alive():Exception ignored in: <function _MultiProcessingDataLoaderIter.__del__ at 0x7f3237e8d3a0>\n",
      "Exception ignored in: \n",
      "<function _MultiProcessingDataLoaderIter.__del__ at 0x7f3237e8d3a0>  File \"/home/ichuviliaeva/miniconda3/envs/is_project/lib/python3.9/multiprocessing/process.py\", line 160, in is_alive\n",
      "<function _MultiProcessingDataLoaderIter.__del__ at 0x7f3237e8d3a0>Traceback (most recent call last):\n",
      "\n",
      "\n",
      "Traceback (most recent call last):\n",
      "  File \"/home/ichuviliaeva/miniconda3/envs/is_project/lib/python3.9/site-packages/torch/utils/data/dataloader.py\", line 1328, in __del__\n",
      "        Exception ignored in: self._shutdown_workers()  File \"/home/ichuviliaeva/miniconda3/envs/is_project/lib/python3.9/site-packages/torch/utils/data/dataloader.py\", line 1328, in __del__\n",
      "<function _MultiProcessingDataLoaderIter.__del__ at 0x7f3237e8d3a0>assert self._parent_pid == os.getpid(), 'can only test a child process'Traceback (most recent call last):\n",
      "Exception ignored in: \n",
      "\n",
      "\n",
      "      File \"/home/ichuviliaeva/miniconda3/envs/is_project/lib/python3.9/site-packages/torch/utils/data/dataloader.py\", line 1328, in __del__\n",
      "<function _MultiProcessingDataLoaderIter.__del__ at 0x7f3237e8d3a0>  File \"/home/ichuviliaeva/miniconda3/envs/is_project/lib/python3.9/site-packages/torch/utils/data/dataloader.py\", line 1320, in _shutdown_workers\n",
      "Traceback (most recent call last):\n",
      "AssertionErrorself._shutdown_workers()\n",
      "  File \"/home/ichuviliaeva/miniconda3/envs/is_project/lib/python3.9/site-packages/torch/utils/data/dataloader.py\", line 1328, in __del__\n",
      ":     Traceback (most recent call last):\n",
      "\n",
      "      File \"/home/ichuviliaeva/miniconda3/envs/is_project/lib/python3.9/site-packages/torch/utils/data/dataloader.py\", line 1328, in __del__\n",
      "  File \"/home/ichuviliaeva/miniconda3/envs/is_project/lib/python3.9/site-packages/torch/utils/data/dataloader.py\", line 1320, in _shutdown_workers\n",
      "self._shutdown_workers()        self._shutdown_workers()\n",
      "    if w.is_alive():can only test a child processself._shutdown_workers()if w.is_alive():\n",
      "  File \"/home/ichuviliaeva/miniconda3/envs/is_project/lib/python3.9/site-packages/torch/utils/data/dataloader.py\", line 1320, in _shutdown_workers\n"
     ]
    },
    {
     "name": "stderr",
     "output_type": "stream",
     "text": [
      "\n",
      "\n",
      "\n",
      "\n",
      "      File \"/home/ichuviliaeva/miniconda3/envs/is_project/lib/python3.9/multiprocessing/process.py\", line 160, in is_alive\n",
      "  File \"/home/ichuviliaeva/miniconda3/envs/is_project/lib/python3.9/multiprocessing/process.py\", line 160, in is_alive\n",
      "      File \"/home/ichuviliaeva/miniconda3/envs/is_project/lib/python3.9/site-packages/torch/utils/data/dataloader.py\", line 1320, in _shutdown_workers\n",
      "  File \"/home/ichuviliaeva/miniconda3/envs/is_project/lib/python3.9/site-packages/torch/utils/data/dataloader.py\", line 1320, in _shutdown_workers\n",
      "    if w.is_alive():assert self._parent_pid == os.getpid(), 'can only test a child process'    \n",
      "\n",
      "    AssertionErrorif w.is_alive():assert self._parent_pid == os.getpid(), 'can only test a child process'\n",
      ": if w.is_alive():  File \"/home/ichuviliaeva/miniconda3/envs/is_project/lib/python3.9/multiprocessing/process.py\", line 160, in is_alive\n",
      "      File \"/home/ichuviliaeva/miniconda3/envs/is_project/lib/python3.9/multiprocessing/process.py\", line 160, in is_alive\n",
      "\n",
      "can only test a child process      File \"/home/ichuviliaeva/miniconda3/envs/is_project/lib/python3.9/multiprocessing/process.py\", line 160, in is_alive\n",
      "\n",
      "\n",
      "assert self._parent_pid == os.getpid(), 'can only test a child process'AssertionErrorException ignored in: assert self._parent_pid == os.getpid(), 'can only test a child process'\n",
      "\n",
      ": AssertionError    <function _MultiProcessingDataLoaderIter.__del__ at 0x7f3237e8d3a0>AssertionErrorcan only test a child process: assert self._parent_pid == os.getpid(), 'can only test a child process': \n",
      "Exception ignored in: \n",
      "can only test a child process\n",
      "<function _MultiProcessingDataLoaderIter.__del__ at 0x7f3237e8d3a0>can only test a child process\n",
      "Traceback (most recent call last):\n",
      "\n",
      "AssertionError\n",
      "  File \"/home/ichuviliaeva/miniconda3/envs/is_project/lib/python3.9/site-packages/torch/utils/data/dataloader.py\", line 1328, in __del__\n",
      "Traceback (most recent call last):\n",
      ":   File \"/home/ichuviliaeva/miniconda3/envs/is_project/lib/python3.9/site-packages/torch/utils/data/dataloader.py\", line 1328, in __del__\n",
      "Exception ignored in: <function _MultiProcessingDataLoaderIter.__del__ at 0x7f3237e8d3a0>\n",
      "    Exception ignored in: Traceback (most recent call last):\n",
      "<function _MultiProcessingDataLoaderIter.__del__ at 0x7f3237e8d3a0>self._shutdown_workers()\n",
      "\n",
      "Traceback (most recent call last):\n",
      "  File \"/home/ichuviliaeva/miniconda3/envs/is_project/lib/python3.9/site-packages/torch/utils/data/dataloader.py\", line 1328, in __del__\n",
      "  File \"/home/ichuviliaeva/miniconda3/envs/is_project/lib/python3.9/site-packages/torch/utils/data/dataloader.py\", line 1320, in _shutdown_workers\n",
      "can only test a child process  File \"/home/ichuviliaeva/miniconda3/envs/is_project/lib/python3.9/site-packages/torch/utils/data/dataloader.py\", line 1328, in __del__\n",
      "    \n",
      "        self._shutdown_workers()self._shutdown_workers()if w.is_alive():    \n",
      "  File \"/home/ichuviliaeva/miniconda3/envs/is_project/lib/python3.9/site-packages/torch/utils/data/dataloader.py\", line 1320, in _shutdown_workers\n",
      "    if w.is_alive():\n",
      "\n",
      "self._shutdown_workers()  File \"/home/ichuviliaeva/miniconda3/envs/is_project/lib/python3.9/multiprocessing/process.py\", line 160, in is_alive\n",
      "\n",
      "\n",
      "  File \"/home/ichuviliaeva/miniconda3/envs/is_project/lib/python3.9/site-packages/torch/utils/data/dataloader.py\", line 1320, in _shutdown_workers\n",
      "  File \"/home/ichuviliaeva/miniconda3/envs/is_project/lib/python3.9/multiprocessing/process.py\", line 160, in is_alive\n",
      "    Exception ignored in:   File \"/home/ichuviliaeva/miniconda3/envs/is_project/lib/python3.9/site-packages/torch/utils/data/dataloader.py\", line 1320, in _shutdown_workers\n",
      "assert self._parent_pid == os.getpid(), 'can only test a child process'    <function _MultiProcessingDataLoaderIter.__del__ at 0x7f3237e8d3a0>\n",
      "if w.is_alive():    \n",
      "    AssertionErrorTraceback (most recent call last):\n",
      "\n",
      "assert self._parent_pid == os.getpid(), 'can only test a child process'  File \"/home/ichuviliaeva/miniconda3/envs/is_project/lib/python3.9/site-packages/torch/utils/data/dataloader.py\", line 1328, in __del__\n",
      "if w.is_alive():    self._shutdown_workers()\n",
      "  File \"/home/ichuviliaeva/miniconda3/envs/is_project/lib/python3.9/site-packages/torch/utils/data/dataloader.py\", line 1320, in _shutdown_workers\n",
      "  File \"/home/ichuviliaeva/miniconda3/envs/is_project/lib/python3.9/multiprocessing/process.py\", line 160, in is_alive\n",
      "\n",
      ":         AssertionErrorcan only test a child process\n",
      "if w.is_alive():assert self._parent_pid == os.getpid(), 'can only test a child process'\n",
      "\n",
      ": AssertionError  File \"/home/ichuviliaeva/miniconda3/envs/is_project/lib/python3.9/multiprocessing/process.py\", line 160, in is_alive\n",
      "\n",
      ": can only test a child process  File \"/home/ichuviliaeva/miniconda3/envs/is_project/lib/python3.9/multiprocessing/process.py\", line 160, in is_alive\n",
      "    can only test a child process\n",
      "assert self._parent_pid == os.getpid(), 'can only test a child process'    \n",
      "\n",
      "assert self._parent_pid == os.getpid(), 'can only test a child process'AssertionError\n",
      ": AssertionErrorcan only test a child process: can only test a child process\n",
      "\n",
      "Exception ignored in: <function _MultiProcessingDataLoaderIter.__del__ at 0x7f3237e8d3a0>\n",
      "Traceback (most recent call last):\n",
      "  File \"/home/ichuviliaeva/miniconda3/envs/is_project/lib/python3.9/site-packages/torch/utils/data/dataloader.py\", line 1328, in __del__\n",
      "    self._shutdown_workers()\n",
      "  File \"/home/ichuviliaeva/miniconda3/envs/is_project/lib/python3.9/site-packages/torch/utils/data/dataloader.py\", line 1320, in _shutdown_workers\n",
      "    if w.is_alive():\n",
      "  File \"/home/ichuviliaeva/miniconda3/envs/is_project/lib/python3.9/multiprocessing/process.py\", line 160, in is_alive\n",
      "Exception ignored in: <function _MultiProcessingDataLoaderIter.__del__ at 0x7f3237e8d3a0>    assert self._parent_pid == os.getpid(), 'can only test a child process'\n",
      "\n",
      "AssertionError: Traceback (most recent call last):\n",
      "  File \"/home/ichuviliaeva/miniconda3/envs/is_project/lib/python3.9/site-packages/torch/utils/data/dataloader.py\", line 1328, in __del__\n",
      "can only test a child process    \n",
      "self._shutdown_workers()\n",
      "  File \"/home/ichuviliaeva/miniconda3/envs/is_project/lib/python3.9/site-packages/torch/utils/data/dataloader.py\", line 1320, in _shutdown_workers\n",
      "    if w.is_alive():\n",
      "  File \"/home/ichuviliaeva/miniconda3/envs/is_project/lib/python3.9/multiprocessing/process.py\", line 160, in is_alive\n",
      "    assert self._parent_pid == os.getpid(), 'can only test a child process'\n",
      "AssertionError: can only test a child process\n",
      "Exception ignored in: <function _MultiProcessingDataLoaderIter.__del__ at 0x7f3237e8d3a0>\n",
      "Exception ignored in: Exception ignored in: <function _MultiProcessingDataLoaderIter.__del__ at 0x7f3237e8d3a0><function _MultiProcessingDataLoaderIter.__del__ at 0x7f3237e8d3a0>Traceback (most recent call last):\n",
      "\n",
      "\n",
      "Exception ignored in:   File \"/home/ichuviliaeva/miniconda3/envs/is_project/lib/python3.9/site-packages/torch/utils/data/dataloader.py\", line 1328, in __del__\n",
      "Traceback (most recent call last):\n",
      "Traceback (most recent call last):\n",
      "<function _MultiProcessingDataLoaderIter.__del__ at 0x7f3237e8d3a0>  File \"/home/ichuviliaeva/miniconda3/envs/is_project/lib/python3.9/site-packages/torch/utils/data/dataloader.py\", line 1328, in __del__\n",
      "  File \"/home/ichuviliaeva/miniconda3/envs/is_project/lib/python3.9/site-packages/torch/utils/data/dataloader.py\", line 1328, in __del__\n",
      "\n",
      "    Traceback (most recent call last):\n",
      "      File \"/home/ichuviliaeva/miniconda3/envs/is_project/lib/python3.9/site-packages/torch/utils/data/dataloader.py\", line 1328, in __del__\n",
      "self._shutdown_workers()    self._shutdown_workers()\n",
      "self._shutdown_workers()    \n",
      "  File \"/home/ichuviliaeva/miniconda3/envs/is_project/lib/python3.9/site-packages/torch/utils/data/dataloader.py\", line 1320, in _shutdown_workers\n",
      "self._shutdown_workers()\n",
      "  File \"/home/ichuviliaeva/miniconda3/envs/is_project/lib/python3.9/site-packages/torch/utils/data/dataloader.py\", line 1320, in _shutdown_workers\n",
      "\n",
      "  File \"/home/ichuviliaeva/miniconda3/envs/is_project/lib/python3.9/site-packages/torch/utils/data/dataloader.py\", line 1320, in _shutdown_workers\n",
      "    Exception ignored in:   File \"/home/ichuviliaeva/miniconda3/envs/is_project/lib/python3.9/site-packages/torch/utils/data/dataloader.py\", line 1320, in _shutdown_workers\n"
     ]
    },
    {
     "name": "stderr",
     "output_type": "stream",
     "text": [
      "if w.is_alive():        if w.is_alive():<function _MultiProcessingDataLoaderIter.__del__ at 0x7f3237e8d3a0>\n",
      "    if w.is_alive():\n",
      "  File \"/home/ichuviliaeva/miniconda3/envs/is_project/lib/python3.9/multiprocessing/process.py\", line 160, in is_alive\n",
      "\n",
      "if w.is_alive():\n",
      "Traceback (most recent call last):\n",
      "  File \"/home/ichuviliaeva/miniconda3/envs/is_project/lib/python3.9/multiprocessing/process.py\", line 160, in is_alive\n",
      "      File \"/home/ichuviliaeva/miniconda3/envs/is_project/lib/python3.9/multiprocessing/process.py\", line 160, in is_alive\n",
      "Exception ignored in:   File \"/home/ichuviliaeva/miniconda3/envs/is_project/lib/python3.9/site-packages/torch/utils/data/dataloader.py\", line 1328, in __del__\n",
      "\n",
      "assert self._parent_pid == os.getpid(), 'can only test a child process'          File \"/home/ichuviliaeva/miniconda3/envs/is_project/lib/python3.9/multiprocessing/process.py\", line 160, in is_alive\n",
      "<function _MultiProcessingDataLoaderIter.__del__ at 0x7f3237e8d3a0>    \n",
      "assert self._parent_pid == os.getpid(), 'can only test a child process'self._shutdown_workers()assert self._parent_pid == os.getpid(), 'can only test a child process'\n",
      "\n",
      "    AssertionError\n",
      "AssertionErrorTraceback (most recent call last):\n",
      "assert self._parent_pid == os.getpid(), 'can only test a child process'  File \"/home/ichuviliaeva/miniconda3/envs/is_project/lib/python3.9/site-packages/torch/utils/data/dataloader.py\", line 1320, in _shutdown_workers\n",
      ":   File \"/home/ichuviliaeva/miniconda3/envs/is_project/lib/python3.9/site-packages/torch/utils/data/dataloader.py\", line 1328, in __del__\n",
      ": \n",
      "\n",
      "can only test a child processAssertionError:     \n",
      "can only test a child processcan only test a child process    AssertionErrorif w.is_alive():\n",
      "\n",
      "self._shutdown_workers()\n",
      ":   File \"/home/ichuviliaeva/miniconda3/envs/is_project/lib/python3.9/multiprocessing/process.py\", line 160, in is_alive\n",
      "\n",
      "      File \"/home/ichuviliaeva/miniconda3/envs/is_project/lib/python3.9/site-packages/torch/utils/data/dataloader.py\", line 1320, in _shutdown_workers\n",
      "assert self._parent_pid == os.getpid(), 'can only test a child process'can only test a child process\n",
      "    Exception ignored in: AssertionErrorException ignored in: \n",
      "if w.is_alive():Exception ignored in: <function _MultiProcessingDataLoaderIter.__del__ at 0x7f3237e8d3a0><function _MultiProcessingDataLoaderIter.__del__ at 0x7f3237e8d3a0><function _MultiProcessingDataLoaderIter.__del__ at 0x7f3237e8d3a0>\n",
      "\n",
      ": \n",
      "Traceback (most recent call last):\n",
      "Traceback (most recent call last):\n",
      "can only test a child process  File \"/home/ichuviliaeva/miniconda3/envs/is_project/lib/python3.9/site-packages/torch/utils/data/dataloader.py\", line 1328, in __del__\n",
      "\n",
      "  File \"/home/ichuviliaeva/miniconda3/envs/is_project/lib/python3.9/site-packages/torch/utils/data/dataloader.py\", line 1328, in __del__\n",
      "\n",
      "  File \"/home/ichuviliaeva/miniconda3/envs/is_project/lib/python3.9/multiprocessing/process.py\", line 160, in is_alive\n",
      "Traceback (most recent call last):\n",
      "            self._shutdown_workers()  File \"/home/ichuviliaeva/miniconda3/envs/is_project/lib/python3.9/site-packages/torch/utils/data/dataloader.py\", line 1328, in __del__\n",
      "assert self._parent_pid == os.getpid(), 'can only test a child process'Exception ignored in: self._shutdown_workers()    \n",
      "\n",
      "<function _MultiProcessingDataLoaderIter.__del__ at 0x7f3237e8d3a0>\n",
      "  File \"/home/ichuviliaeva/miniconda3/envs/is_project/lib/python3.9/site-packages/torch/utils/data/dataloader.py\", line 1320, in _shutdown_workers\n",
      "AssertionError\n",
      "self._shutdown_workers():   File \"/home/ichuviliaeva/miniconda3/envs/is_project/lib/python3.9/site-packages/torch/utils/data/dataloader.py\", line 1320, in _shutdown_workers\n",
      "\n",
      "    Exception ignored in: can only test a child processTraceback (most recent call last):\n",
      "  File \"/home/ichuviliaeva/miniconda3/envs/is_project/lib/python3.9/site-packages/torch/utils/data/dataloader.py\", line 1320, in _shutdown_workers\n",
      "if w.is_alive():<function _MultiProcessingDataLoaderIter.__del__ at 0x7f3237e8d3a0>    \n",
      "\n",
      "Exception ignored in:   File \"/home/ichuviliaeva/miniconda3/envs/is_project/lib/python3.9/site-packages/torch/utils/data/dataloader.py\", line 1328, in __del__\n",
      "if w.is_alive():Traceback (most recent call last):\n",
      "    <function _MultiProcessingDataLoaderIter.__del__ at 0x7f3237e8d3a0>\n",
      "\n",
      "      File \"/home/ichuviliaeva/miniconda3/envs/is_project/lib/python3.9/site-packages/torch/utils/data/dataloader.py\", line 1328, in __del__\n",
      "if w.is_alive():\n",
      "Traceback (most recent call last):\n",
      "self._shutdown_workers()  File \"/home/ichuviliaeva/miniconda3/envs/is_project/lib/python3.9/multiprocessing/process.py\", line 160, in is_alive\n",
      "\n",
      "      File \"/home/ichuviliaeva/miniconda3/envs/is_project/lib/python3.9/multiprocessing/process.py\", line 160, in is_alive\n",
      "\n",
      "      File \"/home/ichuviliaeva/miniconda3/envs/is_project/lib/python3.9/multiprocessing/process.py\", line 160, in is_alive\n",
      "Exception ignored in:   File \"/home/ichuviliaeva/miniconda3/envs/is_project/lib/python3.9/site-packages/torch/utils/data/dataloader.py\", line 1320, in _shutdown_workers\n",
      "        self._shutdown_workers()  File \"/home/ichuviliaeva/miniconda3/envs/is_project/lib/python3.9/site-packages/torch/utils/data/dataloader.py\", line 1328, in __del__\n",
      "    <function _MultiProcessingDataLoaderIter.__del__ at 0x7f3237e8d3a0>assert self._parent_pid == os.getpid(), 'can only test a child process'assert self._parent_pid == os.getpid(), 'can only test a child process'assert self._parent_pid == os.getpid(), 'can only test a child process'if w.is_alive():\n",
      "\n",
      "\n",
      "\n",
      "AssertionError  File \"/home/ichuviliaeva/miniconda3/envs/is_project/lib/python3.9/multiprocessing/process.py\", line 160, in is_alive\n",
      "Traceback (most recent call last):\n",
      "\n",
      "\n",
      ":     AssertionError  File \"/home/ichuviliaeva/miniconda3/envs/is_project/lib/python3.9/site-packages/torch/utils/data/dataloader.py\", line 1320, in _shutdown_workers\n",
      "AssertionErrorcan only test a child process      File \"/home/ichuviliaeva/miniconda3/envs/is_project/lib/python3.9/site-packages/torch/utils/data/dataloader.py\", line 1328, in __del__\n",
      "assert self._parent_pid == os.getpid(), 'can only test a child process': :     \n",
      "self._shutdown_workers()can only test a child process\n",
      "can only test a child process    \n",
      "if w.is_alive():AssertionError\n",
      "\n",
      ": self._shutdown_workers()  File \"/home/ichuviliaeva/miniconda3/envs/is_project/lib/python3.9/site-packages/torch/utils/data/dataloader.py\", line 1320, in _shutdown_workers\n",
      "\n",
      "can only test a child process\n",
      "    \n",
      "  File \"/home/ichuviliaeva/miniconda3/envs/is_project/lib/python3.9/multiprocessing/process.py\", line 160, in is_alive\n",
      "if w.is_alive():  File \"/home/ichuviliaeva/miniconda3/envs/is_project/lib/python3.9/site-packages/torch/utils/data/dataloader.py\", line 1320, in _shutdown_workers\n",
      "\n",
      "    assert self._parent_pid == os.getpid(), 'can only test a child process'\n",
      "AssertionError      File \"/home/ichuviliaeva/miniconda3/envs/is_project/lib/python3.9/multiprocessing/process.py\", line 160, in is_alive\n",
      "if w.is_alive()::     assert self._parent_pid == os.getpid(), 'can only test a child process'\n",
      "Exception ignored in: can only test a child process  File \"/home/ichuviliaeva/miniconda3/envs/is_project/lib/python3.9/multiprocessing/process.py\", line 160, in is_alive\n",
      "\n",
      "<function _MultiProcessingDataLoaderIter.__del__ at 0x7f3237e8d3a0>\n",
      "AssertionError    : can only test a child processassert self._parent_pid == os.getpid(), 'can only test a child process'\n",
      "\n",
      "\n",
      "AssertionErrorTraceback (most recent call last):\n",
      ": can only test a child process  File \"/home/ichuviliaeva/miniconda3/envs/is_project/lib/python3.9/site-packages/torch/utils/data/dataloader.py\", line 1328, in __del__\n",
      "\n",
      "Exception ignored in:     <function _MultiProcessingDataLoaderIter.__del__ at 0x7f3237e8d3a0>self._shutdown_workers()\n",
      "\n",
      "Traceback (most recent call last):\n",
      "  File \"/home/ichuviliaeva/miniconda3/envs/is_project/lib/python3.9/site-packages/torch/utils/data/dataloader.py\", line 1320, in _shutdown_workers\n",
      "  File \"/home/ichuviliaeva/miniconda3/envs/is_project/lib/python3.9/site-packages/torch/utils/data/dataloader.py\", line 1328, in __del__\n",
      "    self._shutdown_workers()    \n",
      "if w.is_alive():  File \"/home/ichuviliaeva/miniconda3/envs/is_project/lib/python3.9/site-packages/torch/utils/data/dataloader.py\", line 1320, in _shutdown_workers\n"
     ]
    },
    {
     "name": "stderr",
     "output_type": "stream",
     "text": [
      "\n",
      "      File \"/home/ichuviliaeva/miniconda3/envs/is_project/lib/python3.9/multiprocessing/process.py\", line 160, in is_alive\n",
      "if w.is_alive():    \n",
      "assert self._parent_pid == os.getpid(), 'can only test a child process'  File \"/home/ichuviliaeva/miniconda3/envs/is_project/lib/python3.9/multiprocessing/process.py\", line 160, in is_alive\n",
      "\n",
      "    AssertionError: assert self._parent_pid == os.getpid(), 'can only test a child process'can only test a child process\n",
      "\n",
      "AssertionError: can only test a child process\n",
      "Exception ignored in: "
     ]
    },
    {
     "data": {
      "application/vnd.jupyter.widget-view+json": {
       "model_id": "e8860109aa04487d8e8ada53633a8088",
       "version_major": 2,
       "version_minor": 0
      },
      "text/plain": [
       "  0%|          | 0/315 [00:01<?, ?it/s]"
      ]
     },
     "metadata": {},
     "output_type": "display_data"
    },
    {
     "name": "stderr",
     "output_type": "stream",
     "text": [
      "<function _MultiProcessingDataLoaderIter.__del__ at 0x7f3237e8d3a0>\n",
      "Traceback (most recent call last):\n",
      "  File \"/home/ichuviliaeva/miniconda3/envs/is_project/lib/python3.9/site-packages/torch/utils/data/dataloader.py\", line 1328, in __del__\n",
      "    self._shutdown_workers()\n",
      "  File \"/home/ichuviliaeva/miniconda3/envs/is_project/lib/python3.9/site-packages/torch/utils/data/dataloader.py\", line 1320, in _shutdown_workers\n",
      "    if w.is_alive():\n",
      "  File \"/home/ichuviliaeva/miniconda3/envs/is_project/lib/python3.9/multiprocessing/process.py\", line 160, in is_alive\n",
      "    assert self._parent_pid == os.getpid(), 'can only test a child process'\n",
      "AssertionError: can only test a child process\n",
      "Exception ignored in: <function _MultiProcessingDataLoaderIter.__del__ at 0x7f3237e8d3a0>\n",
      "Traceback (most recent call last):\n",
      "  File \"/home/ichuviliaeva/miniconda3/envs/is_project/lib/python3.9/site-packages/torch/utils/data/dataloader.py\", line 1328, in __del__\n",
      "    self._shutdown_workers()\n",
      "  File \"/home/ichuviliaeva/miniconda3/envs/is_project/lib/python3.9/site-packages/torch/utils/data/dataloader.py\", line 1320, in _shutdown_workers\n",
      "    if w.is_alive():\n",
      "  File \"/home/ichuviliaeva/miniconda3/envs/is_project/lib/python3.9/multiprocessing/process.py\", line 160, in is_alive\n",
      "    assert self._parent_pid == os.getpid(), 'can only test a child process'\n",
      "AssertionError: can only test a child process\n",
      "Exception ignored in: <function _MultiProcessingDataLoaderIter.__del__ at 0x7f3237e8d3a0>\n",
      "Traceback (most recent call last):\n",
      "  File \"/home/ichuviliaeva/miniconda3/envs/is_project/lib/python3.9/site-packages/torch/utils/data/dataloader.py\", line 1328, in __del__\n",
      "    self._shutdown_workers()\n",
      "  File \"/home/ichuviliaeva/miniconda3/envs/is_project/lib/python3.9/site-packages/torch/utils/data/dataloader.py\", line 1320, in _shutdown_workers\n",
      "    if w.is_alive():\n",
      "  File \"/home/ichuviliaeva/miniconda3/envs/is_project/lib/python3.9/multiprocessing/process.py\", line 160, in is_alive\n",
      "    assert self._parent_pid == os.getpid(), 'can only test a child process'\n",
      "AssertionError: can only test a child process\n",
      "Exception ignored in: <function _MultiProcessingDataLoaderIter.__del__ at 0x7f3237e8d3a0>\n",
      "Traceback (most recent call last):\n",
      "  File \"/home/ichuviliaeva/miniconda3/envs/is_project/lib/python3.9/site-packages/torch/utils/data/dataloader.py\", line 1328, in __del__\n",
      "    \n",
      "self._shutdown_workers()  File \"/home/ichuviliaeva/miniconda3/envs/is_project/lib/python3.9/site-packages/torch/utils/data/dataloader.py\", line 1320, in _shutdown_workers\n",
      "    if w.is_alive():\n",
      "  File \"/home/ichuviliaeva/miniconda3/envs/is_project/lib/python3.9/multiprocessing/process.py\", line 160, in is_alive\n",
      "    assert self._parent_pid == os.getpid(), 'can only test a child process'\n",
      "AssertionError: can only test a child process\n",
      "Exception ignored in: <function _MultiProcessingDataLoaderIter.__del__ at 0x7f3237e8d3a0>\n",
      "Traceback (most recent call last):\n",
      "  File \"/home/ichuviliaeva/miniconda3/envs/is_project/lib/python3.9/site-packages/torch/utils/data/dataloader.py\", line 1328, in __del__\n",
      "    self._shutdown_workers()\n",
      "  File \"/home/ichuviliaeva/miniconda3/envs/is_project/lib/python3.9/site-packages/torch/utils/data/dataloader.py\", line 1320, in _shutdown_workers\n",
      "    if w.is_alive():\n",
      "  File \"/home/ichuviliaeva/miniconda3/envs/is_project/lib/python3.9/multiprocessing/process.py\", line 160, in is_alive\n",
      "    assert self._parent_pid == os.getpid(), 'can only test a child process'\n",
      "AssertionError: can only test a child process\n",
      "Exception ignored in: <function _MultiProcessingDataLoaderIter.__del__ at 0x7f3237e8d3a0>\n",
      "Traceback (most recent call last):\n",
      "  File \"/home/ichuviliaeva/miniconda3/envs/is_project/lib/python3.9/site-packages/torch/utils/data/dataloader.py\", line 1328, in __del__\n",
      "    self._shutdown_workers()\n",
      "  File \"/home/ichuviliaeva/miniconda3/envs/is_project/lib/python3.9/site-packages/torch/utils/data/dataloader.py\", line 1320, in _shutdown_workers\n",
      "    if w.is_alive():\n",
      "  File \"/home/ichuviliaeva/miniconda3/envs/is_project/lib/python3.9/multiprocessing/process.py\", line 160, in is_alive\n",
      "    assert self._parent_pid == os.getpid(), 'can only test a child process'Exception ignored in: <function _MultiProcessingDataLoaderIter.__del__ at 0x7f3237e8d3a0>\n",
      "\n",
      "Traceback (most recent call last):\n",
      "AssertionError  File \"/home/ichuviliaeva/miniconda3/envs/is_project/lib/python3.9/site-packages/torch/utils/data/dataloader.py\", line 1328, in __del__\n",
      ":     can only test a child processself._shutdown_workers()\n",
      "\n",
      "  File \"/home/ichuviliaeva/miniconda3/envs/is_project/lib/python3.9/site-packages/torch/utils/data/dataloader.py\", line 1320, in _shutdown_workers\n",
      "    if w.is_alive():\n",
      "  File \"/home/ichuviliaeva/miniconda3/envs/is_project/lib/python3.9/multiprocessing/process.py\", line 160, in is_alive\n",
      "    assert self._parent_pid == os.getpid(), 'can only test a child process'\n",
      "AssertionError: can only test a child processException ignored in: \n",
      "<function _MultiProcessingDataLoaderIter.__del__ at 0x7f3237e8d3a0>\n",
      "Traceback (most recent call last):\n",
      "  File \"/home/ichuviliaeva/miniconda3/envs/is_project/lib/python3.9/site-packages/torch/utils/data/dataloader.py\", line 1328, in __del__\n",
      "    self._shutdown_workers()\n",
      "  File \"/home/ichuviliaeva/miniconda3/envs/is_project/lib/python3.9/site-packages/torch/utils/data/dataloader.py\", line 1320, in _shutdown_workers\n",
      "    if w.is_alive():\n",
      "  File \"/home/ichuviliaeva/miniconda3/envs/is_project/lib/python3.9/multiprocessing/process.py\", line 160, in is_alive\n",
      "    assert self._parent_pid == os.getpid(), 'can only test a child process'\n",
      "AssertionError: can only test a child process\n",
      "Exception ignored in: <function _MultiProcessingDataLoaderIter.__del__ at 0x7f3237e8d3a0>\n",
      "Traceback (most recent call last):\n",
      "  File \"/home/ichuviliaeva/miniconda3/envs/is_project/lib/python3.9/site-packages/torch/utils/data/dataloader.py\", line 1328, in __del__\n",
      "    self._shutdown_workers()\n",
      "  File \"/home/ichuviliaeva/miniconda3/envs/is_project/lib/python3.9/site-packages/torch/utils/data/dataloader.py\", line 1320, in _shutdown_workers\n",
      "    if w.is_alive():\n",
      "  File \"/home/ichuviliaeva/miniconda3/envs/is_project/lib/python3.9/multiprocessing/process.py\", line 160, in is_alive\n",
      "    assert self._parent_pid == os.getpid(), 'can only test a child process'\n",
      "AssertionError: can only test a child process\n",
      "Exception ignored in: <function _MultiProcessingDataLoaderIter.__del__ at 0x7f3237e8d3a0>\n",
      "Traceback (most recent call last):\n",
      "  File \"/home/ichuviliaeva/miniconda3/envs/is_project/lib/python3.9/site-packages/torch/utils/data/dataloader.py\", line 1328, in __del__\n",
      "    self._shutdown_workers()\n",
      "  File \"/home/ichuviliaeva/miniconda3/envs/is_project/lib/python3.9/site-packages/torch/utils/data/dataloader.py\", line 1320, in _shutdown_workers\n",
      "    if w.is_alive():\n",
      "  File \"/home/ichuviliaeva/miniconda3/envs/is_project/lib/python3.9/multiprocessing/process.py\", line 160, in is_alive\n",
      "    assert self._parent_pid == os.getpid(), 'can only test a child process'\n",
      "AssertionError: can only test a child process\n"
     ]
    },
    {
     "name": "stdout",
     "output_type": "stream",
     "text": [
      "accuracy: 0.8879599881478539\n",
      "Epoch 19:\n"
     ]
    },
    {
     "data": {
      "application/vnd.jupyter.widget-view+json": {
       "model_id": "60c9f209a0ca4ec780fe177fc9bf8e1e",
       "version_major": 2,
       "version_minor": 0
      },
      "text/plain": [
       "  0%|          | 0/5036 [00:00<?, ?it/s]"
      ]
     },
     "metadata": {},
     "output_type": "display_data"
    },
    {
     "name": "stderr",
     "output_type": "stream",
     "text": [
      "Exception ignored in: <function _MultiProcessingDataLoaderIter.__del__ at 0x7f3237e8d3a0>\n",
      "Traceback (most recent call last):\n",
      "  File \"/home/ichuviliaeva/miniconda3/envs/is_project/lib/python3.9/site-packages/torch/utils/data/dataloader.py\", line 1328, in __del__\n",
      "    self._shutdown_workers()\n",
      "  File \"/home/ichuviliaeva/miniconda3/envs/is_project/lib/python3.9/site-packages/torch/utils/data/dataloader.py\", line 1320, in _shutdown_workers\n",
      "    if w.is_alive():\n",
      "  File \"/home/ichuviliaeva/miniconda3/envs/is_project/lib/python3.9/multiprocessing/process.py\", line 160, in is_alive\n",
      "    assert self._parent_pid == os.getpid(), 'can only test a child process'Exception ignored in: \n",
      "<function _MultiProcessingDataLoaderIter.__del__ at 0x7f3237e8d3a0>AssertionError\n",
      ": can only test a child processTraceback (most recent call last):\n",
      "\n",
      "  File \"/home/ichuviliaeva/miniconda3/envs/is_project/lib/python3.9/site-packages/torch/utils/data/dataloader.py\", line 1328, in __del__\n",
      "    self._shutdown_workers()\n",
      "  File \"/home/ichuviliaeva/miniconda3/envs/is_project/lib/python3.9/site-packages/torch/utils/data/dataloader.py\", line 1320, in _shutdown_workers\n",
      "    if w.is_alive():\n",
      "  File \"/home/ichuviliaeva/miniconda3/envs/is_project/lib/python3.9/multiprocessing/process.py\", line 160, in is_alive\n",
      "    assert self._parent_pid == os.getpid(), 'can only test a child process'\n",
      "AssertionError: can only test a child process\n",
      "Exception ignored in: <function _MultiProcessingDataLoaderIter.__del__ at 0x7f3237e8d3a0>\n",
      "Traceback (most recent call last):\n",
      "  File \"/home/ichuviliaeva/miniconda3/envs/is_project/lib/python3.9/site-packages/torch/utils/data/dataloader.py\", line 1328, in __del__\n",
      "Exception ignored in:     self._shutdown_workers()<function _MultiProcessingDataLoaderIter.__del__ at 0x7f3237e8d3a0>\n",
      "\n",
      "  File \"/home/ichuviliaeva/miniconda3/envs/is_project/lib/python3.9/site-packages/torch/utils/data/dataloader.py\", line 1320, in _shutdown_workers\n",
      "Traceback (most recent call last):\n",
      "      File \"/home/ichuviliaeva/miniconda3/envs/is_project/lib/python3.9/site-packages/torch/utils/data/dataloader.py\", line 1328, in __del__\n",
      "if w.is_alive():    \n",
      "self._shutdown_workers()  File \"/home/ichuviliaeva/miniconda3/envs/is_project/lib/python3.9/multiprocessing/process.py\", line 160, in is_alive\n",
      "\n",
      "    assert self._parent_pid == os.getpid(), 'can only test a child process'  File \"/home/ichuviliaeva/miniconda3/envs/is_project/lib/python3.9/site-packages/torch/utils/data/dataloader.py\", line 1320, in _shutdown_workers\n",
      "\n",
      "    if w.is_alive():AssertionError\n",
      ":   File \"/home/ichuviliaeva/miniconda3/envs/is_project/lib/python3.9/multiprocessing/process.py\", line 160, in is_alive\n",
      "    can only test a child process\n",
      "assert self._parent_pid == os.getpid(), 'can only test a child process'\n",
      "AssertionError: Exception ignored in: can only test a child process<function _MultiProcessingDataLoaderIter.__del__ at 0x7f3237e8d3a0>\n",
      "\n",
      "Traceback (most recent call last):\n",
      "  File \"/home/ichuviliaeva/miniconda3/envs/is_project/lib/python3.9/site-packages/torch/utils/data/dataloader.py\", line 1328, in __del__\n",
      "    self._shutdown_workers()\n",
      "  File \"/home/ichuviliaeva/miniconda3/envs/is_project/lib/python3.9/site-packages/torch/utils/data/dataloader.py\", line 1320, in _shutdown_workers\n",
      "    if w.is_alive():\n",
      "  File \"/home/ichuviliaeva/miniconda3/envs/is_project/lib/python3.9/multiprocessing/process.py\", line 160, in is_alive\n",
      "    assert self._parent_pid == os.getpid(), 'can only test a child process'\n",
      "AssertionError: can only test a child process\n",
      "Exception ignored in: <function _MultiProcessingDataLoaderIter.__del__ at 0x7f3237e8d3a0>\n",
      "Traceback (most recent call last):\n",
      "  File \"/home/ichuviliaeva/miniconda3/envs/is_project/lib/python3.9/site-packages/torch/utils/data/dataloader.py\", line 1328, in __del__\n",
      "    self._shutdown_workers()\n",
      "  File \"/home/ichuviliaeva/miniconda3/envs/is_project/lib/python3.9/site-packages/torch/utils/data/dataloader.py\", line 1320, in _shutdown_workers\n",
      "    if w.is_alive():\n",
      "  File \"/home/ichuviliaeva/miniconda3/envs/is_project/lib/python3.9/multiprocessing/process.py\", line 160, in is_alive\n",
      "    assert self._parent_pid == os.getpid(), 'can only test a child process'\n",
      "AssertionError: can only test a child process\n",
      "Exception ignored in: <function _MultiProcessingDataLoaderIter.__del__ at 0x7f3237e8d3a0>\n",
      "Traceback (most recent call last):\n",
      "  File \"/home/ichuviliaeva/miniconda3/envs/is_project/lib/python3.9/site-packages/torch/utils/data/dataloader.py\", line 1328, in __del__\n",
      "    self._shutdown_workers()\n",
      "  File \"/home/ichuviliaeva/miniconda3/envs/is_project/lib/python3.9/site-packages/torch/utils/data/dataloader.py\", line 1320, in _shutdown_workers\n",
      "    if w.is_alive():\n",
      "  File \"/home/ichuviliaeva/miniconda3/envs/is_project/lib/python3.9/multiprocessing/process.py\", line 160, in is_alive\n",
      "    assert self._parent_pid == os.getpid(), 'can only test a child process'\n",
      "AssertionError: can only test a child process\n",
      "Exception ignored in: <function _MultiProcessingDataLoaderIter.__del__ at 0x7f3237e8d3a0>\n",
      "Traceback (most recent call last):\n",
      "  File \"/home/ichuviliaeva/miniconda3/envs/is_project/lib/python3.9/site-packages/torch/utils/data/dataloader.py\", line 1328, in __del__\n",
      "    self._shutdown_workers()\n",
      "  File \"/home/ichuviliaeva/miniconda3/envs/is_project/lib/python3.9/site-packages/torch/utils/data/dataloader.py\", line 1320, in _shutdown_workers\n",
      "    if w.is_alive():\n",
      "  File \"/home/ichuviliaeva/miniconda3/envs/is_project/lib/python3.9/multiprocessing/process.py\", line 160, in is_alive\n",
      "    assert self._parent_pid == os.getpid(), 'can only test a child process'\n",
      "AssertionError: can only test a child process\n",
      "Exception ignored in: <function _MultiProcessingDataLoaderIter.__del__ at 0x7f3237e8d3a0>\n",
      "Traceback (most recent call last):\n",
      "  File \"/home/ichuviliaeva/miniconda3/envs/is_project/lib/python3.9/site-packages/torch/utils/data/dataloader.py\", line 1328, in __del__\n",
      "    self._shutdown_workers()\n",
      "  File \"/home/ichuviliaeva/miniconda3/envs/is_project/lib/python3.9/site-packages/torch/utils/data/dataloader.py\", line 1320, in _shutdown_workers\n",
      "    if w.is_alive():\n",
      "  File \"/home/ichuviliaeva/miniconda3/envs/is_project/lib/python3.9/multiprocessing/process.py\", line 160, in is_alive\n",
      "    assert self._parent_pid == os.getpid(), 'can only test a child process'\n",
      "AssertionError: can only test a child process\n",
      "Exception ignored in: <function _MultiProcessingDataLoaderIter.__del__ at 0x7f3237e8d3a0>\n",
      "Traceback (most recent call last):\n",
      "  File \"/home/ichuviliaeva/miniconda3/envs/is_project/lib/python3.9/site-packages/torch/utils/data/dataloader.py\", line 1328, in __del__\n",
      "    self._shutdown_workers()\n",
      "  File \"/home/ichuviliaeva/miniconda3/envs/is_project/lib/python3.9/site-packages/torch/utils/data/dataloader.py\", line 1320, in _shutdown_workers\n",
      "    if w.is_alive():\n",
      "  File \"/home/ichuviliaeva/miniconda3/envs/is_project/lib/python3.9/multiprocessing/process.py\", line 160, in is_alive\n",
      "    assert self._parent_pid == os.getpid(), 'can only test a child process'\n",
      "AssertionError: can only test a child process\n",
      "Exception ignored in: <function _MultiProcessingDataLoaderIter.__del__ at 0x7f3237e8d3a0>\n",
      "Traceback (most recent call last):\n",
      "  File \"/home/ichuviliaeva/miniconda3/envs/is_project/lib/python3.9/site-packages/torch/utils/data/dataloader.py\", line 1328, in __del__\n",
      "    self._shutdown_workers()\n",
      "  File \"/home/ichuviliaeva/miniconda3/envs/is_project/lib/python3.9/site-packages/torch/utils/data/dataloader.py\", line 1320, in _shutdown_workers\n",
      "    if w.is_alive():\n",
      "  File \"/home/ichuviliaeva/miniconda3/envs/is_project/lib/python3.9/multiprocessing/process.py\", line 160, in is_alive\n",
      "    assert self._parent_pid == os.getpid(), 'can only test a child process'\n",
      "AssertionError: can only test a child process\n",
      "Exception ignored in: <function _MultiProcessingDataLoaderIter.__del__ at 0x7f3237e8d3a0>\n",
      "Traceback (most recent call last):\n",
      "  File \"/home/ichuviliaeva/miniconda3/envs/is_project/lib/python3.9/site-packages/torch/utils/data/dataloader.py\", line 1328, in __del__\n",
      "    self._shutdown_workers()\n",
      "  File \"/home/ichuviliaeva/miniconda3/envs/is_project/lib/python3.9/site-packages/torch/utils/data/dataloader.py\", line 1320, in _shutdown_workers\n",
      "    if w.is_alive():\n",
      "  File \"/home/ichuviliaeva/miniconda3/envs/is_project/lib/python3.9/multiprocessing/process.py\", line 160, in is_alive\n"
     ]
    },
    {
     "name": "stderr",
     "output_type": "stream",
     "text": [
      "    assert self._parent_pid == os.getpid(), 'can only test a child process'\n",
      "AssertionError: can only test a child process\n",
      "Exception ignored in: <function _MultiProcessingDataLoaderIter.__del__ at 0x7f3237e8d3a0>\n",
      "Traceback (most recent call last):\n",
      "  File \"/home/ichuviliaeva/miniconda3/envs/is_project/lib/python3.9/site-packages/torch/utils/data/dataloader.py\", line 1328, in __del__\n",
      "    self._shutdown_workers()\n",
      "  File \"/home/ichuviliaeva/miniconda3/envs/is_project/lib/python3.9/site-packages/torch/utils/data/dataloader.py\", line 1320, in _shutdown_workers\n",
      "    if w.is_alive():\n",
      "  File \"/home/ichuviliaeva/miniconda3/envs/is_project/lib/python3.9/multiprocessing/process.py\", line 160, in is_alive\n",
      "    assert self._parent_pid == os.getpid(), 'can only test a child process'\n",
      "AssertionError: can only test a child process\n",
      "Exception ignored in: <function _MultiProcessingDataLoaderIter.__del__ at 0x7f3237e8d3a0>\n",
      "Traceback (most recent call last):\n",
      "  File \"/home/ichuviliaeva/miniconda3/envs/is_project/lib/python3.9/site-packages/torch/utils/data/dataloader.py\", line 1328, in __del__\n",
      "    self._shutdown_workers()\n",
      "  File \"/home/ichuviliaeva/miniconda3/envs/is_project/lib/python3.9/site-packages/torch/utils/data/dataloader.py\", line 1320, in _shutdown_workers\n",
      "    if w.is_alive():\n",
      "  File \"/home/ichuviliaeva/miniconda3/envs/is_project/lib/python3.9/multiprocessing/process.py\", line 160, in is_alive\n",
      "    assert self._parent_pid == os.getpid(), 'can only test a child process'\n",
      "AssertionError: can only test a child process\n",
      "Exception ignored in: <function _MultiProcessingDataLoaderIter.__del__ at 0x7f3237e8d3a0>\n",
      "Traceback (most recent call last):\n",
      "  File \"/home/ichuviliaeva/miniconda3/envs/is_project/lib/python3.9/site-packages/torch/utils/data/dataloader.py\", line 1328, in __del__\n",
      "    self._shutdown_workers()\n",
      "  File \"/home/ichuviliaeva/miniconda3/envs/is_project/lib/python3.9/site-packages/torch/utils/data/dataloader.py\", line 1320, in _shutdown_workers\n",
      "    if w.is_alive():\n",
      "  File \"/home/ichuviliaeva/miniconda3/envs/is_project/lib/python3.9/multiprocessing/process.py\", line 160, in is_alive\n",
      "    assert self._parent_pid == os.getpid(), 'can only test a child process'\n",
      "AssertionError: can only test a child process\n",
      "Exception ignored in: <function _MultiProcessingDataLoaderIter.__del__ at 0x7f3237e8d3a0>\n",
      "Traceback (most recent call last):\n",
      "  File \"/home/ichuviliaeva/miniconda3/envs/is_project/lib/python3.9/site-packages/torch/utils/data/dataloader.py\", line 1328, in __del__\n",
      "    self._shutdown_workers()\n",
      "  File \"/home/ichuviliaeva/miniconda3/envs/is_project/lib/python3.9/site-packages/torch/utils/data/dataloader.py\", line 1320, in _shutdown_workers\n",
      "    if w.is_alive():\n",
      "  File \"/home/ichuviliaeva/miniconda3/envs/is_project/lib/python3.9/multiprocessing/process.py\", line 160, in is_alive\n",
      "    assert self._parent_pid == os.getpid(), 'can only test a child process'\n",
      "AssertionError: can only test a child process\n"
     ]
    },
    {
     "data": {
      "application/vnd.jupyter.widget-view+json": {
       "model_id": "0ec9fe5650ea4920a313c8e1762a234f",
       "version_major": 2,
       "version_minor": 0
      },
      "text/plain": [
       "  0%|          | 0/315 [00:00<?, ?it/s]"
      ]
     },
     "metadata": {},
     "output_type": "display_data"
    },
    {
     "name": "stderr",
     "output_type": "stream",
     "text": [
      "Exception ignored in: <function _MultiProcessingDataLoaderIter.__del__ at 0x7f3237e8d3a0>\n",
      "Traceback (most recent call last):\n",
      "  File \"/home/ichuviliaeva/miniconda3/envs/is_project/lib/python3.9/site-packages/torch/utils/data/dataloader.py\", line 1328, in __del__\n",
      "    self._shutdown_workers()\n",
      "  File \"/home/ichuviliaeva/miniconda3/envs/is_project/lib/python3.9/site-packages/torch/utils/data/dataloader.py\", line 1320, in _shutdown_workers\n",
      "    if w.is_alive():Exception ignored in: <function _MultiProcessingDataLoaderIter.__del__ at 0x7f3237e8d3a0>Exception ignored in: \n",
      "\n",
      "Traceback (most recent call last):\n",
      "<function _MultiProcessingDataLoaderIter.__del__ at 0x7f3237e8d3a0>  File \"/home/ichuviliaeva/miniconda3/envs/is_project/lib/python3.9/site-packages/torch/utils/data/dataloader.py\", line 1328, in __del__\n",
      "\n",
      "  File \"/home/ichuviliaeva/miniconda3/envs/is_project/lib/python3.9/multiprocessing/process.py\", line 160, in is_alive\n",
      "Exception ignored in: <function _MultiProcessingDataLoaderIter.__del__ at 0x7f3237e8d3a0>    \n",
      "    assert self._parent_pid == os.getpid(), 'can only test a child process'Traceback (most recent call last):\n",
      "self._shutdown_workers()Exception ignored in: Traceback (most recent call last):\n",
      "  File \"/home/ichuviliaeva/miniconda3/envs/is_project/lib/python3.9/site-packages/torch/utils/data/dataloader.py\", line 1328, in __del__\n",
      "<function _MultiProcessingDataLoaderIter.__del__ at 0x7f3237e8d3a0>\n",
      "\n",
      "    Traceback (most recent call last):\n",
      "AssertionError  File \"/home/ichuviliaeva/miniconda3/envs/is_project/lib/python3.9/site-packages/torch/utils/data/dataloader.py\", line 1328, in __del__\n",
      "\n",
      "  File \"/home/ichuviliaeva/miniconda3/envs/is_project/lib/python3.9/site-packages/torch/utils/data/dataloader.py\", line 1320, in _shutdown_workers\n",
      "self._shutdown_workers()    self._shutdown_workers()  File \"/home/ichuviliaeva/miniconda3/envs/is_project/lib/python3.9/site-packages/torch/utils/data/dataloader.py\", line 1328, in __del__\n",
      "    \n",
      "    : \n",
      "  File \"/home/ichuviliaeva/miniconda3/envs/is_project/lib/python3.9/site-packages/torch/utils/data/dataloader.py\", line 1320, in _shutdown_workers\n",
      "  File \"/home/ichuviliaeva/miniconda3/envs/is_project/lib/python3.9/site-packages/torch/utils/data/dataloader.py\", line 1320, in _shutdown_workers\n",
      "self._shutdown_workers()Exception ignored in: <function _MultiProcessingDataLoaderIter.__del__ at 0x7f3237e8d3a0>can only test a child process    \n",
      "\n",
      "if w.is_alive():\n",
      "  File \"/home/ichuviliaeva/miniconda3/envs/is_project/lib/python3.9/site-packages/torch/utils/data/dataloader.py\", line 1320, in _shutdown_workers\n",
      "Traceback (most recent call last):\n",
      "    \n",
      "Exception ignored in: Exception ignored in: Exception ignored in: if w.is_alive():if w.is_alive():  File \"/home/ichuviliaeva/miniconda3/envs/is_project/lib/python3.9/multiprocessing/process.py\", line 160, in is_alive\n",
      "    <function _MultiProcessingDataLoaderIter.__del__ at 0x7f3237e8d3a0>\n",
      "<function _MultiProcessingDataLoaderIter.__del__ at 0x7f3237e8d3a0>\n",
      "if w.is_alive():    Traceback (most recent call last):\n",
      "  File \"/home/ichuviliaeva/miniconda3/envs/is_project/lib/python3.9/multiprocessing/process.py\", line 160, in is_alive\n",
      "\n",
      "  File \"/home/ichuviliaeva/miniconda3/envs/is_project/lib/python3.9/multiprocessing/process.py\", line 160, in is_alive\n",
      "\n",
      "  File \"/home/ichuviliaeva/miniconda3/envs/is_project/lib/python3.9/site-packages/torch/utils/data/dataloader.py\", line 1328, in __del__\n",
      "  File \"/home/ichuviliaeva/miniconda3/envs/is_project/lib/python3.9/site-packages/torch/utils/data/dataloader.py\", line 1328, in __del__\n",
      "        Traceback (most recent call last):\n",
      "assert self._parent_pid == os.getpid(), 'can only test a child process'<function _MultiProcessingDataLoaderIter.__del__ at 0x7f3237e8d3a0>assert self._parent_pid == os.getpid(), 'can only test a child process'    \n",
      "\n",
      "\n",
      "\n",
      "  File \"/home/ichuviliaeva/miniconda3/envs/is_project/lib/python3.9/site-packages/torch/utils/data/dataloader.py\", line 1328, in __del__\n",
      "self._shutdown_workers()      File \"/home/ichuviliaeva/miniconda3/envs/is_project/lib/python3.9/multiprocessing/process.py\", line 160, in is_alive\n",
      "AssertionErrorAssertionErrorself._shutdown_workers()Traceback (most recent call last):\n",
      "\n",
      "  File \"/home/ichuviliaeva/miniconda3/envs/is_project/lib/python3.9/site-packages/torch/utils/data/dataloader.py\", line 1328, in __del__\n",
      "\n",
      "      File \"/home/ichuviliaeva/miniconda3/envs/is_project/lib/python3.9/site-packages/torch/utils/data/dataloader.py\", line 1320, in _shutdown_workers\n",
      "Exception ignored in: assert self._parent_pid == os.getpid(), 'can only test a child process'    :   File \"/home/ichuviliaeva/miniconda3/envs/is_project/lib/python3.9/site-packages/torch/utils/data/dataloader.py\", line 1320, in _shutdown_workers\n",
      "\n",
      "    : self._shutdown_workers()Exception ignored in: self._shutdown_workers()if w.is_alive():can only test a child process    \n",
      "    assert self._parent_pid == os.getpid(), 'can only test a child process'can only test a child processif w.is_alive():<function _MultiProcessingDataLoaderIter.__del__ at 0x7f3237e8d3a0>AssertionError\n",
      "  File \"/home/ichuviliaeva/miniconda3/envs/is_project/lib/python3.9/site-packages/torch/utils/data/dataloader.py\", line 1320, in _shutdown_workers\n",
      "\n",
      "\n",
      "\n",
      "AssertionError\n",
      "if w.is_alive():: Traceback (most recent call last):\n",
      ":   File \"/home/ichuviliaeva/miniconda3/envs/is_project/lib/python3.9/site-packages/torch/utils/data/dataloader.py\", line 1328, in __del__\n",
      "\n",
      "\n",
      "can only test a child process  File \"/home/ichuviliaeva/miniconda3/envs/is_project/lib/python3.9/site-packages/torch/utils/data/dataloader.py\", line 1320, in _shutdown_workers\n",
      "    can only test a child process      File \"/home/ichuviliaeva/miniconda3/envs/is_project/lib/python3.9/multiprocessing/process.py\", line 160, in is_alive\n",
      "  File \"/home/ichuviliaeva/miniconda3/envs/is_project/lib/python3.9/multiprocessing/process.py\", line 160, in is_alive\n",
      "if w.is_alive():    \n",
      "    assert self._parent_pid == os.getpid(), 'can only test a child process'\n",
      "assert self._parent_pid == os.getpid(), 'can only test a child process'  File \"/home/ichuviliaeva/miniconda3/envs/is_project/lib/python3.9/multiprocessing/process.py\", line 160, in is_alive\n",
      "self._shutdown_workers()\n",
      "\n",
      "\n",
      "    \n",
      "AssertionError    assert self._parent_pid == os.getpid(), 'can only test a child process'\n",
      ": AssertionErrorAssertionError\n",
      ": can only test a child process<function _MultiProcessingDataLoaderIter.__del__ at 0x7f3237e8d3a0>: can only test a child process\n",
      "  File \"/home/ichuviliaeva/miniconda3/envs/is_project/lib/python3.9/site-packages/torch/utils/data/dataloader.py\", line 1320, in _shutdown_workers\n",
      "can only test a child process\n",
      "Traceback (most recent call last):\n",
      "\n",
      "  File \"/home/ichuviliaeva/miniconda3/envs/is_project/lib/python3.9/multiprocessing/process.py\", line 160, in is_alive\n",
      "    \n",
      "  File \"/home/ichuviliaeva/miniconda3/envs/is_project/lib/python3.9/site-packages/torch/utils/data/dataloader.py\", line 1328, in __del__\n",
      "    if w.is_alive():    \n",
      "  File \"/home/ichuviliaeva/miniconda3/envs/is_project/lib/python3.9/multiprocessing/process.py\", line 160, in is_alive\n",
      "assert self._parent_pid == os.getpid(), 'can only test a child process'self._shutdown_workers()    \n",
      "assert self._parent_pid == os.getpid(), 'can only test a child process'\n",
      "AssertionError: can only test a child process\n",
      "\n",
      "  File \"/home/ichuviliaeva/miniconda3/envs/is_project/lib/python3.9/site-packages/torch/utils/data/dataloader.py\", line 1320, in _shutdown_workers\n",
      "    Exception ignored in: AssertionErrorif w.is_alive():<function _MultiProcessingDataLoaderIter.__del__ at 0x7f3237e8d3a0>Exception ignored in: \n",
      ": Exception ignored in:   File \"/home/ichuviliaeva/miniconda3/envs/is_project/lib/python3.9/multiprocessing/process.py\", line 160, in is_alive\n",
      "<function _MultiProcessingDataLoaderIter.__del__ at 0x7f3237e8d3a0>\n",
      "<function _MultiProcessingDataLoaderIter.__del__ at 0x7f3237e8d3a0>\n",
      "\n",
      "Traceback (most recent call last):\n",
      ":   File \"/home/ichuviliaeva/miniconda3/envs/is_project/lib/python3.9/site-packages/torch/utils/data/dataloader.py\", line 1328, in __del__\n",
      "can only test a child processTraceback (most recent call last):\n",
      "    \n",
      "Traceback (most recent call last):\n",
      "  File \"/home/ichuviliaeva/miniconda3/envs/is_project/lib/python3.9/site-packages/torch/utils/data/dataloader.py\", line 1328, in __del__\n"
     ]
    },
    {
     "name": "stderr",
     "output_type": "stream",
     "text": [
      "assert self._parent_pid == os.getpid(), 'can only test a child process'      File \"/home/ichuviliaeva/miniconda3/envs/is_project/lib/python3.9/site-packages/torch/utils/data/dataloader.py\", line 1328, in __del__\n",
      "    self._shutdown_workers()self._shutdown_workers()\n",
      "    Exception ignored in: self._shutdown_workers()\n",
      "\n",
      "<function _MultiProcessingDataLoaderIter.__del__ at 0x7f3237e8d3a0>  File \"/home/ichuviliaeva/miniconda3/envs/is_project/lib/python3.9/site-packages/torch/utils/data/dataloader.py\", line 1320, in _shutdown_workers\n",
      "AssertionError\n",
      "    if w.is_alive():Traceback (most recent call last):\n",
      "\n",
      "can only test a child process  File \"/home/ichuviliaeva/miniconda3/envs/is_project/lib/python3.9/site-packages/torch/utils/data/dataloader.py\", line 1320, in _shutdown_workers\n",
      "  File \"/home/ichuviliaeva/miniconda3/envs/is_project/lib/python3.9/site-packages/torch/utils/data/dataloader.py\", line 1320, in _shutdown_workers\n",
      "\n",
      "    Exception ignored in: <function _MultiProcessingDataLoaderIter.__del__ at 0x7f3237e8d3a0>\n",
      "\n",
      "      File \"/home/ichuviliaeva/miniconda3/envs/is_project/lib/python3.9/site-packages/torch/utils/data/dataloader.py\", line 1328, in __del__\n",
      "if w.is_alive():if w.is_alive():    \n",
      "\n",
      "  File \"/home/ichuviliaeva/miniconda3/envs/is_project/lib/python3.9/multiprocessing/process.py\", line 160, in is_alive\n",
      "Traceback (most recent call last):\n",
      "  File \"/home/ichuviliaeva/miniconda3/envs/is_project/lib/python3.9/multiprocessing/process.py\", line 160, in is_alive\n",
      "self._shutdown_workers()  File \"/home/ichuviliaeva/miniconda3/envs/is_project/lib/python3.9/site-packages/torch/utils/data/dataloader.py\", line 1328, in __del__\n",
      "  File \"/home/ichuviliaeva/miniconda3/envs/is_project/lib/python3.9/multiprocessing/process.py\", line 160, in is_alive\n",
      "            assert self._parent_pid == os.getpid(), 'can only test a child process'    assert self._parent_pid == os.getpid(), 'can only test a child process'\n",
      "\n",
      "  File \"/home/ichuviliaeva/miniconda3/envs/is_project/lib/python3.9/site-packages/torch/utils/data/dataloader.py\", line 1320, in _shutdown_workers\n",
      "\n",
      "self._shutdown_workers()AssertionError    : can only test a child processAssertionErrorif w.is_alive():\n",
      "\n",
      "  File \"/home/ichuviliaeva/miniconda3/envs/is_project/lib/python3.9/multiprocessing/process.py\", line 160, in is_alive\n",
      "    : \n",
      "assert self._parent_pid == os.getpid(), 'can only test a child process'can only test a child process\n",
      "\n",
      "AssertionError: assert self._parent_pid == os.getpid(), 'can only test a child process'\n",
      "  File \"/home/ichuviliaeva/miniconda3/envs/is_project/lib/python3.9/site-packages/torch/utils/data/dataloader.py\", line 1320, in _shutdown_workers\n",
      "can only test a child process\n",
      "    AssertionError: if w.is_alive():\n",
      "  File \"/home/ichuviliaeva/miniconda3/envs/is_project/lib/python3.9/multiprocessing/process.py\", line 160, in is_alive\n",
      "    can only test a child process\n",
      "assert self._parent_pid == os.getpid(), 'can only test a child process'\n",
      "AssertionError: can only test a child process\n",
      "Exception ignored in: <function _MultiProcessingDataLoaderIter.__del__ at 0x7f3237e8d3a0>\n",
      "Traceback (most recent call last):\n",
      "  File \"/home/ichuviliaeva/miniconda3/envs/is_project/lib/python3.9/site-packages/torch/utils/data/dataloader.py\", line 1328, in __del__\n",
      "    self._shutdown_workers()\n",
      "  File \"/home/ichuviliaeva/miniconda3/envs/is_project/lib/python3.9/site-packages/torch/utils/data/dataloader.py\", line 1320, in _shutdown_workers\n",
      "    if w.is_alive():\n",
      "  File \"/home/ichuviliaeva/miniconda3/envs/is_project/lib/python3.9/multiprocessing/process.py\", line 160, in is_alive\n",
      "    assert self._parent_pid == os.getpid(), 'can only test a child process'\n",
      "AssertionError: can only test a child process\n",
      "Exception ignored in: <function _MultiProcessingDataLoaderIter.__del__ at 0x7f3237e8d3a0>\n",
      "Traceback (most recent call last):\n",
      "  File \"/home/ichuviliaeva/miniconda3/envs/is_project/lib/python3.9/site-packages/torch/utils/data/dataloader.py\", line 1328, in __del__\n",
      "    self._shutdown_workers()\n",
      "  File \"/home/ichuviliaeva/miniconda3/envs/is_project/lib/python3.9/site-packages/torch/utils/data/dataloader.py\", line 1320, in _shutdown_workers\n",
      "    if w.is_alive():\n",
      "  File \"/home/ichuviliaeva/miniconda3/envs/is_project/lib/python3.9/multiprocessing/process.py\", line 160, in is_alive\n",
      "    assert self._parent_pid == os.getpid(), 'can only test a child process'\n",
      "AssertionError: can only test a child process\n",
      "Exception ignored in: <function _MultiProcessingDataLoaderIter.__del__ at 0x7f3237e8d3a0>\n",
      "Traceback (most recent call last):\n",
      "  File \"/home/ichuviliaeva/miniconda3/envs/is_project/lib/python3.9/site-packages/torch/utils/data/dataloader.py\", line 1328, in __del__\n",
      "    self._shutdown_workers()\n",
      "  File \"/home/ichuviliaeva/miniconda3/envs/is_project/lib/python3.9/site-packages/torch/utils/data/dataloader.py\", line 1320, in _shutdown_workers\n",
      "    if w.is_alive():\n",
      "  File \"/home/ichuviliaeva/miniconda3/envs/is_project/lib/python3.9/multiprocessing/process.py\", line 160, in is_alive\n",
      "    assert self._parent_pid == os.getpid(), 'can only test a child process'\n",
      "AssertionError: can only test a child process\n",
      "Exception ignored in: <function _MultiProcessingDataLoaderIter.__del__ at 0x7f3237e8d3a0>\n",
      "Traceback (most recent call last):\n",
      "  File \"/home/ichuviliaeva/miniconda3/envs/is_project/lib/python3.9/site-packages/torch/utils/data/dataloader.py\", line 1328, in __del__\n",
      "    self._shutdown_workers()\n",
      "  File \"/home/ichuviliaeva/miniconda3/envs/is_project/lib/python3.9/site-packages/torch/utils/data/dataloader.py\", line 1320, in _shutdown_workers\n",
      "    if w.is_alive():\n",
      "  File \"/home/ichuviliaeva/miniconda3/envs/is_project/lib/python3.9/multiprocessing/process.py\", line 160, in is_alive\n",
      "    assert self._parent_pid == os.getpid(), 'can only test a child process'\n",
      "AssertionErrorException ignored in: <function _MultiProcessingDataLoaderIter.__del__ at 0x7f3237e8d3a0>Exception ignored in: : Exception ignored in: can only test a child process\n",
      "<function _MultiProcessingDataLoaderIter.__del__ at 0x7f3237e8d3a0>\n",
      "<function _MultiProcessingDataLoaderIter.__del__ at 0x7f3237e8d3a0>\n",
      "Traceback (most recent call last):\n",
      "\n",
      "Traceback (most recent call last):\n",
      "  File \"/home/ichuviliaeva/miniconda3/envs/is_project/lib/python3.9/site-packages/torch/utils/data/dataloader.py\", line 1328, in __del__\n",
      "Traceback (most recent call last):\n",
      "  File \"/home/ichuviliaeva/miniconda3/envs/is_project/lib/python3.9/site-packages/torch/utils/data/dataloader.py\", line 1328, in __del__\n",
      "      File \"/home/ichuviliaeva/miniconda3/envs/is_project/lib/python3.9/site-packages/torch/utils/data/dataloader.py\", line 1328, in __del__\n",
      "self._shutdown_workers()    self._shutdown_workers()    \n",
      "\n",
      "self._shutdown_workers()  File \"/home/ichuviliaeva/miniconda3/envs/is_project/lib/python3.9/site-packages/torch/utils/data/dataloader.py\", line 1320, in _shutdown_workers\n",
      "  File \"/home/ichuviliaeva/miniconda3/envs/is_project/lib/python3.9/site-packages/torch/utils/data/dataloader.py\", line 1320, in _shutdown_workers\n",
      "\n",
      "        if w.is_alive():Exception ignored in:   File \"/home/ichuviliaeva/miniconda3/envs/is_project/lib/python3.9/site-packages/torch/utils/data/dataloader.py\", line 1320, in _shutdown_workers\n",
      "if w.is_alive():<function _MultiProcessingDataLoaderIter.__del__ at 0x7f3237e8d3a0>\n",
      "\n",
      "    \n",
      "if w.is_alive():  File \"/home/ichuviliaeva/miniconda3/envs/is_project/lib/python3.9/multiprocessing/process.py\", line 160, in is_alive\n",
      "  File \"/home/ichuviliaeva/miniconda3/envs/is_project/lib/python3.9/multiprocessing/process.py\", line 160, in is_alive\n",
      "    \n",
      "assert self._parent_pid == os.getpid(), 'can only test a child process'    Traceback (most recent call last):\n",
      "\n",
      "  File \"/home/ichuviliaeva/miniconda3/envs/is_project/lib/python3.9/multiprocessing/process.py\", line 160, in is_alive\n",
      "  File \"/home/ichuviliaeva/miniconda3/envs/is_project/lib/python3.9/site-packages/torch/utils/data/dataloader.py\", line 1328, in __del__\n",
      "        self._shutdown_workers()assert self._parent_pid == os.getpid(), 'can only test a child process'assert self._parent_pid == os.getpid(), 'can only test a child process'\n",
      "\n",
      "AssertionErrorAssertionError  File \"/home/ichuviliaeva/miniconda3/envs/is_project/lib/python3.9/site-packages/torch/utils/data/dataloader.py\", line 1320, in _shutdown_workers\n"
     ]
    },
    {
     "name": "stderr",
     "output_type": "stream",
     "text": [
      ": can only test a child processException ignored in:     Traceback (most recent call last):\n",
      "\n",
      "\n",
      "<function _MultiProcessingDataLoaderIter.__del__ at 0x7f3237e8d3a0>AssertionError\n",
      "if w.is_alive()::   File \"/home/ichuviliaeva/miniconda3/envs/is_project/lib/python3.9/site-packages/torch/utils/data/dataloader.py\", line 1328, in __del__\n",
      "\n",
      "      File \"/home/ichuviliaeva/miniconda3/envs/is_project/lib/python3.9/multiprocessing/process.py\", line 160, in is_alive\n",
      "can only test a child processself._shutdown_workers()\n",
      "\n",
      ": can only test a child process  File \"/home/ichuviliaeva/miniconda3/envs/is_project/lib/python3.9/site-packages/torch/utils/data/dataloader.py\", line 1320, in _shutdown_workers\n",
      "    \n",
      "assert self._parent_pid == os.getpid(), 'can only test a child process'    if w.is_alive():\n",
      "  File \"/home/ichuviliaeva/miniconda3/envs/is_project/lib/python3.9/multiprocessing/process.py\", line 160, in is_alive\n",
      "    \n",
      "AssertionError: assert self._parent_pid == os.getpid(), 'can only test a child process'Exception ignored in: can only test a child process\n",
      "AssertionError<function _MultiProcessingDataLoaderIter.__del__ at 0x7f3237e8d3a0>\n",
      ": \n",
      "Exception ignored in: can only test a child processException ignored in: Traceback (most recent call last):\n",
      "<function _MultiProcessingDataLoaderIter.__del__ at 0x7f3237e8d3a0><function _MultiProcessingDataLoaderIter.__del__ at 0x7f3237e8d3a0>\n",
      "\n",
      "Traceback (most recent call last):\n",
      "  File \"/home/ichuviliaeva/miniconda3/envs/is_project/lib/python3.9/site-packages/torch/utils/data/dataloader.py\", line 1328, in __del__\n",
      "      File \"/home/ichuviliaeva/miniconda3/envs/is_project/lib/python3.9/site-packages/torch/utils/data/dataloader.py\", line 1328, in __del__\n",
      "self._shutdown_workers()    \n",
      "self._shutdown_workers()  File \"/home/ichuviliaeva/miniconda3/envs/is_project/lib/python3.9/site-packages/torch/utils/data/dataloader.py\", line 1320, in _shutdown_workers\n",
      "\n",
      "\n",
      "    if w.is_alive():  File \"/home/ichuviliaeva/miniconda3/envs/is_project/lib/python3.9/site-packages/torch/utils/data/dataloader.py\", line 1320, in _shutdown_workers\n",
      "Traceback (most recent call last):\n",
      "\n",
      "  File \"/home/ichuviliaeva/miniconda3/envs/is_project/lib/python3.9/site-packages/torch/utils/data/dataloader.py\", line 1328, in __del__\n",
      "  File \"/home/ichuviliaeva/miniconda3/envs/is_project/lib/python3.9/multiprocessing/process.py\", line 160, in is_alive\n",
      "            if w.is_alive():assert self._parent_pid == os.getpid(), 'can only test a child process'\n",
      "\n",
      "AssertionError: self._shutdown_workers()can only test a child process\n",
      "  File \"/home/ichuviliaeva/miniconda3/envs/is_project/lib/python3.9/multiprocessing/process.py\", line 160, in is_alive\n",
      "\n",
      "  File \"/home/ichuviliaeva/miniconda3/envs/is_project/lib/python3.9/site-packages/torch/utils/data/dataloader.py\", line 1320, in _shutdown_workers\n",
      "        if w.is_alive():assert self._parent_pid == os.getpid(), 'can only test a child process'\n",
      "  File \"/home/ichuviliaeva/miniconda3/envs/is_project/lib/python3.9/multiprocessing/process.py\", line 160, in is_alive\n",
      "\n",
      "Exception ignored in: AssertionError    : can only test a child processassert self._parent_pid == os.getpid(), 'can only test a child process'\n",
      "\n",
      "<function _MultiProcessingDataLoaderIter.__del__ at 0x7f3237e8d3a0>AssertionError\n",
      ": Traceback (most recent call last):\n",
      "can only test a child process  File \"/home/ichuviliaeva/miniconda3/envs/is_project/lib/python3.9/site-packages/torch/utils/data/dataloader.py\", line 1328, in __del__\n",
      "\n",
      "    self._shutdown_workers()\n",
      "  File \"/home/ichuviliaeva/miniconda3/envs/is_project/lib/python3.9/site-packages/torch/utils/data/dataloader.py\", line 1320, in _shutdown_workers\n",
      "    if w.is_alive():\n",
      "  File \"/home/ichuviliaeva/miniconda3/envs/is_project/lib/python3.9/multiprocessing/process.py\", line 160, in is_alive\n",
      "    assert self._parent_pid == os.getpid(), 'can only test a child process'\n",
      "AssertionError: can only test a child process\n",
      "Exception ignored in: <function _MultiProcessingDataLoaderIter.__del__ at 0x7f3237e8d3a0>\n",
      "Traceback (most recent call last):\n",
      "  File \"/home/ichuviliaeva/miniconda3/envs/is_project/lib/python3.9/site-packages/torch/utils/data/dataloader.py\", line 1328, in __del__\n",
      "    self._shutdown_workers()\n",
      "  File \"/home/ichuviliaeva/miniconda3/envs/is_project/lib/python3.9/site-packages/torch/utils/data/dataloader.py\", line 1320, in _shutdown_workers\n",
      "    if w.is_alive():Exception ignored in: \n",
      "<function _MultiProcessingDataLoaderIter.__del__ at 0x7f3237e8d3a0>\n",
      "Traceback (most recent call last):\n",
      "  File \"/home/ichuviliaeva/miniconda3/envs/is_project/lib/python3.9/site-packages/torch/utils/data/dataloader.py\", line 1328, in __del__\n",
      "  File \"/home/ichuviliaeva/miniconda3/envs/is_project/lib/python3.9/multiprocessing/process.py\", line 160, in is_alive\n",
      "        assert self._parent_pid == os.getpid(), 'can only test a child process'self._shutdown_workers()\n",
      "AssertionError\n",
      ":   File \"/home/ichuviliaeva/miniconda3/envs/is_project/lib/python3.9/site-packages/torch/utils/data/dataloader.py\", line 1320, in _shutdown_workers\n",
      "can only test a child process    \n",
      "if w.is_alive():\n",
      "  File \"/home/ichuviliaeva/miniconda3/envs/is_project/lib/python3.9/multiprocessing/process.py\", line 160, in is_alive\n",
      "    assert self._parent_pid == os.getpid(), 'can only test a child process'\n",
      "AssertionError: can only test a child process\n",
      "Exception ignored in: <function _MultiProcessingDataLoaderIter.__del__ at 0x7f3237e8d3a0>\n",
      "Traceback (most recent call last):\n",
      "  File \"/home/ichuviliaeva/miniconda3/envs/is_project/lib/python3.9/site-packages/torch/utils/data/dataloader.py\", line 1328, in __del__\n",
      "    self._shutdown_workers()\n",
      "  File \"/home/ichuviliaeva/miniconda3/envs/is_project/lib/python3.9/site-packages/torch/utils/data/dataloader.py\", line 1320, in _shutdown_workers\n",
      "    if w.is_alive():\n",
      "  File \"/home/ichuviliaeva/miniconda3/envs/is_project/lib/python3.9/multiprocessing/process.py\", line 160, in is_alive\n",
      "    assert self._parent_pid == os.getpid(), 'can only test a child process'\n",
      "AssertionError: can only test a child process\n"
     ]
    },
    {
     "name": "stdout",
     "output_type": "stream",
     "text": [
      "accuracy: 0.886528112390612\n",
      "Epoch 20:\n"
     ]
    },
    {
     "data": {
      "application/vnd.jupyter.widget-view+json": {
       "model_id": "28fc8eca63134aacaa207036acadd1db",
       "version_major": 2,
       "version_minor": 0
      },
      "text/plain": [
       "  0%|          | 0/5036 [00:00<?, ?it/s]"
      ]
     },
     "metadata": {},
     "output_type": "display_data"
    },
    {
     "name": "stderr",
     "output_type": "stream",
     "text": [
      "Exception ignored in: <function _MultiProcessingDataLoaderIter.__del__ at 0x7f3237e8d3a0>\n",
      "Traceback (most recent call last):\n",
      "  File \"/home/ichuviliaeva/miniconda3/envs/is_project/lib/python3.9/site-packages/torch/utils/data/dataloader.py\", line 1328, in __del__\n",
      "    self._shutdown_workers()\n",
      "  File \"/home/ichuviliaeva/miniconda3/envs/is_project/lib/python3.9/site-packages/torch/utils/data/dataloader.py\", line 1320, in _shutdown_workers\n",
      "    if w.is_alive():\n",
      "  File \"/home/ichuviliaeva/miniconda3/envs/is_project/lib/python3.9/multiprocessing/process.py\", line 160, in is_alive\n",
      "    assert self._parent_pid == os.getpid(), 'can only test a child process'\n",
      "AssertionError: can only test a child process\n",
      "Exception ignored in: <function _MultiProcessingDataLoaderIter.__del__ at 0x7f3237e8d3a0>\n",
      "Traceback (most recent call last):\n",
      "Exception ignored in: <function _MultiProcessingDataLoaderIter.__del__ at 0x7f3237e8d3a0>\n",
      "  File \"/home/ichuviliaeva/miniconda3/envs/is_project/lib/python3.9/site-packages/torch/utils/data/dataloader.py\", line 1328, in __del__\n",
      "    Traceback (most recent call last):\n",
      "self._shutdown_workers()\n",
      "  File \"/home/ichuviliaeva/miniconda3/envs/is_project/lib/python3.9/site-packages/torch/utils/data/dataloader.py\", line 1320, in _shutdown_workers\n",
      "  File \"/home/ichuviliaeva/miniconda3/envs/is_project/lib/python3.9/site-packages/torch/utils/data/dataloader.py\", line 1328, in __del__\n",
      "        self._shutdown_workers()\n",
      "  File \"/home/ichuviliaeva/miniconda3/envs/is_project/lib/python3.9/site-packages/torch/utils/data/dataloader.py\", line 1320, in _shutdown_workers\n",
      "    if w.is_alive():\n",
      "if w.is_alive():  File \"/home/ichuviliaeva/miniconda3/envs/is_project/lib/python3.9/multiprocessing/process.py\", line 160, in is_alive\n",
      "    assert self._parent_pid == os.getpid(), 'can only test a child process'\n",
      "\n",
      "  File \"/home/ichuviliaeva/miniconda3/envs/is_project/lib/python3.9/multiprocessing/process.py\", line 160, in is_alive\n",
      "    assert self._parent_pid == os.getpid(), 'can only test a child process'\n",
      "AssertionError: can only test a child processAssertionError: can only test a child process\n",
      "\n",
      "Exception ignored in: <function _MultiProcessingDataLoaderIter.__del__ at 0x7f3237e8d3a0>\n",
      "Traceback (most recent call last):\n",
      "  File \"/home/ichuviliaeva/miniconda3/envs/is_project/lib/python3.9/site-packages/torch/utils/data/dataloader.py\", line 1328, in __del__\n",
      "    self._shutdown_workers()\n",
      "  File \"/home/ichuviliaeva/miniconda3/envs/is_project/lib/python3.9/site-packages/torch/utils/data/dataloader.py\", line 1320, in _shutdown_workers\n",
      "    if w.is_alive():Exception ignored in: <function _MultiProcessingDataLoaderIter.__del__ at 0x7f3237e8d3a0>\n",
      "\n",
      "  File \"/home/ichuviliaeva/miniconda3/envs/is_project/lib/python3.9/multiprocessing/process.py\", line 160, in is_alive\n",
      "    Traceback (most recent call last):\n",
      "assert self._parent_pid == os.getpid(), 'can only test a child process'  File \"/home/ichuviliaeva/miniconda3/envs/is_project/lib/python3.9/site-packages/torch/utils/data/dataloader.py\", line 1328, in __del__\n",
      "\n",
      "    AssertionError: self._shutdown_workers()can only test a child process\n",
      "\n",
      "  File \"/home/ichuviliaeva/miniconda3/envs/is_project/lib/python3.9/site-packages/torch/utils/data/dataloader.py\", line 1320, in _shutdown_workers\n",
      "    if w.is_alive():\n",
      "  File \"/home/ichuviliaeva/miniconda3/envs/is_project/lib/python3.9/multiprocessing/process.py\", line 160, in is_alive\n",
      "    assert self._parent_pid == os.getpid(), 'can only test a child process'\n",
      "AssertionError: can only test a child process\n",
      "Exception ignored in: <function _MultiProcessingDataLoaderIter.__del__ at 0x7f3237e8d3a0>\n",
      "Traceback (most recent call last):\n",
      "  File \"/home/ichuviliaeva/miniconda3/envs/is_project/lib/python3.9/site-packages/torch/utils/data/dataloader.py\", line 1328, in __del__\n",
      "    self._shutdown_workers()\n",
      "  File \"/home/ichuviliaeva/miniconda3/envs/is_project/lib/python3.9/site-packages/torch/utils/data/dataloader.py\", line 1320, in _shutdown_workers\n",
      "    if w.is_alive():\n",
      "  File \"/home/ichuviliaeva/miniconda3/envs/is_project/lib/python3.9/multiprocessing/process.py\", line 160, in is_alive\n",
      "    assert self._parent_pid == os.getpid(), 'can only test a child process'\n",
      "AssertionError: can only test a child process\n",
      "Exception ignored in: <function _MultiProcessingDataLoaderIter.__del__ at 0x7f3237e8d3a0>\n",
      "Traceback (most recent call last):\n",
      "  File \"/home/ichuviliaeva/miniconda3/envs/is_project/lib/python3.9/site-packages/torch/utils/data/dataloader.py\", line 1328, in __del__\n",
      "    self._shutdown_workers()\n",
      "  File \"/home/ichuviliaeva/miniconda3/envs/is_project/lib/python3.9/site-packages/torch/utils/data/dataloader.py\", line 1320, in _shutdown_workers\n",
      "    if w.is_alive():\n",
      "  File \"/home/ichuviliaeva/miniconda3/envs/is_project/lib/python3.9/multiprocessing/process.py\", line 160, in is_alive\n",
      "    assert self._parent_pid == os.getpid(), 'can only test a child process'\n",
      "AssertionError: can only test a child process\n",
      "Exception ignored in: <function _MultiProcessingDataLoaderIter.__del__ at 0x7f3237e8d3a0>\n",
      "Traceback (most recent call last):\n",
      "  File \"/home/ichuviliaeva/miniconda3/envs/is_project/lib/python3.9/site-packages/torch/utils/data/dataloader.py\", line 1328, in __del__\n",
      "    self._shutdown_workers()\n",
      "  File \"/home/ichuviliaeva/miniconda3/envs/is_project/lib/python3.9/site-packages/torch/utils/data/dataloader.py\", line 1320, in _shutdown_workers\n",
      "    if w.is_alive():\n",
      "  File \"/home/ichuviliaeva/miniconda3/envs/is_project/lib/python3.9/multiprocessing/process.py\", line 160, in is_alive\n",
      "    assert self._parent_pid == os.getpid(), 'can only test a child process'\n",
      "AssertionError: can only test a child process\n",
      "Exception ignored in: <function _MultiProcessingDataLoaderIter.__del__ at 0x7f3237e8d3a0>\n",
      "Traceback (most recent call last):\n",
      "  File \"/home/ichuviliaeva/miniconda3/envs/is_project/lib/python3.9/site-packages/torch/utils/data/dataloader.py\", line 1328, in __del__\n",
      "    self._shutdown_workers()\n",
      "  File \"/home/ichuviliaeva/miniconda3/envs/is_project/lib/python3.9/site-packages/torch/utils/data/dataloader.py\", line 1320, in _shutdown_workers\n",
      "    if w.is_alive():\n",
      "  File \"/home/ichuviliaeva/miniconda3/envs/is_project/lib/python3.9/multiprocessing/process.py\", line 160, in is_alive\n",
      "    assert self._parent_pid == os.getpid(), 'can only test a child process'\n",
      "AssertionError: can only test a child process\n",
      "Exception ignored in: <function _MultiProcessingDataLoaderIter.__del__ at 0x7f3237e8d3a0>\n",
      "Traceback (most recent call last):\n",
      "  File \"/home/ichuviliaeva/miniconda3/envs/is_project/lib/python3.9/site-packages/torch/utils/data/dataloader.py\", line 1328, in __del__\n",
      "    self._shutdown_workers()\n",
      "  File \"/home/ichuviliaeva/miniconda3/envs/is_project/lib/python3.9/site-packages/torch/utils/data/dataloader.py\", line 1320, in _shutdown_workers\n",
      "    if w.is_alive():\n",
      "  File \"/home/ichuviliaeva/miniconda3/envs/is_project/lib/python3.9/multiprocessing/process.py\", line 160, in is_alive\n",
      "    assert self._parent_pid == os.getpid(), 'can only test a child process'\n",
      "AssertionError: can only test a child process\n",
      "Exception ignored in: <function _MultiProcessingDataLoaderIter.__del__ at 0x7f3237e8d3a0>\n",
      "Traceback (most recent call last):\n",
      "  File \"/home/ichuviliaeva/miniconda3/envs/is_project/lib/python3.9/site-packages/torch/utils/data/dataloader.py\", line 1328, in __del__\n",
      "    self._shutdown_workers()\n",
      "  File \"/home/ichuviliaeva/miniconda3/envs/is_project/lib/python3.9/site-packages/torch/utils/data/dataloader.py\", line 1320, in _shutdown_workers\n",
      "    if w.is_alive():\n",
      "  File \"/home/ichuviliaeva/miniconda3/envs/is_project/lib/python3.9/multiprocessing/process.py\", line 160, in is_alive\n",
      "    assert self._parent_pid == os.getpid(), 'can only test a child process'\n",
      "AssertionError: can only test a child process\n",
      "Exception ignored in: <function _MultiProcessingDataLoaderIter.__del__ at 0x7f3237e8d3a0>\n",
      "Traceback (most recent call last):\n",
      "  File \"/home/ichuviliaeva/miniconda3/envs/is_project/lib/python3.9/site-packages/torch/utils/data/dataloader.py\", line 1328, in __del__\n",
      "    self._shutdown_workers()\n",
      "  File \"/home/ichuviliaeva/miniconda3/envs/is_project/lib/python3.9/site-packages/torch/utils/data/dataloader.py\", line 1320, in _shutdown_workers\n",
      "    if w.is_alive():\n",
      "  File \"/home/ichuviliaeva/miniconda3/envs/is_project/lib/python3.9/multiprocessing/process.py\", line 160, in is_alive\n"
     ]
    },
    {
     "name": "stderr",
     "output_type": "stream",
     "text": [
      "    assert self._parent_pid == os.getpid(), 'can only test a child process'\n",
      "AssertionError: can only test a child process\n",
      "Exception ignored in: <function _MultiProcessingDataLoaderIter.__del__ at 0x7f3237e8d3a0>\n",
      "Traceback (most recent call last):\n",
      "  File \"/home/ichuviliaeva/miniconda3/envs/is_project/lib/python3.9/site-packages/torch/utils/data/dataloader.py\", line 1328, in __del__\n",
      "    self._shutdown_workers()\n",
      "  File \"/home/ichuviliaeva/miniconda3/envs/is_project/lib/python3.9/site-packages/torch/utils/data/dataloader.py\", line 1320, in _shutdown_workers\n",
      "    if w.is_alive():assert self._parent_pid == os.getpid(), 'can only test a child process'\n",
      "  File \"/home/ichuviliaeva/miniconda3/envs/is_project/lib/python3.9/multiprocessing/process.py\", line 160, in is_alive\n",
      "    \n",
      "AssertionError: can only test a child process\n",
      "Exception ignored in: <function _MultiProcessingDataLoaderIter.__del__ at 0x7f3237e8d3a0>\n",
      "Traceback (most recent call last):\n",
      "  File \"/home/ichuviliaeva/miniconda3/envs/is_project/lib/python3.9/site-packages/torch/utils/data/dataloader.py\", line 1328, in __del__\n",
      "    self._shutdown_workers()\n",
      "  File \"/home/ichuviliaeva/miniconda3/envs/is_project/lib/python3.9/site-packages/torch/utils/data/dataloader.py\", line 1320, in _shutdown_workers\n",
      "    if w.is_alive():\n",
      "  File \"/home/ichuviliaeva/miniconda3/envs/is_project/lib/python3.9/multiprocessing/process.py\", line 160, in is_alive\n",
      "    assert self._parent_pid == os.getpid(), 'can only test a child process'\n",
      "AssertionError: can only test a child process\n",
      "Exception ignored in: <function _MultiProcessingDataLoaderIter.__del__ at 0x7f3237e8d3a0>\n",
      "Traceback (most recent call last):\n",
      "  File \"/home/ichuviliaeva/miniconda3/envs/is_project/lib/python3.9/site-packages/torch/utils/data/dataloader.py\", line 1328, in __del__\n",
      "    self._shutdown_workers()\n",
      "  File \"/home/ichuviliaeva/miniconda3/envs/is_project/lib/python3.9/site-packages/torch/utils/data/dataloader.py\", line 1320, in _shutdown_workers\n",
      "    if w.is_alive():\n",
      "  File \"/home/ichuviliaeva/miniconda3/envs/is_project/lib/python3.9/multiprocessing/process.py\", line 160, in is_alive\n",
      "    assert self._parent_pid == os.getpid(), 'can only test a child process'\n",
      "AssertionError: can only test a child process\n",
      "Exception ignored in: <function _MultiProcessingDataLoaderIter.__del__ at 0x7f3237e8d3a0>\n",
      "Traceback (most recent call last):\n",
      "  File \"/home/ichuviliaeva/miniconda3/envs/is_project/lib/python3.9/site-packages/torch/utils/data/dataloader.py\", line 1328, in __del__\n",
      "    self._shutdown_workers()\n",
      "  File \"/home/ichuviliaeva/miniconda3/envs/is_project/lib/python3.9/site-packages/torch/utils/data/dataloader.py\", line 1320, in _shutdown_workers\n",
      "    if w.is_alive():\n",
      "  File \"/home/ichuviliaeva/miniconda3/envs/is_project/lib/python3.9/multiprocessing/process.py\", line 160, in is_alive\n",
      "    assert self._parent_pid == os.getpid(), 'can only test a child process'\n",
      "AssertionError: can only test a child process\n",
      "Exception ignored in: <function _MultiProcessingDataLoaderIter.__del__ at 0x7f3237e8d3a0>\n",
      "Traceback (most recent call last):\n",
      "  File \"/home/ichuviliaeva/miniconda3/envs/is_project/lib/python3.9/site-packages/torch/utils/data/dataloader.py\", line 1328, in __del__\n",
      "    self._shutdown_workers()\n",
      "  File \"/home/ichuviliaeva/miniconda3/envs/is_project/lib/python3.9/site-packages/torch/utils/data/dataloader.py\", line 1320, in _shutdown_workers\n",
      "    if w.is_alive():\n",
      "  File \"/home/ichuviliaeva/miniconda3/envs/is_project/lib/python3.9/multiprocessing/process.py\", line 160, in is_alive\n",
      "    assert self._parent_pid == os.getpid(), 'can only test a child process'\n",
      "AssertionError: can only test a child process\n",
      "Exception ignored in: <function _MultiProcessingDataLoaderIter.__del__ at 0x7f3237e8d3a0>\n",
      "Traceback (most recent call last):\n",
      "  File \"/home/ichuviliaeva/miniconda3/envs/is_project/lib/python3.9/site-packages/torch/utils/data/dataloader.py\", line 1328, in __del__\n",
      "    self._shutdown_workers()\n",
      "  File \"/home/ichuviliaeva/miniconda3/envs/is_project/lib/python3.9/site-packages/torch/utils/data/dataloader.py\", line 1320, in _shutdown_workers\n",
      "    if w.is_alive():\n",
      "  File \"/home/ichuviliaeva/miniconda3/envs/is_project/lib/python3.9/multiprocessing/process.py\", line 160, in is_alive\n",
      "    assert self._parent_pid == os.getpid(), 'can only test a child process'\n",
      "AssertionError: can only test a child process\n",
      "Exception ignored in: <function _MultiProcessingDataLoaderIter.__del__ at 0x7f3237e8d3a0>\n",
      "Traceback (most recent call last):\n",
      "  File \"/home/ichuviliaeva/miniconda3/envs/is_project/lib/python3.9/site-packages/torch/utils/data/dataloader.py\", line 1328, in __del__\n",
      "    self._shutdown_workers()\n",
      "Exception ignored in: <function _MultiProcessingDataLoaderIter.__del__ at 0x7f3237e8d3a0>  File \"/home/ichuviliaeva/miniconda3/envs/is_project/lib/python3.9/site-packages/torch/utils/data/dataloader.py\", line 1320, in _shutdown_workers\n",
      "\n",
      "Traceback (most recent call last):\n",
      "  File \"/home/ichuviliaeva/miniconda3/envs/is_project/lib/python3.9/site-packages/torch/utils/data/dataloader.py\", line 1328, in __del__\n",
      "        self._shutdown_workers()if w.is_alive():\n",
      "\n",
      "  File \"/home/ichuviliaeva/miniconda3/envs/is_project/lib/python3.9/multiprocessing/process.py\", line 160, in is_alive\n",
      "  File \"/home/ichuviliaeva/miniconda3/envs/is_project/lib/python3.9/site-packages/torch/utils/data/dataloader.py\", line 1320, in _shutdown_workers\n",
      "        if w.is_alive():\n",
      "assert self._parent_pid == os.getpid(), 'can only test a child process'\n",
      "AssertionError:   File \"/home/ichuviliaeva/miniconda3/envs/is_project/lib/python3.9/multiprocessing/process.py\", line 160, in is_alive\n",
      "    can only test a child process\n",
      "assert self._parent_pid == os.getpid(), 'can only test a child process'\n",
      "AssertionError: can only test a child process\n",
      "Exception ignored in: <function _MultiProcessingDataLoaderIter.__del__ at 0x7f3237e8d3a0>\n",
      "Traceback (most recent call last):\n",
      "  File \"/home/ichuviliaeva/miniconda3/envs/is_project/lib/python3.9/site-packages/torch/utils/data/dataloader.py\", line 1328, in __del__\n",
      "    self._shutdown_workers()\n",
      "  File \"/home/ichuviliaeva/miniconda3/envs/is_project/lib/python3.9/site-packages/torch/utils/data/dataloader.py\", line 1320, in _shutdown_workers\n",
      "    if w.is_alive():\n",
      "  File \"/home/ichuviliaeva/miniconda3/envs/is_project/lib/python3.9/multiprocessing/process.py\", line 160, in is_alive\n",
      "    assert self._parent_pid == os.getpid(), 'can only test a child process'\n",
      "AssertionError: Exception ignored in: can only test a child process<function _MultiProcessingDataLoaderIter.__del__ at 0x7f3237e8d3a0>\n",
      "\n",
      "Traceback (most recent call last):\n",
      "  File \"/home/ichuviliaeva/miniconda3/envs/is_project/lib/python3.9/site-packages/torch/utils/data/dataloader.py\", line 1328, in __del__\n",
      "    self._shutdown_workers()\n",
      "  File \"/home/ichuviliaeva/miniconda3/envs/is_project/lib/python3.9/site-packages/torch/utils/data/dataloader.py\", line 1320, in _shutdown_workers\n",
      "    if w.is_alive():\n",
      "  File \"/home/ichuviliaeva/miniconda3/envs/is_project/lib/python3.9/multiprocessing/process.py\", line 160, in is_alive\n",
      "    assert self._parent_pid == os.getpid(), 'can only test a child process'\n",
      "AssertionError: can only test a child process\n",
      "Exception ignored in: <function _MultiProcessingDataLoaderIter.__del__ at 0x7f3237e8d3a0>\n",
      "Traceback (most recent call last):\n",
      "  File \"/home/ichuviliaeva/miniconda3/envs/is_project/lib/python3.9/site-packages/torch/utils/data/dataloader.py\", line 1328, in __del__\n",
      "Exception ignored in:     <function _MultiProcessingDataLoaderIter.__del__ at 0x7f3237e8d3a0>self._shutdown_workers()\n",
      "\n",
      "  File \"/home/ichuviliaeva/miniconda3/envs/is_project/lib/python3.9/site-packages/torch/utils/data/dataloader.py\", line 1320, in _shutdown_workers\n",
      "Traceback (most recent call last):\n",
      "  File \"/home/ichuviliaeva/miniconda3/envs/is_project/lib/python3.9/site-packages/torch/utils/data/dataloader.py\", line 1328, in __del__\n",
      "        self._shutdown_workers()if w.is_alive():\n",
      "\n",
      "  File \"/home/ichuviliaeva/miniconda3/envs/is_project/lib/python3.9/site-packages/torch/utils/data/dataloader.py\", line 1320, in _shutdown_workers\n",
      "      File \"/home/ichuviliaeva/miniconda3/envs/is_project/lib/python3.9/multiprocessing/process.py\", line 160, in is_alive\n",
      "if w.is_alive():    \n",
      "assert self._parent_pid == os.getpid(), 'can only test a child process'  File \"/home/ichuviliaeva/miniconda3/envs/is_project/lib/python3.9/multiprocessing/process.py\", line 160, in is_alive\n",
      "\n",
      "AssertionError    : assert self._parent_pid == os.getpid(), 'can only test a child process'\n",
      "can only test a child processAssertionError\n",
      ": can only test a child process\n",
      "Exception ignored in: <function _MultiProcessingDataLoaderIter.__del__ at 0x7f3237e8d3a0>\n",
      "Traceback (most recent call last):\n",
      "  File \"/home/ichuviliaeva/miniconda3/envs/is_project/lib/python3.9/site-packages/torch/utils/data/dataloader.py\", line 1328, in __del__\n",
      "    self._shutdown_workers()\n",
      "  File \"/home/ichuviliaeva/miniconda3/envs/is_project/lib/python3.9/site-packages/torch/utils/data/dataloader.py\", line 1320, in _shutdown_workers\n",
      "    if w.is_alive():\n",
      "  File \"/home/ichuviliaeva/miniconda3/envs/is_project/lib/python3.9/multiprocessing/process.py\", line 160, in is_alive\n",
      "    assert self._parent_pid == os.getpid(), 'can only test a child process'\n",
      "AssertionError: can only test a child process\n",
      "Exception ignored in: <function _MultiProcessingDataLoaderIter.__del__ at 0x7f3237e8d3a0>\n",
      "Traceback (most recent call last):\n",
      "  File \"/home/ichuviliaeva/miniconda3/envs/is_project/lib/python3.9/site-packages/torch/utils/data/dataloader.py\", line 1328, in __del__\n",
      "    self._shutdown_workers()\n",
      "  File \"/home/ichuviliaeva/miniconda3/envs/is_project/lib/python3.9/site-packages/torch/utils/data/dataloader.py\", line 1320, in _shutdown_workers\n",
      "    if w.is_alive():\n",
      "  File \"/home/ichuviliaeva/miniconda3/envs/is_project/lib/python3.9/multiprocessing/process.py\", line 160, in is_alive\n",
      "    assert self._parent_pid == os.getpid(), 'can only test a child process'\n",
      "AssertionError: can only test a child process\n",
      "Exception ignored in: <function _MultiProcessingDataLoaderIter.__del__ at 0x7f3237e8d3a0>\n",
      "Traceback (most recent call last):\n",
      "  File \"/home/ichuviliaeva/miniconda3/envs/is_project/lib/python3.9/site-packages/torch/utils/data/dataloader.py\", line 1328, in __del__\n",
      "    self._shutdown_workers()\n",
      "  File \"/home/ichuviliaeva/miniconda3/envs/is_project/lib/python3.9/site-packages/torch/utils/data/dataloader.py\", line 1320, in _shutdown_workers\n",
      "    if w.is_alive():\n",
      "  File \"/home/ichuviliaeva/miniconda3/envs/is_project/lib/python3.9/multiprocessing/process.py\", line 160, in is_alive\n",
      "Exception ignored in: <function _MultiProcessingDataLoaderIter.__del__ at 0x7f3237e8d3a0>    \n",
      "Traceback (most recent call last):\n",
      "assert self._parent_pid == os.getpid(), 'can only test a child process'  File \"/home/ichuviliaeva/miniconda3/envs/is_project/lib/python3.9/site-packages/torch/utils/data/dataloader.py\", line 1328, in __del__\n",
      "\n",
      "    AssertionError: self._shutdown_workers()can only test a child process\n",
      "  File \"/home/ichuviliaeva/miniconda3/envs/is_project/lib/python3.9/site-packages/torch/utils/data/dataloader.py\", line 1320, in _shutdown_workers\n",
      "\n",
      "    if w.is_alive():\n",
      "  File \"/home/ichuviliaeva/miniconda3/envs/is_project/lib/python3.9/multiprocessing/process.py\", line 160, in is_alive\n",
      "    assert self._parent_pid == os.getpid(), 'can only test a child process'\n",
      "AssertionErrorException ignored in: <function _MultiProcessingDataLoaderIter.__del__ at 0x7f3237e8d3a0>: \n",
      "Traceback (most recent call last):\n",
      "can only test a child process\n",
      "  File \"/home/ichuviliaeva/miniconda3/envs/is_project/lib/python3.9/site-packages/torch/utils/data/dataloader.py\", line 1328, in __del__\n",
      "    self._shutdown_workers()\n",
      "  File \"/home/ichuviliaeva/miniconda3/envs/is_project/lib/python3.9/site-packages/torch/utils/data/dataloader.py\", line 1320, in _shutdown_workers\n",
      "    if w.is_alive():\n",
      "  File \"/home/ichuviliaeva/miniconda3/envs/is_project/lib/python3.9/multiprocessing/process.py\", line 160, in is_alive\n",
      "    assert self._parent_pid == os.getpid(), 'can only test a child process'\n",
      "AssertionError: can only test a child process\n",
      "Exception ignored in: <function _MultiProcessingDataLoaderIter.__del__ at 0x7f3237e8d3a0>\n",
      "Traceback (most recent call last):\n",
      "  File \"/home/ichuviliaeva/miniconda3/envs/is_project/lib/python3.9/site-packages/torch/utils/data/dataloader.py\", line 1328, in __del__\n",
      "    self._shutdown_workers()\n",
      "  File \"/home/ichuviliaeva/miniconda3/envs/is_project/lib/python3.9/site-packages/torch/utils/data/dataloader.py\", line 1320, in _shutdown_workers\n",
      "    if w.is_alive():\n",
      "  File \"/home/ichuviliaeva/miniconda3/envs/is_project/lib/python3.9/multiprocessing/process.py\", line 160, in is_alive\n",
      "    assert self._parent_pid == os.getpid(), 'can only test a child process'\n",
      "AssertionError: can only test a child processException ignored in: \n",
      "<function _MultiProcessingDataLoaderIter.__del__ at 0x7f3237e8d3a0>\n",
      "Traceback (most recent call last):\n",
      "  File \"/home/ichuviliaeva/miniconda3/envs/is_project/lib/python3.9/site-packages/torch/utils/data/dataloader.py\", line 1328, in __del__\n",
      "    self._shutdown_workers()\n",
      "  File \"/home/ichuviliaeva/miniconda3/envs/is_project/lib/python3.9/site-packages/torch/utils/data/dataloader.py\", line 1320, in _shutdown_workers\n",
      "    if w.is_alive():\n",
      "  File \"/home/ichuviliaeva/miniconda3/envs/is_project/lib/python3.9/multiprocessing/process.py\", line 160, in is_alive\n",
      "    assert self._parent_pid == os.getpid(), 'can only test a child process'\n",
      "AssertionError: can only test a child processException ignored in: \n",
      "<function _MultiProcessingDataLoaderIter.__del__ at 0x7f3237e8d3a0>\n",
      "Traceback (most recent call last):\n",
      "  File \"/home/ichuviliaeva/miniconda3/envs/is_project/lib/python3.9/site-packages/torch/utils/data/dataloader.py\", line 1328, in __del__\n",
      "    self._shutdown_workers()\n",
      "  File \"/home/ichuviliaeva/miniconda3/envs/is_project/lib/python3.9/site-packages/torch/utils/data/dataloader.py\", line 1320, in _shutdown_workers\n",
      "    if w.is_alive():\n",
      "  File \"/home/ichuviliaeva/miniconda3/envs/is_project/lib/python3.9/multiprocessing/process.py\", line 160, in is_alive\n",
      "    assert self._parent_pid == os.getpid(), 'can only test a child process'\n",
      "\n",
      "AssertionError: can only test a child process"
     ]
    },
    {
     "data": {
      "application/vnd.jupyter.widget-view+json": {
       "model_id": "09cbf37fca024572bce1e18ab7e4166d",
       "version_major": 2,
       "version_minor": 0
      },
      "text/plain": [
       "  0%|          | 0/315 [00:00<?, ?it/s]"
      ]
     },
     "metadata": {},
     "output_type": "display_data"
    },
    {
     "name": "stderr",
     "output_type": "stream",
     "text": [
      "Exception ignored in: <function _MultiProcessingDataLoaderIter.__del__ at 0x7f3237e8d3a0>\n",
      "Traceback (most recent call last):\n",
      "  File \"/home/ichuviliaeva/miniconda3/envs/is_project/lib/python3.9/site-packages/torch/utils/data/dataloader.py\", line 1328, in __del__\n",
      "    self._shutdown_workers()\n",
      "  File \"/home/ichuviliaeva/miniconda3/envs/is_project/lib/python3.9/site-packages/torch/utils/data/dataloader.py\", line 1320, in _shutdown_workers\n",
      "    if w.is_alive():\n",
      "  File \"/home/ichuviliaeva/miniconda3/envs/is_project/lib/python3.9/multiprocessing/process.py\", line 160, in is_alive\n",
      "    assert self._parent_pid == os.getpid(), 'can only test a child process'\n",
      "AssertionError: can only test a child process\n",
      "Exception ignored in: Exception ignored in: <function _MultiProcessingDataLoaderIter.__del__ at 0x7f3237e8d3a0>Exception ignored in: <function _MultiProcessingDataLoaderIter.__del__ at 0x7f3237e8d3a0><function _MultiProcessingDataLoaderIter.__del__ at 0x7f3237e8d3a0>Exception ignored in: \n",
      "\n",
      "<function _MultiProcessingDataLoaderIter.__del__ at 0x7f3237e8d3a0>Traceback (most recent call last):\n",
      "  File \"/home/ichuviliaeva/miniconda3/envs/is_project/lib/python3.9/site-packages/torch/utils/data/dataloader.py\", line 1328, in __del__\n",
      "\n",
      "Traceback (most recent call last):\n",
      "Traceback (most recent call last):\n",
      "Exception ignored in:   File \"/home/ichuviliaeva/miniconda3/envs/is_project/lib/python3.9/site-packages/torch/utils/data/dataloader.py\", line 1328, in __del__\n",
      "  File \"/home/ichuviliaeva/miniconda3/envs/is_project/lib/python3.9/site-packages/torch/utils/data/dataloader.py\", line 1328, in __del__\n",
      "\n",
      "        Traceback (most recent call last):\n",
      "      File \"/home/ichuviliaeva/miniconda3/envs/is_project/lib/python3.9/site-packages/torch/utils/data/dataloader.py\", line 1328, in __del__\n",
      "self._shutdown_workers()self._shutdown_workers()\n",
      "    <function _MultiProcessingDataLoaderIter.__del__ at 0x7f3237e8d3a0>self._shutdown_workers()\n",
      "self._shutdown_workers()  File \"/home/ichuviliaeva/miniconda3/envs/is_project/lib/python3.9/site-packages/torch/utils/data/dataloader.py\", line 1320, in _shutdown_workers\n",
      "  File \"/home/ichuviliaeva/miniconda3/envs/is_project/lib/python3.9/site-packages/torch/utils/data/dataloader.py\", line 1320, in _shutdown_workers\n",
      "\n",
      "    Traceback (most recent call last):\n",
      "Exception ignored in: \n",
      "\n",
      "if w.is_alive():<function _MultiProcessingDataLoaderIter.__del__ at 0x7f3237e8d3a0>\n",
      "  File \"/home/ichuviliaeva/miniconda3/envs/is_project/lib/python3.9/site-packages/torch/utils/data/dataloader.py\", line 1328, in __del__\n",
      "      File \"/home/ichuviliaeva/miniconda3/envs/is_project/lib/python3.9/site-packages/torch/utils/data/dataloader.py\", line 1320, in _shutdown_workers\n",
      "Exception ignored in:     if w.is_alive():  File \"/home/ichuviliaeva/miniconda3/envs/is_project/lib/python3.9/site-packages/torch/utils/data/dataloader.py\", line 1320, in _shutdown_workers\n",
      "\n",
      "\n",
      "    if w.is_alive():Traceback (most recent call last):\n",
      "  File \"/home/ichuviliaeva/miniconda3/envs/is_project/lib/python3.9/site-packages/torch/utils/data/dataloader.py\", line 1328, in __del__\n",
      "    if w.is_alive():  File \"/home/ichuviliaeva/miniconda3/envs/is_project/lib/python3.9/multiprocessing/process.py\", line 160, in is_alive\n",
      "\n",
      "        \n",
      "  File \"/home/ichuviliaeva/miniconda3/envs/is_project/lib/python3.9/multiprocessing/process.py\", line 160, in is_alive\n",
      "  File \"/home/ichuviliaeva/miniconda3/envs/is_project/lib/python3.9/multiprocessing/process.py\", line 160, in is_alive\n",
      "Exception ignored in:       File \"/home/ichuviliaeva/miniconda3/envs/is_project/lib/python3.9/multiprocessing/process.py\", line 160, in is_alive\n",
      "    self._shutdown_workers()<function _MultiProcessingDataLoaderIter.__del__ at 0x7f3237e8d3a0>assert self._parent_pid == os.getpid(), 'can only test a child process'assert self._parent_pid == os.getpid(), 'can only test a child process'self._shutdown_workers()<function _MultiProcessingDataLoaderIter.__del__ at 0x7f3237e8d3a0>assert self._parent_pid == os.getpid(), 'can only test a child process'\n",
      "\n",
      "  File \"/home/ichuviliaeva/miniconda3/envs/is_project/lib/python3.9/site-packages/torch/utils/data/dataloader.py\", line 1320, in _shutdown_workers\n",
      "\n",
      "\n",
      "    AssertionError    : \n",
      "if w.is_alive():Traceback (most recent call last):\n",
      "\n",
      "\n",
      "assert self._parent_pid == os.getpid(), 'can only test a child process'  File \"/home/ichuviliaeva/miniconda3/envs/is_project/lib/python3.9/multiprocessing/process.py\", line 160, in is_alive\n",
      "\n",
      "\n",
      "  File \"/home/ichuviliaeva/miniconda3/envs/is_project/lib/python3.9/site-packages/torch/utils/data/dataloader.py\", line 1320, in _shutdown_workers\n",
      "can only test a child process    AssertionErrorAssertionErrorTraceback (most recent call last):\n",
      "AssertionError  File \"/home/ichuviliaeva/miniconda3/envs/is_project/lib/python3.9/site-packages/torch/utils/data/dataloader.py\", line 1328, in __del__\n",
      "  File \"/home/ichuviliaeva/miniconda3/envs/is_project/lib/python3.9/site-packages/torch/utils/data/dataloader.py\", line 1328, in __del__\n",
      "    self._shutdown_workers()\n",
      "\n",
      "  File \"/home/ichuviliaeva/miniconda3/envs/is_project/lib/python3.9/site-packages/torch/utils/data/dataloader.py\", line 1320, in _shutdown_workers\n",
      ":         : assert self._parent_pid == os.getpid(), 'can only test a child process': if w.is_alive():    if w.is_alive():\n",
      "self._shutdown_workers()\n",
      "can only test a child processcan only test a child process  File \"/home/ichuviliaeva/miniconda3/envs/is_project/lib/python3.9/multiprocessing/process.py\", line 160, in is_alive\n",
      "\n",
      "\n",
      "\n",
      "can only test a child processAssertionError  File \"/home/ichuviliaeva/miniconda3/envs/is_project/lib/python3.9/multiprocessing/process.py\", line 160, in is_alive\n",
      "\n",
      ":     can only test a child processassert self._parent_pid == os.getpid(), 'can only test a child process'\n",
      "  File \"/home/ichuviliaeva/miniconda3/envs/is_project/lib/python3.9/site-packages/torch/utils/data/dataloader.py\", line 1320, in _shutdown_workers\n",
      "    \n",
      "\n",
      "AssertionErrorassert self._parent_pid == os.getpid(), 'can only test a child process'    : \n",
      "can only test a child processif w.is_alive():\n",
      "AssertionError\n",
      ":   File \"/home/ichuviliaeva/miniconda3/envs/is_project/lib/python3.9/multiprocessing/process.py\", line 160, in is_alive\n",
      "can only test a child process\n",
      "    assert self._parent_pid == os.getpid(), 'can only test a child process'\n",
      "AssertionError: Exception ignored in: <function _MultiProcessingDataLoaderIter.__del__ at 0x7f3237e8d3a0>\n",
      "can only test a child processTraceback (most recent call last):\n",
      "\n",
      "  File \"/home/ichuviliaeva/miniconda3/envs/is_project/lib/python3.9/site-packages/torch/utils/data/dataloader.py\", line 1328, in __del__\n",
      "    self._shutdown_workers()Exception ignored in: \n",
      "Exception ignored in: <function _MultiProcessingDataLoaderIter.__del__ at 0x7f3237e8d3a0>  File \"/home/ichuviliaeva/miniconda3/envs/is_project/lib/python3.9/site-packages/torch/utils/data/dataloader.py\", line 1320, in _shutdown_workers\n",
      "\n",
      "    <function _MultiProcessingDataLoaderIter.__del__ at 0x7f3237e8d3a0>Exception ignored in: Exception ignored in: <function _MultiProcessingDataLoaderIter.__del__ at 0x7f3237e8d3a0>Traceback (most recent call last):\n",
      "if w.is_alive():Exception ignored in: <function _MultiProcessingDataLoaderIter.__del__ at 0x7f3237e8d3a0>  File \"/home/ichuviliaeva/miniconda3/envs/is_project/lib/python3.9/site-packages/torch/utils/data/dataloader.py\", line 1328, in __del__\n",
      "Exception ignored in: <function _MultiProcessingDataLoaderIter.__del__ at 0x7f3237e8d3a0>    \n",
      "\n",
      "\n",
      "<function _MultiProcessingDataLoaderIter.__del__ at 0x7f3237e8d3a0>Exception ignored in: <function _MultiProcessingDataLoaderIter.__del__ at 0x7f3237e8d3a0>Traceback (most recent call last):\n",
      "\n",
      "\n",
      "Traceback (most recent call last):\n",
      "\n",
      "Traceback (most recent call last):\n",
      "\n",
      "  File \"/home/ichuviliaeva/miniconda3/envs/is_project/lib/python3.9/site-packages/torch/utils/data/dataloader.py\", line 1328, in __del__\n",
      "Exception ignored in:   File \"/home/ichuviliaeva/miniconda3/envs/is_project/lib/python3.9/site-packages/torch/utils/data/dataloader.py\", line 1328, in __del__\n",
      "Traceback (most recent call last):\n",
      "self._shutdown_workers()      File \"/home/ichuviliaeva/miniconda3/envs/is_project/lib/python3.9/site-packages/torch/utils/data/dataloader.py\", line 1328, in __del__\n",
      "  File \"/home/ichuviliaeva/miniconda3/envs/is_project/lib/python3.9/site-packages/torch/utils/data/dataloader.py\", line 1328, in __del__\n"
     ]
    },
    {
     "name": "stderr",
     "output_type": "stream",
     "text": [
      "Traceback (most recent call last):\n",
      "        self._shutdown_workers()self._shutdown_workers()<function _MultiProcessingDataLoaderIter.__del__ at 0x7f3237e8d3a0>Exception ignored in: \n",
      "\n",
      "Exception ignored in: \n",
      "Traceback (most recent call last):\n",
      "self._shutdown_workers()  File \"/home/ichuviliaeva/miniconda3/envs/is_project/lib/python3.9/site-packages/torch/utils/data/dataloader.py\", line 1328, in __del__\n",
      "  File \"/home/ichuviliaeva/miniconda3/envs/is_project/lib/python3.9/site-packages/torch/utils/data/dataloader.py\", line 1320, in _shutdown_workers\n",
      "\n",
      "<function _MultiProcessingDataLoaderIter.__del__ at 0x7f3237e8d3a0><function _MultiProcessingDataLoaderIter.__del__ at 0x7f3237e8d3a0>  File \"/home/ichuviliaeva/miniconda3/envs/is_project/lib/python3.9/site-packages/torch/utils/data/dataloader.py\", line 1320, in _shutdown_workers\n",
      "  File \"/home/ichuviliaeva/miniconda3/envs/is_project/lib/python3.9/site-packages/torch/utils/data/dataloader.py\", line 1328, in __del__\n",
      "      File \"/home/ichuviliaeva/miniconda3/envs/is_project/lib/python3.9/site-packages/torch/utils/data/dataloader.py\", line 1320, in _shutdown_workers\n",
      "      File \"/home/ichuviliaeva/miniconda3/envs/is_project/lib/python3.9/multiprocessing/process.py\", line 160, in is_alive\n",
      "\n",
      "self._shutdown_workers()\n",
      "Traceback (most recent call last):\n",
      "    \n",
      "Traceback (most recent call last):\n",
      "Traceback (most recent call last):\n",
      "Exception ignored in:   File \"/home/ichuviliaeva/miniconda3/envs/is_project/lib/python3.9/site-packages/torch/utils/data/dataloader.py\", line 1328, in __del__\n",
      "  File \"/home/ichuviliaeva/miniconda3/envs/is_project/lib/python3.9/site-packages/torch/utils/data/dataloader.py\", line 1328, in __del__\n",
      "  File \"/home/ichuviliaeva/miniconda3/envs/is_project/lib/python3.9/site-packages/torch/utils/data/dataloader.py\", line 1320, in _shutdown_workers\n",
      "if w.is_alive():                  File \"/home/ichuviliaeva/miniconda3/envs/is_project/lib/python3.9/site-packages/torch/utils/data/dataloader.py\", line 1328, in __del__\n",
      "self._shutdown_workers()\n",
      "        <function _MultiProcessingDataLoaderIter.__del__ at 0x7f3237e8d3a0>    self._shutdown_workers()assert self._parent_pid == os.getpid(), 'can only test a child process'  File \"/home/ichuviliaeva/miniconda3/envs/is_project/lib/python3.9/multiprocessing/process.py\", line 160, in is_alive\n",
      "\n",
      "    if w.is_alive():if w.is_alive():\n",
      "      File \"/home/ichuviliaeva/miniconda3/envs/is_project/lib/python3.9/site-packages/torch/utils/data/dataloader.py\", line 1320, in _shutdown_workers\n",
      "self._shutdown_workers()  File \"/home/ichuviliaeva/miniconda3/envs/is_project/lib/python3.9/site-packages/torch/utils/data/dataloader.py\", line 1320, in _shutdown_workers\n",
      "    self._shutdown_workers()if w.is_alive():assert self._parent_pid == os.getpid(), 'can only test a child process'\n",
      "\n",
      "\n",
      "    self._shutdown_workers()\n",
      "\n",
      "\n",
      "\n",
      "Traceback (most recent call last):\n",
      "\n",
      "  File \"/home/ichuviliaeva/miniconda3/envs/is_project/lib/python3.9/multiprocessing/process.py\", line 160, in is_alive\n",
      "\n",
      "  File \"/home/ichuviliaeva/miniconda3/envs/is_project/lib/python3.9/site-packages/torch/utils/data/dataloader.py\", line 1320, in _shutdown_workers\n",
      "  File \"/home/ichuviliaeva/miniconda3/envs/is_project/lib/python3.9/site-packages/torch/utils/data/dataloader.py\", line 1328, in __del__\n",
      "if w.is_alive():    \n",
      "  File \"/home/ichuviliaeva/miniconda3/envs/is_project/lib/python3.9/site-packages/torch/utils/data/dataloader.py\", line 1320, in _shutdown_workers\n",
      "  File \"/home/ichuviliaeva/miniconda3/envs/is_project/lib/python3.9/site-packages/torch/utils/data/dataloader.py\", line 1320, in _shutdown_workers\n",
      "  File \"/home/ichuviliaeva/miniconda3/envs/is_project/lib/python3.9/multiprocessing/process.py\", line 160, in is_alive\n",
      "assert self._parent_pid == os.getpid(), 'can only test a child process'    AssertionError      File \"/home/ichuviliaeva/miniconda3/envs/is_project/lib/python3.9/multiprocessing/process.py\", line 160, in is_alive\n",
      "self._shutdown_workers(): \n",
      "    AssertionErrorif w.is_alive():\n",
      "    if w.is_alive():\n",
      "      File \"/home/ichuviliaeva/miniconda3/envs/is_project/lib/python3.9/multiprocessing/process.py\", line 160, in is_alive\n",
      "    assert self._parent_pid == os.getpid(), 'can only test a child process'\n",
      "    if w.is_alive():  File \"/home/ichuviliaeva/miniconda3/envs/is_project/lib/python3.9/site-packages/torch/utils/data/dataloader.py\", line 1320, in _shutdown_workers\n",
      "  File \"/home/ichuviliaeva/miniconda3/envs/is_project/lib/python3.9/multiprocessing/process.py\", line 160, in is_alive\n",
      ": assert self._parent_pid == os.getpid(), 'can only test a child process'can only test a child process\n",
      "if w.is_alive():\n",
      "      File \"/home/ichuviliaeva/miniconda3/envs/is_project/lib/python3.9/site-packages/torch/utils/data/dataloader.py\", line 1320, in _shutdown_workers\n",
      "    Exception ignored in: can only test a child processassert self._parent_pid == os.getpid(), 'can only test a child process'if w.is_alive():\n",
      "\n",
      "    AssertionErrorAssertionErrorAssertionError\n",
      "\n",
      ": <function _MultiProcessingDataLoaderIter.__del__ at 0x7f3237e8d3a0>\n",
      "  File \"/home/ichuviliaeva/miniconda3/envs/is_project/lib/python3.9/multiprocessing/process.py\", line 160, in is_alive\n",
      "if w.is_alive():: : \n",
      "\n",
      "  File \"/home/ichuviliaeva/miniconda3/envs/is_project/lib/python3.9/multiprocessing/process.py\", line 160, in is_alive\n",
      "\n",
      "assert self._parent_pid == os.getpid(), 'can only test a child process'can only test a child process  File \"/home/ichuviliaeva/miniconda3/envs/is_project/lib/python3.9/multiprocessing/process.py\", line 160, in is_alive\n",
      "    can only test a child process\n",
      "\n",
      "\n",
      "    AssertionErrorassert self._parent_pid == os.getpid(), 'can only test a child process'    \n",
      "  File \"/home/ichuviliaeva/miniconda3/envs/is_project/lib/python3.9/multiprocessing/process.py\", line 160, in is_alive\n",
      "can only test a child processassert self._parent_pid == os.getpid(), 'can only test a child process'    AssertionErrorException ignored in:   File \"/home/ichuviliaeva/miniconda3/envs/is_project/lib/python3.9/multiprocessing/process.py\", line 160, in is_alive\n",
      "\n",
      "assert self._parent_pid == os.getpid(), 'can only test a child process'    : assert self._parent_pid == os.getpid(), 'can only test a child process'\n",
      "AssertionError\n",
      "\n",
      "AssertionErrorAssertionError: can only test a child processassert self._parent_pid == os.getpid(), 'can only test a child process'can only test a child process: \n",
      "Traceback (most recent call last):\n",
      ": AssertionError\n",
      "<function _MultiProcessingDataLoaderIter.__del__ at 0x7f3237e8d3a0>\n",
      "  File \"/home/ichuviliaeva/miniconda3/envs/is_project/lib/python3.9/site-packages/torch/utils/data/dataloader.py\", line 1328, in __del__\n",
      "\n",
      "can only test a child processcan only test a child process: : \n",
      "can only test a child process    \n",
      "Exception ignored in: can only test a child processAssertionErrorException ignored in: \n",
      "self._shutdown_workers()Traceback (most recent call last):\n",
      "\n",
      "<function _MultiProcessingDataLoaderIter.__del__ at 0x7f3237e8d3a0>\n",
      "<function _MultiProcessingDataLoaderIter.__del__ at 0x7f3237e8d3a0>:   File \"/home/ichuviliaeva/miniconda3/envs/is_project/lib/python3.9/site-packages/torch/utils/data/dataloader.py\", line 1328, in __del__\n",
      "Exception ignored in: \n",
      "\n",
      "can only test a child process\n",
      "<function _MultiProcessingDataLoaderIter.__del__ at 0x7f3237e8d3a0>Traceback (most recent call last):\n",
      "      File \"/home/ichuviliaeva/miniconda3/envs/is_project/lib/python3.9/site-packages/torch/utils/data/dataloader.py\", line 1328, in __del__\n",
      "Traceback (most recent call last):\n",
      "\n",
      "  File \"/home/ichuviliaeva/miniconda3/envs/is_project/lib/python3.9/site-packages/torch/utils/data/dataloader.py\", line 1320, in _shutdown_workers\n",
      "\n",
      "self._shutdown_workers()Traceback (most recent call last):\n",
      "  File \"/home/ichuviliaeva/miniconda3/envs/is_project/lib/python3.9/site-packages/torch/utils/data/dataloader.py\", line 1328, in __del__\n",
      "        \n",
      "Exception ignored in:   File \"/home/ichuviliaeva/miniconda3/envs/is_project/lib/python3.9/site-packages/torch/utils/data/dataloader.py\", line 1328, in __del__\n",
      "    self._shutdown_workers()Exception ignored in: if w.is_alive():  File \"/home/ichuviliaeva/miniconda3/envs/is_project/lib/python3.9/site-packages/torch/utils/data/dataloader.py\", line 1320, in _shutdown_workers\n",
      "self._shutdown_workers()<function _MultiProcessingDataLoaderIter.__del__ at 0x7f3237e8d3a0>\n",
      "\n",
      "Exception ignored in:     <function _MultiProcessingDataLoaderIter.__del__ at 0x7f3237e8d3a0>\n",
      "\n",
      "      File \"/home/ichuviliaeva/miniconda3/envs/is_project/lib/python3.9/site-packages/torch/utils/data/dataloader.py\", line 1320, in _shutdown_workers\n",
      "\n",
      "  File \"/home/ichuviliaeva/miniconda3/envs/is_project/lib/python3.9/multiprocessing/process.py\", line 160, in is_alive\n",
      "if w.is_alive():Traceback (most recent call last):\n",
      "self._shutdown_workers()<function _MultiProcessingDataLoaderIter.__del__ at 0x7f3237e8d3a0>  File \"/home/ichuviliaeva/miniconda3/envs/is_project/lib/python3.9/site-packages/torch/utils/data/dataloader.py\", line 1320, in _shutdown_workers\n",
      "Traceback (most recent call last):\n",
      "Exception ignored in: \n",
      "      File \"/home/ichuviliaeva/miniconda3/envs/is_project/lib/python3.9/site-packages/torch/utils/data/dataloader.py\", line 1328, in __del__\n",
      "\n",
      "<function _MultiProcessingDataLoaderIter.__del__ at 0x7f3237e8d3a0>  File \"/home/ichuviliaeva/miniconda3/envs/is_project/lib/python3.9/site-packages/torch/utils/data/dataloader.py\", line 1328, in __del__\n",
      "assert self._parent_pid == os.getpid(), 'can only test a child process'\n",
      "    \n",
      "self._shutdown_workers()    AssertionErrorTraceback (most recent call last):\n",
      "  File \"/home/ichuviliaeva/miniconda3/envs/is_project/lib/python3.9/multiprocessing/process.py\", line 160, in is_alive\n",
      "  File \"/home/ichuviliaeva/miniconda3/envs/is_project/lib/python3.9/site-packages/torch/utils/data/dataloader.py\", line 1320, in _shutdown_workers\n",
      "        \n",
      ": \n",
      "  File \"/home/ichuviliaeva/miniconda3/envs/is_project/lib/python3.9/site-packages/torch/utils/data/dataloader.py\", line 1320, in _shutdown_workers\n",
      "self._shutdown_workers()  File \"/home/ichuviliaeva/miniconda3/envs/is_project/lib/python3.9/site-packages/torch/utils/data/dataloader.py\", line 1328, in __del__\n",
      "if w.is_alive():        \n",
      "if w.is_alive():          File \"/home/ichuviliaeva/miniconda3/envs/is_project/lib/python3.9/multiprocessing/process.py\", line 160, in is_alive\n",
      "\n",
      "if w.is_alive():self._shutdown_workers()Traceback (most recent call last):\n",
      "assert self._parent_pid == os.getpid(), 'can only test a child process'if w.is_alive():\n",
      "can only test a child process\n",
      "\n",
      "  File \"/home/ichuviliaeva/miniconda3/envs/is_project/lib/python3.9/site-packages/torch/utils/data/dataloader.py\", line 1320, in _shutdown_workers\n",
      "\n",
      "\n",
      "\n",
      "  File \"/home/ichuviliaeva/miniconda3/envs/is_project/lib/python3.9/site-packages/torch/utils/data/dataloader.py\", line 1320, in _shutdown_workers\n",
      "      File \"/home/ichuviliaeva/miniconda3/envs/is_project/lib/python3.9/multiprocessing/process.py\", line 160, in is_alive\n",
      "  File \"/home/ichuviliaeva/miniconda3/envs/is_project/lib/python3.9/multiprocessing/process.py\", line 160, in is_alive\n",
      "  File \"/home/ichuviliaeva/miniconda3/envs/is_project/lib/python3.9/multiprocessing/process.py\", line 160, in is_alive\n",
      "  File \"/home/ichuviliaeva/miniconda3/envs/is_project/lib/python3.9/site-packages/torch/utils/data/dataloader.py\", line 1328, in __del__\n",
      "AssertionError                    if w.is_alive():: assert self._parent_pid == os.getpid(), 'can only test a child process'if w.is_alive():\n",
      "AssertionError: can only test a child process\n",
      "\n",
      "assert self._parent_pid == os.getpid(), 'can only test a child process'\n",
      "assert self._parent_pid == os.getpid(), 'can only test a child process'    \n",
      "  File \"/home/ichuviliaeva/miniconda3/envs/is_project/lib/python3.9/multiprocessing/process.py\", line 160, in is_alive\n",
      "can only test a child process  File \"/home/ichuviliaeva/miniconda3/envs/is_project/lib/python3.9/multiprocessing/process.py\", line 160, in is_alive\n",
      "\n",
      "assert self._parent_pid == os.getpid(), 'can only test a child process'self._shutdown_workers()AssertionError\n",
      "        Exception ignored in: AssertionError\n",
      ": \n",
      "assert self._parent_pid == os.getpid(), 'can only test a child process': <function _MultiProcessingDataLoaderIter.__del__ at 0x7f3237e8d3a0>can only test a child process  File \"/home/ichuviliaeva/miniconda3/envs/is_project/lib/python3.9/site-packages/torch/utils/data/dataloader.py\", line 1320, in _shutdown_workers\n",
      "AssertionErrorcan only test a child process\n",
      "\n",
      "assert self._parent_pid == os.getpid(), 'can only test a child process'\n",
      ":     \n",
      "AssertionErrorTraceback (most recent call last):\n",
      "can only test a child processif w.is_alive()::   File \"/home/ichuviliaeva/miniconda3/envs/is_project/lib/python3.9/site-packages/torch/utils/data/dataloader.py\", line 1328, in __del__\n",
      "\n",
      "\n",
      "can only test a child process\n",
      "AssertionError\n",
      "  File \"/home/ichuviliaeva/miniconda3/envs/is_project/lib/python3.9/multiprocessing/process.py\", line 160, in is_alive\n",
      "    :     can only test a child processself._shutdown_workers()\n",
      "assert self._parent_pid == os.getpid(), 'can only test a child process'\n",
      "\n",
      "  File \"/home/ichuviliaeva/miniconda3/envs/is_project/lib/python3.9/site-packages/torch/utils/data/dataloader.py\", line 1320, in _shutdown_workers\n",
      "AssertionError    if w.is_alive():Exception ignored in: : <function _MultiProcessingDataLoaderIter.__del__ at 0x7f3237e8d3a0>Exception ignored in: can only test a child process\n",
      "<function _MultiProcessingDataLoaderIter.__del__ at 0x7f3237e8d3a0>\n",
      "Traceback (most recent call last):\n",
      "  File \"/home/ichuviliaeva/miniconda3/envs/is_project/lib/python3.9/multiprocessing/process.py\", line 160, in is_alive\n",
      "  File \"/home/ichuviliaeva/miniconda3/envs/is_project/lib/python3.9/site-packages/torch/utils/data/dataloader.py\", line 1328, in __del__\n",
      "Exception ignored in: \n",
      "\n",
      "    Exception ignored in: <function _MultiProcessingDataLoaderIter.__del__ at 0x7f3237e8d3a0><function _MultiProcessingDataLoaderIter.__del__ at 0x7f3237e8d3a0>assert self._parent_pid == os.getpid(), 'can only test a child process'    Traceback (most recent call last):\n",
      "Traceback (most recent call last):\n",
      "\n",
      "\n",
      "self._shutdown_workers()Exception ignored in: <function _MultiProcessingDataLoaderIter.__del__ at 0x7f3237e8d3a0>  File \"/home/ichuviliaeva/miniconda3/envs/is_project/lib/python3.9/site-packages/torch/utils/data/dataloader.py\", line 1328, in __del__\n",
      "\n",
      "    \n",
      "self._shutdown_workers()  File \"/home/ichuviliaeva/miniconda3/envs/is_project/lib/python3.9/site-packages/torch/utils/data/dataloader.py\", line 1328, in __del__\n",
      "Traceback (most recent call last):\n",
      "\n",
      "      File \"/home/ichuviliaeva/miniconda3/envs/is_project/lib/python3.9/site-packages/torch/utils/data/dataloader.py\", line 1320, in _shutdown_workers\n",
      "  File \"/home/ichuviliaeva/miniconda3/envs/is_project/lib/python3.9/site-packages/torch/utils/data/dataloader.py\", line 1328, in __del__\n",
      "AssertionErrorTraceback (most recent call last):\n",
      "\n",
      "  File \"/home/ichuviliaeva/miniconda3/envs/is_project/lib/python3.9/site-packages/torch/utils/data/dataloader.py\", line 1320, in _shutdown_workers\n",
      "  File \"/home/ichuviliaeva/miniconda3/envs/is_project/lib/python3.9/site-packages/torch/utils/data/dataloader.py\", line 1328, in __del__\n",
      "self._shutdown_workers():     \n",
      "        self._shutdown_workers()    self._shutdown_workers()can only test a child processif w.is_alive():\n",
      "\n",
      "\n",
      "  File \"/home/ichuviliaeva/miniconda3/envs/is_project/lib/python3.9/site-packages/torch/utils/data/dataloader.py\", line 1320, in _shutdown_workers\n",
      "  File \"/home/ichuviliaeva/miniconda3/envs/is_project/lib/python3.9/site-packages/torch/utils/data/dataloader.py\", line 1320, in _shutdown_workers\n",
      "      File \"/home/ichuviliaeva/miniconda3/envs/is_project/lib/python3.9/multiprocessing/process.py\", line 160, in is_alive\n",
      "    if w.is_alive():Exception ignored in: \n",
      "if w.is_alive():if w.is_alive():    \n",
      "  File \"/home/ichuviliaeva/miniconda3/envs/is_project/lib/python3.9/site-packages/torch/utils/data/dataloader.py\", line 1320, in _shutdown_workers\n",
      "  File \"/home/ichuviliaeva/miniconda3/envs/is_project/lib/python3.9/multiprocessing/process.py\", line 160, in is_alive\n",
      "\n",
      "  File \"/home/ichuviliaeva/miniconda3/envs/is_project/lib/python3.9/multiprocessing/process.py\", line 160, in is_alive\n",
      "\n",
      "assert self._parent_pid == os.getpid(), 'can only test a child process'  File \"/home/ichuviliaeva/miniconda3/envs/is_project/lib/python3.9/multiprocessing/process.py\", line 160, in is_alive\n",
      "    \n",
      "    <function _MultiProcessingDataLoaderIter.__del__ at 0x7f3237e8d3a0>if w.is_alive():    \n",
      "\n"
     ]
    },
    {
     "name": "stderr",
     "output_type": "stream",
     "text": [
      "assert self._parent_pid == os.getpid(), 'can only test a child process'    AssertionErrorException ignored in:   File \"/home/ichuviliaeva/miniconda3/envs/is_project/lib/python3.9/multiprocessing/process.py\", line 160, in is_alive\n",
      "Traceback (most recent call last):\n",
      "assert self._parent_pid == os.getpid(), 'can only test a child process'  File \"/home/ichuviliaeva/miniconda3/envs/is_project/lib/python3.9/site-packages/torch/utils/data/dataloader.py\", line 1328, in __del__\n",
      "\n",
      "    <function _MultiProcessingDataLoaderIter.__del__ at 0x7f3237e8d3a0>self._shutdown_workers(): \n",
      "\n",
      "Traceback (most recent call last):\n",
      "AssertionErrorcan only test a child process      File \"/home/ichuviliaeva/miniconda3/envs/is_project/lib/python3.9/site-packages/torch/utils/data/dataloader.py\", line 1328, in __del__\n",
      ": assert self._parent_pid == os.getpid(), 'can only test a child process'\n",
      "can only test a child process\n",
      "Exception ignored in: assert self._parent_pid == os.getpid(), 'can only test a child process'\n",
      "AssertionError  File \"/home/ichuviliaeva/miniconda3/envs/is_project/lib/python3.9/site-packages/torch/utils/data/dataloader.py\", line 1320, in _shutdown_workers\n",
      "AssertionError    \n",
      "self._shutdown_workers()    \n",
      "<function _MultiProcessingDataLoaderIter.__del__ at 0x7f3237e8d3a0>\n",
      "if w.is_alive():\n",
      ": Traceback (most recent call last):\n",
      "\n",
      "  File \"/home/ichuviliaeva/miniconda3/envs/is_project/lib/python3.9/site-packages/torch/utils/data/dataloader.py\", line 1328, in __del__\n",
      "can only test a child process  File \"/home/ichuviliaeva/miniconda3/envs/is_project/lib/python3.9/site-packages/torch/utils/data/dataloader.py\", line 1320, in _shutdown_workers\n",
      "Exception ignored in: AssertionError  File \"/home/ichuviliaeva/miniconda3/envs/is_project/lib/python3.9/multiprocessing/process.py\", line 160, in is_alive\n",
      "    \n",
      ":     <function _MultiProcessingDataLoaderIter.__del__ at 0x7f3237e8d3a0>assert self._parent_pid == os.getpid(), 'can only test a child process'\n",
      "can only test a child process: can only test a child process\n",
      "\n",
      "Exception ignored in:     \n",
      "self._shutdown_workers()Exception ignored in: <function _MultiProcessingDataLoaderIter.__del__ at 0x7f3237e8d3a0>AssertionError: if w.is_alive():<function _MultiProcessingDataLoaderIter.__del__ at 0x7f3237e8d3a0>\n",
      "can only test a child processTraceback (most recent call last):\n",
      "Exception ignored in: \n",
      "  File \"/home/ichuviliaeva/miniconda3/envs/is_project/lib/python3.9/site-packages/torch/utils/data/dataloader.py\", line 1320, in _shutdown_workers\n",
      "<function _MultiProcessingDataLoaderIter.__del__ at 0x7f3237e8d3a0>  File \"/home/ichuviliaeva/miniconda3/envs/is_project/lib/python3.9/site-packages/torch/utils/data/dataloader.py\", line 1328, in __del__\n",
      "\n",
      "\n",
      "    \n",
      "Exception ignored in:     Traceback (most recent call last):\n",
      "<function _MultiProcessingDataLoaderIter.__del__ at 0x7f3237e8d3a0>Traceback (most recent call last):\n",
      "\n",
      "  File \"/home/ichuviliaeva/miniconda3/envs/is_project/lib/python3.9/multiprocessing/process.py\", line 160, in is_alive\n",
      "  File \"/home/ichuviliaeva/miniconda3/envs/is_project/lib/python3.9/site-packages/torch/utils/data/dataloader.py\", line 1328, in __del__\n",
      "self._shutdown_workers()\n",
      "\n",
      "Traceback (most recent call last):\n",
      "  File \"/home/ichuviliaeva/miniconda3/envs/is_project/lib/python3.9/site-packages/torch/utils/data/dataloader.py\", line 1328, in __del__\n",
      "        if w.is_alive():self._shutdown_workers()  File \"/home/ichuviliaeva/miniconda3/envs/is_project/lib/python3.9/site-packages/torch/utils/data/dataloader.py\", line 1320, in _shutdown_workers\n",
      "\n",
      "  File \"/home/ichuviliaeva/miniconda3/envs/is_project/lib/python3.9/site-packages/torch/utils/data/dataloader.py\", line 1328, in __del__\n",
      "            Traceback (most recent call last):\n",
      "self._shutdown_workers()\n",
      "\n",
      "  File \"/home/ichuviliaeva/miniconda3/envs/is_project/lib/python3.9/site-packages/torch/utils/data/dataloader.py\", line 1320, in _shutdown_workers\n",
      "  File \"/home/ichuviliaeva/miniconda3/envs/is_project/lib/python3.9/site-packages/torch/utils/data/dataloader.py\", line 1320, in _shutdown_workers\n",
      "assert self._parent_pid == os.getpid(), 'can only test a child process'\n",
      "    self._shutdown_workers()  File \"/home/ichuviliaeva/miniconda3/envs/is_project/lib/python3.9/site-packages/torch/utils/data/dataloader.py\", line 1328, in __del__\n",
      "      File \"/home/ichuviliaeva/miniconda3/envs/is_project/lib/python3.9/multiprocessing/process.py\", line 160, in is_alive\n",
      "\n",
      "        AssertionErrorself._shutdown_workers()if w.is_alive():\n",
      "if w.is_alive():\n",
      ": \n",
      "  File \"/home/ichuviliaeva/miniconda3/envs/is_project/lib/python3.9/site-packages/torch/utils/data/dataloader.py\", line 1320, in _shutdown_workers\n",
      "  File \"/home/ichuviliaeva/miniconda3/envs/is_project/lib/python3.9/multiprocessing/process.py\", line 160, in is_alive\n",
      "can only test a child process          File \"/home/ichuviliaeva/miniconda3/envs/is_project/lib/python3.9/multiprocessing/process.py\", line 160, in is_alive\n",
      "if w.is_alive():\n",
      "    assert self._parent_pid == os.getpid(), 'can only test a child process'\n",
      "assert self._parent_pid == os.getpid(), 'can only test a child process'\n",
      "  File \"/home/ichuviliaeva/miniconda3/envs/is_project/lib/python3.9/multiprocessing/process.py\", line 160, in is_alive\n",
      "\n",
      "AssertionErrorassert self._parent_pid == os.getpid(), 'can only test a child process': AssertionError      File \"/home/ichuviliaeva/miniconda3/envs/is_project/lib/python3.9/site-packages/torch/utils/data/dataloader.py\", line 1320, in _shutdown_workers\n",
      "can only test a child processassert self._parent_pid == os.getpid(), 'can only test a child process'    if w.is_alive():\n",
      "\n",
      "if w.is_alive():      File \"/home/ichuviliaeva/miniconda3/envs/is_project/lib/python3.9/multiprocessing/process.py\", line 160, in is_alive\n",
      "\n",
      ": AssertionErrorcan only test a child process\n",
      "\n",
      "  File \"/home/ichuviliaeva/miniconda3/envs/is_project/lib/python3.9/multiprocessing/process.py\", line 160, in is_alive\n",
      "\n",
      ": assert self._parent_pid == os.getpid(), 'can only test a child process'\n",
      "AssertionError    can only test a child processAssertionError: Exception ignored in: <function _MultiProcessingDataLoaderIter.__del__ at 0x7f3237e8d3a0>\n",
      ": assert self._parent_pid == os.getpid(), 'can only test a child process'Exception ignored in: can only test a child processcan only test a child process<function _MultiProcessingDataLoaderIter.__del__ at 0x7f3237e8d3a0>\n",
      "\n",
      "\n",
      "Traceback (most recent call last):\n",
      "\n",
      "\n",
      "  File \"/home/ichuviliaeva/miniconda3/envs/is_project/lib/python3.9/site-packages/torch/utils/data/dataloader.py\", line 1328, in __del__\n",
      "Traceback (most recent call last):\n",
      "    AssertionErrorself._shutdown_workers(): \n",
      "  File \"/home/ichuviliaeva/miniconda3/envs/is_project/lib/python3.9/site-packages/torch/utils/data/dataloader.py\", line 1320, in _shutdown_workers\n",
      "can only test a child process  File \"/home/ichuviliaeva/miniconda3/envs/is_project/lib/python3.9/site-packages/torch/utils/data/dataloader.py\", line 1328, in __del__\n",
      "\n",
      "Exception ignored in:         <function _MultiProcessingDataLoaderIter.__del__ at 0x7f3237e8d3a0>if w.is_alive():\n",
      "  File \"/home/ichuviliaeva/miniconda3/envs/is_project/lib/python3.9/multiprocessing/process.py\", line 160, in is_alive\n",
      "self._shutdown_workers()\n",
      "    \n",
      "assert self._parent_pid == os.getpid(), 'can only test a child process'\n",
      "AssertionErrorTraceback (most recent call last):\n",
      "  File \"/home/ichuviliaeva/miniconda3/envs/is_project/lib/python3.9/site-packages/torch/utils/data/dataloader.py\", line 1320, in _shutdown_workers\n",
      "    : if w.is_alive():  File \"/home/ichuviliaeva/miniconda3/envs/is_project/lib/python3.9/site-packages/torch/utils/data/dataloader.py\", line 1328, in __del__\n",
      "can only test a child process\n",
      "\n",
      "  File \"/home/ichuviliaeva/miniconda3/envs/is_project/lib/python3.9/multiprocessing/process.py\", line 160, in is_alive\n",
      "        assert self._parent_pid == os.getpid(), 'can only test a child process'self._shutdown_workers()\n",
      "AssertionError: Exception ignored in: <function _MultiProcessingDataLoaderIter.__del__ at 0x7f3237e8d3a0>can only test a child process\n",
      "\n",
      "Traceback (most recent call last):\n",
      "\n",
      "  File \"/home/ichuviliaeva/miniconda3/envs/is_project/lib/python3.9/site-packages/torch/utils/data/dataloader.py\", line 1320, in _shutdown_workers\n",
      "  File \"/home/ichuviliaeva/miniconda3/envs/is_project/lib/python3.9/site-packages/torch/utils/data/dataloader.py\", line 1328, in __del__\n"
     ]
    },
    {
     "name": "stderr",
     "output_type": "stream",
     "text": [
      "        self._shutdown_workers()if w.is_alive():\n",
      "  File \"/home/ichuviliaeva/miniconda3/envs/is_project/lib/python3.9/site-packages/torch/utils/data/dataloader.py\", line 1320, in _shutdown_workers\n",
      "\n",
      "      File \"/home/ichuviliaeva/miniconda3/envs/is_project/lib/python3.9/multiprocessing/process.py\", line 160, in is_alive\n",
      "if w.is_alive():    \n",
      "assert self._parent_pid == os.getpid(), 'can only test a child process'  File \"/home/ichuviliaeva/miniconda3/envs/is_project/lib/python3.9/multiprocessing/process.py\", line 160, in is_alive\n",
      "\n",
      "    AssertionErrorassert self._parent_pid == os.getpid(), 'can only test a child process': \n",
      "can only test a child processAssertionError: \n",
      "can only test a child process\n",
      "Exception ignored in: <function _MultiProcessingDataLoaderIter.__del__ at 0x7f3237e8d3a0>\n",
      "Traceback (most recent call last):\n",
      "  File \"/home/ichuviliaeva/miniconda3/envs/is_project/lib/python3.9/site-packages/torch/utils/data/dataloader.py\", line 1328, in __del__\n",
      "    self._shutdown_workers()\n",
      "  File \"/home/ichuviliaeva/miniconda3/envs/is_project/lib/python3.9/site-packages/torch/utils/data/dataloader.py\", line 1320, in _shutdown_workers\n",
      "    if w.is_alive():\n",
      "  File \"/home/ichuviliaeva/miniconda3/envs/is_project/lib/python3.9/multiprocessing/process.py\", line 160, in is_alive\n",
      "    assert self._parent_pid == os.getpid(), 'can only test a child process'\n",
      "AssertionError: can only test a child process\n",
      "Exception ignored in: <function _MultiProcessingDataLoaderIter.__del__ at 0x7f3237e8d3a0>\n",
      "Traceback (most recent call last):\n",
      "  File \"/home/ichuviliaeva/miniconda3/envs/is_project/lib/python3.9/site-packages/torch/utils/data/dataloader.py\", line 1328, in __del__\n",
      "    self._shutdown_workers()\n",
      "  File \"/home/ichuviliaeva/miniconda3/envs/is_project/lib/python3.9/site-packages/torch/utils/data/dataloader.py\", line 1320, in _shutdown_workers\n",
      "    if w.is_alive():\n",
      "  File \"/home/ichuviliaeva/miniconda3/envs/is_project/lib/python3.9/multiprocessing/process.py\", line 160, in is_alive\n",
      "    assert self._parent_pid == os.getpid(), 'can only test a child process'\n",
      "AssertionError: can only test a child process\n",
      "Exception ignored in: <function _MultiProcessingDataLoaderIter.__del__ at 0x7f3237e8d3a0>\n",
      "Traceback (most recent call last):\n",
      "  File \"/home/ichuviliaeva/miniconda3/envs/is_project/lib/python3.9/site-packages/torch/utils/data/dataloader.py\", line 1328, in __del__\n",
      "    self._shutdown_workers()\n",
      "  File \"/home/ichuviliaeva/miniconda3/envs/is_project/lib/python3.9/site-packages/torch/utils/data/dataloader.py\", line 1320, in _shutdown_workers\n",
      "    if w.is_alive():\n",
      "Exception ignored in: <function _MultiProcessingDataLoaderIter.__del__ at 0x7f3237e8d3a0>\n",
      "  File \"/home/ichuviliaeva/miniconda3/envs/is_project/lib/python3.9/multiprocessing/process.py\", line 160, in is_alive\n",
      "Traceback (most recent call last):\n",
      "  File \"/home/ichuviliaeva/miniconda3/envs/is_project/lib/python3.9/site-packages/torch/utils/data/dataloader.py\", line 1328, in __del__\n",
      "        assert self._parent_pid == os.getpid(), 'can only test a child process'self._shutdown_workers()\n",
      "\n",
      "Exception ignored in: AssertionError  File \"/home/ichuviliaeva/miniconda3/envs/is_project/lib/python3.9/site-packages/torch/utils/data/dataloader.py\", line 1320, in _shutdown_workers\n",
      "    <function _MultiProcessingDataLoaderIter.__del__ at 0x7f3237e8d3a0>: can only test a child process\n",
      "if w.is_alive():\n",
      "\n",
      "  File \"/home/ichuviliaeva/miniconda3/envs/is_project/lib/python3.9/multiprocessing/process.py\", line 160, in is_alive\n",
      "Traceback (most recent call last):\n",
      "    assert self._parent_pid == os.getpid(), 'can only test a child process'  File \"/home/ichuviliaeva/miniconda3/envs/is_project/lib/python3.9/site-packages/torch/utils/data/dataloader.py\", line 1328, in __del__\n",
      "    self._shutdown_workers()\n",
      "AssertionError\n",
      "Exception ignored in:   File \"/home/ichuviliaeva/miniconda3/envs/is_project/lib/python3.9/site-packages/torch/utils/data/dataloader.py\", line 1320, in _shutdown_workers\n",
      ":     can only test a child process<function _MultiProcessingDataLoaderIter.__del__ at 0x7f3237e8d3a0>\n",
      "\n",
      "Traceback (most recent call last):\n",
      "if w.is_alive():\n",
      "  File \"/home/ichuviliaeva/miniconda3/envs/is_project/lib/python3.9/site-packages/torch/utils/data/dataloader.py\", line 1328, in __del__\n",
      "      File \"/home/ichuviliaeva/miniconda3/envs/is_project/lib/python3.9/multiprocessing/process.py\", line 160, in is_alive\n",
      "Exception ignored in: <function _MultiProcessingDataLoaderIter.__del__ at 0x7f3237e8d3a0>    \n",
      "self._shutdown_workers()Exception ignored in: \n",
      "assert self._parent_pid == os.getpid(), 'can only test a child process'  File \"/home/ichuviliaeva/miniconda3/envs/is_project/lib/python3.9/site-packages/torch/utils/data/dataloader.py\", line 1320, in _shutdown_workers\n",
      "\n",
      "Traceback (most recent call last):\n",
      "<function _MultiProcessingDataLoaderIter.__del__ at 0x7f3237e8d3a0>\n",
      "Traceback (most recent call last):\n",
      "    Exception ignored in: if w.is_alive():\n",
      "AssertionError: can only test a child process  File \"/home/ichuviliaeva/miniconda3/envs/is_project/lib/python3.9/site-packages/torch/utils/data/dataloader.py\", line 1328, in __del__\n",
      "  File \"/home/ichuviliaeva/miniconda3/envs/is_project/lib/python3.9/multiprocessing/process.py\", line 160, in is_alive\n",
      "      File \"/home/ichuviliaeva/miniconda3/envs/is_project/lib/python3.9/site-packages/torch/utils/data/dataloader.py\", line 1328, in __del__\n",
      "<function _MultiProcessingDataLoaderIter.__del__ at 0x7f3237e8d3a0>\n",
      "    self._shutdown_workers()\n",
      "\n",
      "  File \"/home/ichuviliaeva/miniconda3/envs/is_project/lib/python3.9/site-packages/torch/utils/data/dataloader.py\", line 1320, in _shutdown_workers\n",
      "        Traceback (most recent call last):\n",
      "assert self._parent_pid == os.getpid(), 'can only test a child process'\n",
      "if w.is_alive():self._shutdown_workers()AssertionError  File \"/home/ichuviliaeva/miniconda3/envs/is_project/lib/python3.9/site-packages/torch/utils/data/dataloader.py\", line 1328, in __del__\n",
      "Exception ignored in: <function _MultiProcessingDataLoaderIter.__del__ at 0x7f3237e8d3a0>\n",
      ": \n",
      "can only test a child process      File \"/home/ichuviliaeva/miniconda3/envs/is_project/lib/python3.9/multiprocessing/process.py\", line 160, in is_alive\n",
      "\n",
      "    \n",
      "  File \"/home/ichuviliaeva/miniconda3/envs/is_project/lib/python3.9/site-packages/torch/utils/data/dataloader.py\", line 1320, in _shutdown_workers\n",
      "self._shutdown_workers()    if w.is_alive():Traceback (most recent call last):\n",
      "\n",
      "assert self._parent_pid == os.getpid(), 'can only test a child process'  File \"/home/ichuviliaeva/miniconda3/envs/is_project/lib/python3.9/site-packages/torch/utils/data/dataloader.py\", line 1328, in __del__\n",
      "\n",
      "    \n",
      "AssertionErrorself._shutdown_workers()  File \"/home/ichuviliaeva/miniconda3/envs/is_project/lib/python3.9/multiprocessing/process.py\", line 160, in is_alive\n",
      "  File \"/home/ichuviliaeva/miniconda3/envs/is_project/lib/python3.9/site-packages/torch/utils/data/dataloader.py\", line 1320, in _shutdown_workers\n",
      "        \n",
      "if w.is_alive()::   File \"/home/ichuviliaeva/miniconda3/envs/is_project/lib/python3.9/site-packages/torch/utils/data/dataloader.py\", line 1320, in _shutdown_workers\n",
      "    if w.is_alive():\n",
      "assert self._parent_pid == os.getpid(), 'can only test a child process'can only test a child process\n",
      "\n",
      "\n",
      "  File \"/home/ichuviliaeva/miniconda3/envs/is_project/lib/python3.9/multiprocessing/process.py\", line 160, in is_alive\n",
      "  File \"/home/ichuviliaeva/miniconda3/envs/is_project/lib/python3.9/multiprocessing/process.py\", line 160, in is_alive\n",
      "      File \"/home/ichuviliaeva/miniconda3/envs/is_project/lib/python3.9/site-packages/torch/utils/data/dataloader.py\", line 1320, in _shutdown_workers\n",
      "Exception ignored in: <function _MultiProcessingDataLoaderIter.__del__ at 0x7f3237e8d3a0>AssertionErrorassert self._parent_pid == os.getpid(), 'can only test a child process'    assert self._parent_pid == os.getpid(), 'can only test a child process': \n",
      "Exception ignored in: can only test a child process\n",
      "Traceback (most recent call last):\n",
      "  File \"/home/ichuviliaeva/miniconda3/envs/is_project/lib/python3.9/site-packages/torch/utils/data/dataloader.py\", line 1328, in __del__\n",
      "Exception ignored in: <function _MultiProcessingDataLoaderIter.__del__ at 0x7f3237e8d3a0>AssertionError    \n",
      "self._shutdown_workers()<function _MultiProcessingDataLoaderIter.__del__ at 0x7f3237e8d3a0>: \n",
      "\n",
      "\n",
      "AssertionErrorTraceback (most recent call last):\n",
      "\n",
      ": can only test a child processcan only test a child process\n",
      "\n",
      "Traceback (most recent call last):\n",
      "  File \"/home/ichuviliaeva/miniconda3/envs/is_project/lib/python3.9/site-packages/torch/utils/data/dataloader.py\", line 1320, in _shutdown_workers\n",
      "      File \"/home/ichuviliaeva/miniconda3/envs/is_project/lib/python3.9/site-packages/torch/utils/data/dataloader.py\", line 1328, in __del__\n",
      "  File \"/home/ichuviliaeva/miniconda3/envs/is_project/lib/python3.9/site-packages/torch/utils/data/dataloader.py\", line 1328, in __del__\n",
      "    self._shutdown_workers()\n",
      "        self._shutdown_workers()\n",
      "if w.is_alive():if w.is_alive():\n",
      "  File \"/home/ichuviliaeva/miniconda3/envs/is_project/lib/python3.9/multiprocessing/process.py\", line 160, in is_alive\n",
      "  File \"/home/ichuviliaeva/miniconda3/envs/is_project/lib/python3.9/site-packages/torch/utils/data/dataloader.py\", line 1320, in _shutdown_workers\n",
      "\n",
      "      File \"/home/ichuviliaeva/miniconda3/envs/is_project/lib/python3.9/multiprocessing/process.py\", line 160, in is_alive\n",
      "if w.is_alive():\n",
      "Exception ignored in:     assert self._parent_pid == os.getpid(), 'can only test a child process'      File \"/home/ichuviliaeva/miniconda3/envs/is_project/lib/python3.9/multiprocessing/process.py\", line 160, in is_alive\n",
      "\n",
      "AssertionErrorassert self._parent_pid == os.getpid(), 'can only test a child process':     \n",
      "can only test a child process\n",
      "assert self._parent_pid == os.getpid(), 'can only test a child process'AssertionError<function _MultiProcessingDataLoaderIter.__del__ at 0x7f3237e8d3a0>\n",
      ": AssertionError: \n",
      "can only test a child processcan only test a child process\n",
      "Traceback (most recent call last):\n",
      "  File \"/home/ichuviliaeva/miniconda3/envs/is_project/lib/python3.9/site-packages/torch/utils/data/dataloader.py\", line 1328, in __del__\n",
      "\n",
      "    self._shutdown_workers()Exception ignored in: \n",
      "<function _MultiProcessingDataLoaderIter.__del__ at 0x7f3237e8d3a0>  File \"/home/ichuviliaeva/miniconda3/envs/is_project/lib/python3.9/site-packages/torch/utils/data/dataloader.py\", line 1320, in _shutdown_workers\n",
      "    if w.is_alive():\n",
      "\n",
      "Traceback (most recent call last):\n",
      "  File \"/home/ichuviliaeva/miniconda3/envs/is_project/lib/python3.9/site-packages/torch/utils/data/dataloader.py\", line 1328, in __del__\n",
      "  File \"/home/ichuviliaeva/miniconda3/envs/is_project/lib/python3.9/multiprocessing/process.py\", line 160, in is_alive\n",
      "        assert self._parent_pid == os.getpid(), 'can only test a child process'\n",
      "Exception ignored in: <function _MultiProcessingDataLoaderIter.__del__ at 0x7f3237e8d3a0>self._shutdown_workers()\n",
      "\n",
      "\n",
      "Traceback (most recent call last):\n",
      "  File \"/home/ichuviliaeva/miniconda3/envs/is_project/lib/python3.9/site-packages/torch/utils/data/dataloader.py\", line 1320, in _shutdown_workers\n",
      "AssertionError    : if w.is_alive():can only test a child process  File \"/home/ichuviliaeva/miniconda3/envs/is_project/lib/python3.9/site-packages/torch/utils/data/dataloader.py\", line 1328, in __del__\n",
      "    self._shutdown_workers()\n",
      "  File \"/home/ichuviliaeva/miniconda3/envs/is_project/lib/python3.9/multiprocessing/process.py\", line 160, in is_alive\n",
      "    \n",
      "  File \"/home/ichuviliaeva/miniconda3/envs/is_project/lib/python3.9/site-packages/torch/utils/data/dataloader.py\", line 1320, in _shutdown_workers\n",
      "assert self._parent_pid == os.getpid(), 'can only test a child process'    if w.is_alive():\n",
      "AssertionError\n",
      "  File \"/home/ichuviliaeva/miniconda3/envs/is_project/lib/python3.9/multiprocessing/process.py\", line 160, in is_alive\n",
      ":     can only test a child process\n",
      "assert self._parent_pid == os.getpid(), 'can only test a child process'\n",
      "AssertionError: can only test a child process\n"
     ]
    },
    {
     "name": "stdout",
     "output_type": "stream",
     "text": [
      "accuracy: 0.886577754887071\n",
      "Epoch 21:\n"
     ]
    },
    {
     "data": {
      "application/vnd.jupyter.widget-view+json": {
       "model_id": "5b4aaeb8ea3f447983623bc3cba7dc48",
       "version_major": 2,
       "version_minor": 0
      },
      "text/plain": [
       "  0%|          | 0/5036 [00:00<?, ?it/s]"
      ]
     },
     "metadata": {},
     "output_type": "display_data"
    },
    {
     "name": "stderr",
     "output_type": "stream",
     "text": [
      "Exception ignored in: Exception ignored in: <function _MultiProcessingDataLoaderIter.__del__ at 0x7f3237e8d3a0><function _MultiProcessingDataLoaderIter.__del__ at 0x7f3237e8d3a0>\n",
      "\n",
      "Traceback (most recent call last):\n",
      "  File \"/home/ichuviliaeva/miniconda3/envs/is_project/lib/python3.9/site-packages/torch/utils/data/dataloader.py\", line 1328, in __del__\n",
      "    Exception ignored in: <function _MultiProcessingDataLoaderIter.__del__ at 0x7f3237e8d3a0>self._shutdown_workers()Traceback (most recent call last):\n",
      "\n",
      "\n",
      "  File \"/home/ichuviliaeva/miniconda3/envs/is_project/lib/python3.9/site-packages/torch/utils/data/dataloader.py\", line 1328, in __del__\n",
      "    self._shutdown_workers()Exception ignored in: <function _MultiProcessingDataLoaderIter.__del__ at 0x7f3237e8d3a0>\n",
      "  File \"/home/ichuviliaeva/miniconda3/envs/is_project/lib/python3.9/site-packages/torch/utils/data/dataloader.py\", line 1320, in _shutdown_workers\n",
      "Traceback (most recent call last):\n",
      "  File \"/home/ichuviliaeva/miniconda3/envs/is_project/lib/python3.9/site-packages/torch/utils/data/dataloader.py\", line 1328, in __del__\n",
      "  File \"/home/ichuviliaeva/miniconda3/envs/is_project/lib/python3.9/site-packages/torch/utils/data/dataloader.py\", line 1320, in _shutdown_workers\n",
      "Exception ignored in:     if w.is_alive():\n",
      "Traceback (most recent call last):\n",
      "\n",
      "      File \"/home/ichuviliaeva/miniconda3/envs/is_project/lib/python3.9/multiprocessing/process.py\", line 160, in is_alive\n",
      "self._shutdown_workers()<function _MultiProcessingDataLoaderIter.__del__ at 0x7f3237e8d3a0>    if w.is_alive():\n",
      "\n",
      "  File \"/home/ichuviliaeva/miniconda3/envs/is_project/lib/python3.9/site-packages/torch/utils/data/dataloader.py\", line 1320, in _shutdown_workers\n",
      "  File \"/home/ichuviliaeva/miniconda3/envs/is_project/lib/python3.9/site-packages/torch/utils/data/dataloader.py\", line 1328, in __del__\n",
      "    Traceback (most recent call last):\n",
      "          File \"/home/ichuviliaeva/miniconda3/envs/is_project/lib/python3.9/site-packages/torch/utils/data/dataloader.py\", line 1328, in __del__\n",
      "Exception ignored in: \n",
      "assert self._parent_pid == os.getpid(), 'can only test a child process'self._shutdown_workers()      File \"/home/ichuviliaeva/miniconda3/envs/is_project/lib/python3.9/multiprocessing/process.py\", line 160, in is_alive\n",
      "<function _MultiProcessingDataLoaderIter.__del__ at 0x7f3237e8d3a0>    if w.is_alive():\n",
      "  File \"/home/ichuviliaeva/miniconda3/envs/is_project/lib/python3.9/multiprocessing/process.py\", line 160, in is_alive\n",
      "\n",
      "\n",
      "\n",
      "      File \"/home/ichuviliaeva/miniconda3/envs/is_project/lib/python3.9/site-packages/torch/utils/data/dataloader.py\", line 1320, in _shutdown_workers\n",
      "self._shutdown_workers()Traceback (most recent call last):\n",
      "AssertionError    : \n",
      "if w.is_alive():  File \"/home/ichuviliaeva/miniconda3/envs/is_project/lib/python3.9/site-packages/torch/utils/data/dataloader.py\", line 1320, in _shutdown_workers\n",
      "assert self._parent_pid == os.getpid(), 'can only test a child process'can only test a child processassert self._parent_pid == os.getpid(), 'can only test a child process'    if w.is_alive():\n",
      "\n",
      "\n",
      "\n",
      "  File \"/home/ichuviliaeva/miniconda3/envs/is_project/lib/python3.9/site-packages/torch/utils/data/dataloader.py\", line 1328, in __del__\n",
      "  File \"/home/ichuviliaeva/miniconda3/envs/is_project/lib/python3.9/multiprocessing/process.py\", line 160, in is_alive\n",
      "    \n",
      "    AssertionError  File \"/home/ichuviliaeva/miniconda3/envs/is_project/lib/python3.9/multiprocessing/process.py\", line 160, in is_alive\n",
      "AssertionError: assert self._parent_pid == os.getpid(), 'can only test a child process'can only test a child process\n",
      "self._shutdown_workers(): \n",
      "    \n",
      "assert self._parent_pid == os.getpid(), 'can only test a child process'\n",
      "can only test a child processException ignored in:   File \"/home/ichuviliaeva/miniconda3/envs/is_project/lib/python3.9/site-packages/torch/utils/data/dataloader.py\", line 1320, in _shutdown_workers\n",
      "AssertionError<function _MultiProcessingDataLoaderIter.__del__ at 0x7f3237e8d3a0>AssertionError\n",
      "Traceback (most recent call last):\n",
      ":     \n",
      "  File \"/home/ichuviliaeva/miniconda3/envs/is_project/lib/python3.9/site-packages/torch/utils/data/dataloader.py\", line 1328, in __del__\n",
      "can only test a child process    \n",
      "if w.is_alive():self._shutdown_workers(): \n",
      "  File \"/home/ichuviliaeva/miniconda3/envs/is_project/lib/python3.9/multiprocessing/process.py\", line 160, in is_alive\n",
      "    assert self._parent_pid == os.getpid(), 'can only test a child process'\n",
      "  File \"/home/ichuviliaeva/miniconda3/envs/is_project/lib/python3.9/site-packages/torch/utils/data/dataloader.py\", line 1320, in _shutdown_workers\n",
      "can only test a child process    if w.is_alive():\n",
      "\n",
      "  File \"/home/ichuviliaeva/miniconda3/envs/is_project/lib/python3.9/multiprocessing/process.py\", line 160, in is_alive\n",
      "    assert self._parent_pid == os.getpid(), 'can only test a child process'\n",
      "\n",
      "AssertionErrorAssertionError: : can only test a child process\n",
      "can only test a child process\n",
      "Exception ignored in: Exception ignored in: <function _MultiProcessingDataLoaderIter.__del__ at 0x7f3237e8d3a0>\n",
      "<function _MultiProcessingDataLoaderIter.__del__ at 0x7f3237e8d3a0>Traceback (most recent call last):\n",
      "\n",
      "Traceback (most recent call last):\n",
      "  File \"/home/ichuviliaeva/miniconda3/envs/is_project/lib/python3.9/site-packages/torch/utils/data/dataloader.py\", line 1328, in __del__\n",
      "Exception ignored in:   File \"/home/ichuviliaeva/miniconda3/envs/is_project/lib/python3.9/site-packages/torch/utils/data/dataloader.py\", line 1328, in __del__\n",
      "    Exception ignored in: self._shutdown_workers()Exception ignored in: Exception ignored in: <function _MultiProcessingDataLoaderIter.__del__ at 0x7f3237e8d3a0><function _MultiProcessingDataLoaderIter.__del__ at 0x7f3237e8d3a0>Exception ignored in: \n",
      "    <function _MultiProcessingDataLoaderIter.__del__ at 0x7f3237e8d3a0>Traceback (most recent call last):\n",
      "<function _MultiProcessingDataLoaderIter.__del__ at 0x7f3237e8d3a0>\n",
      "  File \"/home/ichuviliaeva/miniconda3/envs/is_project/lib/python3.9/site-packages/torch/utils/data/dataloader.py\", line 1328, in __del__\n",
      "<function _MultiProcessingDataLoaderIter.__del__ at 0x7f3237e8d3a0>\n",
      "self._shutdown_workers()\n",
      "  File \"/home/ichuviliaeva/miniconda3/envs/is_project/lib/python3.9/site-packages/torch/utils/data/dataloader.py\", line 1320, in _shutdown_workers\n",
      "\n",
      "        Traceback (most recent call last):\n",
      "Traceback (most recent call last):\n",
      "  File \"/home/ichuviliaeva/miniconda3/envs/is_project/lib/python3.9/site-packages/torch/utils/data/dataloader.py\", line 1320, in _shutdown_workers\n",
      "if w.is_alive():  File \"/home/ichuviliaeva/miniconda3/envs/is_project/lib/python3.9/site-packages/torch/utils/data/dataloader.py\", line 1328, in __del__\n",
      "\n",
      "  File \"/home/ichuviliaeva/miniconda3/envs/is_project/lib/python3.9/site-packages/torch/utils/data/dataloader.py\", line 1328, in __del__\n",
      "    \n",
      "        Traceback (most recent call last):\n",
      "if w.is_alive():self._shutdown_workers()Exception ignored in: \n",
      "<function _MultiProcessingDataLoaderIter.__del__ at 0x7f3237e8d3a0>\n",
      "\n",
      "Traceback (most recent call last):\n",
      "  File \"/home/ichuviliaeva/miniconda3/envs/is_project/lib/python3.9/site-packages/torch/utils/data/dataloader.py\", line 1328, in __del__\n",
      "  File \"/home/ichuviliaeva/miniconda3/envs/is_project/lib/python3.9/site-packages/torch/utils/data/dataloader.py\", line 1320, in _shutdown_workers\n",
      "self._shutdown_workers()  File \"/home/ichuviliaeva/miniconda3/envs/is_project/lib/python3.9/multiprocessing/process.py\", line 160, in is_alive\n",
      "self._shutdown_workers()\n",
      "          File \"/home/ichuviliaeva/miniconda3/envs/is_project/lib/python3.9/site-packages/torch/utils/data/dataloader.py\", line 1328, in __del__\n",
      "\n",
      "  File \"/home/ichuviliaeva/miniconda3/envs/is_project/lib/python3.9/multiprocessing/process.py\", line 160, in is_alive\n",
      "\n",
      "self._shutdown_workers()      File \"/home/ichuviliaeva/miniconda3/envs/is_project/lib/python3.9/site-packages/torch/utils/data/dataloader.py\", line 1320, in _shutdown_workers\n",
      "Traceback (most recent call last):\n",
      "    if w.is_alive():assert self._parent_pid == os.getpid(), 'can only test a child process'Exception ignored in:     \n",
      "  File \"/home/ichuviliaeva/miniconda3/envs/is_project/lib/python3.9/site-packages/torch/utils/data/dataloader.py\", line 1320, in _shutdown_workers\n",
      "\n",
      "  File \"/home/ichuviliaeva/miniconda3/envs/is_project/lib/python3.9/site-packages/torch/utils/data/dataloader.py\", line 1328, in __del__\n"
     ]
    },
    {
     "name": "stderr",
     "output_type": "stream",
     "text": [
      "  File \"/home/ichuviliaeva/miniconda3/envs/is_project/lib/python3.9/site-packages/torch/utils/data/dataloader.py\", line 1320, in _shutdown_workers\n",
      "if w.is_alive():<function _MultiProcessingDataLoaderIter.__del__ at 0x7f3237e8d3a0>    AssertionError    \n",
      "assert self._parent_pid == os.getpid(), 'can only test a child process'\n",
      "        \n",
      ":   File \"/home/ichuviliaeva/miniconda3/envs/is_project/lib/python3.9/multiprocessing/process.py\", line 160, in is_alive\n",
      "self._shutdown_workers()  File \"/home/ichuviliaeva/miniconda3/envs/is_project/lib/python3.9/multiprocessing/process.py\", line 160, in is_alive\n",
      "\n",
      "if w.is_alive():    \n",
      "\n",
      "AssertionError  File \"/home/ichuviliaeva/miniconda3/envs/is_project/lib/python3.9/site-packages/torch/utils/data/dataloader.py\", line 1320, in _shutdown_workers\n",
      "assert self._parent_pid == os.getpid(), 'can only test a child process'    self._shutdown_workers()if w.is_alive():: can only test a child process  File \"/home/ichuviliaeva/miniconda3/envs/is_project/lib/python3.9/multiprocessing/process.py\", line 160, in is_alive\n",
      "\n",
      "\n",
      "    assert self._parent_pid == os.getpid(), 'can only test a child process'\n",
      "Traceback (most recent call last):\n",
      "\n",
      "can only test a child process      File \"/home/ichuviliaeva/miniconda3/envs/is_project/lib/python3.9/site-packages/torch/utils/data/dataloader.py\", line 1320, in _shutdown_workers\n",
      "  File \"/home/ichuviliaeva/miniconda3/envs/is_project/lib/python3.9/multiprocessing/process.py\", line 160, in is_alive\n",
      "\n",
      "  File \"/home/ichuviliaeva/miniconda3/envs/is_project/lib/python3.9/site-packages/torch/utils/data/dataloader.py\", line 1328, in __del__\n",
      "assert self._parent_pid == os.getpid(), 'can only test a child process'\n",
      "if w.is_alive():AssertionErrorAssertionError    \n",
      "\n",
      ": assert self._parent_pid == os.getpid(), 'can only test a child process'can only test a child process        \n",
      "self._shutdown_workers()\n",
      "  File \"/home/ichuviliaeva/miniconda3/envs/is_project/lib/python3.9/site-packages/torch/utils/data/dataloader.py\", line 1320, in _shutdown_workers\n",
      "AssertionError  File \"/home/ichuviliaeva/miniconda3/envs/is_project/lib/python3.9/multiprocessing/process.py\", line 160, in is_alive\n",
      "if w.is_alive():: \n",
      "    : \n",
      "Exception ignored in: AssertionErrorcan only test a child process    assert self._parent_pid == os.getpid(), 'can only test a child process'can only test a child process  File \"/home/ichuviliaeva/miniconda3/envs/is_project/lib/python3.9/multiprocessing/process.py\", line 160, in is_alive\n",
      "\n",
      "\n",
      "if w.is_alive():<function _MultiProcessingDataLoaderIter.__del__ at 0x7f3237e8d3a0>    \n",
      ": AssertionErrorException ignored in: \n",
      "can only test a child process\n",
      "<function _MultiProcessingDataLoaderIter.__del__ at 0x7f3237e8d3a0>  File \"/home/ichuviliaeva/miniconda3/envs/is_project/lib/python3.9/multiprocessing/process.py\", line 160, in is_alive\n",
      "assert self._parent_pid == os.getpid(), 'can only test a child process': \n",
      "Traceback (most recent call last):\n",
      "\n",
      "    \n",
      "can only test a child processAssertionError\n",
      "  File \"/home/ichuviliaeva/miniconda3/envs/is_project/lib/python3.9/site-packages/torch/utils/data/dataloader.py\", line 1328, in __del__\n",
      ": Traceback (most recent call last):\n",
      "Exception ignored in: assert self._parent_pid == os.getpid(), 'can only test a child process'Exception ignored in:   File \"/home/ichuviliaeva/miniconda3/envs/is_project/lib/python3.9/site-packages/torch/utils/data/dataloader.py\", line 1328, in __del__\n",
      "    \n",
      "can only test a child process<function _MultiProcessingDataLoaderIter.__del__ at 0x7f3237e8d3a0>self._shutdown_workers()\n",
      "AssertionError\n",
      "    <function _MultiProcessingDataLoaderIter.__del__ at 0x7f3237e8d3a0>self._shutdown_workers()\n",
      "Traceback (most recent call last):\n",
      "Exception ignored in:   File \"/home/ichuviliaeva/miniconda3/envs/is_project/lib/python3.9/site-packages/torch/utils/data/dataloader.py\", line 1320, in _shutdown_workers\n",
      "\n",
      "<function _MultiProcessingDataLoaderIter.__del__ at 0x7f3237e8d3a0>  File \"/home/ichuviliaeva/miniconda3/envs/is_project/lib/python3.9/site-packages/torch/utils/data/dataloader.py\", line 1328, in __del__\n",
      ": Traceback (most recent call last):\n",
      "    \n",
      "Exception ignored in: can only test a child process  File \"/home/ichuviliaeva/miniconda3/envs/is_project/lib/python3.9/site-packages/torch/utils/data/dataloader.py\", line 1328, in __del__\n",
      "if w.is_alive():    Traceback (most recent call last):\n",
      "<function _MultiProcessingDataLoaderIter.__del__ at 0x7f3237e8d3a0>  File \"/home/ichuviliaeva/miniconda3/envs/is_project/lib/python3.9/site-packages/torch/utils/data/dataloader.py\", line 1328, in __del__\n",
      "self._shutdown_workers()    \n",
      "\n",
      "\n",
      "  File \"/home/ichuviliaeva/miniconda3/envs/is_project/lib/python3.9/multiprocessing/process.py\", line 160, in is_alive\n",
      "self._shutdown_workers()  File \"/home/ichuviliaeva/miniconda3/envs/is_project/lib/python3.9/site-packages/torch/utils/data/dataloader.py\", line 1320, in _shutdown_workers\n",
      "  File \"/home/ichuviliaeva/miniconda3/envs/is_project/lib/python3.9/site-packages/torch/utils/data/dataloader.py\", line 1320, in _shutdown_workers\n",
      "        \n",
      "self._shutdown_workers()assert self._parent_pid == os.getpid(), 'can only test a child process'      File \"/home/ichuviliaeva/miniconda3/envs/is_project/lib/python3.9/site-packages/torch/utils/data/dataloader.py\", line 1320, in _shutdown_workers\n",
      "if w.is_alive():    \n",
      "\n",
      "\n",
      "\n",
      "\n",
      "    if w.is_alive():  File \"/home/ichuviliaeva/miniconda3/envs/is_project/lib/python3.9/site-packages/torch/utils/data/dataloader.py\", line 1320, in _shutdown_workers\n",
      "AssertionError  File \"/home/ichuviliaeva/miniconda3/envs/is_project/lib/python3.9/multiprocessing/process.py\", line 160, in is_alive\n",
      "Traceback (most recent call last):\n",
      "if w.is_alive():\n",
      ":           File \"/home/ichuviliaeva/miniconda3/envs/is_project/lib/python3.9/site-packages/torch/utils/data/dataloader.py\", line 1328, in __del__\n",
      "  File \"/home/ichuviliaeva/miniconda3/envs/is_project/lib/python3.9/multiprocessing/process.py\", line 160, in is_alive\n",
      "can only test a child process\n",
      "if w.is_alive():assert self._parent_pid == os.getpid(), 'can only test a child process'  File \"/home/ichuviliaeva/miniconda3/envs/is_project/lib/python3.9/multiprocessing/process.py\", line 160, in is_alive\n",
      "\n",
      "AssertionError    : assert self._parent_pid == os.getpid(), 'can only test a child process'can only test a child process    \n",
      "    Exception ignored in: \n",
      "\n",
      "\n",
      "<function _MultiProcessingDataLoaderIter.__del__ at 0x7f3237e8d3a0>assert self._parent_pid == os.getpid(), 'can only test a child process'self._shutdown_workers()AssertionError  File \"/home/ichuviliaeva/miniconda3/envs/is_project/lib/python3.9/multiprocessing/process.py\", line 160, in is_alive\n",
      "\n",
      "    Traceback (most recent call last):\n",
      "\n",
      ": \n",
      "assert self._parent_pid == os.getpid(), 'can only test a child process'can only test a child process\n",
      "  File \"/home/ichuviliaeva/miniconda3/envs/is_project/lib/python3.9/site-packages/torch/utils/data/dataloader.py\", line 1320, in _shutdown_workers\n",
      "AssertionError  File \"/home/ichuviliaeva/miniconda3/envs/is_project/lib/python3.9/site-packages/torch/utils/data/dataloader.py\", line 1328, in __del__\n",
      "\n",
      ":         AssertionErrorcan only test a child processself._shutdown_workers()if w.is_alive():\n",
      "\n",
      ": \n",
      "  File \"/home/ichuviliaeva/miniconda3/envs/is_project/lib/python3.9/multiprocessing/process.py\", line 160, in is_alive\n",
      "  File \"/home/ichuviliaeva/miniconda3/envs/is_project/lib/python3.9/site-packages/torch/utils/data/dataloader.py\", line 1320, in _shutdown_workers\n",
      "can only test a child process    \n",
      "    assert self._parent_pid == os.getpid(), 'can only test a child process'if w.is_alive():\n",
      "AssertionError\n",
      ":   File \"/home/ichuviliaeva/miniconda3/envs/is_project/lib/python3.9/multiprocessing/process.py\", line 160, in is_alive\n",
      "can only test a child process    assert self._parent_pid == os.getpid(), 'can only test a child process'\n",
      "\n",
      "AssertionError: Exception ignored in: can only test a child process<function _MultiProcessingDataLoaderIter.__del__ at 0x7f3237e8d3a0>\n",
      "Traceback (most recent call last):\n",
      "  File \"/home/ichuviliaeva/miniconda3/envs/is_project/lib/python3.9/site-packages/torch/utils/data/dataloader.py\", line 1328, in __del__\n",
      "\n",
      "Exception ignored in: <function _MultiProcessingDataLoaderIter.__del__ at 0x7f3237e8d3a0>    self._shutdown_workers()\n",
      "Traceback (most recent call last):\n"
     ]
    },
    {
     "name": "stderr",
     "output_type": "stream",
     "text": [
      "\n",
      "  File \"/home/ichuviliaeva/miniconda3/envs/is_project/lib/python3.9/site-packages/torch/utils/data/dataloader.py\", line 1328, in __del__\n",
      "  File \"/home/ichuviliaeva/miniconda3/envs/is_project/lib/python3.9/site-packages/torch/utils/data/dataloader.py\", line 1320, in _shutdown_workers\n",
      "    if w.is_alive():    \n",
      "self._shutdown_workers()\n",
      "  File \"/home/ichuviliaeva/miniconda3/envs/is_project/lib/python3.9/site-packages/torch/utils/data/dataloader.py\", line 1320, in _shutdown_workers\n",
      "      File \"/home/ichuviliaeva/miniconda3/envs/is_project/lib/python3.9/multiprocessing/process.py\", line 160, in is_alive\n",
      "    if w.is_alive():\n",
      "Exception ignored in: <function _MultiProcessingDataLoaderIter.__del__ at 0x7f3237e8d3a0>assert self._parent_pid == os.getpid(), 'can only test a child process'Exception ignored in:   File \"/home/ichuviliaeva/miniconda3/envs/is_project/lib/python3.9/multiprocessing/process.py\", line 160, in is_alive\n",
      "Exception ignored in: Exception ignored in:     \n",
      "<function _MultiProcessingDataLoaderIter.__del__ at 0x7f3237e8d3a0>Exception ignored in: \n",
      "AssertionError<function _MultiProcessingDataLoaderIter.__del__ at 0x7f3237e8d3a0><function _MultiProcessingDataLoaderIter.__del__ at 0x7f3237e8d3a0>: \n",
      "<function _MultiProcessingDataLoaderIter.__del__ at 0x7f3237e8d3a0>assert self._parent_pid == os.getpid(), 'can only test a child process'Traceback (most recent call last):\n",
      "Exception ignored in: \n",
      "\n",
      "can only test a child process\n",
      "Traceback (most recent call last):\n",
      "Exception ignored in: \n",
      "  File \"/home/ichuviliaeva/miniconda3/envs/is_project/lib/python3.9/site-packages/torch/utils/data/dataloader.py\", line 1328, in __del__\n",
      "Traceback (most recent call last):\n",
      "AssertionError    <function _MultiProcessingDataLoaderIter.__del__ at 0x7f3237e8d3a0>  File \"/home/ichuviliaeva/miniconda3/envs/is_project/lib/python3.9/site-packages/torch/utils/data/dataloader.py\", line 1328, in __del__\n",
      "\n",
      "  File \"/home/ichuviliaeva/miniconda3/envs/is_project/lib/python3.9/site-packages/torch/utils/data/dataloader.py\", line 1328, in __del__\n",
      "\n",
      "Traceback (most recent call last):\n",
      "Traceback (most recent call last):\n",
      "self._shutdown_workers()Exception ignored in: Traceback (most recent call last):\n",
      "<function _MultiProcessingDataLoaderIter.__del__ at 0x7f3237e8d3a0>\n",
      "  File \"/home/ichuviliaeva/miniconda3/envs/is_project/lib/python3.9/site-packages/torch/utils/data/dataloader.py\", line 1328, in __del__\n",
      "\n",
      "  File \"/home/ichuviliaeva/miniconda3/envs/is_project/lib/python3.9/site-packages/torch/utils/data/dataloader.py\", line 1328, in __del__\n",
      "Traceback (most recent call last):\n",
      "    <function _MultiProcessingDataLoaderIter.__del__ at 0x7f3237e8d3a0>  File \"/home/ichuviliaeva/miniconda3/envs/is_project/lib/python3.9/site-packages/torch/utils/data/dataloader.py\", line 1328, in __del__\n",
      "    \n",
      "    :       File \"/home/ichuviliaeva/miniconda3/envs/is_project/lib/python3.9/site-packages/torch/utils/data/dataloader.py\", line 1320, in _shutdown_workers\n",
      "self._shutdown_workers()self._shutdown_workers()Exception ignored in:   File \"/home/ichuviliaeva/miniconda3/envs/is_project/lib/python3.9/site-packages/torch/utils/data/dataloader.py\", line 1328, in __del__\n",
      "self._shutdown_workers()\n",
      "      File \"/home/ichuviliaeva/miniconda3/envs/is_project/lib/python3.9/site-packages/torch/utils/data/dataloader.py\", line 1320, in _shutdown_workers\n",
      "    self._shutdown_workers()can only test a child processself._shutdown_workers()    \n",
      "\n",
      "\n",
      "<function _MultiProcessingDataLoaderIter.__del__ at 0x7f3237e8d3a0>    Exception ignored in: if w.is_alive():self._shutdown_workers()  File \"/home/ichuviliaeva/miniconda3/envs/is_project/lib/python3.9/site-packages/torch/utils/data/dataloader.py\", line 1320, in _shutdown_workers\n",
      "\n",
      "\n",
      "\n",
      "  File \"/home/ichuviliaeva/miniconda3/envs/is_project/lib/python3.9/site-packages/torch/utils/data/dataloader.py\", line 1320, in _shutdown_workers\n",
      "Traceback (most recent call last):\n",
      "<function _MultiProcessingDataLoaderIter.__del__ at 0x7f3237e8d3a0>if w.is_alive():  File \"/home/ichuviliaeva/miniconda3/envs/is_project/lib/python3.9/site-packages/torch/utils/data/dataloader.py\", line 1328, in __del__\n",
      "    \n",
      "\n",
      "  File \"/home/ichuviliaeva/miniconda3/envs/is_project/lib/python3.9/site-packages/torch/utils/data/dataloader.py\", line 1320, in _shutdown_workers\n",
      "\n",
      "  File \"/home/ichuviliaeva/miniconda3/envs/is_project/lib/python3.9/site-packages/torch/utils/data/dataloader.py\", line 1320, in _shutdown_workers\n",
      "    \n",
      "      File \"/home/ichuviliaeva/miniconda3/envs/is_project/lib/python3.9/multiprocessing/process.py\", line 160, in is_alive\n",
      "    Traceback (most recent call last):\n",
      "    Traceback (most recent call last):\n",
      "  File \"/home/ichuviliaeva/miniconda3/envs/is_project/lib/python3.9/multiprocessing/process.py\", line 160, in is_alive\n",
      "      File \"/home/ichuviliaeva/miniconda3/envs/is_project/lib/python3.9/site-packages/torch/utils/data/dataloader.py\", line 1328, in __del__\n",
      "if w.is_alive():  File \"/home/ichuviliaeva/miniconda3/envs/is_project/lib/python3.9/site-packages/torch/utils/data/dataloader.py\", line 1328, in __del__\n",
      "  File \"/home/ichuviliaeva/miniconda3/envs/is_project/lib/python3.9/site-packages/torch/utils/data/dataloader.py\", line 1320, in _shutdown_workers\n",
      "assert self._parent_pid == os.getpid(), 'can only test a child process'    if w.is_alive():\n",
      "    if w.is_alive():assert self._parent_pid == os.getpid(), 'can only test a child process'if w.is_alive():\n",
      "\n",
      "  File \"/home/ichuviliaeva/miniconda3/envs/is_project/lib/python3.9/multiprocessing/process.py\", line 160, in is_alive\n",
      "    \n",
      "  File \"/home/ichuviliaeva/miniconda3/envs/is_project/lib/python3.9/multiprocessing/process.py\", line 160, in is_alive\n",
      "AssertionError\n",
      "    \n",
      ": self._shutdown_workers()self._shutdown_workers()self._shutdown_workers()AssertionError  File \"/home/ichuviliaeva/miniconda3/envs/is_project/lib/python3.9/multiprocessing/process.py\", line 160, in is_alive\n",
      "if w.is_alive():    \n",
      "\n",
      "\n",
      "    Exception ignored in:     : can only test a child process  File \"/home/ichuviliaeva/miniconda3/envs/is_project/lib/python3.9/multiprocessing/process.py\", line 160, in is_alive\n",
      "  File \"/home/ichuviliaeva/miniconda3/envs/is_project/lib/python3.9/site-packages/torch/utils/data/dataloader.py\", line 1320, in _shutdown_workers\n",
      "    \n",
      "assert self._parent_pid == os.getpid(), 'can only test a child process'assert self._parent_pid == os.getpid(), 'can only test a child process'\n",
      "can only test a child processassert self._parent_pid == os.getpid(), 'can only test a child process'assert self._parent_pid == os.getpid(), 'can only test a child process'      File \"/home/ichuviliaeva/miniconda3/envs/is_project/lib/python3.9/multiprocessing/process.py\", line 160, in is_alive\n",
      "<function _MultiProcessingDataLoaderIter.__del__ at 0x7f3237e8d3a0>\n",
      "\n",
      "\n",
      "AssertionError\n",
      ": \n",
      "AssertionError  File \"/home/ichuviliaeva/miniconda3/envs/is_project/lib/python3.9/site-packages/torch/utils/data/dataloader.py\", line 1320, in _shutdown_workers\n",
      "can only test a child process  File \"/home/ichuviliaeva/miniconda3/envs/is_project/lib/python3.9/site-packages/torch/utils/data/dataloader.py\", line 1320, in _shutdown_workers\n",
      "    Traceback (most recent call last):\n",
      "    \n",
      "\n",
      "if w.is_alive():AssertionErrorAssertionError    : : if w.is_alive():can only test a child processassert self._parent_pid == os.getpid(), 'can only test a child process'can only test a child process\n",
      "\n",
      "\n",
      "  File \"/home/ichuviliaeva/miniconda3/envs/is_project/lib/python3.9/site-packages/torch/utils/data/dataloader.py\", line 1328, in __del__\n",
      ": \n",
      "AssertionError  File \"/home/ichuviliaeva/miniconda3/envs/is_project/lib/python3.9/multiprocessing/process.py\", line 160, in is_alive\n",
      "    if w.is_alive():\n",
      ":     can only test a child processassert self._parent_pid == os.getpid(), 'can only test a child process'\n",
      "  File \"/home/ichuviliaeva/miniconda3/envs/is_project/lib/python3.9/multiprocessing/process.py\", line 160, in is_alive\n",
      "can only test a child processself._shutdown_workers()\n",
      "  File \"/home/ichuviliaeva/miniconda3/envs/is_project/lib/python3.9/multiprocessing/process.py\", line 160, in is_alive\n",
      "    \n",
      "assert self._parent_pid == os.getpid(), 'can only test a child process'\n",
      "AssertionError\n",
      "    assert self._parent_pid == os.getpid(), 'can only test a child process':   File \"/home/ichuviliaeva/miniconda3/envs/is_project/lib/python3.9/site-packages/torch/utils/data/dataloader.py\", line 1320, in _shutdown_workers\n"
     ]
    },
    {
     "name": "stderr",
     "output_type": "stream",
     "text": [
      "\n",
      "AssertionError\n",
      "    AssertionErrorcan only test a child processif w.is_alive():: : can only test a child process\n",
      "\n",
      "can only test a child process\n",
      "  File \"/home/ichuviliaeva/miniconda3/envs/is_project/lib/python3.9/multiprocessing/process.py\", line 160, in is_alive\n",
      "Exception ignored in: <function _MultiProcessingDataLoaderIter.__del__ at 0x7f3237e8d3a0>\n",
      "\n",
      "    Traceback (most recent call last):\n",
      "Exception ignored in:   File \"/home/ichuviliaeva/miniconda3/envs/is_project/lib/python3.9/site-packages/torch/utils/data/dataloader.py\", line 1328, in __del__\n",
      "AssertionErrorassert self._parent_pid == os.getpid(), 'can only test a child process'\n",
      "Exception ignored in:     <function _MultiProcessingDataLoaderIter.__del__ at 0x7f3237e8d3a0>self._shutdown_workers()\n",
      "<function _MultiProcessingDataLoaderIter.__del__ at 0x7f3237e8d3a0>Traceback (most recent call last):\n",
      "\n",
      "\n",
      "Exception ignored in: Traceback (most recent call last):\n",
      "<function _MultiProcessingDataLoaderIter.__del__ at 0x7f3237e8d3a0>  File \"/home/ichuviliaeva/miniconda3/envs/is_project/lib/python3.9/site-packages/torch/utils/data/dataloader.py\", line 1328, in __del__\n",
      "  File \"/home/ichuviliaeva/miniconda3/envs/is_project/lib/python3.9/site-packages/torch/utils/data/dataloader.py\", line 1320, in _shutdown_workers\n",
      "\n",
      "      File \"/home/ichuviliaeva/miniconda3/envs/is_project/lib/python3.9/site-packages/torch/utils/data/dataloader.py\", line 1328, in __del__\n",
      ":         Traceback (most recent call last):\n",
      "if w.is_alive():self._shutdown_workers()  File \"/home/ichuviliaeva/miniconda3/envs/is_project/lib/python3.9/site-packages/torch/utils/data/dataloader.py\", line 1328, in __del__\n",
      "can only test a child processself._shutdown_workers()\n",
      "\n",
      "      File \"/home/ichuviliaeva/miniconda3/envs/is_project/lib/python3.9/site-packages/torch/utils/data/dataloader.py\", line 1320, in _shutdown_workers\n",
      "\n",
      "self._shutdown_workers()  File \"/home/ichuviliaeva/miniconda3/envs/is_project/lib/python3.9/site-packages/torch/utils/data/dataloader.py\", line 1320, in _shutdown_workers\n",
      "\n",
      "\n",
      "      File \"/home/ichuviliaeva/miniconda3/envs/is_project/lib/python3.9/multiprocessing/process.py\", line 160, in is_alive\n",
      "if w.is_alive():  File \"/home/ichuviliaeva/miniconda3/envs/is_project/lib/python3.9/site-packages/torch/utils/data/dataloader.py\", line 1320, in _shutdown_workers\n",
      "    if w.is_alive():    if w.is_alive():    Exception ignored in: \n",
      "\n",
      "  File \"/home/ichuviliaeva/miniconda3/envs/is_project/lib/python3.9/multiprocessing/process.py\", line 160, in is_alive\n",
      "\n",
      "  File \"/home/ichuviliaeva/miniconda3/envs/is_project/lib/python3.9/multiprocessing/process.py\", line 160, in is_alive\n",
      "    assert self._parent_pid == os.getpid(), 'can only test a child process'<function _MultiProcessingDataLoaderIter.__del__ at 0x7f3237e8d3a0>  File \"/home/ichuviliaeva/miniconda3/envs/is_project/lib/python3.9/multiprocessing/process.py\", line 160, in is_alive\n",
      "    assert self._parent_pid == os.getpid(), 'can only test a child process'\n",
      "    \n",
      "assert self._parent_pid == os.getpid(), 'can only test a child process'assert self._parent_pid == os.getpid(), 'can only test a child process'AssertionError\n",
      "\n",
      "\n",
      "AssertionError: Traceback (most recent call last):\n",
      ": AssertionErrorAssertionErrorcan only test a child processcan only test a child process  File \"/home/ichuviliaeva/miniconda3/envs/is_project/lib/python3.9/site-packages/torch/utils/data/dataloader.py\", line 1328, in __del__\n",
      "    \n",
      ": can only test a child process\n",
      ": can only test a child process\n",
      "\n",
      "self._shutdown_workers()\n",
      "  File \"/home/ichuviliaeva/miniconda3/envs/is_project/lib/python3.9/site-packages/torch/utils/data/dataloader.py\", line 1320, in _shutdown_workers\n",
      "    Exception ignored in: Exception ignored in: <function _MultiProcessingDataLoaderIter.__del__ at 0x7f3237e8d3a0><function _MultiProcessingDataLoaderIter.__del__ at 0x7f3237e8d3a0>\n",
      "if w.is_alive():\n",
      "Traceback (most recent call last):\n",
      "  File \"/home/ichuviliaeva/miniconda3/envs/is_project/lib/python3.9/site-packages/torch/utils/data/dataloader.py\", line 1328, in __del__\n",
      "\n",
      "Traceback (most recent call last):\n",
      "  File \"/home/ichuviliaeva/miniconda3/envs/is_project/lib/python3.9/multiprocessing/process.py\", line 160, in is_alive\n",
      "          File \"/home/ichuviliaeva/miniconda3/envs/is_project/lib/python3.9/site-packages/torch/utils/data/dataloader.py\", line 1328, in __del__\n",
      "assert self._parent_pid == os.getpid(), 'can only test a child process'Exception ignored in:     self._shutdown_workers()\n",
      "self._shutdown_workers()\n",
      "<function _MultiProcessingDataLoaderIter.__del__ at 0x7f3237e8d3a0>AssertionError\n",
      "  File \"/home/ichuviliaeva/miniconda3/envs/is_project/lib/python3.9/site-packages/torch/utils/data/dataloader.py\", line 1320, in _shutdown_workers\n",
      "      File \"/home/ichuviliaeva/miniconda3/envs/is_project/lib/python3.9/site-packages/torch/utils/data/dataloader.py\", line 1320, in _shutdown_workers\n",
      ":     \n",
      "if w.is_alive():if w.is_alive():\n",
      "can only test a child process  File \"/home/ichuviliaeva/miniconda3/envs/is_project/lib/python3.9/multiprocessing/process.py\", line 160, in is_alive\n",
      "Traceback (most recent call last):\n",
      "\n",
      "\n",
      "  File \"/home/ichuviliaeva/miniconda3/envs/is_project/lib/python3.9/site-packages/torch/utils/data/dataloader.py\", line 1328, in __del__\n",
      "        assert self._parent_pid == os.getpid(), 'can only test a child process'self._shutdown_workers()\n",
      "Exception ignored in: \n",
      "AssertionError: <function _MultiProcessingDataLoaderIter.__del__ at 0x7f3237e8d3a0>  File \"/home/ichuviliaeva/miniconda3/envs/is_project/lib/python3.9/multiprocessing/process.py\", line 160, in is_alive\n",
      "can only test a child process  File \"/home/ichuviliaeva/miniconda3/envs/is_project/lib/python3.9/site-packages/torch/utils/data/dataloader.py\", line 1320, in _shutdown_workers\n",
      "\n",
      "\n",
      "Traceback (most recent call last):\n",
      "    if w.is_alive():  File \"/home/ichuviliaeva/miniconda3/envs/is_project/lib/python3.9/site-packages/torch/utils/data/dataloader.py\", line 1328, in __del__\n",
      "\n",
      "          File \"/home/ichuviliaeva/miniconda3/envs/is_project/lib/python3.9/multiprocessing/process.py\", line 160, in is_alive\n",
      "self._shutdown_workers()\n",
      "    assert self._parent_pid == os.getpid(), 'can only test a child process'  File \"/home/ichuviliaeva/miniconda3/envs/is_project/lib/python3.9/site-packages/torch/utils/data/dataloader.py\", line 1320, in _shutdown_workers\n",
      "assert self._parent_pid == os.getpid(), 'can only test a child process'    \n",
      "\n",
      "AssertionError: AssertionErrorcan only test a child processif w.is_alive():\n",
      "\n",
      "  File \"/home/ichuviliaeva/miniconda3/envs/is_project/lib/python3.9/multiprocessing/process.py\", line 160, in is_alive\n",
      "    : assert self._parent_pid == os.getpid(), 'can only test a child process'can only test a child process\n",
      "\n",
      "AssertionError: Exception ignored in: <function _MultiProcessingDataLoaderIter.__del__ at 0x7f3237e8d3a0>can only test a child process\n",
      "Traceback (most recent call last):\n",
      "\n",
      "  File \"/home/ichuviliaeva/miniconda3/envs/is_project/lib/python3.9/site-packages/torch/utils/data/dataloader.py\", line 1328, in __del__\n",
      "    self._shutdown_workers()\n",
      "  File \"/home/ichuviliaeva/miniconda3/envs/is_project/lib/python3.9/site-packages/torch/utils/data/dataloader.py\", line 1320, in _shutdown_workers\n",
      "Exception ignored in: <function _MultiProcessingDataLoaderIter.__del__ at 0x7f3237e8d3a0>\n",
      "    Traceback (most recent call last):\n",
      "if w.is_alive():\n",
      "  File \"/home/ichuviliaeva/miniconda3/envs/is_project/lib/python3.9/multiprocessing/process.py\", line 160, in is_alive\n",
      "  File \"/home/ichuviliaeva/miniconda3/envs/is_project/lib/python3.9/site-packages/torch/utils/data/dataloader.py\", line 1328, in __del__\n",
      "        assert self._parent_pid == os.getpid(), 'can only test a child process'self._shutdown_workers()\n",
      "\n",
      "  File \"/home/ichuviliaeva/miniconda3/envs/is_project/lib/python3.9/site-packages/torch/utils/data/dataloader.py\", line 1320, in _shutdown_workers\n",
      "AssertionError    : if w.is_alive():\n",
      "can only test a child process  File \"/home/ichuviliaeva/miniconda3/envs/is_project/lib/python3.9/multiprocessing/process.py\", line 160, in is_alive\n",
      "\n",
      "    assert self._parent_pid == os.getpid(), 'can only test a child process'\n",
      "AssertionError: Exception ignored in: can only test a child process\n",
      "<function _MultiProcessingDataLoaderIter.__del__ at 0x7f3237e8d3a0>\n",
      "Traceback (most recent call last):\n"
     ]
    },
    {
     "name": "stderr",
     "output_type": "stream",
     "text": [
      "  File \"/home/ichuviliaeva/miniconda3/envs/is_project/lib/python3.9/site-packages/torch/utils/data/dataloader.py\", line 1328, in __del__\n",
      "    self._shutdown_workers()\n",
      "  File \"/home/ichuviliaeva/miniconda3/envs/is_project/lib/python3.9/site-packages/torch/utils/data/dataloader.py\", line 1320, in _shutdown_workers\n",
      "    if w.is_alive():\n",
      "Exception ignored in:   File \"/home/ichuviliaeva/miniconda3/envs/is_project/lib/python3.9/multiprocessing/process.py\", line 160, in is_alive\n",
      "<function _MultiProcessingDataLoaderIter.__del__ at 0x7f3237e8d3a0>    \n",
      "Traceback (most recent call last):\n",
      "  File \"/home/ichuviliaeva/miniconda3/envs/is_project/lib/python3.9/site-packages/torch/utils/data/dataloader.py\", line 1328, in __del__\n",
      "assert self._parent_pid == os.getpid(), 'can only test a child process'    \n",
      "AssertionErrorself._shutdown_workers(): can only test a child process\n",
      "\n",
      "  File \"/home/ichuviliaeva/miniconda3/envs/is_project/lib/python3.9/site-packages/torch/utils/data/dataloader.py\", line 1320, in _shutdown_workers\n",
      "    Exception ignored in: Exception ignored in: if w.is_alive():<function _MultiProcessingDataLoaderIter.__del__ at 0x7f3237e8d3a0>\n",
      "\n",
      "  File \"/home/ichuviliaeva/miniconda3/envs/is_project/lib/python3.9/multiprocessing/process.py\", line 160, in is_alive\n",
      "Traceback (most recent call last):\n",
      "<function _MultiProcessingDataLoaderIter.__del__ at 0x7f3237e8d3a0>    \n",
      "  File \"/home/ichuviliaeva/miniconda3/envs/is_project/lib/python3.9/site-packages/torch/utils/data/dataloader.py\", line 1328, in __del__\n",
      "assert self._parent_pid == os.getpid(), 'can only test a child process'    Traceback (most recent call last):\n",
      "\n",
      "self._shutdown_workers()  File \"/home/ichuviliaeva/miniconda3/envs/is_project/lib/python3.9/site-packages/torch/utils/data/dataloader.py\", line 1328, in __del__\n",
      "AssertionError\n",
      ":     can only test a child processself._shutdown_workers()Exception ignored in:   File \"/home/ichuviliaeva/miniconda3/envs/is_project/lib/python3.9/site-packages/torch/utils/data/dataloader.py\", line 1320, in _shutdown_workers\n",
      "\n",
      "\n",
      "    <function _MultiProcessingDataLoaderIter.__del__ at 0x7f3237e8d3a0>  File \"/home/ichuviliaeva/miniconda3/envs/is_project/lib/python3.9/site-packages/torch/utils/data/dataloader.py\", line 1320, in _shutdown_workers\n",
      "if w.is_alive():    \n",
      "Traceback (most recent call last):\n",
      "\n",
      "if w.is_alive():  File \"/home/ichuviliaeva/miniconda3/envs/is_project/lib/python3.9/site-packages/torch/utils/data/dataloader.py\", line 1328, in __del__\n",
      "    \n",
      "  File \"/home/ichuviliaeva/miniconda3/envs/is_project/lib/python3.9/multiprocessing/process.py\", line 160, in is_alive\n",
      "  File \"/home/ichuviliaeva/miniconda3/envs/is_project/lib/python3.9/multiprocessing/process.py\", line 160, in is_alive\n",
      "        self._shutdown_workers()\n",
      "assert self._parent_pid == os.getpid(), 'can only test a child process'assert self._parent_pid == os.getpid(), 'can only test a child process'\n",
      "  File \"/home/ichuviliaeva/miniconda3/envs/is_project/lib/python3.9/site-packages/torch/utils/data/dataloader.py\", line 1320, in _shutdown_workers\n",
      "    if w.is_alive():\n",
      "AssertionError\n",
      "AssertionError:   File \"/home/ichuviliaeva/miniconda3/envs/is_project/lib/python3.9/multiprocessing/process.py\", line 160, in is_alive\n",
      "    : can only test a child processassert self._parent_pid == os.getpid(), 'can only test a child process'can only test a child process\n",
      "\n",
      "\n",
      "AssertionError: can only test a child process\n"
     ]
    },
    {
     "ename": "KeyboardInterrupt",
     "evalue": "",
     "output_type": "error",
     "traceback": [
      "\u001b[0;31m---------------------------------------------------------------------------\u001b[0m",
      "\u001b[0;31mKeyboardInterrupt\u001b[0m                         Traceback (most recent call last)",
      "Cell \u001b[0;32mIn[24], line 5\u001b[0m\n\u001b[1;32m      3\u001b[0m \u001b[38;5;28;01mwhile\u001b[39;00m epoch \u001b[38;5;241m<\u001b[39m \u001b[38;5;241m26\u001b[39m:\n\u001b[1;32m      4\u001b[0m     \u001b[38;5;28mprint\u001b[39m(\u001b[38;5;124mf\u001b[39m\u001b[38;5;124m'\u001b[39m\u001b[38;5;124mEpoch \u001b[39m\u001b[38;5;132;01m{\u001b[39;00mepoch\u001b[38;5;132;01m}\u001b[39;00m\u001b[38;5;124m:\u001b[39m\u001b[38;5;124m'\u001b[39m)\n\u001b[0;32m----> 5\u001b[0m     \u001b[43mtrain_epoch\u001b[49m\u001b[43m(\u001b[49m\u001b[43mtrain_loader\u001b[49m\u001b[43m,\u001b[49m\u001b[43m \u001b[49m\u001b[43mval_loader\u001b[49m\u001b[43m,\u001b[49m\u001b[43m \u001b[49m\u001b[43mmodel\u001b[49m\u001b[43m,\u001b[49m\u001b[43m \u001b[49m\u001b[43moptim\u001b[49m\u001b[43m,\u001b[49m\u001b[43m \u001b[49m\u001b[43mloss_fn\u001b[49m\u001b[43m,\u001b[49m\u001b[43m \u001b[49m\u001b[43malpha\u001b[49m\u001b[43m \u001b[49m\u001b[38;5;241;43m=\u001b[39;49m\u001b[43m \u001b[49m\u001b[38;5;241;43m0.5\u001b[39;49m\u001b[43m)\u001b[49m\n\u001b[1;32m      6\u001b[0m     accuracy \u001b[38;5;241m=\u001b[39m run_validation(val_loader, model)\n\u001b[1;32m      7\u001b[0m     \u001b[38;5;28mprint\u001b[39m(\u001b[38;5;124mf\u001b[39m\u001b[38;5;124m'\u001b[39m\u001b[38;5;124maccuracy: \u001b[39m\u001b[38;5;132;01m{\u001b[39;00maccuracy\u001b[38;5;132;01m}\u001b[39;00m\u001b[38;5;124m'\u001b[39m)\n",
      "Cell \u001b[0;32mIn[19], line 40\u001b[0m, in \u001b[0;36mtrain_epoch\u001b[0;34m(train_loader, val_loader, model, optim, loss_fn, alpha)\u001b[0m\n\u001b[1;32m     37\u001b[0m \u001b[38;5;28;01mfor\u001b[39;00m param \u001b[38;5;129;01min\u001b[39;00m center_loss\u001b[38;5;241m.\u001b[39mparameters():\n\u001b[1;32m     38\u001b[0m      param\u001b[38;5;241m.\u001b[39mgrad\u001b[38;5;241m.\u001b[39mdata \u001b[38;5;241m*\u001b[39m\u001b[38;5;241m=\u001b[39m (\u001b[38;5;241m1.\u001b[39m\u001b[38;5;241m/\u001b[39malpha)\n\u001b[0;32m---> 40\u001b[0m \u001b[43moptimizer_centloss\u001b[49m\u001b[38;5;241;43m.\u001b[39;49m\u001b[43mstep\u001b[49m\u001b[43m(\u001b[49m\u001b[43m)\u001b[49m\n",
      "File \u001b[0;32m~/miniconda3/envs/is_project/lib/python3.9/site-packages/torch/optim/optimizer.py:87\u001b[0m, in \u001b[0;36mOptimizer._hook_for_profile.<locals>.profile_hook_step.<locals>.wrapper\u001b[0;34m(*args, **kwargs)\u001b[0m\n\u001b[1;32m     85\u001b[0m obj, \u001b[38;5;241m*\u001b[39m_ \u001b[38;5;241m=\u001b[39m args\n\u001b[1;32m     86\u001b[0m profile_name \u001b[38;5;241m=\u001b[39m \u001b[38;5;124m\"\u001b[39m\u001b[38;5;124mOptimizer.step#\u001b[39m\u001b[38;5;132;01m{}\u001b[39;00m\u001b[38;5;124m.step\u001b[39m\u001b[38;5;124m\"\u001b[39m\u001b[38;5;241m.\u001b[39mformat(obj\u001b[38;5;241m.\u001b[39m\u001b[38;5;18m__class__\u001b[39m\u001b[38;5;241m.\u001b[39m\u001b[38;5;18m__name__\u001b[39m)\n\u001b[0;32m---> 87\u001b[0m \u001b[38;5;28;01mwith\u001b[39;00m \u001b[43mtorch\u001b[49m\u001b[38;5;241;43m.\u001b[39;49m\u001b[43mautograd\u001b[49m\u001b[38;5;241;43m.\u001b[39;49m\u001b[43mprofiler\u001b[49m\u001b[38;5;241;43m.\u001b[39;49m\u001b[43mrecord_function\u001b[49m\u001b[43m(\u001b[49m\u001b[43mprofile_name\u001b[49m\u001b[43m)\u001b[49m:\n\u001b[1;32m     88\u001b[0m     \u001b[38;5;28;01mreturn\u001b[39;00m func(\u001b[38;5;241m*\u001b[39margs, \u001b[38;5;241m*\u001b[39m\u001b[38;5;241m*\u001b[39mkwargs)\n",
      "File \u001b[0;32m~/miniconda3/envs/is_project/lib/python3.9/site-packages/torch/autograd/profiler.py:432\u001b[0m, in \u001b[0;36mrecord_function.__init__\u001b[0;34m(self, name)\u001b[0m\n\u001b[1;32m    429\u001b[0m \u001b[38;5;28mself\u001b[39m\u001b[38;5;241m.\u001b[39mrun_callbacks_on_exit: \u001b[38;5;28mbool\u001b[39m \u001b[38;5;241m=\u001b[39m \u001b[38;5;28;01mTrue\u001b[39;00m\n\u001b[1;32m    430\u001b[0m \u001b[38;5;66;03m# Stores underlying RecordFunction as a tensor. TODO: move to custom\u001b[39;00m\n\u001b[1;32m    431\u001b[0m \u001b[38;5;66;03m# class (https://github.com/pytorch/pytorch/issues/35026).\u001b[39;00m\n\u001b[0;32m--> 432\u001b[0m \u001b[38;5;28mself\u001b[39m\u001b[38;5;241m.\u001b[39mhandle: torch\u001b[38;5;241m.\u001b[39mTensor \u001b[38;5;241m=\u001b[39m \u001b[43mtorch\u001b[49m\u001b[38;5;241;43m.\u001b[39;49m\u001b[43mzeros\u001b[49m\u001b[43m(\u001b[49m\u001b[38;5;241;43m1\u001b[39;49m\u001b[43m)\u001b[49m\n",
      "\u001b[0;31mKeyboardInterrupt\u001b[0m: "
     ]
    }
   ],
   "source": [
    "epoch = 16\n",
    "# changing alpha\n",
    "while epoch < 26:\n",
    "    print(f'Epoch {epoch}:')\n",
    "    train_epoch(train_loader, val_loader, model, optim, loss_fn, alpha = 0.5)\n",
    "    accuracy = run_validation(val_loader, model)\n",
    "    print(f'accuracy: {accuracy}')\n",
    "    if epoch % 5 == 0:\n",
    "        torch.save(model.state_dict(), f'arch2_aug_epoch{epoch}.pth')\n",
    "    epoch += 1"
   ]
  },
  {
   "cell_type": "code",
   "execution_count": 32,
   "id": "a233883a",
   "metadata": {},
   "outputs": [
    {
     "data": {
      "text/plain": [
       "<All keys matched successfully>"
      ]
     },
     "execution_count": 32,
     "metadata": {},
     "output_type": "execute_result"
    }
   ],
   "source": [
    "model.load_state_dict(torch.load(f'arch2_aug_epoch20.pth'))"
   ]
  },
  {
   "cell_type": "code",
   "execution_count": 33,
   "id": "157cf183",
   "metadata": {
    "scrolled": false
   },
   "outputs": [
    {
     "name": "stdout",
     "output_type": "stream",
     "text": [
      "Epoch 21:\n"
     ]
    },
    {
     "name": "stderr",
     "output_type": "stream",
     "text": [
      "100%|███████████████████████████████████████████████████████████████████| 5036/5036 [19:52<00:00,  4.22it/s]\n",
      "100%|█████████████████████████████████████████████████████████████████████| 315/315 [00:57<00:00,  5.46it/s]\n"
     ]
    },
    {
     "name": "stdout",
     "output_type": "stream",
     "text": [
      "accuracy: 0.8904188430505935\n",
      "Epoch 22:\n"
     ]
    },
    {
     "name": "stderr",
     "output_type": "stream",
     "text": [
      "100%|███████████████████████████████████████████████████████████████████| 5036/5036 [19:54<00:00,  4.22it/s]\n",
      "100%|█████████████████████████████████████████████████████████████████████| 315/315 [00:55<00:00,  5.65it/s]\n"
     ]
    },
    {
     "name": "stdout",
     "output_type": "stream",
     "text": [
      "accuracy: 0.8597708067991604\n",
      "Epoch 23:\n"
     ]
    },
    {
     "name": "stderr",
     "output_type": "stream",
     "text": [
      "100%|███████████████████████████████████████████████████████████████████| 5036/5036 [20:37<00:00,  4.07it/s]\n",
      "100%|█████████████████████████████████████████████████████████████████████| 315/315 [00:59<00:00,  5.31it/s]\n"
     ]
    },
    {
     "name": "stdout",
     "output_type": "stream",
     "text": [
      "accuracy: 0.8936409513363915\n",
      "Epoch 24:\n"
     ]
    },
    {
     "name": "stderr",
     "output_type": "stream",
     "text": [
      "100%|███████████████████████████████████████████████████████████████████| 5036/5036 [19:07<00:00,  4.39it/s]\n",
      "100%|█████████████████████████████████████████████████████████████████████| 315/315 [00:50<00:00,  6.24it/s]\n"
     ]
    },
    {
     "name": "stdout",
     "output_type": "stream",
     "text": [
      "accuracy: 0.8877086730095298\n",
      "Epoch 25:\n"
     ]
    },
    {
     "name": "stderr",
     "output_type": "stream",
     "text": [
      "100%|███████████████████████████████████████████████████████████████████| 5036/5036 [18:12<00:00,  4.61it/s]\n",
      "100%|█████████████████████████████████████████████████████████████████████| 315/315 [00:51<00:00,  6.13it/s]"
     ]
    },
    {
     "name": "stdout",
     "output_type": "stream",
     "text": [
      "accuracy: 0.8928265041288596\n"
     ]
    },
    {
     "name": "stderr",
     "output_type": "stream",
     "text": [
      "\n"
     ]
    }
   ],
   "source": [
    "epoch = 21\n",
    "# changing alpha\n",
    "while epoch < 26:\n",
    "    print(f'Epoch {epoch}:')\n",
    "    train_epoch(train_loader, val_loader, model, optim, loss_fn, alpha = 0.7)\n",
    "    accuracy = run_validation(val_loader, model)\n",
    "    print(f'accuracy: {accuracy}')\n",
    "    if epoch % 5 == 0:\n",
    "        torch.save(model.state_dict(), f'arch2_aug_epoch{epoch}.pth')\n",
    "    epoch += 1"
   ]
  },
  {
   "cell_type": "code",
   "execution_count": 54,
   "id": "3b884a8e",
   "metadata": {},
   "outputs": [],
   "source": [
    "to_one_shape = pad_prune(128, 128)\n",
    "\n",
    "train_transforms = transforms.Compose([\n",
    "    to_one_shape,\n",
    "    transforms.ToTensor(),\n",
    "    transforms.RandomChoice([\n",
    "        transforms.RandomPerspective(distortion_scale = 0.2, p = 0.7),  \n",
    "        transforms.GaussianBlur(kernel_size = 3)\n",
    "    ]),\n",
    "    \n",
    "    transforms.ColorJitter(),    \n",
    "    to_zero_one()\n",
    "])\n",
    "\n",
    "val_transforms = transforms.Compose([\n",
    "    to_one_shape,\n",
    "    transforms.ToTensor()\n",
    "])"
   ]
  },
  {
   "cell_type": "code",
   "execution_count": 55,
   "id": "c6c5f059",
   "metadata": {},
   "outputs": [],
   "source": [
    "train_dataset = HWDBDataset(train_helper, train_transforms)\n",
    "val_dataset = HWDBDataset(val_helper, val_transforms)"
   ]
  },
  {
   "cell_type": "code",
   "execution_count": 56,
   "id": "ef95b411",
   "metadata": {},
   "outputs": [],
   "source": [
    "train_loader = DataLoader(train_dataset, batch_size=512, shuffle=True, drop_last=True, \n",
    "                          num_workers=8, persistent_workers = True)\n",
    "val_loader = DataLoader(val_dataset, batch_size=2048, shuffle=False, num_workers=8, \n",
    "                        persistent_workers = True)"
   ]
  },
  {
   "cell_type": "code",
   "execution_count": 57,
   "id": "47bb5edb",
   "metadata": {},
   "outputs": [
    {
     "data": {
      "text/plain": [
       "<All keys matched successfully>"
      ]
     },
     "execution_count": 57,
     "metadata": {},
     "output_type": "execute_result"
    }
   ],
   "source": [
    "model.load_state_dict(torch.load(f'arch2_aug_epoch25.pth'))"
   ]
  },
  {
   "cell_type": "code",
   "execution_count": 58,
   "id": "8cfb63ce",
   "metadata": {},
   "outputs": [
    {
     "name": "stdout",
     "output_type": "stream",
     "text": [
      "Epoch 26:\n"
     ]
    },
    {
     "data": {
      "application/vnd.jupyter.widget-view+json": {
       "model_id": "2c56d41de8e94b6a829dcd4586d17782",
       "version_major": 2,
       "version_minor": 0
      },
      "text/plain": [
       "  0%|          | 0/5036 [00:00<?, ?it/s]"
      ]
     },
     "metadata": {},
     "output_type": "display_data"
    },
    {
     "name": "stderr",
     "output_type": "stream",
     "text": [
      "Exception ignored in: <function _MultiProcessingDataLoaderIter.__del__ at 0x7f3237e8d3a0>\n",
      "Traceback (most recent call last):\n",
      "  File \"/home/ichuviliaeva/miniconda3/envs/is_project/lib/python3.9/site-packages/torch/utils/data/dataloader.py\", line 1328, in __del__\n",
      "    self._shutdown_workers()\n",
      "  File \"/home/ichuviliaeva/miniconda3/envs/is_project/lib/python3.9/site-packages/torch/utils/data/dataloader.py\", line 1320, in _shutdown_workers\n",
      "    if w.is_alive():\n",
      "  File \"/home/ichuviliaeva/miniconda3/envs/is_project/lib/python3.9/multiprocessing/process.py\", line 160, in is_alive\n",
      "    assert self._parent_pid == os.getpid(), 'can only test a child process'\n",
      "AssertionError: can only test a child process\n",
      "Exception ignored in: <function _MultiProcessingDataLoaderIter.__del__ at 0x7f3237e8d3a0>\n",
      "Traceback (most recent call last):\n",
      "  File \"/home/ichuviliaeva/miniconda3/envs/is_project/lib/python3.9/site-packages/torch/utils/data/dataloader.py\", line 1328, in __del__\n",
      "    self._shutdown_workers()\n",
      "  File \"/home/ichuviliaeva/miniconda3/envs/is_project/lib/python3.9/site-packages/torch/utils/data/dataloader.py\", line 1320, in _shutdown_workers\n",
      "    if w.is_alive():\n",
      "  File \"/home/ichuviliaeva/miniconda3/envs/is_project/lib/python3.9/multiprocessing/process.py\", line 160, in is_alive\n",
      "    assert self._parent_pid == os.getpid(), 'can only test a child process'\n",
      "AssertionError: can only test a child process\n",
      "Exception ignored in: <function _MultiProcessingDataLoaderIter.__del__ at 0x7f3237e8d3a0>\n",
      "Traceback (most recent call last):\n",
      "  File \"/home/ichuviliaeva/miniconda3/envs/is_project/lib/python3.9/site-packages/torch/utils/data/dataloader.py\", line 1328, in __del__\n",
      "    self._shutdown_workers()\n",
      "  File \"/home/ichuviliaeva/miniconda3/envs/is_project/lib/python3.9/site-packages/torch/utils/data/dataloader.py\", line 1320, in _shutdown_workers\n",
      "    if w.is_alive():\n",
      "  File \"/home/ichuviliaeva/miniconda3/envs/is_project/lib/python3.9/multiprocessing/process.py\", line 160, in is_alive\n",
      "    assert self._parent_pid == os.getpid(), 'can only test a child process'\n",
      "AssertionError: can only test a child process\n",
      "Exception ignored in: <function _MultiProcessingDataLoaderIter.__del__ at 0x7f3237e8d3a0>\n",
      "Traceback (most recent call last):\n",
      "  File \"/home/ichuviliaeva/miniconda3/envs/is_project/lib/python3.9/site-packages/torch/utils/data/dataloader.py\", line 1328, in __del__\n",
      "    self._shutdown_workers()\n",
      "  File \"/home/ichuviliaeva/miniconda3/envs/is_project/lib/python3.9/site-packages/torch/utils/data/dataloader.py\", line 1320, in _shutdown_workers\n",
      "    if w.is_alive():\n",
      "  File \"/home/ichuviliaeva/miniconda3/envs/is_project/lib/python3.9/multiprocessing/process.py\", line 160, in is_alive\n",
      "    assert self._parent_pid == os.getpid(), 'can only test a child process'\n",
      "AssertionError: can only test a child process\n",
      "Exception ignored in: <function _MultiProcessingDataLoaderIter.__del__ at 0x7f3237e8d3a0>\n",
      "Traceback (most recent call last):\n",
      "  File \"/home/ichuviliaeva/miniconda3/envs/is_project/lib/python3.9/site-packages/torch/utils/data/dataloader.py\", line 1328, in __del__\n",
      "    self._shutdown_workers()\n",
      "  File \"/home/ichuviliaeva/miniconda3/envs/is_project/lib/python3.9/site-packages/torch/utils/data/dataloader.py\", line 1320, in _shutdown_workers\n",
      "    if w.is_alive():\n",
      "  File \"/home/ichuviliaeva/miniconda3/envs/is_project/lib/python3.9/multiprocessing/process.py\", line 160, in is_alive\n",
      "    assert self._parent_pid == os.getpid(), 'can only test a child process'\n",
      "AssertionError: can only test a child process\n",
      "Exception ignored in: <function _MultiProcessingDataLoaderIter.__del__ at 0x7f3237e8d3a0>\n",
      "Traceback (most recent call last):\n",
      "  File \"/home/ichuviliaeva/miniconda3/envs/is_project/lib/python3.9/site-packages/torch/utils/data/dataloader.py\", line 1328, in __del__\n",
      "    self._shutdown_workers()\n",
      "  File \"/home/ichuviliaeva/miniconda3/envs/is_project/lib/python3.9/site-packages/torch/utils/data/dataloader.py\", line 1320, in _shutdown_workers\n",
      "    if w.is_alive():\n",
      "  File \"/home/ichuviliaeva/miniconda3/envs/is_project/lib/python3.9/multiprocessing/process.py\", line 160, in is_alive\n",
      "    assert self._parent_pid == os.getpid(), 'can only test a child process'\n",
      "AssertionError: can only test a child process\n",
      "Exception ignored in: <function _MultiProcessingDataLoaderIter.__del__ at 0x7f3237e8d3a0>\n",
      "Traceback (most recent call last):\n",
      "  File \"/home/ichuviliaeva/miniconda3/envs/is_project/lib/python3.9/site-packages/torch/utils/data/dataloader.py\", line 1328, in __del__\n",
      "    Exception ignored in: <function _MultiProcessingDataLoaderIter.__del__ at 0x7f3237e8d3a0>self._shutdown_workers()\n",
      "\n",
      "Traceback (most recent call last):\n",
      "  File \"/home/ichuviliaeva/miniconda3/envs/is_project/lib/python3.9/site-packages/torch/utils/data/dataloader.py\", line 1320, in _shutdown_workers\n",
      "      File \"/home/ichuviliaeva/miniconda3/envs/is_project/lib/python3.9/site-packages/torch/utils/data/dataloader.py\", line 1328, in __del__\n",
      "if w.is_alive():    \n",
      "self._shutdown_workers()  File \"/home/ichuviliaeva/miniconda3/envs/is_project/lib/python3.9/multiprocessing/process.py\", line 160, in is_alive\n",
      "\n",
      "  File \"/home/ichuviliaeva/miniconda3/envs/is_project/lib/python3.9/site-packages/torch/utils/data/dataloader.py\", line 1320, in _shutdown_workers\n",
      "    assert self._parent_pid == os.getpid(), 'can only test a child process'    \n",
      "if w.is_alive():\n",
      "  File \"/home/ichuviliaeva/miniconda3/envs/is_project/lib/python3.9/multiprocessing/process.py\", line 160, in is_alive\n",
      "    AssertionError: assert self._parent_pid == os.getpid(), 'can only test a child process'\n",
      "can only test a child processAssertionError\n",
      ": can only test a child process\n",
      "Exception ignored in: <function _MultiProcessingDataLoaderIter.__del__ at 0x7f3237e8d3a0>\n",
      "Traceback (most recent call last):\n",
      "  File \"/home/ichuviliaeva/miniconda3/envs/is_project/lib/python3.9/site-packages/torch/utils/data/dataloader.py\", line 1328, in __del__\n",
      "    self._shutdown_workers()\n",
      "  File \"/home/ichuviliaeva/miniconda3/envs/is_project/lib/python3.9/site-packages/torch/utils/data/dataloader.py\", line 1320, in _shutdown_workers\n",
      "    if w.is_alive():\n",
      "  File \"/home/ichuviliaeva/miniconda3/envs/is_project/lib/python3.9/multiprocessing/process.py\", line 160, in is_alive\n",
      "    assert self._parent_pid == os.getpid(), 'can only test a child process'\n",
      "AssertionError: Exception ignored in: <function _MultiProcessingDataLoaderIter.__del__ at 0x7f3237e8d3a0>can only test a child process\n",
      "\n",
      "Traceback (most recent call last):\n",
      "  File \"/home/ichuviliaeva/miniconda3/envs/is_project/lib/python3.9/site-packages/torch/utils/data/dataloader.py\", line 1328, in __del__\n",
      "    self._shutdown_workers()\n",
      "  File \"/home/ichuviliaeva/miniconda3/envs/is_project/lib/python3.9/site-packages/torch/utils/data/dataloader.py\", line 1320, in _shutdown_workers\n",
      "    if w.is_alive():\n",
      "  File \"/home/ichuviliaeva/miniconda3/envs/is_project/lib/python3.9/multiprocessing/process.py\", line 160, in is_alive\n",
      "    assert self._parent_pid == os.getpid(), 'can only test a child process'\n",
      "AssertionError: can only test a child process\n",
      "Exception ignored in: <function _MultiProcessingDataLoaderIter.__del__ at 0x7f3237e8d3a0>\n",
      "Traceback (most recent call last):\n",
      "  File \"/home/ichuviliaeva/miniconda3/envs/is_project/lib/python3.9/site-packages/torch/utils/data/dataloader.py\", line 1328, in __del__\n",
      "    self._shutdown_workers()\n",
      "  File \"/home/ichuviliaeva/miniconda3/envs/is_project/lib/python3.9/site-packages/torch/utils/data/dataloader.py\", line 1320, in _shutdown_workers\n",
      "    Exception ignored in: if w.is_alive():<function _MultiProcessingDataLoaderIter.__del__ at 0x7f3237e8d3a0>\n",
      "\n",
      "  File \"/home/ichuviliaeva/miniconda3/envs/is_project/lib/python3.9/multiprocessing/process.py\", line 160, in is_alive\n",
      "Traceback (most recent call last):\n",
      "  File \"/home/ichuviliaeva/miniconda3/envs/is_project/lib/python3.9/site-packages/torch/utils/data/dataloader.py\", line 1328, in __del__\n",
      "    assert self._parent_pid == os.getpid(), 'can only test a child process'    \n",
      "self._shutdown_workers()\n",
      "AssertionError  File \"/home/ichuviliaeva/miniconda3/envs/is_project/lib/python3.9/site-packages/torch/utils/data/dataloader.py\", line 1320, in _shutdown_workers\n",
      ": can only test a child process    \n",
      "if w.is_alive():\n",
      "  File \"/home/ichuviliaeva/miniconda3/envs/is_project/lib/python3.9/multiprocessing/process.py\", line 160, in is_alive\n"
     ]
    },
    {
     "name": "stderr",
     "output_type": "stream",
     "text": [
      "    assert self._parent_pid == os.getpid(), 'can only test a child process'Exception ignored in: \n",
      "<function _MultiProcessingDataLoaderIter.__del__ at 0x7f3237e8d3a0>AssertionError: \n",
      "can only test a child processTraceback (most recent call last):\n",
      "\n",
      "  File \"/home/ichuviliaeva/miniconda3/envs/is_project/lib/python3.9/site-packages/torch/utils/data/dataloader.py\", line 1328, in __del__\n",
      "    self._shutdown_workers()\n",
      "  File \"/home/ichuviliaeva/miniconda3/envs/is_project/lib/python3.9/site-packages/torch/utils/data/dataloader.py\", line 1320, in _shutdown_workers\n",
      "    if w.is_alive():\n",
      "  File \"/home/ichuviliaeva/miniconda3/envs/is_project/lib/python3.9/multiprocessing/process.py\", line 160, in is_alive\n",
      "    assert self._parent_pid == os.getpid(), 'can only test a child process'\n",
      "AssertionError: can only test a child process\n",
      "Exception ignored in: <function _MultiProcessingDataLoaderIter.__del__ at 0x7f3237e8d3a0>\n",
      "Exception ignored in: Traceback (most recent call last):\n",
      "<function _MultiProcessingDataLoaderIter.__del__ at 0x7f3237e8d3a0>  File \"/home/ichuviliaeva/miniconda3/envs/is_project/lib/python3.9/site-packages/torch/utils/data/dataloader.py\", line 1328, in __del__\n",
      "    \n",
      "Traceback (most recent call last):\n",
      "self._shutdown_workers()  File \"/home/ichuviliaeva/miniconda3/envs/is_project/lib/python3.9/site-packages/torch/utils/data/dataloader.py\", line 1328, in __del__\n",
      "\n",
      "  File \"/home/ichuviliaeva/miniconda3/envs/is_project/lib/python3.9/site-packages/torch/utils/data/dataloader.py\", line 1320, in _shutdown_workers\n",
      "        if w.is_alive():self._shutdown_workers()\n",
      "\n",
      "  File \"/home/ichuviliaeva/miniconda3/envs/is_project/lib/python3.9/multiprocessing/process.py\", line 160, in is_alive\n",
      "      File \"/home/ichuviliaeva/miniconda3/envs/is_project/lib/python3.9/site-packages/torch/utils/data/dataloader.py\", line 1320, in _shutdown_workers\n",
      "assert self._parent_pid == os.getpid(), 'can only test a child process'    Exception ignored in: <function _MultiProcessingDataLoaderIter.__del__ at 0x7f3237e8d3a0>if w.is_alive():\n",
      "\n",
      "\n",
      "Traceback (most recent call last):\n",
      "  File \"/home/ichuviliaeva/miniconda3/envs/is_project/lib/python3.9/multiprocessing/process.py\", line 160, in is_alive\n",
      "  File \"/home/ichuviliaeva/miniconda3/envs/is_project/lib/python3.9/site-packages/torch/utils/data/dataloader.py\", line 1328, in __del__\n",
      "AssertionError    :     self._shutdown_workers()assert self._parent_pid == os.getpid(), 'can only test a child process'can only test a child process\n",
      "\n",
      "\n",
      "  File \"/home/ichuviliaeva/miniconda3/envs/is_project/lib/python3.9/site-packages/torch/utils/data/dataloader.py\", line 1320, in _shutdown_workers\n",
      "Exception ignored in:     <function _MultiProcessingDataLoaderIter.__del__ at 0x7f3237e8d3a0>AssertionError\n",
      ": if w.is_alive():Traceback (most recent call last):\n",
      "\n",
      "can only test a child process\n",
      "Exception ignored in: <function _MultiProcessingDataLoaderIter.__del__ at 0x7f3237e8d3a0>\n",
      "Traceback (most recent call last):\n",
      "  File \"/home/ichuviliaeva/miniconda3/envs/is_project/lib/python3.9/site-packages/torch/utils/data/dataloader.py\", line 1328, in __del__\n",
      "  File \"/home/ichuviliaeva/miniconda3/envs/is_project/lib/python3.9/site-packages/torch/utils/data/dataloader.py\", line 1328, in __del__\n",
      "      File \"/home/ichuviliaeva/miniconda3/envs/is_project/lib/python3.9/multiprocessing/process.py\", line 160, in is_alive\n",
      "    self._shutdown_workers()    \n",
      "assert self._parent_pid == os.getpid(), 'can only test a child process'\n",
      "  File \"/home/ichuviliaeva/miniconda3/envs/is_project/lib/python3.9/site-packages/torch/utils/data/dataloader.py\", line 1320, in _shutdown_workers\n",
      "AssertionError    : if w.is_alive():can only test a child process\n",
      "\n",
      "self._shutdown_workers()  File \"/home/ichuviliaeva/miniconda3/envs/is_project/lib/python3.9/multiprocessing/process.py\", line 160, in is_alive\n",
      "    \n",
      "assert self._parent_pid == os.getpid(), 'can only test a child process'  File \"/home/ichuviliaeva/miniconda3/envs/is_project/lib/python3.9/site-packages/torch/utils/data/dataloader.py\", line 1320, in _shutdown_workers\n",
      "Exception ignored in: Exception ignored in: <function _MultiProcessingDataLoaderIter.__del__ at 0x7f3237e8d3a0>\n",
      "    \n",
      "if w.is_alive():AssertionError<function _MultiProcessingDataLoaderIter.__del__ at 0x7f3237e8d3a0>\n",
      "Traceback (most recent call last):\n",
      ":   File \"/home/ichuviliaeva/miniconda3/envs/is_project/lib/python3.9/multiprocessing/process.py\", line 160, in is_alive\n",
      "can only test a child process\n",
      "      File \"/home/ichuviliaeva/miniconda3/envs/is_project/lib/python3.9/site-packages/torch/utils/data/dataloader.py\", line 1328, in __del__\n",
      "\n",
      "Traceback (most recent call last):\n",
      "      File \"/home/ichuviliaeva/miniconda3/envs/is_project/lib/python3.9/site-packages/torch/utils/data/dataloader.py\", line 1328, in __del__\n",
      "assert self._parent_pid == os.getpid(), 'can only test a child process'self._shutdown_workers()\n",
      "    self._shutdown_workers()AssertionError\n",
      "  File \"/home/ichuviliaeva/miniconda3/envs/is_project/lib/python3.9/site-packages/torch/utils/data/dataloader.py\", line 1320, in _shutdown_workers\n",
      "\n",
      ":   File \"/home/ichuviliaeva/miniconda3/envs/is_project/lib/python3.9/site-packages/torch/utils/data/dataloader.py\", line 1320, in _shutdown_workers\n",
      "can only test a child process        \n",
      "if w.is_alive():if w.is_alive():\n",
      "\n",
      "  File \"/home/ichuviliaeva/miniconda3/envs/is_project/lib/python3.9/multiprocessing/process.py\", line 160, in is_alive\n",
      "      File \"/home/ichuviliaeva/miniconda3/envs/is_project/lib/python3.9/multiprocessing/process.py\", line 160, in is_alive\n",
      "assert self._parent_pid == os.getpid(), 'can only test a child process'\n",
      "AssertionError:     assert self._parent_pid == os.getpid(), 'can only test a child process'can only test a child process\n",
      "\n",
      "AssertionError: can only test a child process\n",
      "Exception ignored in: <function _MultiProcessingDataLoaderIter.__del__ at 0x7f3237e8d3a0>\n",
      "Traceback (most recent call last):\n",
      "  File \"/home/ichuviliaeva/miniconda3/envs/is_project/lib/python3.9/site-packages/torch/utils/data/dataloader.py\", line 1328, in __del__\n",
      "    self._shutdown_workers()\n",
      "  File \"/home/ichuviliaeva/miniconda3/envs/is_project/lib/python3.9/site-packages/torch/utils/data/dataloader.py\", line 1320, in _shutdown_workers\n",
      "    if w.is_alive():\n",
      "  File \"/home/ichuviliaeva/miniconda3/envs/is_project/lib/python3.9/multiprocessing/process.py\", line 160, in is_alive\n",
      "    assert self._parent_pid == os.getpid(), 'can only test a child process'\n",
      "AssertionError: can only test a child process\n",
      "Exception ignored in: <function _MultiProcessingDataLoaderIter.__del__ at 0x7f3237e8d3a0>\n",
      "Traceback (most recent call last):\n",
      "Exception ignored in:   File \"/home/ichuviliaeva/miniconda3/envs/is_project/lib/python3.9/site-packages/torch/utils/data/dataloader.py\", line 1328, in __del__\n",
      "<function _MultiProcessingDataLoaderIter.__del__ at 0x7f3237e8d3a0>\n",
      "    Traceback (most recent call last):\n",
      "self._shutdown_workers()  File \"/home/ichuviliaeva/miniconda3/envs/is_project/lib/python3.9/site-packages/torch/utils/data/dataloader.py\", line 1328, in __del__\n",
      "\n",
      "  File \"/home/ichuviliaeva/miniconda3/envs/is_project/lib/python3.9/site-packages/torch/utils/data/dataloader.py\", line 1320, in _shutdown_workers\n",
      "        self._shutdown_workers()if w.is_alive():\n",
      "\n",
      "  File \"/home/ichuviliaeva/miniconda3/envs/is_project/lib/python3.9/site-packages/torch/utils/data/dataloader.py\", line 1320, in _shutdown_workers\n",
      "  File \"/home/ichuviliaeva/miniconda3/envs/is_project/lib/python3.9/multiprocessing/process.py\", line 160, in is_alive\n",
      "        if w.is_alive():assert self._parent_pid == os.getpid(), 'can only test a child process'\n",
      "\n",
      "  File \"/home/ichuviliaeva/miniconda3/envs/is_project/lib/python3.9/multiprocessing/process.py\", line 160, in is_alive\n",
      "AssertionError    assert self._parent_pid == os.getpid(), 'can only test a child process'\n",
      ": AssertionErrorcan only test a child process: \n",
      "can only test a child process\n",
      "Exception ignored in: <function _MultiProcessingDataLoaderIter.__del__ at 0x7f3237e8d3a0>\n",
      "Traceback (most recent call last):\n",
      "  File \"/home/ichuviliaeva/miniconda3/envs/is_project/lib/python3.9/site-packages/torch/utils/data/dataloader.py\", line 1328, in __del__\n",
      "    self._shutdown_workers()Exception ignored in: \n",
      "<function _MultiProcessingDataLoaderIter.__del__ at 0x7f3237e8d3a0>\n",
      "  File \"/home/ichuviliaeva/miniconda3/envs/is_project/lib/python3.9/site-packages/torch/utils/data/dataloader.py\", line 1320, in _shutdown_workers\n",
      "Traceback (most recent call last):\n",
      "Exception ignored in:       File \"/home/ichuviliaeva/miniconda3/envs/is_project/lib/python3.9/site-packages/torch/utils/data/dataloader.py\", line 1328, in __del__\n",
      "<function _MultiProcessingDataLoaderIter.__del__ at 0x7f3237e8d3a0>if w.is_alive():\n",
      "    \n",
      "Traceback (most recent call last):\n",
      "self._shutdown_workers()  File \"/home/ichuviliaeva/miniconda3/envs/is_project/lib/python3.9/multiprocessing/process.py\", line 160, in is_alive\n",
      "  File \"/home/ichuviliaeva/miniconda3/envs/is_project/lib/python3.9/site-packages/torch/utils/data/dataloader.py\", line 1328, in __del__\n",
      "\n",
      "    assert self._parent_pid == os.getpid(), 'can only test a child process'\n",
      "      File \"/home/ichuviliaeva/miniconda3/envs/is_project/lib/python3.9/site-packages/torch/utils/data/dataloader.py\", line 1320, in _shutdown_workers\n",
      "AssertionErrorself._shutdown_workers(): \n",
      "    can only test a child process  File \"/home/ichuviliaeva/miniconda3/envs/is_project/lib/python3.9/site-packages/torch/utils/data/dataloader.py\", line 1320, in _shutdown_workers\n",
      "if w.is_alive():\n",
      "\n",
      "      File \"/home/ichuviliaeva/miniconda3/envs/is_project/lib/python3.9/multiprocessing/process.py\", line 160, in is_alive\n",
      "if w.is_alive():\n",
      "      File \"/home/ichuviliaeva/miniconda3/envs/is_project/lib/python3.9/multiprocessing/process.py\", line 160, in is_alive\n",
      "assert self._parent_pid == os.getpid(), 'can only test a child process'    \n",
      "assert self._parent_pid == os.getpid(), 'can only test a child process'AssertionError\n",
      ": AssertionErrorcan only test a child process: \n",
      "can only test a child process\n",
      "Exception ignored in: : <function _MultiProcessingDataLoaderIter.__del__ at 0x7f3237e8d3a0>\n",
      "Traceback (most recent call last):\n",
      "  File \"/home/ichuviliaeva/miniconda3/envs/is_project/lib/python3.9/site-packages/torch/utils/data/dataloader.py\", line 1328, in __del__\n",
      "    self._shutdown_workers()\n",
      "  File \"/home/ichuviliaeva/miniconda3/envs/is_project/lib/python3.9/site-packages/torch/utils/data/dataloader.py\", line 1320, in _shutdown_workers\n",
      "    if w.is_alive():\n",
      "  File \"/home/ichuviliaeva/miniconda3/envs/is_project/lib/python3.9/multiprocessing/process.py\", line 160, in is_alive\n",
      "    assert self._parent_pid == os.getpid(), 'can only test a child process'\n",
      "AssertionErrorcan only test a child process\n",
      "Exception ignored in: <function _MultiProcessingDataLoaderIter.__del__ at 0x7f3237e8d3a0>\n",
      "Traceback (most recent call last):\n",
      "  File \"/home/ichuviliaeva/miniconda3/envs/is_project/lib/python3.9/site-packages/torch/utils/data/dataloader.py\", line 1328, in __del__\n",
      "    self._shutdown_workers()\n",
      "  File \"/home/ichuviliaeva/miniconda3/envs/is_project/lib/python3.9/site-packages/torch/utils/data/dataloader.py\", line 1320, in _shutdown_workers\n",
      "    if w.is_alive():\n",
      "  File \"/home/ichuviliaeva/miniconda3/envs/is_project/lib/python3.9/multiprocessing/process.py\", line 160, in is_alive\n",
      "    assert self._parent_pid == os.getpid(), 'can only test a child process'\n",
      "AssertionError: can only test a child process\n",
      "Exception ignored in: <function _MultiProcessingDataLoaderIter.__del__ at 0x7f3237e8d3a0>\n",
      "Traceback (most recent call last):\n",
      "  File \"/home/ichuviliaeva/miniconda3/envs/is_project/lib/python3.9/site-packages/torch/utils/data/dataloader.py\", line 1328, in __del__\n",
      "    self._shutdown_workers()\n",
      "  File \"/home/ichuviliaeva/miniconda3/envs/is_project/lib/python3.9/site-packages/torch/utils/data/dataloader.py\", line 1320, in _shutdown_workers\n",
      "    if w.is_alive():\n",
      "  File \"/home/ichuviliaeva/miniconda3/envs/is_project/lib/python3.9/multiprocessing/process.py\", line 160, in is_alive\n",
      "    assert self._parent_pid == os.getpid(), 'can only test a child process'\n",
      "AssertionError: can only test a child process\n",
      "Exception ignored in: <function _MultiProcessingDataLoaderIter.__del__ at 0x7f3237e8d3a0>\n",
      "Traceback (most recent call last):\n",
      "  File \"/home/ichuviliaeva/miniconda3/envs/is_project/lib/python3.9/site-packages/torch/utils/data/dataloader.py\", line 1328, in __del__\n",
      "    self._shutdown_workers()\n",
      "  File \"/home/ichuviliaeva/miniconda3/envs/is_project/lib/python3.9/site-packages/torch/utils/data/dataloader.py\", line 1320, in _shutdown_workers\n",
      "    if w.is_alive():\n",
      "  File \"/home/ichuviliaeva/miniconda3/envs/is_project/lib/python3.9/multiprocessing/process.py\", line 160, in is_alive\n",
      "    assert self._parent_pid == os.getpid(), 'can only test a child process'\n",
      "AssertionError: can only test a child process\n",
      "Exception ignored in: <function _MultiProcessingDataLoaderIter.__del__ at 0x7f3237e8d3a0>\n",
      "Traceback (most recent call last):\n",
      "  File \"/home/ichuviliaeva/miniconda3/envs/is_project/lib/python3.9/site-packages/torch/utils/data/dataloader.py\", line 1328, in __del__\n",
      "    self._shutdown_workers()\n",
      "  File \"/home/ichuviliaeva/miniconda3/envs/is_project/lib/python3.9/site-packages/torch/utils/data/dataloader.py\", line 1320, in _shutdown_workers\n",
      "    if w.is_alive():\n",
      "  File \"/home/ichuviliaeva/miniconda3/envs/is_project/lib/python3.9/multiprocessing/process.py\", line 160, in is_alive\n",
      "    assert self._parent_pid == os.getpid(), 'can only test a child process'\n",
      "AssertionError: can only test a child process\n",
      "Exception ignored in: <function _MultiProcessingDataLoaderIter.__del__ at 0x7f3237e8d3a0>\n",
      "Traceback (most recent call last):\n",
      "  File \"/home/ichuviliaeva/miniconda3/envs/is_project/lib/python3.9/site-packages/torch/utils/data/dataloader.py\", line 1328, in __del__\n",
      "    self._shutdown_workers()\n",
      "  File \"/home/ichuviliaeva/miniconda3/envs/is_project/lib/python3.9/site-packages/torch/utils/data/dataloader.py\", line 1320, in _shutdown_workers\n",
      "    if w.is_alive():\n",
      "  File \"/home/ichuviliaeva/miniconda3/envs/is_project/lib/python3.9/multiprocessing/process.py\", line 160, in is_alive\n",
      "    assert self._parent_pid == os.getpid(), 'can only test a child process'\n",
      "AssertionError: can only test a child process\n"
     ]
    },
    {
     "data": {
      "application/vnd.jupyter.widget-view+json": {
       "model_id": "90a1c8e0599c46c78a48a13cab96a1cc",
       "version_major": 2,
       "version_minor": 0
      },
      "text/plain": [
       "  0%|          | 0/315 [00:00<?, ?it/s]"
      ]
     },
     "metadata": {},
     "output_type": "display_data"
    },
    {
     "name": "stderr",
     "output_type": "stream",
     "text": [
      "Exception ignored in: <function _MultiProcessingDataLoaderIter.__del__ at 0x7f3237e8d3a0>\n",
      "Traceback (most recent call last):\n",
      "  File \"/home/ichuviliaeva/miniconda3/envs/is_project/lib/python3.9/site-packages/torch/utils/data/dataloader.py\", line 1328, in __del__\n",
      "    self._shutdown_workers()\n",
      "  File \"/home/ichuviliaeva/miniconda3/envs/is_project/lib/python3.9/site-packages/torch/utils/data/dataloader.py\", line 1320, in _shutdown_workers\n",
      "    if w.is_alive():\n",
      "  File \"/home/ichuviliaeva/miniconda3/envs/is_project/lib/python3.9/multiprocessing/process.py\", line 160, in is_alive\n",
      "    assert self._parent_pid == os.getpid(), 'can only test a child process'\n",
      "AssertionError: can only test a child process\n",
      "Exception ignored in: <function _MultiProcessingDataLoaderIter.__del__ at 0x7f3237e8d3a0>\n",
      "Traceback (most recent call last):\n",
      "  File \"/home/ichuviliaeva/miniconda3/envs/is_project/lib/python3.9/site-packages/torch/utils/data/dataloader.py\", line 1328, in __del__\n",
      "    self._shutdown_workers()\n",
      "  File \"/home/ichuviliaeva/miniconda3/envs/is_project/lib/python3.9/site-packages/torch/utils/data/dataloader.py\", line 1320, in _shutdown_workers\n",
      "    if w.is_alive():\n",
      "  File \"/home/ichuviliaeva/miniconda3/envs/is_project/lib/python3.9/multiprocessing/process.py\", line 160, in is_alive\n",
      "    assert self._parent_pid == os.getpid(), 'can only test a child process'\n",
      "AssertionError: can only test a child process\n",
      "Exception ignored in: <function _MultiProcessingDataLoaderIter.__del__ at 0x7f3237e8d3a0>\n",
      "Traceback (most recent call last):\n",
      "  File \"/home/ichuviliaeva/miniconda3/envs/is_project/lib/python3.9/site-packages/torch/utils/data/dataloader.py\", line 1328, in __del__\n",
      "    self._shutdown_workers()\n",
      "  File \"/home/ichuviliaeva/miniconda3/envs/is_project/lib/python3.9/site-packages/torch/utils/data/dataloader.py\", line 1320, in _shutdown_workers\n",
      "    if w.is_alive():\n",
      "  File \"/home/ichuviliaeva/miniconda3/envs/is_project/lib/python3.9/multiprocessing/process.py\", line 160, in is_alive\n",
      "    assert self._parent_pid == os.getpid(), 'can only test a child process'\n",
      "AssertionError: can only test a child process\n",
      "Exception ignored in: <function _MultiProcessingDataLoaderIter.__del__ at 0x7f3237e8d3a0>\n",
      "Traceback (most recent call last):\n",
      "  File \"/home/ichuviliaeva/miniconda3/envs/is_project/lib/python3.9/site-packages/torch/utils/data/dataloader.py\", line 1328, in __del__\n",
      "    self._shutdown_workers()\n",
      "  File \"/home/ichuviliaeva/miniconda3/envs/is_project/lib/python3.9/site-packages/torch/utils/data/dataloader.py\", line 1320, in _shutdown_workers\n",
      "    if w.is_alive():\n",
      "  File \"/home/ichuviliaeva/miniconda3/envs/is_project/lib/python3.9/multiprocessing/process.py\", line 160, in is_alive\n",
      "    assert self._parent_pid == os.getpid(), 'can only test a child process'\n",
      "AssertionError: can only test a child process\n",
      "Exception ignored in: <function _MultiProcessingDataLoaderIter.__del__ at 0x7f3237e8d3a0>\n",
      "\n",
      "Traceback (most recent call last):\n",
      "  File \"/home/ichuviliaeva/miniconda3/envs/is_project/lib/python3.9/site-packages/torch/utils/data/dataloader.py\", line 1328, in __del__\n",
      "    self._shutdown_workers()\n",
      "  File \"/home/ichuviliaeva/miniconda3/envs/is_project/lib/python3.9/site-packages/torch/utils/data/dataloader.py\", line 1320, in _shutdown_workers\n",
      "    if w.is_alive():\n",
      "  File \"/home/ichuviliaeva/miniconda3/envs/is_project/lib/python3.9/multiprocessing/process.py\", line 160, in is_alive\n",
      "    assert self._parent_pid == os.getpid(), 'can only test a child process'\n",
      "AssertionError: can only test a child processException ignored in: <function _MultiProcessingDataLoaderIter.__del__ at 0x7f3237e8d3a0>\n",
      "Traceback (most recent call last):\n",
      "  File \"/home/ichuviliaeva/miniconda3/envs/is_project/lib/python3.9/site-packages/torch/utils/data/dataloader.py\", line 1328, in __del__\n",
      "    self._shutdown_workers()\n",
      "  File \"/home/ichuviliaeva/miniconda3/envs/is_project/lib/python3.9/site-packages/torch/utils/data/dataloader.py\", line 1320, in _shutdown_workers\n",
      "    if w.is_alive():\n",
      "  File \"/home/ichuviliaeva/miniconda3/envs/is_project/lib/python3.9/multiprocessing/process.py\", line 160, in is_alive\n",
      "    assert self._parent_pid == os.getpid(), 'can only test a child process'\n",
      "AssertionError: can only test a child process\n",
      "Exception ignored in: <function _MultiProcessingDataLoaderIter.__del__ at 0x7f3237e8d3a0>\n",
      "Traceback (most recent call last):\n",
      "  File \"/home/ichuviliaeva/miniconda3/envs/is_project/lib/python3.9/site-packages/torch/utils/data/dataloader.py\", line 1328, in __del__\n",
      "    self._shutdown_workers()\n",
      "  File \"/home/ichuviliaeva/miniconda3/envs/is_project/lib/python3.9/site-packages/torch/utils/data/dataloader.py\", line 1320, in _shutdown_workers\n",
      "    if w.is_alive():\n",
      "  File \"/home/ichuviliaeva/miniconda3/envs/is_project/lib/python3.9/multiprocessing/process.py\", line 160, in is_alive\n",
      "    assert self._parent_pid == os.getpid(), 'can only test a child process'\n",
      "AssertionError: can only test a child process\n",
      "Exception ignored in: <function _MultiProcessingDataLoaderIter.__del__ at 0x7f3237e8d3a0>\n",
      "Traceback (most recent call last):\n",
      "  File \"/home/ichuviliaeva/miniconda3/envs/is_project/lib/python3.9/site-packages/torch/utils/data/dataloader.py\", line 1328, in __del__\n",
      "    self._shutdown_workers()\n",
      "  File \"/home/ichuviliaeva/miniconda3/envs/is_project/lib/python3.9/site-packages/torch/utils/data/dataloader.py\", line 1320, in _shutdown_workers\n",
      "    if w.is_alive():\n",
      "  File \"/home/ichuviliaeva/miniconda3/envs/is_project/lib/python3.9/multiprocessing/process.py\", line 160, in is_alive\n",
      "\n",
      "    assert self._parent_pid == os.getpid(), 'can only test a child process'\n",
      "AssertionError: can only test a child processException ignored in: <function _MultiProcessingDataLoaderIter.__del__ at 0x7f3237e8d3a0>\n",
      "Traceback (most recent call last):\n",
      "  File \"/home/ichuviliaeva/miniconda3/envs/is_project/lib/python3.9/site-packages/torch/utils/data/dataloader.py\", line 1328, in __del__\n",
      "    self._shutdown_workers()\n",
      "  File \"/home/ichuviliaeva/miniconda3/envs/is_project/lib/python3.9/site-packages/torch/utils/data/dataloader.py\", line 1320, in _shutdown_workers\n",
      "    if w.is_alive():\n",
      "  File \"/home/ichuviliaeva/miniconda3/envs/is_project/lib/python3.9/multiprocessing/process.py\", line 160, in is_alive\n",
      "    assert self._parent_pid == os.getpid(), 'can only test a child process'\n",
      "AssertionError: can only test a child process\n",
      "Exception ignored in: <function _MultiProcessingDataLoaderIter.__del__ at 0x7f3237e8d3a0>\n",
      "Traceback (most recent call last):\n",
      "  File \"/home/ichuviliaeva/miniconda3/envs/is_project/lib/python3.9/site-packages/torch/utils/data/dataloader.py\", line 1328, in __del__\n",
      "    self._shutdown_workers()\n",
      "  File \"/home/ichuviliaeva/miniconda3/envs/is_project/lib/python3.9/site-packages/torch/utils/data/dataloader.py\", line 1320, in _shutdown_workers\n",
      "    if w.is_alive():\n",
      "  File \"/home/ichuviliaeva/miniconda3/envs/is_project/lib/python3.9/multiprocessing/process.py\", line 160, in is_alive\n",
      "    assert self._parent_pid == os.getpid(), 'can only test a child process'\n",
      "AssertionError: can only test a child process\n",
      "Exception ignored in: <function _MultiProcessingDataLoaderIter.__del__ at 0x7f3237e8d3a0>\n",
      "Traceback (most recent call last):\n",
      "  File \"/home/ichuviliaeva/miniconda3/envs/is_project/lib/python3.9/site-packages/torch/utils/data/dataloader.py\", line 1328, in __del__\n",
      "    self._shutdown_workers()\n",
      "  File \"/home/ichuviliaeva/miniconda3/envs/is_project/lib/python3.9/site-packages/torch/utils/data/dataloader.py\", line 1320, in _shutdown_workers\n",
      "    if w.is_alive():\n",
      "  File \"/home/ichuviliaeva/miniconda3/envs/is_project/lib/python3.9/multiprocessing/process.py\", line 160, in is_alive\n",
      "    assert self._parent_pid == os.getpid(), 'can only test a child process'\n",
      "AssertionError: can only test a child process\n",
      "Exception ignored in: <function _MultiProcessingDataLoaderIter.__del__ at 0x7f3237e8d3a0>\n",
      "Traceback (most recent call last):\n",
      "  File \"/home/ichuviliaeva/miniconda3/envs/is_project/lib/python3.9/site-packages/torch/utils/data/dataloader.py\", line 1328, in __del__\n",
      "    self._shutdown_workers()\n",
      "  File \"/home/ichuviliaeva/miniconda3/envs/is_project/lib/python3.9/site-packages/torch/utils/data/dataloader.py\", line 1320, in _shutdown_workers\n",
      "    if w.is_alive():\n",
      "  File \"/home/ichuviliaeva/miniconda3/envs/is_project/lib/python3.9/multiprocessing/process.py\", line 160, in is_alive\n"
     ]
    },
    {
     "name": "stderr",
     "output_type": "stream",
     "text": [
      "    assert self._parent_pid == os.getpid(), 'can only test a child process'\n",
      "AssertionError: can only test a child process\n",
      "Exception ignored in: <function _MultiProcessingDataLoaderIter.__del__ at 0x7f3237e8d3a0>\n",
      "Traceback (most recent call last):\n",
      "  File \"/home/ichuviliaeva/miniconda3/envs/is_project/lib/python3.9/site-packages/torch/utils/data/dataloader.py\", line 1328, in __del__\n",
      "    self._shutdown_workers()\n",
      "  File \"/home/ichuviliaeva/miniconda3/envs/is_project/lib/python3.9/site-packages/torch/utils/data/dataloader.py\", line 1320, in _shutdown_workers\n",
      "Exception ignored in:     <function _MultiProcessingDataLoaderIter.__del__ at 0x7f3237e8d3a0>\n",
      "Traceback (most recent call last):\n",
      "if w.is_alive():  File \"/home/ichuviliaeva/miniconda3/envs/is_project/lib/python3.9/site-packages/torch/utils/data/dataloader.py\", line 1328, in __del__\n",
      "\n",
      "  File \"/home/ichuviliaeva/miniconda3/envs/is_project/lib/python3.9/multiprocessing/process.py\", line 160, in is_alive\n",
      "    self._shutdown_workers()    assert self._parent_pid == os.getpid(), 'can only test a child process'\n",
      "  File \"/home/ichuviliaeva/miniconda3/envs/is_project/lib/python3.9/site-packages/torch/utils/data/dataloader.py\", line 1320, in _shutdown_workers\n",
      "\n",
      "    if w.is_alive():AssertionError\n",
      ":   File \"/home/ichuviliaeva/miniconda3/envs/is_project/lib/python3.9/multiprocessing/process.py\", line 160, in is_alive\n",
      "can only test a child process    \n",
      "assert self._parent_pid == os.getpid(), 'can only test a child process'\n",
      "AssertionError: can only test a child process\n",
      "Exception ignored in: <function _MultiProcessingDataLoaderIter.__del__ at 0x7f3237e8d3a0>\n",
      "Exception ignored in: Traceback (most recent call last):\n",
      "Exception ignored in: <function _MultiProcessingDataLoaderIter.__del__ at 0x7f3237e8d3a0><function _MultiProcessingDataLoaderIter.__del__ at 0x7f3237e8d3a0>\n",
      "  File \"/home/ichuviliaeva/miniconda3/envs/is_project/lib/python3.9/site-packages/torch/utils/data/dataloader.py\", line 1328, in __del__\n",
      "\n",
      "Traceback (most recent call last):\n",
      "  File \"/home/ichuviliaeva/miniconda3/envs/is_project/lib/python3.9/site-packages/torch/utils/data/dataloader.py\", line 1328, in __del__\n",
      "Traceback (most recent call last):\n",
      "          File \"/home/ichuviliaeva/miniconda3/envs/is_project/lib/python3.9/site-packages/torch/utils/data/dataloader.py\", line 1328, in __del__\n",
      "self._shutdown_workers()self._shutdown_workers()\n",
      "\n",
      "      File \"/home/ichuviliaeva/miniconda3/envs/is_project/lib/python3.9/site-packages/torch/utils/data/dataloader.py\", line 1320, in _shutdown_workers\n",
      "self._shutdown_workers()  File \"/home/ichuviliaeva/miniconda3/envs/is_project/lib/python3.9/site-packages/torch/utils/data/dataloader.py\", line 1320, in _shutdown_workers\n",
      "    \n",
      "      File \"/home/ichuviliaeva/miniconda3/envs/is_project/lib/python3.9/site-packages/torch/utils/data/dataloader.py\", line 1320, in _shutdown_workers\n",
      "if w.is_alive():if w.is_alive():\n",
      "\n",
      "  File \"/home/ichuviliaeva/miniconda3/envs/is_project/lib/python3.9/multiprocessing/process.py\", line 160, in is_alive\n",
      "      File \"/home/ichuviliaeva/miniconda3/envs/is_project/lib/python3.9/multiprocessing/process.py\", line 160, in is_alive\n",
      "if w.is_alive():        \n",
      "assert self._parent_pid == os.getpid(), 'can only test a child process'assert self._parent_pid == os.getpid(), 'can only test a child process'  File \"/home/ichuviliaeva/miniconda3/envs/is_project/lib/python3.9/multiprocessing/process.py\", line 160, in is_alive\n",
      "\n",
      "\n",
      "    AssertionError: AssertionErrorassert self._parent_pid == os.getpid(), 'can only test a child process'can only test a child process: \n",
      "\n",
      "AssertionErrorcan only test a child process: \n",
      "can only test a child process\n",
      "Exception ignored in: <function _MultiProcessingDataLoaderIter.__del__ at 0x7f3237e8d3a0>\n",
      "Traceback (most recent call last):\n",
      "  File \"/home/ichuviliaeva/miniconda3/envs/is_project/lib/python3.9/site-packages/torch/utils/data/dataloader.py\", line 1328, in __del__\n",
      "    self._shutdown_workers()\n",
      "  File \"/home/ichuviliaeva/miniconda3/envs/is_project/lib/python3.9/site-packages/torch/utils/data/dataloader.py\", line 1320, in _shutdown_workers\n",
      "    if w.is_alive():\n",
      "  File \"/home/ichuviliaeva/miniconda3/envs/is_project/lib/python3.9/multiprocessing/process.py\", line 160, in is_alive\n",
      "    assert self._parent_pid == os.getpid(), 'can only test a child process'\n",
      "AssertionError: can only test a child process\n",
      "Exception ignored in: <function _MultiProcessingDataLoaderIter.__del__ at 0x7f3237e8d3a0>\n",
      "Traceback (most recent call last):\n",
      "  File \"/home/ichuviliaeva/miniconda3/envs/is_project/lib/python3.9/site-packages/torch/utils/data/dataloader.py\", line 1328, in __del__\n",
      "    self._shutdown_workers()\n",
      "  File \"/home/ichuviliaeva/miniconda3/envs/is_project/lib/python3.9/site-packages/torch/utils/data/dataloader.py\", line 1320, in _shutdown_workers\n",
      "    if w.is_alive():\n",
      "  File \"/home/ichuviliaeva/miniconda3/envs/is_project/lib/python3.9/multiprocessing/process.py\", line 160, in is_alive\n",
      "Exception ignored in:     <function _MultiProcessingDataLoaderIter.__del__ at 0x7f3237e8d3a0>assert self._parent_pid == os.getpid(), 'can only test a child process'\n",
      "\n",
      "Traceback (most recent call last):\n",
      "AssertionError  File \"/home/ichuviliaeva/miniconda3/envs/is_project/lib/python3.9/site-packages/torch/utils/data/dataloader.py\", line 1328, in __del__\n",
      "Exception ignored in: : <function _MultiProcessingDataLoaderIter.__del__ at 0x7f3237e8d3a0>    \n",
      "can only test a child processException ignored in: self._shutdown_workers()Traceback (most recent call last):\n",
      "<function _MultiProcessingDataLoaderIter.__del__ at 0x7f3237e8d3a0>\n",
      "\n",
      "\n",
      "  File \"/home/ichuviliaeva/miniconda3/envs/is_project/lib/python3.9/site-packages/torch/utils/data/dataloader.py\", line 1320, in _shutdown_workers\n",
      "Traceback (most recent call last):\n",
      "  File \"/home/ichuviliaeva/miniconda3/envs/is_project/lib/python3.9/site-packages/torch/utils/data/dataloader.py\", line 1328, in __del__\n",
      "      File \"/home/ichuviliaeva/miniconda3/envs/is_project/lib/python3.9/site-packages/torch/utils/data/dataloader.py\", line 1328, in __del__\n",
      "    if w.is_alive():self._shutdown_workers()\n",
      "    \n",
      "self._shutdown_workers()  File \"/home/ichuviliaeva/miniconda3/envs/is_project/lib/python3.9/multiprocessing/process.py\", line 160, in is_alive\n",
      "  File \"/home/ichuviliaeva/miniconda3/envs/is_project/lib/python3.9/site-packages/torch/utils/data/dataloader.py\", line 1320, in _shutdown_workers\n",
      "    if w.is_alive():\n",
      "    \n",
      "  File \"/home/ichuviliaeva/miniconda3/envs/is_project/lib/python3.9/multiprocessing/process.py\", line 160, in is_alive\n",
      "  File \"/home/ichuviliaeva/miniconda3/envs/is_project/lib/python3.9/site-packages/torch/utils/data/dataloader.py\", line 1320, in _shutdown_workers\n",
      "    assert self._parent_pid == os.getpid(), 'can only test a child process'assert self._parent_pid == os.getpid(), 'can only test a child process'    \n",
      "if w.is_alive():\n",
      "AssertionError\n",
      "AssertionError:   File \"/home/ichuviliaeva/miniconda3/envs/is_project/lib/python3.9/multiprocessing/process.py\", line 160, in is_alive\n",
      "can only test a child process:     can only test a child process\n",
      "assert self._parent_pid == os.getpid(), 'can only test a child process'\n",
      "\n",
      "AssertionError: can only test a child process\n",
      "Exception ignored in: <function _MultiProcessingDataLoaderIter.__del__ at 0x7f3237e8d3a0>\n",
      "Traceback (most recent call last):\n",
      "  File \"/home/ichuviliaeva/miniconda3/envs/is_project/lib/python3.9/site-packages/torch/utils/data/dataloader.py\", line 1328, in __del__\n",
      "    self._shutdown_workers()\n",
      "  File \"/home/ichuviliaeva/miniconda3/envs/is_project/lib/python3.9/site-packages/torch/utils/data/dataloader.py\", line 1320, in _shutdown_workers\n",
      "    if w.is_alive():\n",
      "  File \"/home/ichuviliaeva/miniconda3/envs/is_project/lib/python3.9/multiprocessing/process.py\", line 160, in is_alive\n",
      "    assert self._parent_pid == os.getpid(), 'can only test a child process'\n",
      "AssertionError: can only test a child process\n",
      "Exception ignored in: <function _MultiProcessingDataLoaderIter.__del__ at 0x7f3237e8d3a0>\n",
      "Traceback (most recent call last):\n",
      "  File \"/home/ichuviliaeva/miniconda3/envs/is_project/lib/python3.9/site-packages/torch/utils/data/dataloader.py\", line 1328, in __del__\n",
      "    self._shutdown_workers()\n",
      "  File \"/home/ichuviliaeva/miniconda3/envs/is_project/lib/python3.9/site-packages/torch/utils/data/dataloader.py\", line 1320, in _shutdown_workers\n"
     ]
    },
    {
     "name": "stderr",
     "output_type": "stream",
     "text": [
      "    if w.is_alive():\n",
      "  File \"/home/ichuviliaeva/miniconda3/envs/is_project/lib/python3.9/multiprocessing/process.py\", line 160, in is_alive\n",
      "    assert self._parent_pid == os.getpid(), 'can only test a child process'\n",
      "AssertionError: can only test a child process\n",
      "Exception ignored in: <function _MultiProcessingDataLoaderIter.__del__ at 0x7f3237e8d3a0>\n",
      "Traceback (most recent call last):\n",
      "  File \"/home/ichuviliaeva/miniconda3/envs/is_project/lib/python3.9/site-packages/torch/utils/data/dataloader.py\", line 1328, in __del__\n",
      "    self._shutdown_workers()\n",
      "  File \"/home/ichuviliaeva/miniconda3/envs/is_project/lib/python3.9/site-packages/torch/utils/data/dataloader.py\", line 1320, in _shutdown_workers\n",
      "    if w.is_alive():\n",
      "  File \"/home/ichuviliaeva/miniconda3/envs/is_project/lib/python3.9/multiprocessing/process.py\", line 160, in is_alive\n",
      "    assert self._parent_pid == os.getpid(), 'can only test a child process'\n",
      "AssertionError: can only test a child process\n",
      "Exception ignored in: <function _MultiProcessingDataLoaderIter.__del__ at 0x7f3237e8d3a0>\n",
      "Traceback (most recent call last):\n",
      "  File \"/home/ichuviliaeva/miniconda3/envs/is_project/lib/python3.9/site-packages/torch/utils/data/dataloader.py\", line 1328, in __del__\n",
      "    self._shutdown_workers()\n",
      "  File \"/home/ichuviliaeva/miniconda3/envs/is_project/lib/python3.9/site-packages/torch/utils/data/dataloader.py\", line 1320, in _shutdown_workers\n",
      "    Exception ignored in: <function _MultiProcessingDataLoaderIter.__del__ at 0x7f3237e8d3a0>if w.is_alive():\n",
      "\n",
      "Traceback (most recent call last):\n",
      "  File \"/home/ichuviliaeva/miniconda3/envs/is_project/lib/python3.9/multiprocessing/process.py\", line 160, in is_alive\n",
      "  File \"/home/ichuviliaeva/miniconda3/envs/is_project/lib/python3.9/site-packages/torch/utils/data/dataloader.py\", line 1328, in __del__\n",
      "        assert self._parent_pid == os.getpid(), 'can only test a child process'self._shutdown_workers()\n",
      "\n",
      "AssertionError:   File \"/home/ichuviliaeva/miniconda3/envs/is_project/lib/python3.9/site-packages/torch/utils/data/dataloader.py\", line 1320, in _shutdown_workers\n",
      "can only test a child process\n",
      "    if w.is_alive():\n",
      "  File \"/home/ichuviliaeva/miniconda3/envs/is_project/lib/python3.9/multiprocessing/process.py\", line 160, in is_alive\n",
      "    assert self._parent_pid == os.getpid(), 'can only test a child process'\n",
      "AssertionError: can only test a child process\n",
      "Exception ignored in: <function _MultiProcessingDataLoaderIter.__del__ at 0x7f3237e8d3a0>\n",
      "Traceback (most recent call last):\n",
      "  File \"/home/ichuviliaeva/miniconda3/envs/is_project/lib/python3.9/site-packages/torch/utils/data/dataloader.py\", line 1328, in __del__\n",
      "    self._shutdown_workers()\n",
      "  File \"/home/ichuviliaeva/miniconda3/envs/is_project/lib/python3.9/site-packages/torch/utils/data/dataloader.py\", line 1320, in _shutdown_workers\n",
      "    if w.is_alive():\n",
      "  File \"/home/ichuviliaeva/miniconda3/envs/is_project/lib/python3.9/multiprocessing/process.py\", line 160, in is_alive\n",
      "    assert self._parent_pid == os.getpid(), 'can only test a child process'\n",
      "AssertionError: can only test a child process\n",
      "Exception ignored in: <function _MultiProcessingDataLoaderIter.__del__ at 0x7f3237e8d3a0>\n",
      "Traceback (most recent call last):\n",
      "  File \"/home/ichuviliaeva/miniconda3/envs/is_project/lib/python3.9/site-packages/torch/utils/data/dataloader.py\", line 1328, in __del__\n",
      "    self._shutdown_workers()\n",
      "  File \"/home/ichuviliaeva/miniconda3/envs/is_project/lib/python3.9/site-packages/torch/utils/data/dataloader.py\", line 1320, in _shutdown_workers\n",
      "    if w.is_alive():\n",
      "  File \"/home/ichuviliaeva/miniconda3/envs/is_project/lib/python3.9/multiprocessing/process.py\", line 160, in is_alive\n",
      "    \n",
      "assert self._parent_pid == os.getpid(), 'can only test a child process'\n",
      "AssertionError: can only test a child processException ignored in: <function _MultiProcessingDataLoaderIter.__del__ at 0x7f3237e8d3a0>\n",
      "Traceback (most recent call last):\n",
      "  File \"/home/ichuviliaeva/miniconda3/envs/is_project/lib/python3.9/site-packages/torch/utils/data/dataloader.py\", line 1328, in __del__\n",
      "    self._shutdown_workers()\n",
      "  File \"/home/ichuviliaeva/miniconda3/envs/is_project/lib/python3.9/site-packages/torch/utils/data/dataloader.py\", line 1320, in _shutdown_workers\n",
      "    if w.is_alive():\n",
      "  File \"/home/ichuviliaeva/miniconda3/envs/is_project/lib/python3.9/multiprocessing/process.py\", line 160, in is_alive\n",
      "    assert self._parent_pid == os.getpid(), 'can only test a child process'\n",
      "AssertionError: can only test a child process\n",
      "Exception ignored in: <function _MultiProcessingDataLoaderIter.__del__ at 0x7f3237e8d3a0>\n",
      "Traceback (most recent call last):\n",
      "  File \"/home/ichuviliaeva/miniconda3/envs/is_project/lib/python3.9/site-packages/torch/utils/data/dataloader.py\", line 1328, in __del__\n",
      "    self._shutdown_workers()\n",
      "  File \"/home/ichuviliaeva/miniconda3/envs/is_project/lib/python3.9/site-packages/torch/utils/data/dataloader.py\", line 1320, in _shutdown_workers\n",
      "    if w.is_alive():\n",
      "  File \"/home/ichuviliaeva/miniconda3/envs/is_project/lib/python3.9/multiprocessing/process.py\", line 160, in is_alive\n",
      "    assert self._parent_pid == os.getpid(), 'can only test a child process'\n",
      "AssertionError: can only test a child process\n",
      "Exception ignored in: <function _MultiProcessingDataLoaderIter.__del__ at 0x7f3237e8d3a0>\n",
      "Traceback (most recent call last):\n",
      "  File \"/home/ichuviliaeva/miniconda3/envs/is_project/lib/python3.9/site-packages/torch/utils/data/dataloader.py\", line 1328, in __del__\n",
      "    self._shutdown_workers()\n",
      "  File \"/home/ichuviliaeva/miniconda3/envs/is_project/lib/python3.9/site-packages/torch/utils/data/dataloader.py\", line 1320, in _shutdown_workers\n",
      "    if w.is_alive():\n",
      "  File \"/home/ichuviliaeva/miniconda3/envs/is_project/lib/python3.9/multiprocessing/process.py\", line 160, in is_alive\n",
      "    assert self._parent_pid == os.getpid(), 'can only test a child process'\n",
      "AssertionError: can only test a child process\n"
     ]
    },
    {
     "name": "stdout",
     "output_type": "stream",
     "text": [
      "accuracy: 0.9028542884135965\n",
      "Epoch 27:\n"
     ]
    },
    {
     "data": {
      "application/vnd.jupyter.widget-view+json": {
       "model_id": "a8cbbc836aef46238cfef10aa342a555",
       "version_major": 2,
       "version_minor": 0
      },
      "text/plain": [
       "  0%|          | 0/5036 [00:00<?, ?it/s]"
      ]
     },
     "metadata": {},
     "output_type": "display_data"
    },
    {
     "data": {
      "application/vnd.jupyter.widget-view+json": {
       "model_id": "5f1ed9e1261c4d2bbdbf67cf42a7bc39",
       "version_major": 2,
       "version_minor": 0
      },
      "text/plain": [
       "  0%|          | 0/315 [00:00<?, ?it/s]"
      ]
     },
     "metadata": {},
     "output_type": "display_data"
    },
    {
     "name": "stdout",
     "output_type": "stream",
     "text": [
      "accuracy: 0.9047003687506691\n",
      "Epoch 28:\n"
     ]
    },
    {
     "data": {
      "application/vnd.jupyter.widget-view+json": {
       "model_id": "e101ca380ec349e493f2163887882069",
       "version_major": 2,
       "version_minor": 0
      },
      "text/plain": [
       "  0%|          | 0/5036 [00:00<?, ?it/s]"
      ]
     },
     "metadata": {},
     "output_type": "display_data"
    },
    {
     "data": {
      "application/vnd.jupyter.widget-view+json": {
       "model_id": "39995af54fe24730ab0dbc6a53e706eb",
       "version_major": 2,
       "version_minor": 0
      },
      "text/plain": [
       "  0%|          | 0/315 [00:00<?, ?it/s]"
      ]
     },
     "metadata": {},
     "output_type": "display_data"
    },
    {
     "name": "stdout",
     "output_type": "stream",
     "text": [
      "accuracy: 0.9055411885344449\n",
      "Epoch 29:\n"
     ]
    },
    {
     "data": {
      "application/vnd.jupyter.widget-view+json": {
       "model_id": "ad50f37a25c343368b24fdcfd2ddc826",
       "version_major": 2,
       "version_minor": 0
      },
      "text/plain": [
       "  0%|          | 0/5036 [00:00<?, ?it/s]"
      ]
     },
     "metadata": {},
     "output_type": "display_data"
    },
    {
     "data": {
      "application/vnd.jupyter.widget-view+json": {
       "model_id": "eed62b45af4b4941ae31d2fe59a8ce42",
       "version_major": 2,
       "version_minor": 0
      },
      "text/plain": [
       "  0%|          | 0/315 [00:00<?, ?it/s]"
      ]
     },
     "metadata": {},
     "output_type": "display_data"
    },
    {
     "name": "stdout",
     "output_type": "stream",
     "text": [
      "accuracy: 0.9067388137615205\n",
      "Epoch 30:\n"
     ]
    },
    {
     "data": {
      "application/vnd.jupyter.widget-view+json": {
       "model_id": "5cf2cfff587d496395e606318a964d26",
       "version_major": 2,
       "version_minor": 0
      },
      "text/plain": [
       "  0%|          | 0/5036 [00:00<?, ?it/s]"
      ]
     },
     "metadata": {},
     "output_type": "display_data"
    },
    {
     "data": {
      "application/vnd.jupyter.widget-view+json": {
       "model_id": "5277817d62ac497e829a192f11af87c1",
       "version_major": 2,
       "version_minor": 0
      },
      "text/plain": [
       "  0%|          | 0/315 [00:00<?, ?it/s]"
      ]
     },
     "metadata": {},
     "output_type": "display_data"
    },
    {
     "name": "stdout",
     "output_type": "stream",
     "text": [
      "accuracy: 0.906248594108987\n",
      "Epoch 31:\n"
     ]
    },
    {
     "data": {
      "application/vnd.jupyter.widget-view+json": {
       "model_id": "c817c552b4a549c79d747868835ca0d9",
       "version_major": 2,
       "version_minor": 0
      },
      "text/plain": [
       "  0%|          | 0/5036 [00:00<?, ?it/s]"
      ]
     },
     "metadata": {},
     "output_type": "display_data"
    },
    {
     "data": {
      "application/vnd.jupyter.widget-view+json": {
       "model_id": "2d43dd4f6eba4fe6af0fbeeebed41048",
       "version_major": 2,
       "version_minor": 0
      },
      "text/plain": [
       "  0%|          | 0/315 [00:00<?, ?it/s]"
      ]
     },
     "metadata": {},
     "output_type": "display_data"
    },
    {
     "name": "stdout",
     "output_type": "stream",
     "text": [
      "accuracy: 0.9048337829599028\n",
      "Epoch 32:\n"
     ]
    },
    {
     "data": {
      "application/vnd.jupyter.widget-view+json": {
       "model_id": "685b3812468f414eb9b5c11dc20c274d",
       "version_major": 2,
       "version_minor": 0
      },
      "text/plain": [
       "  0%|          | 0/5036 [00:00<?, ?it/s]"
      ]
     },
     "metadata": {},
     "output_type": "display_data"
    },
    {
     "data": {
      "application/vnd.jupyter.widget-view+json": {
       "model_id": "63b01f3f06aa453ba40b034e609f22aa",
       "version_major": 2,
       "version_minor": 0
      },
      "text/plain": [
       "  0%|          | 0/315 [00:00<?, ?it/s]"
      ]
     },
     "metadata": {},
     "output_type": "display_data"
    },
    {
     "name": "stdout",
     "output_type": "stream",
     "text": [
      "accuracy: 0.9085057763698614\n",
      "Epoch 33:\n"
     ]
    },
    {
     "data": {
      "application/vnd.jupyter.widget-view+json": {
       "model_id": "3fd3e43722974ce5a4c4f6379ccddd8a",
       "version_major": 2,
       "version_minor": 0
      },
      "text/plain": [
       "  0%|          | 0/5036 [00:00<?, ?it/s]"
      ]
     },
     "metadata": {},
     "output_type": "display_data"
    },
    {
     "data": {
      "application/vnd.jupyter.widget-view+json": {
       "model_id": "c8d3ff90da5649eea8a8599623b3b4c6",
       "version_major": 2,
       "version_minor": 0
      },
      "text/plain": [
       "  0%|          | 0/315 [00:00<?, ?it/s]"
      ]
     },
     "metadata": {},
     "output_type": "display_data"
    },
    {
     "name": "stdout",
     "output_type": "stream",
     "text": [
      "accuracy: 0.9087198596358412\n",
      "Epoch 34:\n"
     ]
    },
    {
     "data": {
      "application/vnd.jupyter.widget-view+json": {
       "model_id": "ded0eae37c5641fd8fd87158f014a464",
       "version_major": 2,
       "version_minor": 0
      },
      "text/plain": [
       "  0%|          | 0/5036 [00:00<?, ?it/s]"
      ]
     },
     "metadata": {},
     "output_type": "display_data"
    },
    {
     "data": {
      "application/vnd.jupyter.widget-view+json": {
       "model_id": "2727633f10d84d47a166326dfc7dce8c",
       "version_major": 2,
       "version_minor": 0
      },
      "text/plain": [
       "  0%|          | 0/315 [00:00<?, ?it/s]"
      ]
     },
     "metadata": {},
     "output_type": "display_data"
    },
    {
     "name": "stdout",
     "output_type": "stream",
     "text": [
      "accuracy: 0.9093326342015082\n",
      "Epoch 35:\n"
     ]
    },
    {
     "data": {
      "application/vnd.jupyter.widget-view+json": {
       "model_id": "e7646bb828da46b88eb609a110e42815",
       "version_major": 2,
       "version_minor": 0
      },
      "text/plain": [
       "  0%|          | 0/5036 [00:00<?, ?it/s]"
      ]
     },
     "metadata": {},
     "output_type": "display_data"
    },
    {
     "data": {
      "application/vnd.jupyter.widget-view+json": {
       "model_id": "0bdb40ab66384fbcaa76bb0ecc24bfc2",
       "version_major": 2,
       "version_minor": 0
      },
      "text/plain": [
       "  0%|          | 0/315 [00:00<?, ?it/s]"
      ]
     },
     "metadata": {},
     "output_type": "display_data"
    },
    {
     "name": "stdout",
     "output_type": "stream",
     "text": [
      "accuracy: 0.909577744027775\n"
     ]
    }
   ],
   "source": [
    "epoch = 26\n",
    "# changing alpha\n",
    "while epoch < 36:\n",
    "    print(f'Epoch {epoch}:')\n",
    "    train_epoch(train_loader, val_loader, model, optim, loss_fn, alpha = 0.9)\n",
    "    accuracy = run_validation(val_loader, model)\n",
    "    print(f'accuracy: {accuracy}')\n",
    "    if epoch % 5 == 0:\n",
    "        torch.save(model.state_dict(), f'arch2_aug_epoch{epoch}.pth')\n",
    "    epoch += 1"
   ]
  },
  {
   "cell_type": "code",
   "execution_count": 68,
   "id": "a348c38f",
   "metadata": {},
   "outputs": [
    {
     "name": "stdout",
     "output_type": "stream",
     "text": [
      "Epoch 36:\n"
     ]
    },
    {
     "data": {
      "application/vnd.jupyter.widget-view+json": {
       "model_id": "4378b49ed1d74bad9837b2d3fcd617ce",
       "version_major": 2,
       "version_minor": 0
      },
      "text/plain": [
       "  0%|          | 0/5036 [00:00<?, ?it/s]"
      ]
     },
     "metadata": {},
     "output_type": "display_data"
    },
    {
     "data": {
      "application/vnd.jupyter.widget-view+json": {
       "model_id": "e208d56283d74ee4a76616e5e10daed6",
       "version_major": 2,
       "version_minor": 0
      },
      "text/plain": [
       "  0%|          | 0/315 [00:00<?, ?it/s]"
      ]
     },
     "metadata": {},
     "output_type": "display_data"
    },
    {
     "name": "stdout",
     "output_type": "stream",
     "text": [
      "accuracy: 0.9115882651343683\n",
      "Epoch 37:\n"
     ]
    },
    {
     "data": {
      "application/vnd.jupyter.widget-view+json": {
       "model_id": "f98fe6fab24342849ae092d99e75f131",
       "version_major": 2,
       "version_minor": 0
      },
      "text/plain": [
       "  0%|          | 0/5036 [00:00<?, ?it/s]"
      ]
     },
     "metadata": {},
     "output_type": "display_data"
    },
    {
     "data": {
      "application/vnd.jupyter.widget-view+json": {
       "model_id": "c4d6a93f0236403ab23c3b9fd8895c78",
       "version_major": 2,
       "version_minor": 0
      },
      "text/plain": [
       "  0%|          | 0/315 [00:00<?, ?it/s]"
      ]
     },
     "metadata": {},
     "output_type": "display_data"
    },
    {
     "name": "stdout",
     "output_type": "stream",
     "text": [
      "accuracy: 0.9138345880991423\n",
      "Epoch 38:\n"
     ]
    },
    {
     "data": {
      "application/vnd.jupyter.widget-view+json": {
       "model_id": "c24a227f47a34482839ba88635610625",
       "version_major": 2,
       "version_minor": 0
      },
      "text/plain": [
       "  0%|          | 0/5036 [00:00<?, ?it/s]"
      ]
     },
     "metadata": {},
     "output_type": "display_data"
    },
    {
     "data": {
      "application/vnd.jupyter.widget-view+json": {
       "model_id": "9bb065640c6c4eeb948250dacf2e4e41",
       "version_major": 2,
       "version_minor": 0
      },
      "text/plain": [
       "  0%|          | 0/315 [00:00<?, ?it/s]"
      ]
     },
     "metadata": {},
     "output_type": "display_data"
    },
    {
     "name": "stdout",
     "output_type": "stream",
     "text": [
      "accuracy: 0.9123220432851542\n",
      "Epoch 39:\n"
     ]
    },
    {
     "data": {
      "application/vnd.jupyter.widget-view+json": {
       "model_id": "ce315f06a06342ddbe9e0d87d8af07b8",
       "version_major": 2,
       "version_minor": 0
      },
      "text/plain": [
       "  0%|          | 0/5036 [00:00<?, ?it/s]"
      ]
     },
     "metadata": {},
     "output_type": "display_data"
    },
    {
     "data": {
      "application/vnd.jupyter.widget-view+json": {
       "model_id": "aec4052a13df4a7e829c1c7f586e3a67",
       "version_major": 2,
       "version_minor": 0
      },
      "text/plain": [
       "  0%|          | 0/315 [00:00<?, ?it/s]"
      ]
     },
     "metadata": {},
     "output_type": "display_data"
    },
    {
     "name": "stdout",
     "output_type": "stream",
     "text": [
      "accuracy: 0.9059522904582468\n",
      "Epoch 40:\n"
     ]
    },
    {
     "data": {
      "application/vnd.jupyter.widget-view+json": {
       "model_id": "54a6184202654affbdd4bb3760938459",
       "version_major": 2,
       "version_minor": 0
      },
      "text/plain": [
       "  0%|          | 0/5036 [00:00<?, ?it/s]"
      ]
     },
     "metadata": {},
     "output_type": "display_data"
    },
    {
     "data": {
      "application/vnd.jupyter.widget-view+json": {
       "model_id": "bc4efd31ffd34f23b186a206c96c099e",
       "version_major": 2,
       "version_minor": 0
      },
      "text/plain": [
       "  0%|          | 0/315 [00:00<?, ?it/s]"
      ]
     },
     "metadata": {},
     "output_type": "display_data"
    },
    {
     "name": "stdout",
     "output_type": "stream",
     "text": [
      "accuracy: 0.9130992586203419\n",
      "Epoch 41:\n"
     ]
    },
    {
     "data": {
      "application/vnd.jupyter.widget-view+json": {
       "model_id": "b4218b077f164f6fbf231cbd4fb7ceee",
       "version_major": 2,
       "version_minor": 0
      },
      "text/plain": [
       "  0%|          | 0/5036 [00:00<?, ?it/s]"
      ]
     },
     "metadata": {},
     "output_type": "display_data"
    },
    {
     "data": {
      "application/vnd.jupyter.widget-view+json": {
       "model_id": "030310cc6af3412a802f472f8e262b55",
       "version_major": 2,
       "version_minor": 0
      },
      "text/plain": [
       "  0%|          | 0/315 [00:00<?, ?it/s]"
      ]
     },
     "metadata": {},
     "output_type": "display_data"
    },
    {
     "name": "stdout",
     "output_type": "stream",
     "text": [
      "accuracy: 0.9135103605441438\n",
      "Epoch 42:\n"
     ]
    },
    {
     "data": {
      "application/vnd.jupyter.widget-view+json": {
       "model_id": "efa97f5a908640bba2fe7c97c0f4d839",
       "version_major": 2,
       "version_minor": 0
      },
      "text/plain": [
       "  0%|          | 0/5036 [00:00<?, ?it/s]"
      ]
     },
     "metadata": {},
     "output_type": "display_data"
    },
    {
     "data": {
      "application/vnd.jupyter.widget-view+json": {
       "model_id": "005cccf8fbfe4b99b79b3479b8a7765f",
       "version_major": 2,
       "version_minor": 0
      },
      "text/plain": [
       "  0%|          | 0/315 [00:00<?, ?it/s]"
      ]
     },
     "metadata": {},
     "output_type": "display_data"
    },
    {
     "name": "stdout",
     "output_type": "stream",
     "text": [
      "accuracy: 0.9121079600191744\n",
      "Epoch 43:\n"
     ]
    },
    {
     "data": {
      "application/vnd.jupyter.widget-view+json": {
       "model_id": "5c3c58348661476eaa03195d74052100",
       "version_major": 2,
       "version_minor": 0
      },
      "text/plain": [
       "  0%|          | 0/5036 [00:00<?, ?it/s]"
      ]
     },
     "metadata": {},
     "output_type": "display_data"
    },
    {
     "data": {
      "application/vnd.jupyter.widget-view+json": {
       "model_id": "49970e2ccf5546eb913c0a317fe6b50d",
       "version_major": 2,
       "version_minor": 0
      },
      "text/plain": [
       "  0%|          | 0/315 [00:00<?, ?it/s]"
      ]
     },
     "metadata": {},
     "output_type": "display_data"
    },
    {
     "name": "stdout",
     "output_type": "stream",
     "text": [
      "accuracy: 0.9159862800550411\n",
      "Epoch 44:\n"
     ]
    },
    {
     "data": {
      "application/vnd.jupyter.widget-view+json": {
       "model_id": "899d009b52d64b10bddad05493dd6122",
       "version_major": 2,
       "version_minor": 0
      },
      "text/plain": [
       "  0%|          | 0/5036 [00:00<?, ?it/s]"
      ]
     },
     "metadata": {},
     "output_type": "display_data"
    },
    {
     "data": {
      "application/vnd.jupyter.widget-view+json": {
       "model_id": "f766a8e9ff514ebc933b1eda1c328971",
       "version_major": 2,
       "version_minor": 0
      },
      "text/plain": [
       "  0%|          | 0/315 [00:00<?, ?it/s]"
      ]
     },
     "metadata": {},
     "output_type": "display_data"
    },
    {
     "name": "stdout",
     "output_type": "stream",
     "text": [
      "accuracy: 0.9156930790603296\n",
      "Epoch 45:\n"
     ]
    },
    {
     "data": {
      "application/vnd.jupyter.widget-view+json": {
       "model_id": "81081409928942358902cf7d1b6c8a8d",
       "version_major": 2,
       "version_minor": 0
      },
      "text/plain": [
       "  0%|          | 0/5036 [00:00<?, ?it/s]"
      ]
     },
     "metadata": {},
     "output_type": "display_data"
    },
    {
     "data": {
      "application/vnd.jupyter.widget-view+json": {
       "model_id": "68bb27fbb6bb49339b801fc754b191f9",
       "version_major": 2,
       "version_minor": 0
      },
      "text/plain": [
       "  0%|          | 0/315 [00:00<?, ?it/s]"
      ]
     },
     "metadata": {},
     "output_type": "display_data"
    },
    {
     "name": "stdout",
     "output_type": "stream",
     "text": [
      "accuracy: 0.916755738750157\n",
      "Epoch 46:\n"
     ]
    },
    {
     "data": {
      "application/vnd.jupyter.widget-view+json": {
       "model_id": "5571bc072d57474a9f1b1b355eda12f8",
       "version_major": 2,
       "version_minor": 0
      },
      "text/plain": [
       "  0%|          | 0/5036 [00:00<?, ?it/s]"
      ]
     },
     "metadata": {},
     "output_type": "display_data"
    },
    {
     "data": {
      "application/vnd.jupyter.widget-view+json": {
       "model_id": "f9953f58f14d4fe693ec38c52146022e",
       "version_major": 2,
       "version_minor": 0
      },
      "text/plain": [
       "  0%|          | 0/315 [00:00<?, ?it/s]"
      ]
     },
     "metadata": {},
     "output_type": "display_data"
    },
    {
     "name": "stdout",
     "output_type": "stream",
     "text": [
      "accuracy: 0.9123468645333838\n",
      "Epoch 47:\n"
     ]
    },
    {
     "data": {
      "application/vnd.jupyter.widget-view+json": {
       "model_id": "f7d202806c46497db224f8cf8a3007c4",
       "version_major": 2,
       "version_minor": 0
      },
      "text/plain": [
       "  0%|          | 0/5036 [00:00<?, ?it/s]"
      ]
     },
     "metadata": {},
     "output_type": "display_data"
    },
    {
     "data": {
      "application/vnd.jupyter.widget-view+json": {
       "model_id": "1637145a234c412db09147628adf1430",
       "version_major": 2,
       "version_minor": 0
      },
      "text/plain": [
       "  0%|          | 0/315 [00:00<?, ?it/s]"
      ]
     },
     "metadata": {},
     "output_type": "display_data"
    },
    {
     "name": "stdout",
     "output_type": "stream",
     "text": [
      "accuracy: 0.916518385563962\n",
      "Epoch 48:\n"
     ]
    },
    {
     "data": {
      "application/vnd.jupyter.widget-view+json": {
       "model_id": "981bcd8183c844fbaaa82237204441b5",
       "version_major": 2,
       "version_minor": 0
      },
      "text/plain": [
       "  0%|          | 0/5036 [00:00<?, ?it/s]"
      ]
     },
     "metadata": {},
     "output_type": "display_data"
    },
    {
     "data": {
      "application/vnd.jupyter.widget-view+json": {
       "model_id": "9a63830ed404427a8d9dd1cd7b6b4181",
       "version_major": 2,
       "version_minor": 0
      },
      "text/plain": [
       "  0%|          | 0/315 [00:00<?, ?it/s]"
      ]
     },
     "metadata": {},
     "output_type": "display_data"
    },
    {
     "name": "stdout",
     "output_type": "stream",
     "text": [
      "accuracy: 0.9161181429362606\n",
      "Epoch 49:\n"
     ]
    },
    {
     "data": {
      "application/vnd.jupyter.widget-view+json": {
       "model_id": "ec6ccced35994debb9dc2ab8e0faef66",
       "version_major": 2,
       "version_minor": 0
      },
      "text/plain": [
       "  0%|          | 0/5036 [00:00<?, ?it/s]"
      ]
     },
     "metadata": {},
     "output_type": "display_data"
    },
    {
     "data": {
      "application/vnd.jupyter.widget-view+json": {
       "model_id": "f1810112f1d645e1b13264f9bde6e7be",
       "version_major": 2,
       "version_minor": 0
      },
      "text/plain": [
       "  0%|          | 0/315 [00:00<?, ?it/s]"
      ]
     },
     "metadata": {},
     "output_type": "display_data"
    },
    {
     "name": "stdout",
     "output_type": "stream",
     "text": [
      "accuracy: 0.9174569390126418\n",
      "Epoch 50:\n"
     ]
    },
    {
     "data": {
      "application/vnd.jupyter.widget-view+json": {
       "model_id": "b293bf1d56b54f1cb328cc0fb299265f",
       "version_major": 2,
       "version_minor": 0
      },
      "text/plain": [
       "  0%|          | 0/5036 [00:00<?, ?it/s]"
      ]
     },
     "metadata": {},
     "output_type": "display_data"
    },
    {
     "data": {
      "application/vnd.jupyter.widget-view+json": {
       "model_id": "84bd2921712245b09e6dce849f741db0",
       "version_major": 2,
       "version_minor": 0
      },
      "text/plain": [
       "  0%|          | 0/315 [00:00<?, ?it/s]"
      ]
     },
     "metadata": {},
     "output_type": "display_data"
    },
    {
     "name": "stdout",
     "output_type": "stream",
     "text": [
      "accuracy: 0.9162732757376952\n"
     ]
    }
   ],
   "source": [
    "epoch = 36\n",
    "# changing alpha\n",
    "while epoch < 51:\n",
    "    print(f'Epoch {epoch}:')\n",
    "    train_epoch(train_loader, val_loader, model, optim, loss_fn, alpha = 1.0)\n",
    "    accuracy = run_validation(val_loader, model)\n",
    "    print(f'accuracy: {accuracy}')\n",
    "    if epoch % 5 == 0:\n",
    "        torch.save(model.state_dict(), f'arch2_aug_epoch{epoch}.pth')\n",
    "    epoch += 1"
   ]
  },
  {
   "cell_type": "code",
   "execution_count": 17,
   "id": "882ca314",
   "metadata": {},
   "outputs": [
    {
     "data": {
      "text/plain": [
       "<All keys matched successfully>"
      ]
     },
     "execution_count": 17,
     "metadata": {},
     "output_type": "execute_result"
    }
   ],
   "source": [
    "model.load_state_dict(torch.load(f'arch2_aug_epoch50.pth'))"
   ]
  },
  {
   "cell_type": "code",
   "execution_count": 21,
   "id": "a985afc5",
   "metadata": {},
   "outputs": [],
   "source": [
    "to_one_shape = pad_prune(128, 128)\n",
    "\n",
    "train_transforms = transforms.Compose([\n",
    "    to_one_shape,\n",
    "    transforms.ToTensor(),\n",
    "    transforms.RandomChoice([\n",
    "        transforms.RandomPerspective(distortion_scale = 0.2, p = 0.7),  \n",
    "        transforms.GaussianBlur(kernel_size = 5),\n",
    "        transforms.RandomRotation(degrees=15)\n",
    "    \n",
    "    ]),\n",
    "    \n",
    "    transforms.ColorJitter(),    \n",
    "    to_zero_one()\n",
    "])\n",
    "\n",
    "val_transforms = transforms.Compose([\n",
    "    to_one_shape,\n",
    "    transforms.ToTensor()\n",
    "])"
   ]
  },
  {
   "cell_type": "code",
   "execution_count": 37,
   "id": "f7906500",
   "metadata": {},
   "outputs": [],
   "source": [
    "train_dataset = HWDBDataset(train_helper, val_transforms) # no agument\n",
    "val_dataset = HWDBDataset(val_helper, val_transforms)"
   ]
  },
  {
   "cell_type": "code",
   "execution_count": 38,
   "id": "480d0e6b",
   "metadata": {},
   "outputs": [],
   "source": [
    "train_loader = DataLoader(train_dataset, batch_size=512, shuffle=True, drop_last=True, \n",
    "                        num_workers=8, persistent_workers = True)\n",
    "val_loader = DataLoader(val_dataset, batch_size=2048, shuffle=False, num_workers=8, \n",
    "                        persistent_workers = True)"
   ]
  },
  {
   "cell_type": "code",
   "execution_count": 24,
   "id": "2c34c94e",
   "metadata": {},
   "outputs": [],
   "source": [
    "test_path = r'/DATA/ichuviliaeva/ocr_data/test.lmdb'\n",
    "pred_path = './pred.txt'\n",
    "\n",
    "test_reader = LMDBReader(test_path)\n",
    "test_reader.open()\n",
    "test_helper = HWDBDatasetHelper(test_reader, prefix='Test')"
   ]
  },
  {
   "cell_type": "code",
   "execution_count": 25,
   "id": "1353f3a1",
   "metadata": {},
   "outputs": [],
   "source": [
    "test_dataset = HWDBDataset(test_helper, to_one_shape)\n",
    "test_loader = DataLoader(test_dataset, batch_size=2048, shuffle=False, num_workers=8)"
   ]
  },
  {
   "cell_type": "code",
   "execution_count": 27,
   "id": "2a6056c1",
   "metadata": {},
   "outputs": [],
   "source": [
    "from pathlib import Path\n",
    "\n",
    "def evaluate(gt_path, pred_path):\n",
    "    gt = dict()\n",
    "    with open(gt_path) as gt_f:\n",
    "        for line in gt_f:\n",
    "            name, cls = line.strip().split()\n",
    "            gt[name] = cls\n",
    "    \n",
    "    n_good = 0\n",
    "    n_all = len(gt)\n",
    "    with open(pred_path) as pred_f:\n",
    "        for line in pred_f:\n",
    "            name, cls = line.strip().split()\n",
    "            if cls == gt[name]:\n",
    "                n_good += 1\n",
    "    \n",
    "    return n_good / n_all\n",
    "\n",
    "\n",
    "def _run_evaluation():\n",
    "    base = '.'\n",
    "    pred_path = base + '/pred.txt'\n",
    "    score = evaluate(gt_path, pred_path)\n",
    "    print('Accuracy = {:1.4f}'.format(score))"
   ]
  },
  {
   "cell_type": "code",
   "execution_count": 28,
   "id": "923d3ed7",
   "metadata": {},
   "outputs": [
    {
     "name": "stdout",
     "output_type": "stream",
     "text": [
      "Epoch 51:\n"
     ]
    },
    {
     "data": {
      "application/vnd.jupyter.widget-view+json": {
       "model_id": "01ae3bd7aaf64e519bb816d63253c2e7",
       "version_major": 2,
       "version_minor": 0
      },
      "text/plain": [
       "  0%|          | 0/5036 [00:00<?, ?it/s]"
      ]
     },
     "metadata": {},
     "output_type": "display_data"
    },
    {
     "data": {
      "application/vnd.jupyter.widget-view+json": {
       "model_id": "ce6255135bc34fe1b15d3aaae0eb2358",
       "version_major": 2,
       "version_minor": 0
      },
      "text/plain": [
       "  0%|          | 0/315 [00:00<?, ?it/s]"
      ]
     },
     "metadata": {},
     "output_type": "display_data"
    },
    {
     "name": "stdout",
     "output_type": "stream",
     "text": [
      "accuracy: 0.911510698733651\n",
      "Epoch 52:\n"
     ]
    },
    {
     "data": {
      "application/vnd.jupyter.widget-view+json": {
       "model_id": "905d3fc3b318480fb1dabbad51fead65",
       "version_major": 2,
       "version_minor": 0
      },
      "text/plain": [
       "  0%|          | 0/5036 [00:00<?, ?it/s]"
      ]
     },
     "metadata": {},
     "output_type": "display_data"
    },
    {
     "data": {
      "application/vnd.jupyter.widget-view+json": {
       "model_id": "1db65b4eda564ffba44e94e5bd1ee64b",
       "version_major": 2,
       "version_minor": 0
      },
      "text/plain": [
       "  0%|          | 0/315 [00:00<?, ?it/s]"
      ]
     },
     "metadata": {},
     "output_type": "display_data"
    },
    {
     "name": "stdout",
     "output_type": "stream",
     "text": [
      "accuracy: 0.919458152151149\n",
      "Epoch 53:\n"
     ]
    },
    {
     "data": {
      "application/vnd.jupyter.widget-view+json": {
       "model_id": "34cfef981e9d4a6e916e2f656a0afdb3",
       "version_major": 2,
       "version_minor": 0
      },
      "text/plain": [
       "  0%|          | 0/5036 [00:00<?, ?it/s]"
      ]
     },
     "metadata": {},
     "output_type": "display_data"
    },
    {
     "data": {
      "application/vnd.jupyter.widget-view+json": {
       "model_id": "de41cc10f8b74c3cabddc852a14fb6a5",
       "version_major": 2,
       "version_minor": 0
      },
      "text/plain": [
       "  0%|          | 0/315 [00:00<?, ?it/s]"
      ]
     },
     "metadata": {},
     "output_type": "display_data"
    },
    {
     "name": "stdout",
     "output_type": "stream",
     "text": [
      "accuracy: 0.9211428943747295\n",
      "Epoch 54:\n"
     ]
    },
    {
     "data": {
      "application/vnd.jupyter.widget-view+json": {
       "model_id": "b7f48a70da084f6e93203f51399eeb16",
       "version_major": 2,
       "version_minor": 0
      },
      "text/plain": [
       "  0%|          | 0/5036 [00:00<?, ?it/s]"
      ]
     },
     "metadata": {},
     "output_type": "display_data"
    },
    {
     "data": {
      "application/vnd.jupyter.widget-view+json": {
       "model_id": "aa9a6cebc9b6418db235078599d6a186",
       "version_major": 2,
       "version_minor": 0
      },
      "text/plain": [
       "  0%|          | 0/315 [00:00<?, ?it/s]"
      ]
     },
     "metadata": {},
     "output_type": "display_data"
    },
    {
     "name": "stdout",
     "output_type": "stream",
     "text": [
      "accuracy: 0.9202183028781789\n",
      "Epoch 55:\n"
     ]
    },
    {
     "data": {
      "application/vnd.jupyter.widget-view+json": {
       "model_id": "2790632fb1894b8a8a04eb2d29bdc3aa",
       "version_major": 2,
       "version_minor": 0
      },
      "text/plain": [
       "  0%|          | 0/5036 [00:00<?, ?it/s]"
      ]
     },
     "metadata": {},
     "output_type": "display_data"
    },
    {
     "data": {
      "application/vnd.jupyter.widget-view+json": {
       "model_id": "6ead6eec763b492cbb5a4e883c1c4d7c",
       "version_major": 2,
       "version_minor": 0
      },
      "text/plain": [
       "  0%|          | 0/315 [00:00<?, ?it/s]"
      ]
     },
     "metadata": {},
     "output_type": "display_data"
    },
    {
     "name": "stdout",
     "output_type": "stream",
     "text": [
      "accuracy: 0.9216362166832918\n"
     ]
    },
    {
     "data": {
      "application/vnd.jupyter.widget-view+json": {
       "model_id": "8ceda42b10f5416bace87746a65a406c",
       "version_major": 2,
       "version_minor": 0
      },
      "text/plain": [
       "  0%|          | 0/380 [00:00<?, ?it/s]"
      ]
     },
     "metadata": {},
     "output_type": "display_data"
    },
    {
     "name": "stdout",
     "output_type": "stream",
     "text": [
      "Accuracy = 0.8950\n",
      "Epoch 56:\n"
     ]
    },
    {
     "data": {
      "application/vnd.jupyter.widget-view+json": {
       "model_id": "35141c6328194317936fa1260a66e44f",
       "version_major": 2,
       "version_minor": 0
      },
      "text/plain": [
       "  0%|          | 0/5036 [00:00<?, ?it/s]"
      ]
     },
     "metadata": {},
     "output_type": "display_data"
    },
    {
     "ename": "KeyboardInterrupt",
     "evalue": "",
     "output_type": "error",
     "traceback": [
      "\u001b[0;31m---------------------------------------------------------------------------\u001b[0m",
      "\u001b[0;31mKeyboardInterrupt\u001b[0m                         Traceback (most recent call last)",
      "Cell \u001b[0;32mIn[28], line 5\u001b[0m\n\u001b[1;32m      3\u001b[0m \u001b[38;5;28;01mwhile\u001b[39;00m epoch \u001b[38;5;241m<\u001b[39m \u001b[38;5;241m61\u001b[39m:\n\u001b[1;32m      4\u001b[0m     \u001b[38;5;28mprint\u001b[39m(\u001b[38;5;124mf\u001b[39m\u001b[38;5;124m'\u001b[39m\u001b[38;5;124mEpoch \u001b[39m\u001b[38;5;132;01m{\u001b[39;00mepoch\u001b[38;5;132;01m}\u001b[39;00m\u001b[38;5;124m:\u001b[39m\u001b[38;5;124m'\u001b[39m)\n\u001b[0;32m----> 5\u001b[0m     \u001b[43mtrain_epoch\u001b[49m\u001b[43m(\u001b[49m\u001b[43mtrain_loader\u001b[49m\u001b[43m,\u001b[49m\u001b[43m \u001b[49m\u001b[43mval_loader\u001b[49m\u001b[43m,\u001b[49m\u001b[43m \u001b[49m\u001b[43mmodel\u001b[49m\u001b[43m,\u001b[49m\u001b[43m \u001b[49m\u001b[43moptim\u001b[49m\u001b[43m,\u001b[49m\u001b[43m \u001b[49m\u001b[43mloss_fn\u001b[49m\u001b[43m,\u001b[49m\u001b[43m \u001b[49m\u001b[43malpha\u001b[49m\u001b[43m \u001b[49m\u001b[38;5;241;43m=\u001b[39;49m\u001b[43m \u001b[49m\u001b[38;5;241;43m1.0\u001b[39;49m\u001b[43m)\u001b[49m\n\u001b[1;32m      6\u001b[0m     accuracy \u001b[38;5;241m=\u001b[39m run_validation(val_loader, model)\n\u001b[1;32m      7\u001b[0m     \u001b[38;5;28mprint\u001b[39m(\u001b[38;5;124mf\u001b[39m\u001b[38;5;124m'\u001b[39m\u001b[38;5;124maccuracy: \u001b[39m\u001b[38;5;132;01m{\u001b[39;00maccuracy\u001b[38;5;132;01m}\u001b[39;00m\u001b[38;5;124m'\u001b[39m)\n",
      "Cell \u001b[0;32mIn[16], line 26\u001b[0m, in \u001b[0;36mtrain_epoch\u001b[0;34m(train_loader, val_loader, model, optim, loss_fn, alpha)\u001b[0m\n\u001b[1;32m     24\u001b[0m \u001b[38;5;28;01mdef\u001b[39;00m \u001b[38;5;21mtrain_epoch\u001b[39m(train_loader: DataLoader, val_loader: DataLoader, model: nn\u001b[38;5;241m.\u001b[39mModule, optim, loss_fn, alpha \u001b[38;5;241m=\u001b[39m \u001b[38;5;241m1.0\u001b[39m):\n\u001b[1;32m     25\u001b[0m     \u001b[38;5;28;01mfor\u001b[39;00m batch, (X, y) \u001b[38;5;129;01min\u001b[39;00m \u001b[38;5;28menumerate\u001b[39m(tqdm(train_loader)):\n\u001b[0;32m---> 26\u001b[0m         \u001b[43mmodel\u001b[49m\u001b[38;5;241;43m.\u001b[39;49m\u001b[43mtrain\u001b[49m\u001b[43m(\u001b[49m\u001b[43m)\u001b[49m\n\u001b[1;32m     27\u001b[0m         features, logits \u001b[38;5;241m=\u001b[39m model(X\u001b[38;5;241m.\u001b[39mto(torch\u001b[38;5;241m.\u001b[39mfloat32)\u001b[38;5;241m.\u001b[39mcuda())\n\u001b[1;32m     28\u001b[0m         labels \u001b[38;5;241m=\u001b[39m y\u001b[38;5;241m.\u001b[39mto(torch\u001b[38;5;241m.\u001b[39mlong)\u001b[38;5;241m.\u001b[39mcuda()\n",
      "File \u001b[0;32m~/miniconda3/envs/is_project/lib/python3.9/site-packages/torch/nn/modules/module.py:1698\u001b[0m, in \u001b[0;36mModule.train\u001b[0;34m(self, mode)\u001b[0m\n\u001b[1;32m   1695\u001b[0m             \u001b[38;5;28;01mfor\u001b[39;00m m \u001b[38;5;129;01min\u001b[39;00m module\u001b[38;5;241m.\u001b[39mnamed_modules(memo, submodule_prefix, remove_duplicate):\n\u001b[1;32m   1696\u001b[0m                 \u001b[38;5;28;01myield\u001b[39;00m m\n\u001b[0;32m-> 1698\u001b[0m \u001b[38;5;28;01mdef\u001b[39;00m \u001b[38;5;21mtrain\u001b[39m(\u001b[38;5;28mself\u001b[39m: T, mode: \u001b[38;5;28mbool\u001b[39m \u001b[38;5;241m=\u001b[39m \u001b[38;5;28;01mTrue\u001b[39;00m) \u001b[38;5;241m-\u001b[39m\u001b[38;5;241m>\u001b[39m T:\n\u001b[1;32m   1699\u001b[0m \u001b[38;5;250m    \u001b[39m\u001b[38;5;124mr\u001b[39m\u001b[38;5;124;03m\"\"\"Sets the module in training mode.\u001b[39;00m\n\u001b[1;32m   1700\u001b[0m \n\u001b[1;32m   1701\u001b[0m \u001b[38;5;124;03m    This has any effect only on certain modules. See documentations of\u001b[39;00m\n\u001b[0;32m   (...)\u001b[0m\n\u001b[1;32m   1711\u001b[0m \u001b[38;5;124;03m        Module: self\u001b[39;00m\n\u001b[1;32m   1712\u001b[0m \u001b[38;5;124;03m    \"\"\"\u001b[39;00m\n\u001b[1;32m   1713\u001b[0m     \u001b[38;5;28;01mif\u001b[39;00m \u001b[38;5;129;01mnot\u001b[39;00m \u001b[38;5;28misinstance\u001b[39m(mode, \u001b[38;5;28mbool\u001b[39m):\n",
      "\u001b[0;31mKeyboardInterrupt\u001b[0m: "
     ]
    }
   ],
   "source": [
    "epoch = 51\n",
    "# changing alpha\n",
    "while epoch < 61:\n",
    "    print(f'Epoch {epoch}:')\n",
    "    train_epoch(train_loader, val_loader, model, optim, loss_fn, alpha = 1.0)\n",
    "    accuracy = run_validation(val_loader, model)\n",
    "    print(f'accuracy: {accuracy}')\n",
    "    if epoch % 5 == 0:\n",
    "        torch.save(model.state_dict(), f'arch2_aug_epoch{epoch}.pth')\n",
    "        \n",
    "        preds = []\n",
    "        model.eval()\n",
    "        with torch.no_grad():\n",
    "            for X, _ in tqdm(test_loader):\n",
    "                features, logits = model(X.unsqueeze(1).to(torch.float32).cuda())\n",
    "                classes = torch.argmax(logits, dim=1).cpu().numpy()\n",
    "                preds.extend(classes)\n",
    "                \n",
    "        with open(pred_path, 'w') as f_pred:\n",
    "            for idx, pred in enumerate(preds):\n",
    "                name = test_helper.namelist[idx]\n",
    "                cls = train_helper.vocabulary.class_by_index(pred)\n",
    "                print(name, cls, file=f_pred)\n",
    "        _run_evaluation()\n",
    "        \n",
    "    epoch += 1"
   ]
  },
  {
   "cell_type": "code",
   "execution_count": null,
   "id": "36e1c328",
   "metadata": {},
   "outputs": [],
   "source": []
  },
  {
   "cell_type": "code",
   "execution_count": 48,
   "id": "3915170f",
   "metadata": {},
   "outputs": [
    {
     "data": {
      "text/plain": [
       "<All keys matched successfully>"
      ]
     },
     "execution_count": 48,
     "metadata": {},
     "output_type": "execute_result"
    }
   ],
   "source": [
    "model.load_state_dict(torch.load(f'arch2_aug_epoch55.pth'))"
   ]
  },
  {
   "cell_type": "code",
   "execution_count": 49,
   "id": "e0162b24",
   "metadata": {},
   "outputs": [
    {
     "name": "stdout",
     "output_type": "stream",
     "text": [
      "Epoch 56:\n"
     ]
    },
    {
     "data": {
      "application/vnd.jupyter.widget-view+json": {
       "model_id": "41ce13bc85b2466c81de72710c05881d",
       "version_major": 2,
       "version_minor": 0
      },
      "text/plain": [
       "  0%|          | 0/5036 [00:00<?, ?it/s]"
      ]
     },
     "metadata": {},
     "output_type": "display_data"
    },
    {
     "data": {
      "application/vnd.jupyter.widget-view+json": {
       "model_id": "dd5965176f4d4436abef7bc1016911c3",
       "version_major": 2,
       "version_minor": 0
      },
      "text/plain": [
       "  0%|          | 0/315 [00:00<?, ?it/s]"
      ]
     },
     "metadata": {},
     "output_type": "display_data"
    },
    {
     "name": "stdout",
     "output_type": "stream",
     "text": [
      "accuracy: 0.9214190307612832\n",
      "Epoch 57:\n"
     ]
    },
    {
     "data": {
      "application/vnd.jupyter.widget-view+json": {
       "model_id": "caf08f2fc03c435980fce8325f40fb34",
       "version_major": 2,
       "version_minor": 0
      },
      "text/plain": [
       "  0%|          | 0/5036 [00:00<?, ?it/s]"
      ]
     },
     "metadata": {},
     "output_type": "display_data"
    },
    {
     "data": {
      "application/vnd.jupyter.widget-view+json": {
       "model_id": "a50ff1843367447ea922884bc71afb9f",
       "version_major": 2,
       "version_minor": 0
      },
      "text/plain": [
       "  0%|          | 0/315 [00:00<?, ?it/s]"
      ]
     },
     "metadata": {},
     "output_type": "display_data"
    },
    {
     "name": "stdout",
     "output_type": "stream",
     "text": [
      "accuracy: 0.92093967040485\n",
      "Epoch 58:\n"
     ]
    },
    {
     "data": {
      "application/vnd.jupyter.widget-view+json": {
       "model_id": "b71be013d856469ea1f3b342406baa20",
       "version_major": 2,
       "version_minor": 0
      },
      "text/plain": [
       "  0%|          | 0/5036 [00:00<?, ?it/s]"
      ]
     },
     "metadata": {},
     "output_type": "display_data"
    },
    {
     "data": {
      "application/vnd.jupyter.widget-view+json": {
       "model_id": "852911091764448ca333aea248330b23",
       "version_major": 2,
       "version_minor": 0
      },
      "text/plain": [
       "  0%|          | 0/315 [00:00<?, ?it/s]"
      ]
     },
     "metadata": {},
     "output_type": "display_data"
    },
    {
     "name": "stdout",
     "output_type": "stream",
     "text": [
      "accuracy: 0.9235598634210817\n",
      "Epoch 59:\n"
     ]
    },
    {
     "data": {
      "application/vnd.jupyter.widget-view+json": {
       "model_id": "42fe8f61c4994aaabef2604f33a6799c",
       "version_major": 2,
       "version_minor": 0
      },
      "text/plain": [
       "  0%|          | 0/5036 [00:00<?, ?it/s]"
      ]
     },
     "metadata": {},
     "output_type": "display_data"
    },
    {
     "data": {
      "application/vnd.jupyter.widget-view+json": {
       "model_id": "68b01c0a6d3d46688135dc7ed7027838",
       "version_major": 2,
       "version_minor": 0
      },
      "text/plain": [
       "  0%|          | 0/315 [00:00<?, ?it/s]"
      ]
     },
     "metadata": {},
     "output_type": "display_data"
    },
    {
     "name": "stdout",
     "output_type": "stream",
     "text": [
      "accuracy: 0.9237491254388319\n",
      "Epoch 60:\n"
     ]
    },
    {
     "data": {
      "application/vnd.jupyter.widget-view+json": {
       "model_id": "a63cc3583bb24c0ba16ff3e92899f85e",
       "version_major": 2,
       "version_minor": 0
      },
      "text/plain": [
       "  0%|          | 0/5036 [00:00<?, ?it/s]"
      ]
     },
     "metadata": {},
     "output_type": "display_data"
    },
    {
     "data": {
      "application/vnd.jupyter.widget-view+json": {
       "model_id": "90bc462c674a4cc48df1df835ec0a9d2",
       "version_major": 2,
       "version_minor": 0
      },
      "text/plain": [
       "  0%|          | 0/315 [00:00<?, ?it/s]"
      ]
     },
     "metadata": {},
     "output_type": "display_data"
    },
    {
     "name": "stdout",
     "output_type": "stream",
     "text": [
      "accuracy: 0.9226476825486458\n"
     ]
    },
    {
     "data": {
      "application/vnd.jupyter.widget-view+json": {
       "model_id": "b9ed65b7a46f45f0a96cc711d1cf224c",
       "version_major": 2,
       "version_minor": 0
      },
      "text/plain": [
       "  0%|          | 0/380 [00:00<?, ?it/s]"
      ]
     },
     "metadata": {},
     "output_type": "display_data"
    },
    {
     "name": "stdout",
     "output_type": "stream",
     "text": [
      "Accuracy = 0.8964\n",
      "Epoch 61:\n"
     ]
    },
    {
     "data": {
      "application/vnd.jupyter.widget-view+json": {
       "model_id": "09ca206d5cc744c7b73e393430186f67",
       "version_major": 2,
       "version_minor": 0
      },
      "text/plain": [
       "  0%|          | 0/5036 [00:00<?, ?it/s]"
      ]
     },
     "metadata": {},
     "output_type": "display_data"
    },
    {
     "data": {
      "application/vnd.jupyter.widget-view+json": {
       "model_id": "dbadb1bc76214f2182cf2c3a7e50fc05",
       "version_major": 2,
       "version_minor": 0
      },
      "text/plain": [
       "  0%|          | 0/315 [00:00<?, ?it/s]"
      ]
     },
     "metadata": {},
     "output_type": "display_data"
    },
    {
     "name": "stdout",
     "output_type": "stream",
     "text": [
      "accuracy: 0.9218130680769272\n",
      "Epoch 62:\n"
     ]
    },
    {
     "data": {
      "application/vnd.jupyter.widget-view+json": {
       "model_id": "5075cfce97154ccead09eea188bfcef6",
       "version_major": 2,
       "version_minor": 0
      },
      "text/plain": [
       "  0%|          | 0/5036 [00:00<?, ?it/s]"
      ]
     },
     "metadata": {},
     "output_type": "display_data"
    },
    {
     "data": {
      "application/vnd.jupyter.widget-view+json": {
       "model_id": "fc4a52f90e4c456b9c13b0b27c926f4a",
       "version_major": 2,
       "version_minor": 0
      },
      "text/plain": [
       "  0%|          | 0/315 [00:00<?, ?it/s]"
      ]
     },
     "metadata": {},
     "output_type": "display_data"
    },
    {
     "name": "stdout",
     "output_type": "stream",
     "text": [
      "accuracy: 0.9225515002117562\n",
      "Epoch 63:\n"
     ]
    },
    {
     "data": {
      "application/vnd.jupyter.widget-view+json": {
       "model_id": "5f718d0126b041d182d1a8c113e8ebaa",
       "version_major": 2,
       "version_minor": 0
      },
      "text/plain": [
       "  0%|          | 0/5036 [00:00<?, ?it/s]"
      ]
     },
     "metadata": {},
     "output_type": "display_data"
    },
    {
     "data": {
      "application/vnd.jupyter.widget-view+json": {
       "model_id": "787e3ba220d44ad49ff7f90449342d77",
       "version_major": 2,
       "version_minor": 0
      },
      "text/plain": [
       "  0%|          | 0/315 [00:00<?, ?it/s]"
      ]
     },
     "metadata": {},
     "output_type": "display_data"
    },
    {
     "name": "stdout",
     "output_type": "stream",
     "text": [
      "accuracy: 0.9234171412437617\n",
      "Epoch 64:\n"
     ]
    },
    {
     "data": {
      "application/vnd.jupyter.widget-view+json": {
       "model_id": "f6850d3ff298491a96f4dc18327f30e4",
       "version_major": 2,
       "version_minor": 0
      },
      "text/plain": [
       "  0%|          | 0/5036 [00:00<?, ?it/s]"
      ]
     },
     "metadata": {},
     "output_type": "display_data"
    },
    {
     "data": {
      "application/vnd.jupyter.widget-view+json": {
       "model_id": "28beb70e8ac046ebb46fb3a86cacdd95",
       "version_major": 2,
       "version_minor": 0
      },
      "text/plain": [
       "  0%|          | 0/315 [00:00<?, ?it/s]"
      ]
     },
     "metadata": {},
     "output_type": "display_data"
    },
    {
     "name": "stdout",
     "output_type": "stream",
     "text": [
      "accuracy: 0.920818666819731\n",
      "Epoch 65:\n"
     ]
    },
    {
     "data": {
      "application/vnd.jupyter.widget-view+json": {
       "model_id": "677e46246e584608a311b90890061238",
       "version_major": 2,
       "version_minor": 0
      },
      "text/plain": [
       "  0%|          | 0/5036 [00:00<?, ?it/s]"
      ]
     },
     "metadata": {},
     "output_type": "display_data"
    },
    {
     "data": {
      "application/vnd.jupyter.widget-view+json": {
       "model_id": "7a709598320c4b609e748f84cd70c5be",
       "version_major": 2,
       "version_minor": 0
      },
      "text/plain": [
       "  0%|          | 0/315 [00:00<?, ?it/s]"
      ]
     },
     "metadata": {},
     "output_type": "display_data"
    },
    {
     "name": "stdout",
     "output_type": "stream",
     "text": [
      "accuracy: 0.9197544558018892\n"
     ]
    },
    {
     "data": {
      "application/vnd.jupyter.widget-view+json": {
       "model_id": "8607fed40d9d41d882aa0502799f37a6",
       "version_major": 2,
       "version_minor": 0
      },
      "text/plain": [
       "  0%|          | 0/380 [00:00<?, ?it/s]"
      ]
     },
     "metadata": {},
     "output_type": "display_data"
    },
    {
     "name": "stdout",
     "output_type": "stream",
     "text": [
      "Accuracy = 0.8991\n"
     ]
    }
   ],
   "source": [
    "epoch = 56\n",
    "# changing alpha\n",
    "while epoch < 66:\n",
    "    print(f'Epoch {epoch}:')\n",
    "    train_epoch(train_loader, val_loader, model, optim, loss_fn, alpha = 1.0)\n",
    "    accuracy = run_validation(val_loader, model)\n",
    "    print(f'accuracy: {accuracy}')\n",
    "    if epoch % 5 == 0:\n",
    "        torch.save(model.state_dict(), f'arch2_aug_epoch{epoch}.pth')\n",
    "        \n",
    "        preds = []\n",
    "        model.eval()\n",
    "        with torch.no_grad():\n",
    "            for X, _ in tqdm(test_loader):\n",
    "                features, logits = model(X.unsqueeze(1).to(torch.float32).cuda())\n",
    "                classes = torch.argmax(logits, dim=1).cpu().numpy()\n",
    "                preds.extend(classes)\n",
    "                \n",
    "        with open(pred_path, 'w') as f_pred:\n",
    "            for idx, pred in enumerate(preds):\n",
    "                name = test_helper.namelist[idx]\n",
    "                cls = train_helper.vocabulary.class_by_index(pred)\n",
    "                print(name, cls, file=f_pred)\n",
    "        _run_evaluation()\n",
    "        \n",
    "    epoch += 1"
   ]
  },
  {
   "cell_type": "code",
   "execution_count": 50,
   "id": "23c13590",
   "metadata": {},
   "outputs": [
    {
     "name": "stdout",
     "output_type": "stream",
     "text": [
      "Epoch 66:\n"
     ]
    },
    {
     "data": {
      "application/vnd.jupyter.widget-view+json": {
       "model_id": "97cfc04d090a4600b55b06804ef8c715",
       "version_major": 2,
       "version_minor": 0
      },
      "text/plain": [
       "  0%|          | 0/5036 [00:00<?, ?it/s]"
      ]
     },
     "metadata": {},
     "output_type": "display_data"
    },
    {
     "data": {
      "application/vnd.jupyter.widget-view+json": {
       "model_id": "ff77651ede534657a7d595c8d26cbeb3",
       "version_major": 2,
       "version_minor": 0
      },
      "text/plain": [
       "  0%|          | 0/315 [00:00<?, ?it/s]"
      ]
     },
     "metadata": {},
     "output_type": "display_data"
    },
    {
     "name": "stdout",
     "output_type": "stream",
     "text": [
      "accuracy: 0.9207147278427698\n",
      "Epoch 67:\n"
     ]
    },
    {
     "data": {
      "application/vnd.jupyter.widget-view+json": {
       "model_id": "f3e1a0c65bd24a35aa374622dd65f068",
       "version_major": 2,
       "version_minor": 0
      },
      "text/plain": [
       "  0%|          | 0/5036 [00:00<?, ?it/s]"
      ]
     },
     "metadata": {},
     "output_type": "display_data"
    },
    {
     "data": {
      "application/vnd.jupyter.widget-view+json": {
       "model_id": "0ccec4021a7d43be986ffec08baa198e",
       "version_major": 2,
       "version_minor": 0
      },
      "text/plain": [
       "  0%|          | 0/315 [00:00<?, ?it/s]"
      ]
     },
     "metadata": {},
     "output_type": "display_data"
    },
    {
     "name": "stdout",
     "output_type": "stream",
     "text": [
      "accuracy: 0.9247869638804298\n",
      "Epoch 68:\n"
     ]
    },
    {
     "data": {
      "application/vnd.jupyter.widget-view+json": {
       "model_id": "09b78fa570734213b2d1729c261d3c72",
       "version_major": 2,
       "version_minor": 0
      },
      "text/plain": [
       "  0%|          | 0/5036 [00:00<?, ?it/s]"
      ]
     },
     "metadata": {},
     "output_type": "display_data"
    },
    {
     "data": {
      "application/vnd.jupyter.widget-view+json": {
       "model_id": "61237a68a5364a328f6ccca2b5344d1c",
       "version_major": 2,
       "version_minor": 0
      },
      "text/plain": [
       "  0%|          | 0/315 [00:00<?, ?it/s]"
      ]
     },
     "metadata": {},
     "output_type": "display_data"
    },
    {
     "name": "stdout",
     "output_type": "stream",
     "text": [
      "accuracy: 0.9135274251523017\n",
      "Epoch 69:\n"
     ]
    },
    {
     "data": {
      "application/vnd.jupyter.widget-view+json": {
       "model_id": "eb1cf26d180a4c4eaf57ed9314f4fdf7",
       "version_major": 2,
       "version_minor": 0
      },
      "text/plain": [
       "  0%|          | 0/5036 [00:00<?, ?it/s]"
      ]
     },
     "metadata": {},
     "output_type": "display_data"
    },
    {
     "data": {
      "application/vnd.jupyter.widget-view+json": {
       "model_id": "0ed4929f7e7b457a8c153b6cd3c140fd",
       "version_major": 2,
       "version_minor": 0
      },
      "text/plain": [
       "  0%|          | 0/315 [00:00<?, ?it/s]"
      ]
     },
     "metadata": {},
     "output_type": "display_data"
    },
    {
     "name": "stdout",
     "output_type": "stream",
     "text": [
      "accuracy: 0.9183148234045755\n",
      "Epoch 70:\n"
     ]
    },
    {
     "data": {
      "application/vnd.jupyter.widget-view+json": {
       "model_id": "65fb31406864454598280cad5be2eeac",
       "version_major": 2,
       "version_minor": 0
      },
      "text/plain": [
       "  0%|          | 0/5036 [00:00<?, ?it/s]"
      ]
     },
     "metadata": {},
     "output_type": "display_data"
    },
    {
     "data": {
      "application/vnd.jupyter.widget-view+json": {
       "model_id": "41fcb9c3bf4a41668909e00a4662f8a7",
       "version_major": 2,
       "version_minor": 0
      },
      "text/plain": [
       "  0%|          | 0/315 [00:00<?, ?it/s]"
      ]
     },
     "metadata": {},
     "output_type": "display_data"
    },
    {
     "name": "stdout",
     "output_type": "stream",
     "text": [
      "accuracy: 0.9247993745045446\n"
     ]
    },
    {
     "data": {
      "application/vnd.jupyter.widget-view+json": {
       "model_id": "5d867a2b8d5a4fe7aa0dff71b60ba559",
       "version_major": 2,
       "version_minor": 0
      },
      "text/plain": [
       "  0%|          | 0/380 [00:00<?, ?it/s]"
      ]
     },
     "metadata": {},
     "output_type": "display_data"
    },
    {
     "name": "stdout",
     "output_type": "stream",
     "text": [
      "Accuracy = 0.9041\n",
      "Epoch 71:\n"
     ]
    },
    {
     "data": {
      "application/vnd.jupyter.widget-view+json": {
       "model_id": "fdb2456ea43e47b482c9e4f7cc2fae23",
       "version_major": 2,
       "version_minor": 0
      },
      "text/plain": [
       "  0%|          | 0/5036 [00:00<?, ?it/s]"
      ]
     },
     "metadata": {},
     "output_type": "display_data"
    },
    {
     "ename": "KeyboardInterrupt",
     "evalue": "",
     "output_type": "error",
     "traceback": [
      "\u001b[0;31m---------------------------------------------------------------------------\u001b[0m",
      "\u001b[0;31mKeyboardInterrupt\u001b[0m                         Traceback (most recent call last)",
      "Cell \u001b[0;32mIn[50], line 5\u001b[0m\n\u001b[1;32m      3\u001b[0m \u001b[38;5;28;01mwhile\u001b[39;00m epoch \u001b[38;5;241m<\u001b[39m \u001b[38;5;241m76\u001b[39m:\n\u001b[1;32m      4\u001b[0m     \u001b[38;5;28mprint\u001b[39m(\u001b[38;5;124mf\u001b[39m\u001b[38;5;124m'\u001b[39m\u001b[38;5;124mEpoch \u001b[39m\u001b[38;5;132;01m{\u001b[39;00mepoch\u001b[38;5;132;01m}\u001b[39;00m\u001b[38;5;124m:\u001b[39m\u001b[38;5;124m'\u001b[39m)\n\u001b[0;32m----> 5\u001b[0m     \u001b[43mtrain_epoch\u001b[49m\u001b[43m(\u001b[49m\u001b[43mtrain_loader\u001b[49m\u001b[43m,\u001b[49m\u001b[43m \u001b[49m\u001b[43mval_loader\u001b[49m\u001b[43m,\u001b[49m\u001b[43m \u001b[49m\u001b[43mmodel\u001b[49m\u001b[43m,\u001b[49m\u001b[43m \u001b[49m\u001b[43moptim\u001b[49m\u001b[43m,\u001b[49m\u001b[43m \u001b[49m\u001b[43mloss_fn\u001b[49m\u001b[43m,\u001b[49m\u001b[43m \u001b[49m\u001b[43malpha\u001b[49m\u001b[43m \u001b[49m\u001b[38;5;241;43m=\u001b[39;49m\u001b[43m \u001b[49m\u001b[38;5;241;43m1.0\u001b[39;49m\u001b[43m)\u001b[49m\n\u001b[1;32m      6\u001b[0m     accuracy \u001b[38;5;241m=\u001b[39m run_validation(val_loader, model)\n\u001b[1;32m      7\u001b[0m     \u001b[38;5;28mprint\u001b[39m(\u001b[38;5;124mf\u001b[39m\u001b[38;5;124m'\u001b[39m\u001b[38;5;124maccuracy: \u001b[39m\u001b[38;5;132;01m{\u001b[39;00maccuracy\u001b[38;5;132;01m}\u001b[39;00m\u001b[38;5;124m'\u001b[39m)\n",
      "Cell \u001b[0;32mIn[34], line 34\u001b[0m, in \u001b[0;36mtrain_epoch\u001b[0;34m(train_loader, val_loader, model, optim, loss_fn, alpha)\u001b[0m\n\u001b[1;32m     31\u001b[0m optim\u001b[38;5;241m.\u001b[39mzero_grad()\n\u001b[1;32m     32\u001b[0m optimizer_centloss\u001b[38;5;241m.\u001b[39mzero_grad()\n\u001b[0;32m---> 34\u001b[0m \u001b[43mloss\u001b[49m\u001b[38;5;241;43m.\u001b[39;49m\u001b[43mbackward\u001b[49m\u001b[43m(\u001b[49m\u001b[43m)\u001b[49m\n\u001b[1;32m     35\u001b[0m optim\u001b[38;5;241m.\u001b[39mstep()\n\u001b[1;32m     37\u001b[0m \u001b[38;5;28;01mfor\u001b[39;00m param \u001b[38;5;129;01min\u001b[39;00m center_loss\u001b[38;5;241m.\u001b[39mparameters():\n",
      "File \u001b[0;32m~/miniconda3/envs/is_project/lib/python3.9/site-packages/torch/_tensor.py:307\u001b[0m, in \u001b[0;36mTensor.backward\u001b[0;34m(self, gradient, retain_graph, create_graph, inputs)\u001b[0m\n\u001b[1;32m    298\u001b[0m \u001b[38;5;28;01mif\u001b[39;00m has_torch_function_unary(\u001b[38;5;28mself\u001b[39m):\n\u001b[1;32m    299\u001b[0m     \u001b[38;5;28;01mreturn\u001b[39;00m handle_torch_function(\n\u001b[1;32m    300\u001b[0m         Tensor\u001b[38;5;241m.\u001b[39mbackward,\n\u001b[1;32m    301\u001b[0m         (\u001b[38;5;28mself\u001b[39m,),\n\u001b[0;32m   (...)\u001b[0m\n\u001b[1;32m    305\u001b[0m         create_graph\u001b[38;5;241m=\u001b[39mcreate_graph,\n\u001b[1;32m    306\u001b[0m         inputs\u001b[38;5;241m=\u001b[39minputs)\n\u001b[0;32m--> 307\u001b[0m \u001b[43mtorch\u001b[49m\u001b[38;5;241;43m.\u001b[39;49m\u001b[43mautograd\u001b[49m\u001b[38;5;241;43m.\u001b[39;49m\u001b[43mbackward\u001b[49m\u001b[43m(\u001b[49m\u001b[38;5;28;43mself\u001b[39;49m\u001b[43m,\u001b[49m\u001b[43m \u001b[49m\u001b[43mgradient\u001b[49m\u001b[43m,\u001b[49m\u001b[43m \u001b[49m\u001b[43mretain_graph\u001b[49m\u001b[43m,\u001b[49m\u001b[43m \u001b[49m\u001b[43mcreate_graph\u001b[49m\u001b[43m,\u001b[49m\u001b[43m \u001b[49m\u001b[43minputs\u001b[49m\u001b[38;5;241;43m=\u001b[39;49m\u001b[43minputs\u001b[49m\u001b[43m)\u001b[49m\n",
      "File \u001b[0;32m~/miniconda3/envs/is_project/lib/python3.9/site-packages/torch/autograd/__init__.py:154\u001b[0m, in \u001b[0;36mbackward\u001b[0;34m(tensors, grad_tensors, retain_graph, create_graph, grad_variables, inputs)\u001b[0m\n\u001b[1;32m    151\u001b[0m \u001b[38;5;28;01mif\u001b[39;00m retain_graph \u001b[38;5;129;01mis\u001b[39;00m \u001b[38;5;28;01mNone\u001b[39;00m:\n\u001b[1;32m    152\u001b[0m     retain_graph \u001b[38;5;241m=\u001b[39m create_graph\n\u001b[0;32m--> 154\u001b[0m \u001b[43mVariable\u001b[49m\u001b[38;5;241;43m.\u001b[39;49m\u001b[43m_execution_engine\u001b[49m\u001b[38;5;241;43m.\u001b[39;49m\u001b[43mrun_backward\u001b[49m\u001b[43m(\u001b[49m\n\u001b[1;32m    155\u001b[0m \u001b[43m    \u001b[49m\u001b[43mtensors\u001b[49m\u001b[43m,\u001b[49m\u001b[43m \u001b[49m\u001b[43mgrad_tensors_\u001b[49m\u001b[43m,\u001b[49m\u001b[43m \u001b[49m\u001b[43mretain_graph\u001b[49m\u001b[43m,\u001b[49m\u001b[43m \u001b[49m\u001b[43mcreate_graph\u001b[49m\u001b[43m,\u001b[49m\u001b[43m \u001b[49m\u001b[43minputs\u001b[49m\u001b[43m,\u001b[49m\n\u001b[1;32m    156\u001b[0m \u001b[43m    \u001b[49m\u001b[43mallow_unreachable\u001b[49m\u001b[38;5;241;43m=\u001b[39;49m\u001b[38;5;28;43;01mTrue\u001b[39;49;00m\u001b[43m,\u001b[49m\u001b[43m \u001b[49m\u001b[43maccumulate_grad\u001b[49m\u001b[38;5;241;43m=\u001b[39;49m\u001b[38;5;28;43;01mTrue\u001b[39;49;00m\u001b[43m)\u001b[49m\n",
      "\u001b[0;31mKeyboardInterrupt\u001b[0m: "
     ]
    }
   ],
   "source": [
    "epoch = 66\n",
    "# changing alpha\n",
    "while epoch < 76:\n",
    "    print(f'Epoch {epoch}:')\n",
    "    train_epoch(train_loader, val_loader, model, optim, loss_fn, alpha = 1.0)\n",
    "    accuracy = run_validation(val_loader, model)\n",
    "    print(f'accuracy: {accuracy}')\n",
    "    if epoch % 5 == 0:\n",
    "        torch.save(model.state_dict(), f'arch2_aug_epoch{epoch}.pth')\n",
    "        \n",
    "        preds = []\n",
    "        model.eval()\n",
    "        with torch.no_grad():\n",
    "            for X, _ in tqdm(test_loader):\n",
    "                features, logits = model(X.unsqueeze(1).to(torch.float32).cuda())\n",
    "                classes = torch.argmax(logits, dim=1).cpu().numpy()\n",
    "                preds.extend(classes)\n",
    "                \n",
    "        with open(pred_path, 'w') as f_pred:\n",
    "            for idx, pred in enumerate(preds):\n",
    "                name = test_helper.namelist[idx]\n",
    "                cls = train_helper.vocabulary.class_by_index(pred)\n",
    "                print(name, cls, file=f_pred)\n",
    "        _run_evaluation()\n",
    "        \n",
    "    epoch += 1"
   ]
  },
  {
   "cell_type": "code",
   "execution_count": 51,
   "id": "10b56c58",
   "metadata": {},
   "outputs": [
    {
     "data": {
      "text/plain": [
       "<All keys matched successfully>"
      ]
     },
     "execution_count": 51,
     "metadata": {},
     "output_type": "execute_result"
    }
   ],
   "source": [
    "model.load_state_dict(torch.load(f'arch2_aug_epoch70.pth'))"
   ]
  },
  {
   "cell_type": "code",
   "execution_count": 52,
   "id": "73065730",
   "metadata": {},
   "outputs": [],
   "source": [
    "test_path = r'/DATA/ichuviliaeva/ocr_data/test.lmdb'\n",
    "pred_path = './pred.txt'\n",
    "\n",
    "test_reader = LMDBReader(test_path)\n",
    "test_reader.open()\n",
    "test_helper = HWDBDatasetHelper(test_reader, prefix='Test')"
   ]
  },
  {
   "cell_type": "code",
   "execution_count": 53,
   "id": "10b22495",
   "metadata": {},
   "outputs": [],
   "source": [
    "test_dataset = HWDBDataset(test_helper, to_one_shape)\n",
    "test_loader = DataLoader(test_dataset, batch_size=2048, shuffle=False, num_workers=8)"
   ]
  },
  {
   "cell_type": "code",
   "execution_count": 54,
   "id": "21b07b48",
   "metadata": {
    "scrolled": false
   },
   "outputs": [
    {
     "data": {
      "application/vnd.jupyter.widget-view+json": {
       "model_id": "7956108e6b124de7bb2059a9f7ce6b56",
       "version_major": 2,
       "version_minor": 0
      },
      "text/plain": [
       "  0%|          | 0/380 [00:00<?, ?it/s]"
      ]
     },
     "metadata": {},
     "output_type": "display_data"
    },
    {
     "name": "stderr",
     "output_type": "stream",
     "text": [
      "Exception ignored in: <function _MultiProcessingDataLoaderIter.__del__ at 0x7faf246023a0>\n",
      "Traceback (most recent call last):\n",
      "  File \"/home/ichuviliaeva/miniconda3/envs/is_project/lib/python3.9/site-packages/torch/utils/data/dataloader.py\", line 1328, in __del__\n",
      "    self._shutdown_workers()\n",
      "  File \"/home/ichuviliaeva/miniconda3/envs/is_project/lib/python3.9/site-packages/torch/utils/data/dataloader.py\", line 1320, in _shutdown_workers\n",
      "    if w.is_alive():\n",
      "  File \"/home/ichuviliaeva/miniconda3/envs/is_project/lib/python3.9/multiprocessing/process.py\", line 160, in is_alive\n",
      "    assert self._parent_pid == os.getpid(), 'can only test a child process'\n",
      "AssertionError: can only test a child process\n",
      "Exception ignored in: <function _MultiProcessingDataLoaderIter.__del__ at 0x7faf246023a0>\n",
      "Traceback (most recent call last):\n",
      "  File \"/home/ichuviliaeva/miniconda3/envs/is_project/lib/python3.9/site-packages/torch/utils/data/dataloader.py\", line 1328, in __del__\n",
      "    self._shutdown_workers()\n",
      "  File \"/home/ichuviliaeva/miniconda3/envs/is_project/lib/python3.9/site-packages/torch/utils/data/dataloader.py\", line 1320, in _shutdown_workers\n",
      "    if w.is_alive():\n",
      "  File \"/home/ichuviliaeva/miniconda3/envs/is_project/lib/python3.9/multiprocessing/process.py\", line 160, in is_alive\n",
      "    assert self._parent_pid == os.getpid(), 'can only test a child process'\n",
      "AssertionError: can only test a child process\n",
      "Exception ignored in: <function _MultiProcessingDataLoaderIter.__del__ at 0x7faf246023a0>\n",
      "Traceback (most recent call last):\n",
      "Exception ignored in: <function _MultiProcessingDataLoaderIter.__del__ at 0x7faf246023a0>\n",
      "  File \"/home/ichuviliaeva/miniconda3/envs/is_project/lib/python3.9/site-packages/torch/utils/data/dataloader.py\", line 1328, in __del__\n",
      "Traceback (most recent call last):\n",
      "    self._shutdown_workers()\n",
      "  File \"/home/ichuviliaeva/miniconda3/envs/is_project/lib/python3.9/site-packages/torch/utils/data/dataloader.py\", line 1328, in __del__\n",
      "  File \"/home/ichuviliaeva/miniconda3/envs/is_project/lib/python3.9/site-packages/torch/utils/data/dataloader.py\", line 1320, in _shutdown_workers\n",
      "    if w.is_alive():\n",
      "  File \"/home/ichuviliaeva/miniconda3/envs/is_project/lib/python3.9/multiprocessing/process.py\", line 160, in is_alive\n",
      "    assert self._parent_pid == os.getpid(), 'can only test a child process'\n",
      "AssertionError    self._shutdown_workers(): can only test a child process\n",
      "\n",
      "Exception ignored in:   File \"/home/ichuviliaeva/miniconda3/envs/is_project/lib/python3.9/site-packages/torch/utils/data/dataloader.py\", line 1320, in _shutdown_workers\n",
      "<function _MultiProcessingDataLoaderIter.__del__ at 0x7faf246023a0>\n",
      "Traceback (most recent call last):\n",
      "  File \"/home/ichuviliaeva/miniconda3/envs/is_project/lib/python3.9/site-packages/torch/utils/data/dataloader.py\", line 1328, in __del__\n",
      "        self._shutdown_workers()if w.is_alive():\n",
      "  File \"/home/ichuviliaeva/miniconda3/envs/is_project/lib/python3.9/site-packages/torch/utils/data/dataloader.py\", line 1320, in _shutdown_workers\n",
      "\n",
      "      File \"/home/ichuviliaeva/miniconda3/envs/is_project/lib/python3.9/multiprocessing/process.py\", line 160, in is_alive\n",
      "    assert self._parent_pid == os.getpid(), 'can only test a child process'\n",
      "AssertionErrorif w.is_alive():: \n",
      "can only test a child process\n",
      "  File \"/home/ichuviliaeva/miniconda3/envs/is_project/lib/python3.9/multiprocessing/process.py\", line 160, in is_alive\n",
      "    Exception ignored in: <function _MultiProcessingDataLoaderIter.__del__ at 0x7faf246023a0>assert self._parent_pid == os.getpid(), 'can only test a child process'\n",
      "\n",
      "Traceback (most recent call last):\n",
      "  File \"/home/ichuviliaeva/miniconda3/envs/is_project/lib/python3.9/site-packages/torch/utils/data/dataloader.py\", line 1328, in __del__\n",
      "AssertionError    self._shutdown_workers()\n",
      "  File \"/home/ichuviliaeva/miniconda3/envs/is_project/lib/python3.9/site-packages/torch/utils/data/dataloader.py\", line 1320, in _shutdown_workers\n",
      "    : can only test a child processif w.is_alive():Exception ignored in: \n",
      "\n",
      "<function _MultiProcessingDataLoaderIter.__del__ at 0x7faf246023a0>  File \"/home/ichuviliaeva/miniconda3/envs/is_project/lib/python3.9/multiprocessing/process.py\", line 160, in is_alive\n",
      "    \n",
      "Traceback (most recent call last):\n",
      "assert self._parent_pid == os.getpid(), 'can only test a child process'\n",
      "AssertionError:   File \"/home/ichuviliaeva/miniconda3/envs/is_project/lib/python3.9/site-packages/torch/utils/data/dataloader.py\", line 1328, in __del__\n",
      "can only test a child process\n",
      "    self._shutdown_workers()\n",
      "  File \"/home/ichuviliaeva/miniconda3/envs/is_project/lib/python3.9/site-packages/torch/utils/data/dataloader.py\", line 1320, in _shutdown_workers\n",
      "    if w.is_alive():\n",
      "  File \"/home/ichuviliaeva/miniconda3/envs/is_project/lib/python3.9/multiprocessing/process.py\", line 160, in is_alive\n",
      "    assert self._parent_pid == os.getpid(), 'can only test a child process'\n",
      "AssertionError: can only test a child process\n",
      "Exception ignored in: <function _MultiProcessingDataLoaderIter.__del__ at 0x7faf246023a0>\n",
      "Traceback (most recent call last):\n",
      "  File \"/home/ichuviliaeva/miniconda3/envs/is_project/lib/python3.9/site-packages/torch/utils/data/dataloader.py\", line 1328, in __del__\n",
      "    self._shutdown_workers()\n",
      "  File \"/home/ichuviliaeva/miniconda3/envs/is_project/lib/python3.9/site-packages/torch/utils/data/dataloader.py\", line 1320, in _shutdown_workers\n",
      "    if w.is_alive():\n",
      "  File \"/home/ichuviliaeva/miniconda3/envs/is_project/lib/python3.9/multiprocessing/process.py\", line 160, in is_alive\n",
      "    assert self._parent_pid == os.getpid(), 'can only test a child process'\n",
      "AssertionError: can only test a child process\n",
      "Exception ignored in: <function _MultiProcessingDataLoaderIter.__del__ at 0x7faf246023a0>\n",
      "Traceback (most recent call last):\n",
      "  File \"/home/ichuviliaeva/miniconda3/envs/is_project/lib/python3.9/site-packages/torch/utils/data/dataloader.py\", line 1328, in __del__\n",
      "    self._shutdown_workers()\n",
      "  File \"/home/ichuviliaeva/miniconda3/envs/is_project/lib/python3.9/site-packages/torch/utils/data/dataloader.py\", line 1320, in _shutdown_workers\n",
      "    if w.is_alive():\n",
      "  File \"/home/ichuviliaeva/miniconda3/envs/is_project/lib/python3.9/multiprocessing/process.py\", line 160, in is_alive\n",
      "    assert self._parent_pid == os.getpid(), 'can only test a child process'\n",
      "AssertionError: can only test a child process\n",
      "Exception ignored in: <function _MultiProcessingDataLoaderIter.__del__ at 0x7faf246023a0>\n",
      "Traceback (most recent call last):\n",
      "  File \"/home/ichuviliaeva/miniconda3/envs/is_project/lib/python3.9/site-packages/torch/utils/data/dataloader.py\", line 1328, in __del__\n",
      "    self._shutdown_workers()\n",
      "  File \"/home/ichuviliaeva/miniconda3/envs/is_project/lib/python3.9/site-packages/torch/utils/data/dataloader.py\", line 1320, in _shutdown_workers\n",
      "    if w.is_alive():\n",
      "  File \"/home/ichuviliaeva/miniconda3/envs/is_project/lib/python3.9/multiprocessing/process.py\", line 160, in is_alive\n",
      "    assert self._parent_pid == os.getpid(), 'can only test a child process'\n",
      "AssertionError: can only test a child process\n",
      "Exception ignored in: <function _MultiProcessingDataLoaderIter.__del__ at 0x7faf246023a0>\n",
      "Traceback (most recent call last):\n",
      "Exception ignored in: <function _MultiProcessingDataLoaderIter.__del__ at 0x7faf246023a0>\n",
      "  File \"/home/ichuviliaeva/miniconda3/envs/is_project/lib/python3.9/site-packages/torch/utils/data/dataloader.py\", line 1328, in __del__\n",
      "Traceback (most recent call last):\n",
      "      File \"/home/ichuviliaeva/miniconda3/envs/is_project/lib/python3.9/site-packages/torch/utils/data/dataloader.py\", line 1328, in __del__\n",
      "self._shutdown_workers()    self._shutdown_workers()\n",
      "  File \"/home/ichuviliaeva/miniconda3/envs/is_project/lib/python3.9/site-packages/torch/utils/data/dataloader.py\", line 1320, in _shutdown_workers\n",
      "\n",
      "  File \"/home/ichuviliaeva/miniconda3/envs/is_project/lib/python3.9/site-packages/torch/utils/data/dataloader.py\", line 1320, in _shutdown_workers\n",
      "    if w.is_alive():    if w.is_alive():can only test a child process\n",
      "\n",
      "  File \"/home/ichuviliaeva/miniconda3/envs/is_project/lib/python3.9/multiprocessing/process.py\", line 160, in is_alive\n",
      "Exception ignored in:   File \"/home/ichuviliaeva/miniconda3/envs/is_project/lib/python3.9/multiprocessing/process.py\", line 160, in is_alive\n"
     ]
    },
    {
     "name": "stderr",
     "output_type": "stream",
     "text": [
      "<function _MultiProcessingDataLoaderIter.__del__ at 0x7faf246023a0>        \n",
      "assert self._parent_pid == os.getpid(), 'can only test a child process'Traceback (most recent call last):\n",
      "  File \"/home/ichuviliaeva/miniconda3/envs/is_project/lib/python3.9/site-packages/torch/utils/data/dataloader.py\", line 1328, in __del__\n",
      "\n",
      "    self._shutdown_workers()assert self._parent_pid == os.getpid(), 'can only test a child process'AssertionError\n",
      "\n",
      "AssertionError:   File \"/home/ichuviliaeva/miniconda3/envs/is_project/lib/python3.9/site-packages/torch/utils/data/dataloader.py\", line 1320, in _shutdown_workers\n",
      ": \n",
      "    can only test a child processif w.is_alive():\n",
      "\n",
      "  File \"/home/ichuviliaeva/miniconda3/envs/is_project/lib/python3.9/multiprocessing/process.py\", line 160, in is_alive\n",
      "    assert self._parent_pid == os.getpid(), 'can only test a child process'Exception ignored in: Exception ignored in: \n",
      "\n",
      "AssertionError<function _MultiProcessingDataLoaderIter.__del__ at 0x7faf246023a0><function _MultiProcessingDataLoaderIter.__del__ at 0x7faf246023a0>Traceback (most recent call last):\n",
      "  File \"/home/ichuviliaeva/miniconda3/envs/is_project/lib/python3.9/site-packages/torch/utils/data/dataloader.py\", line 1328, in __del__\n",
      ":     \n",
      "self._shutdown_workers()Traceback (most recent call last):\n",
      "can only test a child process\n",
      "  File \"/home/ichuviliaeva/miniconda3/envs/is_project/lib/python3.9/site-packages/torch/utils/data/dataloader.py\", line 1328, in __del__\n",
      "\n",
      "      File \"/home/ichuviliaeva/miniconda3/envs/is_project/lib/python3.9/site-packages/torch/utils/data/dataloader.py\", line 1320, in _shutdown_workers\n",
      "    self._shutdown_workers()\n",
      "if w.is_alive():  File \"/home/ichuviliaeva/miniconda3/envs/is_project/lib/python3.9/site-packages/torch/utils/data/dataloader.py\", line 1320, in _shutdown_workers\n",
      "\n",
      "Exception ignored in:   File \"/home/ichuviliaeva/miniconda3/envs/is_project/lib/python3.9/multiprocessing/process.py\", line 160, in is_alive\n",
      "    <function _MultiProcessingDataLoaderIter.__del__ at 0x7faf246023a0>    if w.is_alive():assert self._parent_pid == os.getpid(), 'can only test a child process'\n",
      "\n",
      "\n",
      "  File \"/home/ichuviliaeva/miniconda3/envs/is_project/lib/python3.9/multiprocessing/process.py\", line 160, in is_alive\n",
      "Traceback (most recent call last):\n",
      "  File \"/home/ichuviliaeva/miniconda3/envs/is_project/lib/python3.9/site-packages/torch/utils/data/dataloader.py\", line 1328, in __del__\n",
      "        AssertionErrorself._shutdown_workers()\n",
      "  File \"/home/ichuviliaeva/miniconda3/envs/is_project/lib/python3.9/site-packages/torch/utils/data/dataloader.py\", line 1320, in _shutdown_workers\n",
      "assert self._parent_pid == os.getpid(), 'can only test a child process'\n",
      "    : if w.is_alive():\n",
      "can only test a child process  File \"/home/ichuviliaeva/miniconda3/envs/is_project/lib/python3.9/multiprocessing/process.py\", line 160, in is_alive\n",
      "    \n",
      "assert self._parent_pid == os.getpid(), 'can only test a child process'AssertionError\n",
      "AssertionError: : can only test a child processcan only test a child process\n",
      "\n"
     ]
    }
   ],
   "source": [
    "preds = []\n",
    "model.eval()\n",
    "with torch.no_grad():\n",
    "    for X, _ in tqdm(test_loader):\n",
    "        features, logits = model(X.unsqueeze(1).to(torch.float32).cuda())\n",
    "        classes = torch.argmax(logits, dim=1).cpu().numpy()\n",
    "        preds.extend(classes)"
   ]
  },
  {
   "cell_type": "code",
   "execution_count": 55,
   "id": "b4dcd7f9",
   "metadata": {},
   "outputs": [],
   "source": [
    "with open(pred_path, 'w') as f_pred:\n",
    "    for idx, pred in enumerate(preds):\n",
    "        name = test_helper.namelist[idx]\n",
    "        cls = train_helper.vocabulary.class_by_index(pred)\n",
    "        print(name, cls, file=f_pred)"
   ]
  },
  {
   "cell_type": "code",
   "execution_count": 56,
   "id": "6956068b",
   "metadata": {},
   "outputs": [
    {
     "name": "stdout",
     "output_type": "stream",
     "text": [
      "pred_path =  /home/ichuviliaeva/ocr_course/course_ocr/task2/pred.txt\n",
      "Accuracy = 0.9041\n"
     ]
    }
   ],
   "source": [
    "!python -m course_ocr_t2.evaluate\n",
    "# Accuracy = 0.7978"
   ]
  }
 ],
 "metadata": {
  "kernelspec": {
   "display_name": "Python 3 (ipykernel)",
   "language": "python",
   "name": "python3"
  },
  "language_info": {
   "codemirror_mode": {
    "name": "ipython",
    "version": 3
   },
   "file_extension": ".py",
   "mimetype": "text/x-python",
   "name": "python",
   "nbconvert_exporter": "python",
   "pygments_lexer": "ipython3",
   "version": "3.9.16"
  }
 },
 "nbformat": 4,
 "nbformat_minor": 5
}
