{
 "cells": [
  {
   "cell_type": "code",
   "execution_count": 1,
   "id": "e375e403",
   "metadata": {},
   "outputs": [],
   "source": [
    "from data_reader import Vocabulary, HWDBDatasetHelper, LMDBReader\n",
    "\n",
    "# your path to data\n",
    "train_path = r'/DATA/ichuviliaeva/ocr_data/train.lmdb'\n",
    "test_path = r'/DATA/ichuviliaeva/ocr_data/test.lmdb'\n",
    "gt_path = r'/DATA/ichuviliaeva/ocr_data/gt.txt'"
   ]
  },
  {
   "cell_type": "code",
   "execution_count": 2,
   "id": "ab648d93",
   "metadata": {},
   "outputs": [
    {
     "name": "stderr",
     "output_type": "stream",
     "text": [
      "/home/ichuviliaeva/miniconda3/envs/ocr_course/lib/python3.8/site-packages/tqdm/auto.py:22: TqdmWarning: IProgress not found. Please update jupyter and ipywidgets. See https://ipywidgets.readthedocs.io/en/stable/user_install.html\n",
      "  from .autonotebook import tqdm as notebook_tqdm\n"
     ]
    }
   ],
   "source": [
    "import cv2\n",
    "import numpy as np\n",
    "from centerloss import CenterLoss"
   ]
  },
  {
   "cell_type": "code",
   "execution_count": 3,
   "id": "7a1a7069",
   "metadata": {},
   "outputs": [],
   "source": [
    "train_reader = LMDBReader(train_path)\n",
    "train_reader.open()\n",
    "train_helper = HWDBDatasetHelper(train_reader)"
   ]
  },
  {
   "cell_type": "code",
   "execution_count": 4,
   "id": "0238e35f",
   "metadata": {},
   "outputs": [],
   "source": [
    "train_helper, val_helper = train_helper.train_val_split()"
   ]
  },
  {
   "cell_type": "code",
   "execution_count": 5,
   "id": "82e0b4dd",
   "metadata": {},
   "outputs": [
    {
     "data": {
      "text/plain": [
       "(2578433, 644609)"
      ]
     },
     "execution_count": 5,
     "metadata": {},
     "output_type": "execute_result"
    }
   ],
   "source": [
    "train_helper.size(), val_helper.size()"
   ]
  },
  {
   "cell_type": "code",
   "execution_count": 6,
   "id": "e5a17243",
   "metadata": {},
   "outputs": [],
   "source": [
    "class pad_prune(object):\n",
    "    \n",
    "    def __init__(self, output_w, output_h):\n",
    "        self.output_w = output_w\n",
    "        self.output_h = output_h\n",
    "\n",
    "    def __call__(self, image):\n",
    "        \n",
    "        w, h = image.shape\n",
    "        diff_w = w - self.output_w\n",
    "        diff_h = h - self.output_h\n",
    "        masked = np.zeros((self.output_w, self.output_h))\n",
    "        if diff_w <= 0:\n",
    "            if diff_h <= 0:\n",
    "                masked[:w, :h] = image\n",
    "            else:\n",
    "                masked[:w, :] = image[:, (diff_h // 2):(h - (diff_h - diff_h // 2))]\n",
    "            \n",
    "        if diff_w > 0:\n",
    "            if diff_h > 0:\n",
    "                masked = image[(diff_w // 2):(w - (diff_w - diff_w // 2)), \n",
    "                               (diff_h // 2):(h - (diff_h - diff_h // 2))]\n",
    "            else:\n",
    "                masked[:, :h] = image[(diff_w // 2):(w - (diff_w - diff_w // 2)), :]\n",
    "        return masked - 127.5 / 255.0  "
   ]
  },
  {
   "cell_type": "code",
   "execution_count": 7,
   "id": "dffcbccf",
   "metadata": {},
   "outputs": [],
   "source": [
    "import torch\n",
    "\n",
    "from torch.utils.data import Dataset, DataLoader\n",
    "from torch import nn\n",
    "\n",
    "class HWDBDataset(Dataset):\n",
    "    def __init__(self, helper: HWDBDatasetHelper, transform = None):\n",
    "        self.helper = helper\n",
    "        self.transform = transform\n",
    "    \n",
    "    def __len__(self):\n",
    "        return self.helper.size()\n",
    "    \n",
    "    def __getitem__(self, idx):\n",
    "        img, label = self.helper.get_item(idx)\n",
    "        if self.transform:\n",
    "            img = self.transform(img)\n",
    "        return img, label"
   ]
  },
  {
   "cell_type": "code",
   "execution_count": 8,
   "id": "aeddd9db",
   "metadata": {},
   "outputs": [],
   "source": [
    "to_one_shape = pad_prune(100, 100)\n",
    "train_dataset = HWDBDataset(train_helper, to_one_shape)\n",
    "val_dataset = HWDBDataset(val_helper, to_one_shape)"
   ]
  },
  {
   "cell_type": "code",
   "execution_count": 9,
   "id": "db7bee15",
   "metadata": {},
   "outputs": [],
   "source": [
    "class ResNetBlock(nn.Module):\n",
    "        \n",
    "    def __init__(self, in_channels, out_channels, kernel_size, padding, stride, is_projection = False):\n",
    "        super().__init__()\n",
    "        self.bn1 = nn.BatchNorm2d(num_features = in_channels)\n",
    "        self.relu1 = nn.ReLU()\n",
    "        self.conv1 = nn.Conv2d(in_channels = in_channels, out_channels = out_channels, \n",
    "                               kernel_size = kernel_size, padding = padding, stride = stride)\n",
    "            \n",
    "        self.bn2 = nn.BatchNorm2d(num_features = out_channels)\n",
    "        self.relu2 = nn.ReLU()\n",
    "        self.conv2 = nn.Conv2d(in_channels = out_channels, out_channels = out_channels,\n",
    "                               kernel_size = kernel_size, padding = padding, stride = 1)\n",
    "        if is_projection:\n",
    "            self.project = nn.Conv2d(in_channels = in_channels, out_channels = out_channels,\n",
    "                               kernel_size = 1, padding = 0, stride = stride)\n",
    "        else:\n",
    "            self.project = lambda x: x\n",
    "            \n",
    "    def forward(self, x):            \n",
    "        out = self.conv1(self.relu1(self.bn1(x)))\n",
    "        out = self.conv2(self.relu2(self.bn2(out)))\n",
    "        return out + self.project(x)"
   ]
  },
  {
   "cell_type": "code",
   "execution_count": 10,
   "id": "782d5886",
   "metadata": {},
   "outputs": [],
   "source": [
    "class TheNet(nn.Module):\n",
    "    def __init__(self, n_classes):\n",
    "        super(TheNet, self).__init__()\n",
    "        self.nn = nn.Sequential(\n",
    "            nn.Conv2d(in_channels = 1, out_channels = 8, kernel_size = 5, stride = 2),\n",
    "            nn.MaxPool2d(kernel_size = 3, stride = 2, padding = 1),\n",
    "            \n",
    "            ResNetBlock(in_channels = 8, out_channels = 8, kernel_size = 3, padding = 1, stride = 1),\n",
    "            ResNetBlock(in_channels = 8, out_channels = 8, kernel_size = 3, padding = 1, stride = 1),\n",
    "            \n",
    "            ResNetBlock(in_channels = 8, out_channels = 16, kernel_size = 3, padding = 1, stride = 2, \n",
    "                       is_projection = True),\n",
    "            ResNetBlock(in_channels = 16, out_channels = 16, kernel_size = 3, padding = 1, stride = 1),\n",
    "            \n",
    "            ResNetBlock(in_channels = 16, out_channels = 32, kernel_size = 3, padding = 1, stride = 2, \n",
    "                       is_projection = True),\n",
    "            ResNetBlock(in_channels = 32, out_channels = 32, kernel_size = 3, padding = 1, stride = 1),\n",
    "            \n",
    "            ResNetBlock(in_channels = 32, out_channels = 64, kernel_size = 3, padding = 1, stride = 2, \n",
    "                       is_projection = True),\n",
    "            ResNetBlock(in_channels = 64, out_channels = 64, kernel_size = 3, padding = 1, stride = 1),\n",
    "            \n",
    "            nn.Flatten(),\n",
    "            nn.Linear(3 * 3 * 64, 128),\n",
    "            nn.BatchNorm1d(128),\n",
    "            nn.ReLU(),\n",
    "        )\n",
    "        \n",
    "        self.last_layer = nn.Linear(128, n_classes, bias=False)\n",
    "            \n",
    "    def forward(self, x):\n",
    "        x = self.nn(x)\n",
    "        y = self.last_layer(x)\n",
    "        return x, y\n",
    "        return x"
   ]
  },
  {
   "cell_type": "code",
   "execution_count": 11,
   "id": "91c4a400",
   "metadata": {},
   "outputs": [
    {
     "name": "stdout",
     "output_type": "stream",
     "text": [
      "torch.Size([1, 128])\n",
      "torch.Size([1, 7330])\n"
     ]
    }
   ],
   "source": [
    "model = TheNet(train_helper.vocabulary.num_classes())\n",
    "model.eval()\n",
    "res = model(torch.tensor(train_dataset[0][0], dtype=torch.float32).view(1, 1, 100, 100))\n",
    "print(res[0].shape)\n",
    "print(res[1].shape)"
   ]
  },
  {
   "cell_type": "code",
   "execution_count": 12,
   "id": "c628fc30",
   "metadata": {},
   "outputs": [],
   "source": [
    "model = model.cuda()"
   ]
  },
  {
   "cell_type": "code",
   "execution_count": 13,
   "id": "1289604d",
   "metadata": {},
   "outputs": [],
   "source": [
    "train_loader = DataLoader(train_dataset, batch_size=512, shuffle=True, drop_last=True, num_workers=8)\n",
    "val_loader = DataLoader(val_dataset, batch_size=2048, shuffle=False, num_workers=8)"
   ]
  },
  {
   "cell_type": "code",
   "execution_count": 14,
   "id": "fa3d0908",
   "metadata": {},
   "outputs": [],
   "source": [
    "optim = torch.optim.Adam(model.parameters(), lr=0.001)\n",
    "loss_fn = torch.nn.CrossEntropyLoss()"
   ]
  },
  {
   "cell_type": "code",
   "execution_count": 15,
   "id": "589670eb",
   "metadata": {},
   "outputs": [],
   "source": [
    "center_loss = CenterLoss(num_classes=train_helper.vocabulary.num_classes(), feat_dim=128, use_gpu=True)\n",
    "optimizer_centloss = torch.optim.Adam(center_loss.parameters(), lr=0.1)"
   ]
  },
  {
   "cell_type": "code",
   "execution_count": 16,
   "id": "ed075227",
   "metadata": {},
   "outputs": [],
   "source": [
    "from tqdm import tqdm\n",
    "\n",
    "def run_validation(val_loader: DataLoader, model: nn.Module, n_steps=None):\n",
    "    model.eval()\n",
    "    n_good = 0\n",
    "    n_all = 0\n",
    "    wrapper = lambda x: x\n",
    "    if n_steps is None:\n",
    "        n_steps = len(val_loader)\n",
    "        wrapper = tqdm\n",
    "    \n",
    "    with torch.no_grad():\n",
    "        for batch, (X, y) in enumerate(wrapper(val_loader)):\n",
    "            if batch == n_steps:\n",
    "                break\n",
    "            features, logits = model(X.unsqueeze(1).to(torch.float32).cuda())\n",
    "            classes = torch.argmax(logits, dim=1).cpu().numpy()\n",
    "            n_good += sum(classes == y.cpu().numpy())\n",
    "            n_all += len(classes)\n",
    "    \n",
    "    return n_good / n_all\n",
    "\n",
    "\n",
    "def train_epoch(train_loader: DataLoader, val_loader: DataLoader, model: nn.Module, optim, loss_fn, alpha = 1.0):\n",
    "    for batch, (X, y) in enumerate(tqdm(train_loader)):\n",
    "        model.train()\n",
    "        features, logits = model(X.unsqueeze(1).to(torch.float32).cuda())\n",
    "        labels = y.to(torch.long).cuda()\n",
    "        loss = center_loss(features, labels) * alpha + loss_fn(logits, labels)\n",
    "        \n",
    "        optim.zero_grad()\n",
    "        optimizer_centloss.zero_grad()\n",
    "        \n",
    "        loss.backward()\n",
    "        optim.step()\n",
    "        \n",
    "        for param in center_loss.parameters():\n",
    "             param.grad.data *= (1./alpha)\n",
    "\n",
    "        optimizer_centloss.step()"
   ]
  },
  {
   "cell_type": "code",
   "execution_count": 46,
   "id": "e8389e18",
   "metadata": {},
   "outputs": [],
   "source": [
    "torch.save(model.state_dict(), 'arch2_center.pth')"
   ]
  },
  {
   "cell_type": "code",
   "execution_count": 48,
   "id": "8c8921bd",
   "metadata": {
    "scrolled": false
   },
   "outputs": [
    {
     "name": "stdout",
     "output_type": "stream",
     "text": [
      "Epoch 0:\n"
     ]
    },
    {
     "name": "stderr",
     "output_type": "stream",
     "text": [
      "100%|███████████████████████████████████████████████████████████████████| 5036/5036 [05:14<00:00, 16.00it/s]\n",
      "100%|█████████████████████████████████████████████████████████████████████| 315/315 [00:34<00:00,  9.09it/s]\n"
     ]
    },
    {
     "name": "stdout",
     "output_type": "stream",
     "text": [
      "accuracy: 0.2692500414980244\n",
      "Epoch 1:\n"
     ]
    },
    {
     "name": "stderr",
     "output_type": "stream",
     "text": [
      "100%|███████████████████████████████████████████████████████████████████| 5036/5036 [05:12<00:00, 16.09it/s]\n",
      "100%|█████████████████████████████████████████████████████████████████████| 315/315 [00:35<00:00,  8.96it/s]\n"
     ]
    },
    {
     "name": "stdout",
     "output_type": "stream",
     "text": [
      "accuracy: 0.6155685074207775\n",
      "Epoch 2:\n"
     ]
    },
    {
     "name": "stderr",
     "output_type": "stream",
     "text": [
      "100%|███████████████████████████████████████████████████████████████████| 5036/5036 [05:12<00:00, 16.09it/s]\n",
      "100%|█████████████████████████████████████████████████████████████████████| 315/315 [00:34<00:00,  9.06it/s]\n"
     ]
    },
    {
     "name": "stdout",
     "output_type": "stream",
     "text": [
      "accuracy: 0.6668321416548636\n",
      "Epoch 3:\n"
     ]
    },
    {
     "name": "stderr",
     "output_type": "stream",
     "text": [
      "100%|███████████████████████████████████████████████████████████████████| 5036/5036 [03:38<00:00, 23.01it/s]\n",
      "100%|█████████████████████████████████████████████████████████████████████| 315/315 [00:27<00:00, 11.26it/s]\n"
     ]
    },
    {
     "name": "stdout",
     "output_type": "stream",
     "text": [
      "accuracy: 0.4381043392195889\n",
      "Epoch 4:\n"
     ]
    },
    {
     "name": "stderr",
     "output_type": "stream",
     "text": [
      "100%|███████████████████████████████████████████████████████████████████| 5036/5036 [03:31<00:00, 23.81it/s]\n",
      "100%|█████████████████████████████████████████████████████████████████████| 315/315 [00:27<00:00, 11.27it/s]\n"
     ]
    },
    {
     "name": "stdout",
     "output_type": "stream",
     "text": [
      "accuracy: 0.7269802314271132\n",
      "Epoch 5:\n"
     ]
    },
    {
     "name": "stderr",
     "output_type": "stream",
     "text": [
      "100%|███████████████████████████████████████████████████████████████████| 5036/5036 [03:35<00:00, 23.36it/s]\n",
      "100%|█████████████████████████████████████████████████████████████████████| 315/315 [00:28<00:00, 10.98it/s]\n"
     ]
    },
    {
     "name": "stdout",
     "output_type": "stream",
     "text": [
      "accuracy: 0.8276365983099833\n",
      "Epoch 6:\n"
     ]
    },
    {
     "name": "stderr",
     "output_type": "stream",
     "text": [
      "100%|███████████████████████████████████████████████████████████████████| 5036/5036 [06:05<00:00, 13.78it/s]\n",
      "100%|█████████████████████████████████████████████████████████████████████| 315/315 [00:35<00:00,  8.82it/s]\n"
     ]
    },
    {
     "name": "stdout",
     "output_type": "stream",
     "text": [
      "accuracy: 0.8423757657742911\n",
      "Epoch 7:\n"
     ]
    },
    {
     "name": "stderr",
     "output_type": "stream",
     "text": [
      "100%|███████████████████████████████████████████████████████████████████| 5036/5036 [06:34<00:00, 12.75it/s]\n",
      "100%|█████████████████████████████████████████████████████████████████████| 315/315 [00:36<00:00,  8.66it/s]\n"
     ]
    },
    {
     "name": "stdout",
     "output_type": "stream",
     "text": [
      "accuracy: 0.858565424932013\n",
      "Epoch 8:\n"
     ]
    },
    {
     "name": "stderr",
     "output_type": "stream",
     "text": [
      "100%|███████████████████████████████████████████████████████████████████| 5036/5036 [06:17<00:00, 13.34it/s]\n",
      "100%|█████████████████████████████████████████████████████████████████████| 315/315 [00:35<00:00,  8.95it/s]\n"
     ]
    },
    {
     "name": "stdout",
     "output_type": "stream",
     "text": [
      "accuracy: 0.8594776058044489\n",
      "Epoch 9:\n"
     ]
    },
    {
     "name": "stderr",
     "output_type": "stream",
     "text": [
      "100%|███████████████████████████████████████████████████████████████████| 5036/5036 [06:35<00:00, 12.73it/s]\n",
      "100%|█████████████████████████████████████████████████████████████████████| 315/315 [00:35<00:00,  8.84it/s]\n"
     ]
    },
    {
     "name": "stdout",
     "output_type": "stream",
     "text": [
      "accuracy: 0.7491083742237542\n",
      "Epoch 10:\n"
     ]
    },
    {
     "name": "stderr",
     "output_type": "stream",
     "text": [
      " 13%|█████████                                                           | 675/5036 [00:53<05:38, 12.88it/s]"
     ]
    }
   ],
   "source": [
    "for epoch in range(11):\n",
    "    print(f'Epoch {epoch}:')\n",
    "    train_epoch(train_loader, val_loader, model, optim, loss_fn, alpha = 0.3)\n",
    "    accuracy = run_validation(val_loader, model)\n",
    "    print(f'accuracy: {accuracy}')\n",
    "    if epoch % 5 == 0:\n",
    "        torch.save(model.state_dict(), f'arch2_center_epoch{epoch}.pth')"
   ]
  },
  {
   "cell_type": "markdown",
   "id": "b5c63cd2",
   "metadata": {},
   "source": [
    "Это упало tornado. Т. е. всё продолжило работать, а вывода нет. Подгружу модели в при тестировании."
   ]
  },
  {
   "cell_type": "code",
   "execution_count": null,
   "id": "94c3b18e",
   "metadata": {},
   "outputs": [],
   "source": []
  },
  {
   "cell_type": "code",
   "execution_count": null,
   "id": "04b8078b",
   "metadata": {},
   "outputs": [],
   "source": []
  },
  {
   "cell_type": "code",
   "execution_count": null,
   "id": "c4111863",
   "metadata": {},
   "outputs": [],
   "source": []
  },
  {
   "cell_type": "code",
   "execution_count": null,
   "id": "2801321a",
   "metadata": {},
   "outputs": [],
   "source": []
  },
  {
   "cell_type": "code",
   "execution_count": 17,
   "id": "fa3c7a8f",
   "metadata": {},
   "outputs": [],
   "source": [
    "test_path = r'/DATA/ichuviliaeva/ocr_data/test.lmdb'\n",
    "pred_path = './pred.txt'\n",
    "\n",
    "test_reader = LMDBReader(test_path)\n",
    "test_reader.open()\n",
    "test_helper = HWDBDatasetHelper(test_reader, prefix='Test')"
   ]
  },
  {
   "cell_type": "code",
   "execution_count": 18,
   "id": "e83a1e87",
   "metadata": {},
   "outputs": [],
   "source": [
    "test_dataset = HWDBDataset(test_helper, to_one_shape)\n",
    "test_loader = DataLoader(test_dataset, batch_size=2048, shuffle=False, num_workers=8)"
   ]
  },
  {
   "cell_type": "code",
   "execution_count": 27,
   "id": "7a893dca",
   "metadata": {},
   "outputs": [
    {
     "data": {
      "text/plain": [
       "<All keys matched successfully>"
      ]
     },
     "execution_count": 27,
     "metadata": {},
     "output_type": "execute_result"
    }
   ],
   "source": [
    "model.load_state_dict(torch.load(f'arch2_center_epoch10.pth'))"
   ]
  },
  {
   "cell_type": "code",
   "execution_count": 28,
   "id": "e0f30683",
   "metadata": {},
   "outputs": [
    {
     "name": "stderr",
     "output_type": "stream",
     "text": [
      "100%|█████████████████████████████████████████████████████████████████████| 380/380 [00:43<00:00,  8.77it/s]\n"
     ]
    }
   ],
   "source": [
    "preds = []\n",
    "model.eval()\n",
    "with torch.no_grad():\n",
    "    for X, _ in tqdm(test_loader):\n",
    "        features, logits = model(X.unsqueeze(1).to(torch.float32).cuda())\n",
    "        classes = torch.argmax(logits, dim=1).cpu().numpy()\n",
    "        preds.extend(classes)"
   ]
  },
  {
   "cell_type": "code",
   "execution_count": 29,
   "id": "16fbc5b4",
   "metadata": {},
   "outputs": [],
   "source": [
    "with open(pred_path, 'w') as f_pred:\n",
    "    for idx, pred in enumerate(preds):\n",
    "        name = test_helper.namelist[idx]\n",
    "        cls = train_helper.vocabulary.class_by_index(pred)\n",
    "        print(name, cls, file=f_pred)"
   ]
  },
  {
   "cell_type": "code",
   "execution_count": 30,
   "id": "99b1826a",
   "metadata": {},
   "outputs": [
    {
     "name": "stdout",
     "output_type": "stream",
     "text": [
      "/bin/bash: /home/ichuviliaeva/miniconda3/envs/ocr_course/lib/python3.8/site-packages/cv2/../../../../lib/libtinfo.so.6: no version information available (required by /bin/bash)\n",
      "pred_path =  /home/ichuviliaeva/ocr_course/course_ocr/task2/pred.txt\n",
      "Accuracy = 0.8111\n"
     ]
    }
   ],
   "source": [
    "!python -m course_ocr_t2.evaluate\n",
    "# Accuracy = 0.7978"
   ]
  },
  {
   "cell_type": "code",
   "execution_count": null,
   "id": "c0c92f74",
   "metadata": {},
   "outputs": [],
   "source": []
  },
  {
   "cell_type": "code",
   "execution_count": null,
   "id": "2374f682",
   "metadata": {},
   "outputs": [],
   "source": []
  },
  {
   "cell_type": "code",
   "execution_count": null,
   "id": "a1829b95",
   "metadata": {},
   "outputs": [
    {
     "name": "stdout",
     "output_type": "stream",
     "text": [
      "Epoch 11:\n"
     ]
    },
    {
     "name": "stderr",
     "output_type": "stream",
     "text": [
      "100%|███████████████████████████████████████████████████████████████████| 5036/5036 [06:34<00:00, 12.78it/s]\n",
      "100%|█████████████████████████████████████████████████████████████████████| 315/315 [00:35<00:00,  8.90it/s]\n"
     ]
    },
    {
     "name": "stdout",
     "output_type": "stream",
     "text": [
      "accuracy: 0.8068581108858238\n",
      "Epoch 12:\n"
     ]
    },
    {
     "name": "stderr",
     "output_type": "stream",
     "text": [
      "  0%|                                                                    | 1/5036 [00:00<1:10:09,  1.20it/s]"
     ]
    }
   ],
   "source": [
    "epoch = 11\n",
    "while epoch < 21:\n",
    "    print(f'Epoch {epoch}:')\n",
    "    train_epoch(train_loader, val_loader, model, optim, loss_fn, alpha = 0.3)\n",
    "    accuracy = run_validation(val_loader, model)\n",
    "    print(f'accuracy: {accuracy}')\n",
    "    epoch += 1\n",
    "    if epoch % 5 == 0:\n",
    "        torch.save(model.state_dict(), f'arch2_center_epoch{epoch}.pth')"
   ]
  },
  {
   "cell_type": "code",
   "execution_count": 23,
   "id": "f6f0bcc6",
   "metadata": {},
   "outputs": [
    {
     "data": {
      "text/plain": [
       "<All keys matched successfully>"
      ]
     },
     "execution_count": 23,
     "metadata": {},
     "output_type": "execute_result"
    }
   ],
   "source": [
    "model.load_state_dict(torch.load(f'arch2_center_epoch20.pth'))"
   ]
  },
  {
   "cell_type": "code",
   "execution_count": 24,
   "id": "84ffc3eb",
   "metadata": {},
   "outputs": [
    {
     "name": "stderr",
     "output_type": "stream",
     "text": [
      "100%|█████████████████████████████████████████████████████████████████████| 380/380 [00:44<00:00,  8.61it/s]\n"
     ]
    }
   ],
   "source": [
    "preds = []\n",
    "model.eval()\n",
    "with torch.no_grad():\n",
    "    for X, _ in tqdm(test_loader):\n",
    "        features, logits = model(X.unsqueeze(1).to(torch.float32).cuda())\n",
    "        classes = torch.argmax(logits, dim=1).cpu().numpy()\n",
    "        preds.extend(classes)"
   ]
  },
  {
   "cell_type": "code",
   "execution_count": 25,
   "id": "4c591176",
   "metadata": {},
   "outputs": [],
   "source": [
    "with open(pred_path, 'w') as f_pred:\n",
    "    for idx, pred in enumerate(preds):\n",
    "        name = test_helper.namelist[idx]\n",
    "        cls = train_helper.vocabulary.class_by_index(pred)\n",
    "        print(name, cls, file=f_pred)"
   ]
  },
  {
   "cell_type": "code",
   "execution_count": 26,
   "id": "6ddcdf3f",
   "metadata": {},
   "outputs": [
    {
     "name": "stdout",
     "output_type": "stream",
     "text": [
      "/bin/bash: /home/ichuviliaeva/miniconda3/envs/ocr_course/lib/python3.8/site-packages/cv2/../../../../lib/libtinfo.so.6: no version information available (required by /bin/bash)\n",
      "pred_path =  /home/ichuviliaeva/ocr_course/course_ocr/task2/pred.txt\n",
      "Accuracy = 0.8025\n"
     ]
    }
   ],
   "source": [
    "!python -m course_ocr_t2.evaluate\n",
    "# Accuracy = 0.7978"
   ]
  },
  {
   "cell_type": "code",
   "execution_count": null,
   "id": "b2046f7f",
   "metadata": {},
   "outputs": [],
   "source": []
  }
 ],
 "metadata": {
  "kernelspec": {
   "display_name": "Python 3 (ipykernel)",
   "language": "python",
   "name": "python3"
  },
  "language_info": {
   "codemirror_mode": {
    "name": "ipython",
    "version": 3
   },
   "file_extension": ".py",
   "mimetype": "text/x-python",
   "name": "python",
   "nbconvert_exporter": "python",
   "pygments_lexer": "ipython3",
   "version": "3.8.16"
  }
 },
 "nbformat": 4,
 "nbformat_minor": 5
}
