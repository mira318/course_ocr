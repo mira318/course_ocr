{
 "cells": [
  {
   "cell_type": "code",
   "execution_count": 3,
   "id": "8e003177",
   "metadata": {},
   "outputs": [],
   "source": [
    "from data_reader import Vocabulary, HWDBDatasetHelper, LMDBReader\n",
    "\n",
    "# your path to data\n",
    "train_path = r'/DATA/ichuviliaeva/ocr_data/train.lmdb'\n",
    "test_path = r'/DATA/ichuviliaeva/ocr_data/test.lmdb'\n",
    "gt_path = r'/DATA/ichuviliaeva/ocr_data/gt.txt'"
   ]
  },
  {
   "cell_type": "markdown",
   "id": "ad4142c7",
   "metadata": {},
   "source": [
    "# Simple CNN baseline\n",
    "\n",
    "pytorch and lmdb are required for this baseline implementation\n",
    "\n",
    "## Baseline method\n",
    "\n",
    "- Naively resize to 32x32 (DON'T DO THIS IN YOUR WORK, try to save geometry somehow, it is important)\n",
    "- Train LeNet-like CNN\n",
    "- Enjoy :)"
   ]
  },
  {
   "cell_type": "code",
   "execution_count": 4,
   "id": "dabae6e5",
   "metadata": {},
   "outputs": [],
   "source": [
    "import cv2\n",
    "import numpy as np"
   ]
  },
  {
   "cell_type": "markdown",
   "id": "d26ea4ab",
   "metadata": {},
   "source": [
    "### Data tools"
   ]
  },
  {
   "cell_type": "code",
   "execution_count": 5,
   "id": "8c7a9174",
   "metadata": {},
   "outputs": [],
   "source": [
    "train_reader = LMDBReader(train_path)\n",
    "train_reader.open()\n",
    "train_helper = HWDBDatasetHelper(train_reader)"
   ]
  },
  {
   "cell_type": "code",
   "execution_count": 6,
   "id": "aab9e68f",
   "metadata": {},
   "outputs": [],
   "source": [
    "train_helper, val_helper = train_helper.train_val_split()"
   ]
  },
  {
   "cell_type": "code",
   "execution_count": 7,
   "id": "14d5ef75",
   "metadata": {},
   "outputs": [
    {
     "data": {
      "text/plain": [
       "(2578433, 644609)"
      ]
     },
     "execution_count": 7,
     "metadata": {},
     "output_type": "execute_result"
    }
   ],
   "source": [
    "train_helper.size(), val_helper.size()"
   ]
  },
  {
   "cell_type": "code",
   "execution_count": 73,
   "id": "ec035e2a",
   "metadata": {},
   "outputs": [],
   "source": [
    "class pad_prune(object):\n",
    "    \n",
    "    def __init__(self, output_w, output_h):\n",
    "        self.output_w = output_w\n",
    "        self.output_h = output_h\n",
    "\n",
    "    def __call__(self, image):\n",
    "        \n",
    "        w, h = image.shape\n",
    "        diff_w = w - self.output_w\n",
    "        diff_h = h - self.output_h\n",
    "        masked = np.zeros((self.output_w, self.output_h))\n",
    "        if diff_w <= 0:\n",
    "            if diff_h <= 0:\n",
    "                masked[:w, :h] = image\n",
    "            else:\n",
    "                masked[:w, :] = image[:, (diff_h // 2):(h - (diff_h - diff_h // 2))]\n",
    "            \n",
    "        if diff_w > 0:\n",
    "            if diff_h > 0:\n",
    "                masked = image[(diff_w // 2):(w - (diff_w - diff_w // 2)), \n",
    "                               (diff_h // 2):(h - (diff_h - diff_h // 2))]\n",
    "            else:\n",
    "                masked[:, :h] = image[(diff_w // 2):(w - (diff_w - diff_w // 2)), :]\n",
    "        return masked - 127.5 / 255.0   "
   ]
  },
  {
   "cell_type": "code",
   "execution_count": 74,
   "id": "eb36d4e0",
   "metadata": {},
   "outputs": [
    {
     "name": "stderr",
     "output_type": "stream",
     "text": [
      "  0%|                                                            | 1368/2578433 [00:00<06:19, 6793.37it/s]"
     ]
    },
    {
     "name": "stdout",
     "output_type": "stream",
     "text": [
      "image shape:  (78, 84)  res shape:  (128, 128)\n"
     ]
    },
    {
     "name": "stderr",
     "output_type": "stream",
     "text": [
      "  4%|██▎                                                       | 100853/2578433 [00:15<06:04, 6789.24it/s]"
     ]
    },
    {
     "name": "stdout",
     "output_type": "stream",
     "text": [
      "image shape:  (63, 90)  res shape:  (128, 128)\n"
     ]
    },
    {
     "name": "stderr",
     "output_type": "stream",
     "text": [
      "  8%|████▌                                                     | 201309/2578433 [00:30<06:02, 6557.80it/s]"
     ]
    },
    {
     "name": "stdout",
     "output_type": "stream",
     "text": [
      "image shape:  (42, 44)  res shape:  (128, 128)\n"
     ]
    },
    {
     "name": "stderr",
     "output_type": "stream",
     "text": [
      " 12%|██████▊                                                   | 301125/2578433 [00:46<05:59, 6331.30it/s]"
     ]
    },
    {
     "name": "stdout",
     "output_type": "stream",
     "text": [
      "image shape:  (71, 76)  res shape:  (128, 128)\n"
     ]
    },
    {
     "name": "stderr",
     "output_type": "stream",
     "text": [
      " 16%|█████████                                                 | 400890/2578433 [01:01<05:34, 6515.34it/s]"
     ]
    },
    {
     "name": "stdout",
     "output_type": "stream",
     "text": [
      "image shape:  (72, 83)  res shape:  (128, 128)\n"
     ]
    },
    {
     "name": "stderr",
     "output_type": "stream",
     "text": [
      " 19%|███████████▎                                              | 500746/2578433 [01:16<05:19, 6493.23it/s]"
     ]
    },
    {
     "name": "stdout",
     "output_type": "stream",
     "text": [
      "image shape:  (88, 52)  res shape:  (128, 128)\n"
     ]
    },
    {
     "name": "stderr",
     "output_type": "stream",
     "text": [
      " 23%|█████████████▌                                            | 601093/2578433 [01:31<04:55, 6701.60it/s]"
     ]
    },
    {
     "name": "stdout",
     "output_type": "stream",
     "text": [
      "image shape:  (69, 62)  res shape:  (128, 128)\n"
     ]
    },
    {
     "name": "stderr",
     "output_type": "stream",
     "text": [
      " 27%|███████████████▊                                          | 700668/2578433 [01:47<04:51, 6444.17it/s]"
     ]
    },
    {
     "name": "stdout",
     "output_type": "stream",
     "text": [
      "image shape:  (93, 71)  res shape:  (128, 128)\n"
     ]
    },
    {
     "name": "stderr",
     "output_type": "stream",
     "text": [
      " 31%|██████████████████                                        | 801164/2578433 [02:02<04:33, 6504.35it/s]"
     ]
    },
    {
     "name": "stdout",
     "output_type": "stream",
     "text": [
      "image shape:  (81, 98)  res shape:  (128, 128)\n"
     ]
    },
    {
     "name": "stderr",
     "output_type": "stream",
     "text": [
      " 35%|████████████████████▎                                     | 901159/2578433 [02:18<04:06, 6790.88it/s]"
     ]
    },
    {
     "name": "stdout",
     "output_type": "stream",
     "text": [
      "image shape:  (102, 85)  res shape:  (128, 128)\n"
     ]
    },
    {
     "name": "stderr",
     "output_type": "stream",
     "text": [
      " 39%|██████████████████████                                   | 1000812/2578433 [02:33<04:11, 6267.81it/s]"
     ]
    },
    {
     "name": "stdout",
     "output_type": "stream",
     "text": [
      "image shape:  (71, 104)  res shape:  (128, 128)\n"
     ]
    },
    {
     "name": "stderr",
     "output_type": "stream",
     "text": [
      " 43%|████████████████████████▎                                | 1101233/2578433 [02:48<03:51, 6379.64it/s]"
     ]
    },
    {
     "name": "stdout",
     "output_type": "stream",
     "text": [
      "image shape:  (88, 95)  res shape:  (128, 128)\n"
     ]
    },
    {
     "name": "stderr",
     "output_type": "stream",
     "text": [
      " 47%|██████████████████████████▌                              | 1200648/2578433 [03:04<03:27, 6641.31it/s]"
     ]
    },
    {
     "name": "stdout",
     "output_type": "stream",
     "text": [
      "image shape:  (124, 71)  res shape:  (128, 128)\n"
     ]
    },
    {
     "name": "stderr",
     "output_type": "stream",
     "text": [
      " 50%|████████████████████████████▊                            | 1301021/2578433 [03:19<03:18, 6423.40it/s]"
     ]
    },
    {
     "name": "stdout",
     "output_type": "stream",
     "text": [
      "image shape:  (106, 95)  res shape:  (128, 128)\n"
     ]
    },
    {
     "name": "stderr",
     "output_type": "stream",
     "text": [
      " 54%|██████████████████████████████▉                          | 1401330/2578433 [03:35<02:55, 6706.27it/s]"
     ]
    },
    {
     "name": "stdout",
     "output_type": "stream",
     "text": [
      "image shape:  (78, 46)  res shape:  (128, 128)\n"
     ]
    },
    {
     "name": "stderr",
     "output_type": "stream",
     "text": [
      " 58%|█████████████████████████████████▏                       | 1500870/2578433 [03:50<02:59, 5994.50it/s]"
     ]
    },
    {
     "name": "stdout",
     "output_type": "stream",
     "text": [
      "image shape:  (59, 36)  res shape:  (128, 128)\n"
     ]
    },
    {
     "name": "stderr",
     "output_type": "stream",
     "text": [
      " 62%|███████████████████████████████████▍                     | 1600850/2578433 [04:06<02:27, 6626.80it/s]"
     ]
    },
    {
     "name": "stdout",
     "output_type": "stream",
     "text": [
      "image shape:  (80, 63)  res shape:  (128, 128)\n"
     ]
    },
    {
     "name": "stderr",
     "output_type": "stream",
     "text": [
      " 66%|█████████████████████████████████████▌                   | 1701066/2578433 [04:21<02:23, 6133.87it/s]"
     ]
    },
    {
     "name": "stdout",
     "output_type": "stream",
     "text": [
      "image shape:  (102, 79)  res shape:  (128, 128)\n"
     ]
    },
    {
     "name": "stderr",
     "output_type": "stream",
     "text": [
      " 70%|███████████████████████████████████████▊                 | 1801276/2578433 [04:36<01:56, 6647.04it/s]"
     ]
    },
    {
     "name": "stdout",
     "output_type": "stream",
     "text": [
      "image shape:  (73, 43)  res shape:  (128, 128)\n"
     ]
    },
    {
     "name": "stderr",
     "output_type": "stream",
     "text": [
      " 74%|██████████████████████████████████████████               | 1900930/2578433 [04:52<01:51, 6090.62it/s]"
     ]
    },
    {
     "name": "stdout",
     "output_type": "stream",
     "text": [
      "image shape:  (31, 19)  res shape:  (128, 128)\n"
     ]
    },
    {
     "name": "stderr",
     "output_type": "stream",
     "text": [
      " 78%|████████████████████████████████████████████▏            | 2001000/2578433 [05:08<01:28, 6491.24it/s]"
     ]
    },
    {
     "name": "stdout",
     "output_type": "stream",
     "text": [
      "image shape:  (90, 93)  res shape:  (128, 128)\n"
     ]
    },
    {
     "name": "stderr",
     "output_type": "stream",
     "text": [
      " 81%|██████████████████████████████████████████████▍          | 2100620/2578433 [05:23<01:14, 6388.68it/s]"
     ]
    },
    {
     "name": "stdout",
     "output_type": "stream",
     "text": [
      "image shape:  (58, 93)  res shape:  (128, 128)\n"
     ]
    },
    {
     "name": "stderr",
     "output_type": "stream",
     "text": [
      " 85%|████████████████████████████████████████████████▋        | 2201215/2578433 [05:39<01:00, 6198.33it/s]"
     ]
    },
    {
     "name": "stdout",
     "output_type": "stream",
     "text": [
      "image shape:  (93, 66)  res shape:  (128, 128)\n"
     ]
    },
    {
     "name": "stderr",
     "output_type": "stream",
     "text": [
      " 89%|██████████████████████████████████████████████████▊      | 2300748/2578433 [05:55<00:41, 6612.42it/s]"
     ]
    },
    {
     "name": "stdout",
     "output_type": "stream",
     "text": [
      "image shape:  (78, 94)  res shape:  (128, 128)\n"
     ]
    },
    {
     "name": "stderr",
     "output_type": "stream",
     "text": [
      " 93%|█████████████████████████████████████████████████████    | 2400701/2578433 [06:10<00:27, 6444.42it/s]"
     ]
    },
    {
     "name": "stdout",
     "output_type": "stream",
     "text": [
      "image shape:  (72, 63)  res shape:  (128, 128)\n"
     ]
    },
    {
     "name": "stderr",
     "output_type": "stream",
     "text": [
      " 97%|███████████████████████████████████████████████████████▎ | 2500884/2578433 [06:26<00:12, 6126.71it/s]"
     ]
    },
    {
     "name": "stdout",
     "output_type": "stream",
     "text": [
      "image shape:  (44, 34)  res shape:  (128, 128)\n"
     ]
    },
    {
     "name": "stderr",
     "output_type": "stream",
     "text": [
      "100%|█████████████████████████████████████████████████████████| 2578433/2578433 [06:38<00:00, 6476.45it/s]\n"
     ]
    }
   ],
   "source": [
    "transformation = pad_prune(128, 128)\n",
    "for t in tqdm(range(train_helper.size())):\n",
    "    img, label = train_helper.get_item(t)\n",
    "    res = transformation(img)\n",
    "    if t % 100000 == 0:\n",
    "        print('image shape: ', img.shape, ' res shape: ', res.shape)"
   ]
  },
  {
   "cell_type": "code",
   "execution_count": 75,
   "id": "ee540bb2",
   "metadata": {},
   "outputs": [],
   "source": [
    "import torch\n",
    "\n",
    "from torch.utils.data import Dataset, DataLoader\n",
    "from torch import nn\n",
    "\n",
    "class HWDBDataset(Dataset):\n",
    "    def __init__(self, helper: HWDBDatasetHelper, transform = None):\n",
    "        self.helper = helper\n",
    "        self.transform = transform\n",
    "    \n",
    "    def __len__(self):\n",
    "        return self.helper.size()\n",
    "    \n",
    "    def __getitem__(self, idx):\n",
    "        img, label = self.helper.get_item(idx)\n",
    "        if self.transform:\n",
    "            img = self.transform(img)\n",
    "        return img, label"
   ]
  },
  {
   "cell_type": "code",
   "execution_count": 76,
   "id": "81246e37",
   "metadata": {},
   "outputs": [],
   "source": [
    "to_one_shape = pad_prune(128, 128)\n",
    "train_dataset = HWDBDataset(train_helper, to_one_shape)\n",
    "val_dataset = HWDBDataset(val_helper, to_one_shape)"
   ]
  },
  {
   "cell_type": "markdown",
   "id": "c96a31f6",
   "metadata": {},
   "source": [
    "### Model & training"
   ]
  },
  {
   "cell_type": "code",
   "execution_count": 77,
   "id": "a206677c",
   "metadata": {},
   "outputs": [],
   "source": [
    "class LeNet(nn.Module):\n",
    "    def __init__(self, n_classes):\n",
    "        super(LeNet, self).__init__()\n",
    "        self.nn = nn.Sequential(\n",
    "            nn.Conv2d(1, 4, kernel_size=3, padding=1),\n",
    "            nn.ReLU(),\n",
    "            nn.MaxPool2d((2, 2)), # [64, 64, 4] \n",
    "            \n",
    "            nn.Conv2d(4, 8, kernel_size=3, padding=1),\n",
    "            nn.BatchNorm2d(8),\n",
    "            nn.ReLU(),\n",
    "            nn.Conv2d(8, 8, kernel_size=3, padding=1),\n",
    "            nn.MaxPool2d((2, 2)), # [32, 32, 8] \n",
    "            \n",
    "            nn.Conv2d(8, 16, kernel_size=3, padding=1),\n",
    "            nn.BatchNorm2d(16),\n",
    "            nn.ReLU(),\n",
    "            nn.Conv2d(16, 16, kernel_size=3, padding=1),\n",
    "            nn.MaxPool2d((2, 2)), # [16, 16, 16]\n",
    "            \n",
    "            nn.Conv2d(16, 32, kernel_size=3, padding=1),\n",
    "            nn.BatchNorm2d(32),\n",
    "            nn.ReLU(),\n",
    "            nn.Conv2d(32, 32, kernel_size=3, padding=1),\n",
    "            nn.MaxPool2d((2, 2)), # [8, 8, 32]\n",
    "            \n",
    "            nn.Conv2d(32, 64, kernel_size=3, padding=1),\n",
    "            nn.BatchNorm2d(64),\n",
    "            nn.ReLU(),\n",
    "            nn.MaxPool2d((2, 2)), # [4, 4, 64]\n",
    "            \n",
    "            nn.Flatten(),\n",
    "            nn.Linear(4 * 4 * 64, 256),\n",
    "            nn.BatchNorm1d(256),\n",
    "            nn.ReLU(),\n",
    "            \n",
    "            nn.Linear(256, n_classes, bias=False)\n",
    "        )\n",
    "    \n",
    "    def forward(self, x):\n",
    "        return self.nn(x)"
   ]
  },
  {
   "cell_type": "code",
   "execution_count": 78,
   "id": "bfce028c",
   "metadata": {},
   "outputs": [
    {
     "data": {
      "text/plain": [
       "LeNet(\n",
       "  (nn): Sequential(\n",
       "    (0): Conv2d(1, 4, kernel_size=(3, 3), stride=(1, 1), padding=(1, 1))\n",
       "    (1): ReLU()\n",
       "    (2): MaxPool2d(kernel_size=(2, 2), stride=(2, 2), padding=0, dilation=1, ceil_mode=False)\n",
       "    (3): Conv2d(4, 8, kernel_size=(3, 3), stride=(1, 1), padding=(1, 1))\n",
       "    (4): BatchNorm2d(8, eps=1e-05, momentum=0.1, affine=True, track_running_stats=True)\n",
       "    (5): ReLU()\n",
       "    (6): Conv2d(8, 8, kernel_size=(3, 3), stride=(1, 1), padding=(1, 1))\n",
       "    (7): MaxPool2d(kernel_size=(2, 2), stride=(2, 2), padding=0, dilation=1, ceil_mode=False)\n",
       "    (8): Conv2d(8, 16, kernel_size=(3, 3), stride=(1, 1), padding=(1, 1))\n",
       "    (9): BatchNorm2d(16, eps=1e-05, momentum=0.1, affine=True, track_running_stats=True)\n",
       "    (10): ReLU()\n",
       "    (11): Conv2d(16, 16, kernel_size=(3, 3), stride=(1, 1), padding=(1, 1))\n",
       "    (12): MaxPool2d(kernel_size=(2, 2), stride=(2, 2), padding=0, dilation=1, ceil_mode=False)\n",
       "    (13): Conv2d(16, 32, kernel_size=(3, 3), stride=(1, 1), padding=(1, 1))\n",
       "    (14): BatchNorm2d(32, eps=1e-05, momentum=0.1, affine=True, track_running_stats=True)\n",
       "    (15): ReLU()\n",
       "    (16): Conv2d(32, 32, kernel_size=(3, 3), stride=(1, 1), padding=(1, 1))\n",
       "    (17): MaxPool2d(kernel_size=(2, 2), stride=(2, 2), padding=0, dilation=1, ceil_mode=False)\n",
       "    (18): Conv2d(32, 64, kernel_size=(3, 3), stride=(1, 1), padding=(1, 1))\n",
       "    (19): BatchNorm2d(64, eps=1e-05, momentum=0.1, affine=True, track_running_stats=True)\n",
       "    (20): ReLU()\n",
       "    (21): MaxPool2d(kernel_size=(2, 2), stride=(2, 2), padding=0, dilation=1, ceil_mode=False)\n",
       "    (22): Flatten()\n",
       "    (23): Linear(in_features=1024, out_features=256, bias=True)\n",
       "    (24): BatchNorm1d(256, eps=1e-05, momentum=0.1, affine=True, track_running_stats=True)\n",
       "    (25): ReLU()\n",
       "    (26): Linear(in_features=256, out_features=7330, bias=False)\n",
       "  )\n",
       ")"
      ]
     },
     "execution_count": 78,
     "metadata": {},
     "output_type": "execute_result"
    }
   ],
   "source": [
    "model = LeNet(train_helper.vocabulary.num_classes())\n",
    "model.eval()"
   ]
  },
  {
   "cell_type": "code",
   "execution_count": 79,
   "id": "adca8ef6",
   "metadata": {},
   "outputs": [
    {
     "data": {
      "text/plain": [
       "tensor([[-0.0254,  0.0250, -0.0358,  ..., -0.0471,  0.1480, -0.1036]],\n",
       "       grad_fn=<MmBackward>)"
      ]
     },
     "execution_count": 79,
     "metadata": {},
     "output_type": "execute_result"
    }
   ],
   "source": [
    "model(torch.tensor(train_dataset[0][0], dtype=torch.float32).view(1, 1, 128, 128))"
   ]
  },
  {
   "cell_type": "code",
   "execution_count": 80,
   "id": "9abad493",
   "metadata": {},
   "outputs": [],
   "source": [
    "model = model.cuda()"
   ]
  },
  {
   "cell_type": "code",
   "execution_count": 81,
   "id": "d110f6b7",
   "metadata": {},
   "outputs": [],
   "source": [
    "train_loader = DataLoader(train_dataset, batch_size=512, shuffle=True, drop_last=True, num_workers=8)\n",
    "val_loader = DataLoader(val_dataset, batch_size=2048, shuffle=False, num_workers=8)"
   ]
  },
  {
   "cell_type": "code",
   "execution_count": 82,
   "id": "4e4e4e5d",
   "metadata": {},
   "outputs": [],
   "source": [
    "optim = torch.optim.Adam(model.parameters(), lr=0.001)\n",
    "loss_fn = torch.nn.CrossEntropyLoss()"
   ]
  },
  {
   "cell_type": "code",
   "execution_count": 83,
   "id": "fa880e95",
   "metadata": {},
   "outputs": [],
   "source": [
    "from tqdm import tqdm\n",
    "\n",
    "\n",
    "def run_validation(val_loader: DataLoader, model: nn.Module, n_steps=None):\n",
    "    model.eval()\n",
    "    n_good = 0\n",
    "    n_all = 0\n",
    "    wrapper = lambda x: x\n",
    "    if n_steps is None:\n",
    "        n_steps = len(val_loader)\n",
    "        wrapper = tqdm\n",
    "    \n",
    "    with torch.no_grad():\n",
    "        for batch, (X, y) in enumerate(wrapper(val_loader)):\n",
    "            if batch == n_steps:\n",
    "                break\n",
    "            logits = model(X.unsqueeze(1).to(torch.float32).cuda())\n",
    "            classes = torch.argmax(logits, dim=1).cpu().numpy()\n",
    "            n_good += sum(classes == y.cpu().numpy())\n",
    "            n_all += len(classes)\n",
    "    \n",
    "    return n_good / n_all\n",
    "\n",
    "\n",
    "def train_epoch(train_loader: DataLoader, val_loader: DataLoader, model: nn.Module, optim, loss_fn):\n",
    "    for batch, (X, y) in enumerate(tqdm(train_loader)):\n",
    "        model.train()\n",
    "        logits = model(X.unsqueeze(1).to(torch.float32).cuda())\n",
    "        loss = loss_fn(logits, y.to(torch.long).cuda())\n",
    "        \n",
    "        optim.zero_grad()\n",
    "        loss.backward()\n",
    "        optim.step()"
   ]
  },
  {
   "cell_type": "code",
   "execution_count": 84,
   "id": "89a9b35f",
   "metadata": {},
   "outputs": [],
   "source": [
    "torch.save(model.state_dict(), 'baseline_played.pth')"
   ]
  },
  {
   "cell_type": "code",
   "execution_count": 85,
   "id": "53b50e82",
   "metadata": {
    "scrolled": false
   },
   "outputs": [
    {
     "name": "stdout",
     "output_type": "stream",
     "text": [
      "Epoch 0:\n"
     ]
    },
    {
     "name": "stderr",
     "output_type": "stream",
     "text": [
      "100%|█████████████████████████████████████████████████████████████████| 5036/5036 [09:09<00:00,  9.17it/s]\n",
      "100%|███████████████████████████████████████████████████████████████████| 315/315 [00:41<00:00,  7.56it/s]\n"
     ]
    },
    {
     "name": "stdout",
     "output_type": "stream",
     "text": [
      "accuracy: 0.7756609045173121\n",
      "Epoch 1:\n"
     ]
    },
    {
     "name": "stderr",
     "output_type": "stream",
     "text": [
      "100%|█████████████████████████████████████████████████████████████████| 5036/5036 [09:00<00:00,  9.32it/s]\n",
      "100%|███████████████████████████████████████████████████████████████████| 315/315 [00:41<00:00,  7.64it/s]\n"
     ]
    },
    {
     "name": "stdout",
     "output_type": "stream",
     "text": [
      "accuracy: 0.8368887185875469\n",
      "Epoch 2:\n"
     ]
    },
    {
     "name": "stderr",
     "output_type": "stream",
     "text": [
      "100%|█████████████████████████████████████████████████████████████████| 5036/5036 [08:59<00:00,  9.33it/s]\n",
      "100%|███████████████████████████████████████████████████████████████████| 315/315 [00:41<00:00,  7.60it/s]\n"
     ]
    },
    {
     "name": "stdout",
     "output_type": "stream",
     "text": [
      "accuracy: 0.8710861933358052\n",
      "Epoch 3:\n"
     ]
    },
    {
     "name": "stderr",
     "output_type": "stream",
     "text": [
      "100%|█████████████████████████████████████████████████████████████████| 5036/5036 [08:59<00:00,  9.33it/s]\n",
      "100%|███████████████████████████████████████████████████████████████████| 315/315 [00:41<00:00,  7.65it/s]\n"
     ]
    },
    {
     "name": "stdout",
     "output_type": "stream",
     "text": [
      "accuracy: 0.8755121321607362\n",
      "Epoch 4:\n"
     ]
    },
    {
     "name": "stderr",
     "output_type": "stream",
     "text": [
      "100%|█████████████████████████████████████████████████████████████████| 5036/5036 [08:59<00:00,  9.33it/s]\n",
      "100%|███████████████████████████████████████████████████████████████████| 315/315 [00:41<00:00,  7.56it/s]\n"
     ]
    },
    {
     "name": "stdout",
     "output_type": "stream",
     "text": [
      "accuracy: 0.882541199393741\n",
      "Epoch 5:\n"
     ]
    },
    {
     "name": "stderr",
     "output_type": "stream",
     "text": [
      "100%|█████████████████████████████████████████████████████████████████| 5036/5036 [09:00<00:00,  9.32it/s]\n",
      "100%|███████████████████████████████████████████████████████████████████| 315/315 [00:41<00:00,  7.55it/s]\n"
     ]
    },
    {
     "name": "stdout",
     "output_type": "stream",
     "text": [
      "accuracy: 0.8851955216262882\n",
      "Epoch 6:\n"
     ]
    },
    {
     "name": "stderr",
     "output_type": "stream",
     "text": [
      "100%|█████████████████████████████████████████████████████████████████| 5036/5036 [09:00<00:00,  9.32it/s]\n",
      "100%|███████████████████████████████████████████████████████████████████| 315/315 [00:42<00:00,  7.38it/s]\n"
     ]
    },
    {
     "name": "stdout",
     "output_type": "stream",
     "text": [
      "accuracy: 0.8803429675974118\n",
      "Epoch 7:\n"
     ]
    },
    {
     "name": "stderr",
     "output_type": "stream",
     "text": [
      "100%|█████████████████████████████████████████████████████████████████| 5036/5036 [09:00<00:00,  9.32it/s]\n",
      "100%|███████████████████████████████████████████████████████████████████| 315/315 [00:41<00:00,  7.62it/s]\n"
     ]
    },
    {
     "name": "stdout",
     "output_type": "stream",
     "text": [
      "accuracy: 0.8883803980397419\n",
      "Epoch 8:\n"
     ]
    },
    {
     "name": "stderr",
     "output_type": "stream",
     "text": [
      "100%|█████████████████████████████████████████████████████████████████| 5036/5036 [08:59<00:00,  9.33it/s]\n",
      "100%|███████████████████████████████████████████████████████████████████| 315/315 [00:42<00:00,  7.40it/s]\n"
     ]
    },
    {
     "name": "stdout",
     "output_type": "stream",
     "text": [
      "accuracy: 0.8794261327409328\n",
      "Epoch 9:\n"
     ]
    },
    {
     "name": "stderr",
     "output_type": "stream",
     "text": [
      "100%|█████████████████████████████████████████████████████████████████| 5036/5036 [08:59<00:00,  9.33it/s]\n",
      "100%|███████████████████████████████████████████████████████████████████| 315/315 [00:41<00:00,  7.50it/s]"
     ]
    },
    {
     "name": "stdout",
     "output_type": "stream",
     "text": [
      "accuracy: 0.8861806149153983\n"
     ]
    },
    {
     "name": "stderr",
     "output_type": "stream",
     "text": [
      "\n"
     ]
    }
   ],
   "source": [
    "for epoch in range(10):\n",
    "    print(f'Epoch {epoch}:')\n",
    "    train_epoch(train_loader, val_loader, model, optim, loss_fn)\n",
    "    accuracy = run_validation(val_loader, model)\n",
    "    print(f'accuracy: {accuracy}')\n",
    "    torch.save(model.state_dict(), f'baseline_played_epoch{epoch}.pth')"
   ]
  },
  {
   "cell_type": "markdown",
   "id": "cc1231a3",
   "metadata": {},
   "source": [
    "### Evaluation"
   ]
  },
  {
   "cell_type": "code",
   "execution_count": 86,
   "id": "8916dc66",
   "metadata": {},
   "outputs": [],
   "source": [
    "test_path = r'/DATA/ichuviliaeva/ocr_data/test.lmdb'\n",
    "pred_path = './pred_playground.txt'\n",
    "\n",
    "test_reader = LMDBReader(test_path)\n",
    "test_reader.open()\n",
    "test_helper = HWDBDatasetHelper(test_reader, prefix='Test')"
   ]
  },
  {
   "cell_type": "code",
   "execution_count": 89,
   "id": "3175725e",
   "metadata": {},
   "outputs": [],
   "source": [
    "test_dataset = HWDBDataset(test_helper, to_one_shape)\n",
    "test_loader = DataLoader(test_dataset, batch_size=2048, shuffle=False, num_workers=8)"
   ]
  },
  {
   "cell_type": "code",
   "execution_count": 90,
   "id": "f6134d02",
   "metadata": {},
   "outputs": [
    {
     "name": "stderr",
     "output_type": "stream",
     "text": [
      "100%|███████████████████████████████████████████████████████████████████| 380/380 [00:50<00:00,  7.58it/s]\n"
     ]
    }
   ],
   "source": [
    "preds = []\n",
    "model.eval()\n",
    "with torch.no_grad():\n",
    "    for X, _ in tqdm(test_loader):\n",
    "        logits = model(X.unsqueeze(1).to(torch.float32).cuda())\n",
    "        classes = torch.argmax(logits, dim=1).cpu().numpy()\n",
    "        preds.extend(classes)"
   ]
  },
  {
   "cell_type": "code",
   "execution_count": 91,
   "id": "a7cdb281",
   "metadata": {},
   "outputs": [],
   "source": [
    "with open(pred_path, 'w') as f_pred:\n",
    "    for idx, pred in enumerate(preds):\n",
    "        name = test_helper.namelist[idx]\n",
    "        cls = train_helper.vocabulary.class_by_index(pred)\n",
    "        print(name, cls, file=f_pred)"
   ]
  },
  {
   "cell_type": "code",
   "execution_count": 92,
   "id": "ca3b6af1",
   "metadata": {},
   "outputs": [
    {
     "name": "stdout",
     "output_type": "stream",
     "text": [
      "/bin/bash: /home/ichuviliaeva/miniconda3/envs/ocr_course/lib/python3.8/site-packages/cv2/../../../../lib/libtinfo.so.6: no version information available (required by /bin/bash)\n",
      "pred_path =  /home/ichuviliaeva/ocr_course/course_ocr/task2/pred_playground.txt\n",
      "Accuracy = 0.8325\n"
     ]
    }
   ],
   "source": [
    "!python -m course_ocr_t2.evaluate\n",
    "# Accuracy = 0.7978"
   ]
  },
  {
   "cell_type": "code",
   "execution_count": null,
   "id": "a31f60a6",
   "metadata": {},
   "outputs": [],
   "source": [
    "# with resize to 64 x 64 get 0.8166 accuracy -- remember that\n",
    "# with almost saving geometry at 128 x 128 get 0.8325 accuracy"
   ]
  },
  {
   "cell_type": "code",
   "execution_count": null,
   "id": "2ba56810",
   "metadata": {},
   "outputs": [],
   "source": []
  },
  {
   "cell_type": "code",
   "execution_count": null,
   "id": "561d5162",
   "metadata": {},
   "outputs": [],
   "source": []
  },
  {
   "cell_type": "code",
   "execution_count": 45,
   "id": "fc5e232d",
   "metadata": {},
   "outputs": [],
   "source": [
    "train_sizes = []\n",
    "val_sizes = []"
   ]
  },
  {
   "cell_type": "code",
   "execution_count": 46,
   "id": "dfee479a",
   "metadata": {},
   "outputs": [
    {
     "name": "stdout",
     "output_type": "stream",
     "text": [
      "1\n",
      "100001\n",
      "200001\n",
      "300001\n",
      "400001\n",
      "500001\n",
      "600001\n",
      "700001\n",
      "800001\n",
      "900001\n",
      "1000001\n",
      "1100001\n",
      "1200001\n",
      "1300001\n",
      "1400001\n",
      "1500001\n",
      "1600001\n",
      "1700001\n",
      "1800001\n",
      "1900001\n",
      "2000001\n",
      "2100001\n",
      "2200001\n",
      "2300001\n",
      "2400001\n",
      "2500001\n"
     ]
    }
   ],
   "source": [
    "for t in range(train_helper.size()):\n",
    "    img, label = train_helper.get_item(t)\n",
    "    train_sizes.append(img.shape)\n",
    "    if t % 100000 == 0:\n",
    "        print(len(train_sizes))"
   ]
  },
  {
   "cell_type": "code",
   "execution_count": 47,
   "id": "a0723def",
   "metadata": {},
   "outputs": [
    {
     "name": "stdout",
     "output_type": "stream",
     "text": [
      "1\n",
      "100001\n",
      "200001\n",
      "300001\n",
      "400001\n",
      "500001\n",
      "600001\n"
     ]
    }
   ],
   "source": [
    "for t in range(val_helper.size()):\n",
    "    img, label = val_helper.get_item(t)\n",
    "    val_sizes.append(img.shape)\n",
    "    if t % 100000 == 0:\n",
    "        print(len(val_sizes))"
   ]
  },
  {
   "cell_type": "code",
   "execution_count": 48,
   "id": "3a7a5145",
   "metadata": {},
   "outputs": [],
   "source": [
    "train_sizes = np.array(train_sizes)\n",
    "val_sizes = np.array(val_sizes)"
   ]
  },
  {
   "cell_type": "code",
   "execution_count": 49,
   "id": "f6544b81",
   "metadata": {},
   "outputs": [
    {
     "name": "stdout",
     "output_type": "stream",
     "text": [
      "(2578433, 2)\n"
     ]
    }
   ],
   "source": [
    "print(train_sizes.shape)"
   ]
  },
  {
   "cell_type": "code",
   "execution_count": 50,
   "id": "3a4d1053",
   "metadata": {},
   "outputs": [],
   "source": [
    "import matplotlib.pyplot as plt"
   ]
  },
  {
   "cell_type": "code",
   "execution_count": 65,
   "id": "87a161e7",
   "metadata": {},
   "outputs": [
    {
     "data": {
      "image/png": "[encoded data removed]",
      "text/plain": [
       "<Figure size 640x480 with 1 Axes>"
      ]
     },
     "metadata": {},
     "output_type": "display_data"
    },
    {
     "data": {
      "image/png": "[encoded data removed]",
      "text/plain": [
       "<Figure size 640x480 with 1 Axes>"
      ]
     },
     "metadata": {},
     "output_type": "display_data"
    }
   ],
   "source": [
    "plt.hist(train_sizes[:, 0], bins = 50, label = 'train')\n",
    "plt.hist(val_sizes[:, 0], bins = 50, label = 'val')\n",
    "plt.title('Ширина')\n",
    "plt.legend()\n",
    "plt.show()\n",
    "\n",
    "plt.hist(train_sizes[:, 1], bins = 50, label = 'train')\n",
    "plt.hist(val_sizes[:, 1], bins = 50, label = 'val')\n",
    "plt.title('Высота')\n",
    "plt.legend()\n",
    "plt.show()"
   ]
  },
  {
   "cell_type": "code",
   "execution_count": null,
   "id": "f4b529bc",
   "metadata": {},
   "outputs": [],
   "source": [
    "# взять размер 128 х 128 и тупо дополнить нулями, где не хватает. Где много - обрезка."
   ]
  },
  {
   "cell_type": "code",
   "execution_count": 72,
   "id": "70c97801",
   "metadata": {},
   "outputs": [],
   "source": [
    "img, label = train_helper.get_item(0)"
   ]
  },
  {
   "cell_type": "code",
   "execution_count": 76,
   "id": "8f98d519",
   "metadata": {},
   "outputs": [
    {
     "data": {
      "text/plain": [
       "(78, 84)"
      ]
     },
     "execution_count": 76,
     "metadata": {},
     "output_type": "execute_result"
    }
   ],
   "source": [
    "img.shape"
   ]
  },
  {
   "cell_type": "code",
   "execution_count": 78,
   "id": "ca825a34",
   "metadata": {},
   "outputs": [],
   "source": [
    "masked = torch.zeros((128, 128))\n",
    "masked[:img.shape[0], :img.shape[1]] = torch.tensor(img)"
   ]
  },
  {
   "cell_type": "code",
   "execution_count": 79,
   "id": "c3bbb761",
   "metadata": {},
   "outputs": [
    {
     "name": "stdout",
     "output_type": "stream",
     "text": [
      "tensor([[255., 255., 255.,  ...,   0.,   0.,   0.],\n",
      "        [255., 255., 255.,  ...,   0.,   0.,   0.],\n",
      "        [255., 255., 255.,  ...,   0.,   0.,   0.],\n",
      "        ...,\n",
      "        [  0.,   0.,   0.,  ...,   0.,   0.,   0.],\n",
      "        [  0.,   0.,   0.,  ...,   0.,   0.,   0.],\n",
      "        [  0.,   0.,   0.,  ...,   0.,   0.,   0.]])\n"
     ]
    }
   ],
   "source": [
    "print(masked)"
   ]
  },
  {
   "cell_type": "code",
   "execution_count": 89,
   "id": "b18b58bf",
   "metadata": {},
   "outputs": [],
   "source": [
    "img_rand = torch.rand((133, 140))"
   ]
  },
  {
   "cell_type": "code",
   "execution_count": 90,
   "id": "8ee16587",
   "metadata": {},
   "outputs": [
    {
     "name": "stderr",
     "output_type": "stream",
     "text": [
      "/tmp/ipykernel_2554219/2122049748.py:5: UserWarning: To copy construct from a tensor, it is recommended to use sourceTensor.clone().detach() or sourceTensor.clone().detach().requires_grad_(True), rather than torch.tensor(sourceTensor).\n",
      "  masked = torch.tensor(img_rand[(diff_w // 2):(w - diff_w), (diff_h // 2):(h - diff_h)])\n"
     ]
    }
   ],
   "source": [
    "w, h = img_rand.shape\n",
    "diff_w = w - 128\n",
    "diff_h = h - 128\n",
    "masked = torch.zeros((128, 128))\n",
    "masked = torch.tensor(img_rand[(diff_w // 2):(w - diff_w), (diff_h // 2):(h - diff_h)])"
   ]
  },
  {
   "cell_type": "code",
   "execution_count": 91,
   "id": "f32ab147",
   "metadata": {},
   "outputs": [
    {
     "name": "stdout",
     "output_type": "stream",
     "text": [
      "tensor([[0.7955, 0.0157, 0.8531,  ..., 0.7344, 0.5561, 0.9470],\n",
      "        [0.7436, 0.8476, 0.8353,  ..., 0.7002, 0.8984, 0.5729],\n",
      "        [0.8020, 0.9979, 0.4592,  ..., 0.9926, 0.4855, 0.6594],\n",
      "        ...,\n",
      "        [0.7656, 0.1233, 0.8527,  ..., 0.3913, 0.0388, 0.7193],\n",
      "        [0.2448, 0.2325, 0.5297,  ..., 0.4655, 0.3920, 0.1027],\n",
      "        [0.2679, 0.7449, 0.2932,  ..., 0.6783, 0.2164, 0.2352]])\n"
     ]
    }
   ],
   "source": [
    "print(masked)"
   ]
  },
  {
   "cell_type": "code",
   "execution_count": 33,
   "id": "765974f9",
   "metadata": {},
   "outputs": [
    {
     "name": "stdout",
     "output_type": "stream",
     "text": [
      "diff_w =  -9\n",
      "diff_h =  -29\n",
      "was here\n"
     ]
    }
   ],
   "source": [
    "img_rand = np.random.rand(119, 99)\n",
    "w, h = img_rand.shape\n",
    "diff_w = w - 128\n",
    "diff_h = h - 128\n",
    "print('diff_w = ', diff_w)\n",
    "print('diff_h = ', diff_h)\n",
    "masked = np.zeros((128, 128))\n",
    "        \n",
    "if diff_w <= 0:\n",
    "    if diff_h <= 0:\n",
    "        masked[:w, :h] = img_rand\n",
    "        print('was here')\n",
    "    else:\n",
    "        masked[:w, :] = img_rand[:, (diff_h // 2):(h - diff_h)]\n",
    "            \n",
    "if diff_w > 0:\n",
    "    if diff_h > 0:\n",
    "        masked = img_rand[(diff_w // 2):(w - diff_w), (diff_h // 2):(h - diff_h)]\n",
    "    else:\n",
    "        masked[:, :h] = img_rand[(diff_w // 2):(w - diff_w), :]"
   ]
  },
  {
   "cell_type": "code",
   "execution_count": null,
   "id": "18c7ddfe",
   "metadata": {},
   "outputs": [],
   "source": []
  }
 ],
 "metadata": {
  "kernelspec": {
   "display_name": "Python 3 (ipykernel)",
   "language": "python",
   "name": "python3"
  },
  "language_info": {
   "codemirror_mode": {
    "name": "ipython",
    "version": 3
   },
   "file_extension": ".py",
   "mimetype": "text/x-python",
   "name": "python",
   "nbconvert_exporter": "python",
   "pygments_lexer": "ipython3",
   "version": "3.8.16"
  }
 },
 "nbformat": 4,
 "nbformat_minor": 5
}
