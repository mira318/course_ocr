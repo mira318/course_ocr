{
 "cells": [
  {
   "cell_type": "code",
   "execution_count": 1,
   "id": "48f90b0a",
   "metadata": {},
   "outputs": [],
   "source": [
    "from data_reader import Vocabulary, HWDBDatasetHelper, LMDBReader\n",
    "\n",
    "# your path to data\n",
    "train_path = r'/DATA/ichuviliaeva/ocr_data/train.lmdb'\n",
    "test_path = r'/DATA/ichuviliaeva/ocr_data/test.lmdb'\n",
    "gt_path = r'/DATA/ichuviliaeva/ocr_data/gt.txt'"
   ]
  },
  {
   "cell_type": "code",
   "execution_count": 2,
   "id": "e2376a06",
   "metadata": {},
   "outputs": [],
   "source": [
    "import cv2\n",
    "import numpy as np"
   ]
  },
  {
   "cell_type": "code",
   "execution_count": 3,
   "id": "51cca40d",
   "metadata": {},
   "outputs": [],
   "source": [
    "train_reader = LMDBReader(train_path)\n",
    "train_reader.open()\n",
    "train_helper = HWDBDatasetHelper(train_reader)"
   ]
  },
  {
   "cell_type": "code",
   "execution_count": 4,
   "id": "0da85d47",
   "metadata": {},
   "outputs": [],
   "source": [
    "train_helper, val_helper = train_helper.train_val_split()"
   ]
  },
  {
   "cell_type": "code",
   "execution_count": 5,
   "id": "db80c907",
   "metadata": {},
   "outputs": [
    {
     "data": {
      "text/plain": [
       "(2578433, 644609)"
      ]
     },
     "execution_count": 5,
     "metadata": {},
     "output_type": "execute_result"
    }
   ],
   "source": [
    "train_helper.size(), val_helper.size()"
   ]
  },
  {
   "cell_type": "code",
   "execution_count": 6,
   "id": "555b5e50",
   "metadata": {},
   "outputs": [],
   "source": [
    "class pad_prune(object):\n",
    "    \n",
    "    def __init__(self, output_w, output_h):\n",
    "        self.output_w = output_w\n",
    "        self.output_h = output_h\n",
    "\n",
    "    def __call__(self, image):\n",
    "        \n",
    "        w, h = image.shape\n",
    "        diff_w = w - self.output_w\n",
    "        diff_h = h - self.output_h\n",
    "        masked = np.zeros((self.output_w, self.output_h))\n",
    "        if diff_w <= 0:\n",
    "            if diff_h <= 0:\n",
    "                masked[:w, :h] = image\n",
    "            else:\n",
    "                masked[:w, :] = image[:, (diff_h // 2):(h - (diff_h - diff_h // 2))]\n",
    "            \n",
    "        if diff_w > 0:\n",
    "            if diff_h > 0:\n",
    "                masked = image[(diff_w // 2):(w - (diff_w - diff_w // 2)), \n",
    "                               (diff_h // 2):(h - (diff_h - diff_h // 2))]\n",
    "            else:\n",
    "                masked[:, :h] = image[(diff_w // 2):(w - (diff_w - diff_w // 2)), :]\n",
    "        return masked - 127.5 / 255.0  "
   ]
  },
  {
   "cell_type": "code",
   "execution_count": 7,
   "id": "8247a2a9",
   "metadata": {},
   "outputs": [
    {
     "name": "stderr",
     "output_type": "stream",
     "text": [
      "/home/ichuviliaeva/miniconda3/envs/ocr_course/lib/python3.8/site-packages/tqdm/auto.py:22: TqdmWarning: IProgress not found. Please update jupyter and ipywidgets. See https://ipywidgets.readthedocs.io/en/stable/user_install.html\n",
      "  from .autonotebook import tqdm as notebook_tqdm\n"
     ]
    }
   ],
   "source": [
    "import torch\n",
    "\n",
    "from torch.utils.data import Dataset, DataLoader\n",
    "from torch import nn\n",
    "\n",
    "class HWDBDataset(Dataset):\n",
    "    def __init__(self, helper: HWDBDatasetHelper, transform = None):\n",
    "        self.helper = helper\n",
    "        self.transform = transform\n",
    "    \n",
    "    def __len__(self):\n",
    "        return self.helper.size()\n",
    "    \n",
    "    def __getitem__(self, idx):\n",
    "        img, label = self.helper.get_item(idx)\n",
    "        if self.transform:\n",
    "            img = self.transform(img)\n",
    "        return img, label"
   ]
  },
  {
   "cell_type": "code",
   "execution_count": 8,
   "id": "5cd2bd7e",
   "metadata": {},
   "outputs": [],
   "source": [
    "to_one_shape = pad_prune(128, 128)\n",
    "train_dataset = HWDBDataset(train_helper, to_one_shape)\n",
    "val_dataset = HWDBDataset(val_helper, to_one_shape)"
   ]
  },
  {
   "cell_type": "code",
   "execution_count": 9,
   "id": "7ce0ee48",
   "metadata": {},
   "outputs": [],
   "source": [
    "class SimpleBlock(nn.Module):\n",
    "        \n",
    "    def __init__(self, in_channels, out_channels, kernel_size, padding, stride, is_projection = False):\n",
    "        super().__init__()\n",
    "        self.bn1 = nn.BatchNorm2d(num_features = in_channels)\n",
    "        self.relu1 = nn.ReLU()\n",
    "        self.conv1 = nn.Conv2d(in_channels = in_channels, out_channels = out_channels, \n",
    "                               kernel_size = kernel_size, padding = padding, stride = stride)\n",
    "            \n",
    "        self.bn2 = nn.BatchNorm2d(num_features = out_channels)\n",
    "        self.relu2 = nn.ReLU()\n",
    "        self.conv2 = nn.Conv2d(in_channels = out_channels, out_channels = out_channels,\n",
    "                               kernel_size = kernel_size, padding = padding, stride = stride)\n",
    "        if is_projection:\n",
    "            self.project = nn.Conv2d(in_channels = in_channels, out_channels = out_channels,\n",
    "                               kernel_size = 1, padding = 0, stride = stride)\n",
    "        else:\n",
    "            self.project = lambda x: x\n",
    "            \n",
    "    def forward(self, x):            \n",
    "        out = self.conv1(self.relu1(self.bn1(x)))\n",
    "        out = self.conv2(self.relu2(self.bn2(out)))\n",
    "        return out + self.project(x)"
   ]
  },
  {
   "cell_type": "code",
   "execution_count": 10,
   "id": "cefe5cf1",
   "metadata": {},
   "outputs": [],
   "source": [
    "class TheNet(nn.Module):\n",
    "    def __init__(self, n_classes):\n",
    "        super(TheNet, self).__init__()\n",
    "        self.nn = nn.Sequential(\n",
    "            nn.Conv2d(in_channels = 1, out_channels = 4, kernel_size = 5, stride = 2),\n",
    "            nn.ReLU(),\n",
    "            \n",
    "            SimpleBlock(in_channels = 4, out_channels = 4, kernel_size = 3, padding = 1, stride = 1),\n",
    "            SimpleBlock(in_channels = 4, out_channels = 4, kernel_size = 3, padding = 1, stride = 1, \n",
    "                             is_projection = True),\n",
    "            \n",
    "            nn.Conv2d(4, 8, kernel_size=3, padding=1),\n",
    "            nn.BatchNorm2d(8),\n",
    "            nn.ReLU(),\n",
    "            nn.Conv2d(8, 8, kernel_size=3, padding=1),\n",
    "            nn.MaxPool2d((2, 2)),\n",
    "           \n",
    "            SimpleBlock(in_channels = 8, out_channels = 8, kernel_size = 3, padding = 1, stride = 1),\n",
    "            SimpleBlock(in_channels = 8, out_channels = 8, kernel_size = 3, padding = 1, stride = 1, \n",
    "                             is_projection = True),\n",
    "            \n",
    "            nn.Conv2d(8, 16, kernel_size=3, padding=1),\n",
    "            nn.BatchNorm2d(16),\n",
    "            nn.ReLU(),\n",
    "            nn.Conv2d(16, 16, kernel_size=3, padding=1),\n",
    "            nn.MaxPool2d((2, 2)),\n",
    "            \n",
    "            SimpleBlock(in_channels = 16, out_channels = 16, kernel_size = 3, padding = 1, stride = 1),\n",
    "            SimpleBlock(in_channels = 16, out_channels = 16, kernel_size = 3, padding = 1, stride = 1, \n",
    "                             is_projection = True),\n",
    "            \n",
    "            nn.Conv2d(16, 32, kernel_size=3, padding=1),\n",
    "            nn.BatchNorm2d(32),\n",
    "            nn.ReLU(),\n",
    "            nn.Conv2d(32, 32, kernel_size=3, padding=1),\n",
    "            nn.MaxPool2d((2, 2)),\n",
    "            \n",
    "            SimpleBlock(in_channels = 32, out_channels = 32, kernel_size = 3, padding = 1, stride = 1),\n",
    "            SimpleBlock(in_channels = 32, out_channels = 32, kernel_size = 3, padding = 1, stride = 1, \n",
    "                             is_projection = True),\n",
    "            \n",
    "            nn.Conv2d(32, 32, kernel_size=3, padding=1),\n",
    "            nn.BatchNorm2d(32),\n",
    "            nn.ReLU(),\n",
    "            nn.Conv2d(32, 32, kernel_size=3, padding=1),\n",
    "            nn.MaxPool2d((2, 2)),\n",
    "            \n",
    "            nn.Flatten(),\n",
    "            nn.Linear(3 * 3 * 32, 128),\n",
    "            nn.BatchNorm1d(128),\n",
    "            nn.ReLU(),\n",
    "            \n",
    "            nn.Linear(128, n_classes, bias=False)\n",
    "        )\n",
    "            \n",
    "    def forward(self, x):\n",
    "        return self.nn(x)"
   ]
  },
  {
   "cell_type": "code",
   "execution_count": 11,
   "id": "2be74d65",
   "metadata": {},
   "outputs": [
    {
     "name": "stdout",
     "output_type": "stream",
     "text": [
      "torch.Size([1, 7330])\n"
     ]
    }
   ],
   "source": [
    "model = TheNet(train_helper.vocabulary.num_classes())\n",
    "model.eval()\n",
    "res = model(torch.tensor(train_dataset[0][0], dtype=torch.float32).view(1, 1, 128, 128))\n",
    "print(res.shape)"
   ]
  },
  {
   "cell_type": "code",
   "execution_count": 14,
   "id": "ce177b09",
   "metadata": {},
   "outputs": [],
   "source": [
    "model = model.cuda()"
   ]
  },
  {
   "cell_type": "code",
   "execution_count": 18,
   "id": "853e4de1",
   "metadata": {},
   "outputs": [],
   "source": [
    "train_loader = DataLoader(train_dataset, batch_size=512, shuffle=True, drop_last=True, num_workers=8)\n",
    "val_loader = DataLoader(val_dataset, batch_size=2048, shuffle=False, num_workers=8)"
   ]
  },
  {
   "cell_type": "code",
   "execution_count": 19,
   "id": "0dcb8f65",
   "metadata": {},
   "outputs": [],
   "source": [
    "optim = torch.optim.Adam(model.parameters(), lr=0.001)\n",
    "loss_fn = torch.nn.CrossEntropyLoss()"
   ]
  },
  {
   "cell_type": "code",
   "execution_count": 20,
   "id": "924f7a41",
   "metadata": {},
   "outputs": [],
   "source": [
    "from tqdm import tqdm\n",
    "\n",
    "\n",
    "def run_validation(val_loader: DataLoader, model: nn.Module, n_steps=None):\n",
    "    model.eval()\n",
    "    n_good = 0\n",
    "    n_all = 0\n",
    "    wrapper = lambda x: x\n",
    "    if n_steps is None:\n",
    "        n_steps = len(val_loader)\n",
    "        wrapper = tqdm\n",
    "    \n",
    "    with torch.no_grad():\n",
    "        for batch, (X, y) in enumerate(wrapper(val_loader)):\n",
    "            if batch == n_steps:\n",
    "                break\n",
    "            logits = model(X.unsqueeze(1).to(torch.float32).cuda())\n",
    "            classes = torch.argmax(logits, dim=1).cpu().numpy()\n",
    "            n_good += sum(classes == y.cpu().numpy())\n",
    "            n_all += len(classes)\n",
    "    \n",
    "    return n_good / n_all\n",
    "\n",
    "\n",
    "def train_epoch(train_loader: DataLoader, val_loader: DataLoader, model: nn.Module, optim, loss_fn):\n",
    "    for batch, (X, y) in enumerate(tqdm(train_loader)):\n",
    "        model.train()\n",
    "        logits = model(X.unsqueeze(1).to(torch.float32).cuda())\n",
    "        loss = loss_fn(logits, y.to(torch.long).cuda())\n",
    "        \n",
    "        optim.zero_grad()\n",
    "        loss.backward()\n",
    "        optim.step()"
   ]
  },
  {
   "cell_type": "code",
   "execution_count": 18,
   "id": "59172f23",
   "metadata": {},
   "outputs": [],
   "source": [
    "torch.save(model.state_dict(), 'arch1.pth')"
   ]
  },
  {
   "cell_type": "code",
   "execution_count": 19,
   "id": "54a4b592",
   "metadata": {
    "scrolled": false
   },
   "outputs": [
    {
     "name": "stdout",
     "output_type": "stream",
     "text": [
      "Epoch 0:\n"
     ]
    },
    {
     "name": "stderr",
     "output_type": "stream",
     "text": [
      "100%|█████████████████████████████████████████████████████████████████| 5036/5036 [14:28<00:00,  5.80it/s]\n",
      "100%|███████████████████████████████████████████████████████████████████| 315/315 [00:51<00:00,  6.10it/s]\n"
     ]
    },
    {
     "name": "stdout",
     "output_type": "stream",
     "text": [
      "accuracy: 0.7978836783228282\n",
      "Epoch 1:\n"
     ]
    },
    {
     "name": "stderr",
     "output_type": "stream",
     "text": [
      "100%|█████████████████████████████████████████████████████████████████| 5036/5036 [14:28<00:00,  5.80it/s]\n",
      "100%|███████████████████████████████████████████████████████████████████| 315/315 [00:51<00:00,  6.12it/s]\n"
     ]
    },
    {
     "name": "stdout",
     "output_type": "stream",
     "text": [
      "accuracy: 0.8413503379568079\n",
      "Epoch 2:\n"
     ]
    },
    {
     "name": "stderr",
     "output_type": "stream",
     "text": [
      "100%|█████████████████████████████████████████████████████████████████| 5036/5036 [14:28<00:00,  5.80it/s]\n",
      "100%|███████████████████████████████████████████████████████████████████| 315/315 [00:50<00:00,  6.29it/s]\n"
     ]
    },
    {
     "name": "stdout",
     "output_type": "stream",
     "text": [
      "accuracy: 0.8847968303266011\n",
      "Epoch 3:\n"
     ]
    },
    {
     "name": "stderr",
     "output_type": "stream",
     "text": [
      "100%|█████████████████████████████████████████████████████████████████| 5036/5036 [14:28<00:00,  5.80it/s]\n",
      "100%|███████████████████████████████████████████████████████████████████| 315/315 [00:50<00:00,  6.22it/s]\n"
     ]
    },
    {
     "name": "stdout",
     "output_type": "stream",
     "text": [
      "accuracy: 0.8938302133541418\n",
      "Epoch 4:\n"
     ]
    },
    {
     "name": "stderr",
     "output_type": "stream",
     "text": [
      "100%|█████████████████████████████████████████████████████████████████| 5036/5036 [15:21<00:00,  5.46it/s]\n",
      "100%|███████████████████████████████████████████████████████████████████| 315/315 [00:50<00:00,  6.29it/s]\n"
     ]
    },
    {
     "name": "stdout",
     "output_type": "stream",
     "text": [
      "accuracy: 0.8943855887832779\n",
      "Epoch 5:\n"
     ]
    },
    {
     "name": "stderr",
     "output_type": "stream",
     "text": [
      "100%|█████████████████████████████████████████████████████████████████| 5036/5036 [14:26<00:00,  5.81it/s]\n",
      "100%|███████████████████████████████████████████████████████████████████| 315/315 [00:49<00:00,  6.30it/s]\n"
     ]
    },
    {
     "name": "stdout",
     "output_type": "stream",
     "text": [
      "accuracy: 0.9074756945683352\n",
      "Epoch 6:\n"
     ]
    },
    {
     "name": "stderr",
     "output_type": "stream",
     "text": [
      "100%|█████████████████████████████████████████████████████████████████| 5036/5036 [14:26<00:00,  5.81it/s]\n",
      "100%|███████████████████████████████████████████████████████████████████| 315/315 [00:49<00:00,  6.31it/s]\n"
     ]
    },
    {
     "name": "stdout",
     "output_type": "stream",
     "text": [
      "accuracy: 0.9024044032894359\n",
      "Epoch 7:\n"
     ]
    },
    {
     "name": "stderr",
     "output_type": "stream",
     "text": [
      " 84%|██████████████████████████████████████████████████████▌          | 4228/5036 [12:06<02:19,  5.80it/s]"
     ]
    }
   ],
   "source": [
    "for epoch in range(10):\n",
    "    print(f'Epoch {epoch}:')\n",
    "    train_epoch(train_loader, val_loader, model, optim, loss_fn)\n",
    "    accuracy = run_validation(val_loader, model)\n",
    "    print(f'accuracy: {accuracy}')\n",
    "    if epoch % 5 == 0 or epoch == 9:\n",
    "        torch.save(model.state_dict(), f'arch1_epoch{epoch}.pth')"
   ]
  },
  {
   "cell_type": "code",
   "execution_count": 22,
   "id": "0d9ad1a8",
   "metadata": {},
   "outputs": [
    {
     "data": {
      "text/plain": [
       "<All keys matched successfully>"
      ]
     },
     "execution_count": 22,
     "metadata": {},
     "output_type": "execute_result"
    }
   ],
   "source": [
    "model.load_state_dict(torch.load(f'arch1_epoch5.pth'))"
   ]
  },
  {
   "cell_type": "code",
   "execution_count": 23,
   "id": "41c56aff",
   "metadata": {},
   "outputs": [],
   "source": [
    "model = model.cuda()"
   ]
  },
  {
   "cell_type": "code",
   "execution_count": 24,
   "id": "069556c1",
   "metadata": {},
   "outputs": [
    {
     "name": "stdout",
     "output_type": "stream",
     "text": [
      "Epoch 6:\n"
     ]
    },
    {
     "name": "stderr",
     "output_type": "stream",
     "text": [
      "100%|█████████████████████████████████████████████████████████████████| 5036/5036 [14:29<00:00,  5.79it/s]\n",
      "100%|███████████████████████████████████████████████████████████████████| 315/315 [00:49<00:00,  6.30it/s]\n"
     ]
    },
    {
     "name": "stdout",
     "output_type": "stream",
     "text": [
      "accuracy: 0.9101207088327963\n",
      "Epoch 7:\n"
     ]
    },
    {
     "name": "stderr",
     "output_type": "stream",
     "text": [
      "100%|█████████████████████████████████████████████████████████████████| 5036/5036 [14:26<00:00,  5.81it/s]\n",
      "100%|███████████████████████████████████████████████████████████████████| 315/315 [00:50<00:00,  6.24it/s]\n"
     ]
    },
    {
     "name": "stdout",
     "output_type": "stream",
     "text": [
      "accuracy: 0.9121638078276909\n",
      "Epoch 8:\n"
     ]
    },
    {
     "name": "stderr",
     "output_type": "stream",
     "text": [
      "100%|█████████████████████████████████████████████████████████████████| 5036/5036 [14:26<00:00,  5.81it/s]\n",
      "100%|███████████████████████████████████████████████████████████████████| 315/315 [00:50<00:00,  6.29it/s]\n"
     ]
    },
    {
     "name": "stdout",
     "output_type": "stream",
     "text": [
      "accuracy: 0.9174305664363979\n",
      "Epoch 9:\n"
     ]
    },
    {
     "name": "stderr",
     "output_type": "stream",
     "text": [
      "100%|█████████████████████████████████████████████████████████████████| 5036/5036 [14:26<00:00,  5.81it/s]\n",
      "100%|███████████████████████████████████████████████████████████████████| 315/315 [00:49<00:00,  6.32it/s]"
     ]
    },
    {
     "name": "stdout",
     "output_type": "stream",
     "text": [
      "accuracy: 0.9090828703911984\n"
     ]
    },
    {
     "name": "stderr",
     "output_type": "stream",
     "text": [
      "\n"
     ]
    }
   ],
   "source": [
    "epoch = 6\n",
    "while epoch < 10:\n",
    "    print(f'Epoch {epoch}:')\n",
    "    train_epoch(train_loader, val_loader, model, optim, loss_fn)\n",
    "    accuracy = run_validation(val_loader, model)\n",
    "    print(f'accuracy: {accuracy}')\n",
    "    \n",
    "    if epoch % 5 == 0 or epoch == 9:\n",
    "        torch.save(model.state_dict(), f'arch1_epoch{epoch}.pth')\n",
    "    epoch += 1"
   ]
  },
  {
   "cell_type": "code",
   "execution_count": 32,
   "id": "f61f9e39",
   "metadata": {},
   "outputs": [
    {
     "name": "stdout",
     "output_type": "stream",
     "text": [
      "Epoch 10:\n"
     ]
    },
    {
     "name": "stderr",
     "output_type": "stream",
     "text": [
      "100%|█████████████████████████████████████████████████████████████████| 5036/5036 [14:27<00:00,  5.80it/s]\n",
      "100%|███████████████████████████████████████████████████████████████████| 315/315 [00:52<00:00,  6.03it/s]\n"
     ]
    },
    {
     "name": "stdout",
     "output_type": "stream",
     "text": [
      "accuracy: 0.9171745973140307\n",
      "Epoch 11:\n"
     ]
    },
    {
     "name": "stderr",
     "output_type": "stream",
     "text": [
      "100%|█████████████████████████████████████████████████████████████████| 5036/5036 [14:26<00:00,  5.81it/s]\n",
      "100%|███████████████████████████████████████████████████████████████████| 315/315 [00:50<00:00,  6.18it/s]"
     ]
    },
    {
     "name": "stdout",
     "output_type": "stream",
     "text": [
      "accuracy: 0.9158714817819794\n"
     ]
    },
    {
     "name": "stderr",
     "output_type": "stream",
     "text": [
      "\n"
     ]
    }
   ],
   "source": [
    "model.load_state_dict(torch.load(f'arch1_epoch9.pth'))\n",
    "epoch = 10\n",
    "while epoch < 12:\n",
    "    print(f'Epoch {epoch}:')\n",
    "    train_epoch(train_loader, val_loader, model, optim, loss_fn)\n",
    "    accuracy = run_validation(val_loader, model)\n",
    "    print(f'accuracy: {accuracy}')\n",
    "    \n",
    "    if epoch % 5 == 0 or epoch == 9:\n",
    "        torch.save(model.state_dict(), f'arch1_epoch{epoch}.pth')\n",
    "    epoch += 1"
   ]
  },
  {
   "cell_type": "code",
   "execution_count": 33,
   "id": "023455b9",
   "metadata": {},
   "outputs": [],
   "source": [
    "torch.save(model.state_dict(), f'arch1_final.pth')"
   ]
  },
  {
   "cell_type": "code",
   "execution_count": 34,
   "id": "037055dd",
   "metadata": {},
   "outputs": [],
   "source": [
    "test_path = r'/DATA/ichuviliaeva/ocr_data/test.lmdb'\n",
    "pred_path = './pred.txt'\n",
    "\n",
    "test_reader = LMDBReader(test_path)\n",
    "test_reader.open()\n",
    "test_helper = HWDBDatasetHelper(test_reader, prefix='Test')"
   ]
  },
  {
   "cell_type": "code",
   "execution_count": 35,
   "id": "93c83455",
   "metadata": {},
   "outputs": [],
   "source": [
    "test_dataset = HWDBDataset(test_helper, to_one_shape)\n",
    "test_loader = DataLoader(test_dataset, batch_size=2048, shuffle=False, num_workers=8)"
   ]
  },
  {
   "cell_type": "code",
   "execution_count": 36,
   "id": "a55d06ab",
   "metadata": {},
   "outputs": [
    {
     "name": "stderr",
     "output_type": "stream",
     "text": [
      "100%|███████████████████████████████████████████████████████████████████| 380/380 [01:00<00:00,  6.31it/s]\n"
     ]
    }
   ],
   "source": [
    "preds = []\n",
    "model.eval()\n",
    "with torch.no_grad():\n",
    "    for X, _ in tqdm(test_loader):\n",
    "        logits = model(X.unsqueeze(1).to(torch.float32).cuda())\n",
    "        classes = torch.argmax(logits, dim=1).cpu().numpy()\n",
    "        preds.extend(classes)"
   ]
  },
  {
   "cell_type": "code",
   "execution_count": 37,
   "id": "36e59aa6",
   "metadata": {},
   "outputs": [],
   "source": [
    "with open(pred_path, 'w') as f_pred:\n",
    "    for idx, pred in enumerate(preds):\n",
    "        name = test_helper.namelist[idx]\n",
    "        cls = train_helper.vocabulary.class_by_index(pred)\n",
    "        print(name, cls, file=f_pred)"
   ]
  },
  {
   "cell_type": "code",
   "execution_count": 38,
   "id": "eed8554f",
   "metadata": {},
   "outputs": [
    {
     "name": "stdout",
     "output_type": "stream",
     "text": [
      "/bin/bash: /home/ichuviliaeva/miniconda3/envs/ocr_course/lib/python3.8/site-packages/cv2/../../../../lib/libtinfo.so.6: no version information available (required by /bin/bash)\n",
      "pred_path =  /home/ichuviliaeva/ocr_course/course_ocr/task2/pred.txt\n",
      "Accuracy = 0.8778\n"
     ]
    }
   ],
   "source": [
    "!python -m course_ocr_t2.evaluate\n",
    "# Accuracy = 0.7978"
   ]
  },
  {
   "cell_type": "code",
   "execution_count": null,
   "id": "ae83aaa0",
   "metadata": {},
   "outputs": [],
   "source": []
  }
 ],
 "metadata": {
  "kernelspec": {
   "display_name": "Python 3 (ipykernel)",
   "language": "python",
   "name": "python3"
  },
  "language_info": {
   "codemirror_mode": {
    "name": "ipython",
    "version": 3
   },
   "file_extension": ".py",
   "mimetype": "text/x-python",
   "name": "python",
   "nbconvert_exporter": "python",
   "pygments_lexer": "ipython3",
   "version": "3.8.16"
  }
 },
 "nbformat": 4,
 "nbformat_minor": 5
}
